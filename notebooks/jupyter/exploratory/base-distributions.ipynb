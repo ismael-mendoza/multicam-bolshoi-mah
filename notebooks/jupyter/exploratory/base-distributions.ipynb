{
 "cells": [
  {
   "cell_type": "code",
   "execution_count": 10,
   "id": "d88895bd",
   "metadata": {
    "ExecuteTime": {
     "end_time": "2021-09-27T15:18:03.433723Z",
     "start_time": "2021-09-27T15:18:03.250962Z"
    }
   },
   "outputs": [
    {
     "name": "stdout",
     "output_type": "stream",
     "text": [
      "The autoreload extension is already loaded. To reload it, use:\n",
      "  %reload_ext autoreload\n",
      "Modules to reload:\n",
      "all-except-skipped\n",
      "\n",
      "Modules to skip:\n",
      "\n"
     ]
    }
   ],
   "source": [
    "%load_ext autoreload\n",
    "%autoreload 2\n",
    "%aimport"
   ]
  },
  {
   "cell_type": "code",
   "execution_count": 11,
   "id": "18c8e330",
   "metadata": {
    "ExecuteTime": {
     "end_time": "2021-09-27T15:18:03.454049Z",
     "start_time": "2021-09-27T15:18:03.435559Z"
    }
   },
   "outputs": [],
   "source": [
    "%matplotlib inline"
   ]
  },
  {
   "cell_type": "code",
   "execution_count": 12,
   "id": "60144541",
   "metadata": {
    "ExecuteTime": {
     "end_time": "2021-09-27T15:18:04.179348Z",
     "start_time": "2021-09-27T15:18:04.131798Z"
    }
   },
   "outputs": [],
   "source": [
    "from relaxed.plot_defaults import *"
   ]
  },
  {
   "cell_type": "code",
   "execution_count": 13,
   "id": "b2a03cdf",
   "metadata": {
    "ExecuteTime": {
     "end_time": "2021-09-27T15:18:04.388340Z",
     "start_time": "2021-09-27T15:18:04.339363Z"
    }
   },
   "outputs": [],
   "source": [
    "import astropy\n",
    "from pathlib import Path\n",
    "import numpy as np\n",
    "import matplotlib.pyplot as plt \n",
    "import re \n",
    "from astropy.table import Table\n",
    "import astropy.table\n",
    "import json\n",
    "from scipy import stats\n",
    "from copy import deepcopy\n",
    "import scipy\n",
    "import warnings\n",
    "\n",
    "import matplotlib as mpl\n",
    "from sklearn.model_selection import train_test_split\n"
   ]
  },
  {
   "cell_type": "code",
   "execution_count": 14,
   "id": "8b813b64",
   "metadata": {
    "ExecuteTime": {
     "end_time": "2021-09-27T15:18:04.569861Z",
     "start_time": "2021-09-27T15:18:04.524116Z"
    }
   },
   "outputs": [],
   "source": [
    "from relaxed.analysis import get_mah, add_box_indices, get_tt_indices\n",
    "from relaxed.models import training_suite\n",
    "from relaxed import halo_catalogs"
   ]
  },
  {
   "cell_type": "markdown",
   "id": "47c9a21b",
   "metadata": {},
   "source": [
    "# Data"
   ]
  },
  {
   "cell_type": "code",
   "execution_count": 15,
   "id": "6d14fc7c",
   "metadata": {
    "ExecuteTime": {
     "end_time": "2021-09-27T15:18:08.370605Z",
     "start_time": "2021-09-27T15:18:04.894885Z"
    }
   },
   "outputs": [],
   "source": [
    "mah_data = get_mah('m12', '../../../output/', cutoff_missing=0.05, cutoff_particle=0.05)"
   ]
  },
  {
   "cell_type": "code",
   "execution_count": 16,
   "id": "a10f9307",
   "metadata": {
    "ExecuteTime": {
     "end_time": "2021-09-27T15:18:08.797678Z",
     "start_time": "2021-09-27T15:18:08.741684Z"
    }
   },
   "outputs": [
    {
     "name": "stdout",
     "output_type": "stream",
     "text": [
      "(10000,) (10000,) (10000,) (10000, 100) (10000, 165) (165,) (100,)\n"
     ]
    }
   ],
   "source": [
    "# catalog\n",
    "cat = mah_data['cat']\n",
    "xoff = cat['xoff']\n",
    "cvir = cat['cvir']\n",
    "eta = cat['eta']\n",
    "ma = mah_data['ma']\n",
    "am = mah_data['am']\n",
    "\n",
    "scales = mah_data['scales']\n",
    "mass_bins = mah_data['mass_bins']\n",
    "print(cvir.shape, xoff.shape, eta.shape, am.shape, ma.shape, scales.shape, mass_bins.shape)"
   ]
  },
  {
   "cell_type": "code",
   "execution_count": 17,
   "id": "9b1ce9a4",
   "metadata": {
    "ExecuteTime": {
     "end_time": "2021-09-27T15:18:09.214392Z",
     "start_time": "2021-09-27T15:18:09.167312Z"
    }
   },
   "outputs": [],
   "source": [
    "# add box indices to cat for uncertainty purposes\n",
    "add_box_indices(cat)"
   ]
  },
  {
   "cell_type": "code",
   "execution_count": 18,
   "id": "d2a8e30e",
   "metadata": {
    "ExecuteTime": {
     "end_time": "2021-09-27T15:18:09.528738Z",
     "start_time": "2021-09-27T15:18:09.415598Z"
    }
   },
   "outputs": [
    {
     "name": "stdout",
     "output_type": "stream",
     "text": [
      "(7000,) (3000,)\n"
     ]
    }
   ],
   "source": [
    "# train/test split.\n",
    "train_idx, test_idx = get_tt_indices(len(cat), test_ratio=0.3)\n",
    "\n",
    "cat_train, am_train, cvir_train, xoff_train, eta_train =  (cat[train_idx], am[train_idx], cvir[train_idx], \n",
    "                                                          xoff[train_idx], eta[train_idx])\n",
    "cat_test, am_test, cvir_test, xoff_test, eta_test = (cat[test_idx], am[test_idx], cvir[test_idx], \n",
    "                                                          xoff[test_idx], eta[test_idx], )\n",
    "\n",
    "print(cvir_train.shape, cvir_test.shape)"
   ]
  },
  {
   "cell_type": "markdown",
   "id": "28eb7c06",
   "metadata": {},
   "source": [
    "# Base distributions for each variable"
   ]
  },
  {
   "cell_type": "code",
   "execution_count": 38,
   "id": "517039b7",
   "metadata": {
    "ExecuteTime": {
     "end_time": "2021-09-27T15:25:08.207879Z",
     "start_time": "2021-09-27T15:25:08.177654Z"
    }
   },
   "outputs": [],
   "source": [
    "def plot_lognormal(x, label=r'$c_{\\rm vir}$'):\n",
    "    plt.figure(figsize=(7,7))\n",
    "    mean, sigma = np.log(x).mean(), np.log(x).std()\n",
    "    samples = np.random.lognormal(mean=mean, sigma=sigma, size=len(x))\n",
    "\n",
    "    n, bins, patches = plt.hist(x, bins=30, histtype='step', color='g')\n",
    "    plt.hist(samples, bins=bins, histtype='step', color='b')\n",
    "\n",
    "    print(f\"{x.std():.3f}, {samples.std():.3f}\")\n",
    "\n",
    "    plt.xlabel(label)"
   ]
  },
  {
   "cell_type": "code",
   "execution_count": 39,
   "id": "ef7bdea3",
   "metadata": {
    "ExecuteTime": {
     "end_time": "2021-09-27T15:25:08.432095Z",
     "start_time": "2021-09-27T15:25:08.304712Z"
    }
   },
   "outputs": [
    {
     "name": "stdout",
     "output_type": "stream",
     "text": [
      "3.451, 4.024\n"
     ]
    },
    {
     "data": {
      "image/png": "[encoded data removed]",
      "text/plain": [
       "<Figure size 504x504 with 1 Axes>"
      ]
     },
     "metadata": {
      "needs_background": "light"
     },
     "output_type": "display_data"
    }
   ],
   "source": [
    "plot_lognormal(cvir)"
   ]
  },
  {
   "cell_type": "code",
   "execution_count": 40,
   "id": "217b26f0",
   "metadata": {
    "ExecuteTime": {
     "end_time": "2021-09-27T15:25:13.418255Z",
     "start_time": "2021-09-27T15:25:13.267196Z"
    }
   },
   "outputs": [
    {
     "name": "stdout",
     "output_type": "stream",
     "text": [
      "0.124, 0.111\n"
     ]
    },
    {
     "data": {
      "image/png": "[encoded data removed]",
      "text/plain": [
       "<Figure size 504x504 with 1 Axes>"
      ]
     },
     "metadata": {
      "needs_background": "light"
     },
     "output_type": "display_data"
    }
   ],
   "source": [
    "plot_lognormal(eta, label='$\\\\eta$')"
   ]
  },
  {
   "cell_type": "code",
   "execution_count": 42,
   "id": "2d3b8583",
   "metadata": {
    "ExecuteTime": {
     "end_time": "2021-09-27T15:25:19.517608Z",
     "start_time": "2021-09-27T15:25:19.296405Z"
    }
   },
   "outputs": [
    {
     "name": "stdout",
     "output_type": "stream",
     "text": [
      "9.855, 9.881\n"
     ]
    },
    {
     "data": {
      "image/png": "[encoded data removed]",
      "text/plain": [
       "<Figure size 504x504 with 1 Axes>"
      ]
     },
     "metadata": {
      "needs_background": "light"
     },
     "output_type": "display_data"
    }
   ],
   "source": [
    "plot_lognormal(xoff, label='$x_{\\\\rm off}$')"
   ]
  },
  {
   "cell_type": "code",
   "execution_count": null,
   "id": "09acd94e",
   "metadata": {},
   "outputs": [],
   "source": []
  }
 ],
 "metadata": {
  "kernelspec": {
   "display_name": "Python 3",
   "language": "python",
   "name": "python3"
  },
  "language_info": {
   "codemirror_mode": {
    "name": "ipython",
    "version": 3
   },
   "file_extension": ".py",
   "mimetype": "text/x-python",
   "name": "python",
   "nbconvert_exporter": "python",
   "pygments_lexer": "ipython3",
   "version": "3.8.8"
  },
  "toc": {
   "base_numbering": 1,
   "nav_menu": {},
   "number_sections": true,
   "sideBar": true,
   "skip_h1_title": false,
   "title_cell": "Table of Contents",
   "title_sidebar": "Contents",
   "toc_cell": false,
   "toc_position": {
    "height": "calc(100% - 180px)",
    "left": "10px",
    "top": "150px",
    "width": "202.69021606445312px"
   },
   "toc_section_display": true,
   "toc_window_display": true
  }
 },
 "nbformat": 4,
 "nbformat_minor": 5
}
