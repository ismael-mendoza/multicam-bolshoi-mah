{
 "cells": [
  {
   "cell_type": "code",
   "execution_count": 240,
   "id": "4da32725",
   "metadata": {
    "ExecuteTime": {
     "end_time": "2021-12-13T15:29:55.022262Z",
     "start_time": "2021-12-13T15:29:54.942112Z"
    }
   },
   "outputs": [
    {
     "name": "stdout",
     "output_type": "stream",
     "text": [
      "The autoreload extension is already loaded. To reload it, use:\n",
      "  %reload_ext autoreload\n",
      "Modules to reload:\n",
      "all-except-skipped\n",
      "\n",
      "Modules to skip:\n",
      "\n"
     ]
    }
   ],
   "source": [
    "%load_ext autoreload\n",
    "%autoreload 2\n",
    "%aimport"
   ]
  },
  {
   "cell_type": "code",
   "execution_count": 241,
   "id": "89ef7632",
   "metadata": {
    "ExecuteTime": {
     "end_time": "2021-12-13T15:29:55.044170Z",
     "start_time": "2021-12-13T15:29:55.023985Z"
    }
   },
   "outputs": [],
   "source": [
    "%matplotlib inline"
   ]
  },
  {
   "cell_type": "code",
   "execution_count": 242,
   "id": "795e06a5",
   "metadata": {
    "ExecuteTime": {
     "end_time": "2021-12-13T15:29:55.198193Z",
     "start_time": "2021-12-13T15:29:55.173520Z"
    }
   },
   "outputs": [],
   "source": [
    "from relaxed.plot_defaults import *"
   ]
  },
  {
   "cell_type": "code",
   "execution_count": 243,
   "id": "02b9c9f1",
   "metadata": {
    "ExecuteTime": {
     "end_time": "2021-12-13T15:29:55.372450Z",
     "start_time": "2021-12-13T15:29:55.334814Z"
    }
   },
   "outputs": [],
   "source": [
    "import astropy\n",
    "from pathlib import Path\n",
    "import numpy as np\n",
    "import matplotlib.pyplot as plt \n",
    "import re \n",
    "from astropy.table import Table\n",
    "import astropy.table\n",
    "import json\n",
    "from scipy import stats\n",
    "from copy import deepcopy\n",
    "import scipy\n",
    "import warnings\n",
    "\n",
    "import matplotlib as mpl\n",
    "from sklearn.model_selection import train_test_split\n"
   ]
  },
  {
   "cell_type": "code",
   "execution_count": 244,
   "id": "e75b3b72",
   "metadata": {
    "ExecuteTime": {
     "end_time": "2021-12-13T15:29:55.535163Z",
     "start_time": "2021-12-13T15:29:55.490620Z"
    }
   },
   "outputs": [],
   "source": [
    "from relaxed.analysis import get_mah, add_box_indices, get_tt_indices\n",
    "from relaxed.models import training_suite\n",
    "from relaxed import halo_catalogs"
   ]
  },
  {
   "cell_type": "markdown",
   "id": "4151dd63",
   "metadata": {},
   "source": [
    "# Data"
   ]
  },
  {
   "cell_type": "code",
   "execution_count": 245,
   "id": "189c5995",
   "metadata": {
    "ExecuteTime": {
     "end_time": "2021-12-13T15:29:58.561211Z",
     "start_time": "2021-12-13T15:29:55.943159Z"
    }
   },
   "outputs": [],
   "source": [
    "mah_data = get_mah('m12', '../../../output/', cutoff_missing=0.05, cutoff_particle=0.05)"
   ]
  },
  {
   "cell_type": "code",
   "execution_count": 246,
   "id": "a205b53f",
   "metadata": {
    "ExecuteTime": {
     "end_time": "2021-12-13T15:29:58.587895Z",
     "start_time": "2021-12-13T15:29:58.562459Z"
    }
   },
   "outputs": [
    {
     "name": "stdout",
     "output_type": "stream",
     "text": [
      "(10000,) (10000,) (10000,) (10000, 100) (10000, 165) (165,) (100,)\n"
     ]
    }
   ],
   "source": [
    "# catalog\n",
    "cat = mah_data['cat']\n",
    "xoff = cat['xoff']\n",
    "cvir = cat['cvir']\n",
    "eta = cat['eta']\n",
    "ma = mah_data['ma']\n",
    "am = mah_data['am']\n",
    "\n",
    "scales = mah_data['scales']\n",
    "mass_bins = mah_data['mass_bins']\n",
    "print(cvir.shape, xoff.shape, eta.shape, am.shape, ma.shape, scales.shape, mass_bins.shape)"
   ]
  },
  {
   "cell_type": "code",
   "execution_count": 247,
   "id": "0eddfb8e",
   "metadata": {
    "ExecuteTime": {
     "end_time": "2021-12-13T15:29:58.610682Z",
     "start_time": "2021-12-13T15:29:58.589114Z"
    }
   },
   "outputs": [],
   "source": [
    "# add box indices to cat for uncertainty purposes\n",
    "add_box_indices(cat)"
   ]
  },
  {
   "cell_type": "code",
   "execution_count": 248,
   "id": "8d6bf49e",
   "metadata": {
    "ExecuteTime": {
     "end_time": "2021-12-13T15:29:58.694459Z",
     "start_time": "2021-12-13T15:29:58.612244Z"
    }
   },
   "outputs": [
    {
     "name": "stdout",
     "output_type": "stream",
     "text": [
      "(7000,) (3000,)\n"
     ]
    }
   ],
   "source": [
    "# train/test split\n",
    "train_idx, test_idx = get_tt_indices(len(cat), test_ratio=0.3)\n",
    "cat_train, am_train, cvir_train, xoff_train, eta_train = (cat[train_idx], am[train_idx], cvir[train_idx], \n",
    "                                                           xoff[train_idx], eta[train_idx])\n",
    "cat_test, am_test, cvir_test, xoff_test, eta_test = (cat[test_idx], am[test_idx], cvir[test_idx], \n",
    "                                                     xoff[test_idx], eta[test_idx])\n",
    "print(cvir_train.shape, cvir_test.shape)"
   ]
  },
  {
   "cell_type": "markdown",
   "id": "070eb9d9",
   "metadata": {},
   "source": [
    "# Train"
   ]
  },
  {
   "cell_type": "code",
   "execution_count": 254,
   "id": "7880da2a",
   "metadata": {
    "ExecuteTime": {
     "end_time": "2021-12-13T15:32:57.422994Z",
     "start_time": "2021-12-13T15:32:05.266471Z"
    }
   },
   "outputs": [],
   "source": [
    "# all cvir models are specified in data.\n",
    "\n",
    "# prior for bayesian models\n",
    "mu0 = np.zeros((am_train.shape[1] + 1, 1))\n",
    "sigma0 = np.eye(am_train.shape[1] + 1)\n",
    "noise_var = 0.45\n",
    "\n",
    "data = {\n",
    "    'cam_1/2': {\n",
    "        'xy': (am_train, cvir_train), 'n_features': am_train.shape[1], 'n_targets': 1, 'model': 'cam',\n",
    "        'kwargs': {'mass_bins': mass_bins, 'mbin': 0.50, 'cam_order': -1}},\n",
    "    'lognormal': {\n",
    "        'xy': (am_train, cvir_train), 'n_features': am_train.shape[1], 'n_targets': 1, 'model': 'lognormal', 'kwargs': {}\n",
    "    },\n",
    "    'blinear': {\n",
    "        'xy': (am, cvir), 'n_features': am_train.shape[1], 'n_targets': 1, 'model': 'bayes_linear', \n",
    "        'kwargs': {'mu0':mu0, 'sigma0':sigma0, 'noise_var':noise_var, 'to_marginal_normal':True , 'use_multicam': False},\n",
    "    },\n",
    "}\n",
    "cvir_models = training_suite(data)"
   ]
  },
  {
   "cell_type": "markdown",
   "id": "ae727bd9",
   "metadata": {},
   "source": [
    "# Results"
   ]
  },
  {
   "cell_type": "code",
   "execution_count": 255,
   "id": "32e62d51",
   "metadata": {
    "ExecuteTime": {
     "end_time": "2021-12-13T15:32:57.475940Z",
     "start_time": "2021-12-13T15:32:57.425667Z"
    }
   },
   "outputs": [],
   "source": [
    "from relaxed.analysis import vol_jacknife_err\n",
    "\n",
    "def summary_statistics(model, _x_test, _y_test, box_keep = None):\n",
    "    if box_keep is None:\n",
    "        box_keep = np.ones(_x_test.shape[0]).astype(bool)\n",
    "    \n",
    "    x_test = _x_test[box_keep]\n",
    "    y_test = _y_test[box_keep].reshape(-1)\n",
    "    \n",
    "    y_pred = model.predict(x_test).reshape(-1)\n",
    "    x = (y_pred - y_test) / np.std(y_test) # normalize\n",
    "\n",
    "    return {'mu': np.mean(x), \n",
    "            'med': np.median(x),\n",
    "            'sigma_ratio': np.std(y_pred) / np.std(y_test), \n",
    "            'sigma_rratio': np.std(y_pred - y_test) / np.std(y_test), \n",
    "            'corr': scipy.stats.spearmanr(y_pred, y_test)[0],\n",
    "            'scatter': np.std(x)\n",
    "           }\n",
    "\n",
    "\n",
    "# test_data is a dictionary containing the information for testing each model.\n",
    "def combined_histogram(test_data: dict, y_test, trained_models, n_bins=31, latex_var=\"\", \n",
    "                       xrange=(-3, 3), figsize=(20, 10), legend_size=20, log=False, \n",
    "                       calc_errs = False, cat_test=None, draw_vline=True):\n",
    "    fig, ax = plt.subplots(1, 1, figsize=figsize)\n",
    "    bins = None\n",
    "    for name, (x_test, label, color) in test_data.items():\n",
    "        model = trained_models[name]\n",
    "        assert model.n_targets == 1\n",
    "        y_pred = model.predict(x_test).reshape(-1)\n",
    "        x = (y_pred - y_test) / np.std(y_test) # normalize\n",
    "        summ = summary_statistics(model, x_test, y_test)\n",
    "          \n",
    "        if bins is None: \n",
    "            bins = get_bins(x, range=xrange, bins=n_bins) # share bins between all histograms.\n",
    "      \n",
    "        label1 = f\"{label}, $(\\\\rho, \\\\mu, \\\\mu', \\\\sigma_p / \\\\sigma_t, \\\\sigma_x) =\"\n",
    "        label2 = f\"({summ['corr']:.2f}, {summ['mu']:.2f}, {summ['med']:.2f}, {summ['sigma_ratio']:.2f}, {summ['scatter']:.2f})$\"\n",
    "\n",
    "        # calculate uncertainties\n",
    "        if calc_errs:\n",
    "            assert cat_test is not None\n",
    "            err = vol_jacknife_err(summary_statistics, cat_test, model, x_test, y_test, mode='dict')\n",
    "            label2 = (f\"({summ['corr']:.2f} \\\\pm {err['corr']:.2f}, {summ['mu']:.2f} \\\\pm {err['mu']:.2f},\"\n",
    "                     f\"{summ['med']:.2f} \\\\pm {err['med']:.2f}, {summ['sigma_ratio']:.2f} \\\\pm {err['sigma_ratio']:.2f}, {summ['scatter']:.2f} \\\\pm {err['scatter']:.2f})$\")\n",
    "        label = label1 + label2\n",
    "\n",
    "        draw_histogram(ax, x, vline=summ['mu']if draw_vline else None, label=label, color=color, bins=bins, density=False)\n",
    "        \n",
    "    ax.set_ylabel(r\"\\rm Counts\", size=28)\n",
    "    \n",
    "    v_pred = latex_var + r\"^{\\rm pred}\"\n",
    "    v_test = latex_var + r\"^{\\rm true}\"\n",
    "    \n",
    "    ax.set_xlabel(f\"$({v_pred} - {v_test}) / \\\\sigma({v_test})$\", size=28)\n",
    "    \n",
    "    if log: \n",
    "        ax.set_yscale('log')\n",
    "        \n",
    "    if draw_vline:\n",
    "        ax.axvline(0, color='k', ls='--')\n",
    "\n",
    "\n",
    "        \n",
    "    # format legend\n",
    "    ax.legend(loc='lower left', prop={'size':legend_size}, bbox_to_anchor=(0., 1.02, 1., .202), \n",
    "              ncol=1,  borderaxespad=0.)"
   ]
  },
  {
   "cell_type": "code",
   "execution_count": 256,
   "id": "3c7b04f7",
   "metadata": {
    "ExecuteTime": {
     "end_time": "2021-12-13T15:32:58.617829Z",
     "start_time": "2021-12-13T15:32:57.477451Z"
    }
   },
   "outputs": [
    {
     "data": {
      "image/png": "[encoded data removed]",
      "text/plain": [
       "<Figure size 1296x720 with 1 Axes>"
      ]
     },
     "metadata": {
      "needs_background": "light"
     },
     "output_type": "display_data"
    }
   ],
   "source": [
    "test_data = {'cam_1/2': (am_test, \"\\\\rm CAM $a_{1/2}$\", 'r'),\n",
    "            'blinear': (am_test, \"\\\\rm Bayesian Linear Regression\", 'm'),\n",
    "            'lognormal': (am_test, \"\\\\rm Lognormal Samples\", 'orange'),\n",
    "            }\n",
    "\n",
    "combined_histogram(test_data, cvir_test, cvir_models, latex_var=r'c_{\\rm vir}', n_bins=51, xrange=(-3, 3), \n",
    "                   calc_errs=False, cat_test=cat_test, figsize=(18, 10), draw_vline=False)"
   ]
  },
  {
   "cell_type": "code",
   "execution_count": 262,
   "id": "5cfc772f",
   "metadata": {
    "ExecuteTime": {
     "end_time": "2021-12-13T15:33:26.243966Z",
     "start_time": "2021-12-13T15:33:23.472425Z"
    }
   },
   "outputs": [
    {
     "name": "stdout",
     "output_type": "stream",
     "text": [
      "3.818117521782076\n",
      "9.263970348150933\n",
      "3.451122222530739\n",
      "9.215915499544144\n"
     ]
    }
   ],
   "source": [
    "cvir_samples = cvir_models['blinear'].sample(am, 1000)\n",
    "samples = cvir_samples[:, :, :]\n",
    "\n",
    "print(np.std(samples))\n",
    "print(np.mean(samples))\n",
    "print(np.std(cvir))\n",
    "print(np.mean(cvir))"
   ]
  },
  {
   "cell_type": "code",
   "execution_count": 258,
   "id": "803386d8",
   "metadata": {
    "ExecuteTime": {
     "end_time": "2021-12-13T15:33:01.495134Z",
     "start_time": "2021-12-13T15:33:01.380239Z"
    }
   },
   "outputs": [
    {
     "data": {
      "text/plain": [
       "(array([4.930e+02, 1.859e+03, 3.655e+03, 2.884e+03, 8.580e+02, 1.500e+02,\n",
       "        4.700e+01, 2.100e+01, 6.000e+00, 8.000e+00, 6.000e+00, 5.000e+00,\n",
       "        3.000e+00, 1.000e+00, 1.000e+00, 0.000e+00, 0.000e+00, 0.000e+00,\n",
       "        0.000e+00, 0.000e+00, 0.000e+00]),\n",
       " array([ 1.01421898,  3.97458955,  6.93496012,  9.89533069, 12.85570126,\n",
       "        15.81607183, 18.7764424 , 21.73681297, 24.69718354, 27.65755411,\n",
       "        30.61792468, 33.57829525, 36.53866583, 39.4990364 , 42.45940697,\n",
       "        45.41977754, 48.38014811, 51.34051868, 54.30088925, 57.26125982,\n",
       "        60.22163039, 63.18200096]),\n",
       " [<matplotlib.patches.Polygon at 0x7f9930be7400>])"
      ]
     },
     "execution_count": 258,
     "metadata": {},
     "output_type": "execute_result"
    },
    {
     "data": {
      "image/png": "[encoded data removed]",
      "text/plain": [
       "<Figure size 504x504 with 1 Axes>"
      ]
     },
     "metadata": {
      "needs_background": "light"
     },
     "output_type": "display_data"
    }
   ],
   "source": [
    "fig = plt.figure(figsize=(7,7))\n",
    "n, bins, _ = plt.hist(samples[:, 0, 0], bins=21, histtype='step', color='r')\n",
    "plt.hist(cvir, bins=bins, histtype='step', color='b')"
   ]
  },
  {
   "cell_type": "code",
   "execution_count": 76,
   "id": "bb02c7d9",
   "metadata": {
    "ExecuteTime": {
     "end_time": "2021-12-12T22:40:19.720584Z",
     "start_time": "2021-12-12T22:40:10.842500Z"
    }
   },
   "outputs": [],
   "source": [
    "cvir = cvir.reshape(-1, 1)\n",
    "\n",
    "# transform data to gaussian space\n",
    "qt_x = QuantileTransformer(n_quantiles=len(am), output_distribution=\"normal\").fit(am)\n",
    "x = qt_x.transform(am)\n",
    "\n",
    "qt_y = QuantileTransformer(n_quantiles=len(cvir), output_distribution=\"normal\").fit(cvir)\n",
    "y = qt_y.transform(cvir)"
   ]
  },
  {
   "cell_type": "code",
   "execution_count": 83,
   "id": "10a4dafc",
   "metadata": {
    "ExecuteTime": {
     "end_time": "2021-12-12T22:50:31.053581Z",
     "start_time": "2021-12-12T22:50:30.992130Z"
    }
   },
   "outputs": [
    {
     "ename": "ValueError",
     "evalue": "Found array with dim 3. Estimator expected <= 2.",
     "output_type": "error",
     "traceback": [
      "\u001b[0;31m---------------------------------------------------------------------------\u001b[0m",
      "\u001b[0;31mValueError\u001b[0m                                Traceback (most recent call last)",
      "\u001b[0;32m/var/folders/yl/5w7yl6bn1tsc5fjrdtsrsjhh0000gn/T/ipykernel_1746/2803484160.py\u001b[0m in \u001b[0;36m<module>\u001b[0;34m\u001b[0m\n\u001b[0;32m----> 1\u001b[0;31m \u001b[0mqt_x\u001b[0m\u001b[0;34m.\u001b[0m\u001b[0mtransform\u001b[0m\u001b[0;34m(\u001b[0m\u001b[0mam\u001b[0m\u001b[0;34m.\u001b[0m\u001b[0mreshape\u001b[0m\u001b[0;34m(\u001b[0m\u001b[0;34m-\u001b[0m\u001b[0;36m1\u001b[0m\u001b[0;34m,\u001b[0m \u001b[0;36m1\u001b[0m\u001b[0;34m,\u001b[0m \u001b[0;36m100\u001b[0m\u001b[0;34m)\u001b[0m\u001b[0;34m)\u001b[0m\u001b[0;34m\u001b[0m\u001b[0;34m\u001b[0m\u001b[0m\n\u001b[0m",
      "\u001b[0;32m~/miniconda3/envs/relaxed/lib/python3.8/site-packages/sklearn/preprocessing/_data.py\u001b[0m in \u001b[0;36mtransform\u001b[0;34m(self, X)\u001b[0m\n\u001b[1;32m   2770\u001b[0m         \"\"\"\n\u001b[1;32m   2771\u001b[0m         \u001b[0mcheck_is_fitted\u001b[0m\u001b[0;34m(\u001b[0m\u001b[0mself\u001b[0m\u001b[0;34m)\u001b[0m\u001b[0;34m\u001b[0m\u001b[0;34m\u001b[0m\u001b[0m\n\u001b[0;32m-> 2772\u001b[0;31m         \u001b[0mX\u001b[0m \u001b[0;34m=\u001b[0m \u001b[0mself\u001b[0m\u001b[0;34m.\u001b[0m\u001b[0m_check_inputs\u001b[0m\u001b[0;34m(\u001b[0m\u001b[0mX\u001b[0m\u001b[0;34m,\u001b[0m \u001b[0min_fit\u001b[0m\u001b[0;34m=\u001b[0m\u001b[0;32mFalse\u001b[0m\u001b[0;34m,\u001b[0m \u001b[0mcopy\u001b[0m\u001b[0;34m=\u001b[0m\u001b[0mself\u001b[0m\u001b[0;34m.\u001b[0m\u001b[0mcopy\u001b[0m\u001b[0;34m)\u001b[0m\u001b[0;34m\u001b[0m\u001b[0;34m\u001b[0m\u001b[0m\n\u001b[0m\u001b[1;32m   2773\u001b[0m \u001b[0;34m\u001b[0m\u001b[0m\n\u001b[1;32m   2774\u001b[0m         \u001b[0;32mreturn\u001b[0m \u001b[0mself\u001b[0m\u001b[0;34m.\u001b[0m\u001b[0m_transform\u001b[0m\u001b[0;34m(\u001b[0m\u001b[0mX\u001b[0m\u001b[0;34m,\u001b[0m \u001b[0minverse\u001b[0m\u001b[0;34m=\u001b[0m\u001b[0;32mFalse\u001b[0m\u001b[0;34m)\u001b[0m\u001b[0;34m\u001b[0m\u001b[0;34m\u001b[0m\u001b[0m\n",
      "\u001b[0;32m~/miniconda3/envs/relaxed/lib/python3.8/site-packages/sklearn/preprocessing/_data.py\u001b[0m in \u001b[0;36m_check_inputs\u001b[0;34m(self, X, in_fit, accept_sparse_negative, copy)\u001b[0m\n\u001b[1;32m   2700\u001b[0m                       copy=False):\n\u001b[1;32m   2701\u001b[0m         \u001b[0;34m\"\"\"Check inputs before fit and transform.\"\"\"\u001b[0m\u001b[0;34m\u001b[0m\u001b[0;34m\u001b[0m\u001b[0m\n\u001b[0;32m-> 2702\u001b[0;31m         X = self._validate_data(X, reset=in_fit,\n\u001b[0m\u001b[1;32m   2703\u001b[0m                                 \u001b[0maccept_sparse\u001b[0m\u001b[0;34m=\u001b[0m\u001b[0;34m'csc'\u001b[0m\u001b[0;34m,\u001b[0m \u001b[0mcopy\u001b[0m\u001b[0;34m=\u001b[0m\u001b[0mcopy\u001b[0m\u001b[0;34m,\u001b[0m\u001b[0;34m\u001b[0m\u001b[0;34m\u001b[0m\u001b[0m\n\u001b[1;32m   2704\u001b[0m                                 \u001b[0mdtype\u001b[0m\u001b[0;34m=\u001b[0m\u001b[0mFLOAT_DTYPES\u001b[0m\u001b[0;34m,\u001b[0m\u001b[0;34m\u001b[0m\u001b[0;34m\u001b[0m\u001b[0m\n",
      "\u001b[0;32m~/miniconda3/envs/relaxed/lib/python3.8/site-packages/sklearn/base.py\u001b[0m in \u001b[0;36m_validate_data\u001b[0;34m(self, X, y, reset, validate_separately, **check_params)\u001b[0m\n\u001b[1;32m    419\u001b[0m             \u001b[0mout\u001b[0m \u001b[0;34m=\u001b[0m \u001b[0mX\u001b[0m\u001b[0;34m\u001b[0m\u001b[0;34m\u001b[0m\u001b[0m\n\u001b[1;32m    420\u001b[0m         \u001b[0;32melif\u001b[0m \u001b[0misinstance\u001b[0m\u001b[0;34m(\u001b[0m\u001b[0my\u001b[0m\u001b[0;34m,\u001b[0m \u001b[0mstr\u001b[0m\u001b[0;34m)\u001b[0m \u001b[0;32mand\u001b[0m \u001b[0my\u001b[0m \u001b[0;34m==\u001b[0m \u001b[0;34m'no_validation'\u001b[0m\u001b[0;34m:\u001b[0m\u001b[0;34m\u001b[0m\u001b[0;34m\u001b[0m\u001b[0m\n\u001b[0;32m--> 421\u001b[0;31m             \u001b[0mX\u001b[0m \u001b[0;34m=\u001b[0m \u001b[0mcheck_array\u001b[0m\u001b[0;34m(\u001b[0m\u001b[0mX\u001b[0m\u001b[0;34m,\u001b[0m \u001b[0;34m**\u001b[0m\u001b[0mcheck_params\u001b[0m\u001b[0;34m)\u001b[0m\u001b[0;34m\u001b[0m\u001b[0;34m\u001b[0m\u001b[0m\n\u001b[0m\u001b[1;32m    422\u001b[0m             \u001b[0mout\u001b[0m \u001b[0;34m=\u001b[0m \u001b[0mX\u001b[0m\u001b[0;34m\u001b[0m\u001b[0;34m\u001b[0m\u001b[0m\n\u001b[1;32m    423\u001b[0m         \u001b[0;32melse\u001b[0m\u001b[0;34m:\u001b[0m\u001b[0;34m\u001b[0m\u001b[0;34m\u001b[0m\u001b[0m\n",
      "\u001b[0;32m~/miniconda3/envs/relaxed/lib/python3.8/site-packages/sklearn/utils/validation.py\u001b[0m in \u001b[0;36minner_f\u001b[0;34m(*args, **kwargs)\u001b[0m\n\u001b[1;32m     61\u001b[0m             \u001b[0mextra_args\u001b[0m \u001b[0;34m=\u001b[0m \u001b[0mlen\u001b[0m\u001b[0;34m(\u001b[0m\u001b[0margs\u001b[0m\u001b[0;34m)\u001b[0m \u001b[0;34m-\u001b[0m \u001b[0mlen\u001b[0m\u001b[0;34m(\u001b[0m\u001b[0mall_args\u001b[0m\u001b[0;34m)\u001b[0m\u001b[0;34m\u001b[0m\u001b[0;34m\u001b[0m\u001b[0m\n\u001b[1;32m     62\u001b[0m             \u001b[0;32mif\u001b[0m \u001b[0mextra_args\u001b[0m \u001b[0;34m<=\u001b[0m \u001b[0;36m0\u001b[0m\u001b[0;34m:\u001b[0m\u001b[0;34m\u001b[0m\u001b[0;34m\u001b[0m\u001b[0m\n\u001b[0;32m---> 63\u001b[0;31m                 \u001b[0;32mreturn\u001b[0m \u001b[0mf\u001b[0m\u001b[0;34m(\u001b[0m\u001b[0;34m*\u001b[0m\u001b[0margs\u001b[0m\u001b[0;34m,\u001b[0m \u001b[0;34m**\u001b[0m\u001b[0mkwargs\u001b[0m\u001b[0;34m)\u001b[0m\u001b[0;34m\u001b[0m\u001b[0;34m\u001b[0m\u001b[0m\n\u001b[0m\u001b[1;32m     64\u001b[0m \u001b[0;34m\u001b[0m\u001b[0m\n\u001b[1;32m     65\u001b[0m             \u001b[0;31m# extra_args > 0\u001b[0m\u001b[0;34m\u001b[0m\u001b[0;34m\u001b[0m\u001b[0;34m\u001b[0m\u001b[0m\n",
      "\u001b[0;32m~/miniconda3/envs/relaxed/lib/python3.8/site-packages/sklearn/utils/validation.py\u001b[0m in \u001b[0;36mcheck_array\u001b[0;34m(array, accept_sparse, accept_large_sparse, dtype, order, copy, force_all_finite, ensure_2d, allow_nd, ensure_min_samples, ensure_min_features, estimator)\u001b[0m\n\u001b[1;32m    714\u001b[0m                     \"into decimal numbers with dtype='numeric'\") from e\n\u001b[1;32m    715\u001b[0m         \u001b[0;32mif\u001b[0m \u001b[0;32mnot\u001b[0m \u001b[0mallow_nd\u001b[0m \u001b[0;32mand\u001b[0m \u001b[0marray\u001b[0m\u001b[0;34m.\u001b[0m\u001b[0mndim\u001b[0m \u001b[0;34m>=\u001b[0m \u001b[0;36m3\u001b[0m\u001b[0;34m:\u001b[0m\u001b[0;34m\u001b[0m\u001b[0;34m\u001b[0m\u001b[0m\n\u001b[0;32m--> 716\u001b[0;31m             raise ValueError(\"Found array with dim %d. %s expected <= 2.\"\n\u001b[0m\u001b[1;32m    717\u001b[0m                              % (array.ndim, estimator_name))\n\u001b[1;32m    718\u001b[0m \u001b[0;34m\u001b[0m\u001b[0m\n",
      "\u001b[0;31mValueError\u001b[0m: Found array with dim 3. Estimator expected <= 2."
     ]
    }
   ],
   "source": [
    "qt_x.transform(am.reshape(-1, 1, 100))"
   ]
  },
  {
   "cell_type": "code",
   "execution_count": 77,
   "id": "3f25cd18",
   "metadata": {
    "ExecuteTime": {
     "end_time": "2021-12-12T22:40:19.892483Z",
     "start_time": "2021-12-12T22:40:19.721383Z"
    }
   },
   "outputs": [
    {
     "data": {
      "text/plain": [
       "(array([1.000e+00, 0.000e+00, 1.000e+00, 5.000e+00, 2.600e+01, 9.700e+01,\n",
       "        2.860e+02, 6.630e+02, 1.209e+03, 1.734e+03, 1.956e+03, 1.734e+03,\n",
       "        1.209e+03, 6.630e+02, 2.860e+02, 9.700e+01, 2.600e+01, 5.000e+00,\n",
       "        1.000e+00, 0.000e+00, 1.000e+00]),\n",
       " array([-5.19933758, -4.70416257, -4.20898757, -3.71381256, -3.21863755,\n",
       "        -2.72346254, -2.22828754, -1.73311253, -1.23793752, -0.74276251,\n",
       "        -0.2475875 ,  0.2475875 ,  0.74276251,  1.23793752,  1.73311253,\n",
       "         2.22828754,  2.72346254,  3.21863755,  3.71381256,  4.20898757,\n",
       "         4.70416257,  5.19933758]),\n",
       " <BarContainer object of 21 artists>)"
      ]
     },
     "execution_count": 77,
     "metadata": {},
     "output_type": "execute_result"
    },
    {
     "data": {
      "image/png": "[encoded data removed]",
      "text/plain": [
       "<Figure size 720x720 with 1 Axes>"
      ]
     },
     "metadata": {
      "needs_background": "light"
     },
     "output_type": "display_data"
    }
   ],
   "source": [
    "# check distribution is normal \n",
    "plt.hist(y[:, 0], bins=21)"
   ]
  },
  {
   "cell_type": "code",
   "execution_count": 39,
   "id": "3df61587",
   "metadata": {
    "ExecuteTime": {
     "end_time": "2021-12-12T16:17:54.226762Z",
     "start_time": "2021-12-12T16:17:54.182388Z"
    }
   },
   "outputs": [
    {
     "data": {
      "text/plain": [
       "(10000, 100)"
      ]
     },
     "execution_count": 39,
     "metadata": {},
     "output_type": "execute_result"
    }
   ],
   "source": [
    "x.shape"
   ]
  },
  {
   "cell_type": "code",
   "execution_count": 50,
   "id": "a08567cc",
   "metadata": {
    "ExecuteTime": {
     "end_time": "2021-12-12T16:21:54.709192Z",
     "start_time": "2021-12-12T16:21:54.656737Z"
    }
   },
   "outputs": [],
   "source": [
    "A = np.hstack([np.ones((x.shape[0], 1)), x])\n",
    "mu0 = np.zeros((A.shape[1],))\n",
    "sigma0 = np.eye(A.shape[1])\n",
    "noise_var = 0.5 \n"
   ]
  },
  {
   "cell_type": "code",
   "execution_count": 51,
   "id": "1538f7a8",
   "metadata": {
    "ExecuteTime": {
     "end_time": "2021-12-12T16:23:06.202573Z",
     "start_time": "2021-12-12T16:21:55.009648Z"
    }
   },
   "outputs": [],
   "source": [
    "mu, sigma = gaussian_inverse_problem(y, sigma0, A, noise_var)"
   ]
  },
  {
   "cell_type": "code",
   "execution_count": 70,
   "id": "8f48dcdc",
   "metadata": {
    "ExecuteTime": {
     "end_time": "2021-12-12T16:38:03.994133Z",
     "start_time": "2021-12-12T16:38:03.944940Z"
    }
   },
   "outputs": [],
   "source": [
    "y_rand = np.random.randn(y.shape[0],1)"
   ]
  },
  {
   "cell_type": "code",
   "execution_count": 71,
   "id": "69473841",
   "metadata": {
    "ExecuteTime": {
     "end_time": "2021-12-12T16:38:04.622577Z",
     "start_time": "2021-12-12T16:38:04.576679Z"
    }
   },
   "outputs": [
    {
     "data": {
      "text/plain": [
       "(10000, 1)"
      ]
     },
     "execution_count": 71,
     "metadata": {},
     "output_type": "execute_result"
    }
   ],
   "source": [
    "y_rand.shape"
   ]
  },
  {
   "cell_type": "code",
   "execution_count": 74,
   "id": "e48e23bd",
   "metadata": {
    "ExecuteTime": {
     "end_time": "2021-12-12T16:40:31.131481Z",
     "start_time": "2021-12-12T16:40:31.085140Z"
    }
   },
   "outputs": [
    {
     "name": "stdout",
     "output_type": "stream",
     "text": [
      "1.001786341490817\n",
      "0.8105909828580602\n"
     ]
    }
   ],
   "source": [
    "print(np.std(y))\n",
    "print(np.std(A.dot(mu)))"
   ]
  },
  {
   "cell_type": "code",
   "execution_count": 72,
   "id": "72f563c5",
   "metadata": {
    "ExecuteTime": {
     "end_time": "2021-12-12T16:38:05.435407Z",
     "start_time": "2021-12-12T16:38:05.274585Z"
    }
   },
   "outputs": [
    {
     "data": {
      "text/plain": [
       "(array([2.000e+00, 2.000e+00, 7.000e+00, 1.000e+01, 3.400e+01, 1.820e+02,\n",
       "        8.660e+02, 2.460e+03, 3.027e+03, 2.124e+03, 8.650e+02, 2.490e+02,\n",
       "        9.600e+01, 4.200e+01, 1.800e+01, 4.000e+00, 7.000e+00, 3.000e+00,\n",
       "        1.000e+00, 0.000e+00, 1.000e+00]),\n",
       " array([-3.52559338, -3.11300607, -2.70041877, -2.28783146, -1.87524415,\n",
       "        -1.46265684, -1.05006954, -0.63748223, -0.22489492,  0.18769239,\n",
       "         0.6002797 ,  1.012867  ,  1.42545431,  1.83804162,  2.25062893,\n",
       "         2.66321623,  3.07580354,  3.48839085,  3.90097816,  4.31356546,\n",
       "         4.72615277,  5.13874008]),\n",
       " [<matplotlib.patches.Polygon at 0x7f98f0e68190>])"
      ]
     },
     "execution_count": 72,
     "metadata": {},
     "output_type": "execute_result"
    },
    {
     "data": {
      "image/png": "[encoded data removed]",
      "text/plain": [
       "<Figure size 720x720 with 1 Axes>"
      ]
     },
     "metadata": {
      "needs_background": "light"
     },
     "output_type": "display_data"
    }
   ],
   "source": [
    "plt.hist((y - y_rand) / np.std(y), bins=21, histtype='step', color='orange')\n",
    "plt.hist((y - A.dot(mu)) / np.std(y), bins=21, histtype='step')"
   ]
  },
  {
   "cell_type": "code",
   "execution_count": 26,
   "id": "c8a50282",
   "metadata": {
    "ExecuteTime": {
     "end_time": "2021-12-12T14:28:24.054159Z",
     "start_time": "2021-12-12T14:28:23.880048Z"
    }
   },
   "outputs": [
    {
     "data": {
      "text/plain": [
       "[<matplotlib.lines.Line2D at 0x7f98f021ca90>]"
      ]
     },
     "execution_count": 26,
     "metadata": {},
     "output_type": "execute_result"
    },
    {
     "data": {
      "image/png": "[encoded data removed]",
      "text/plain": [
       "<Figure size 720x720 with 1 Axes>"
      ]
     },
     "metadata": {
      "needs_background": "light"
     },
     "output_type": "display_data"
    }
   ],
   "source": [
    "indx = int(np.random.uniform(0, len(ma)))\n",
    "plt.plot(scales, np.log(ma[indx, :]))"
   ]
  },
  {
   "cell_type": "code",
   "execution_count": 20,
   "id": "37207da1",
   "metadata": {
    "ExecuteTime": {
     "end_time": "2021-12-12T14:27:50.634654Z",
     "start_time": "2021-12-12T14:27:50.599968Z"
    }
   },
   "outputs": [
    {
     "data": {
      "text/plain": [
       "5.668478408504004"
      ]
     },
     "execution_count": 20,
     "metadata": {},
     "output_type": "execute_result"
    }
   ],
   "source": [
    "np.random.uniform(0, 10)"
   ]
  },
  {
   "cell_type": "code",
   "execution_count": null,
   "id": "ba2af480",
   "metadata": {},
   "outputs": [],
   "source": []
  }
 ],
 "metadata": {
  "kernelspec": {
   "display_name": "Python 3 (ipykernel)",
   "language": "python",
   "name": "python3"
  },
  "language_info": {
   "codemirror_mode": {
    "name": "ipython",
    "version": 3
   },
   "file_extension": ".py",
   "mimetype": "text/x-python",
   "name": "python",
   "nbconvert_exporter": "python",
   "pygments_lexer": "ipython3",
   "version": "3.8.12"
  },
  "toc": {
   "base_numbering": 1,
   "nav_menu": {},
   "number_sections": true,
   "sideBar": true,
   "skip_h1_title": false,
   "title_cell": "Table of Contents",
   "title_sidebar": "Contents",
   "toc_cell": false,
   "toc_position": {
    "height": "calc(100% - 180px)",
    "left": "10px",
    "top": "150px",
    "width": "165px"
   },
   "toc_section_display": true,
   "toc_window_display": true
  }
 },
 "nbformat": 4,
 "nbformat_minor": 5
}
