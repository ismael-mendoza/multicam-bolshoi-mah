{
 "cells": [
  {
   "cell_type": "code",
   "execution_count": 1,
   "id": "a70f150c",
   "metadata": {
    "ExecuteTime": {
     "end_time": "2021-10-05T13:58:42.226750Z",
     "start_time": "2021-10-05T13:58:42.188979Z"
    }
   },
   "outputs": [
    {
     "name": "stdout",
     "output_type": "stream",
     "text": [
      "Modules to reload:\n",
      "all-except-skipped\n",
      "\n",
      "Modules to skip:\n",
      "\n"
     ]
    }
   ],
   "source": [
    "%load_ext autoreload\n",
    "%autoreload 2\n",
    "%aimport"
   ]
  },
  {
   "cell_type": "code",
   "execution_count": 2,
   "id": "e1a06205",
   "metadata": {
    "ExecuteTime": {
     "end_time": "2021-10-05T13:58:42.691971Z",
     "start_time": "2021-10-05T13:58:42.321435Z"
    }
   },
   "outputs": [],
   "source": [
    "%matplotlib inline"
   ]
  },
  {
   "cell_type": "code",
   "execution_count": 3,
   "id": "c01ef976",
   "metadata": {
    "ExecuteTime": {
     "end_time": "2021-10-05T13:58:42.704189Z",
     "start_time": "2021-10-05T13:58:42.693169Z"
    }
   },
   "outputs": [],
   "source": [
    "from relaxed.plot_defaults import *"
   ]
  },
  {
   "cell_type": "code",
   "execution_count": 4,
   "id": "b3fb63d3",
   "metadata": {
    "ExecuteTime": {
     "end_time": "2021-10-05T13:58:43.545244Z",
     "start_time": "2021-10-05T13:58:42.705526Z"
    }
   },
   "outputs": [],
   "source": [
    "import astropy\n",
    "from pathlib import Path\n",
    "import numpy as np\n",
    "import matplotlib.pyplot as plt \n",
    "import re \n",
    "from astropy.table import Table\n",
    "import astropy.table\n",
    "import json\n",
    "from scipy import stats\n",
    "from copy import deepcopy\n",
    "import scipy\n",
    "import warnings\n",
    "\n",
    "import matplotlib as mpl\n",
    "from sklearn.model_selection import train_test_split\n"
   ]
  },
  {
   "cell_type": "code",
   "execution_count": 5,
   "id": "8c47894e",
   "metadata": {
    "ExecuteTime": {
     "end_time": "2021-10-05T13:58:44.035751Z",
     "start_time": "2021-10-05T13:58:43.546387Z"
    }
   },
   "outputs": [],
   "source": [
    "from relaxed.analysis import get_mah, add_box_indices, get_tt_indices\n",
    "from relaxed.models import training_suite\n",
    "from relaxed import halo_catalogs"
   ]
  },
  {
   "cell_type": "markdown",
   "id": "13cf5fec",
   "metadata": {},
   "source": [
    "# Data"
   ]
  },
  {
   "cell_type": "code",
   "execution_count": 19,
   "id": "e9a1937c",
   "metadata": {
    "ExecuteTime": {
     "end_time": "2021-10-05T14:04:48.181075Z",
     "start_time": "2021-10-05T14:04:44.805858Z"
    }
   },
   "outputs": [],
   "source": [
    "mah_data = get_mah('m12', '../../../output/', cutoff_missing=0.05, cutoff_particle=0.05)\n",
    "scales = mah_data['scales']"
   ]
  },
  {
   "cell_type": "code",
   "execution_count": 7,
   "id": "8d8d7d95",
   "metadata": {
    "ExecuteTime": {
     "end_time": "2021-10-05T13:58:48.444389Z",
     "start_time": "2021-10-05T13:58:48.411050Z"
    }
   },
   "outputs": [
    {
     "name": "stdout",
     "output_type": "stream",
     "text": [
      "(10000,) (10000,) (10000,) (10000, 100) (10000, 165) (165,) (100,)\n"
     ]
    }
   ],
   "source": [
    "# catalog\n",
    "cat = mah_data['cat']\n",
    "xoff = cat['xoff']\n",
    "cvir = cat['cvir']\n",
    "eta = cat['eta']\n",
    "ma = mah_data['ma']\n",
    "am = mah_data['am']\n",
    "\n",
    "scales = mah_data['scales']\n",
    "mass_bins = mah_data['mass_bins']\n",
    "print(cvir.shape, xoff.shape, eta.shape, am.shape, ma.shape, scales.shape, mass_bins.shape)"
   ]
  },
  {
   "cell_type": "code",
   "execution_count": 8,
   "id": "fdd515c2",
   "metadata": {
    "ExecuteTime": {
     "end_time": "2021-10-05T13:58:50.639610Z",
     "start_time": "2021-10-05T13:58:50.593943Z"
    }
   },
   "outputs": [],
   "source": [
    "# add box indices to cat for uncertainty purposes\n",
    "add_box_indices(cat)"
   ]
  },
  {
   "cell_type": "code",
   "execution_count": 9,
   "id": "67317804",
   "metadata": {
    "ExecuteTime": {
     "end_time": "2021-10-05T13:58:50.883470Z",
     "start_time": "2021-10-05T13:58:50.771828Z"
    }
   },
   "outputs": [
    {
     "name": "stdout",
     "output_type": "stream",
     "text": [
      "(7000,) (3000,)\n"
     ]
    }
   ],
   "source": [
    "# train/test split.\n",
    "train_idx, test_idx = get_tt_indices(len(cat), test_ratio=0.3)\n",
    "\n",
    "cat_train, am_train, cvir_train, xoff_train, eta_train =  (cat[train_idx], am[train_idx], cvir[train_idx], \n",
    "                                                          xoff[train_idx], eta[train_idx])\n",
    "cat_test, am_test, cvir_test, xoff_test, eta_test = (cat[test_idx], am[test_idx], cvir[test_idx], \n",
    "                                                          xoff[test_idx], eta[test_idx], )\n",
    "\n",
    "print(cvir_train.shape, cvir_test.shape)"
   ]
  },
  {
   "cell_type": "markdown",
   "id": "fc9cddbd",
   "metadata": {},
   "source": [
    "# Number of particles as function of scale"
   ]
  },
  {
   "cell_type": "code",
   "execution_count": 29,
   "id": "40a3c971",
   "metadata": {
    "ExecuteTime": {
     "end_time": "2021-10-05T14:08:02.328699Z",
     "start_time": "2021-10-05T14:08:02.219316Z"
    }
   },
   "outputs": [],
   "source": [
    "n_particles = ma * cat['mvir'].data.reshape(-1, 1) / 1.35e8"
   ]
  },
  {
   "cell_type": "code",
   "execution_count": 30,
   "id": "dc529f31",
   "metadata": {
    "ExecuteTime": {
     "end_time": "2021-10-05T14:08:03.362896Z",
     "start_time": "2021-10-05T14:08:03.223243Z"
    }
   },
   "outputs": [],
   "source": [
    "n = np.median(n_particles, axis=0)\n",
    "n1, n2 = np.quantile(n_particles, 0.05, axis=0), np.quantile(n_particles, 0.95, axis=0)"
   ]
  },
  {
   "cell_type": "code",
   "execution_count": 31,
   "id": "91fc832d",
   "metadata": {
    "ExecuteTime": {
     "end_time": "2021-10-05T14:08:04.982050Z",
     "start_time": "2021-10-05T14:08:04.804878Z"
    }
   },
   "outputs": [
    {
     "data": {
      "text/plain": [
       "<ErrorbarContainer object of 3 artists>"
      ]
     },
     "execution_count": 31,
     "metadata": {},
     "output_type": "execute_result"
    },
    {
     "data": {
      "image/png": "[encoded data removed]",
      "text/plain": [
       "<Figure size 720x720 with 1 Axes>"
      ]
     },
     "metadata": {
      "needs_background": "light"
     },
     "output_type": "display_data"
    }
   ],
   "source": [
    "plt.errorbar(scales, n, yerr=(n-n1, n2-n))"
   ]
  },
  {
   "cell_type": "code",
   "execution_count": 20,
   "id": "5f928689",
   "metadata": {
    "ExecuteTime": {
     "end_time": "2021-10-05T14:05:13.522041Z",
     "start_time": "2021-10-05T14:05:13.452336Z"
    }
   },
   "outputs": [
    {
     "data": {
      "text/plain": [
       "(165,)"
      ]
     },
     "execution_count": 20,
     "metadata": {},
     "output_type": "execute_result"
    }
   ],
   "source": [
    "n1.shape"
   ]
  },
  {
   "cell_type": "code",
   "execution_count": null,
   "id": "5d291ee8",
   "metadata": {},
   "outputs": [],
   "source": []
  }
 ],
 "metadata": {
  "kernelspec": {
   "display_name": "Python 3",
   "language": "python",
   "name": "python3"
  },
  "language_info": {
   "codemirror_mode": {
    "name": "ipython",
    "version": 3
   },
   "file_extension": ".py",
   "mimetype": "text/x-python",
   "name": "python",
   "nbconvert_exporter": "python",
   "pygments_lexer": "ipython3",
   "version": "3.8.8"
  },
  "toc": {
   "base_numbering": 1,
   "nav_menu": {},
   "number_sections": true,
   "sideBar": true,
   "skip_h1_title": false,
   "title_cell": "Table of Contents",
   "title_sidebar": "Contents",
   "toc_cell": false,
   "toc_position": {
    "height": "calc(100% - 180px)",
    "left": "10px",
    "top": "150px",
    "width": "202.69021606445312px"
   },
   "toc_section_display": true,
   "toc_window_display": true
  }
 },
 "nbformat": 4,
 "nbformat_minor": 5
}
