{
 "cells": [
  {
   "cell_type": "code",
   "execution_count": 11,
   "id": "a70f150c",
   "metadata": {
    "ExecuteTime": {
     "end_time": "2021-10-05T15:17:44.914355Z",
     "start_time": "2021-10-05T15:17:44.869379Z"
    }
   },
   "outputs": [
    {
     "name": "stdout",
     "output_type": "stream",
     "text": [
      "The autoreload extension is already loaded. To reload it, use:\n",
      "  %reload_ext autoreload\n",
      "Modules to reload:\n",
      "all-except-skipped\n",
      "\n",
      "Modules to skip:\n",
      "\n"
     ]
    }
   ],
   "source": [
    "%load_ext autoreload\n",
    "%autoreload 2\n",
    "%aimport"
   ]
  },
  {
   "cell_type": "code",
   "execution_count": 12,
   "id": "e1a06205",
   "metadata": {
    "ExecuteTime": {
     "end_time": "2021-10-05T15:17:45.050187Z",
     "start_time": "2021-10-05T15:17:45.011833Z"
    }
   },
   "outputs": [],
   "source": [
    "%matplotlib inline"
   ]
  },
  {
   "cell_type": "code",
   "execution_count": 13,
   "id": "c01ef976",
   "metadata": {
    "ExecuteTime": {
     "end_time": "2021-10-05T15:17:45.208770Z",
     "start_time": "2021-10-05T15:17:45.168051Z"
    }
   },
   "outputs": [],
   "source": [
    "from relaxed.plot_defaults import *"
   ]
  },
  {
   "cell_type": "code",
   "execution_count": 14,
   "id": "b3fb63d3",
   "metadata": {
    "ExecuteTime": {
     "end_time": "2021-10-05T15:17:45.384897Z",
     "start_time": "2021-10-05T15:17:45.343726Z"
    }
   },
   "outputs": [],
   "source": [
    "import astropy\n",
    "from pathlib import Path\n",
    "import numpy as np\n",
    "import matplotlib.pyplot as plt \n",
    "import re \n",
    "from astropy.table import Table\n",
    "import astropy.table\n",
    "import json\n",
    "from scipy import stats\n",
    "from copy import deepcopy\n",
    "import scipy\n",
    "import warnings\n",
    "\n",
    "import matplotlib as mpl\n",
    "from sklearn.model_selection import train_test_split\n"
   ]
  },
  {
   "cell_type": "code",
   "execution_count": 15,
   "id": "8c47894e",
   "metadata": {
    "ExecuteTime": {
     "end_time": "2021-10-05T15:17:45.558557Z",
     "start_time": "2021-10-05T15:17:45.514067Z"
    }
   },
   "outputs": [],
   "source": [
    "from relaxed.analysis import get_mah, add_box_indices, get_tt_indices\n",
    "from relaxed.models import training_suite\n",
    "from relaxed import halo_catalogs"
   ]
  },
  {
   "cell_type": "markdown",
   "id": "13cf5fec",
   "metadata": {},
   "source": [
    "# Data"
   ]
  },
  {
   "cell_type": "code",
   "execution_count": 90,
   "id": "e9a1937c",
   "metadata": {
    "ExecuteTime": {
     "end_time": "2021-10-05T15:59:23.937757Z",
     "start_time": "2021-10-05T15:59:20.622254Z"
    }
   },
   "outputs": [],
   "source": [
    "mah_data = get_mah('m12', '../../../output/', cutoff_missing=0.90, cutoff_particle=0.90) # not strict"
   ]
  },
  {
   "cell_type": "code",
   "execution_count": 91,
   "id": "8d8d7d95",
   "metadata": {
    "ExecuteTime": {
     "end_time": "2021-10-05T15:59:23.976907Z",
     "start_time": "2021-10-05T15:59:23.939398Z"
    }
   },
   "outputs": [
    {
     "name": "stdout",
     "output_type": "stream",
     "text": [
      "(9990,) (9990,) (9990,) (9990, 100) (9990, 178) (178,) (100,)\n"
     ]
    }
   ],
   "source": [
    "# catalog\n",
    "cat = mah_data['cat']\n",
    "xoff = cat['xoff']\n",
    "cvir = cat['cvir']\n",
    "eta = cat['eta']\n",
    "ma = mah_data['ma']\n",
    "am = mah_data['am']\n",
    "\n",
    "indices = mah_data['indices']\n",
    "scales = mah_data['scales']\n",
    "mass_bins = mah_data['mass_bins']\n",
    "print(cvir.shape, xoff.shape, eta.shape, am.shape, ma.shape, scales.shape, mass_bins.shape)"
   ]
  },
  {
   "cell_type": "code",
   "execution_count": 92,
   "id": "fdd515c2",
   "metadata": {
    "ExecuteTime": {
     "end_time": "2021-10-05T15:59:32.330836Z",
     "start_time": "2021-10-05T15:59:32.284035Z"
    }
   },
   "outputs": [],
   "source": [
    "# add box indices to cat for uncertainty purposes\n",
    "add_box_indices(cat)"
   ]
  },
  {
   "cell_type": "code",
   "execution_count": 93,
   "id": "67317804",
   "metadata": {
    "ExecuteTime": {
     "end_time": "2021-10-05T15:59:32.575927Z",
     "start_time": "2021-10-05T15:59:32.450033Z"
    }
   },
   "outputs": [
    {
     "name": "stdout",
     "output_type": "stream",
     "text": [
      "(6993,) (2997,)\n"
     ]
    }
   ],
   "source": [
    "# train/test split.\n",
    "train_idx, test_idx = get_tt_indices(len(cat), test_ratio=0.3)\n",
    "\n",
    "cat_train, am_train, cvir_train, xoff_train, eta_train =  (cat[train_idx], am[train_idx], cvir[train_idx], \n",
    "                                                          xoff[train_idx], eta[train_idx])\n",
    "cat_test, am_test, cvir_test, xoff_test, eta_test = (cat[test_idx], am[test_idx], cvir[test_idx], \n",
    "                                                          xoff[test_idx], eta[test_idx], )\n",
    "\n",
    "print(cvir_train.shape, cvir_test.shape)"
   ]
  },
  {
   "cell_type": "markdown",
   "id": "987fd8ee",
   "metadata": {},
   "source": [
    "# Extract MM scales, make histogram"
   ]
  },
  {
   "cell_type": "code",
   "execution_count": 94,
   "id": "6e5ac6db",
   "metadata": {
    "ExecuteTime": {
     "end_time": "2021-10-05T16:00:09.487381Z",
     "start_time": "2021-10-05T15:59:39.040409Z"
    }
   },
   "outputs": [
    {
     "name": "stderr",
     "output_type": "stream",
     "text": [
      "<ipython-input-94-7bc4d1c9bdf8>:8: RuntimeWarning: All-NaN axis encountered\n",
      "  merger_ratio[i, j] = np.nanmax([cat[m2_name][i], cat[cpgratio_name][i]])\n"
     ]
    }
   ],
   "source": [
    "# first we need merger ratio at every scale \n",
    "merger_ratio  = np.zeros((len(cat), len(scales)))\n",
    "for i in range(len(cat)):\n",
    "    for j, idx in enumerate(indices):\n",
    "#         f_sub_name = f'f_sub_a{idx}'\n",
    "        m2_name = f'm2_a{idx}'\n",
    "        cpgratio_name = f'cpgratio_a{idx}'\n",
    "        merger_ratio[i, j] = np.nanmax([cat[m2_name][i], cat[cpgratio_name][i]])"
   ]
  },
  {
   "cell_type": "code",
   "execution_count": 95,
   "id": "d3196809",
   "metadata": {
    "ExecuteTime": {
     "end_time": "2021-10-05T16:00:09.653094Z",
     "start_time": "2021-10-05T16:00:09.489475Z"
    }
   },
   "outputs": [],
   "source": [
    "# now construct scale of last MM (at present day) as a function fo different thresholds\n",
    "# Mu = np.linspace(0.1, 1, num=10)\n",
    "Mu = [1/3, 1/10, 1/30, 1/100]\n",
    "cutoff_scales= [0.25, 0.3, 0.4, 0.8] # cutoffs for 50 particles (phil)\n",
    "scale_of_last_MM = np.zeros((len(cat), len(Mu)))\n",
    "for i in range(len(cat)):\n",
    "    for k, mu in enumerate(Mu):\n",
    "        MM_indices = np.where(merger_ratio[i] > mu)[0]\n",
    "        if len(MM_indices) > 0 and scales[MM_indices[-1]] >= cutoff_scales[k]: \n",
    "            scale_of_last_MM[i, k] = scales[MM_indices[-1]]\n",
    "        else: \n",
    "            scale_of_last_MM[i, k] = np.nan"
   ]
  },
  {
   "cell_type": "code",
   "execution_count": 101,
   "id": "3ff305b4",
   "metadata": {
    "ExecuteTime": {
     "end_time": "2021-10-05T16:00:20.133236Z",
     "start_time": "2021-10-05T16:00:19.728797Z"
    }
   },
   "outputs": [
    {
     "data": {
      "text/plain": [
       "(100, 10000)"
      ]
     },
     "execution_count": 101,
     "metadata": {},
     "output_type": "execute_result"
    },
    {
     "data": {
      "image/png": "[encoded data removed]",
      "text/plain": [
       "<Figure size 576x576 with 1 Axes>"
      ]
     },
     "metadata": {
      "needs_background": "light"
     },
     "output_type": "display_data"
    }
   ],
   "source": [
    "plt.figure(figsize=(8,8))\n",
    "bins = get_bins(scale_of_last_MM[:, 0][~np.isnan(scale_of_last_MM[:, 0])], bins=30)\n",
    "for k, cutoff in enumerate(cutoff_scales): \n",
    "    plt.hist(scale_of_last_MM[:, k], histtype='step', label=f'\\\\rm ratio: ${Mu[k]:.2f}$', bins=bins)\n",
    "plt.legend(loc=2)\n",
    "plt.yscale('log')\n",
    "plt.ylim(10**2, 10**4)"
   ]
  },
  {
   "cell_type": "code",
   "execution_count": 82,
   "id": "f7a26ae8",
   "metadata": {
    "ExecuteTime": {
     "end_time": "2021-10-05T15:45:53.016034Z",
     "start_time": "2021-10-05T15:45:52.875260Z"
    }
   },
   "outputs": [
    {
     "data": {
      "text/plain": [
       "[4483, 941, 304, 970]"
      ]
     },
     "execution_count": 82,
     "metadata": {},
     "output_type": "execute_result"
    }
   ],
   "source": [
    "[sum(np.isnan(scale_of_last_MM[:, k])) for k in range(4)]"
   ]
  },
  {
   "cell_type": "code",
   "execution_count": 81,
   "id": "b1383e20",
   "metadata": {
    "ExecuteTime": {
     "end_time": "2021-10-05T15:44:18.646951Z",
     "start_time": "2021-10-05T15:44:18.575874Z"
    }
   },
   "outputs": [
    {
     "data": {
      "text/plain": [
       "3525"
      ]
     },
     "execution_count": 81,
     "metadata": {},
     "output_type": "execute_result"
    }
   ],
   "source": [
    "sum(scale_of_last_MM[:, 1]> 0.8)"
   ]
  },
  {
   "cell_type": "code",
   "execution_count": null,
   "id": "b156ab66",
   "metadata": {},
   "outputs": [],
   "source": []
  }
 ],
 "metadata": {
  "kernelspec": {
   "display_name": "Python 3",
   "language": "python",
   "name": "python3"
  },
  "language_info": {
   "codemirror_mode": {
    "name": "ipython",
    "version": 3
   },
   "file_extension": ".py",
   "mimetype": "text/x-python",
   "name": "python",
   "nbconvert_exporter": "python",
   "pygments_lexer": "ipython3",
   "version": "3.8.8"
  },
  "toc": {
   "base_numbering": 1,
   "nav_menu": {},
   "number_sections": true,
   "sideBar": true,
   "skip_h1_title": false,
   "title_cell": "Table of Contents",
   "title_sidebar": "Contents",
   "toc_cell": false,
   "toc_position": {
    "height": "calc(100% - 180px)",
    "left": "10px",
    "top": "150px",
    "width": "202.69021606445312px"
   },
   "toc_section_display": true,
   "toc_window_display": true
  }
 },
 "nbformat": 4,
 "nbformat_minor": 5
}
