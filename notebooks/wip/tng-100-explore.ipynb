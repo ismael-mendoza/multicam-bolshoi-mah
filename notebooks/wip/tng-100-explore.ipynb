{
 "cells": [
  {
   "cell_type": "code",
   "execution_count": 17,
   "metadata": {},
   "outputs": [],
   "source": [
    "import h5py\n",
    "import matplotlib.pyplot as plt\n",
    "import numpy as np \n",
    "\n",
    "from multicam.tng.utils import convert_tng_mass"
   ]
  },
  {
   "cell_type": "markdown",
   "metadata": {},
   "source": [
    "## Extract data"
   ]
  },
  {
   "cell_type": "code",
   "execution_count": 18,
   "metadata": {},
   "outputs": [
    {
     "name": "stderr",
     "output_type": "stream",
     "text": [
      "/Users/imendoza/code/nbody-relaxed/multicam/tng/utils.py:23: RuntimeWarning: divide by zero encountered in log10\n",
      "  return np.where(gmass > 0, np.log10(gmass * 1e10 / TNG_H), 0)\n"
     ]
    }
   ],
   "source": [
    "# get gmass over all files \n",
    "subhalo_ids = []\n",
    "subhalo_mass = []\n",
    "stellar_mass = []\n",
    "\n",
    "count = 0\n",
    "for ii in range(0, 448):\n",
    "    filename = f'../../data/tng/100/fof_subhalo_tab_099.{ii}.hdf5'\n",
    "    with h5py.File(filename, 'r') as f:\n",
    "        if 'SubhaloMass' in f['Subhalo'].keys():\n",
    "            for s in f['Subhalo']['SubhaloMass']:\n",
    "                subhalo_ids.append(count)\n",
    "                subhalo_mass.append(s)\n",
    "                count+=1\n",
    "\n",
    "            for s in f['Subhalo']['SubhaloMassInRadType'][:,4]: # 4 = star particles\n",
    "                stellar_mass.append(s)\n",
    "\n",
    "\n",
    "subhalo_ids = np.array(subhalo_ids)\n",
    "subhalo_mass = convert_tng_mass(np.array(subhalo_mass))\n",
    "stellar_mass = convert_tng_mass(np.array(stellar_mass))"
   ]
  },
  {
   "cell_type": "markdown",
   "metadata": {},
   "source": [
    "## Playground"
   ]
  },
  {
   "cell_type": "code",
   "execution_count": 19,
   "metadata": {},
   "outputs": [],
   "source": [
    "file = f'../../data/tng/100/fof_subhalo_tab_099.99.hdf5'"
   ]
  },
  {
   "cell_type": "code",
   "execution_count": 20,
   "metadata": {},
   "outputs": [],
   "source": [
    "f = h5py.File(file, 'r')"
   ]
  },
  {
   "cell_type": "code",
   "execution_count": 21,
   "metadata": {},
   "outputs": [
    {
     "data": {
      "text/plain": [
       "<KeysViewHDF5 ['Config', 'Group', 'Header', 'IDs', 'Parameters', 'Subhalo']>"
      ]
     },
     "execution_count": 21,
     "metadata": {},
     "output_type": "execute_result"
    }
   ],
   "source": [
    "f.keys()"
   ]
  },
  {
   "cell_type": "code",
   "execution_count": 9,
   "metadata": {},
   "outputs": [
    {
     "data": {
      "text/plain": [
       "['SubhaloBHMass',\n",
       " 'SubhaloBHMdot',\n",
       " 'SubhaloBfldDisk',\n",
       " 'SubhaloBfldHalo',\n",
       " 'SubhaloCM',\n",
       " 'SubhaloFlag',\n",
       " 'SubhaloGasMetalFractions',\n",
       " 'SubhaloGasMetalFractionsHalfRad',\n",
       " 'SubhaloGasMetalFractionsMaxRad',\n",
       " 'SubhaloGasMetalFractionsSfr',\n",
       " 'SubhaloGasMetalFractionsSfrWeighted',\n",
       " 'SubhaloGasMetallicity',\n",
       " 'SubhaloGasMetallicityHalfRad',\n",
       " 'SubhaloGasMetallicityMaxRad',\n",
       " 'SubhaloGasMetallicitySfr',\n",
       " 'SubhaloGasMetallicitySfrWeighted',\n",
       " 'SubhaloGrNr',\n",
       " 'SubhaloHalfmassRad',\n",
       " 'SubhaloHalfmassRadType',\n",
       " 'SubhaloIDMostbound',\n",
       " 'SubhaloLen',\n",
       " 'SubhaloLenType',\n",
       " 'SubhaloMass',\n",
       " 'SubhaloMassInHalfRad',\n",
       " 'SubhaloMassInHalfRadType',\n",
       " 'SubhaloMassInMaxRad',\n",
       " 'SubhaloMassInMaxRadType',\n",
       " 'SubhaloMassInRad',\n",
       " 'SubhaloMassInRadType',\n",
       " 'SubhaloMassType',\n",
       " 'SubhaloParent',\n",
       " 'SubhaloPos',\n",
       " 'SubhaloSFR',\n",
       " 'SubhaloSFRinHalfRad',\n",
       " 'SubhaloSFRinMaxRad',\n",
       " 'SubhaloSFRinRad',\n",
       " 'SubhaloSpin',\n",
       " 'SubhaloStarMetalFractions',\n",
       " 'SubhaloStarMetalFractionsHalfRad',\n",
       " 'SubhaloStarMetalFractionsMaxRad',\n",
       " 'SubhaloStarMetallicity',\n",
       " 'SubhaloStarMetallicityHalfRad',\n",
       " 'SubhaloStarMetallicityMaxRad',\n",
       " 'SubhaloStellarPhotometrics',\n",
       " 'SubhaloStellarPhotometricsMassInRad',\n",
       " 'SubhaloStellarPhotometricsRad',\n",
       " 'SubhaloVel',\n",
       " 'SubhaloVelDisp',\n",
       " 'SubhaloVmax',\n",
       " 'SubhaloVmaxRad',\n",
       " 'SubhaloWindMass']"
      ]
     },
     "execution_count": 9,
     "metadata": {},
     "output_type": "execute_result"
    }
   ],
   "source": [
    "sorted(f['Subhalo'].keys())"
   ]
  },
  {
   "cell_type": "code",
   "execution_count": 23,
   "metadata": {},
   "outputs": [
    {
     "data": {
      "text/plain": [
       "((2478,), (2478, 6))"
      ]
     },
     "execution_count": 23,
     "metadata": {},
     "output_type": "execute_result"
    }
   ],
   "source": [
    "f['Subhalo']['SubhaloMass'].shape, f['Subhalo']['SubhaloMassInRadType'].shape # 4th elements corresponds to star particles"
   ]
  },
  {
   "cell_type": "code",
   "execution_count": 106,
   "metadata": {},
   "outputs": [],
   "source": [
    "from multicam.tng.utils import convert_tng_mass\n",
    "\n",
    "gmass = convert_tng_mass(f['Group']['Group_M_TopHat200'][:])"
   ]
  },
  {
   "cell_type": "code",
   "execution_count": null,
   "metadata": {},
   "outputs": [],
   "source": []
  },
  {
   "cell_type": "code",
   "execution_count": null,
   "metadata": {},
   "outputs": [],
   "source": []
  }
 ],
 "metadata": {
  "kernelspec": {
   "display_name": "multicam-P7T5KfjX-py3.10",
   "language": "python",
   "name": "python3"
  },
  "language_info": {
   "codemirror_mode": {
    "name": "ipython",
    "version": 3
   },
   "file_extension": ".py",
   "mimetype": "text/x-python",
   "name": "python",
   "nbconvert_exporter": "python",
   "pygments_lexer": "ipython3",
   "version": "3.10.13"
  }
 },
 "nbformat": 4,
 "nbformat_minor": 2
}
