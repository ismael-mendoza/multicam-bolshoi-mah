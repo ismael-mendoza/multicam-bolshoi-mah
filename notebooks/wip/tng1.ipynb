{
 "cells": [
  {
   "cell_type": "markdown",
   "metadata": {},
   "source": [
    "**Snapshots**: https://www.tng-project.org/data/downloads/TNG300-1/"
   ]
  },
  {
   "cell_type": "code",
   "execution_count": 29,
   "metadata": {},
   "outputs": [],
   "source": [
    "import numpy as np \n",
    "\n",
    "import pickle"
   ]
  },
  {
   "cell_type": "code",
   "execution_count": 30,
   "metadata": {},
   "outputs": [],
   "source": [
    "import matplotlib.pyplot as plt"
   ]
  },
  {
   "cell_type": "code",
   "execution_count": 31,
   "metadata": {},
   "outputs": [],
   "source": [
    "trees_file = \"../../data/processed/tng/TNG300-1_cut_trees.p\"\n",
    "tng_snapshot_dir = \"../../data/processed/tng/TNG300-1/\"  # everything is a host halo\n",
    "present_snapfile = tng_snapshot_dir + \"TNG300-1_HaloHistory_MBP_snap99.hdf5\"\n",
    "snaps = np.arange(0, 100, 1)"
   ]
  },
  {
   "cell_type": "code",
   "execution_count": 92,
   "metadata": {},
   "outputs": [],
   "source": [
    "tng_h = 0.6774"
   ]
  },
  {
   "cell_type": "code",
   "execution_count": 114,
   "metadata": {},
   "outputs": [],
   "source": [
    "def _convert_tng_mass(gmass):\n",
    "    return np.log10(gmass * 1e10 / tng_h)"
   ]
  },
  {
   "cell_type": "code",
   "execution_count": 148,
   "metadata": {},
   "outputs": [],
   "source": [
    "def _reverse_trees(trees):\n",
    "    \"\"\"Reverse each entry in trees so that order is from early to late times.\"\"\"\n",
    "    for tree in trees:\n",
    "        for key in tree.keys():\n",
    "            if key not in [\"Number\", \"ChunkNumber\", \"TreeID\"]:\n",
    "                tree[key] = tree[key][::-1]\n",
    "    return trees"
   ]
  },
  {
   "cell_type": "markdown",
   "metadata": {},
   "source": [
    "## Explore tree file"
   ]
  },
  {
   "cell_type": "code",
   "execution_count": 150,
   "metadata": {},
   "outputs": [],
   "source": [
    "# load pickle file\n",
    "with open(trees_file, 'rb') as pickle_file:\n",
    "    _trees = pickle.load(pickle_file)\n",
    "    trees = _reverse_trees(_trees)"
   ]
  },
  {
   "cell_type": "code",
   "execution_count": 151,
   "metadata": {},
   "outputs": [
    {
     "data": {
      "text/plain": [
       "{'Number': 12,\n",
       " 'ChunkNumber': 0,\n",
       " 'IndexInChunk': array([611696, 611695, 611694, 611693, 611692, 611691, 611690, 611689,\n",
       "        611688, 611687, 611686, 611685]),\n",
       " 'SnapNum': array([ 1,  2,  3,  4,  5,  6,  7,  8,  9, 10, 11, 12], dtype=int16),\n",
       " 'SubhaloGrNr': array([ 6927, 28757, 79309, 41529, 55447, 64918,  6415,  5895,  6645,\n",
       "         3134,  3444,  2515], dtype=int32),\n",
       " 'SubhaloID': array([611696, 611695, 611694, 611693, 611692, 611691, 611690, 611689,\n",
       "        611688, 611687, 611686, 611685]),\n",
       " 'FirstSubhaloInFOFGroupID': array([611696, 611695, 611694, 611693, 611692, 611691, 611690, 611689,\n",
       "        611688, 611687, 611686, 611685]),\n",
       " 'Group_M_TopHat200': array([0.08539786, 0.21722278, 0.28631034, 0.39594445, 0.6076933 ,\n",
       "        0.774242  , 1.7010435 , 3.0297496 , 4.0866766 , 5.2153816 ,\n",
       "        5.9118204 , 8.6583395 ], dtype=float32),\n",
       " 'GroupMass': array([ 0.10857566,  0.28274322,  0.29762894,  0.64737654,  0.75367105,\n",
       "         0.88009185,  3.440754  ,  4.5332565 ,  5.5500035 ,  9.907824  ,\n",
       "        10.8959465 , 16.622276  ], dtype=float32),\n",
       " 'SubhaloMass': array([ 0.10728906,  0.27960348,  0.2827553 ,  0.64170694,  0.7329405 ,\n",
       "         0.8478129 ,  1.5962696 ,  4.0713005 ,  0.15292905,  7.3132105 ,\n",
       "         8.271661  , 12.162675  ], dtype=float32),\n",
       " 'flag_iscen': array([1, 1, 1, 1, 1, 1, 1, 1, 1, 1, 1, 1]),\n",
       " 'flag_aboveMthr': array([1, 0, 0, 0, 0, 0, 0, 1, 1, 1, 1, 1]),\n",
       " 'TreeID': 116,\n",
       " 'IndexInHaloTable': array([   -1,    -1, 25503, 21433, 24304, 25965,  6263,  5779,  6489,\n",
       "         3127,  3429,  2507], dtype=int32),\n",
       " 'Gamma': array([       nan,        nan,        nan,        nan, 0.87156801,\n",
       "        1.38805549, 1.97098148, 1.16466576, 0.6309542 , 0.5680003 ,\n",
       "        0.53788905,        nan])}"
      ]
     },
     "execution_count": 151,
     "metadata": {},
     "output_type": "execute_result"
    }
   ],
   "source": [
    "trees[81]"
   ]
  },
  {
   "cell_type": "code",
   "execution_count": 91,
   "metadata": {},
   "outputs": [
    {
     "data": {
      "text/plain": [
       "12522"
      ]
     },
     "execution_count": 91,
     "metadata": {},
     "output_type": "execute_result"
    }
   ],
   "source": [
    "sum(99 in t['SnapNum'] for t in trees)"
   ]
  },
  {
   "cell_type": "markdown",
   "metadata": {},
   "source": [
    "## TNG explore file"
   ]
  },
  {
   "cell_type": "code",
   "execution_count": 32,
   "metadata": {},
   "outputs": [],
   "source": [
    "# explore one tng file\n",
    "import h5py\n",
    "import numpy as np\n",
    "one_file = tng_snapshot_dir + \"TNG300-1_HaloHistory_MBP_snap99.hdf5\" # everything is a host halo\n",
    "f = h5py.File(one_file, 'r')"
   ]
  },
  {
   "cell_type": "code",
   "execution_count": 33,
   "metadata": {},
   "outputs": [
    {
     "data": {
      "text/plain": [
       "['Halos']"
      ]
     },
     "execution_count": 33,
     "metadata": {},
     "output_type": "execute_result"
    }
   ],
   "source": [
    "list(f.keys())"
   ]
  },
  {
   "cell_type": "code",
   "execution_count": 34,
   "metadata": {},
   "outputs": [
    {
     "data": {
      "text/plain": [
       "<KeysViewHDF5 ['axis0', 'axis1', 'block0_items', 'block0_values', 'block1_items', 'block1_values', 'block2_items', 'block2_values']>"
      ]
     },
     "execution_count": 34,
     "metadata": {},
     "output_type": "execute_result"
    }
   ],
   "source": [
    "f['Halos'].keys()"
   ]
  },
  {
   "cell_type": "code",
   "execution_count": 35,
   "metadata": {},
   "outputs": [
    {
     "data": {
      "text/plain": [
       "((210,),\n",
       " array([b'HaloID', b'SubhaloID', b'SubhaloID_DMO', b'SubhaloID_LastDesc',\n",
       "        b'Central', b'Main', b'Mvir_TNG', b'Rvir_TNG', b'pos_x', b'pos_y',\n",
       "        b'pos_z', b'vel_x', b'vel_y', b'vel_z', b'delta_2cMpc',\n",
       "        b'delta_5cMpc', b'delta_10cMpc', b'delta_20cMpc', b'delta_40cMpc',\n",
       "        b'cvir_init', b'cvir_init_err', b'rho_s_init', b'rho_s_init_err',\n",
       "        b'Bound_Nfrac', b'Bound_Mfrac', b'Bound_Nfrac_SUBFIND', b'Rvir',\n",
       "        b'Mvir', b'R200c', b'M200c', b'R500c', b'M500c', b'R2500c',\n",
       "        b'M2500c', b'Core_vel_x', b'Core_vel_y', b'Core_vel_z', b'Ngas',\n",
       "        b'Nstars', b'Nbhs', b'Mgas_vir', b'Zgas_vir', b'SFR_vir', b'Y_vir',\n",
       "        b'Tm_vir', b'K_vir', b'Mgas_200c', b'Zgas_200c', b'SFR_200c',\n",
       "        b'Y_200c', b'Tm_200c', b'K_200c', b'Mgas_500c', b'Zgas_500c',\n",
       "        b'SFR_500c', b'Y_500c', b'Tm_500c', b'K_500c', b'Mgas_2500c',\n",
       "        b'Zgas_2500c', b'SFR_2500c', b'Y_2500c', b'Tm_2500c', b'K_2500c',\n",
       "        b'Mgas_10pkpc', b'Zgas_10pkpc', b'SFR_10pkpc', b'Y_10pkpc',\n",
       "        b'Tm_10pkpc', b'K_10pkpc', b'Mgas_30pkpc', b'Zgas_30pkpc',\n",
       "        b'SFR_30pkpc', b'Y_30pkpc', b'Tm_30pkpc', b'K_30pkpc',\n",
       "        b'Mgas_100pkpc', b'Zgas_100pkpc', b'SFR_100pkpc', b'Y_100pkpc',\n",
       "        b'Tm_100pkpc', b'K_100pkpc', b'Mstar_vir', b'Zstar_vir',\n",
       "        b'tstar_vir', b'Mstar_200c', b'Zstar_200c', b'tstar_200c',\n",
       "        b'Mstar_500c', b'Zstar_500c', b'tstar_500c', b'Mstar_2500c',\n",
       "        b'Zstar_2500c', b'tstar_2500c', b'Mstar_10pkpc', b'Zstar_10pkpc',\n",
       "        b'tstar_10pkpc', b'Mstar_30pkpc', b'Zstar_30pkpc', b'tstar_30pkpc',\n",
       "        b'Mstar_100pkpc', b'Zstar_100pkpc', b'tstar_100pkpc', b'Mbh_Rvir',\n",
       "        b'Mbh_clean_Rvir', b'Mbh_Cen', b'Mbh_clean_Cen', b'Nsat_Msub8',\n",
       "        b'Nsat_Msub9', b'Nsat_Msub10', b'Nsat_Msub11', b'Nsat_Msub12',\n",
       "        b'Nsat_Mstar6', b'Nsat_Mstar7', b'Nsat_Mstar8', b'Nsat_Mstar9',\n",
       "        b'Nsat_Mstar10', b'Rhalf', b'Rhalf_gas', b'Rhalf_stars',\n",
       "        b'R0p2_stars', b'R0p8_stars', b'cvir', b'cvir_err', b'rho_s',\n",
       "        b'rho_s_err', b'M_s', b'M_4s', b'M_s_gas', b'M_s_star', b'Vmax_DM',\n",
       "        b'Rmax_DM', b'Vmax_DM_self', b'Rmax_DM_self', b'Vmax_gas',\n",
       "        b'Rmax_gas', b'Vmax_stars', b'Rmax_stars', b's_DM_noiter',\n",
       "        b'q_DM_noiter', b'A_DM_eig_x_noiter', b'A_DM_eig_y_noiter',\n",
       "        b'A_DM_eig_z_noiter', b'shapesDM_N_iter', b'shapesDM_N_partfrac',\n",
       "        b'shapesDM_N_part', b's_DM', b'q_DM', b's_DM_err', b'q_DM_err',\n",
       "        b'A_DM_eig_x', b'A_DM_eig_y', b'A_DM_eig_z', b's_gas_noiter',\n",
       "        b'q_gas_noiter', b'A_gas_eig_x_noiter', b'A_gas_eig_y_noiter',\n",
       "        b'A_gas_eig_z_noiter', b's_star_noiter', b'q_star_noiter',\n",
       "        b'A_star_eig_x_noiter', b'A_star_eig_y_noiter',\n",
       "        b'A_star_eig_z_noiter', b'X_off_DM', b'V_off_DM', b'X_off_gas',\n",
       "        b'V_off_gas', b'X_off_star', b'V_off_star', b'Mean_vel_x_DM',\n",
       "        b'Mean_vel_y_DM', b'Mean_vel_z_DM', b'sigma_DM_X', b'sigma_DM_Y',\n",
       "        b'sigma_DM_Z', b'sigma_DM_3D', b'sigma_DM_R', b'Beta_anis_DM',\n",
       "        b'Mean_vel_x_gas', b'Mean_vel_y_gas', b'Mean_vel_z_gas',\n",
       "        b'sigma_gas_X', b'sigma_gas_Y', b'sigma_gas_Z', b'sigma_gas_3D',\n",
       "        b'sigma_gas_R', b'Beta_anis_gas', b'Mean_vel_x_star',\n",
       "        b'Mean_vel_y_star', b'Mean_vel_z_star', b'sigma_star_X',\n",
       "        b'sigma_star_Y', b'sigma_star_Z', b'sigma_star_3D',\n",
       "        b'sigma_star_R', b'Beta_anis_star', b'Spin_Bullock_DM', b'J_DM_x',\n",
       "        b'J_DM_y', b'J_DM_z', b'Spin_Bullock_gas', b'J_gas_x', b'J_gas_y',\n",
       "        b'J_gas_z', b'Spin_Bullock_star', b'J_star_x', b'J_star_y',\n",
       "        b'J_star_z', b'Mstar_bulge', b'EndState'], dtype='|S19'))"
      ]
     },
     "execution_count": 35,
     "metadata": {},
     "output_type": "execute_result"
    }
   ],
   "source": [
    "ds = f['Halos']['axis0']\n",
    "ds[:].shape, ds[:]"
   ]
  },
  {
   "cell_type": "code",
   "execution_count": 36,
   "metadata": {},
   "outputs": [
    {
     "data": {
      "text/plain": [
       "array([    0,     1,     2, ..., 13640, 13641, 13642])"
      ]
     },
     "execution_count": 36,
     "metadata": {},
     "output_type": "execute_result"
    }
   ],
   "source": [
    "ds = f['Halos']['axis1']\n",
    "ds[:]"
   ]
  },
  {
   "cell_type": "code",
   "execution_count": 37,
   "metadata": {},
   "outputs": [
    {
     "data": {
      "text/plain": [
       "(13643, 205)"
      ]
     },
     "execution_count": 37,
     "metadata": {},
     "output_type": "execute_result"
    }
   ],
   "source": [
    "ds = f['Halos']['block0_values']\n",
    "ds[:].shape"
   ]
  },
  {
   "cell_type": "code",
   "execution_count": 38,
   "metadata": {},
   "outputs": [
    {
     "data": {
      "text/plain": [
       "array([b'HaloID', b'SubhaloID', b'SubhaloID_DMO', b'SubhaloID_LastDesc'],\n",
       "      dtype='|S18')"
      ]
     },
     "execution_count": 38,
     "metadata": {},
     "output_type": "execute_result"
    }
   ],
   "source": [
    "ds = f['Halos']['block1_items']\n",
    "ds[:]"
   ]
  },
  {
   "cell_type": "code",
   "execution_count": 39,
   "metadata": {},
   "outputs": [
    {
     "data": {
      "text/plain": [
       "(13643, 4)"
      ]
     },
     "execution_count": 39,
     "metadata": {},
     "output_type": "execute_result"
    }
   ],
   "source": [
    "ds = f['Halos']['block1_values']\n",
    "ds[:].shape"
   ]
  },
  {
   "cell_type": "code",
   "execution_count": 40,
   "metadata": {},
   "outputs": [
    {
     "data": {
      "text/plain": [
       "array([b'EndState'], dtype='|S8')"
      ]
     },
     "execution_count": 40,
     "metadata": {},
     "output_type": "execute_result"
    }
   ],
   "source": [
    "ds = f['Halos']['block2_items']\n",
    "ds[:]"
   ]
  },
  {
   "cell_type": "code",
   "execution_count": 41,
   "metadata": {},
   "outputs": [
    {
     "data": {
      "text/plain": [
       "(1,)"
      ]
     },
     "execution_count": 41,
     "metadata": {},
     "output_type": "execute_result"
    }
   ],
   "source": [
    "ds = f['Halos']['block2_values']\n",
    "ds[:].shape"
   ]
  },
  {
   "cell_type": "markdown",
   "metadata": {},
   "source": [
    "### Extract relevant quantities"
   ]
  },
  {
   "cell_type": "code",
   "execution_count": 42,
   "metadata": {},
   "outputs": [],
   "source": [
    "data = {}"
   ]
  },
  {
   "cell_type": "code",
   "execution_count": 43,
   "metadata": {},
   "outputs": [],
   "source": [
    "# from 'block1' we just neeed halo_id\n",
    "names = ['halo_id', 'subhalo_id']\n",
    "keys = [b'HaloID', b'SubhaloID']\n",
    "for name, key in zip(names, keys):\n",
    "    idx = np.where(f['Halos']['block1_items'][:] == key)[0].item()\n",
    "    data[name] = f['Halos']['block1_values'][:,idx]\n",
    "\n",
    "# halo_id = f['Halos']['block1_values'][:,0]\n",
    "# mvir = f['Halos']['block0_values'][:,1]"
   ]
  },
  {
   "cell_type": "code",
   "execution_count": 44,
   "metadata": {},
   "outputs": [],
   "source": [
    "# from 'block0' we need mvir\n",
    "names = ['mvir', 'm200', 'rvir', 'r200', 'm500', 'r500']\n",
    "keys = [b'Mvir', b'M200c', b'Rvir', b'R200c', b'M500c', b'R500c']\n",
    "for name, key in zip(names, keys):\n",
    "    idx = np.where(f['Halos']['block0_items'][:] == key)[0].item()\n",
    "    data[name] = f['Halos']['block0_values'][:,idx]"
   ]
  },
  {
   "cell_type": "code",
   "execution_count": 50,
   "metadata": {},
   "outputs": [
    {
     "data": {
      "text/plain": [
       "<matplotlib.lines.Line2D at 0x11ab7d780>"
      ]
     },
     "execution_count": 50,
     "metadata": {},
     "output_type": "execute_result"
    },
    {
     "data": {
      "image/png": "[encoded data removed]",
      "text/plain": [
       "<Figure size 640x480 with 1 Axes>"
      ]
     },
     "metadata": {},
     "output_type": "display_data"
    }
   ],
   "source": [
    "_, bins, _ = plt.hist(data['mvir'], bins=101); \n",
    "# plt.hist(data['m200'], bins=bins)\n",
    "plt.axvline(12.7, c='r')"
   ]
  },
  {
   "cell_type": "markdown",
   "metadata": {},
   "source": [
    "## Sanity check one MAH"
   ]
  },
  {
   "cell_type": "code",
   "execution_count": 116,
   "metadata": {},
   "outputs": [],
   "source": [
    "metadata = pandas.read_csv(\"../../data/processed/tng/tng300-1-table.csv\")\n",
    "\n",
    "zs = metadata['Redshift'].values\n",
    "scales = 1 / (1 + zs)"
   ]
  },
  {
   "cell_type": "code",
   "execution_count": 117,
   "metadata": {},
   "outputs": [],
   "source": [
    "# load pickle file\n",
    "with open(trees_file, 'rb') as pickle_file:\n",
    "    trees = pickle.load(pickle_file)\n",
    "\n",
    "cat = pandas.read_hdf(present_snapfile)"
   ]
  },
  {
   "cell_type": "code",
   "execution_count": 118,
   "metadata": {},
   "outputs": [
    {
     "data": {
      "text/plain": [
       "<matplotlib.legend.Legend at 0x114c3eec0>"
      ]
     },
     "execution_count": 118,
     "metadata": {},
     "output_type": "execute_result"
    },
    {
     "data": {
      "image/png": "[encoded data removed]",
      "text/plain": [
       "<Figure size 640x480 with 1 Axes>"
      ]
     },
     "metadata": {},
     "output_type": "display_data"
    }
   ],
   "source": [
    "gmass = [_convert_tng_mass(t['Group_M_TopHat200'][0]) for t in trees1]\n",
    "_, bins, _ = plt.hist(gmass, bins=101, histtype='step', color='k', density=True, label='gmass');\n",
    "_ = plt.hist(cat['Mvir'].values, bins=bins, histtype='step', color='r', density=True, label='mvir');\n",
    "plt.axvline(12.7, c='r')\n",
    "plt.legend()"
   ]
  },
  {
   "cell_type": "code",
   "execution_count": 120,
   "metadata": {},
   "outputs": [
    {
     "data": {
      "text/plain": [
       "(6567, 12522)"
      ]
     },
     "execution_count": 120,
     "metadata": {},
     "output_type": "execute_result"
    }
   ],
   "source": [
    "# Lets pick a halo in the mass complete sample (mvir > 12.7 ~ Group_M_TopHat200)\n",
    "\n",
    "# pick tress that have present day snap\n",
    "trees1 = [t for t in trees if 99 in t['SnapNum']]\n",
    "\n",
    "# now pick trees that have Group_M_TopHat200 > 12.8 (some margin)\n",
    "gmass = np.array([_convert_tng_mass(t['Group_M_TopHat200'][0]) for t in trees1])\n",
    "trees2 = [t for ii, t in enumerate(trees1) if gmass[ii] > 12.8]\n",
    "len(trees2), len(trees1)"
   ]
  },
  {
   "cell_type": "code",
   "execution_count": 121,
   "metadata": {},
   "outputs": [
    {
     "data": {
      "text/plain": [
       "{'Number': 99,\n",
       " 'ChunkNumber': 0,\n",
       " 'IndexInChunk': array([ 0,  1,  2,  3,  4,  5,  6,  7,  8,  9, 10, 11, 12, 13, 14, 15, 16,\n",
       "        17, 18, 19, 20, 21, 22, 23, 24, 25, 26, 27, 28, 29, 30, 31, 32, 33,\n",
       "        34, 35, 36, 37, 38, 39, 40, 41, 42, 43, 44, 45, 46, 47, 48, 49, 50,\n",
       "        51, 52, 53, 54, 55, 56, 57, 58, 59, 60, 61, 62, 63, 64, 65, 66, 67,\n",
       "        68, 69, 70, 71, 72, 73, 74, 75, 76, 77, 78, 79, 80, 81, 82, 83, 84,\n",
       "        85, 86, 87, 88, 89, 90, 91, 92, 93, 94, 95, 96, 97, 98]),\n",
       " 'SnapNum': array([99, 98, 97, 96, 95, 94, 93, 92, 91, 90, 89, 88, 87, 86, 85, 84, 83,\n",
       "        82, 81, 80, 79, 78, 77, 76, 75, 74, 73, 72, 71, 70, 69, 68, 67, 66,\n",
       "        65, 64, 63, 62, 61, 60, 59, 58, 57, 56, 55, 54, 53, 52, 51, 50, 49,\n",
       "        48, 47, 46, 45, 44, 43, 42, 41, 40, 39, 38, 37, 36, 35, 34, 33, 32,\n",
       "        31, 30, 29, 28, 27, 26, 25, 24, 23, 22, 21, 20, 19, 18, 17, 16, 15,\n",
       "        14, 13, 12, 11, 10,  9,  8,  7,  6,  5,  4,  3,  2,  1],\n",
       "       dtype=int16),\n",
       " 'SubhaloGrNr': array([   0,    0,    0,    0,    0,    0,    0,    0,    0,    0,    0,\n",
       "           0,    0,    0,    0,    0,    0,    0,    0,    0,    0,    0,\n",
       "           0,    0,    0,    0,    0,    0,    0,    0,    0,    0,    0,\n",
       "           0,    0,    0,    0,    0,    0,    0,    0,    0,    0,    0,\n",
       "           0,    0,    0,    0,    0,    0,    0,    0,    0,    0,    1,\n",
       "           0,    0,    0,    0,    3,    3,    2,    1,    1,    0,    0,\n",
       "           2,    1,    1,    1,    1,    0,    0,    1,    1,    1,    1,\n",
       "           4,    3,    3,    3,    7,   10,   15,   14,   12,   18,   11,\n",
       "          12,   11,    8,    5,   19,   27,   30,    1,   19,   29, 3099],\n",
       "       dtype=int32),\n",
       " 'SubhaloID': array([ 0,  1,  2,  3,  4,  5,  6,  7,  8,  9, 10, 11, 12, 13, 14, 15, 16,\n",
       "        17, 18, 19, 20, 21, 22, 23, 24, 25, 26, 27, 28, 29, 30, 31, 32, 33,\n",
       "        34, 35, 36, 37, 38, 39, 40, 41, 42, 43, 44, 45, 46, 47, 48, 49, 50,\n",
       "        51, 52, 53, 54, 55, 56, 57, 58, 59, 60, 61, 62, 63, 64, 65, 66, 67,\n",
       "        68, 69, 70, 71, 72, 73, 74, 75, 76, 77, 78, 79, 80, 81, 82, 83, 84,\n",
       "        85, 86, 87, 88, 89, 90, 91, 92, 93, 94, 95, 96, 97, 98]),\n",
       " 'FirstSubhaloInFOFGroupID': array([ 0,  1,  2,  3,  4,  5,  6,  7,  8,  9, 10, 11, 12, 13, 14, 15, 16,\n",
       "        17, 18, 19, 20, 21, 22, 23, 24, 25, 26, 27, 28, 29, 30, 31, 32, 33,\n",
       "        34, 35, 36, 37, 38, 39, 40, 41, 42, 43, 44, 45, 46, 47, 48, 49, 50,\n",
       "        51, 52, 53, 54, 55, 56, 57, 58, 59, 60, 61, 62, 63, 64, 65, 66, 67,\n",
       "        68, 69, 70, 71, 72, 73, 74, 75, 76, 77, 78, 79, 80, 81, 82, 83, 84,\n",
       "        85, 86, 87, 88, 89, 90, 91, 92, 93, 94, 95, 96, 97, 98]),\n",
       " 'Group_M_TopHat200': array([1.25773578e+05, 1.23946562e+05, 1.21772039e+05, 1.20312414e+05,\n",
       "        1.17864836e+05, 1.16102172e+05, 1.14202750e+05, 1.13225031e+05,\n",
       "        1.11842898e+05, 1.10702070e+05, 1.08849938e+05, 1.04321055e+05,\n",
       "        1.02341812e+05, 1.01266594e+05, 1.00703023e+05, 1.00989008e+05,\n",
       "        1.01182477e+05, 1.01133703e+05, 1.01304172e+05, 1.02538688e+05,\n",
       "        1.03482461e+05, 1.05067703e+05, 1.05348188e+05, 1.05328633e+05,\n",
       "        1.04804938e+05, 1.04417445e+05, 1.03479586e+05, 1.02347508e+05,\n",
       "        1.00667664e+05, 9.87655000e+04, 9.68104141e+04, 9.48404375e+04,\n",
       "        9.30569297e+04, 9.09489766e+04, 8.86748281e+04, 8.33264844e+04,\n",
       "        7.51900781e+04, 6.89720391e+04, 6.64919219e+04, 6.45912461e+04,\n",
       "        6.38737305e+04, 6.26740234e+04, 6.16364375e+04, 6.01741914e+04,\n",
       "        5.89990859e+04, 5.76223281e+04, 5.55587461e+04, 5.23657344e+04,\n",
       "        4.92750977e+04, 4.23708164e+04, 3.21773633e+04, 2.90719473e+04,\n",
       "        2.71175391e+04, 2.52768223e+04, 2.32471133e+04, 2.10242324e+04,\n",
       "        1.75051094e+04, 1.47099268e+04, 1.30337920e+04, 1.27449316e+04,\n",
       "        1.25161748e+04, 1.23296650e+04, 1.19213574e+04, 1.13104238e+04,\n",
       "        1.08144990e+04, 1.03913740e+04, 9.44807129e+03, 7.85462305e+03,\n",
       "        5.49806592e+03, 4.88603662e+03, 4.32628125e+03, 3.94324194e+03,\n",
       "        3.47404077e+03, 3.13337964e+03, 2.88780688e+03, 2.05784277e+03,\n",
       "        1.48114417e+03, 9.33342102e+02, 7.33974426e+02, 6.45254761e+02,\n",
       "        5.34891235e+02, 4.08219666e+02, 2.97369232e+02, 2.53251205e+02,\n",
       "        2.10769897e+02, 1.52904419e+02, 1.35650620e+02, 8.96749573e+01,\n",
       "        6.35505562e+01, 4.92750854e+01, 3.00681305e+01, 2.32882881e+01,\n",
       "        2.00232677e+01, 1.60077209e+01, 1.38642759e+01, 1.02731333e+01,\n",
       "        4.49535704e+00, 1.43080711e+00, 4.75759059e-02], dtype=float32),\n",
       " 'GroupMass': array([1.9404102e+05, 1.9261566e+05, 1.9041755e+05, 1.8906992e+05,\n",
       "        1.8764694e+05, 1.8723556e+05, 1.8576234e+05, 2.1759675e+05,\n",
       "        1.8349419e+05, 1.8318205e+05, 1.8263412e+05, 1.8086884e+05,\n",
       "        1.8031556e+05, 1.7977241e+05, 1.7893142e+05, 1.7781389e+05,\n",
       "        1.1037561e+05, 1.0460988e+05, 1.0384346e+05, 1.0339180e+05,\n",
       "        1.0269530e+05, 9.9362555e+04, 9.8326109e+04, 9.7156516e+04,\n",
       "        9.6557617e+04, 9.6094344e+04, 9.4626734e+04, 9.3523562e+04,\n",
       "        9.2269539e+04, 9.0695352e+04, 8.9784164e+04, 8.9010773e+04,\n",
       "        8.8359617e+04, 8.7453625e+04, 8.6767023e+04, 8.4901188e+04,\n",
       "        8.3743047e+04, 8.2318492e+04, 8.1070344e+04, 7.8253531e+04,\n",
       "        7.6970102e+04, 7.4730023e+04, 5.5553559e+04, 5.3792281e+04,\n",
       "        5.2818156e+04, 5.1490016e+04, 5.0383711e+04, 4.8909129e+04,\n",
       "        4.8232703e+04, 4.6505445e+04, 4.5006887e+04, 4.2749543e+04,\n",
       "        4.1387023e+04, 3.7949648e+04, 2.3117211e+04, 2.2901102e+04,\n",
       "        2.1041670e+04, 2.0278010e+04, 1.8702354e+04, 1.4206664e+04,\n",
       "        1.4277170e+04, 1.3886732e+04, 1.3419630e+04, 1.2743055e+04,\n",
       "        1.2471366e+04, 1.1834787e+04, 8.9350449e+03, 8.7272734e+03,\n",
       "        8.0372544e+03, 7.5353462e+03, 6.8025049e+03, 6.1748682e+03,\n",
       "        5.7203999e+03, 2.8664927e+03, 2.6975972e+03, 2.1848276e+03,\n",
       "        1.9833409e+03, 1.5112777e+03, 1.1986189e+03, 1.0459342e+03,\n",
       "        8.0102081e+02, 4.8107520e+02, 3.4748489e+02, 2.4543022e+02,\n",
       "        2.0999495e+02, 1.8814699e+02, 1.3958516e+02, 1.0849594e+02,\n",
       "        8.3050903e+01, 6.8085297e+01, 5.8616676e+01, 5.1782051e+01,\n",
       "        2.7009668e+01, 1.8317734e+01, 1.5501695e+01, 2.3588070e+01,\n",
       "        6.8553228e+00, 3.6469140e+00, 1.4735582e-01], dtype=float32),\n",
       " 'SubhaloMass': array([1.28334602e+05, 1.27397820e+05, 1.24799305e+05, 1.23562086e+05,\n",
       "        1.20330742e+05, 1.16727711e+05, 1.14727844e+05, 1.15796133e+05,\n",
       "        1.10698109e+05, 1.08938336e+05, 1.08914953e+05, 1.06237367e+05,\n",
       "        1.04377266e+05, 1.02653195e+05, 1.00039555e+05, 9.74477656e+04,\n",
       "        9.38224922e+04, 9.20447812e+04, 9.01629766e+04, 8.88808047e+04,\n",
       "        8.80295781e+04, 8.58185469e+04, 8.52798750e+04, 8.42550859e+04,\n",
       "        8.33632969e+04, 8.25908281e+04, 8.17255625e+04, 8.10782500e+04,\n",
       "        7.94134688e+04, 7.79743125e+04, 7.63617344e+04, 7.43621094e+04,\n",
       "        7.40169375e+04, 7.31294375e+04, 7.28033359e+04, 6.49486484e+04,\n",
       "        6.20704141e+04, 6.06366211e+04, 5.91540664e+04, 5.69527031e+04,\n",
       "        5.43142109e+04, 5.08358086e+04, 4.86454141e+04, 4.75128125e+04,\n",
       "        4.69810312e+04, 4.59238203e+04, 4.26424727e+04, 3.94602656e+04,\n",
       "        3.41632734e+04, 3.00237871e+04, 2.69425723e+04, 2.40641426e+04,\n",
       "        2.22627148e+04, 2.04720664e+04, 1.82347852e+04, 1.69614883e+04,\n",
       "        1.47742930e+04, 1.29793047e+04, 1.20920195e+04, 1.10285566e+04,\n",
       "        1.10290752e+04, 1.06750664e+04, 1.02227217e+04, 9.62833887e+03,\n",
       "        9.11964062e+03, 8.37362988e+03, 7.14547998e+03, 6.18641553e+03,\n",
       "        4.69106836e+03, 4.40485889e+03, 4.08571729e+03, 3.77130884e+03,\n",
       "        3.31781030e+03, 2.60481128e+03, 2.41879639e+03, 1.81030042e+03,\n",
       "        1.32252954e+03, 9.31527588e+02, 7.65403809e+02, 6.97342957e+02,\n",
       "        5.35353821e+02, 3.85691437e+02, 2.89174896e+02, 2.30259537e+02,\n",
       "        1.87087952e+02, 1.57617249e+02, 1.31919922e+02, 9.47296448e+01,\n",
       "        6.86403351e+01, 5.75965652e+01, 4.43317146e+01, 3.75425491e+01,\n",
       "        2.33861160e+01, 1.74723244e+01, 1.50886040e+01, 1.35798197e+01,\n",
       "        5.89143276e+00, 1.73825717e+00, 1.38102144e-01], dtype=float32),\n",
       " 'flag_iscen': array([1, 1, 1, 1, 1, 1, 1, 1, 1, 1, 1, 1, 1, 1, 1, 1, 1, 1, 1, 1, 1, 1,\n",
       "        1, 1, 1, 1, 1, 1, 1, 1, 1, 1, 1, 1, 1, 1, 1, 1, 1, 1, 1, 1, 1, 1,\n",
       "        1, 1, 1, 1, 1, 1, 1, 1, 1, 1, 1, 1, 1, 1, 1, 1, 1, 1, 1, 1, 1, 1,\n",
       "        1, 1, 1, 1, 1, 1, 1, 1, 1, 1, 1, 1, 1, 1, 1, 1, 1, 1, 1, 1, 1, 1,\n",
       "        1, 1, 1, 1, 1, 1, 1, 1, 1, 1, 1]),\n",
       " 'flag_aboveMthr': array([1, 1, 1, 1, 1, 1, 1, 1, 1, 1, 1, 1, 1, 1, 1, 1, 1, 1, 1, 1, 1, 1,\n",
       "        1, 1, 1, 1, 1, 1, 1, 1, 1, 1, 1, 1, 1, 1, 1, 1, 1, 1, 1, 1, 1, 1,\n",
       "        1, 1, 1, 1, 1, 1, 1, 1, 1, 1, 1, 1, 1, 1, 1, 1, 1, 1, 1, 1, 1, 1,\n",
       "        1, 1, 1, 1, 1, 1, 1, 1, 1, 1, 1, 1, 1, 1, 1, 1, 1, 1, 1, 1, 1, 1,\n",
       "        1, 1, 1, 1, 1, 1, 1, 1, 1, 1, 1]),\n",
       " 'TreeID': 0,\n",
       " 'IndexInHaloTable': array([ 0,  0,  0,  0,  0,  0,  0,  0,  0,  0,  0,  0,  0,  0,  0,  0,  0,\n",
       "         0,  0,  0,  0,  0,  0,  0,  0,  0,  0,  0,  0,  0,  0,  0,  0,  0,\n",
       "         0,  0,  0,  0,  0,  0,  0,  0,  0,  0,  0,  0,  0,  0,  0,  0,  0,\n",
       "         0,  0,  0,  1,  0,  0,  0,  0,  3,  3,  2,  1,  1,  0,  0,  2,  1,\n",
       "         1,  1,  1,  0,  0,  1,  1,  1,  1,  4,  3,  3,  3,  7, 10, 15, 14,\n",
       "        12, 18, 11, 12, 11,  8,  5, 19, 27, 30,  1, 19, -1, -1],\n",
       "       dtype=int32),\n",
       " 'Gamma': array([        nan,         nan,         nan,         nan,         nan,\n",
       "         0.15296315,  0.16428854,  0.18584385,  0.18187652,  0.17047298,\n",
       "         0.15445976,  0.13370831,  0.12089829,  0.10690395,  0.09143007,\n",
       "         0.0383742 , -0.00191502, -0.01200919, -0.02625921, -0.02938936,\n",
       "        -0.02581429, -0.02169734, -0.01320972,  0.01073889,  0.03642399,\n",
       "         0.05214002,  0.0731937 ,  0.09077799,  0.10469371,  0.12084447,\n",
       "         0.1371377 ,  0.15946465,  0.20566216,  0.32582448,  0.39850796,\n",
       "         0.4248155 ,  0.41165752,  0.37859071,  0.3143122 ,  0.17410313,\n",
       "         0.12614381,  0.10852605,  0.10707442,  0.12559756,  0.15252688,\n",
       "         0.20510978,  0.31296499,  0.53464722,  0.8072605 ,  0.91832694,\n",
       "         0.91917305,  0.79950045,  0.57412136,  0.4914706 ,  0.6043532 ,\n",
       "         0.7515449 ,  0.76937598,  0.60602747,  0.33477685,  0.07504606,\n",
       "         0.03631596,  0.05727061,  0.11373534,  0.14964837,  0.16602044,\n",
       "         0.23461823,  0.51149489,  0.86759923,  0.72741521,  0.37916831,\n",
       "         0.24939559,  0.22665155,  0.21257452,  0.26430666,  0.38965563,\n",
       "         0.70283761,  1.05658745,  0.7281495 ,  0.3653934 ,  0.40433152,\n",
       "         0.52704301,  0.61392641,  0.49721953,  0.41594472,  0.55576289,\n",
       "         0.6582362 ,  0.65086915,  0.60291405,  0.92619277,  1.42537436,\n",
       "         1.06496286,  0.33482268,  0.310715  ,  0.36736209,  0.46068763,\n",
       "         0.87994727,         nan,         nan,         nan])}"
      ]
     },
     "execution_count": 121,
     "metadata": {},
     "output_type": "execute_result"
    }
   ],
   "source": [
    "# lets pick one of these trees\n",
    "t_idx = 0\n",
    "t = trees2[t_idx]\n",
    "t"
   ]
  },
  {
   "cell_type": "code",
   "execution_count": 123,
   "metadata": {},
   "outputs": [
    {
     "data": {
      "text/plain": [
       "(99,)"
      ]
     },
     "execution_count": 123,
     "metadata": {},
     "output_type": "execute_result"
    }
   ],
   "source": [
    "t['Group_M_TopHat200'].shape"
   ]
  },
  {
   "cell_type": "code",
   "execution_count": 125,
   "metadata": {},
   "outputs": [
    {
     "data": {
      "text/plain": [
       "[<matplotlib.lines.Line2D at 0x29aa4af20>]"
      ]
     },
     "execution_count": 125,
     "metadata": {},
     "output_type": "execute_result"
    },
    {
     "data": {
      "image/png": "[encoded data removed]",
      "text/plain": [
       "<Figure size 640x480 with 1 Axes>"
      ]
     },
     "metadata": {},
     "output_type": "display_data"
    }
   ],
   "source": [
    "#let's plot gmass of this tree over time \n",
    "snaps_t = t['SnapNum']\n",
    "gmass_t = _convert_tng_mass(t['Group_M_TopHat200'])\n",
    "plt.plot(snaps_t, gmass_t, '-', c='r')"
   ]
  },
  {
   "cell_type": "code",
   "execution_count": 133,
   "metadata": {},
   "outputs": [
    {
     "data": {
      "text/plain": [
       "[<matplotlib.lines.Line2D at 0x1779605b0>]"
      ]
     },
     "execution_count": 133,
     "metadata": {},
     "output_type": "execute_result"
    },
    {
     "data": {
      "image/png": "[encoded data removed]",
      "text/plain": [
       "<Figure size 640x480 with 1 Axes>"
      ]
     },
     "metadata": {},
     "output_type": "display_data"
    }
   ],
   "source": [
    "# now with redshift \n",
    "snaps_t = t['SnapNum'][::-1] # early to late\n",
    "gmass_t = _convert_tng_mass(t['Group_M_TopHat200'])[::-1] # early to late\n",
    "plt.plot(scales[snaps_t], gmass_t, '-', c='r')\n"
   ]
  },
  {
   "cell_type": "markdown",
   "metadata": {},
   "source": [
    "## Match with trees "
   ]
  },
  {
   "cell_type": "code",
   "execution_count": 4,
   "metadata": {},
   "outputs": [],
   "source": [
    "import pandas"
   ]
  },
  {
   "cell_type": "code",
   "execution_count": 6,
   "metadata": {},
   "outputs": [],
   "source": [
    "cat = pandas.read_hdf(present_snapfile)"
   ]
  },
  {
   "cell_type": "code",
   "execution_count": 13,
   "metadata": {},
   "outputs": [
    {
     "name": "stdout",
     "output_type": "stream",
     "text": [
      "HaloID\n",
      "SubhaloID\n",
      "SubhaloID_DMO\n",
      "SubhaloID_LastDesc\n",
      "Central\n",
      "Main\n",
      "Mvir_TNG\n",
      "Rvir_TNG\n",
      "pos_x\n",
      "pos_y\n",
      "pos_z\n",
      "vel_x\n",
      "vel_y\n",
      "vel_z\n",
      "delta_2cMpc\n",
      "delta_5cMpc\n",
      "delta_10cMpc\n",
      "delta_20cMpc\n",
      "delta_40cMpc\n",
      "cvir_init\n",
      "cvir_init_err\n",
      "rho_s_init\n",
      "rho_s_init_err\n",
      "Bound_Nfrac\n",
      "Bound_Mfrac\n",
      "Bound_Nfrac_SUBFIND\n",
      "Rvir\n",
      "Mvir\n",
      "R200c\n",
      "M200c\n",
      "R500c\n",
      "M500c\n",
      "R2500c\n",
      "M2500c\n",
      "Core_vel_x\n",
      "Core_vel_y\n",
      "Core_vel_z\n",
      "Ngas\n",
      "Nstars\n",
      "Nbhs\n",
      "Mgas_vir\n",
      "Zgas_vir\n",
      "SFR_vir\n",
      "Y_vir\n",
      "Tm_vir\n",
      "K_vir\n",
      "Mgas_200c\n",
      "Zgas_200c\n",
      "SFR_200c\n",
      "Y_200c\n",
      "Tm_200c\n",
      "K_200c\n",
      "Mgas_500c\n",
      "Zgas_500c\n",
      "SFR_500c\n",
      "Y_500c\n",
      "Tm_500c\n",
      "K_500c\n",
      "Mgas_2500c\n",
      "Zgas_2500c\n",
      "SFR_2500c\n",
      "Y_2500c\n",
      "Tm_2500c\n",
      "K_2500c\n",
      "Mgas_10pkpc\n",
      "Zgas_10pkpc\n",
      "SFR_10pkpc\n",
      "Y_10pkpc\n",
      "Tm_10pkpc\n",
      "K_10pkpc\n",
      "Mgas_30pkpc\n",
      "Zgas_30pkpc\n",
      "SFR_30pkpc\n",
      "Y_30pkpc\n",
      "Tm_30pkpc\n",
      "K_30pkpc\n",
      "Mgas_100pkpc\n",
      "Zgas_100pkpc\n",
      "SFR_100pkpc\n",
      "Y_100pkpc\n",
      "Tm_100pkpc\n",
      "K_100pkpc\n",
      "Mstar_vir\n",
      "Zstar_vir\n",
      "tstar_vir\n",
      "Mstar_200c\n",
      "Zstar_200c\n",
      "tstar_200c\n",
      "Mstar_500c\n",
      "Zstar_500c\n",
      "tstar_500c\n",
      "Mstar_2500c\n",
      "Zstar_2500c\n",
      "tstar_2500c\n",
      "Mstar_10pkpc\n",
      "Zstar_10pkpc\n",
      "tstar_10pkpc\n",
      "Mstar_30pkpc\n",
      "Zstar_30pkpc\n",
      "tstar_30pkpc\n",
      "Mstar_100pkpc\n",
      "Zstar_100pkpc\n",
      "tstar_100pkpc\n",
      "Mbh_Rvir\n",
      "Mbh_clean_Rvir\n",
      "Mbh_Cen\n",
      "Mbh_clean_Cen\n",
      "Nsat_Msub8\n",
      "Nsat_Msub9\n",
      "Nsat_Msub10\n",
      "Nsat_Msub11\n",
      "Nsat_Msub12\n",
      "Nsat_Mstar6\n",
      "Nsat_Mstar7\n",
      "Nsat_Mstar8\n",
      "Nsat_Mstar9\n",
      "Nsat_Mstar10\n",
      "Rhalf\n",
      "Rhalf_gas\n",
      "Rhalf_stars\n",
      "R0p2_stars\n",
      "R0p8_stars\n",
      "cvir\n",
      "cvir_err\n",
      "rho_s\n",
      "rho_s_err\n",
      "M_s\n",
      "M_4s\n",
      "M_s_gas\n",
      "M_s_star\n",
      "Vmax_DM\n",
      "Rmax_DM\n",
      "Vmax_DM_self\n",
      "Rmax_DM_self\n",
      "Vmax_gas\n",
      "Rmax_gas\n",
      "Vmax_stars\n",
      "Rmax_stars\n",
      "s_DM_noiter\n",
      "q_DM_noiter\n",
      "A_DM_eig_x_noiter\n",
      "A_DM_eig_y_noiter\n",
      "A_DM_eig_z_noiter\n",
      "shapesDM_N_iter\n",
      "shapesDM_N_partfrac\n",
      "shapesDM_N_part\n",
      "s_DM\n",
      "q_DM\n",
      "s_DM_err\n",
      "q_DM_err\n",
      "A_DM_eig_x\n",
      "A_DM_eig_y\n",
      "A_DM_eig_z\n",
      "s_gas_noiter\n",
      "q_gas_noiter\n",
      "A_gas_eig_x_noiter\n",
      "A_gas_eig_y_noiter\n",
      "A_gas_eig_z_noiter\n",
      "s_star_noiter\n",
      "q_star_noiter\n",
      "A_star_eig_x_noiter\n",
      "A_star_eig_y_noiter\n",
      "A_star_eig_z_noiter\n",
      "X_off_DM\n",
      "V_off_DM\n",
      "X_off_gas\n",
      "V_off_gas\n",
      "X_off_star\n",
      "V_off_star\n",
      "Mean_vel_x_DM\n",
      "Mean_vel_y_DM\n",
      "Mean_vel_z_DM\n",
      "sigma_DM_X\n",
      "sigma_DM_Y\n",
      "sigma_DM_Z\n",
      "sigma_DM_3D\n",
      "sigma_DM_R\n",
      "Beta_anis_DM\n",
      "Mean_vel_x_gas\n",
      "Mean_vel_y_gas\n",
      "Mean_vel_z_gas\n",
      "sigma_gas_X\n",
      "sigma_gas_Y\n",
      "sigma_gas_Z\n",
      "sigma_gas_3D\n",
      "sigma_gas_R\n",
      "Beta_anis_gas\n",
      "Mean_vel_x_star\n",
      "Mean_vel_y_star\n",
      "Mean_vel_z_star\n",
      "sigma_star_X\n",
      "sigma_star_Y\n",
      "sigma_star_Z\n",
      "sigma_star_3D\n",
      "sigma_star_R\n",
      "Beta_anis_star\n",
      "Spin_Bullock_DM\n",
      "J_DM_x\n",
      "J_DM_y\n",
      "J_DM_z\n",
      "Spin_Bullock_gas\n",
      "J_gas_x\n",
      "J_gas_y\n",
      "J_gas_z\n",
      "Spin_Bullock_star\n",
      "J_star_x\n",
      "J_star_y\n",
      "J_star_z\n",
      "Mstar_bulge\n",
      "EndState\n"
     ]
    }
   ],
   "source": [
    "for c in cat.columns:\n",
    "    print(c)"
   ]
  },
  {
   "cell_type": "code",
   "execution_count": null,
   "metadata": {},
   "outputs": [],
   "source": []
  }
 ],
 "metadata": {
  "kernelspec": {
   "display_name": "multicam-P7T5KfjX-py3.10",
   "language": "python",
   "name": "python3"
  },
  "language_info": {
   "codemirror_mode": {
    "name": "ipython",
    "version": 3
   },
   "file_extension": ".py",
   "mimetype": "text/x-python",
   "name": "python",
   "nbconvert_exporter": "python",
   "pygments_lexer": "ipython3",
   "version": "3.10.13"
  },
  "orig_nbformat": 4
 },
 "nbformat": 4,
 "nbformat_minor": 2
}
