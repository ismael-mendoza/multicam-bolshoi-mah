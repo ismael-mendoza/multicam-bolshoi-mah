{
 "cells": [
  {
   "cell_type": "markdown",
   "metadata": {},
   "source": [
    "**Snapshots**: https://www.tng-project.org/data/downloads/TNG300-1/"
   ]
  },
  {
   "cell_type": "code",
   "execution_count": 1,
   "metadata": {},
   "outputs": [],
   "source": [
    "import numpy as np \n",
    "\n",
    "import pickle\n",
    "\n",
    "import pandas as pd\n",
    "\n",
    "\n",
    "import multicam\n",
    "\n",
    "from tqdm import tqdm"
   ]
  },
  {
   "cell_type": "code",
   "execution_count": 2,
   "metadata": {},
   "outputs": [],
   "source": [
    "import matplotlib.pyplot as plt"
   ]
  },
  {
   "cell_type": "code",
   "execution_count": 3,
   "metadata": {},
   "outputs": [],
   "source": [
    "trees_file = \"../../data/processed/tng/TNG300-1_cut_trees.p\"\n",
    "tng_snapshot_dir = \"../../data/processed/tng/TNG300-1/\"  # everything is a host halo\n",
    "present_snapfile = tng_snapshot_dir + \"TNG300-1_HaloHistory_MBP_snap99.hdf5\""
   ]
  },
  {
   "cell_type": "code",
   "execution_count": 4,
   "metadata": {},
   "outputs": [],
   "source": [
    "snaps = np.arange(0, 100, 1)"
   ]
  },
  {
   "cell_type": "code",
   "execution_count": 5,
   "metadata": {},
   "outputs": [],
   "source": [
    "metadata = pd.read_csv(\"../../data/processed/tng/tng300-1-table.csv\")\n",
    "zs = metadata['Redshift'].values\n",
    "scales = 1 / (1 + zs)"
   ]
  },
  {
   "cell_type": "code",
   "execution_count": 6,
   "metadata": {},
   "outputs": [],
   "source": [
    "TNG_H = 0.6774"
   ]
  },
  {
   "cell_type": "code",
   "execution_count": 7,
   "metadata": {},
   "outputs": [],
   "source": [
    "def _convert_tng_mass(gmass):\n",
    "    # robust to 0 mass\n",
    "    return np.where(gmass > 0, np.log10(gmass * 1e10 / TNG_H), 0)"
   ]
  },
  {
   "cell_type": "code",
   "execution_count": 8,
   "metadata": {},
   "outputs": [],
   "source": [
    "def _reverse_trees(trees):\n",
    "    \"\"\"Reverse each entry in trees so that order is from early to late times.\"\"\"\n",
    "    for tree in trees:\n",
    "        for key in tree.keys():\n",
    "            if key not in [\"Number\", \"ChunkNumber\", \"TreeID\"]:\n",
    "                tree[key] = tree[key][::-1]\n",
    "    return trees"
   ]
  },
  {
   "cell_type": "code",
   "execution_count": 9,
   "metadata": {},
   "outputs": [],
   "source": [
    "def _read_trees(trees_file:str):\n",
    "    \"\"\"Read in the trees file and convert masses to log10(M/Msun).\"\"\"\n",
    "    with open(trees_file, 'rb') as pickle_file:\n",
    "        _trees = pickle.load(pickle_file)\n",
    "        trees = _reverse_trees(_trees)\n",
    "        for tree in trees:\n",
    "            for k in tree.keys():\n",
    "                if \"Mass\" in k or \"_M_\" in k: \n",
    "                    tree[k] = _convert_tng_mass(tree[k])\n",
    "    return trees"
   ]
  },
  {
   "cell_type": "markdown",
   "metadata": {},
   "source": [
    "## TNG explore file"
   ]
  },
  {
   "cell_type": "code",
   "execution_count": 32,
   "metadata": {},
   "outputs": [],
   "source": [
    "# explore one tng file\n",
    "import h5py\n",
    "import numpy as np\n",
    "one_file = tng_snapshot_dir + \"TNG300-1_HaloHistory_MBP_snap99.hdf5\" # everything is a host halo\n",
    "f = h5py.File(one_file, 'r')"
   ]
  },
  {
   "cell_type": "code",
   "execution_count": 33,
   "metadata": {},
   "outputs": [
    {
     "data": {
      "text/plain": [
       "['Halos']"
      ]
     },
     "execution_count": 33,
     "metadata": {},
     "output_type": "execute_result"
    }
   ],
   "source": [
    "list(f.keys())"
   ]
  },
  {
   "cell_type": "code",
   "execution_count": 34,
   "metadata": {},
   "outputs": [
    {
     "data": {
      "text/plain": [
       "<KeysViewHDF5 ['axis0', 'axis1', 'block0_items', 'block0_values', 'block1_items', 'block1_values', 'block2_items', 'block2_values']>"
      ]
     },
     "execution_count": 34,
     "metadata": {},
     "output_type": "execute_result"
    }
   ],
   "source": [
    "f['Halos'].keys()"
   ]
  },
  {
   "cell_type": "code",
   "execution_count": 35,
   "metadata": {},
   "outputs": [
    {
     "data": {
      "text/plain": [
       "((210,),\n",
       " array([b'HaloID', b'SubhaloID', b'SubhaloID_DMO', b'SubhaloID_LastDesc',\n",
       "        b'Central', b'Main', b'Mvir_TNG', b'Rvir_TNG', b'pos_x', b'pos_y',\n",
       "        b'pos_z', b'vel_x', b'vel_y', b'vel_z', b'delta_2cMpc',\n",
       "        b'delta_5cMpc', b'delta_10cMpc', b'delta_20cMpc', b'delta_40cMpc',\n",
       "        b'cvir_init', b'cvir_init_err', b'rho_s_init', b'rho_s_init_err',\n",
       "        b'Bound_Nfrac', b'Bound_Mfrac', b'Bound_Nfrac_SUBFIND', b'Rvir',\n",
       "        b'Mvir', b'R200c', b'M200c', b'R500c', b'M500c', b'R2500c',\n",
       "        b'M2500c', b'Core_vel_x', b'Core_vel_y', b'Core_vel_z', b'Ngas',\n",
       "        b'Nstars', b'Nbhs', b'Mgas_vir', b'Zgas_vir', b'SFR_vir', b'Y_vir',\n",
       "        b'Tm_vir', b'K_vir', b'Mgas_200c', b'Zgas_200c', b'SFR_200c',\n",
       "        b'Y_200c', b'Tm_200c', b'K_200c', b'Mgas_500c', b'Zgas_500c',\n",
       "        b'SFR_500c', b'Y_500c', b'Tm_500c', b'K_500c', b'Mgas_2500c',\n",
       "        b'Zgas_2500c', b'SFR_2500c', b'Y_2500c', b'Tm_2500c', b'K_2500c',\n",
       "        b'Mgas_10pkpc', b'Zgas_10pkpc', b'SFR_10pkpc', b'Y_10pkpc',\n",
       "        b'Tm_10pkpc', b'K_10pkpc', b'Mgas_30pkpc', b'Zgas_30pkpc',\n",
       "        b'SFR_30pkpc', b'Y_30pkpc', b'Tm_30pkpc', b'K_30pkpc',\n",
       "        b'Mgas_100pkpc', b'Zgas_100pkpc', b'SFR_100pkpc', b'Y_100pkpc',\n",
       "        b'Tm_100pkpc', b'K_100pkpc', b'Mstar_vir', b'Zstar_vir',\n",
       "        b'tstar_vir', b'Mstar_200c', b'Zstar_200c', b'tstar_200c',\n",
       "        b'Mstar_500c', b'Zstar_500c', b'tstar_500c', b'Mstar_2500c',\n",
       "        b'Zstar_2500c', b'tstar_2500c', b'Mstar_10pkpc', b'Zstar_10pkpc',\n",
       "        b'tstar_10pkpc', b'Mstar_30pkpc', b'Zstar_30pkpc', b'tstar_30pkpc',\n",
       "        b'Mstar_100pkpc', b'Zstar_100pkpc', b'tstar_100pkpc', b'Mbh_Rvir',\n",
       "        b'Mbh_clean_Rvir', b'Mbh_Cen', b'Mbh_clean_Cen', b'Nsat_Msub8',\n",
       "        b'Nsat_Msub9', b'Nsat_Msub10', b'Nsat_Msub11', b'Nsat_Msub12',\n",
       "        b'Nsat_Mstar6', b'Nsat_Mstar7', b'Nsat_Mstar8', b'Nsat_Mstar9',\n",
       "        b'Nsat_Mstar10', b'Rhalf', b'Rhalf_gas', b'Rhalf_stars',\n",
       "        b'R0p2_stars', b'R0p8_stars', b'cvir', b'cvir_err', b'rho_s',\n",
       "        b'rho_s_err', b'M_s', b'M_4s', b'M_s_gas', b'M_s_star', b'Vmax_DM',\n",
       "        b'Rmax_DM', b'Vmax_DM_self', b'Rmax_DM_self', b'Vmax_gas',\n",
       "        b'Rmax_gas', b'Vmax_stars', b'Rmax_stars', b's_DM_noiter',\n",
       "        b'q_DM_noiter', b'A_DM_eig_x_noiter', b'A_DM_eig_y_noiter',\n",
       "        b'A_DM_eig_z_noiter', b'shapesDM_N_iter', b'shapesDM_N_partfrac',\n",
       "        b'shapesDM_N_part', b's_DM', b'q_DM', b's_DM_err', b'q_DM_err',\n",
       "        b'A_DM_eig_x', b'A_DM_eig_y', b'A_DM_eig_z', b's_gas_noiter',\n",
       "        b'q_gas_noiter', b'A_gas_eig_x_noiter', b'A_gas_eig_y_noiter',\n",
       "        b'A_gas_eig_z_noiter', b's_star_noiter', b'q_star_noiter',\n",
       "        b'A_star_eig_x_noiter', b'A_star_eig_y_noiter',\n",
       "        b'A_star_eig_z_noiter', b'X_off_DM', b'V_off_DM', b'X_off_gas',\n",
       "        b'V_off_gas', b'X_off_star', b'V_off_star', b'Mean_vel_x_DM',\n",
       "        b'Mean_vel_y_DM', b'Mean_vel_z_DM', b'sigma_DM_X', b'sigma_DM_Y',\n",
       "        b'sigma_DM_Z', b'sigma_DM_3D', b'sigma_DM_R', b'Beta_anis_DM',\n",
       "        b'Mean_vel_x_gas', b'Mean_vel_y_gas', b'Mean_vel_z_gas',\n",
       "        b'sigma_gas_X', b'sigma_gas_Y', b'sigma_gas_Z', b'sigma_gas_3D',\n",
       "        b'sigma_gas_R', b'Beta_anis_gas', b'Mean_vel_x_star',\n",
       "        b'Mean_vel_y_star', b'Mean_vel_z_star', b'sigma_star_X',\n",
       "        b'sigma_star_Y', b'sigma_star_Z', b'sigma_star_3D',\n",
       "        b'sigma_star_R', b'Beta_anis_star', b'Spin_Bullock_DM', b'J_DM_x',\n",
       "        b'J_DM_y', b'J_DM_z', b'Spin_Bullock_gas', b'J_gas_x', b'J_gas_y',\n",
       "        b'J_gas_z', b'Spin_Bullock_star', b'J_star_x', b'J_star_y',\n",
       "        b'J_star_z', b'Mstar_bulge', b'EndState'], dtype='|S19'))"
      ]
     },
     "execution_count": 35,
     "metadata": {},
     "output_type": "execute_result"
    }
   ],
   "source": [
    "ds = f['Halos']['axis0']\n",
    "ds[:].shape, ds[:]"
   ]
  },
  {
   "cell_type": "code",
   "execution_count": 36,
   "metadata": {},
   "outputs": [
    {
     "data": {
      "text/plain": [
       "array([    0,     1,     2, ..., 13640, 13641, 13642])"
      ]
     },
     "execution_count": 36,
     "metadata": {},
     "output_type": "execute_result"
    }
   ],
   "source": [
    "ds = f['Halos']['axis1']\n",
    "ds[:]"
   ]
  },
  {
   "cell_type": "code",
   "execution_count": 37,
   "metadata": {},
   "outputs": [
    {
     "data": {
      "text/plain": [
       "(13643, 205)"
      ]
     },
     "execution_count": 37,
     "metadata": {},
     "output_type": "execute_result"
    }
   ],
   "source": [
    "ds = f['Halos']['block0_values']\n",
    "ds[:].shape"
   ]
  },
  {
   "cell_type": "code",
   "execution_count": 38,
   "metadata": {},
   "outputs": [
    {
     "data": {
      "text/plain": [
       "array([b'HaloID', b'SubhaloID', b'SubhaloID_DMO', b'SubhaloID_LastDesc'],\n",
       "      dtype='|S18')"
      ]
     },
     "execution_count": 38,
     "metadata": {},
     "output_type": "execute_result"
    }
   ],
   "source": [
    "ds = f['Halos']['block1_items']\n",
    "ds[:]"
   ]
  },
  {
   "cell_type": "code",
   "execution_count": 39,
   "metadata": {},
   "outputs": [
    {
     "data": {
      "text/plain": [
       "(13643, 4)"
      ]
     },
     "execution_count": 39,
     "metadata": {},
     "output_type": "execute_result"
    }
   ],
   "source": [
    "ds = f['Halos']['block1_values']\n",
    "ds[:].shape"
   ]
  },
  {
   "cell_type": "code",
   "execution_count": 40,
   "metadata": {},
   "outputs": [
    {
     "data": {
      "text/plain": [
       "array([b'EndState'], dtype='|S8')"
      ]
     },
     "execution_count": 40,
     "metadata": {},
     "output_type": "execute_result"
    }
   ],
   "source": [
    "ds = f['Halos']['block2_items']\n",
    "ds[:]"
   ]
  },
  {
   "cell_type": "code",
   "execution_count": 41,
   "metadata": {},
   "outputs": [
    {
     "data": {
      "text/plain": [
       "(1,)"
      ]
     },
     "execution_count": 41,
     "metadata": {},
     "output_type": "execute_result"
    }
   ],
   "source": [
    "ds = f['Halos']['block2_values']\n",
    "ds[:].shape"
   ]
  },
  {
   "cell_type": "markdown",
   "metadata": {},
   "source": [
    "### Extract relevant quantities"
   ]
  },
  {
   "cell_type": "code",
   "execution_count": 42,
   "metadata": {},
   "outputs": [],
   "source": [
    "data = {}"
   ]
  },
  {
   "cell_type": "code",
   "execution_count": 43,
   "metadata": {},
   "outputs": [],
   "source": [
    "# from 'block1' we just neeed halo_id\n",
    "names = ['halo_id', 'subhalo_id']\n",
    "keys = [b'HaloID', b'SubhaloID']\n",
    "for name, key in zip(names, keys):\n",
    "    idx = np.where(f['Halos']['block1_items'][:] == key)[0].item()\n",
    "    data[name] = f['Halos']['block1_values'][:,idx]\n",
    "\n",
    "# halo_id = f['Halos']['block1_values'][:,0]\n",
    "# mvir = f['Halos']['block0_values'][:,1]"
   ]
  },
  {
   "cell_type": "code",
   "execution_count": 44,
   "metadata": {},
   "outputs": [],
   "source": [
    "# from 'block0' we need mvir\n",
    "names = ['mvir', 'm200', 'rvir', 'r200', 'm500', 'r500']\n",
    "keys = [b'Mvir', b'M200c', b'Rvir', b'R200c', b'M500c', b'R500c']\n",
    "for name, key in zip(names, keys):\n",
    "    idx = np.where(f['Halos']['block0_items'][:] == key)[0].item()\n",
    "    data[name] = f['Halos']['block0_values'][:,idx]"
   ]
  },
  {
   "cell_type": "code",
   "execution_count": 50,
   "metadata": {},
   "outputs": [
    {
     "data": {
      "text/plain": [
       "<matplotlib.lines.Line2D at 0x11ab7d780>"
      ]
     },
     "execution_count": 50,
     "metadata": {},
     "output_type": "execute_result"
    },
    {
     "data": {
      "image/png": "[encoded data removed]",
      "text/plain": [
       "<Figure size 640x480 with 1 Axes>"
      ]
     },
     "metadata": {},
     "output_type": "display_data"
    }
   ],
   "source": [
    "_, bins, _ = plt.hist(data['mvir'], bins=101); \n",
    "# plt.hist(data['m200'], bins=bins)\n",
    "plt.axvline(12.7, c='r')"
   ]
  },
  {
   "cell_type": "markdown",
   "metadata": {},
   "source": [
    "## Sanity check one MAH"
   ]
  },
  {
   "cell_type": "code",
   "execution_count": 10,
   "metadata": {},
   "outputs": [
    {
     "name": "stderr",
     "output_type": "stream",
     "text": [
      "/var/folders/yl/5w7yl6bn1tsc5fjrdtsrsjhh0000gn/T/ipykernel_69584/4011023914.py:3: RuntimeWarning: divide by zero encountered in log10\n",
      "  return np.where(gmass > 0, np.log10(gmass * 1e10 / TNG_H), 0)\n"
     ]
    }
   ],
   "source": [
    "# load pickle file\n",
    "trees = _read_trees(trees_file)\n",
    "cat = pd.read_hdf(present_snapfile)"
   ]
  },
  {
   "cell_type": "code",
   "execution_count": 11,
   "metadata": {},
   "outputs": [
    {
     "data": {
      "text/plain": [
       "(6567, 12522)"
      ]
     },
     "execution_count": 11,
     "metadata": {},
     "output_type": "execute_result"
    }
   ],
   "source": [
    "# Lets pick a halo in the mass complete sample (mvir > 12.7 ~ Group_M_TopHat200)\n",
    "\n",
    "# pick tress that have present day snap\n",
    "trees1 = [t for t in trees if 99 in t['SnapNum']]\n",
    "\n",
    "# now pick trees that have Group_M_TopHat200 > 12.8 (some margin)\n",
    "gmass1 = np.array([t['Group_M_TopHat200'][-1] for t in trees1])\n",
    "trees2 = [t for ii, t in enumerate(trees1) if gmass1[ii] > 12.8]\n",
    "len(trees2), len(trees1)"
   ]
  },
  {
   "cell_type": "code",
   "execution_count": 12,
   "metadata": {},
   "outputs": [
    {
     "data": {
      "text/plain": [
       "<matplotlib.legend.Legend at 0x16080c9a0>"
      ]
     },
     "execution_count": 12,
     "metadata": {},
     "output_type": "execute_result"
    },
    {
     "data": {
      "image/png": "[encoded data removed]",
      "text/plain": [
       "<Figure size 640x480 with 1 Axes>"
      ]
     },
     "metadata": {},
     "output_type": "display_data"
    }
   ],
   "source": [
    "_, bins, _ = plt.hist(gmass1, bins=101, histtype='step', color='k', density=True, label='gmass');\n",
    "_ = plt.hist(cat['Mvir'].values, bins=bins, histtype='step', color='r', density=True, label='mvir');\n",
    "plt.axvline(12.7, c='r')\n",
    "plt.legend()"
   ]
  },
  {
   "cell_type": "code",
   "execution_count": 13,
   "metadata": {},
   "outputs": [],
   "source": [
    "# lets pick one of these trees\n",
    "t_idx = 0\n",
    "t = trees2[t_idx]\n",
    "# t"
   ]
  },
  {
   "cell_type": "code",
   "execution_count": 14,
   "metadata": {},
   "outputs": [
    {
     "data": {
      "text/plain": [
       "(99,)"
      ]
     },
     "execution_count": 14,
     "metadata": {},
     "output_type": "execute_result"
    }
   ],
   "source": [
    "t['Group_M_TopHat200'].shape"
   ]
  },
  {
   "cell_type": "code",
   "execution_count": 15,
   "metadata": {},
   "outputs": [
    {
     "data": {
      "text/plain": [
       "[<matplotlib.lines.Line2D at 0x160d09d20>]"
      ]
     },
     "execution_count": 15,
     "metadata": {},
     "output_type": "execute_result"
    },
    {
     "data": {
      "image/png": "[encoded data removed]",
      "text/plain": [
       "<Figure size 640x480 with 1 Axes>"
      ]
     },
     "metadata": {},
     "output_type": "display_data"
    }
   ],
   "source": [
    "#let's plot gmass of this tree over time \n",
    "snaps_t = t['SnapNum']\n",
    "gmass_t = _convert_tng_mass(t['Group_M_TopHat200'])\n",
    "plt.plot(snaps_t, gmass_t, '-', c='r')"
   ]
  },
  {
   "cell_type": "code",
   "execution_count": 16,
   "metadata": {},
   "outputs": [
    {
     "data": {
      "text/plain": [
       "[<matplotlib.lines.Line2D at 0x160d668c0>]"
      ]
     },
     "execution_count": 16,
     "metadata": {},
     "output_type": "execute_result"
    },
    {
     "data": {
      "image/png": "[encoded data removed]",
      "text/plain": [
       "<Figure size 640x480 with 1 Axes>"
      ]
     },
     "metadata": {},
     "output_type": "display_data"
    }
   ],
   "source": [
    "# now with redshift \n",
    "snaps_t = t['SnapNum']\n",
    "gmass_t = _convert_tng_mass(t['Group_M_TopHat200'])\n",
    "plt.plot(scales[snaps_t], gmass_t, '-', c='r')\n"
   ]
  },
  {
   "cell_type": "markdown",
   "metadata": {},
   "source": [
    "## Sample selection and several MAHs"
   ]
  },
  {
   "cell_type": "code",
   "execution_count": 17,
   "metadata": {},
   "outputs": [
    {
     "data": {
      "text/plain": [
       "4510"
      ]
     },
     "execution_count": 17,
     "metadata": {},
     "output_type": "execute_result"
    }
   ],
   "source": [
    "# pick trees half a decade after cut at 12.8\n",
    "my_trees = [t for t in trees if 99 in t['SnapNum'] \n",
    "            and t['Group_M_TopHat200'][-1] > 12.8 \n",
    "            and t['Group_M_TopHat200'][-1] < 13.3]\n",
    "len(my_trees)"
   ]
  },
  {
   "cell_type": "code",
   "execution_count": 18,
   "metadata": {},
   "outputs": [
    {
     "data": {
      "image/png": "[encoded data removed]",
      "text/plain": [
       "<Figure size 640x480 with 1 Axes>"
      ]
     },
     "metadata": {},
     "output_type": "display_data"
    }
   ],
   "source": [
    "# double check\n",
    "gmass = [t['Group_M_TopHat200'][-1] for t in my_trees]\n",
    "plt.hist(gmass, bins=21, histtype='step', color='k', label='gmass');"
   ]
  },
  {
   "cell_type": "code",
   "execution_count": 19,
   "metadata": {},
   "outputs": [
    {
     "data": {
      "text/plain": [
       "(0.6185841597434866, 13.157593117913581, 13.2394905)"
      ]
     },
     "execution_count": 19,
     "metadata": {},
     "output_type": "execute_result"
    }
   ],
   "source": [
    "# now we need to match with catalog\n",
    "# let us check 1 halo\n",
    "halo_idx = my_trees[0]['IndexInHaloTable'][-1]\n",
    "mvir = cat[\"Mvir\"].to_numpy()[halo_idx]\n",
    "gmass = my_trees[0]['Group_M_TopHat200'][-1]\n",
    "(gmass - mvir) / gmass * 100 , mvir, gmass "
   ]
  },
  {
   "cell_type": "code",
   "execution_count": 38,
   "metadata": {},
   "outputs": [
    {
     "data": {
      "text/plain": [
       "(100,)"
      ]
     },
     "execution_count": 38,
     "metadata": {},
     "output_type": "execute_result"
    }
   ],
   "source": [
    "snaps.shape"
   ]
  },
  {
   "cell_type": "code",
   "execution_count": 20,
   "metadata": {},
   "outputs": [],
   "source": [
    "# get mah from trees, and convert to correct units\n",
    "mah = np.zeros((len(my_trees), len(snaps)))\n",
    "for ii, t in enumerate(my_trees):\n",
    "    mah_t = np.zeros(len(snaps)) * np.nan\n",
    "    t_snaps = t['SnapNum']\n",
    "    gmass = t['Group_M_TopHat200']\n",
    "    mah_t[t_snaps] = gmass\n",
    "\n",
    "    # linearly interpolate nan values \n",
    "    mah_t = pd.Series(mah_t)\n",
    "    mah_t = mah_t.interpolate(method='linear', limit_direction='forward', axis=0)\n",
    "    mah[ii] = mah_t.values"
   ]
  },
  {
   "cell_type": "code",
   "execution_count": 21,
   "metadata": {},
   "outputs": [
    {
     "data": {
      "image/png": "[encoded data removed]",
      "text/plain": [
       "<Figure size 640x480 with 1 Axes>"
      ]
     },
     "metadata": {},
     "output_type": "display_data"
    }
   ],
   "source": [
    "# plot 10 random mah as a function of scale \n",
    "for ii in range(10):\n",
    "    idx = np.random.randint(0, len(my_trees))\n",
    "    plt.plot(scales, mah[idx], '-', alpha=0.8\n",
    "    );\n",
    "# plt.plot(scales, mah.T, '-', alpha=0.1, c='k');"
   ]
  },
  {
   "cell_type": "code",
   "execution_count": 32,
   "metadata": {},
   "outputs": [],
   "source": [
    "# let's make a cutoff at a = 0.185 like in our original paper\n",
    "idx = np.where(scales > 0.185)[0][0]\n",
    "_snaps = snaps[idx:]\n",
    "_scales = scales[idx:]\n",
    "_mah = mah[:, idx:]"
   ]
  },
  {
   "cell_type": "code",
   "execution_count": 33,
   "metadata": {},
   "outputs": [
    {
     "data": {
      "text/plain": [
       "((4510, 80), (80,))"
      ]
     },
     "execution_count": 33,
     "metadata": {},
     "output_type": "execute_result"
    }
   ],
   "source": [
    "_mah.shape, _scales.shape"
   ]
  },
  {
   "cell_type": "code",
   "execution_count": 34,
   "metadata": {},
   "outputs": [
    {
     "data": {
      "text/plain": [
       "23"
      ]
     },
     "execution_count": 34,
     "metadata": {},
     "output_type": "execute_result"
    }
   ],
   "source": [
    "# how many nan's remain? \n",
    "np.isnan(_mah).sum()"
   ]
  },
  {
   "cell_type": "code",
   "execution_count": 35,
   "metadata": {},
   "outputs": [
    {
     "data": {
      "text/plain": [
       "(4509, 80)"
      ]
     },
     "execution_count": 35,
     "metadata": {},
     "output_type": "execute_result"
    }
   ],
   "source": [
    "# remove haloes with nans and hope not too many\n",
    "kp_idx = np.where(np.isnan(_mah).sum(axis=1) == 0)[0]\n",
    "_mah = _mah[kp_idx]\n",
    "assert np.isnan(_mah).sum() == 0 \n",
    "_mah.shape # only 1 halo had nan's"
   ]
  },
  {
   "cell_type": "markdown",
   "metadata": {},
   "source": [
    "## Create spearman correlation plots"
   ]
  },
  {
   "cell_type": "code",
   "execution_count": 36,
   "metadata": {},
   "outputs": [
    {
     "data": {
      "text/plain": [
       "(4509,)"
      ]
     },
     "execution_count": 36,
     "metadata": {},
     "output_type": "execute_result"
    }
   ],
   "source": [
    "# now all ids\n",
    "halo_ids = np.array([t['IndexInHaloTable'][-1] for t in my_trees])[kp_idx]\n",
    "halo_ids.shape"
   ]
  },
  {
   "cell_type": "code",
   "execution_count": 37,
   "metadata": {},
   "outputs": [],
   "source": [
    "exclude = [\"HaloID\", \"SubhaloID\", \"SubhaloID_DMO\", 'SubhaloID_LastDesc', 'Central', 'Main', 'EndState']"
   ]
  },
  {
   "cell_type": "code",
   "execution_count": 40,
   "metadata": {},
   "outputs": [
    {
     "data": {
      "text/plain": [
       "4509"
      ]
     },
     "execution_count": 40,
     "metadata": {},
     "output_type": "execute_result"
    }
   ],
   "source": [
    "# subset pandas dataframe to indices in halo_ids\n",
    "_cat = cat.iloc[halo_ids]\n",
    "len(_cat)"
   ]
  },
  {
   "cell_type": "code",
   "execution_count": 47,
   "metadata": {},
   "outputs": [],
   "source": [
    "# compute all spearman correlations for every quantity not in exclude\n",
    "from multicam.correlations import spearmanr\n",
    "corrs = {} \n",
    "for col in _cat.columns:\n",
    "    if col not in exclude:\n",
    "        corrs[col] = np.zeros(_mah.shape[1]) * np.nan\n",
    "        for jj in range(_mah.shape[1]):\n",
    "            corrs[col][jj] = spearmanr(_cat[col].values, _mah[:, jj])\n"
   ]
  },
  {
   "cell_type": "code",
   "execution_count": 53,
   "metadata": {},
   "outputs": [],
   "source": [
    "# now plot all correlations (separately), save to png\n",
    "for col in _cat.columns:\n",
    "    if col not in exclude:\n",
    "        plt.figure(figsize=(5, 5))\n",
    "        plt.plot(_scales, corrs[col], '-', c='k')\n",
    "        plt.xlabel(\"a\")\n",
    "        plt.ylabel(\"Spearman r\")\n",
    "        plt.title(col)\n",
    "        plt.savefig(f\"../../results/tng/figs/{col}.png\", bbox_inches='tight')\n",
    "        plt.close()"
   ]
  },
  {
   "cell_type": "code",
   "execution_count": 48,
   "metadata": {},
   "outputs": [
    {
     "data": {
      "text/plain": [
       "dict_keys(['Mvir_TNG', 'Rvir_TNG', 'pos_x', 'pos_y', 'pos_z', 'vel_x', 'vel_y', 'vel_z', 'delta_2cMpc', 'delta_5cMpc', 'delta_10cMpc', 'delta_20cMpc', 'delta_40cMpc', 'cvir_init', 'cvir_init_err', 'rho_s_init', 'rho_s_init_err', 'Bound_Nfrac', 'Bound_Mfrac', 'Bound_Nfrac_SUBFIND', 'Rvir', 'Mvir', 'R200c', 'M200c', 'R500c', 'M500c', 'R2500c', 'M2500c', 'Core_vel_x', 'Core_vel_y', 'Core_vel_z', 'Ngas', 'Nstars', 'Nbhs', 'Mgas_vir', 'Zgas_vir', 'SFR_vir', 'Y_vir', 'Tm_vir', 'K_vir', 'Mgas_200c', 'Zgas_200c', 'SFR_200c', 'Y_200c', 'Tm_200c', 'K_200c', 'Mgas_500c', 'Zgas_500c', 'SFR_500c', 'Y_500c', 'Tm_500c', 'K_500c', 'Mgas_2500c', 'Zgas_2500c', 'SFR_2500c', 'Y_2500c', 'Tm_2500c', 'K_2500c', 'Mgas_10pkpc', 'Zgas_10pkpc', 'SFR_10pkpc', 'Y_10pkpc', 'Tm_10pkpc', 'K_10pkpc', 'Mgas_30pkpc', 'Zgas_30pkpc', 'SFR_30pkpc', 'Y_30pkpc', 'Tm_30pkpc', 'K_30pkpc', 'Mgas_100pkpc', 'Zgas_100pkpc', 'SFR_100pkpc', 'Y_100pkpc', 'Tm_100pkpc', 'K_100pkpc', 'Mstar_vir', 'Zstar_vir', 'tstar_vir', 'Mstar_200c', 'Zstar_200c', 'tstar_200c', 'Mstar_500c', 'Zstar_500c', 'tstar_500c', 'Mstar_2500c', 'Zstar_2500c', 'tstar_2500c', 'Mstar_10pkpc', 'Zstar_10pkpc', 'tstar_10pkpc', 'Mstar_30pkpc', 'Zstar_30pkpc', 'tstar_30pkpc', 'Mstar_100pkpc', 'Zstar_100pkpc', 'tstar_100pkpc', 'Mbh_Rvir', 'Mbh_clean_Rvir', 'Mbh_Cen', 'Mbh_clean_Cen', 'Nsat_Msub8', 'Nsat_Msub9', 'Nsat_Msub10', 'Nsat_Msub11', 'Nsat_Msub12', 'Nsat_Mstar6', 'Nsat_Mstar7', 'Nsat_Mstar8', 'Nsat_Mstar9', 'Nsat_Mstar10', 'Rhalf', 'Rhalf_gas', 'Rhalf_stars', 'R0p2_stars', 'R0p8_stars', 'cvir', 'cvir_err', 'rho_s', 'rho_s_err', 'M_s', 'M_4s', 'M_s_gas', 'M_s_star', 'Vmax_DM', 'Rmax_DM', 'Vmax_DM_self', 'Rmax_DM_self', 'Vmax_gas', 'Rmax_gas', 'Vmax_stars', 'Rmax_stars', 's_DM_noiter', 'q_DM_noiter', 'A_DM_eig_x_noiter', 'A_DM_eig_y_noiter', 'A_DM_eig_z_noiter', 'shapesDM_N_iter', 'shapesDM_N_partfrac', 'shapesDM_N_part', 's_DM', 'q_DM', 's_DM_err', 'q_DM_err', 'A_DM_eig_x', 'A_DM_eig_y', 'A_DM_eig_z', 's_gas_noiter', 'q_gas_noiter', 'A_gas_eig_x_noiter', 'A_gas_eig_y_noiter', 'A_gas_eig_z_noiter', 's_star_noiter', 'q_star_noiter', 'A_star_eig_x_noiter', 'A_star_eig_y_noiter', 'A_star_eig_z_noiter', 'X_off_DM', 'V_off_DM', 'X_off_gas', 'V_off_gas', 'X_off_star', 'V_off_star', 'Mean_vel_x_DM', 'Mean_vel_y_DM', 'Mean_vel_z_DM', 'sigma_DM_X', 'sigma_DM_Y', 'sigma_DM_Z', 'sigma_DM_3D', 'sigma_DM_R', 'Beta_anis_DM', 'Mean_vel_x_gas', 'Mean_vel_y_gas', 'Mean_vel_z_gas', 'sigma_gas_X', 'sigma_gas_Y', 'sigma_gas_Z', 'sigma_gas_3D', 'sigma_gas_R', 'Beta_anis_gas', 'Mean_vel_x_star', 'Mean_vel_y_star', 'Mean_vel_z_star', 'sigma_star_X', 'sigma_star_Y', 'sigma_star_Z', 'sigma_star_3D', 'sigma_star_R', 'Beta_anis_star', 'Spin_Bullock_DM', 'J_DM_x', 'J_DM_y', 'J_DM_z', 'Spin_Bullock_gas', 'J_gas_x', 'J_gas_y', 'J_gas_z', 'Spin_Bullock_star', 'J_star_x', 'J_star_y', 'J_star_z', 'Mstar_bulge'])"
      ]
     },
     "execution_count": 48,
     "metadata": {},
     "output_type": "execute_result"
    }
   ],
   "source": [
    "corrs.keys()"
   ]
  },
  {
   "cell_type": "code",
   "execution_count": null,
   "metadata": {},
   "outputs": [],
   "source": []
  }
 ],
 "metadata": {
  "kernelspec": {
   "display_name": "multicam-P7T5KfjX-py3.10",
   "language": "python",
   "name": "python3"
  },
  "language_info": {
   "codemirror_mode": {
    "name": "ipython",
    "version": 3
   },
   "file_extension": ".py",
   "mimetype": "text/x-python",
   "name": "python",
   "nbconvert_exporter": "python",
   "pygments_lexer": "ipython3",
   "version": "3.10.13"
  },
  "orig_nbformat": 4
 },
 "nbformat": 4,
 "nbformat_minor": 2
}
