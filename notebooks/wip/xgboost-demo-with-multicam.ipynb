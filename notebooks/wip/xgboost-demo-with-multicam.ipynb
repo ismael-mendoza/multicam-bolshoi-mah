{
 "cells": [
  {
   "cell_type": "code",
   "execution_count": 1,
   "metadata": {},
   "outputs": [
    {
     "name": "stdout",
     "output_type": "stream",
     "text": [
      "Modules to reload:\n",
      "all-except-skipped\n",
      "\n",
      "Modules to skip:\n",
      "\n"
     ]
    }
   ],
   "source": [
    "%load_ext autoreload\n",
    "%autoreload 2\n",
    "%aimport"
   ]
  },
  {
   "cell_type": "code",
   "execution_count": 2,
   "metadata": {},
   "outputs": [],
   "source": [
    "%matplotlib inline"
   ]
  },
  {
   "cell_type": "code",
   "execution_count": 3,
   "metadata": {},
   "outputs": [],
   "source": [
    "import xgboost\n",
    "from xgboost import XGBRegressor"
   ]
  },
  {
   "cell_type": "code",
   "execution_count": 4,
   "metadata": {},
   "outputs": [],
   "source": [
    "import numpy as np\n",
    "import matplotlib.pyplot as plt \n",
    "import warnings\n",
    "from tqdm import tqdm"
   ]
  },
  {
   "cell_type": "code",
   "execution_count": 5,
   "metadata": {},
   "outputs": [],
   "source": [
    "from multicam.mah import get_mah"
   ]
  },
  {
   "cell_type": "markdown",
   "metadata": {},
   "source": [
    "# Load data"
   ]
  },
  {
   "cell_type": "code",
   "execution_count": 6,
   "metadata": {},
   "outputs": [],
   "source": [
    "mah_data = get_mah('../../data/processed/bolshoi_m12/', cutoff_missing=0.05, cutoff_particle=0.05)"
   ]
  },
  {
   "cell_type": "code",
   "execution_count": 7,
   "metadata": {},
   "outputs": [
    {
     "name": "stdout",
     "output_type": "stream",
     "text": [
      "(10000,) (10000,) (10000, 100) (10000, 165) (165,) (100,)\n"
     ]
    }
   ],
   "source": [
    "# catalog\n",
    "cat = mah_data['cat']\n",
    "xoff = cat['x0']\n",
    "cvir = cat['cvir']\n",
    "ma = mah_data['ma']\n",
    "am = mah_data['am']\n",
    "# ma_peak = mah_data['ma_peak']\n",
    "\n",
    "indices = mah_data['indices']\n",
    "scales = mah_data['scales']\n",
    "mass_bins = mah_data['mass_bins']\n",
    "print(cvir.shape, xoff.shape, am.shape, ma.shape, scales.shape, mass_bins.shape)"
   ]
  },
  {
   "cell_type": "markdown",
   "metadata": {},
   "source": [
    "## Load merger data"
   ]
  },
  {
   "cell_type": "code",
   "execution_count": 8,
   "metadata": {},
   "outputs": [
    {
     "data": {
      "text/plain": [
       "array([0.18635   , 0.22919211, 0.27203421, 0.31487632, 0.35771842,\n",
       "       0.40056053, 0.44340263, 0.48624474, 0.52908684, 0.57192895,\n",
       "       0.61477105, 0.65761316, 0.70045526, 0.74329737, 0.78613947,\n",
       "       0.82898158, 0.87182368, 0.91466579, 0.95750789, 1.00035   ])"
      ]
     },
     "execution_count": 8,
     "metadata": {},
     "output_type": "execute_result"
    }
   ],
   "source": [
    "# scale factor coarser bins \n",
    "min_scale, max_scale = np.min(scales), np.max(scales)\n",
    "scale_bins = np.linspace(min_scale, max_scale, 20)\n",
    "scale_bins"
   ]
  },
  {
   "cell_type": "code",
   "execution_count": 9,
   "metadata": {},
   "outputs": [],
   "source": [
    "# for each simulation scale, get MM \n",
    "# first we need merger ratio at every scale \n",
    "merger_ratio_inst  = np.zeros((len(cat), len(scales)))\n",
    "merger_ratio_present = np.zeros((len(cat), len(scales)))\n",
    "for i in range(len(cat)):\n",
    "    for j, idx in enumerate(indices): \n",
    "        m2_name = f'm2_a{idx}' # TODO: Check what this corresponds to\n",
    "        cpg_name = f'coprog_mvir_a{idx-1}' # want coprogenitor mass at previous timestep.\n",
    "        mvir_name = f'mvir_a{idx}'\n",
    "        \n",
    "        # get inst ratios\n",
    "        m2_ratio = cat[m2_name][i].item() / cat[mvir_name][i].item()\n",
    "        merger_ratio_inst[i, j] = m2_ratio\n",
    "        \n",
    "        # present ratios\n",
    "        m2_ratio = cat[m2_name][i] / cat['mvir'][i].item()\n",
    "        merger_ratio_present[i, j] = m2_ratio\n",
    "    "
   ]
  },
  {
   "cell_type": "code",
   "execution_count": 10,
   "metadata": {},
   "outputs": [],
   "source": [
    "# construct indicator for each halo whether they have a MM in a given scale bine \n",
    "Mu = [0.3/1.3, 0.1 / 1.1 , 0.03 / (1 + 0.03), 0.01 / 1.01]\n",
    "inst_mask = np.zeros((len(Mu), len(cat), len(scale_bins)-1))\n",
    "present_mask = np.zeros((len(Mu), len(cat), len(scale_bins)-1))\n",
    "\n",
    "# ignore all nanmax warning, these will return np.nan's which is expected. \n",
    "warnings.simplefilter(\"ignore\", category=RuntimeWarning)\n",
    "\n",
    "for kk, mu in enumerate(Mu):\n",
    "    for jj in range(len(scale_bins) - 1):\n",
    "        # get largest merger ratio in this scale bin\n",
    "        mask = (scales >= scale_bins[jj]) & (scales < scale_bins[jj+1])\n",
    "        inst_mask[kk, :, jj] = np.nanmax(merger_ratio_inst[:, mask], axis=1) > mu\n",
    "        present_mask[kk, :, jj] = np.nanmax(merger_ratio_present[:, mask], axis=1) > mu"
   ]
  },
  {
   "cell_type": "code",
   "execution_count": 11,
   "metadata": {},
   "outputs": [],
   "source": [
    "x1 = ma\n",
    "\n",
    "mask2 = np.isnan(merger_ratio_inst)\n",
    "x2 = np.where(mask2, 0, merger_ratio_inst)\n",
    "\n",
    "# use scale_bins instead of scales, take max over mergers in each bin.\n",
    "x3 = np.zeros((x2.shape[0], scale_bins.shape[0]))\n",
    "for ii, scale in enumerate(scales):\n",
    "    jj = np.where(scale >= scale_bins)[0][-1]\n",
    "    arr = np.vstack([x3[:, jj], x2[:, ii]])\n",
    "    assert arr.shape == (2, 10000)\n",
    "    x3[:, jj] = np.max(arr, axis=0)"
   ]
  },
  {
   "cell_type": "markdown",
   "metadata": {},
   "source": [
    "# Train xgboost to predict concentration"
   ]
  },
  {
   "cell_type": "code",
   "execution_count": 12,
   "metadata": {},
   "outputs": [],
   "source": [
    "# subsample ma to reduce features every 10 \n",
    "x = ma[:,::10]\n",
    "y = np.concatenate([cat['cvir'][:, None], cat['x0'][:, None], cat['t/|u|'][:, None], \n",
    "                    cat['spin_bullock'][:, None], cat['c_to_a'][:,None]], \n",
    "                    axis=1)"
   ]
  },
  {
   "cell_type": "code",
   "execution_count": 13,
   "metadata": {},
   "outputs": [
    {
     "data": {
      "text/plain": [
       "((5000, 17), (5000, 5), (2500, 17), (2500, 5), (2500, 17), (2500, 5))"
      ]
     },
     "execution_count": 13,
     "metadata": {},
     "output_type": "execute_result"
    }
   ],
   "source": [
    "# test train split\n",
    "from sklearn.model_selection import train_test_split\n",
    "x_train, x_test, y_train, y_test = train_test_split(x, y, test_size=0.5, random_state=42)\n",
    "x_val, x_test, y_val, y_test = train_test_split(x_test, y_test, test_size=0.5, random_state=42)\n",
    "x_train.shape, y_train.shape, x_val.shape, y_val.shape, x_test.shape, y_test.shape"
   ]
  },
  {
   "cell_type": "code",
   "execution_count": 14,
   "metadata": {},
   "outputs": [],
   "source": [
    "from multicam.models import XGB\n",
    "model = XGB(17, 5, \n",
    "            {'max_depth': 7, 'n_estimators': 1000, 'eta': 0.1, 'subsample': 0.7, 'colsample_bytree': 0.8, 'eval_metric': 'rmse', 'early_stopping_rounds': 100,}, \n",
    "            { 'verbose': True, 'eval_set': [(x_val, y_val)]}, use_multicam=True, use_multicam_no_ranks=False)"
   ]
  },
  {
   "cell_type": "code",
   "execution_count": 15,
   "metadata": {},
   "outputs": [
    {
     "name": "stdout",
     "output_type": "stream",
     "text": [
      "[0]\tvalidation_0-rmse:4.15651\n",
      "[1]\tvalidation_0-rmse:4.16721\n",
      "[2]\tvalidation_0-rmse:4.17443\n",
      "[3]\tvalidation_0-rmse:4.18705\n",
      "[4]\tvalidation_0-rmse:4.20101\n",
      "[5]\tvalidation_0-rmse:4.20721\n",
      "[6]\tvalidation_0-rmse:4.20742\n",
      "[7]\tvalidation_0-rmse:4.21283\n",
      "[8]\tvalidation_0-rmse:4.21578\n",
      "[9]\tvalidation_0-rmse:4.22007\n",
      "[10]\tvalidation_0-rmse:4.22137\n",
      "[11]\tvalidation_0-rmse:4.22337\n",
      "[12]\tvalidation_0-rmse:4.22494\n",
      "[13]\tvalidation_0-rmse:4.23204\n",
      "[14]\tvalidation_0-rmse:4.24143\n",
      "[15]\tvalidation_0-rmse:4.24437\n",
      "[16]\tvalidation_0-rmse:4.24413\n",
      "[17]\tvalidation_0-rmse:4.24784\n",
      "[18]\tvalidation_0-rmse:4.24831\n",
      "[19]\tvalidation_0-rmse:4.24940\n",
      "[20]\tvalidation_0-rmse:4.25252\n",
      "[21]\tvalidation_0-rmse:4.24637\n",
      "[22]\tvalidation_0-rmse:4.24771\n",
      "[23]\tvalidation_0-rmse:4.24485\n",
      "[24]\tvalidation_0-rmse:4.24629\n",
      "[25]\tvalidation_0-rmse:4.24507\n",
      "[26]\tvalidation_0-rmse:4.24536\n",
      "[27]\tvalidation_0-rmse:4.24933\n",
      "[28]\tvalidation_0-rmse:4.24933\n",
      "[29]\tvalidation_0-rmse:4.24838\n",
      "[30]\tvalidation_0-rmse:4.25001\n",
      "[31]\tvalidation_0-rmse:4.25124\n",
      "[32]\tvalidation_0-rmse:4.25245\n",
      "[33]\tvalidation_0-rmse:4.25458\n",
      "[34]\tvalidation_0-rmse:4.25064\n",
      "[35]\tvalidation_0-rmse:4.25242\n",
      "[36]\tvalidation_0-rmse:4.24933\n",
      "[37]\tvalidation_0-rmse:4.25124\n",
      "[38]\tvalidation_0-rmse:4.25023\n",
      "[39]\tvalidation_0-rmse:4.24899\n",
      "[40]\tvalidation_0-rmse:4.24848\n",
      "[41]\tvalidation_0-rmse:4.24908\n",
      "[42]\tvalidation_0-rmse:4.24986\n",
      "[43]\tvalidation_0-rmse:4.25031\n",
      "[44]\tvalidation_0-rmse:4.25013\n",
      "[45]\tvalidation_0-rmse:4.25008\n",
      "[46]\tvalidation_0-rmse:4.25064\n",
      "[47]\tvalidation_0-rmse:4.25063\n",
      "[48]\tvalidation_0-rmse:4.25030\n",
      "[49]\tvalidation_0-rmse:4.25004\n",
      "[50]\tvalidation_0-rmse:4.25049\n",
      "[51]\tvalidation_0-rmse:4.24947\n",
      "[52]\tvalidation_0-rmse:4.24936\n",
      "[53]\tvalidation_0-rmse:4.24986\n",
      "[54]\tvalidation_0-rmse:4.25046\n",
      "[55]\tvalidation_0-rmse:4.24946\n",
      "[56]\tvalidation_0-rmse:4.24930\n",
      "[57]\tvalidation_0-rmse:4.24901\n",
      "[58]\tvalidation_0-rmse:4.24938\n",
      "[59]\tvalidation_0-rmse:4.24897\n",
      "[60]\tvalidation_0-rmse:4.24891\n",
      "[61]\tvalidation_0-rmse:4.24912\n",
      "[62]\tvalidation_0-rmse:4.24879\n",
      "[63]\tvalidation_0-rmse:4.24692\n",
      "[64]\tvalidation_0-rmse:4.24634\n",
      "[65]\tvalidation_0-rmse:4.24607\n",
      "[66]\tvalidation_0-rmse:4.24673\n",
      "[67]\tvalidation_0-rmse:4.24610\n",
      "[68]\tvalidation_0-rmse:4.24655\n",
      "[69]\tvalidation_0-rmse:4.23669\n",
      "[70]\tvalidation_0-rmse:4.23581\n",
      "[71]\tvalidation_0-rmse:4.23566\n",
      "[72]\tvalidation_0-rmse:4.23570\n",
      "[73]\tvalidation_0-rmse:4.23731\n",
      "[74]\tvalidation_0-rmse:4.23677\n",
      "[75]\tvalidation_0-rmse:4.23635\n",
      "[76]\tvalidation_0-rmse:4.23640\n",
      "[77]\tvalidation_0-rmse:4.23646\n",
      "[78]\tvalidation_0-rmse:4.23682\n",
      "[79]\tvalidation_0-rmse:4.23556\n",
      "[80]\tvalidation_0-rmse:4.23439\n",
      "[81]\tvalidation_0-rmse:4.23443\n",
      "[82]\tvalidation_0-rmse:4.23447\n",
      "[83]\tvalidation_0-rmse:4.23474\n",
      "[84]\tvalidation_0-rmse:4.23457\n",
      "[85]\tvalidation_0-rmse:4.23431\n",
      "[86]\tvalidation_0-rmse:4.23475\n",
      "[87]\tvalidation_0-rmse:4.23435\n",
      "[88]\tvalidation_0-rmse:4.23435\n",
      "[89]\tvalidation_0-rmse:4.23457\n",
      "[90]\tvalidation_0-rmse:4.23504\n",
      "[91]\tvalidation_0-rmse:4.23578\n",
      "[92]\tvalidation_0-rmse:4.23661\n",
      "[93]\tvalidation_0-rmse:4.23715\n",
      "[94]\tvalidation_0-rmse:4.23640\n",
      "[95]\tvalidation_0-rmse:4.23467\n",
      "[96]\tvalidation_0-rmse:4.23416\n",
      "[97]\tvalidation_0-rmse:4.23419\n",
      "[98]\tvalidation_0-rmse:4.23472\n",
      "[99]\tvalidation_0-rmse:4.23478\n",
      "[100]\tvalidation_0-rmse:4.23490\n"
     ]
    }
   ],
   "source": [
    "model.fit(x_train, y_train)"
   ]
  },
  {
   "cell_type": "code",
   "execution_count": 16,
   "metadata": {},
   "outputs": [],
   "source": [
    "y_pred = model.predict(x_test)"
   ]
  },
  {
   "cell_type": "code",
   "execution_count": 17,
   "metadata": {},
   "outputs": [
    {
     "data": {
      "text/plain": [
       "(2500, 5)"
      ]
     },
     "execution_count": 17,
     "metadata": {},
     "output_type": "execute_result"
    }
   ],
   "source": [
    "y_pred.shape"
   ]
  },
  {
   "cell_type": "code",
   "execution_count": 18,
   "metadata": {},
   "outputs": [
    {
     "data": {
      "image/png": "[encoded data removed]",
      "text/plain": [
       "<Figure size 640x480 with 1 Axes>"
      ]
     },
     "metadata": {},
     "output_type": "display_data"
    }
   ],
   "source": [
    "# evaluate by looking at histograms of residuals\n",
    "res = (y_pred[:, 0] - y_test[:, 0])/y_test[:, 0]\n",
    "plt.hist(res, bins=50, range=(-2, 2), histtype='step', density=True, label='residuals');"
   ]
  },
  {
   "cell_type": "code",
   "execution_count": 19,
   "metadata": {},
   "outputs": [
    {
     "name": "stdout",
     "output_type": "stream",
     "text": [
      "cvir\n",
      "0.7663457872817074\n",
      "xoff\n",
      "0.6584143166816306\n",
      "t/|u|\n",
      "0.763720481281972\n",
      "spin_bullock\n",
      "0.47794606425315994\n",
      "c_to_a\n",
      "0.4890635265061603\n"
     ]
    }
   ],
   "source": [
    "from multicam.correlations import spearmanr\n",
    "params = ['cvir', 'xoff', 't/|u|', 'spin_bullock', 'c_to_a']\n",
    "for ii in range(5):\n",
    "    print(params[ii])\n",
    "    print(spearmanr(y_test[:, ii], y_pred[:, ii]))"
   ]
  },
  {
   "cell_type": "code",
   "execution_count": 20,
   "metadata": {},
   "outputs": [
    {
     "data": {
      "text/plain": [
       "<matplotlib.legend.Legend at 0x15fe30760>"
      ]
     },
     "execution_count": 20,
     "metadata": {},
     "output_type": "execute_result"
    },
    {
     "data": {
      "image/png": "[encoded data removed]",
      "text/plain": [
       "<Figure size 640x480 with 1 Axes>"
      ]
     },
     "metadata": {},
     "output_type": "display_data"
    }
   ],
   "source": [
    "# concentration\n",
    "_, bins, _ = plt.hist(y_pred[:,0], histtype='step', bins=50, label='pred')\n",
    "plt.hist(y_test[:, 0], bins=bins, histtype='step', label='true')\n",
    "plt.legend()"
   ]
  },
  {
   "cell_type": "code",
   "execution_count": 21,
   "metadata": {},
   "outputs": [
    {
     "data": {
      "text/plain": [
       "<matplotlib.legend.Legend at 0x15fede9a0>"
      ]
     },
     "execution_count": 21,
     "metadata": {},
     "output_type": "execute_result"
    },
    {
     "data": {
      "image/png": "[encoded data removed]",
      "text/plain": [
       "<Figure size 640x480 with 1 Axes>"
      ]
     },
     "metadata": {},
     "output_type": "display_data"
    }
   ],
   "source": [
    "# concentration\n",
    "_, bins, _ = plt.hist(y_pred[:,2], histtype='step', bins=50, label='pred')\n",
    "plt.hist(y_test[:, 2], bins=bins, histtype='step', label='true')\n",
    "plt.legend()"
   ]
  },
  {
   "cell_type": "code",
   "execution_count": 22,
   "metadata": {},
   "outputs": [
    {
     "data": {
      "text/plain": [
       "<matplotlib.collections.PathCollection at 0x17fcddf40>"
      ]
     },
     "execution_count": 22,
     "metadata": {},
     "output_type": "execute_result"
    },
    {
     "data": {
      "image/png": "[encoded data removed]",
      "text/plain": [
       "<Figure size 640x480 with 1 Axes>"
      ]
     },
     "metadata": {},
     "output_type": "display_data"
    }
   ],
   "source": [
    "# scatter \n",
    "plt.scatter(y_pred[:, 0], y_pred[:, 1], s=1, alpha=0.3)\n",
    "plt.scatter(y_test[:, 0], y_test[:, 1], s=1, alpha=0.1, c='r')"
   ]
  },
  {
   "cell_type": "markdown",
   "metadata": {},
   "source": [
    "# Predicting concentration with coarse merger information"
   ]
  },
  {
   "cell_type": "code",
   "execution_count": 169,
   "metadata": {},
   "outputs": [],
   "source": [
    "# subsample ma to reduce features every 10 \n",
    "x1 = ma[:, ::10]\n",
    "x = np.concatenate([x1, x3], axis=1)\n",
    "y = cvir[:, None]"
   ]
  },
  {
   "cell_type": "code",
   "execution_count": 170,
   "metadata": {},
   "outputs": [],
   "source": [
    "# same initiliazation \n",
    "model_m = XGBRegressor(n_estimators=1000, max_depth=7, eta=0.1, subsample=0.7, colsample_bytree=0.8)"
   ]
  },
  {
   "cell_type": "code",
   "execution_count": 171,
   "metadata": {},
   "outputs": [
    {
     "data": {
      "text/plain": [
       "((5000, 37), (5000, 1), (2500, 37), (2500, 1), (2500, 37), (2500, 1))"
      ]
     },
     "execution_count": 171,
     "metadata": {},
     "output_type": "execute_result"
    }
   ],
   "source": [
    "# test train split\n",
    "from sklearn.model_selection import train_test_split\n",
    "x_train, x_test, y_train, y_test = train_test_split(x, y, test_size=0.5, random_state=42)\n",
    "x_val, x_test, y_val, y_test = train_test_split(x_test, y_test, test_size=0.5, random_state=42)\n",
    "x_train.shape, y_train.shape, x_val.shape, y_val.shape, x_test.shape, y_test.shape"
   ]
  },
  {
   "cell_type": "code",
   "execution_count": 180,
   "metadata": {},
   "outputs": [],
   "source": [
    "from multicam.models import XGB\n",
    "model_m = XGB(37, 1, \n",
    "            {'max_depth': 7, 'n_estimators': 1000, 'eta': 0.1, 'subsample': 0.7, 'colsample_bytree': 0.8, 'eval_metric': 'mae', 'early_stopping_rounds': 100,}, \n",
    "            { 'verbose': True, 'eval_set': [(x_val, y_val)]}, use_multicam=False, use_multicam_no_ranks=False)"
   ]
  },
  {
   "cell_type": "code",
   "execution_count": 181,
   "metadata": {},
   "outputs": [
    {
     "name": "stdout",
     "output_type": "stream",
     "text": [
      "[0]\tvalidation_0-mae:7.77669\n",
      "[1]\tvalidation_0-mae:7.00957\n",
      "[2]\tvalidation_0-mae:6.32711\n"
     ]
    },
    {
     "name": "stdout",
     "output_type": "stream",
     "text": [
      "[3]\tvalidation_0-mae:5.71541\n",
      "[4]\tvalidation_0-mae:5.15923\n",
      "[5]\tvalidation_0-mae:4.66148\n",
      "[6]\tvalidation_0-mae:4.22221\n",
      "[7]\tvalidation_0-mae:3.83007\n",
      "[8]\tvalidation_0-mae:3.47972\n",
      "[9]\tvalidation_0-mae:3.16160\n",
      "[10]\tvalidation_0-mae:2.88451\n",
      "[11]\tvalidation_0-mae:2.64758\n",
      "[12]\tvalidation_0-mae:2.43839\n",
      "[13]\tvalidation_0-mae:2.25773\n",
      "[14]\tvalidation_0-mae:2.10078\n",
      "[15]\tvalidation_0-mae:1.96676\n",
      "[16]\tvalidation_0-mae:1.85186\n",
      "[17]\tvalidation_0-mae:1.75539\n",
      "[18]\tvalidation_0-mae:1.67254\n",
      "[19]\tvalidation_0-mae:1.60468\n",
      "[20]\tvalidation_0-mae:1.54663\n",
      "[21]\tvalidation_0-mae:1.49929\n",
      "[22]\tvalidation_0-mae:1.45901\n",
      "[23]\tvalidation_0-mae:1.42544\n",
      "[24]\tvalidation_0-mae:1.39892\n",
      "[25]\tvalidation_0-mae:1.37635\n",
      "[26]\tvalidation_0-mae:1.35636\n",
      "[27]\tvalidation_0-mae:1.34126\n",
      "[28]\tvalidation_0-mae:1.32950\n",
      "[29]\tvalidation_0-mae:1.31869\n",
      "[30]\tvalidation_0-mae:1.30938\n",
      "[31]\tvalidation_0-mae:1.30179\n",
      "[32]\tvalidation_0-mae:1.29481\n",
      "[33]\tvalidation_0-mae:1.28946\n",
      "[34]\tvalidation_0-mae:1.28662\n",
      "[35]\tvalidation_0-mae:1.28127\n",
      "[36]\tvalidation_0-mae:1.27695\n",
      "[37]\tvalidation_0-mae:1.27376\n",
      "[38]\tvalidation_0-mae:1.27298\n",
      "[39]\tvalidation_0-mae:1.27110\n",
      "[40]\tvalidation_0-mae:1.26988\n",
      "[41]\tvalidation_0-mae:1.26795\n",
      "[42]\tvalidation_0-mae:1.26617\n",
      "[43]\tvalidation_0-mae:1.26430\n",
      "[44]\tvalidation_0-mae:1.26309\n",
      "[45]\tvalidation_0-mae:1.26172\n",
      "[46]\tvalidation_0-mae:1.25995\n",
      "[47]\tvalidation_0-mae:1.25996\n",
      "[48]\tvalidation_0-mae:1.25890\n",
      "[49]\tvalidation_0-mae:1.25873\n",
      "[50]\tvalidation_0-mae:1.25659\n",
      "[51]\tvalidation_0-mae:1.25713\n",
      "[52]\tvalidation_0-mae:1.25691\n",
      "[53]\tvalidation_0-mae:1.25675\n",
      "[54]\tvalidation_0-mae:1.25695\n",
      "[55]\tvalidation_0-mae:1.25709\n",
      "[56]\tvalidation_0-mae:1.25675\n",
      "[57]\tvalidation_0-mae:1.25448\n",
      "[58]\tvalidation_0-mae:1.25368\n",
      "[59]\tvalidation_0-mae:1.25361\n",
      "[60]\tvalidation_0-mae:1.25440\n",
      "[61]\tvalidation_0-mae:1.25436\n",
      "[62]\tvalidation_0-mae:1.25318\n",
      "[63]\tvalidation_0-mae:1.25277\n",
      "[64]\tvalidation_0-mae:1.25105\n",
      "[65]\tvalidation_0-mae:1.24988\n",
      "[66]\tvalidation_0-mae:1.25007\n",
      "[67]\tvalidation_0-mae:1.24996\n",
      "[68]\tvalidation_0-mae:1.25007\n",
      "[69]\tvalidation_0-mae:1.24995\n",
      "[70]\tvalidation_0-mae:1.24968\n",
      "[71]\tvalidation_0-mae:1.24994\n",
      "[72]\tvalidation_0-mae:1.24921\n",
      "[73]\tvalidation_0-mae:1.24970\n",
      "[74]\tvalidation_0-mae:1.24934\n",
      "[75]\tvalidation_0-mae:1.24958\n",
      "[76]\tvalidation_0-mae:1.24939\n",
      "[77]\tvalidation_0-mae:1.24902\n",
      "[78]\tvalidation_0-mae:1.24981\n",
      "[79]\tvalidation_0-mae:1.24970\n",
      "[80]\tvalidation_0-mae:1.24943\n",
      "[81]\tvalidation_0-mae:1.24930\n",
      "[82]\tvalidation_0-mae:1.24911\n",
      "[83]\tvalidation_0-mae:1.24913\n",
      "[84]\tvalidation_0-mae:1.24909\n",
      "[85]\tvalidation_0-mae:1.24884\n",
      "[86]\tvalidation_0-mae:1.24887\n",
      "[87]\tvalidation_0-mae:1.24879\n",
      "[88]\tvalidation_0-mae:1.24703\n",
      "[89]\tvalidation_0-mae:1.24699\n",
      "[90]\tvalidation_0-mae:1.24651\n",
      "[91]\tvalidation_0-mae:1.24644\n",
      "[92]\tvalidation_0-mae:1.24608\n",
      "[93]\tvalidation_0-mae:1.24611\n",
      "[94]\tvalidation_0-mae:1.24699\n",
      "[95]\tvalidation_0-mae:1.24699\n",
      "[96]\tvalidation_0-mae:1.24655\n",
      "[97]\tvalidation_0-mae:1.24541\n",
      "[98]\tvalidation_0-mae:1.24594\n",
      "[99]\tvalidation_0-mae:1.24595\n",
      "[100]\tvalidation_0-mae:1.24581\n",
      "[101]\tvalidation_0-mae:1.24595\n",
      "[102]\tvalidation_0-mae:1.24479\n",
      "[103]\tvalidation_0-mae:1.24430\n",
      "[104]\tvalidation_0-mae:1.24392\n",
      "[105]\tvalidation_0-mae:1.24356\n",
      "[106]\tvalidation_0-mae:1.24367\n",
      "[107]\tvalidation_0-mae:1.24315\n",
      "[108]\tvalidation_0-mae:1.24271\n",
      "[109]\tvalidation_0-mae:1.24260\n",
      "[110]\tvalidation_0-mae:1.24214\n",
      "[111]\tvalidation_0-mae:1.24166\n",
      "[112]\tvalidation_0-mae:1.24128\n",
      "[113]\tvalidation_0-mae:1.24105\n",
      "[114]\tvalidation_0-mae:1.24071\n",
      "[115]\tvalidation_0-mae:1.24111\n",
      "[116]\tvalidation_0-mae:1.24040\n",
      "[117]\tvalidation_0-mae:1.23980\n",
      "[118]\tvalidation_0-mae:1.24086\n",
      "[119]\tvalidation_0-mae:1.24085\n",
      "[120]\tvalidation_0-mae:1.24117\n",
      "[121]\tvalidation_0-mae:1.24176\n",
      "[122]\tvalidation_0-mae:1.24201\n",
      "[123]\tvalidation_0-mae:1.24249\n",
      "[124]\tvalidation_0-mae:1.24191\n",
      "[125]\tvalidation_0-mae:1.24136\n",
      "[126]\tvalidation_0-mae:1.24129\n",
      "[127]\tvalidation_0-mae:1.24138\n",
      "[128]\tvalidation_0-mae:1.24212\n",
      "[129]\tvalidation_0-mae:1.24177\n",
      "[130]\tvalidation_0-mae:1.24168\n",
      "[131]\tvalidation_0-mae:1.24209\n",
      "[132]\tvalidation_0-mae:1.24222\n",
      "[133]\tvalidation_0-mae:1.24248\n",
      "[134]\tvalidation_0-mae:1.24257\n",
      "[135]\tvalidation_0-mae:1.24331\n",
      "[136]\tvalidation_0-mae:1.24371\n",
      "[137]\tvalidation_0-mae:1.24423\n",
      "[138]\tvalidation_0-mae:1.24433\n",
      "[139]\tvalidation_0-mae:1.24446\n",
      "[140]\tvalidation_0-mae:1.24413\n",
      "[141]\tvalidation_0-mae:1.24393\n",
      "[142]\tvalidation_0-mae:1.24351\n",
      "[143]\tvalidation_0-mae:1.24339\n",
      "[144]\tvalidation_0-mae:1.24343\n",
      "[145]\tvalidation_0-mae:1.24333\n",
      "[146]\tvalidation_0-mae:1.24338\n",
      "[147]\tvalidation_0-mae:1.24363\n",
      "[148]\tvalidation_0-mae:1.24379\n",
      "[149]\tvalidation_0-mae:1.24372\n",
      "[150]\tvalidation_0-mae:1.24351\n",
      "[151]\tvalidation_0-mae:1.24317\n",
      "[152]\tvalidation_0-mae:1.24332\n",
      "[153]\tvalidation_0-mae:1.24302\n",
      "[154]\tvalidation_0-mae:1.24290\n",
      "[155]\tvalidation_0-mae:1.24288\n",
      "[156]\tvalidation_0-mae:1.24341\n",
      "[157]\tvalidation_0-mae:1.24328\n",
      "[158]\tvalidation_0-mae:1.24358\n",
      "[159]\tvalidation_0-mae:1.24333\n",
      "[160]\tvalidation_0-mae:1.24336\n",
      "[161]\tvalidation_0-mae:1.24341\n",
      "[162]\tvalidation_0-mae:1.24340\n",
      "[163]\tvalidation_0-mae:1.24290\n",
      "[164]\tvalidation_0-mae:1.24349\n",
      "[165]\tvalidation_0-mae:1.24354\n",
      "[166]\tvalidation_0-mae:1.24333\n",
      "[167]\tvalidation_0-mae:1.24363\n",
      "[168]\tvalidation_0-mae:1.24383\n",
      "[169]\tvalidation_0-mae:1.24317\n",
      "[170]\tvalidation_0-mae:1.24223\n",
      "[171]\tvalidation_0-mae:1.24203\n",
      "[172]\tvalidation_0-mae:1.24222\n",
      "[173]\tvalidation_0-mae:1.24212\n",
      "[174]\tvalidation_0-mae:1.24178\n",
      "[175]\tvalidation_0-mae:1.24172\n",
      "[176]\tvalidation_0-mae:1.24155\n",
      "[177]\tvalidation_0-mae:1.24162\n",
      "[178]\tvalidation_0-mae:1.24160\n",
      "[179]\tvalidation_0-mae:1.24143\n",
      "[180]\tvalidation_0-mae:1.24152\n",
      "[181]\tvalidation_0-mae:1.24186\n",
      "[182]\tvalidation_0-mae:1.24234\n",
      "[183]\tvalidation_0-mae:1.24165\n",
      "[184]\tvalidation_0-mae:1.24166\n",
      "[185]\tvalidation_0-mae:1.24099\n",
      "[186]\tvalidation_0-mae:1.24079\n",
      "[187]\tvalidation_0-mae:1.24102\n",
      "[188]\tvalidation_0-mae:1.24109\n",
      "[189]\tvalidation_0-mae:1.24127\n",
      "[190]\tvalidation_0-mae:1.24095\n",
      "[191]\tvalidation_0-mae:1.24085\n",
      "[192]\tvalidation_0-mae:1.24098\n",
      "[193]\tvalidation_0-mae:1.24137\n",
      "[194]\tvalidation_0-mae:1.24159\n",
      "[195]\tvalidation_0-mae:1.24149\n",
      "[196]\tvalidation_0-mae:1.24175\n",
      "[197]\tvalidation_0-mae:1.24212\n",
      "[198]\tvalidation_0-mae:1.24226\n",
      "[199]\tvalidation_0-mae:1.24221\n",
      "[200]\tvalidation_0-mae:1.24204\n",
      "[201]\tvalidation_0-mae:1.24275\n",
      "[202]\tvalidation_0-mae:1.24277\n",
      "[203]\tvalidation_0-mae:1.24247\n",
      "[204]\tvalidation_0-mae:1.24210\n",
      "[205]\tvalidation_0-mae:1.24188\n",
      "[206]\tvalidation_0-mae:1.24210\n",
      "[207]\tvalidation_0-mae:1.24209\n",
      "[208]\tvalidation_0-mae:1.24207\n",
      "[209]\tvalidation_0-mae:1.24176\n",
      "[210]\tvalidation_0-mae:1.24191\n",
      "[211]\tvalidation_0-mae:1.24194\n",
      "[212]\tvalidation_0-mae:1.24184\n",
      "[213]\tvalidation_0-mae:1.24146\n",
      "[214]\tvalidation_0-mae:1.24151\n",
      "[215]\tvalidation_0-mae:1.24174\n",
      "[216]\tvalidation_0-mae:1.24136\n",
      "[217]\tvalidation_0-mae:1.24097\n"
     ]
    }
   ],
   "source": [
    "model_m.fit(x_train, y_train)"
   ]
  },
  {
   "cell_type": "code",
   "execution_count": 182,
   "metadata": {},
   "outputs": [
    {
     "data": {
      "text/plain": [
       "(117, 1.2398039604187012)"
      ]
     },
     "execution_count": 182,
     "metadata": {},
     "output_type": "execute_result"
    }
   ],
   "source": [
    "model_m.reg.best_iteration, model_m.reg.best_score"
   ]
  },
  {
   "cell_type": "code",
   "execution_count": 183,
   "metadata": {},
   "outputs": [],
   "source": [
    "y_pred = model_m.predict(x_test)"
   ]
  },
  {
   "cell_type": "code",
   "execution_count": 184,
   "metadata": {},
   "outputs": [
    {
     "data": {
      "text/plain": [
       "0.8505610008577602"
      ]
     },
     "execution_count": 184,
     "metadata": {},
     "output_type": "execute_result"
    }
   ],
   "source": [
    "from multicam.correlations import spearmanr\n",
    "spearmanr(y_test[:, 0], y_pred)"
   ]
  },
  {
   "cell_type": "code",
   "execution_count": 185,
   "metadata": {},
   "outputs": [
    {
     "data": {
      "image/png": "[encoded data removed]",
      "text/plain": [
       "<Figure size 640x480 with 1 Axes>"
      ]
     },
     "metadata": {},
     "output_type": "display_data"
    }
   ],
   "source": [
    "# evaluate by looking at histograms of residuals\n",
    "res = (y_pred[:,0] - y_test[:, 0])/y_test[:, 0]\n",
    "plt.hist(res, bins=50, range=(-2, 2), histtype='step', density=True, label='residuals');"
   ]
  },
  {
   "cell_type": "code",
   "execution_count": 186,
   "metadata": {},
   "outputs": [
    {
     "data": {
      "text/plain": [
       "<matplotlib.legend.Legend at 0x162273b80>"
      ]
     },
     "execution_count": 186,
     "metadata": {},
     "output_type": "execute_result"
    },
    {
     "data": {
      "image/png": "[encoded data removed]",
      "text/plain": [
       "<Figure size 640x480 with 1 Axes>"
      ]
     },
     "metadata": {},
     "output_type": "display_data"
    }
   ],
   "source": [
    "_, bins, _ = plt.hist(y_pred, histtype='step', bins=50, label='pred')\n",
    "plt.hist(y_test[:, 0], bins=bins, histtype='step', label='true')\n",
    "plt.legend()"
   ]
  },
  {
   "cell_type": "code",
   "execution_count": null,
   "metadata": {},
   "outputs": [],
   "source": []
  }
 ],
 "metadata": {
  "kernelspec": {
   "display_name": "nbody-relaxed-P7T5KfjX-py3.9",
   "language": "python",
   "name": "python3"
  },
  "language_info": {
   "codemirror_mode": {
    "name": "ipython",
    "version": 3
   },
   "file_extension": ".py",
   "mimetype": "text/x-python",
   "name": "python",
   "nbconvert_exporter": "python",
   "pygments_lexer": "ipython3",
   "version": "3.9.16"
  },
  "orig_nbformat": 4
 },
 "nbformat": 4,
 "nbformat_minor": 2
}
