{
 "cells": [
  {
   "cell_type": "code",
   "execution_count": 1,
   "metadata": {},
   "outputs": [
    {
     "name": "stdout",
     "output_type": "stream",
     "text": [
      "Modules to reload:\n",
      "all-except-skipped\n",
      "\n",
      "Modules to skip:\n",
      "\n"
     ]
    }
   ],
   "source": [
    "%load_ext autoreload\n",
    "%autoreload 2\n",
    "%aimport"
   ]
  },
  {
   "cell_type": "code",
   "execution_count": 2,
   "metadata": {},
   "outputs": [],
   "source": [
    "%matplotlib inline"
   ]
  },
  {
   "cell_type": "code",
   "execution_count": 3,
   "metadata": {},
   "outputs": [],
   "source": [
    "import numpy as np\n",
    "import matplotlib.pyplot as plt \n",
    "import warnings\n",
    "from tqdm import tqdm"
   ]
  },
  {
   "cell_type": "code",
   "execution_count": 5,
   "metadata": {},
   "outputs": [],
   "source": [
    "from scipy.interpolate import interp1d\n",
    "from scipy.stats import rankdata\n",
    "from sklearn import linear_model\n",
    "from sklearn.feature_selection import SelectFromModel\n",
    "from sklearn.preprocessing import QuantileTransformer"
   ]
  },
  {
   "cell_type": "code",
   "execution_count": 53,
   "metadata": {},
   "outputs": [],
   "source": [
    "from multicam.correlations import spearmanr"
   ]
  },
  {
   "cell_type": "markdown",
   "metadata": {},
   "source": [
    "## Model implementation"
   ]
  },
  {
   "cell_type": "code",
   "execution_count": 88,
   "metadata": {},
   "outputs": [],
   "source": [
    "def _value_at_rank(x, ranks):\n",
    "    \"\"\"Get value at ranks of multidimensional array.\"\"\"\n",
    "    assert x.shape[1] == ranks.shape[1]\n",
    "    assert ranks.dtype == int\n",
    "    n, m = ranks.shape\n",
    "    y = np.zeros((n, m), dtype=float)\n",
    "    for ii in range(m):\n",
    "        y[:, ii] = np.take(x[:, ii], ranks[:, ii])\n",
    "    return y"
   ]
  },
  {
   "cell_type": "code",
   "execution_count": 89,
   "metadata": {},
   "outputs": [],
   "source": [
    "class MultiCAM_OG:\n",
    "    def __init__(self, n_features: int, n_targets: int) -> None:\n",
    "        assert isinstance(n_features, int) and n_features > 0\n",
    "        self.n_features = n_features\n",
    "        self.n_targets = n_targets\n",
    "        self.trained = False \n",
    "\n",
    "        # additional metadata that needs to be saved for prediction.\n",
    "        self.qt_xr = None\n",
    "        self.qt_yr = None\n",
    "        self.qt_x = None\n",
    "        self.qt_y = None\n",
    "        self.y_train = None\n",
    "        self.x_train = None\n",
    "\n",
    "        # setup linear regression model\n",
    "        self.reg = linear_model.LinearRegression()\n",
    "\n",
    "\n",
    "    def fit(self, x, y):\n",
    "        \"\"\"Fit model using training data\"\"\"\n",
    "        assert np.sum(np.isnan(x)) == np.sum(np.isnan(y)) == 0\n",
    "        assert x.shape == (y.shape[0], self.n_features)\n",
    "        assert y.shape == (x.shape[0], self.n_targets)\n",
    "\n",
    "        # need to save training data to predict from ranks later.\n",
    "        self.x_train = x.copy()\n",
    "        self.y_train = y.copy()\n",
    "\n",
    "        # first get ranks of features and targets.\n",
    "        xr = rankdata(x, axis=0, method=\"ordinal\")\n",
    "        yr = rankdata(y, axis=0, method=\"ordinal\")\n",
    "\n",
    "        # then get a quantile transformer for the ranks to a normal distribution.\n",
    "        self.qt_xr = QuantileTransformer(n_quantiles=len(xr), output_distribution=\"normal\")\n",
    "        self.qt_xr = self.qt_xr.fit(xr)\n",
    "        self.qt_yr = QuantileTransformer(n_quantiles=len(yr), output_distribution=\"normal\")\n",
    "        self.qt_yr = self.qt_yr.fit(yr)\n",
    "\n",
    "        x_gauss, y_gauss = self.qt_xr.transform(xr), self.qt_yr.transform(yr)\n",
    "\n",
    "        # then fit a linear regression model to the transformed data.\n",
    "        self.reg.fit(x_gauss, y_gauss)\n",
    "        \n",
    "        self.trained = True\n",
    "\n",
    "    def predict(self, x):\n",
    "        assert len(x.shape) == 2\n",
    "        assert x.shape[1] == self.n_features\n",
    "        assert np.sum(np.isnan(x)) == 0\n",
    "        assert self.trained\n",
    "\n",
    "        # get ranks of test data.\n",
    "        xr = rankdata(x, axis=0, method=\"ordinal\")\n",
    "        xr = (xr - 1) * (len(self.x_train) - 1) / (len(x) - 1) + 1\n",
    "        \n",
    "        # transform ranks to be (marginally) gaussian.\n",
    "        xr_trans = self.qt_xr.transform(xr)\n",
    "\n",
    "        # predict on transformed ranks.\n",
    "        yr_trans = self.reg.predict(xr_trans)\n",
    "\n",
    "        # get quantile transformer of prediction to (marginal) normal.\n",
    "        qt_pred = QuantileTransformer(n_quantiles=len(yr_trans), output_distribution=\"normal\")\n",
    "        qt_pred.fit(yr_trans)\n",
    "\n",
    "        # inverse transform prediction to get ranks of target.\n",
    "        yr = self.qt_yr.inverse_transform(qt_pred.transform(yr_trans)).astype(int) - 1\n",
    "\n",
    "        # predictions are points in train data corresponding to ranks predicted\n",
    "        y_train_sorted = np.sort(self.y_train, axis=0)\n",
    "        y_pred = _value_at_rank(y_train_sorted, yr)\n",
    "\n",
    "        return y_pred"
   ]
  },
  {
   "cell_type": "code",
   "execution_count": 90,
   "metadata": {},
   "outputs": [],
   "source": [
    "class MultiCAM:\n",
    "    def __init__(self, n_features: int, n_targets: int) -> None:\n",
    "        assert isinstance(n_features, int) and n_features > 0\n",
    "        self.n_features = n_features\n",
    "        self.n_targets = n_targets\n",
    "        self.trained = False \n",
    "\n",
    "        # additional metadata that needs to be saved for prediction.\n",
    "        self.qt_xr = None\n",
    "        self.qt_yr = None\n",
    "        self.qt_x = None\n",
    "        self.qt_y = None\n",
    "        self.y_train = None\n",
    "        self.x_train = None\n",
    "        self.qt_pred = None\n",
    "        self.rank_lookup = {}\n",
    "\n",
    "        # setup linear regression model\n",
    "        self.reg = linear_model.LinearRegression()\n",
    "\n",
    "\n",
    "    def fit(self, x, y):\n",
    "        \"\"\"Fit model using training data\"\"\"\n",
    "        assert np.sum(np.isnan(x)) == np.sum(np.isnan(y)) == 0\n",
    "        assert x.shape == (y.shape[0], self.n_features)\n",
    "        assert y.shape == (x.shape[0], self.n_targets)\n",
    "\n",
    "        # need to save training data to predict from ranks later.\n",
    "        self.x_train = x.copy()\n",
    "        self.y_train = y.copy()\n",
    "\n",
    "        # first get ranks of features and targets.\n",
    "        xr = rankdata(x, axis=0, method=\"ordinal\")\n",
    "        yr = rankdata(y, axis=0, method=\"ordinal\")\n",
    "\n",
    "        # then get a quantile transformer for the ranks to a normal distribution.\n",
    "        self.qt_xr = QuantileTransformer(n_quantiles=len(xr), output_distribution=\"normal\")\n",
    "        self.qt_xr = self.qt_xr.fit(xr)\n",
    "        self.qt_yr = QuantileTransformer(n_quantiles=len(yr), output_distribution=\"normal\")\n",
    "        self.qt_yr = self.qt_yr.fit(yr)\n",
    "\n",
    "        x_gauss, y_gauss = self.qt_xr.transform(xr), self.qt_yr.transform(yr)\n",
    "\n",
    "        # then fit a linear regression model to the transformed data.\n",
    "        self.reg.fit(x_gauss, y_gauss)\n",
    "\n",
    "        # get quantile transformer of prediction to (marginal) normal using training data.\n",
    "        y_pred = self.reg.predict(x_gauss)\n",
    "        self.qt_pred = QuantileTransformer(n_quantiles=len(y_pred), output_distribution=\"normal\")\n",
    "        self.qt_pred.fit(y_pred)\n",
    "\n",
    "        # finally, create lookup table for low and high ranks of each feature.\n",
    "        for jj in range(self.n_features):\n",
    "            x_train_jj = np.sort(self.x_train[:, jj])\n",
    "            u, c = np.unique(x_train_jj, return_counts=True)\n",
    "            lranks = np.cumsum(c) - c + 1\n",
    "            hranks = np.cumsum(c)\n",
    "            self.rank_lookup[jj] = (u, lranks, hranks)\n",
    "\n",
    "        \n",
    "        self.trained = True\n",
    "\n",
    "    @staticmethod\n",
    "    def _value_at_rank(x, ranks):\n",
    "        \"\"\"Get value at ranks of multidimensional array.\"\"\"\n",
    "        assert x.shape[1] == ranks.shape[1]\n",
    "        assert ranks.dtype == int\n",
    "        n, m = ranks.shape\n",
    "        y = np.zeros((n, m), dtype=float)\n",
    "        for ii in range(m):\n",
    "            y[:, ii] = np.take(x[:, ii], ranks[:, ii])\n",
    "        return y\n",
    "\n",
    "    def predict(self, x):\n",
    "        assert len(x.shape) == 2\n",
    "        assert x.shape[1] == self.n_features\n",
    "        assert np.sum(np.isnan(x)) == 0\n",
    "        assert self.trained\n",
    "\n",
    "        # get ranks of test data (based on training data)\n",
    "        xr = np.zeros_like(x) * np.nan\n",
    "        for jj in range(self.n_features):\n",
    "            x_jj = x[:, jj]\n",
    "            x_train_jj = np.sort(self.x_train[:, jj])\n",
    "            uniq, lranks, hranks = self.rank_lookup[jj]\n",
    "            xr[:, jj] = np.searchsorted(x_train_jj, x_jj) + 1  # indices to ranks\n",
    "\n",
    "            # if value is in training data, get uniform rank between low and high ranks.\n",
    "            in_train = np.isin(x_jj, uniq)\n",
    "            u_indices = np.searchsorted(uniq, x_jj[in_train])\n",
    "            lr, hr = lranks[u_indices], hranks[u_indices]  # repeat appropriately\n",
    "            xr[in_train, jj] = np.random.randint(lr, hr + 1)\n",
    "\n",
    "        assert np.sum(np.isnan(xr)) == 0\n",
    "\n",
    "        # transform ranks to be (marginally) gaussian.\n",
    "        x_gauss = self.qt_xr.transform(xr)\n",
    "\n",
    "        # predict on transformed ranks.\n",
    "        y_not_gauss = self.reg.predict(x_gauss)\n",
    "\n",
    "        # inverse transform prediction to get ranks of target.\n",
    "        y_gauss = self.qt_pred.transform(y_not_gauss)\n",
    "        yr = self.qt_yr.inverse_transform(y_gauss).astype(int)\n",
    "        yr -= 1  # ranks are 1-indexed, so subtract 1 to get 0-indexed.\n",
    "\n",
    "        # predictions are points in train data corresponding to ranks predicted\n",
    "        y_train_sorted = np.sort(self.y_train, axis=0)\n",
    "        y_pred = _value_at_rank(y_train_sorted, yr)\n",
    "\n",
    "        return y_pred"
   ]
  },
  {
   "cell_type": "markdown",
   "metadata": {},
   "source": [
    "# Dataset"
   ]
  },
  {
   "cell_type": "code",
   "execution_count": 117,
   "metadata": {},
   "outputs": [],
   "source": [
    "# create synthetic dataset with repeated values in features.\n",
    "np.random.seed(0)\n",
    "n = 1000\n",
    "n_features = 5\n",
    "n_targets = 1\n",
    "x = np.random.randn(n, n_features)\n",
    "\n",
    "#add repeated values to features\n",
    "rnd_idx = np.random.randint(0, n, size=400)\n",
    "x[rnd_idx, 0] = 1\n",
    "\n",
    "m = np.arange(n_features) + 1\n",
    "m = m[None, :]\n",
    "y = x.dot(m.T) + 10 * np.random.randn(n, 1) * 0.2\n",
    "\n"
   ]
  },
  {
   "cell_type": "code",
   "execution_count": 118,
   "metadata": {},
   "outputs": [
    {
     "data": {
      "text/plain": [
       "(1000, 1)"
      ]
     },
     "execution_count": 118,
     "metadata": {},
     "output_type": "execute_result"
    }
   ],
   "source": [
    "y.shape"
   ]
  },
  {
   "cell_type": "code",
   "execution_count": 119,
   "metadata": {},
   "outputs": [
    {
     "data": {
      "text/plain": [
       "(-2.8345545052747023,\n",
       " 2.9290962417638613,\n",
       " -2.994612860227619,\n",
       " 2.6429357210147417)"
      ]
     },
     "execution_count": 119,
     "metadata": {},
     "output_type": "execute_result"
    }
   ],
   "source": [
    "x[:, 0].min(), x[:, 0].max(), x[:, 1].min(), x[:, 1].max()"
   ]
  },
  {
   "cell_type": "code",
   "execution_count": 120,
   "metadata": {},
   "outputs": [
    {
     "data": {
      "text/plain": [
       "[<matplotlib.lines.Line2D at 0x15804bdf0>]"
      ]
     },
     "execution_count": 120,
     "metadata": {},
     "output_type": "execute_result"
    },
    {
     "data": {
      "image/png": "[encoded data removed]",
      "text/plain": [
       "<Figure size 640x480 with 1 Axes>"
      ]
     },
     "metadata": {},
     "output_type": "display_data"
    }
   ],
   "source": [
    "plt.plot(x[:,0], y[:,0], 'o')"
   ]
  },
  {
   "cell_type": "markdown",
   "metadata": {},
   "source": [
    "# Prediction"
   ]
  },
  {
   "cell_type": "code",
   "execution_count": 122,
   "metadata": {},
   "outputs": [
    {
     "data": {
      "text/plain": [
       "((1000, 5), (1000, 1))"
      ]
     },
     "execution_count": 122,
     "metadata": {},
     "output_type": "execute_result"
    }
   ],
   "source": [
    "x.shape, y.shape"
   ]
  },
  {
   "cell_type": "code",
   "execution_count": 123,
   "metadata": {},
   "outputs": [],
   "source": [
    "model = MultiCAM(5, 1)\n",
    "model.fit(x,y)\n",
    "\n",
    "y_pred = model.predict(x)"
   ]
  },
  {
   "cell_type": "code",
   "execution_count": 124,
   "metadata": {},
   "outputs": [],
   "source": [
    "model_og = MultiCAM_OG(5, 1)\n",
    "model_og.fit(x,y)\n",
    "\n",
    "y_pred_og = model_og.predict(x)"
   ]
  },
  {
   "cell_type": "code",
   "execution_count": 125,
   "metadata": {},
   "outputs": [
    {
     "data": {
      "text/plain": [
       "(0.9616466894458767, 0.9618635664734528)"
      ]
     },
     "execution_count": 125,
     "metadata": {},
     "output_type": "execute_result"
    }
   ],
   "source": [
    "spearmanr(y[:,0], y_pred[:,0]), spearmanr(y[:,0], y_pred_og[:,0])"
   ]
  },
  {
   "cell_type": "code",
   "execution_count": 126,
   "metadata": {},
   "outputs": [
    {
     "data": {
      "text/plain": [
       "(-6.492680666727655, -6.492680666727655)"
      ]
     },
     "execution_count": 126,
     "metadata": {},
     "output_type": "execute_result"
    }
   ],
   "source": [
    "idx = 10 \n",
    "test_point = x[idx, None, :]\n",
    "y1 = model.predict(test_point).item()\n",
    "y2 = model.predict(x)[idx,0]\n",
    "y1,y2"
   ]
  },
  {
   "cell_type": "code",
   "execution_count": null,
   "metadata": {},
   "outputs": [],
   "source": []
  }
 ],
 "metadata": {
  "kernelspec": {
   "display_name": "nbody-relaxed-P7T5KfjX-py3.9",
   "language": "python",
   "name": "python3"
  },
  "language_info": {
   "codemirror_mode": {
    "name": "ipython",
    "version": 3
   },
   "file_extension": ".py",
   "mimetype": "text/x-python",
   "name": "python",
   "nbconvert_exporter": "python",
   "pygments_lexer": "ipython3",
   "version": "3.9.16"
  },
  "orig_nbformat": 4
 },
 "nbformat": 4,
 "nbformat_minor": 2
}
