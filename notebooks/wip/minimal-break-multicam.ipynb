{
 "cells": [
  {
   "cell_type": "code",
   "execution_count": 9,
   "metadata": {},
   "outputs": [
    {
     "name": "stdout",
     "output_type": "stream",
     "text": [
      "Modules to reload:\n",
      "all-except-skipped\n",
      "\n",
      "Modules to skip:\n",
      "\n"
     ]
    }
   ],
   "source": [
    "%load_ext autoreload\n",
    "%autoreload 2\n",
    "%aimport"
   ]
  },
  {
   "cell_type": "code",
   "execution_count": 10,
   "metadata": {},
   "outputs": [],
   "source": [
    "%matplotlib inline"
   ]
  },
  {
   "cell_type": "code",
   "execution_count": 11,
   "metadata": {},
   "outputs": [],
   "source": [
    "import numpy as np\n",
    "import matplotlib.pyplot as plt \n",
    "import warnings\n",
    "from tqdm import tqdm"
   ]
  },
  {
   "cell_type": "code",
   "execution_count": 12,
   "metadata": {},
   "outputs": [],
   "source": [
    "from scipy.interpolate import interp1d\n",
    "from scipy.stats import rankdata\n",
    "from sklearn import linear_model\n",
    "from sklearn.feature_selection import SelectFromModel\n",
    "from sklearn.preprocessing import QuantileTransformer"
   ]
  },
  {
   "cell_type": "code",
   "execution_count": 149,
   "metadata": {},
   "outputs": [],
   "source": [
    "from scipy import stats\n",
    "\n",
    "def spearmanr(*args, **kwargs):\n",
    "    return stats.spearmanr(*args, **kwargs).correlation"
   ]
  },
  {
   "cell_type": "markdown",
   "metadata": {},
   "source": [
    "## Model implementation"
   ]
  },
  {
   "cell_type": "code",
   "execution_count": 14,
   "metadata": {},
   "outputs": [],
   "source": [
    "def _value_at_rank(x, ranks):\n",
    "    \"\"\"Get value at ranks of multidimensional array.\"\"\"\n",
    "    assert x.shape[1] == ranks.shape[1]\n",
    "    assert ranks.dtype == int\n",
    "    n, m = ranks.shape\n",
    "    y = np.zeros((n, m), dtype=float)\n",
    "    for ii in range(m):\n",
    "        y[:, ii] = np.take(x[:, ii], ranks[:, ii])\n",
    "    return y"
   ]
  },
  {
   "cell_type": "code",
   "execution_count": 15,
   "metadata": {},
   "outputs": [],
   "source": [
    "class MultiCAM_OG:\n",
    "    def __init__(self, n_features: int, n_targets: int) -> None:\n",
    "        assert isinstance(n_features, int) and n_features > 0\n",
    "        self.n_features = n_features\n",
    "        self.n_targets = n_targets\n",
    "        self.trained = False \n",
    "\n",
    "        # additional metadata that needs to be saved for prediction.\n",
    "        self.qt_xr = None\n",
    "        self.qt_yr = None\n",
    "        self.qt_x = None\n",
    "        self.qt_y = None\n",
    "        self.y_train = None\n",
    "        self.x_train = None\n",
    "\n",
    "        # setup linear regression model\n",
    "        self.reg = linear_model.LinearRegression()\n",
    "\n",
    "\n",
    "    def fit(self, x, y):\n",
    "        \"\"\"Fit model using training data\"\"\"\n",
    "        assert np.sum(np.isnan(x)) == np.sum(np.isnan(y)) == 0\n",
    "        assert x.shape == (y.shape[0], self.n_features)\n",
    "        assert y.shape == (x.shape[0], self.n_targets)\n",
    "\n",
    "        # need to save training data to predict from ranks later.\n",
    "        self.x_train = x.copy()\n",
    "        self.y_train = y.copy()\n",
    "\n",
    "        # first get ranks of features and targets.\n",
    "        xr = rankdata(x, axis=0, method=\"ordinal\")\n",
    "        yr = rankdata(y, axis=0, method=\"ordinal\")\n",
    "\n",
    "        # then get a quantile transformer for the ranks to a normal distribution.\n",
    "        self.qt_xr = QuantileTransformer(n_quantiles=len(xr), output_distribution=\"normal\")\n",
    "        self.qt_xr = self.qt_xr.fit(xr)\n",
    "        self.qt_yr = QuantileTransformer(n_quantiles=len(yr), output_distribution=\"normal\")\n",
    "        self.qt_yr = self.qt_yr.fit(yr)\n",
    "\n",
    "        x_gauss, y_gauss = self.qt_xr.transform(xr), self.qt_yr.transform(yr)\n",
    "\n",
    "        # then fit a linear regression model to the transformed data.\n",
    "        self.reg.fit(x_gauss, y_gauss)\n",
    "        \n",
    "        self.trained = True\n",
    "\n",
    "    def predict(self, x):\n",
    "        assert len(x.shape) == 2\n",
    "        assert x.shape[1] == self.n_features\n",
    "        assert np.sum(np.isnan(x)) == 0\n",
    "        assert self.trained\n",
    "\n",
    "        # get ranks of test data.\n",
    "        xr = rankdata(x, axis=0, method=\"ordinal\")\n",
    "        xr = (xr - 1) * (len(self.x_train) - 1) / (len(x) - 1) + 1\n",
    "        \n",
    "        # transform ranks to be (marginally) gaussian.\n",
    "        xr_trans = self.qt_xr.transform(xr)\n",
    "\n",
    "        # predict on transformed ranks.\n",
    "        yr_trans = self.reg.predict(xr_trans)\n",
    "\n",
    "        # get quantile transformer of prediction to (marginal) normal.\n",
    "        qt_pred = QuantileTransformer(n_quantiles=len(yr_trans), output_distribution=\"normal\")\n",
    "        qt_pred.fit(yr_trans)\n",
    "\n",
    "        # inverse transform prediction to get ranks of target.\n",
    "        yr = self.qt_yr.inverse_transform(qt_pred.transform(yr_trans)).astype(int) - 1\n",
    "\n",
    "        # predictions are points in train data corresponding to ranks predicted\n",
    "        y_train_sorted = np.sort(self.y_train, axis=0)\n",
    "        y_pred = _value_at_rank(y_train_sorted, yr)\n",
    "\n",
    "        return y_pred"
   ]
  },
  {
   "cell_type": "code",
   "execution_count": 16,
   "metadata": {},
   "outputs": [],
   "source": [
    "class MultiCAM:\n",
    "    def __init__(self, n_features: int, n_targets: int) -> None:\n",
    "        assert isinstance(n_features, int) and n_features > 0\n",
    "        self.n_features = n_features\n",
    "        self.n_targets = n_targets\n",
    "        self.trained = False \n",
    "\n",
    "        # additional metadata that needs to be saved for prediction.\n",
    "        self.qt_xr = None\n",
    "        self.qt_yr = None\n",
    "        self.qt_x = None\n",
    "        self.qt_y = None\n",
    "        self.y_train = None\n",
    "        self.x_train = None\n",
    "        self.qt_pred = None\n",
    "        self.rank_lookup = {}\n",
    "\n",
    "        # setup linear regression model\n",
    "        self.reg = linear_model.LinearRegression()\n",
    "\n",
    "\n",
    "    def fit(self, x, y):\n",
    "        \"\"\"Fit model using training data\"\"\"\n",
    "        assert np.sum(np.isnan(x)) == np.sum(np.isnan(y)) == 0\n",
    "        assert x.shape == (y.shape[0], self.n_features)\n",
    "        assert y.shape == (x.shape[0], self.n_targets)\n",
    "\n",
    "        # need to save training data to predict from ranks later.\n",
    "        self.x_train = x.copy()\n",
    "        self.y_train = y.copy()\n",
    "\n",
    "        # first get ranks of features and targets.\n",
    "        xr = rankdata(x, axis=0, method=\"ordinal\")\n",
    "        yr = rankdata(y, axis=0, method=\"ordinal\")\n",
    "\n",
    "        # then get a quantile transformer for the ranks to a normal distribution.\n",
    "        self.qt_xr = QuantileTransformer(n_quantiles=len(xr), output_distribution=\"normal\")\n",
    "        self.qt_xr = self.qt_xr.fit(xr)\n",
    "        self.qt_yr = QuantileTransformer(n_quantiles=len(yr), output_distribution=\"normal\")\n",
    "        self.qt_yr = self.qt_yr.fit(yr)\n",
    "\n",
    "        x_gauss, y_gauss = self.qt_xr.transform(xr), self.qt_yr.transform(yr)\n",
    "\n",
    "        # then fit a linear regression model to the transformed data.\n",
    "        self.reg.fit(x_gauss, y_gauss)\n",
    "\n",
    "        # get quantile transformer of prediction to (marginal) normal using training data.\n",
    "        y_pred = self.reg.predict(x_gauss)\n",
    "        self.qt_pred = QuantileTransformer(n_quantiles=len(y_pred), output_distribution=\"normal\")\n",
    "        self.qt_pred.fit(y_pred)\n",
    "\n",
    "        # finally, create lookup table for low and high ranks of each feature.\n",
    "        for jj in range(self.n_features):\n",
    "            x_train_jj = np.sort(self.x_train[:, jj])\n",
    "            u, c = np.unique(x_train_jj, return_counts=True)\n",
    "            lranks = np.cumsum(c) - c + 1\n",
    "            hranks = np.cumsum(c)\n",
    "            self.rank_lookup[jj] = (u, lranks, hranks)\n",
    "\n",
    "        \n",
    "        self.trained = True\n",
    "\n",
    "    @staticmethod\n",
    "    def _value_at_rank(x, ranks):\n",
    "        \"\"\"Get value at ranks of multidimensional array.\"\"\"\n",
    "        assert x.shape[1] == ranks.shape[1]\n",
    "        assert ranks.dtype == int\n",
    "        n, m = ranks.shape\n",
    "        y = np.zeros((n, m), dtype=float)\n",
    "        for ii in range(m):\n",
    "            y[:, ii] = np.take(x[:, ii], ranks[:, ii])\n",
    "        return y\n",
    "\n",
    "    def predict(self, x):\n",
    "        assert len(x.shape) == 2\n",
    "        assert x.shape[1] == self.n_features\n",
    "        assert np.sum(np.isnan(x)) == 0\n",
    "        assert self.trained\n",
    "\n",
    "        # get ranks of test data (based on training data)\n",
    "        xr = np.zeros_like(x) * np.nan\n",
    "        for jj in range(self.n_features):\n",
    "            x_jj = x[:, jj]\n",
    "            x_train_jj = np.sort(self.x_train[:, jj])\n",
    "            uniq, lranks, hranks = self.rank_lookup[jj]\n",
    "            xr[:, jj] = np.searchsorted(x_train_jj, x_jj) + 1  # indices to ranks\n",
    "\n",
    "            # if value is in training data, get uniform rank between low and high ranks.\n",
    "            in_train = np.isin(x_jj, uniq)\n",
    "            u_indices = np.searchsorted(uniq, x_jj[in_train])\n",
    "            lr, hr = lranks[u_indices], hranks[u_indices]  # repeat appropriately\n",
    "            xr[in_train, jj] = np.random.randint(lr, hr + 1)\n",
    "\n",
    "        assert np.sum(np.isnan(xr)) == 0\n",
    "\n",
    "        # transform ranks to be (marginally) gaussian.\n",
    "        x_gauss = self.qt_xr.transform(xr)\n",
    "\n",
    "        # predict on transformed ranks.\n",
    "        y_not_gauss = self.reg.predict(x_gauss)\n",
    "\n",
    "        # inverse transform prediction to get ranks of target.\n",
    "        y_gauss = self.qt_pred.transform(y_not_gauss)\n",
    "        yr = self.qt_yr.inverse_transform(y_gauss).astype(int)\n",
    "        yr -= 1  # ranks are 1-indexed, so subtract 1 to get 0-indexed.\n",
    "\n",
    "        # predictions are points in train data corresponding to ranks predicted\n",
    "        y_train_sorted = np.sort(self.y_train, axis=0)\n",
    "        y_pred = _value_at_rank(y_train_sorted, yr)\n",
    "\n",
    "        return y_pred"
   ]
  },
  {
   "cell_type": "markdown",
   "metadata": {},
   "source": [
    "## Real Dataset"
   ]
  },
  {
   "cell_type": "code",
   "execution_count": 17,
   "metadata": {},
   "outputs": [],
   "source": [
    "from multicam.mah import get_mah"
   ]
  },
  {
   "cell_type": "code",
   "execution_count": 18,
   "metadata": {},
   "outputs": [],
   "source": [
    "mah_data = get_mah('../../data/processed/bolshoi_m12/', cutoff_missing=0.05, cutoff_particle=0.05)"
   ]
  },
  {
   "cell_type": "code",
   "execution_count": 19,
   "metadata": {},
   "outputs": [],
   "source": [
    "# catalog\n",
    "cat = mah_data['cat']\n",
    "cvir = cat['cvir']\n",
    "ma = mah_data['ma']\n",
    "ma_peak = mah_data['ma_peak']\n",
    "\n",
    "indices = mah_data['indices']\n",
    "scales = mah_data['scales']"
   ]
  },
  {
   "cell_type": "markdown",
   "metadata": {},
   "source": [
    "### Illustration of repeated values with `ma_peak`"
   ]
  },
  {
   "cell_type": "code",
   "execution_count": 140,
   "metadata": {},
   "outputs": [
    {
     "data": {
      "image/png": "[encoded data removed]",
      "text/plain": [
       "<Figure size 640x480 with 1 Axes>"
      ]
     },
     "metadata": {},
     "output_type": "display_data"
    }
   ],
   "source": [
    "_ = plt.hist(ma[:, 150], bins=51, histtype='step', range=(0.7, 1), label='MA')"
   ]
  },
  {
   "cell_type": "code",
   "execution_count": 57,
   "metadata": {},
   "outputs": [
    {
     "data": {
      "image/png": "[encoded data removed]",
      "text/plain": [
       "<Figure size 640x480 with 1 Axes>"
      ]
     },
     "metadata": {},
     "output_type": "display_data"
    }
   ],
   "source": [
    "_ = plt.hist(ma_peak[:, 150], bins=51, histtype='step', range=(0.7, 1), label='MA peak')"
   ]
  },
  {
   "cell_type": "markdown",
   "metadata": {},
   "source": [
    "### Predictions (with `ma`)"
   ]
  },
  {
   "cell_type": "code",
   "execution_count": 29,
   "metadata": {},
   "outputs": [],
   "source": [
    "x = ma \n",
    "y = cvir[:, None]"
   ]
  },
  {
   "cell_type": "code",
   "execution_count": 30,
   "metadata": {},
   "outputs": [],
   "source": [
    "model1 = MultiCAM_OG(n_features=165, n_targets=1)\n",
    "model2 = MultiCAM(n_features=165, n_targets=1)\n",
    "\n",
    "model1.fit(x, y)\n",
    "model2.fit(x, y)"
   ]
  },
  {
   "cell_type": "code",
   "execution_count": 31,
   "metadata": {},
   "outputs": [],
   "source": [
    "y_pred1 = model1.predict(x)\n",
    "y_pred2 = model2.predict(x)"
   ]
  },
  {
   "cell_type": "code",
   "execution_count": 32,
   "metadata": {},
   "outputs": [
    {
     "data": {
      "text/plain": [
       "(0.8032634746947371, 0.8033069077651853)"
      ]
     },
     "execution_count": 32,
     "metadata": {},
     "output_type": "execute_result"
    }
   ],
   "source": [
    "# significant correlation drop\n",
    "spearmanr(y[:,0], y_pred1[:,0]), spearmanr(y, y_pred2[:,0])"
   ]
  },
  {
   "cell_type": "code",
   "execution_count": null,
   "metadata": {},
   "outputs": [],
   "source": [
    "# model1.predict(x[0, None, :]) # crashes with a single test point"
   ]
  },
  {
   "cell_type": "code",
   "execution_count": 33,
   "metadata": {},
   "outputs": [
    {
     "data": {
      "text/plain": [
       "(7.24126672744751, 7.24126672744751)"
      ]
     },
     "execution_count": 33,
     "metadata": {},
     "output_type": "execute_result"
    }
   ],
   "source": [
    "model2.predict(x[0, None, :])[0,0], model2.predict(x)[0,0] # very different."
   ]
  },
  {
   "cell_type": "markdown",
   "metadata": {},
   "source": [
    "**Takeaway**: Having no repeated values avoids both of the issues."
   ]
  },
  {
   "cell_type": "markdown",
   "metadata": {},
   "source": [
    "### Predictions (with `m_peak`)"
   ]
  },
  {
   "cell_type": "markdown",
   "metadata": {},
   "source": [
    "Note that `ma_peak` has many more repeated values than `ma` especially for the late time features."
   ]
  },
  {
   "cell_type": "code",
   "execution_count": null,
   "metadata": {},
   "outputs": [],
   "source": [
    "x = ma_peak \n",
    "y = cvir[:, None]"
   ]
  },
  {
   "cell_type": "code",
   "execution_count": 21,
   "metadata": {},
   "outputs": [],
   "source": [
    "model1 = MultiCAM_OG(n_features=165, n_targets=1)\n",
    "model2 = MultiCAM(n_features=165, n_targets=1)\n",
    "\n",
    "model1.fit(x, y)\n",
    "model2.fit(x, y)"
   ]
  },
  {
   "cell_type": "code",
   "execution_count": 22,
   "metadata": {},
   "outputs": [],
   "source": [
    "y_pred1 = model1.predict(x)\n",
    "y_pred2 = model2.predict(x)"
   ]
  },
  {
   "cell_type": "code",
   "execution_count": 24,
   "metadata": {},
   "outputs": [
    {
     "data": {
      "text/plain": [
       "(0.8063608693988956, 0.7518621048532789)"
      ]
     },
     "execution_count": 24,
     "metadata": {},
     "output_type": "execute_result"
    }
   ],
   "source": [
    "# significant correlation drop\n",
    "spearmanr(y[:,0], y_pred1[:,0]), spearmanr(y, y_pred2[:,0])"
   ]
  },
  {
   "cell_type": "code",
   "execution_count": 26,
   "metadata": {},
   "outputs": [
    {
     "name": "stderr",
     "output_type": "stream",
     "text": [
      "/var/folders/yl/5w7yl6bn1tsc5fjrdtsrsjhh0000gn/T/ipykernel_17859/3441362802.py:55: RuntimeWarning: invalid value encountered in divide\n",
      "  xr = (xr - 1) * (len(self.x_train) - 1) / (len(x) - 1) + 1\n"
     ]
    },
    {
     "ename": "ValueError",
     "evalue": "Input X contains NaN.\nLinearRegression does not accept missing values encoded as NaN natively. For supervised learning, you might want to consider sklearn.ensemble.HistGradientBoostingClassifier and Regressor which accept missing values encoded as NaNs natively. Alternatively, it is possible to preprocess the data, for instance by using an imputer transformer in a pipeline or drop samples with missing values. See https://scikit-learn.org/stable/modules/impute.html You can find a list of all estimators that handle NaN values at the following page: https://scikit-learn.org/stable/modules/impute.html#estimators-that-handle-nan-values",
     "output_type": "error",
     "traceback": [
      "\u001b[0;31m---------------------------------------------------------------------------\u001b[0m",
      "\u001b[0;31mValueError\u001b[0m                                Traceback (most recent call last)",
      "\u001b[1;32m/Users/imendoza/code/nbody-relaxed/notebooks/wip/minimal-break-multicam.ipynb Cell 19\u001b[0m line \u001b[0;36m1\n\u001b[0;32m----> <a href='vscode-notebook-cell:/Users/imendoza/code/nbody-relaxed/notebooks/wip/minimal-break-multicam.ipynb#X45sZmlsZQ%3D%3D?line=0'>1</a>\u001b[0m model1\u001b[39m.\u001b[39;49mpredict(x[\u001b[39m0\u001b[39;49m, \u001b[39mNone\u001b[39;49;00m, :])\n",
      "\u001b[1;32m/Users/imendoza/code/nbody-relaxed/notebooks/wip/minimal-break-multicam.ipynb Cell 19\u001b[0m line \u001b[0;36m6\n\u001b[1;32m     <a href='vscode-notebook-cell:/Users/imendoza/code/nbody-relaxed/notebooks/wip/minimal-break-multicam.ipynb#X45sZmlsZQ%3D%3D?line=57'>58</a>\u001b[0m xr_trans \u001b[39m=\u001b[39m \u001b[39mself\u001b[39m\u001b[39m.\u001b[39mqt_xr\u001b[39m.\u001b[39mtransform(xr)\n\u001b[1;32m     <a href='vscode-notebook-cell:/Users/imendoza/code/nbody-relaxed/notebooks/wip/minimal-break-multicam.ipynb#X45sZmlsZQ%3D%3D?line=59'>60</a>\u001b[0m \u001b[39m# predict on transformed ranks.\u001b[39;00m\n\u001b[0;32m---> <a href='vscode-notebook-cell:/Users/imendoza/code/nbody-relaxed/notebooks/wip/minimal-break-multicam.ipynb#X45sZmlsZQ%3D%3D?line=60'>61</a>\u001b[0m yr_trans \u001b[39m=\u001b[39m \u001b[39mself\u001b[39;49m\u001b[39m.\u001b[39;49mreg\u001b[39m.\u001b[39;49mpredict(xr_trans)\n\u001b[1;32m     <a href='vscode-notebook-cell:/Users/imendoza/code/nbody-relaxed/notebooks/wip/minimal-break-multicam.ipynb#X45sZmlsZQ%3D%3D?line=62'>63</a>\u001b[0m \u001b[39m# get quantile transformer of prediction to (marginal) normal.\u001b[39;00m\n\u001b[1;32m     <a href='vscode-notebook-cell:/Users/imendoza/code/nbody-relaxed/notebooks/wip/minimal-break-multicam.ipynb#X45sZmlsZQ%3D%3D?line=63'>64</a>\u001b[0m qt_pred \u001b[39m=\u001b[39m QuantileTransformer(n_quantiles\u001b[39m=\u001b[39m\u001b[39mlen\u001b[39m(yr_trans), output_distribution\u001b[39m=\u001b[39m\u001b[39m\"\u001b[39m\u001b[39mnormal\u001b[39m\u001b[39m\"\u001b[39m)\n",
      "File \u001b[0;32m~/Library/Caches/pypoetry/virtualenvs/nbody-relaxed-P7T5KfjX-py3.9/lib/python3.9/site-packages/sklearn/linear_model/_base.py:386\u001b[0m, in \u001b[0;36mLinearModel.predict\u001b[0;34m(self, X)\u001b[0m\n\u001b[1;32m    372\u001b[0m \u001b[39mdef\u001b[39;00m \u001b[39mpredict\u001b[39m(\u001b[39mself\u001b[39m, X):\n\u001b[1;32m    373\u001b[0m \u001b[39m    \u001b[39m\u001b[39m\"\"\"\u001b[39;00m\n\u001b[1;32m    374\u001b[0m \u001b[39m    Predict using the linear model.\u001b[39;00m\n\u001b[1;32m    375\u001b[0m \n\u001b[0;32m   (...)\u001b[0m\n\u001b[1;32m    384\u001b[0m \u001b[39m        Returns predicted values.\u001b[39;00m\n\u001b[1;32m    385\u001b[0m \u001b[39m    \"\"\"\u001b[39;00m\n\u001b[0;32m--> 386\u001b[0m     \u001b[39mreturn\u001b[39;00m \u001b[39mself\u001b[39;49m\u001b[39m.\u001b[39;49m_decision_function(X)\n",
      "File \u001b[0;32m~/Library/Caches/pypoetry/virtualenvs/nbody-relaxed-P7T5KfjX-py3.9/lib/python3.9/site-packages/sklearn/linear_model/_base.py:369\u001b[0m, in \u001b[0;36mLinearModel._decision_function\u001b[0;34m(self, X)\u001b[0m\n\u001b[1;32m    366\u001b[0m \u001b[39mdef\u001b[39;00m \u001b[39m_decision_function\u001b[39m(\u001b[39mself\u001b[39m, X):\n\u001b[1;32m    367\u001b[0m     check_is_fitted(\u001b[39mself\u001b[39m)\n\u001b[0;32m--> 369\u001b[0m     X \u001b[39m=\u001b[39m \u001b[39mself\u001b[39;49m\u001b[39m.\u001b[39;49m_validate_data(X, accept_sparse\u001b[39m=\u001b[39;49m[\u001b[39m\"\u001b[39;49m\u001b[39mcsr\u001b[39;49m\u001b[39m\"\u001b[39;49m, \u001b[39m\"\u001b[39;49m\u001b[39mcsc\u001b[39;49m\u001b[39m\"\u001b[39;49m, \u001b[39m\"\u001b[39;49m\u001b[39mcoo\u001b[39;49m\u001b[39m\"\u001b[39;49m], reset\u001b[39m=\u001b[39;49m\u001b[39mFalse\u001b[39;49;00m)\n\u001b[1;32m    370\u001b[0m     \u001b[39mreturn\u001b[39;00m safe_sparse_dot(X, \u001b[39mself\u001b[39m\u001b[39m.\u001b[39mcoef_\u001b[39m.\u001b[39mT, dense_output\u001b[39m=\u001b[39m\u001b[39mTrue\u001b[39;00m) \u001b[39m+\u001b[39m \u001b[39mself\u001b[39m\u001b[39m.\u001b[39mintercept_\n",
      "File \u001b[0;32m~/Library/Caches/pypoetry/virtualenvs/nbody-relaxed-P7T5KfjX-py3.9/lib/python3.9/site-packages/sklearn/base.py:604\u001b[0m, in \u001b[0;36mBaseEstimator._validate_data\u001b[0;34m(self, X, y, reset, validate_separately, cast_to_ndarray, **check_params)\u001b[0m\n\u001b[1;32m    602\u001b[0m         out \u001b[39m=\u001b[39m X, y\n\u001b[1;32m    603\u001b[0m \u001b[39melif\u001b[39;00m \u001b[39mnot\u001b[39;00m no_val_X \u001b[39mand\u001b[39;00m no_val_y:\n\u001b[0;32m--> 604\u001b[0m     out \u001b[39m=\u001b[39m check_array(X, input_name\u001b[39m=\u001b[39;49m\u001b[39m\"\u001b[39;49m\u001b[39mX\u001b[39;49m\u001b[39m\"\u001b[39;49m, \u001b[39m*\u001b[39;49m\u001b[39m*\u001b[39;49mcheck_params)\n\u001b[1;32m    605\u001b[0m \u001b[39melif\u001b[39;00m no_val_X \u001b[39mand\u001b[39;00m \u001b[39mnot\u001b[39;00m no_val_y:\n\u001b[1;32m    606\u001b[0m     out \u001b[39m=\u001b[39m _check_y(y, \u001b[39m*\u001b[39m\u001b[39m*\u001b[39mcheck_params)\n",
      "File \u001b[0;32m~/Library/Caches/pypoetry/virtualenvs/nbody-relaxed-P7T5KfjX-py3.9/lib/python3.9/site-packages/sklearn/utils/validation.py:959\u001b[0m, in \u001b[0;36mcheck_array\u001b[0;34m(array, accept_sparse, accept_large_sparse, dtype, order, copy, force_all_finite, ensure_2d, allow_nd, ensure_min_samples, ensure_min_features, estimator, input_name)\u001b[0m\n\u001b[1;32m    953\u001b[0m         \u001b[39mraise\u001b[39;00m \u001b[39mValueError\u001b[39;00m(\n\u001b[1;32m    954\u001b[0m             \u001b[39m\"\u001b[39m\u001b[39mFound array with dim \u001b[39m\u001b[39m%d\u001b[39;00m\u001b[39m. \u001b[39m\u001b[39m%s\u001b[39;00m\u001b[39m expected <= 2.\u001b[39m\u001b[39m\"\u001b[39m\n\u001b[1;32m    955\u001b[0m             \u001b[39m%\u001b[39m (array\u001b[39m.\u001b[39mndim, estimator_name)\n\u001b[1;32m    956\u001b[0m         )\n\u001b[1;32m    958\u001b[0m     \u001b[39mif\u001b[39;00m force_all_finite:\n\u001b[0;32m--> 959\u001b[0m         _assert_all_finite(\n\u001b[1;32m    960\u001b[0m             array,\n\u001b[1;32m    961\u001b[0m             input_name\u001b[39m=\u001b[39;49minput_name,\n\u001b[1;32m    962\u001b[0m             estimator_name\u001b[39m=\u001b[39;49mestimator_name,\n\u001b[1;32m    963\u001b[0m             allow_nan\u001b[39m=\u001b[39;49mforce_all_finite \u001b[39m==\u001b[39;49m \u001b[39m\"\u001b[39;49m\u001b[39mallow-nan\u001b[39;49m\u001b[39m\"\u001b[39;49m,\n\u001b[1;32m    964\u001b[0m         )\n\u001b[1;32m    966\u001b[0m \u001b[39mif\u001b[39;00m ensure_min_samples \u001b[39m>\u001b[39m \u001b[39m0\u001b[39m:\n\u001b[1;32m    967\u001b[0m     n_samples \u001b[39m=\u001b[39m _num_samples(array)\n",
      "File \u001b[0;32m~/Library/Caches/pypoetry/virtualenvs/nbody-relaxed-P7T5KfjX-py3.9/lib/python3.9/site-packages/sklearn/utils/validation.py:124\u001b[0m, in \u001b[0;36m_assert_all_finite\u001b[0;34m(X, allow_nan, msg_dtype, estimator_name, input_name)\u001b[0m\n\u001b[1;32m    121\u001b[0m \u001b[39mif\u001b[39;00m first_pass_isfinite:\n\u001b[1;32m    122\u001b[0m     \u001b[39mreturn\u001b[39;00m\n\u001b[0;32m--> 124\u001b[0m _assert_all_finite_element_wise(\n\u001b[1;32m    125\u001b[0m     X,\n\u001b[1;32m    126\u001b[0m     xp\u001b[39m=\u001b[39;49mxp,\n\u001b[1;32m    127\u001b[0m     allow_nan\u001b[39m=\u001b[39;49mallow_nan,\n\u001b[1;32m    128\u001b[0m     msg_dtype\u001b[39m=\u001b[39;49mmsg_dtype,\n\u001b[1;32m    129\u001b[0m     estimator_name\u001b[39m=\u001b[39;49mestimator_name,\n\u001b[1;32m    130\u001b[0m     input_name\u001b[39m=\u001b[39;49minput_name,\n\u001b[1;32m    131\u001b[0m )\n",
      "File \u001b[0;32m~/Library/Caches/pypoetry/virtualenvs/nbody-relaxed-P7T5KfjX-py3.9/lib/python3.9/site-packages/sklearn/utils/validation.py:173\u001b[0m, in \u001b[0;36m_assert_all_finite_element_wise\u001b[0;34m(X, xp, allow_nan, msg_dtype, estimator_name, input_name)\u001b[0m\n\u001b[1;32m    156\u001b[0m \u001b[39mif\u001b[39;00m estimator_name \u001b[39mand\u001b[39;00m input_name \u001b[39m==\u001b[39m \u001b[39m\"\u001b[39m\u001b[39mX\u001b[39m\u001b[39m\"\u001b[39m \u001b[39mand\u001b[39;00m has_nan_error:\n\u001b[1;32m    157\u001b[0m     \u001b[39m# Improve the error message on how to handle missing values in\u001b[39;00m\n\u001b[1;32m    158\u001b[0m     \u001b[39m# scikit-learn.\u001b[39;00m\n\u001b[1;32m    159\u001b[0m     msg_err \u001b[39m+\u001b[39m\u001b[39m=\u001b[39m (\n\u001b[1;32m    160\u001b[0m         \u001b[39mf\u001b[39m\u001b[39m\"\u001b[39m\u001b[39m\\n\u001b[39;00m\u001b[39m{\u001b[39;00mestimator_name\u001b[39m}\u001b[39;00m\u001b[39m does not accept missing values\u001b[39m\u001b[39m\"\u001b[39m\n\u001b[1;32m    161\u001b[0m         \u001b[39m\"\u001b[39m\u001b[39m encoded as NaN natively. For supervised learning, you might want\u001b[39m\u001b[39m\"\u001b[39m\n\u001b[0;32m   (...)\u001b[0m\n\u001b[1;32m    171\u001b[0m         \u001b[39m\"\u001b[39m\u001b[39m#estimators-that-handle-nan-values\u001b[39m\u001b[39m\"\u001b[39m\n\u001b[1;32m    172\u001b[0m     )\n\u001b[0;32m--> 173\u001b[0m \u001b[39mraise\u001b[39;00m \u001b[39mValueError\u001b[39;00m(msg_err)\n",
      "\u001b[0;31mValueError\u001b[0m: Input X contains NaN.\nLinearRegression does not accept missing values encoded as NaN natively. For supervised learning, you might want to consider sklearn.ensemble.HistGradientBoostingClassifier and Regressor which accept missing values encoded as NaNs natively. Alternatively, it is possible to preprocess the data, for instance by using an imputer transformer in a pipeline or drop samples with missing values. See https://scikit-learn.org/stable/modules/impute.html You can find a list of all estimators that handle NaN values at the following page: https://scikit-learn.org/stable/modules/impute.html#estimators-that-handle-nan-values"
     ]
    }
   ],
   "source": [
    "# model1.predict(x[0, None, :]) # crashes with a single test point"
   ]
  },
  {
   "cell_type": "code",
   "execution_count": 28,
   "metadata": {},
   "outputs": [
    {
     "data": {
      "text/plain": [
       "(9.532846450805664, 8.377765655517578)"
      ]
     },
     "execution_count": 28,
     "metadata": {},
     "output_type": "execute_result"
    }
   ],
   "source": [
    "model2.predict(x[0, None, :])[0,0], model2.predict(x)[0,0] # very different."
   ]
  },
  {
   "cell_type": "markdown",
   "metadata": {},
   "source": [
    "# Synthetic Dataset"
   ]
  },
  {
   "cell_type": "code",
   "execution_count": 147,
   "metadata": {},
   "outputs": [],
   "source": [
    "# create synthetic dataset with repeated values in features.\n",
    "np.random.seed(0)\n",
    "n = 10000\n",
    "n_features = 165\n",
    "n_targets = 1\n",
    "x = np.random.randn(n, n_features)\n",
    "for ii, c in enumerate(np.linspace(-2, 2, n_features)):\n",
    "    x[x[:,ii] > c, ii] = c\n",
    "\n",
    "y = np.exp(np.arctan(x[:, ::5] + 1)).sum(axis=1)[:,None] + np.random.randn(n, n_targets) * 0.5 # only subset of features matter"
   ]
  },
  {
   "cell_type": "code",
   "execution_count": 148,
   "metadata": {},
   "outputs": [
    {
     "data": {
      "text/plain": [
       "[<matplotlib.lines.Line2D at 0x153148220>]"
      ]
     },
     "execution_count": 148,
     "metadata": {},
     "output_type": "execute_result"
    },
    {
     "data": {
      "image/png": "[encoded data removed]",
      "text/plain": [
       "<Figure size 640x480 with 1 Axes>"
      ]
     },
     "metadata": {},
     "output_type": "display_data"
    }
   ],
   "source": [
    "plt.plot(x[:,0], y[:,0], 'o')"
   ]
  },
  {
   "cell_type": "markdown",
   "metadata": {},
   "source": [
    "# Prediction"
   ]
  },
  {
   "cell_type": "code",
   "execution_count": 138,
   "metadata": {},
   "outputs": [],
   "source": [
    "model = MultiCAM(n_features, 1)\n",
    "model.fit(x,y)\n",
    "\n",
    "y_pred = model.predict(x)"
   ]
  },
  {
   "cell_type": "code",
   "execution_count": 139,
   "metadata": {},
   "outputs": [],
   "source": [
    "model_og = MultiCAM_OG(n_features, 1)\n",
    "model_og.fit(x,y)\n",
    "\n",
    "y_pred_og = model_og.predict(x)"
   ]
  },
  {
   "cell_type": "code",
   "execution_count": 141,
   "metadata": {},
   "outputs": [
    {
     "data": {
      "text/plain": [
       "(0.9131484464796594, 0.9356251448582571)"
      ]
     },
     "execution_count": 141,
     "metadata": {},
     "output_type": "execute_result"
    }
   ],
   "source": [
    "spearmanr(y[:,0], y_pred[:,0]), spearmanr(y[:,0], y_pred_og[:,0])"
   ]
  },
  {
   "cell_type": "code",
   "execution_count": 144,
   "metadata": {},
   "outputs": [
    {
     "data": {
      "text/plain": [
       "(45.95408648095023, 47.72086394738629)"
      ]
     },
     "execution_count": 144,
     "metadata": {},
     "output_type": "execute_result"
    }
   ],
   "source": [
    "idx = np.random.randint(0, len(x))\n",
    "test_point = x[idx, None, :]\n",
    "y1 = model.predict(test_point).item()\n",
    "y2 = model.predict(x)[idx,0]\n",
    "y1,y2"
   ]
  },
  {
   "cell_type": "code",
   "execution_count": null,
   "metadata": {},
   "outputs": [],
   "source": []
  }
 ],
 "metadata": {
  "kernelspec": {
   "display_name": "nbody-relaxed-P7T5KfjX-py3.9",
   "language": "python",
   "name": "python3"
  },
  "language_info": {
   "codemirror_mode": {
    "name": "ipython",
    "version": 3
   },
   "file_extension": ".py",
   "mimetype": "text/x-python",
   "name": "python",
   "nbconvert_exporter": "python",
   "pygments_lexer": "ipython3",
   "version": "3.9.16"
  },
  "orig_nbformat": 4
 },
 "nbformat": 4,
 "nbformat_minor": 2
}
