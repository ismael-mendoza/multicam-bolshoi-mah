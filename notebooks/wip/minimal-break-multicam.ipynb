{
 "cells": [
  {
   "cell_type": "code",
   "execution_count": 9,
   "metadata": {},
   "outputs": [
    {
     "name": "stdout",
     "output_type": "stream",
     "text": [
      "Modules to reload:\n",
      "all-except-skipped\n",
      "\n",
      "Modules to skip:\n",
      "\n"
     ]
    }
   ],
   "source": [
    "%load_ext autoreload\n",
    "%autoreload 2\n",
    "%aimport"
   ]
  },
  {
   "cell_type": "code",
   "execution_count": 10,
   "metadata": {},
   "outputs": [],
   "source": [
    "%matplotlib inline"
   ]
  },
  {
   "cell_type": "code",
   "execution_count": 11,
   "metadata": {},
   "outputs": [],
   "source": [
    "import numpy as np\n",
    "import matplotlib.pyplot as plt \n",
    "import warnings\n",
    "from tqdm import tqdm"
   ]
  },
  {
   "cell_type": "code",
   "execution_count": 12,
   "metadata": {},
   "outputs": [],
   "source": [
    "from scipy.interpolate import interp1d\n",
    "from scipy.stats import rankdata\n",
    "from sklearn import linear_model\n",
    "from sklearn.feature_selection import SelectFromModel\n",
    "from sklearn.preprocessing import QuantileTransformer"
   ]
  },
  {
   "cell_type": "code",
   "execution_count": 149,
   "metadata": {},
   "outputs": [],
   "source": [
    "from scipy import stats\n",
    "\n",
    "def spearmanr(*args, **kwargs):\n",
    "    return stats.spearmanr(*args, **kwargs).correlation"
   ]
  },
  {
   "cell_type": "markdown",
   "metadata": {},
   "source": [
    "## Model implementation"
   ]
  },
  {
   "cell_type": "code",
   "execution_count": 14,
   "metadata": {},
   "outputs": [],
   "source": [
    "def _value_at_rank(x, ranks):\n",
    "    \"\"\"Get value at ranks of multidimensional array.\"\"\"\n",
    "    assert x.shape[1] == ranks.shape[1]\n",
    "    assert ranks.dtype == int\n",
    "    n, m = ranks.shape\n",
    "    y = np.zeros((n, m), dtype=float)\n",
    "    for ii in range(m):\n",
    "        y[:, ii] = np.take(x[:, ii], ranks[:, ii])\n",
    "    return y"
   ]
  },
  {
   "cell_type": "code",
   "execution_count": 15,
   "metadata": {},
   "outputs": [],
   "source": [
    "class MultiCAM_OG:\n",
    "    def __init__(self, n_features: int, n_targets: int) -> None:\n",
    "        assert isinstance(n_features, int) and n_features > 0\n",
    "        self.n_features = n_features\n",
    "        self.n_targets = n_targets\n",
    "        self.trained = False \n",
    "\n",
    "        # additional metadata that needs to be saved for prediction.\n",
    "        self.qt_xr = None\n",
    "        self.qt_yr = None\n",
    "        self.qt_x = None\n",
    "        self.qt_y = None\n",
    "        self.y_train = None\n",
    "        self.x_train = None\n",
    "\n",
    "        # setup linear regression model\n",
    "        self.reg = linear_model.LinearRegression()\n",
    "\n",
    "\n",
    "    def fit(self, x, y):\n",
    "        \"\"\"Fit model using training data\"\"\"\n",
    "        assert np.sum(np.isnan(x)) == np.sum(np.isnan(y)) == 0\n",
    "        assert x.shape == (y.shape[0], self.n_features)\n",
    "        assert y.shape == (x.shape[0], self.n_targets)\n",
    "\n",
    "        # need to save training data to predict from ranks later.\n",
    "        self.x_train = x.copy()\n",
    "        self.y_train = y.copy()\n",
    "\n",
    "        # first get ranks of features and targets.\n",
    "        xr = rankdata(x, axis=0, method=\"ordinal\")\n",
    "        yr = rankdata(y, axis=0, method=\"ordinal\")\n",
    "\n",
    "        # then get a quantile transformer for the ranks to a normal distribution.\n",
    "        self.qt_xr = QuantileTransformer(n_quantiles=len(xr), output_distribution=\"normal\")\n",
    "        self.qt_xr = self.qt_xr.fit(xr)\n",
    "        self.qt_yr = QuantileTransformer(n_quantiles=len(yr), output_distribution=\"normal\")\n",
    "        self.qt_yr = self.qt_yr.fit(yr)\n",
    "\n",
    "        x_gauss, y_gauss = self.qt_xr.transform(xr), self.qt_yr.transform(yr)\n",
    "\n",
    "        # then fit a linear regression model to the transformed data.\n",
    "        self.reg.fit(x_gauss, y_gauss)\n",
    "        \n",
    "        self.trained = True\n",
    "\n",
    "    def predict(self, x):\n",
    "        assert len(x.shape) == 2\n",
    "        assert x.shape[1] == self.n_features\n",
    "        assert np.sum(np.isnan(x)) == 0\n",
    "        assert self.trained\n",
    "\n",
    "        # get ranks of test data.\n",
    "        xr = rankdata(x, axis=0, method=\"ordinal\")\n",
    "        xr = (xr - 1) * (len(self.x_train) - 1) / (len(x) - 1) + 1\n",
    "        \n",
    "        # transform ranks to be (marginally) gaussian.\n",
    "        xr_trans = self.qt_xr.transform(xr)\n",
    "\n",
    "        # predict on transformed ranks.\n",
    "        yr_trans = self.reg.predict(xr_trans)\n",
    "\n",
    "        # get quantile transformer of prediction to (marginal) normal.\n",
    "        qt_pred = QuantileTransformer(n_quantiles=len(yr_trans), output_distribution=\"normal\")\n",
    "        qt_pred.fit(yr_trans)\n",
    "\n",
    "        # inverse transform prediction to get ranks of target.\n",
    "        yr = self.qt_yr.inverse_transform(qt_pred.transform(yr_trans)).astype(int) - 1\n",
    "\n",
    "        # predictions are points in train data corresponding to ranks predicted\n",
    "        y_train_sorted = np.sort(self.y_train, axis=0)\n",
    "        y_pred = _value_at_rank(y_train_sorted, yr)\n",
    "\n",
    "        return y_pred"
   ]
  },
  {
   "cell_type": "code",
   "execution_count": 233,
   "metadata": {},
   "outputs": [],
   "source": [
    "class MultiCAM:\n",
    "    def __init__(self, n_features: int, n_targets: int) -> None:\n",
    "        assert isinstance(n_features, int) and n_features > 0\n",
    "        self.n_features = n_features\n",
    "        self.n_targets = n_targets\n",
    "        self.trained = False \n",
    "\n",
    "        # additional metadata that needs to be saved for prediction.\n",
    "        self.qt_xr = None\n",
    "        self.qt_yr = None\n",
    "        self.qt_x = None\n",
    "        self.qt_y = None\n",
    "        self.y_train = None\n",
    "        self.x_train = None\n",
    "        self.qt_pred = None\n",
    "        self.rank_lookup = {}\n",
    "\n",
    "        # setup linear regression model\n",
    "        self.reg = linear_model.LinearRegression()\n",
    "\n",
    "\n",
    "    def fit(self, x, y):\n",
    "        \"\"\"Fit model using training data\"\"\"\n",
    "        assert np.sum(np.isnan(x)) == np.sum(np.isnan(y)) == 0\n",
    "        assert x.shape == (y.shape[0], self.n_features)\n",
    "        assert y.shape == (x.shape[0], self.n_targets)\n",
    "\n",
    "        # need to save training data to predict from ranks later.\n",
    "        self.x_train = x.copy()\n",
    "        self.y_train = y.copy()\n",
    "\n",
    "        # first get ranks of features and targets.\n",
    "        xr = rankdata(x, axis=0, method=\"ordinal\")\n",
    "        yr = rankdata(y, axis=0, method=\"ordinal\")\n",
    "\n",
    "        # then get a quantile transformer for the ranks to a normal distribution.\n",
    "        self.qt_xr = QuantileTransformer(n_quantiles=len(xr), output_distribution=\"normal\")\n",
    "        self.qt_xr = self.qt_xr.fit(xr)\n",
    "        self.qt_yr = QuantileTransformer(n_quantiles=len(yr), output_distribution=\"normal\")\n",
    "        self.qt_yr = self.qt_yr.fit(yr)\n",
    "\n",
    "        x_gauss, y_gauss = self.qt_xr.transform(xr), self.qt_yr.transform(yr)\n",
    "\n",
    "        # then fit a linear regression model to the transformed data.\n",
    "        self.reg.fit(x_gauss, y_gauss)\n",
    "\n",
    "        # get quantile transformer of prediction to (marginal) normal using training data.\n",
    "        y_pred = self.reg.predict(x_gauss)\n",
    "        self.qt_pred = QuantileTransformer(n_quantiles=len(y_pred), output_distribution=\"normal\")\n",
    "        self.qt_pred.fit(y_pred)\n",
    "\n",
    "        # finally, create lookup table for low and high ranks of each feature.\n",
    "        for jj in range(self.n_features):\n",
    "            x_train_jj = np.sort(self.x_train[:, jj])\n",
    "            u, c = np.unique(x_train_jj, return_counts=True)\n",
    "            lranks = np.cumsum(c) - c + 1\n",
    "            hranks = np.cumsum(c)\n",
    "            self.rank_lookup[jj] = (u, lranks, hranks)\n",
    "\n",
    "        \n",
    "        self.trained = True\n",
    "\n",
    "    @staticmethod\n",
    "    def _value_at_rank(x, ranks):\n",
    "        \"\"\"Get value at ranks of multidimensional array.\"\"\"\n",
    "        assert x.shape[1] == ranks.shape[1]\n",
    "        assert ranks.dtype == int\n",
    "        n, m = ranks.shape\n",
    "        y = np.zeros((n, m), dtype=float)\n",
    "        for ii in range(m):\n",
    "            y[:, ii] = np.take(x[:, ii], ranks[:, ii])\n",
    "        return y\n",
    "\n",
    "    def predict(self, x):\n",
    "        assert len(x.shape) == 2\n",
    "        assert x.shape[1] == self.n_features\n",
    "        assert np.sum(np.isnan(x)) == 0\n",
    "        assert self.trained\n",
    "\n",
    "        # get ranks of test data (based on training data)\n",
    "        xr = np.zeros_like(x) * np.nan\n",
    "        for jj in range(self.n_features):\n",
    "            x_jj = x[:, jj]\n",
    "            x_train_jj = np.sort(self.x_train[:, jj])\n",
    "            uniq, lranks, hranks = self.rank_lookup[jj]\n",
    "            xr[:, jj] = np.searchsorted(x_train_jj, x_jj) + 1  # indices to ranks\n",
    "\n",
    "            # if value is in training data, get uniform rank between low and high ranks.\n",
    "            in_train = np.isin(x_jj, uniq)\n",
    "            u_indices = np.searchsorted(uniq, x_jj[in_train])\n",
    "            lr, hr = lranks[u_indices], hranks[u_indices]  # repeat appropriately\n",
    "            xr[in_train, jj] = np.random.randint(lr, hr + 1)\n",
    "\n",
    "        assert np.sum(np.isnan(xr)) == 0\n",
    "\n",
    "        # transform ranks to be (marginally) gaussian.\n",
    "        x_gauss = self.qt_xr.transform(xr)\n",
    "\n",
    "        # predict on transformed ranks.\n",
    "        y_not_gauss = self.reg.predict(x_gauss)\n",
    "\n",
    "        # inverse transform prediction to get ranks of target.\n",
    "        y_gauss = self.qt_pred.transform(y_not_gauss)\n",
    "        yr = self.qt_yr.inverse_transform(y_gauss).astype(int)\n",
    "        yr -= 1  # ranks are 1-indexed, so subtract 1 to get 0-indexed.\n",
    "\n",
    "        # predictions are points in train data corresponding to ranks predicted\n",
    "        y_train_sorted = np.sort(self.y_train, axis=0)\n",
    "        y_pred = _value_at_rank(y_train_sorted, yr)\n",
    "\n",
    "        return y_pred"
   ]
  },
  {
   "cell_type": "markdown",
   "metadata": {},
   "source": [
    "## Real Dataset"
   ]
  },
  {
   "cell_type": "code",
   "execution_count": 234,
   "metadata": {},
   "outputs": [],
   "source": [
    "from multicam.mah import get_mah"
   ]
  },
  {
   "cell_type": "code",
   "execution_count": 179,
   "metadata": {},
   "outputs": [],
   "source": [
    "mah_data = get_mah('../../data/processed/bolshoi_m12/', cutoff_missing=0.05, cutoff_particle=0.05)"
   ]
  },
  {
   "cell_type": "code",
   "execution_count": 19,
   "metadata": {},
   "outputs": [],
   "source": [
    "# catalog\n",
    "cat = mah_data['cat']\n",
    "cvir = cat['cvir']\n",
    "ma = mah_data['ma']\n",
    "ma_peak = mah_data['ma_peak']\n",
    "\n",
    "indices = mah_data['indices']\n",
    "scales = mah_data['scales']"
   ]
  },
  {
   "cell_type": "markdown",
   "metadata": {},
   "source": [
    "### Illustration of repeated values with `ma_peak`"
   ]
  },
  {
   "cell_type": "code",
   "execution_count": 194,
   "metadata": {},
   "outputs": [
    {
     "data": {
      "image/png": "[encoded data removed]",
      "text/plain": [
       "<Figure size 640x480 with 1 Axes>"
      ]
     },
     "metadata": {},
     "output_type": "display_data"
    }
   ],
   "source": [
    "_ = plt.hist(ma[:, 150], bins=101, histtype='step', range=(0.7, 1), label='MA')"
   ]
  },
  {
   "cell_type": "code",
   "execution_count": 192,
   "metadata": {},
   "outputs": [
    {
     "data": {
      "image/png": "[encoded data removed]",
      "text/plain": [
       "<Figure size 640x480 with 1 Axes>"
      ]
     },
     "metadata": {},
     "output_type": "display_data"
    }
   ],
   "source": [
    "_ = plt.hist(ma_peak[:, 101], bins=51, histtype='step', range=(0.7, 1), label='MA peak')"
   ]
  },
  {
   "cell_type": "markdown",
   "metadata": {},
   "source": [
    "### Predictions (with `ma`)"
   ]
  },
  {
   "cell_type": "code",
   "execution_count": 29,
   "metadata": {},
   "outputs": [],
   "source": [
    "x = ma \n",
    "y = cvir[:, None]"
   ]
  },
  {
   "cell_type": "code",
   "execution_count": 30,
   "metadata": {},
   "outputs": [],
   "source": [
    "model1 = MultiCAM_OG(n_features=165, n_targets=1)\n",
    "model2 = MultiCAM(n_features=165, n_targets=1)\n",
    "\n",
    "model1.fit(x, y)\n",
    "model2.fit(x, y)"
   ]
  },
  {
   "cell_type": "code",
   "execution_count": 31,
   "metadata": {},
   "outputs": [],
   "source": [
    "y_pred1 = model1.predict(x)\n",
    "y_pred2 = model2.predict(x)"
   ]
  },
  {
   "cell_type": "code",
   "execution_count": 32,
   "metadata": {},
   "outputs": [
    {
     "data": {
      "text/plain": [
       "(0.8032634746947371, 0.8033069077651853)"
      ]
     },
     "execution_count": 32,
     "metadata": {},
     "output_type": "execute_result"
    }
   ],
   "source": [
    "# significant correlation drop\n",
    "spearmanr(y[:,0], y_pred1[:,0]), spearmanr(y, y_pred2[:,0])"
   ]
  },
  {
   "cell_type": "code",
   "execution_count": null,
   "metadata": {},
   "outputs": [],
   "source": [
    "# model1.predict(x[0, None, :]) # crashes with a single test point"
   ]
  },
  {
   "cell_type": "code",
   "execution_count": 33,
   "metadata": {},
   "outputs": [
    {
     "data": {
      "text/plain": [
       "(7.24126672744751, 7.24126672744751)"
      ]
     },
     "execution_count": 33,
     "metadata": {},
     "output_type": "execute_result"
    }
   ],
   "source": [
    "model2.predict(x[0, None, :])[0,0], model2.predict(x)[0,0] # same"
   ]
  },
  {
   "cell_type": "markdown",
   "metadata": {},
   "source": [
    "**Takeaway**: Having no repeated values avoids both of the issues."
   ]
  },
  {
   "cell_type": "markdown",
   "metadata": {},
   "source": [
    "### Predictions (with `m_peak`)"
   ]
  },
  {
   "cell_type": "markdown",
   "metadata": {},
   "source": [
    "Note that `ma_peak` has many more repeated values than `ma` especially for the late time features."
   ]
  },
  {
   "cell_type": "code",
   "execution_count": null,
   "metadata": {},
   "outputs": [],
   "source": [
    "x = ma_peak \n",
    "y = cvir[:, None]"
   ]
  },
  {
   "cell_type": "code",
   "execution_count": 21,
   "metadata": {},
   "outputs": [],
   "source": [
    "model1 = MultiCAM_OG(n_features=165, n_targets=1)\n",
    "model2 = MultiCAM(n_features=165, n_targets=1)\n",
    "\n",
    "model1.fit(x, y)\n",
    "model2.fit(x, y)"
   ]
  },
  {
   "cell_type": "code",
   "execution_count": 22,
   "metadata": {},
   "outputs": [],
   "source": [
    "y_pred1 = model1.predict(x)\n",
    "y_pred2 = model2.predict(x)"
   ]
  },
  {
   "cell_type": "code",
   "execution_count": 24,
   "metadata": {},
   "outputs": [
    {
     "data": {
      "text/plain": [
       "(0.8063608693988956, 0.7518621048532789)"
      ]
     },
     "execution_count": 24,
     "metadata": {},
     "output_type": "execute_result"
    }
   ],
   "source": [
    "# significant correlation drop\n",
    "spearmanr(y[:,0], y_pred1[:,0]), spearmanr(y, y_pred2[:,0])"
   ]
  },
  {
   "cell_type": "code",
   "execution_count": 232,
   "metadata": {},
   "outputs": [],
   "source": [
    "# model1.predict(x[0, None, :]) # crashes with a single test point"
   ]
  },
  {
   "cell_type": "code",
   "execution_count": 28,
   "metadata": {},
   "outputs": [
    {
     "data": {
      "text/plain": [
       "(9.532846450805664, 8.377765655517578)"
      ]
     },
     "execution_count": 28,
     "metadata": {},
     "output_type": "execute_result"
    }
   ],
   "source": [
    "model2.predict(x[0, None, :])[0,0], model2.predict(x)[0,0] # can very different."
   ]
  },
  {
   "cell_type": "markdown",
   "metadata": {},
   "source": [
    "# Synthetic Dataset"
   ]
  },
  {
   "cell_type": "code",
   "execution_count": 235,
   "metadata": {},
   "outputs": [],
   "source": [
    "# create synthetic dataset with repeated values in features.\n",
    "np.random.seed(0)\n",
    "n = 10000\n",
    "n_features = 10\n",
    "n_targets = 1\n",
    "x = np.random.randn(n, n_features)\n",
    "for ii, c in enumerate(np.linspace(-2, 2, n_features)):\n",
    "    x[x[:,ii] > c, ii] = c\n",
    "\n",
    "# only subset of features matter\n",
    "y = np.exp(np.arctan(x + 1)).sum(axis=1)[:,None] + np.random.randn(n, n_targets) * 0.5 "
   ]
  },
  {
   "cell_type": "code",
   "execution_count": 246,
   "metadata": {},
   "outputs": [
    {
     "data": {
      "text/plain": [
       "[<matplotlib.lines.Line2D at 0x288d491c0>]"
      ]
     },
     "execution_count": 246,
     "metadata": {},
     "output_type": "execute_result"
    },
    {
     "data": {
      "image/png": "[encoded data removed]",
      "text/plain": [
       "<Figure size 640x480 with 1 Axes>"
      ]
     },
     "metadata": {},
     "output_type": "display_data"
    }
   ],
   "source": [
    "plt.plot(x[:,1], y[:,0], 'o')"
   ]
  },
  {
   "cell_type": "markdown",
   "metadata": {},
   "source": [
    "# Prediction"
   ]
  },
  {
   "cell_type": "code",
   "execution_count": 237,
   "metadata": {},
   "outputs": [],
   "source": [
    "model = MultiCAM(n_features, 1)\n",
    "model.fit(x,y)\n",
    "\n",
    "y_pred = model.predict(x)"
   ]
  },
  {
   "cell_type": "code",
   "execution_count": 238,
   "metadata": {},
   "outputs": [],
   "source": [
    "model_og = MultiCAM_OG(n_features, 1)\n",
    "model_og.fit(x,y)\n",
    "\n",
    "y_pred_og = model_og.predict(x)"
   ]
  },
  {
   "cell_type": "code",
   "execution_count": 239,
   "metadata": {},
   "outputs": [
    {
     "data": {
      "text/plain": [
       "(0.8758524097473717, 0.9118120375094467)"
      ]
     },
     "execution_count": 239,
     "metadata": {},
     "output_type": "execute_result"
    }
   ],
   "source": [
    "spearmanr(y[:,0], y_pred[:,0]), spearmanr(y[:,0], y_pred_og[:,0])"
   ]
  },
  {
   "cell_type": "code",
   "execution_count": 243,
   "metadata": {},
   "outputs": [
    {
     "data": {
      "text/plain": [
       "(13.64947975086424, 14.848339181978963)"
      ]
     },
     "execution_count": 243,
     "metadata": {},
     "output_type": "execute_result"
    }
   ],
   "source": [
    "idx = np.random.randint(0, len(x))\n",
    "test_point = x[idx, None, :]\n",
    "y1 = model.predict(test_point).item()\n",
    "y2 = model.predict(x)[idx,0]\n",
    "y1,y2"
   ]
  },
  {
   "cell_type": "code",
   "execution_count": null,
   "metadata": {},
   "outputs": [],
   "source": []
  }
 ],
 "metadata": {
  "kernelspec": {
   "display_name": "nbody-relaxed-P7T5KfjX-py3.9",
   "language": "python",
   "name": "python3"
  },
  "language_info": {
   "codemirror_mode": {
    "name": "ipython",
    "version": 3
   },
   "file_extension": ".py",
   "mimetype": "text/x-python",
   "name": "python",
   "nbconvert_exporter": "python",
   "pygments_lexer": "ipython3",
   "version": "3.9.16"
  },
  "orig_nbformat": 4
 },
 "nbformat": 4,
 "nbformat_minor": 2
}
