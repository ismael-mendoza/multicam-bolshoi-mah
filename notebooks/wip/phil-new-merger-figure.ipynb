{
 "cells": [
  {
   "cell_type": "code",
   "execution_count": 1,
   "metadata": {},
   "outputs": [
    {
     "name": "stdout",
     "output_type": "stream",
     "text": [
      "Modules to reload:\n",
      "all-except-skipped\n",
      "\n",
      "Modules to skip:\n",
      "\n"
     ]
    }
   ],
   "source": [
    "%load_ext autoreload\n",
    "%autoreload 2\n",
    "%aimport"
   ]
  },
  {
   "cell_type": "code",
   "execution_count": 2,
   "metadata": {},
   "outputs": [],
   "source": [
    "%matplotlib inline"
   ]
  },
  {
   "cell_type": "code",
   "execution_count": 3,
   "metadata": {},
   "outputs": [],
   "source": [
    "import numpy as np\n",
    "import matplotlib.pyplot as plt \n",
    "import warnings\n",
    "from tqdm import tqdm"
   ]
  },
  {
   "cell_type": "code",
   "execution_count": 4,
   "metadata": {},
   "outputs": [],
   "source": [
    "from multicam.mah import get_mah"
   ]
  },
  {
   "cell_type": "markdown",
   "metadata": {},
   "source": [
    "# Collect MAH data"
   ]
  },
  {
   "cell_type": "code",
   "execution_count": 5,
   "metadata": {},
   "outputs": [],
   "source": [
    "mah_data = get_mah('../../data/processed/bolshoi_m12/', cutoff_missing=0.05, cutoff_particle=0.05)"
   ]
  },
  {
   "cell_type": "code",
   "execution_count": 6,
   "metadata": {},
   "outputs": [
    {
     "name": "stdout",
     "output_type": "stream",
     "text": [
      "(10000,) (10000,) (10000, 100) (10000, 165) (165,) (100,)\n"
     ]
    }
   ],
   "source": [
    "# catalog\n",
    "cat = mah_data['cat']\n",
    "xoff = cat['x0']\n",
    "cvir = cat['cvir']\n",
    "ma = mah_data['ma']\n",
    "am = mah_data['am']\n",
    "# ma_peak = mah_data['ma_peak']\n",
    "\n",
    "indices = mah_data['indices']\n",
    "scales = mah_data['scales']\n",
    "mass_bins = mah_data['mass_bins']\n",
    "print(cvir.shape, xoff.shape, am.shape, ma.shape, scales.shape, mass_bins.shape)"
   ]
  },
  {
   "cell_type": "markdown",
   "metadata": {},
   "source": [
    "# Construct indicators and merger ratio at each snapshot"
   ]
  },
  {
   "cell_type": "code",
   "execution_count": 7,
   "metadata": {},
   "outputs": [
    {
     "data": {
      "text/plain": [
       "array([0.18635   , 0.22919211, 0.27203421, 0.31487632, 0.35771842,\n",
       "       0.40056053, 0.44340263, 0.48624474, 0.52908684, 0.57192895,\n",
       "       0.61477105, 0.65761316, 0.70045526, 0.74329737, 0.78613947,\n",
       "       0.82898158, 0.87182368, 0.91466579, 0.95750789, 1.00035   ])"
      ]
     },
     "execution_count": 7,
     "metadata": {},
     "output_type": "execute_result"
    }
   ],
   "source": [
    "# scale factor coarser bins \n",
    "min_scale, max_scale = np.min(scales), np.max(scales)\n",
    "scale_bins = np.linspace(min_scale, max_scale, 20)\n",
    "scale_bins"
   ]
  },
  {
   "cell_type": "code",
   "execution_count": 8,
   "metadata": {},
   "outputs": [],
   "source": [
    "# for each simulation scale, get MM \n",
    "# first we need merger ratio at every scale \n",
    "merger_ratio_inst  = np.zeros((len(cat), len(scales)))\n",
    "merger_ratio_present = np.zeros((len(cat), len(scales)))\n",
    "for i in range(len(cat)):\n",
    "    for j, idx in enumerate(indices): \n",
    "        m2_name = f'm2_a{idx}' # TODO: Check what this corresponds to\n",
    "        cpg_name = f'coprog_mvir_a{idx-1}' # want coprogenitor mass at previous timestep.\n",
    "        mvir_name = f'mvir_a{idx}'\n",
    "        \n",
    "        # get inst ratios\n",
    "        m2_ratio = cat[m2_name][i].item() / cat[mvir_name][i].item()\n",
    "        merger_ratio_inst[i, j] = m2_ratio\n",
    "        \n",
    "        # present ratios\n",
    "        m2_ratio = cat[m2_name][i] / cat['mvir'][i].item()\n",
    "        merger_ratio_present[i, j] = m2_ratio\n",
    "    "
   ]
  },
  {
   "cell_type": "code",
   "execution_count": 9,
   "metadata": {},
   "outputs": [],
   "source": [
    "# construct indicator for each halo whether they have a MM in a given scale bine \n",
    "Mu = [0.3/1.3, 0.1 / 1.1 , 0.03 / (1 + 0.03), 0.01 / 1.01]\n",
    "inst_mask = np.zeros((len(Mu), len(cat), len(scale_bins)-1))\n",
    "present_mask = np.zeros((len(Mu), len(cat), len(scale_bins)-1))\n",
    "\n",
    "# ignore all nanmax warning, these will return np.nan's which is expected. \n",
    "warnings.simplefilter(\"ignore\", category=RuntimeWarning)\n",
    "\n",
    "for kk, mu in enumerate(Mu):\n",
    "    for jj in range(len(scale_bins) - 1):\n",
    "        # get largest merger ratio in this scale bin\n",
    "        mask = (scales >= scale_bins[jj]) & (scales < scale_bins[jj+1])\n",
    "        inst_mask[kk, :, jj] = np.nanmax(merger_ratio_inst[:, mask], axis=1) > mu\n",
    "        present_mask[kk, :, jj] = np.nanmax(merger_ratio_present[:, mask], axis=1) > mu"
   ]
  },
  {
   "cell_type": "code",
   "execution_count": 21,
   "metadata": {},
   "outputs": [],
   "source": [
    "x1 = ma\n",
    "\n",
    "mask2 = np.isnan(merger_ratio_inst)\n",
    "x2 = np.where(mask2, 0, merger_ratio_inst)\n",
    "\n",
    "# use scale_bins instead of scales, take max over mergers in each bin.\n",
    "x3 = np.zeros((x2.shape[0], scale_bins.shape[0]))\n",
    "for ii, scale in enumerate(scales):\n",
    "    jj = np.where(scale >= scale_bins)[0][-1]\n",
    "    arr = np.vstack([x3[:, jj], x2[:, ii]])\n",
    "    assert arr.shape == (2, 10000)\n",
    "    x3[:, jj] = np.max(arr, axis=0)"
   ]
  },
  {
   "cell_type": "markdown",
   "metadata": {},
   "source": [
    "# Phil's new figure"
   ]
  },
  {
   "cell_type": "code",
   "execution_count": 68,
   "metadata": {},
   "outputs": [
    {
     "data": {
      "text/plain": [
       "0.7432973684210527"
      ]
     },
     "execution_count": 68,
     "metadata": {},
     "output_type": "execute_result"
    }
   ],
   "source": [
    "# for a single fixed scale bin, as a function merger ratio, plot diff between \n",
    "# true and predicted concentration (by standard multicam) i.e. median, 25th, 75th percentile\n",
    "# additionally, add another line corresponding to the model trained only on 1 additional feature\n",
    "# corresponding to the merger ratio of that scale bin (extra information)\n",
    "\n",
    "scale_bin = 0.78\n",
    "scale_idx = np.where(scale_bin >= scale_bins)[0][-1]\n",
    "assert scale_bins[scale_idx] <= scale_bin < scale_bins[scale_idx+1]\n",
    "scale_bins[scale_idx]"
   ]
  },
  {
   "cell_type": "code",
   "execution_count": 69,
   "metadata": {},
   "outputs": [],
   "source": [
    "# train standard multicam\n",
    "from multicam.models import LinearRegression\n",
    "x = ma\n",
    "\n",
    "y = np.concatenate([cat['cvir'][:, None], cat['x0'][:, None], cat['t/|u|'][:, None], \n",
    "                    cat['spin_bullock'][:, None], cat['c_to_a'][:,None]], \n",
    "                    axis=1)\n",
    "mc = LinearRegression(165, 5)\n",
    "mc.fit(x, y)"
   ]
  },
  {
   "cell_type": "code",
   "execution_count": 70,
   "metadata": {},
   "outputs": [],
   "source": [
    "# multicam trained on single feature: merger ratio at selected scale bin.\n",
    "x1 = ma \n",
    "x31 = x3[:, scale_idx][:, None]\n",
    "x = np.hstack([x1, x31])\n",
    "y = np.concatenate([cat['cvir'][:, None], cat['x0'][:, None], cat['t/|u|'][:, None], \n",
    "                    cat['spin_bullock'][:, None], cat['c_to_a'][:,None]], \n",
    "                    axis=1)\n",
    "mc_mr = LinearRegression(166, 5)\n",
    "mc_mr.fit(x, y)"
   ]
  },
  {
   "cell_type": "code",
   "execution_count": 72,
   "metadata": {},
   "outputs": [
    {
     "data": {
      "text/plain": [
       "<matplotlib.legend.Legend at 0x17a5712e0>"
      ]
     },
     "execution_count": 72,
     "metadata": {},
     "output_type": "execute_result"
    },
    {
     "data": {
      "image/png": "[encoded data removed]",
      "text/plain": [
       "<Figure size 640x480 with 1 Axes>"
      ]
     },
     "metadata": {},
     "output_type": "display_data"
    }
   ],
   "source": [
    "# now let's look at the residual curves for each of these models\n",
    "# just concentration for now\n",
    "y_pred1 = mc.predict(x1)\n",
    "y_pred2 = mc_mr.predict(np.hstack([x1, x31]))\n",
    "\n",
    "# concentration residuals\n",
    "res1 = (y_pred1[:,0] - y[:,0]) / y[:,0] \n",
    "res2 = (y_pred2[:,0] - y[:,0]) / y[:,0]\n",
    "\n",
    "# plot median concentration as a function of merger ratio for this scale bin\n",
    "# plot 25th and 75th percentile as well\n",
    "\n",
    "merger_ratio_bins = np.linspace(0, 0.5, 11)\n",
    "median1 = np.zeros(len(merger_ratio_bins)-1)\n",
    "median2 = np.zeros(len(merger_ratio_bins)-1)\n",
    "low1 = np.zeros(len(merger_ratio_bins)-1)\n",
    "low2 = np.zeros(len(merger_ratio_bins)-1)\n",
    "high1 = np.zeros(len(merger_ratio_bins)-1)\n",
    "high2 = np.zeros(len(merger_ratio_bins)-1)\n",
    "\n",
    "for ii in range(len(merger_ratio_bins)-1):\n",
    "    mask = (x31[:,0] >= merger_ratio_bins[ii]) & (x31[:,0] < merger_ratio_bins[ii+1])\n",
    "    median1[ii] = np.median(res1[mask])\n",
    "    median2[ii] = np.median(res2[mask])\n",
    "    low1[ii] = np.percentile(res1[mask], 25)\n",
    "    low2[ii] = np.percentile(res2[mask], 25)\n",
    "    high1[ii] = np.percentile(res1[mask], 75)\n",
    "    high2[ii] = np.percentile(res2[mask], 75)\n",
    "\n",
    "plt.plot(merger_ratio_bins[:-1], median1, label='standard multicam')\n",
    "plt.plot(merger_ratio_bins[:-1], median2, label='multicam + merger ratio')\n",
    "plt.fill_between(merger_ratio_bins[:-1], low1, high1, alpha=0.5)\n",
    "plt.fill_between(merger_ratio_bins[:-1], low2, high2, alpha=0.5)\n",
    "plt.xlabel('merger ratio')\n",
    "plt.ylabel('residual concentration')\n",
    "plt.title(f'scale bin: {scale_bins[scale_idx]:.3f} - {scale_bins[scale_idx+1]:.3f}')\n",
    "plt.legend()\n",
    "\n",
    "\n",
    "# plt.plot(x31[:,0], res1, 'o', alpha=0.5, label='standard multicam')\n"
   ]
  },
  {
   "cell_type": "code",
   "execution_count": null,
   "metadata": {},
   "outputs": [],
   "source": []
  }
 ],
 "metadata": {
  "kernelspec": {
   "display_name": "nbody-relaxed-P7T5KfjX-py3.9",
   "language": "python",
   "name": "python3"
  },
  "language_info": {
   "codemirror_mode": {
    "name": "ipython",
    "version": 3
   },
   "file_extension": ".py",
   "mimetype": "text/x-python",
   "name": "python",
   "nbconvert_exporter": "python",
   "pygments_lexer": "ipython3",
   "version": "3.9.16"
  },
  "orig_nbformat": 4
 },
 "nbformat": 4,
 "nbformat_minor": 2
}
