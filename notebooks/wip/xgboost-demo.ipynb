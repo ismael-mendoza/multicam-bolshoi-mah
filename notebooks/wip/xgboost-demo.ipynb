{
 "cells": [
  {
   "cell_type": "code",
   "execution_count": 28,
   "metadata": {},
   "outputs": [
    {
     "name": "stdout",
     "output_type": "stream",
     "text": [
      "The autoreload extension is already loaded. To reload it, use:\n",
      "  %reload_ext autoreload\n",
      "Modules to reload:\n",
      "all-except-skipped\n",
      "\n",
      "Modules to skip:\n",
      "\n"
     ]
    }
   ],
   "source": [
    "%load_ext autoreload\n",
    "%autoreload 2\n",
    "%aimport"
   ]
  },
  {
   "cell_type": "code",
   "execution_count": 29,
   "metadata": {},
   "outputs": [],
   "source": [
    "%matplotlib inline"
   ]
  },
  {
   "cell_type": "code",
   "execution_count": 30,
   "metadata": {},
   "outputs": [],
   "source": [
    "import xgboost\n",
    "from xgboost import XGBRegressor"
   ]
  },
  {
   "cell_type": "code",
   "execution_count": 31,
   "metadata": {},
   "outputs": [],
   "source": [
    "import numpy as np\n",
    "import matplotlib.pyplot as plt \n",
    "import warnings\n",
    "from tqdm import tqdm"
   ]
  },
  {
   "cell_type": "code",
   "execution_count": 32,
   "metadata": {},
   "outputs": [],
   "source": [
    "from multicam.mah import get_mah"
   ]
  },
  {
   "cell_type": "markdown",
   "metadata": {},
   "source": [
    "# Load data"
   ]
  },
  {
   "cell_type": "code",
   "execution_count": 33,
   "metadata": {},
   "outputs": [],
   "source": [
    "mah_data = get_mah('../../data/processed/bolshoi_m12/', cutoff_missing=0.05, cutoff_particle=0.05)"
   ]
  },
  {
   "cell_type": "code",
   "execution_count": 34,
   "metadata": {},
   "outputs": [
    {
     "name": "stdout",
     "output_type": "stream",
     "text": [
      "(10000,) (10000,) (10000, 100) (10000, 165) (165,) (100,)\n"
     ]
    }
   ],
   "source": [
    "# catalog\n",
    "cat = mah_data['cat']\n",
    "xoff = cat['x0']\n",
    "cvir = cat['cvir']\n",
    "ma = mah_data['ma']\n",
    "am = mah_data['am']\n",
    "# ma_peak = mah_data['ma_peak']\n",
    "\n",
    "indices = mah_data['indices']\n",
    "scales = mah_data['scales']\n",
    "mass_bins = mah_data['mass_bins']\n",
    "print(cvir.shape, xoff.shape, am.shape, ma.shape, scales.shape, mass_bins.shape)"
   ]
  },
  {
   "cell_type": "markdown",
   "metadata": {},
   "source": [
    "## Load merger data"
   ]
  },
  {
   "cell_type": "code",
   "execution_count": 35,
   "metadata": {},
   "outputs": [
    {
     "data": {
      "text/plain": [
       "array([0.18635   , 0.22919211, 0.27203421, 0.31487632, 0.35771842,\n",
       "       0.40056053, 0.44340263, 0.48624474, 0.52908684, 0.57192895,\n",
       "       0.61477105, 0.65761316, 0.70045526, 0.74329737, 0.78613947,\n",
       "       0.82898158, 0.87182368, 0.91466579, 0.95750789, 1.00035   ])"
      ]
     },
     "execution_count": 35,
     "metadata": {},
     "output_type": "execute_result"
    }
   ],
   "source": [
    "# scale factor coarser bins \n",
    "min_scale, max_scale = np.min(scales), np.max(scales)\n",
    "scale_bins = np.linspace(min_scale, max_scale, 20)\n",
    "scale_bins"
   ]
  },
  {
   "cell_type": "code",
   "execution_count": 36,
   "metadata": {},
   "outputs": [],
   "source": [
    "# for each simulation scale, get MM \n",
    "# first we need merger ratio at every scale \n",
    "merger_ratio_inst  = np.zeros((len(cat), len(scales)))\n",
    "merger_ratio_present = np.zeros((len(cat), len(scales)))\n",
    "for i in range(len(cat)):\n",
    "    for j, idx in enumerate(indices): \n",
    "        m2_name = f'm2_a{idx}' # TODO: Check what this corresponds to\n",
    "        cpg_name = f'coprog_mvir_a{idx-1}' # want coprogenitor mass at previous timestep.\n",
    "        mvir_name = f'mvir_a{idx}'\n",
    "        \n",
    "        # get inst ratios\n",
    "        m2_ratio = cat[m2_name][i].item() / cat[mvir_name][i].item()\n",
    "        merger_ratio_inst[i, j] = m2_ratio\n",
    "        \n",
    "        # present ratios\n",
    "        m2_ratio = cat[m2_name][i] / cat['mvir'][i].item()\n",
    "        merger_ratio_present[i, j] = m2_ratio\n",
    "    "
   ]
  },
  {
   "cell_type": "code",
   "execution_count": 37,
   "metadata": {},
   "outputs": [],
   "source": [
    "# construct indicator for each halo whether they have a MM in a given scale bine \n",
    "Mu = [0.3/1.3, 0.1 / 1.1 , 0.03 / (1 + 0.03), 0.01 / 1.01]\n",
    "inst_mask = np.zeros((len(Mu), len(cat), len(scale_bins)-1))\n",
    "present_mask = np.zeros((len(Mu), len(cat), len(scale_bins)-1))\n",
    "\n",
    "# ignore all nanmax warning, these will return np.nan's which is expected. \n",
    "warnings.simplefilter(\"ignore\", category=RuntimeWarning)\n",
    "\n",
    "for kk, mu in enumerate(Mu):\n",
    "    for jj in range(len(scale_bins) - 1):\n",
    "        # get largest merger ratio in this scale bin\n",
    "        mask = (scales >= scale_bins[jj]) & (scales < scale_bins[jj+1])\n",
    "        inst_mask[kk, :, jj] = np.nanmax(merger_ratio_inst[:, mask], axis=1) > mu\n",
    "        present_mask[kk, :, jj] = np.nanmax(merger_ratio_present[:, mask], axis=1) > mu"
   ]
  },
  {
   "cell_type": "code",
   "execution_count": 38,
   "metadata": {},
   "outputs": [],
   "source": [
    "x1 = ma\n",
    "\n",
    "mask2 = np.isnan(merger_ratio_inst)\n",
    "x2 = np.where(mask2, 0, merger_ratio_inst)\n",
    "\n",
    "# use scale_bins instead of scales, take max over mergers in each bin.\n",
    "x3 = np.zeros((x2.shape[0], scale_bins.shape[0]))\n",
    "for ii, scale in enumerate(scales):\n",
    "    jj = np.where(scale >= scale_bins)[0][-1]\n",
    "    arr = np.vstack([x3[:, jj], x2[:, ii]])\n",
    "    assert arr.shape == (2, 10000)\n",
    "    x3[:, jj] = np.max(arr, axis=0)"
   ]
  },
  {
   "cell_type": "markdown",
   "metadata": {},
   "source": [
    "# Train xgboost to predict concentration"
   ]
  },
  {
   "cell_type": "code",
   "execution_count": 39,
   "metadata": {},
   "outputs": [],
   "source": [
    "# subsample ma to reduce features every 10 \n",
    "x = ma[:, ::10]\n",
    "y = cvir[:, None]"
   ]
  },
  {
   "cell_type": "code",
   "execution_count": 40,
   "metadata": {},
   "outputs": [
    {
     "data": {
      "text/plain": [
       "((5000, 17), (5000, 1), (2500, 17), (2500, 1), (2500, 17), (2500, 1))"
      ]
     },
     "execution_count": 40,
     "metadata": {},
     "output_type": "execute_result"
    }
   ],
   "source": [
    "# test train split\n",
    "from sklearn.model_selection import train_test_split\n",
    "x_train, x_test, y_train, y_test = train_test_split(x, y, test_size=0.5, random_state=42)\n",
    "x_val, x_test, y_val, y_test = train_test_split(x_test, y_test, test_size=0.5, random_state=42)\n",
    "x_train.shape, y_train.shape, x_val.shape, y_val.shape, x_test.shape, y_test.shape"
   ]
  },
  {
   "cell_type": "code",
   "execution_count": 41,
   "metadata": {},
   "outputs": [],
   "source": [
    "model = XGBRegressor(n_estimators=1000, max_depth=7, eta=0.1, subsample=0.7, colsample_bytree=0.8)"
   ]
  },
  {
   "cell_type": "code",
   "execution_count": 42,
   "metadata": {},
   "outputs": [
    {
     "name": "stdout",
     "output_type": "stream",
     "text": [
      "[0]\tvalidation_0-rmse:8.38488\n",
      "[1]\tvalidation_0-rmse:7.61696\n",
      "[2]\tvalidation_0-rmse:6.92536\n",
      "[3]\tvalidation_0-rmse:6.30623\n",
      "[4]\tvalidation_0-rmse:5.75102\n",
      "[5]\tvalidation_0-rmse:5.26180\n",
      "[6]\tvalidation_0-rmse:4.82520\n",
      "[7]\tvalidation_0-rmse:4.43851\n",
      "[8]\tvalidation_0-rmse:4.09119\n",
      "[9]\tvalidation_0-rmse:3.78376\n",
      "[10]\tvalidation_0-rmse:3.51988\n",
      "[11]\tvalidation_0-rmse:3.29116\n",
      "[12]\tvalidation_0-rmse:3.08568\n",
      "[13]\tvalidation_0-rmse:2.90559\n",
      "[14]\tvalidation_0-rmse:2.74985\n",
      "[15]\tvalidation_0-rmse:2.61210\n",
      "[16]\tvalidation_0-rmse:2.49985\n",
      "[17]\tvalidation_0-rmse:2.39805\n"
     ]
    },
    {
     "name": "stderr",
     "output_type": "stream",
     "text": [
      "/Users/imendoza/Library/Caches/pypoetry/virtualenvs/nbody-relaxed-P7T5KfjX-py3.9/lib/python3.9/site-packages/xgboost/sklearn.py:835: UserWarning: `eval_metric` in `fit` method is deprecated for better compatibility with scikit-learn, use `eval_metric` in constructor or`set_params` instead.\n",
      "  warnings.warn(\n",
      "/Users/imendoza/Library/Caches/pypoetry/virtualenvs/nbody-relaxed-P7T5KfjX-py3.9/lib/python3.9/site-packages/xgboost/sklearn.py:835: UserWarning: `early_stopping_rounds` in `fit` method is deprecated for better compatibility with scikit-learn, use `early_stopping_rounds` in constructor or`set_params` instead.\n",
      "  warnings.warn(\n"
     ]
    },
    {
     "name": "stdout",
     "output_type": "stream",
     "text": [
      "[18]\tvalidation_0-rmse:2.31608\n",
      "[19]\tvalidation_0-rmse:2.23861\n",
      "[20]\tvalidation_0-rmse:2.17832\n",
      "[21]\tvalidation_0-rmse:2.13220\n",
      "[22]\tvalidation_0-rmse:2.08406\n",
      "[23]\tvalidation_0-rmse:2.04818\n",
      "[24]\tvalidation_0-rmse:2.01818\n",
      "[25]\tvalidation_0-rmse:1.99353\n",
      "[26]\tvalidation_0-rmse:1.96951\n",
      "[27]\tvalidation_0-rmse:1.95051\n",
      "[28]\tvalidation_0-rmse:1.93553\n",
      "[29]\tvalidation_0-rmse:1.92227\n",
      "[30]\tvalidation_0-rmse:1.91117\n",
      "[31]\tvalidation_0-rmse:1.89888\n",
      "[32]\tvalidation_0-rmse:1.88973\n",
      "[33]\tvalidation_0-rmse:1.88062\n",
      "[34]\tvalidation_0-rmse:1.87652\n",
      "[35]\tvalidation_0-rmse:1.86706\n",
      "[36]\tvalidation_0-rmse:1.86260\n",
      "[37]\tvalidation_0-rmse:1.85981\n",
      "[38]\tvalidation_0-rmse:1.85798\n",
      "[39]\tvalidation_0-rmse:1.85553\n",
      "[40]\tvalidation_0-rmse:1.85403\n",
      "[41]\tvalidation_0-rmse:1.85128\n",
      "[42]\tvalidation_0-rmse:1.84995\n",
      "[43]\tvalidation_0-rmse:1.84911\n",
      "[44]\tvalidation_0-rmse:1.84775\n",
      "[45]\tvalidation_0-rmse:1.84625\n",
      "[46]\tvalidation_0-rmse:1.84485\n",
      "[47]\tvalidation_0-rmse:1.84324\n",
      "[48]\tvalidation_0-rmse:1.84296\n",
      "[49]\tvalidation_0-rmse:1.84298\n",
      "[50]\tvalidation_0-rmse:1.83942\n",
      "[51]\tvalidation_0-rmse:1.83846\n",
      "[52]\tvalidation_0-rmse:1.83692\n",
      "[53]\tvalidation_0-rmse:1.83687\n",
      "[54]\tvalidation_0-rmse:1.83575\n",
      "[55]\tvalidation_0-rmse:1.83558\n",
      "[56]\tvalidation_0-rmse:1.83345\n",
      "[57]\tvalidation_0-rmse:1.83151\n",
      "[58]\tvalidation_0-rmse:1.83156\n",
      "[59]\tvalidation_0-rmse:1.83137\n",
      "[60]\tvalidation_0-rmse:1.83169\n",
      "[61]\tvalidation_0-rmse:1.83072\n",
      "[62]\tvalidation_0-rmse:1.82957\n",
      "[63]\tvalidation_0-rmse:1.82905\n",
      "[64]\tvalidation_0-rmse:1.82990\n",
      "[65]\tvalidation_0-rmse:1.82990\n",
      "[66]\tvalidation_0-rmse:1.82905\n",
      "[67]\tvalidation_0-rmse:1.82837\n",
      "[68]\tvalidation_0-rmse:1.82755\n",
      "[69]\tvalidation_0-rmse:1.82796\n",
      "[70]\tvalidation_0-rmse:1.82784\n",
      "[71]\tvalidation_0-rmse:1.82661\n",
      "[72]\tvalidation_0-rmse:1.82671\n",
      "[73]\tvalidation_0-rmse:1.82658\n",
      "[74]\tvalidation_0-rmse:1.82509\n",
      "[75]\tvalidation_0-rmse:1.82355\n",
      "[76]\tvalidation_0-rmse:1.82359\n",
      "[77]\tvalidation_0-rmse:1.82341\n",
      "[78]\tvalidation_0-rmse:1.82369\n",
      "[79]\tvalidation_0-rmse:1.82283\n",
      "[80]\tvalidation_0-rmse:1.82229\n",
      "[81]\tvalidation_0-rmse:1.82151\n",
      "[82]\tvalidation_0-rmse:1.82078\n",
      "[83]\tvalidation_0-rmse:1.82116\n",
      "[84]\tvalidation_0-rmse:1.82080\n",
      "[85]\tvalidation_0-rmse:1.82035\n",
      "[86]\tvalidation_0-rmse:1.82103\n",
      "[87]\tvalidation_0-rmse:1.82123\n",
      "[88]\tvalidation_0-rmse:1.82053\n",
      "[89]\tvalidation_0-rmse:1.82169\n",
      "[90]\tvalidation_0-rmse:1.82170\n",
      "[91]\tvalidation_0-rmse:1.82280\n",
      "[92]\tvalidation_0-rmse:1.82289\n",
      "[93]\tvalidation_0-rmse:1.82326\n",
      "[94]\tvalidation_0-rmse:1.82228\n",
      "[95]\tvalidation_0-rmse:1.82116\n",
      "[96]\tvalidation_0-rmse:1.82177\n",
      "[97]\tvalidation_0-rmse:1.82114\n",
      "[98]\tvalidation_0-rmse:1.82048\n",
      "[99]\tvalidation_0-rmse:1.82034\n",
      "[100]\tvalidation_0-rmse:1.82048\n",
      "[101]\tvalidation_0-rmse:1.82043\n",
      "[102]\tvalidation_0-rmse:1.82066\n",
      "[103]\tvalidation_0-rmse:1.82227\n",
      "[104]\tvalidation_0-rmse:1.82163\n",
      "[105]\tvalidation_0-rmse:1.82177\n",
      "[106]\tvalidation_0-rmse:1.82161\n",
      "[107]\tvalidation_0-rmse:1.82207\n",
      "[108]\tvalidation_0-rmse:1.82256\n",
      "[109]\tvalidation_0-rmse:1.82264\n",
      "[110]\tvalidation_0-rmse:1.82257\n",
      "[111]\tvalidation_0-rmse:1.82323\n",
      "[112]\tvalidation_0-rmse:1.82226\n",
      "[113]\tvalidation_0-rmse:1.82186\n",
      "[114]\tvalidation_0-rmse:1.82152\n",
      "[115]\tvalidation_0-rmse:1.82119\n",
      "[116]\tvalidation_0-rmse:1.82123\n",
      "[117]\tvalidation_0-rmse:1.82119\n",
      "[118]\tvalidation_0-rmse:1.82065\n",
      "[119]\tvalidation_0-rmse:1.82054\n",
      "[120]\tvalidation_0-rmse:1.82002\n",
      "[121]\tvalidation_0-rmse:1.82008\n",
      "[122]\tvalidation_0-rmse:1.81916\n",
      "[123]\tvalidation_0-rmse:1.81950\n",
      "[124]\tvalidation_0-rmse:1.81949\n",
      "[125]\tvalidation_0-rmse:1.81899\n",
      "[126]\tvalidation_0-rmse:1.81906\n",
      "[127]\tvalidation_0-rmse:1.81896\n",
      "[128]\tvalidation_0-rmse:1.81932\n",
      "[129]\tvalidation_0-rmse:1.81976\n",
      "[130]\tvalidation_0-rmse:1.81941\n",
      "[131]\tvalidation_0-rmse:1.82010\n",
      "[132]\tvalidation_0-rmse:1.82001\n",
      "[133]\tvalidation_0-rmse:1.81984\n",
      "[134]\tvalidation_0-rmse:1.81980\n",
      "[135]\tvalidation_0-rmse:1.81944\n",
      "[136]\tvalidation_0-rmse:1.81978\n",
      "[137]\tvalidation_0-rmse:1.82013\n",
      "[138]\tvalidation_0-rmse:1.82058\n",
      "[139]\tvalidation_0-rmse:1.81930\n",
      "[140]\tvalidation_0-rmse:1.81905\n",
      "[141]\tvalidation_0-rmse:1.81899\n",
      "[142]\tvalidation_0-rmse:1.81892\n",
      "[143]\tvalidation_0-rmse:1.81929\n",
      "[144]\tvalidation_0-rmse:1.82007\n",
      "[145]\tvalidation_0-rmse:1.82009\n",
      "[146]\tvalidation_0-rmse:1.81986\n",
      "[147]\tvalidation_0-rmse:1.82124\n",
      "[148]\tvalidation_0-rmse:1.82160\n",
      "[149]\tvalidation_0-rmse:1.82136\n",
      "[150]\tvalidation_0-rmse:1.82142\n",
      "[151]\tvalidation_0-rmse:1.82188\n",
      "[152]\tvalidation_0-rmse:1.82269\n",
      "[153]\tvalidation_0-rmse:1.82251\n",
      "[154]\tvalidation_0-rmse:1.82239\n",
      "[155]\tvalidation_0-rmse:1.82136\n",
      "[156]\tvalidation_0-rmse:1.82135\n",
      "[157]\tvalidation_0-rmse:1.82056\n",
      "[158]\tvalidation_0-rmse:1.82176\n",
      "[159]\tvalidation_0-rmse:1.82061\n",
      "[160]\tvalidation_0-rmse:1.82097\n",
      "[161]\tvalidation_0-rmse:1.82043\n",
      "[162]\tvalidation_0-rmse:1.82049\n",
      "[163]\tvalidation_0-rmse:1.82152\n",
      "[164]\tvalidation_0-rmse:1.82193\n",
      "[165]\tvalidation_0-rmse:1.82208\n",
      "[166]\tvalidation_0-rmse:1.82191\n",
      "[167]\tvalidation_0-rmse:1.82236\n",
      "[168]\tvalidation_0-rmse:1.82246\n",
      "[169]\tvalidation_0-rmse:1.82278\n",
      "[170]\tvalidation_0-rmse:1.82250\n",
      "[171]\tvalidation_0-rmse:1.82282\n",
      "[172]\tvalidation_0-rmse:1.82297\n",
      "[173]\tvalidation_0-rmse:1.82314\n",
      "[174]\tvalidation_0-rmse:1.82362\n",
      "[175]\tvalidation_0-rmse:1.82388\n",
      "[176]\tvalidation_0-rmse:1.82410\n",
      "[177]\tvalidation_0-rmse:1.82412\n",
      "[178]\tvalidation_0-rmse:1.82444\n",
      "[179]\tvalidation_0-rmse:1.82475\n",
      "[180]\tvalidation_0-rmse:1.82422\n",
      "[181]\tvalidation_0-rmse:1.82442\n",
      "[182]\tvalidation_0-rmse:1.82450\n",
      "[183]\tvalidation_0-rmse:1.82387\n",
      "[184]\tvalidation_0-rmse:1.82356\n",
      "[185]\tvalidation_0-rmse:1.82357\n",
      "[186]\tvalidation_0-rmse:1.82371\n",
      "[187]\tvalidation_0-rmse:1.82376\n",
      "[188]\tvalidation_0-rmse:1.82403\n",
      "[189]\tvalidation_0-rmse:1.82424\n",
      "[190]\tvalidation_0-rmse:1.82367\n",
      "[191]\tvalidation_0-rmse:1.82387\n",
      "[192]\tvalidation_0-rmse:1.82410\n"
     ]
    },
    {
     "data": {
      "text/html": [
       "<style>#sk-container-id-3 {color: black;}#sk-container-id-3 pre{padding: 0;}#sk-container-id-3 div.sk-toggleable {background-color: white;}#sk-container-id-3 label.sk-toggleable__label {cursor: pointer;display: block;width: 100%;margin-bottom: 0;padding: 0.3em;box-sizing: border-box;text-align: center;}#sk-container-id-3 label.sk-toggleable__label-arrow:before {content: \"▸\";float: left;margin-right: 0.25em;color: #696969;}#sk-container-id-3 label.sk-toggleable__label-arrow:hover:before {color: black;}#sk-container-id-3 div.sk-estimator:hover label.sk-toggleable__label-arrow:before {color: black;}#sk-container-id-3 div.sk-toggleable__content {max-height: 0;max-width: 0;overflow: hidden;text-align: left;background-color: #f0f8ff;}#sk-container-id-3 div.sk-toggleable__content pre {margin: 0.2em;color: black;border-radius: 0.25em;background-color: #f0f8ff;}#sk-container-id-3 input.sk-toggleable__control:checked~div.sk-toggleable__content {max-height: 200px;max-width: 100%;overflow: auto;}#sk-container-id-3 input.sk-toggleable__control:checked~label.sk-toggleable__label-arrow:before {content: \"▾\";}#sk-container-id-3 div.sk-estimator input.sk-toggleable__control:checked~label.sk-toggleable__label {background-color: #d4ebff;}#sk-container-id-3 div.sk-label input.sk-toggleable__control:checked~label.sk-toggleable__label {background-color: #d4ebff;}#sk-container-id-3 input.sk-hidden--visually {border: 0;clip: rect(1px 1px 1px 1px);clip: rect(1px, 1px, 1px, 1px);height: 1px;margin: -1px;overflow: hidden;padding: 0;position: absolute;width: 1px;}#sk-container-id-3 div.sk-estimator {font-family: monospace;background-color: #f0f8ff;border: 1px dotted black;border-radius: 0.25em;box-sizing: border-box;margin-bottom: 0.5em;}#sk-container-id-3 div.sk-estimator:hover {background-color: #d4ebff;}#sk-container-id-3 div.sk-parallel-item::after {content: \"\";width: 100%;border-bottom: 1px solid gray;flex-grow: 1;}#sk-container-id-3 div.sk-label:hover label.sk-toggleable__label {background-color: #d4ebff;}#sk-container-id-3 div.sk-serial::before {content: \"\";position: absolute;border-left: 1px solid gray;box-sizing: border-box;top: 0;bottom: 0;left: 50%;z-index: 0;}#sk-container-id-3 div.sk-serial {display: flex;flex-direction: column;align-items: center;background-color: white;padding-right: 0.2em;padding-left: 0.2em;position: relative;}#sk-container-id-3 div.sk-item {position: relative;z-index: 1;}#sk-container-id-3 div.sk-parallel {display: flex;align-items: stretch;justify-content: center;background-color: white;position: relative;}#sk-container-id-3 div.sk-item::before, #sk-container-id-3 div.sk-parallel-item::before {content: \"\";position: absolute;border-left: 1px solid gray;box-sizing: border-box;top: 0;bottom: 0;left: 50%;z-index: -1;}#sk-container-id-3 div.sk-parallel-item {display: flex;flex-direction: column;z-index: 1;position: relative;background-color: white;}#sk-container-id-3 div.sk-parallel-item:first-child::after {align-self: flex-end;width: 50%;}#sk-container-id-3 div.sk-parallel-item:last-child::after {align-self: flex-start;width: 50%;}#sk-container-id-3 div.sk-parallel-item:only-child::after {width: 0;}#sk-container-id-3 div.sk-dashed-wrapped {border: 1px dashed gray;margin: 0 0.4em 0.5em 0.4em;box-sizing: border-box;padding-bottom: 0.4em;background-color: white;}#sk-container-id-3 div.sk-label label {font-family: monospace;font-weight: bold;display: inline-block;line-height: 1.2em;}#sk-container-id-3 div.sk-label-container {text-align: center;}#sk-container-id-3 div.sk-container {/* jupyter's `normalize.less` sets `[hidden] { display: none; }` but bootstrap.min.css set `[hidden] { display: none !important; }` so we also need the `!important` here to be able to override the default hidden behavior on the sphinx rendered scikit-learn.org. See: https://github.com/scikit-learn/scikit-learn/issues/21755 */display: inline-block !important;position: relative;}#sk-container-id-3 div.sk-text-repr-fallback {display: none;}</style><div id=\"sk-container-id-3\" class=\"sk-top-container\"><div class=\"sk-text-repr-fallback\"><pre>XGBRegressor(base_score=None, booster=None, callbacks=None,\n",
       "             colsample_bylevel=None, colsample_bynode=None,\n",
       "             colsample_bytree=0.8, early_stopping_rounds=None,\n",
       "             enable_categorical=False, eta=0.1, eval_metric=None,\n",
       "             feature_types=None, gamma=None, gpu_id=None, grow_policy=None,\n",
       "             importance_type=None, interaction_constraints=None,\n",
       "             learning_rate=None, max_bin=None, max_cat_threshold=None,\n",
       "             max_cat_to_onehot=None, max_delta_step=None, max_depth=7,\n",
       "             max_leaves=None, min_child_weight=None, missing=nan,\n",
       "             monotone_constraints=None, n_estimators=2000, n_jobs=None,\n",
       "             num_parallel_tree=None, predictor=None, ...)</pre><b>In a Jupyter environment, please rerun this cell to show the HTML representation or trust the notebook. <br />On GitHub, the HTML representation is unable to render, please try loading this page with nbviewer.org.</b></div><div class=\"sk-container\" hidden><div class=\"sk-item\"><div class=\"sk-estimator sk-toggleable\"><input class=\"sk-toggleable__control sk-hidden--visually\" id=\"sk-estimator-id-3\" type=\"checkbox\" checked><label for=\"sk-estimator-id-3\" class=\"sk-toggleable__label sk-toggleable__label-arrow\">XGBRegressor</label><div class=\"sk-toggleable__content\"><pre>XGBRegressor(base_score=None, booster=None, callbacks=None,\n",
       "             colsample_bylevel=None, colsample_bynode=None,\n",
       "             colsample_bytree=0.8, early_stopping_rounds=None,\n",
       "             enable_categorical=False, eta=0.1, eval_metric=None,\n",
       "             feature_types=None, gamma=None, gpu_id=None, grow_policy=None,\n",
       "             importance_type=None, interaction_constraints=None,\n",
       "             learning_rate=None, max_bin=None, max_cat_threshold=None,\n",
       "             max_cat_to_onehot=None, max_delta_step=None, max_depth=7,\n",
       "             max_leaves=None, min_child_weight=None, missing=nan,\n",
       "             monotone_constraints=None, n_estimators=2000, n_jobs=None,\n",
       "             num_parallel_tree=None, predictor=None, ...)</pre></div></div></div></div></div>"
      ],
      "text/plain": [
       "XGBRegressor(base_score=None, booster=None, callbacks=None,\n",
       "             colsample_bylevel=None, colsample_bynode=None,\n",
       "             colsample_bytree=0.8, early_stopping_rounds=None,\n",
       "             enable_categorical=False, eta=0.1, eval_metric=None,\n",
       "             feature_types=None, gamma=None, gpu_id=None, grow_policy=None,\n",
       "             importance_type=None, interaction_constraints=None,\n",
       "             learning_rate=None, max_bin=None, max_cat_threshold=None,\n",
       "             max_cat_to_onehot=None, max_delta_step=None, max_depth=7,\n",
       "             max_leaves=None, min_child_weight=None, missing=nan,\n",
       "             monotone_constraints=None, n_estimators=2000, n_jobs=None,\n",
       "             num_parallel_tree=None, predictor=None, ...)"
      ]
     },
     "execution_count": 42,
     "metadata": {},
     "output_type": "execute_result"
    }
   ],
   "source": [
    "model.fit(x_train, y_train, eval_metric='rmse', verbose=True, eval_set=[(x_val, y_val)], early_stopping_rounds=50)"
   ]
  },
  {
   "cell_type": "code",
   "execution_count": 43,
   "metadata": {},
   "outputs": [],
   "source": [
    "y_pred = model.predict(x_test)"
   ]
  },
  {
   "cell_type": "code",
   "execution_count": 44,
   "metadata": {},
   "outputs": [
    {
     "data": {
      "image/png": "[encoded data removed]",
      "text/plain": [
       "<Figure size 640x480 with 1 Axes>"
      ]
     },
     "metadata": {},
     "output_type": "display_data"
    }
   ],
   "source": [
    "# evaluate by looking at histograms of residuals\n",
    "res = (y_pred - y_test[:, 0])/y_test[:, 0]\n",
    "plt.hist(res, bins=50, range=(-2, 2), histtype='step', density=True, label='residuals');"
   ]
  },
  {
   "cell_type": "code",
   "execution_count": 45,
   "metadata": {},
   "outputs": [
    {
     "data": {
      "text/plain": [
       "0.836060369033659"
      ]
     },
     "execution_count": 45,
     "metadata": {},
     "output_type": "execute_result"
    }
   ],
   "source": [
    "from multicam.correlations import spearmanr\n",
    "spearmanr(y_test[:, 0], y_pred)"
   ]
  },
  {
   "cell_type": "code",
   "execution_count": 46,
   "metadata": {},
   "outputs": [
    {
     "data": {
      "text/plain": [
       "<matplotlib.legend.Legend at 0x16a0328e0>"
      ]
     },
     "execution_count": 46,
     "metadata": {},
     "output_type": "execute_result"
    },
    {
     "data": {
      "image/png": "[encoded data removed]",
      "text/plain": [
       "<Figure size 640x480 with 1 Axes>"
      ]
     },
     "metadata": {},
     "output_type": "display_data"
    }
   ],
   "source": [
    "_, bins, _ = plt.hist(y_pred, histtype='step', bins=50, label='pred')\n",
    "plt.hist(y_test[:, 0], bins=bins, histtype='step', label='true')\n",
    "plt.legend()"
   ]
  },
  {
   "cell_type": "markdown",
   "metadata": {},
   "source": [
    "# Predicting concentration with coarse merger information"
   ]
  },
  {
   "cell_type": "code",
   "execution_count": 75,
   "metadata": {},
   "outputs": [],
   "source": [
    "# subsample ma to reduce features every 10 \n",
    "x1 = ma[:, ::10]\n",
    "x = np.concatenate([x1, x3], axis=1)\n",
    "y = cvir[:, None]"
   ]
  },
  {
   "cell_type": "code",
   "execution_count": 76,
   "metadata": {},
   "outputs": [],
   "source": [
    "# same initiliazation \n",
    "model_m = XGBRegressor(n_estimators=1000, max_depth=7, eta=0.1, subsample=0.7, colsample_bytree=0.8)"
   ]
  },
  {
   "cell_type": "code",
   "execution_count": 77,
   "metadata": {},
   "outputs": [
    {
     "data": {
      "text/plain": [
       "((5000, 37), (5000, 1), (2500, 37), (2500, 1), (2500, 37), (2500, 1))"
      ]
     },
     "execution_count": 77,
     "metadata": {},
     "output_type": "execute_result"
    }
   ],
   "source": [
    "# test train split\n",
    "from sklearn.model_selection import train_test_split\n",
    "x_train, x_test, y_train, y_test = train_test_split(x, y, test_size=0.5, random_state=42)\n",
    "x_val, x_test, y_val, y_test = train_test_split(x_test, y_test, test_size=0.5, random_state=42)\n",
    "x_train.shape, y_train.shape, x_val.shape, y_val.shape, x_test.shape, y_test.shape"
   ]
  },
  {
   "cell_type": "code",
   "execution_count": 78,
   "metadata": {},
   "outputs": [
    {
     "name": "stdout",
     "output_type": "stream",
     "text": [
      "[0]\tvalidation_0-rmse:8.38632\n",
      "[1]\tvalidation_0-rmse:7.60876\n",
      "[2]\tvalidation_0-rmse:6.91736\n",
      "[3]\tvalidation_0-rmse:6.30063\n",
      "[4]\tvalidation_0-rmse:5.74332\n",
      "[5]\tvalidation_0-rmse:5.24464\n",
      "[6]\tvalidation_0-rmse:4.80690\n",
      "[7]\tvalidation_0-rmse:4.42410\n"
     ]
    },
    {
     "name": "stderr",
     "output_type": "stream",
     "text": [
      "/Users/imendoza/Library/Caches/pypoetry/virtualenvs/nbody-relaxed-P7T5KfjX-py3.9/lib/python3.9/site-packages/xgboost/sklearn.py:835: UserWarning: `eval_metric` in `fit` method is deprecated for better compatibility with scikit-learn, use `eval_metric` in constructor or`set_params` instead.\n",
      "  warnings.warn(\n",
      "/Users/imendoza/Library/Caches/pypoetry/virtualenvs/nbody-relaxed-P7T5KfjX-py3.9/lib/python3.9/site-packages/xgboost/sklearn.py:835: UserWarning: `early_stopping_rounds` in `fit` method is deprecated for better compatibility with scikit-learn, use `early_stopping_rounds` in constructor or`set_params` instead.\n",
      "  warnings.warn(\n"
     ]
    },
    {
     "name": "stdout",
     "output_type": "stream",
     "text": [
      "[8]\tvalidation_0-rmse:4.08244\n",
      "[9]\tvalidation_0-rmse:3.76744\n",
      "[10]\tvalidation_0-rmse:3.49500\n",
      "[11]\tvalidation_0-rmse:3.26651\n",
      "[12]\tvalidation_0-rmse:3.06025\n",
      "[13]\tvalidation_0-rmse:2.88046\n",
      "[14]\tvalidation_0-rmse:2.72687\n",
      "[15]\tvalidation_0-rmse:2.59401\n",
      "[16]\tvalidation_0-rmse:2.48184\n",
      "[17]\tvalidation_0-rmse:2.38201\n",
      "[18]\tvalidation_0-rmse:2.29222\n",
      "[19]\tvalidation_0-rmse:2.21739\n",
      "[20]\tvalidation_0-rmse:2.15373\n",
      "[21]\tvalidation_0-rmse:2.09909\n",
      "[22]\tvalidation_0-rmse:2.05408\n",
      "[23]\tvalidation_0-rmse:2.01541\n",
      "[24]\tvalidation_0-rmse:1.98375\n",
      "[25]\tvalidation_0-rmse:1.95681\n",
      "[26]\tvalidation_0-rmse:1.92969\n",
      "[27]\tvalidation_0-rmse:1.91243\n",
      "[28]\tvalidation_0-rmse:1.89758\n",
      "[29]\tvalidation_0-rmse:1.88410\n",
      "[30]\tvalidation_0-rmse:1.87043\n",
      "[31]\tvalidation_0-rmse:1.86026\n",
      "[32]\tvalidation_0-rmse:1.85190\n",
      "[33]\tvalidation_0-rmse:1.84365\n",
      "[34]\tvalidation_0-rmse:1.84041\n",
      "[35]\tvalidation_0-rmse:1.83268\n",
      "[36]\tvalidation_0-rmse:1.82679\n",
      "[37]\tvalidation_0-rmse:1.82296\n",
      "[38]\tvalidation_0-rmse:1.82172\n",
      "[39]\tvalidation_0-rmse:1.81793\n",
      "[40]\tvalidation_0-rmse:1.81615\n",
      "[41]\tvalidation_0-rmse:1.81331\n",
      "[42]\tvalidation_0-rmse:1.80975\n",
      "[43]\tvalidation_0-rmse:1.80588\n",
      "[44]\tvalidation_0-rmse:1.80368\n",
      "[45]\tvalidation_0-rmse:1.80223\n",
      "[46]\tvalidation_0-rmse:1.79913\n",
      "[47]\tvalidation_0-rmse:1.79906\n",
      "[48]\tvalidation_0-rmse:1.79848\n",
      "[49]\tvalidation_0-rmse:1.79913\n",
      "[50]\tvalidation_0-rmse:1.79648\n",
      "[51]\tvalidation_0-rmse:1.79750\n",
      "[52]\tvalidation_0-rmse:1.79705\n",
      "[53]\tvalidation_0-rmse:1.79519\n",
      "[54]\tvalidation_0-rmse:1.79507\n",
      "[55]\tvalidation_0-rmse:1.79417\n",
      "[56]\tvalidation_0-rmse:1.79322\n",
      "[57]\tvalidation_0-rmse:1.78963\n",
      "[58]\tvalidation_0-rmse:1.78907\n",
      "[59]\tvalidation_0-rmse:1.78845\n",
      "[60]\tvalidation_0-rmse:1.78890\n",
      "[61]\tvalidation_0-rmse:1.78768\n",
      "[62]\tvalidation_0-rmse:1.78655\n",
      "[63]\tvalidation_0-rmse:1.78578\n",
      "[64]\tvalidation_0-rmse:1.78417\n",
      "[65]\tvalidation_0-rmse:1.78238\n",
      "[66]\tvalidation_0-rmse:1.78214\n",
      "[67]\tvalidation_0-rmse:1.78127\n",
      "[68]\tvalidation_0-rmse:1.78028\n",
      "[69]\tvalidation_0-rmse:1.77988\n",
      "[70]\tvalidation_0-rmse:1.77930\n",
      "[71]\tvalidation_0-rmse:1.77976\n",
      "[72]\tvalidation_0-rmse:1.77925\n",
      "[73]\tvalidation_0-rmse:1.77978\n",
      "[74]\tvalidation_0-rmse:1.77926\n",
      "[75]\tvalidation_0-rmse:1.77920\n",
      "[76]\tvalidation_0-rmse:1.77864\n",
      "[77]\tvalidation_0-rmse:1.77920\n",
      "[78]\tvalidation_0-rmse:1.77973\n",
      "[79]\tvalidation_0-rmse:1.77944\n",
      "[80]\tvalidation_0-rmse:1.77954\n",
      "[81]\tvalidation_0-rmse:1.77871\n",
      "[82]\tvalidation_0-rmse:1.77840\n",
      "[83]\tvalidation_0-rmse:1.77872\n",
      "[84]\tvalidation_0-rmse:1.77872\n",
      "[85]\tvalidation_0-rmse:1.77896\n",
      "[86]\tvalidation_0-rmse:1.77954\n",
      "[87]\tvalidation_0-rmse:1.77959\n",
      "[88]\tvalidation_0-rmse:1.77855\n",
      "[89]\tvalidation_0-rmse:1.77845\n",
      "[90]\tvalidation_0-rmse:1.77890\n",
      "[91]\tvalidation_0-rmse:1.77883\n",
      "[92]\tvalidation_0-rmse:1.77815\n",
      "[93]\tvalidation_0-rmse:1.77760\n",
      "[94]\tvalidation_0-rmse:1.77881\n",
      "[95]\tvalidation_0-rmse:1.77845\n",
      "[96]\tvalidation_0-rmse:1.77777\n",
      "[97]\tvalidation_0-rmse:1.77624\n",
      "[98]\tvalidation_0-rmse:1.77603\n",
      "[99]\tvalidation_0-rmse:1.77616\n",
      "[100]\tvalidation_0-rmse:1.77617\n",
      "[101]\tvalidation_0-rmse:1.77620\n",
      "[102]\tvalidation_0-rmse:1.77561\n",
      "[103]\tvalidation_0-rmse:1.77463\n",
      "[104]\tvalidation_0-rmse:1.77383\n",
      "[105]\tvalidation_0-rmse:1.77361\n",
      "[106]\tvalidation_0-rmse:1.77327\n",
      "[107]\tvalidation_0-rmse:1.77241\n",
      "[108]\tvalidation_0-rmse:1.77203\n",
      "[109]\tvalidation_0-rmse:1.77171\n",
      "[110]\tvalidation_0-rmse:1.77163\n",
      "[111]\tvalidation_0-rmse:1.77139\n",
      "[112]\tvalidation_0-rmse:1.77161\n",
      "[113]\tvalidation_0-rmse:1.77057\n",
      "[114]\tvalidation_0-rmse:1.76982\n",
      "[115]\tvalidation_0-rmse:1.77004\n",
      "[116]\tvalidation_0-rmse:1.76825\n",
      "[117]\tvalidation_0-rmse:1.76784\n",
      "[118]\tvalidation_0-rmse:1.76850\n",
      "[119]\tvalidation_0-rmse:1.76927\n",
      "[120]\tvalidation_0-rmse:1.76945\n",
      "[121]\tvalidation_0-rmse:1.76974\n",
      "[122]\tvalidation_0-rmse:1.76980\n",
      "[123]\tvalidation_0-rmse:1.76971\n",
      "[124]\tvalidation_0-rmse:1.76914\n",
      "[125]\tvalidation_0-rmse:1.76909\n",
      "[126]\tvalidation_0-rmse:1.76871\n",
      "[127]\tvalidation_0-rmse:1.76834\n",
      "[128]\tvalidation_0-rmse:1.76868\n",
      "[129]\tvalidation_0-rmse:1.76841\n",
      "[130]\tvalidation_0-rmse:1.76799\n",
      "[131]\tvalidation_0-rmse:1.76862\n",
      "[132]\tvalidation_0-rmse:1.76882\n",
      "[133]\tvalidation_0-rmse:1.76892\n",
      "[134]\tvalidation_0-rmse:1.76871\n",
      "[135]\tvalidation_0-rmse:1.76910\n",
      "[136]\tvalidation_0-rmse:1.76961\n",
      "[137]\tvalidation_0-rmse:1.77004\n",
      "[138]\tvalidation_0-rmse:1.77030\n",
      "[139]\tvalidation_0-rmse:1.77033\n",
      "[140]\tvalidation_0-rmse:1.77007\n",
      "[141]\tvalidation_0-rmse:1.76977\n",
      "[142]\tvalidation_0-rmse:1.76966\n",
      "[143]\tvalidation_0-rmse:1.76948\n",
      "[144]\tvalidation_0-rmse:1.76942\n",
      "[145]\tvalidation_0-rmse:1.76949\n",
      "[146]\tvalidation_0-rmse:1.76919\n",
      "[147]\tvalidation_0-rmse:1.76933\n",
      "[148]\tvalidation_0-rmse:1.76976\n",
      "[149]\tvalidation_0-rmse:1.76965\n",
      "[150]\tvalidation_0-rmse:1.76966\n",
      "[151]\tvalidation_0-rmse:1.76932\n",
      "[152]\tvalidation_0-rmse:1.76928\n",
      "[153]\tvalidation_0-rmse:1.76919\n",
      "[154]\tvalidation_0-rmse:1.76875\n",
      "[155]\tvalidation_0-rmse:1.76879\n",
      "[156]\tvalidation_0-rmse:1.76886\n",
      "[157]\tvalidation_0-rmse:1.76903\n",
      "[158]\tvalidation_0-rmse:1.76931\n",
      "[159]\tvalidation_0-rmse:1.76922\n",
      "[160]\tvalidation_0-rmse:1.76956\n",
      "[161]\tvalidation_0-rmse:1.76977\n",
      "[162]\tvalidation_0-rmse:1.76975\n",
      "[163]\tvalidation_0-rmse:1.76930\n",
      "[164]\tvalidation_0-rmse:1.76948\n",
      "[165]\tvalidation_0-rmse:1.76935\n",
      "[166]\tvalidation_0-rmse:1.76911\n",
      "[167]\tvalidation_0-rmse:1.76943\n"
     ]
    }
   ],
   "source": [
    "model_m = model_m.fit(x_train, y_train, eval_metric='rmse', eval_set=[(x_val, y_val)], verbose=True, early_stopping_rounds=50)"
   ]
  },
  {
   "cell_type": "code",
   "execution_count": 88,
   "metadata": {},
   "outputs": [
    {
     "data": {
      "text/plain": [
       "(117, 1.7678441214903637)"
      ]
     },
     "execution_count": 88,
     "metadata": {},
     "output_type": "execute_result"
    }
   ],
   "source": [
    "model_m.best_iteration, model_m.best_score"
   ]
  },
  {
   "cell_type": "code",
   "execution_count": 84,
   "metadata": {},
   "outputs": [],
   "source": [
    "y_pred = model_m.predict(x_test)"
   ]
  },
  {
   "cell_type": "code",
   "execution_count": 85,
   "metadata": {},
   "outputs": [
    {
     "data": {
      "text/plain": [
       "0.8505610008577602"
      ]
     },
     "execution_count": 85,
     "metadata": {},
     "output_type": "execute_result"
    }
   ],
   "source": [
    "from multicam.correlations import spearmanr\n",
    "spearmanr(y_test[:, 0], y_pred)"
   ]
  },
  {
   "cell_type": "code",
   "execution_count": 86,
   "metadata": {},
   "outputs": [
    {
     "data": {
      "image/png": "[encoded data removed]",
      "text/plain": [
       "<Figure size 640x480 with 1 Axes>"
      ]
     },
     "metadata": {},
     "output_type": "display_data"
    }
   ],
   "source": [
    "# evaluate by looking at histograms of residuals\n",
    "res = (y_pred - y_test[:, 0])/y_test[:, 0]\n",
    "plt.hist(res, bins=50, range=(-2, 2), histtype='step', density=True, label='residuals');"
   ]
  },
  {
   "cell_type": "code",
   "execution_count": 87,
   "metadata": {},
   "outputs": [
    {
     "data": {
      "text/plain": [
       "<matplotlib.legend.Legend at 0x16a4d60d0>"
      ]
     },
     "execution_count": 87,
     "metadata": {},
     "output_type": "execute_result"
    },
    {
     "data": {
      "image/png": "[encoded data removed]",
      "text/plain": [
       "<Figure size 640x480 with 1 Axes>"
      ]
     },
     "metadata": {},
     "output_type": "display_data"
    }
   ],
   "source": [
    "_, bins, _ = plt.hist(y_pred, histtype='step', bins=50, label='pred')\n",
    "plt.hist(y_test[:, 0], bins=bins, histtype='step', label='true')\n",
    "plt.legend()"
   ]
  },
  {
   "cell_type": "code",
   "execution_count": null,
   "metadata": {},
   "outputs": [],
   "source": []
  }
 ],
 "metadata": {
  "kernelspec": {
   "display_name": "nbody-relaxed-P7T5KfjX-py3.9",
   "language": "python",
   "name": "python3"
  },
  "language_info": {
   "codemirror_mode": {
    "name": "ipython",
    "version": 3
   },
   "file_extension": ".py",
   "mimetype": "text/x-python",
   "name": "python",
   "nbconvert_exporter": "python",
   "pygments_lexer": "ipython3",
   "version": "3.9.16"
  },
  "orig_nbformat": 4
 },
 "nbformat": 4,
 "nbformat_minor": 2
}
