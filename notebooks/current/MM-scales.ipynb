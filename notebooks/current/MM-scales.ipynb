{
 "cells": [
  {
   "cell_type": "code",
   "execution_count": 2,
   "id": "a70f150c",
   "metadata": {
    "ExecuteTime": {
     "end_time": "2021-12-12T00:09:30.453987Z",
     "start_time": "2021-12-12T00:09:30.403628Z"
    }
   },
   "outputs": [
    {
     "name": "stdout",
     "output_type": "stream",
     "text": [
      "Modules to reload:\n",
      "all-except-skipped\n",
      "\n",
      "Modules to skip:\n",
      "\n"
     ]
    }
   ],
   "source": [
    "%load_ext autoreload\n",
    "%autoreload 2\n",
    "%aimport"
   ]
  },
  {
   "cell_type": "code",
   "execution_count": 3,
   "id": "e1a06205",
   "metadata": {
    "ExecuteTime": {
     "end_time": "2021-12-12T00:09:30.600418Z",
     "start_time": "2021-12-12T00:09:30.553201Z"
    }
   },
   "outputs": [],
   "source": [
    "%matplotlib inline"
   ]
  },
  {
   "cell_type": "code",
   "execution_count": 4,
   "id": "b3fb63d3",
   "metadata": {
    "ExecuteTime": {
     "end_time": "2021-12-12T00:09:30.915520Z",
     "start_time": "2021-12-12T00:09:30.870932Z"
    }
   },
   "outputs": [],
   "source": [
    "import astropy\n",
    "from pathlib import Path\n",
    "import numpy as np\n",
    "import matplotlib.pyplot as plt \n",
    "import re \n",
    "from astropy.table import Table\n",
    "import astropy.table\n",
    "import json\n",
    "from scipy import stats\n",
    "from copy import deepcopy\n",
    "import scipy\n",
    "import warnings\n",
    "\n",
    "import matplotlib as mpl\n",
    "from sklearn.model_selection import train_test_split\n"
   ]
  },
  {
   "cell_type": "code",
   "execution_count": 5,
   "id": "8c47894e",
   "metadata": {
    "ExecuteTime": {
     "end_time": "2021-12-12T00:09:31.073262Z",
     "start_time": "2021-12-12T00:09:31.033836Z"
    }
   },
   "outputs": [],
   "source": [
    "from multicam.mah import get_mah"
   ]
  },
  {
   "attachments": {},
   "cell_type": "markdown",
   "id": "13cf5fec",
   "metadata": {},
   "source": [
    "# Data"
   ]
  },
  {
   "cell_type": "code",
   "execution_count": 6,
   "id": "e9a1937c",
   "metadata": {
    "ExecuteTime": {
     "end_time": "2021-12-12T00:09:34.448477Z",
     "start_time": "2021-12-12T00:09:32.069269Z"
    }
   },
   "outputs": [],
   "source": [
    "mah_data = get_mah('../../data/processed/bolshoi_m12/', cutoff_missing=0.90, \n",
    "                   cutoff_particle=0.90) # not strict"
   ]
  },
  {
   "cell_type": "code",
   "execution_count": 7,
   "id": "bd6a49c8",
   "metadata": {},
   "outputs": [
    {
     "data": {
      "text/plain": [
       "9990"
      ]
     },
     "execution_count": 7,
     "metadata": {},
     "output_type": "execute_result"
    }
   ],
   "source": [
    "len(mah_data['cat'])"
   ]
  },
  {
   "cell_type": "code",
   "execution_count": 8,
   "id": "8d8d7d95",
   "metadata": {
    "ExecuteTime": {
     "end_time": "2021-12-12T00:09:34.491415Z",
     "start_time": "2021-12-12T00:09:34.450759Z"
    }
   },
   "outputs": [
    {
     "name": "stdout",
     "output_type": "stream",
     "text": [
      "(9990,) (9990,) (9990, 100) (9990, 178) (178,) (100,)\n"
     ]
    }
   ],
   "source": [
    "# catalog\n",
    "cat = mah_data['cat']\n",
    "xoff = cat['x0']\n",
    "cvir = cat['cvir']\n",
    "ma = mah_data['ma']\n",
    "am = mah_data['am']\n",
    "\n",
    "indices = mah_data['indices']\n",
    "scales = mah_data['scales']\n",
    "mass_bins = mah_data['mass_bins']\n",
    "print(cvir.shape, xoff.shape, am.shape, ma.shape, scales.shape, mass_bins.shape)"
   ]
  },
  {
   "attachments": {},
   "cell_type": "markdown",
   "id": "987fd8ee",
   "metadata": {},
   "source": [
    "# Extract MM scales, make histogram"
   ]
  },
  {
   "cell_type": "code",
   "execution_count": 8,
   "id": "6e5ac6db",
   "metadata": {
    "ExecuteTime": {
     "end_time": "2021-12-12T00:23:49.770866Z",
     "start_time": "2021-12-12T00:23:41.647692Z"
    }
   },
   "outputs": [],
   "source": [
    "# first we need merger ratio at every scale \n",
    "merger_ratio_inst  = np.zeros((len(cat), len(scales)))\n",
    "merger_ratio_present = np.zeros((len(cat), len(scales)))\n",
    "for i in range(len(cat)):\n",
    "    for j, idx in enumerate(indices):\n",
    "#         f_sub_name = f'f_sub_a{idx}'\n",
    "        m2_name = f'm2_a{idx}'\n",
    "        cpg_name = f'coprog_mvir_a{idx-1}' # want coprogenitor mass at previous timestep.\n",
    "        mvir_name = f'mvir_a{idx}'\n",
    "        \n",
    "        # get inst ratios\n",
    "        m2_ratio = cat[m2_name][i].item() / cat[mvir_name][i].item()\n",
    "#         cpg_ratio = cat[cpg_name][i] / cat[mvir_name][i]\n",
    "#         merger_ratio_inst[i, j] = np.nanmax((m2_ratio, cpg_ratio))\n",
    "        merger_ratio_inst[i, j] = m2_ratio\n",
    "        \n",
    "        # present ratios\n",
    "        m2_ratio = cat[m2_name][i] / cat['mvir'][i].item()\n",
    "#         cpg_ratio = cat[cpg_name][i] / cat['mvir']\n",
    "#         merger_ratio_present[i, j] = np.nanmax((m2_ratio, cpg_ratio))\n",
    "        merger_ratio_present[i, j] = m2_ratio\n",
    "    "
   ]
  },
  {
   "cell_type": "code",
   "execution_count": 9,
   "id": "d3196809",
   "metadata": {
    "ExecuteTime": {
     "end_time": "2021-12-12T00:24:03.071085Z",
     "start_time": "2021-12-12T00:24:02.904842Z"
    }
   },
   "outputs": [],
   "source": [
    "# now construct scale of last MM (at present day) as a function fo different thresholds\n",
    "# Mu = np.linspace(0.1, 1, num=10)\n",
    " # ROCKSTAR / CONSISTENT_TREES definition is ratio / (1 + ratio)\n",
    "Mu = [0.3/1.3, 0.1 / 1.1 , 0.03 / (1 + 0.03), 0.01 / 1.01]\n",
    "cutoff_scales= [0.25, 0.3, 0.4, 0.8] # cutoffs for 50 particles (phil)\n",
    "scale_of_last_MM_inst = np.zeros((len(cat), len(Mu)))\n",
    "for i in range(len(cat)):\n",
    "    for k, mu in enumerate(Mu):\n",
    "        MM_indices = np.where(merger_ratio_inst[i] > mu)[0]\n",
    "        if len(MM_indices) > 0 and scales[MM_indices[-1]] >= cutoff_scales[k]: \n",
    "            scale_of_last_MM_inst[i, k] = scales[MM_indices[-1]]\n",
    "        else: \n",
    "            scale_of_last_MM_inst[i, k] = np.nan\n"
   ]
  },
  {
   "cell_type": "code",
   "execution_count": 10,
   "id": "209c714c",
   "metadata": {
    "ExecuteTime": {
     "end_time": "2021-12-11T21:48:18.500655Z",
     "start_time": "2021-12-11T21:48:18.347946Z"
    }
   },
   "outputs": [],
   "source": [
    "# now construct scale of last MM (at present day) as a function fo different thresholds\n",
    "# Mu = np.linspace(0.1, 1, num=10)\n",
    "# ROCKSTAR / CONSISTENT_TREES definition is ratio / (1 + ratio)\n",
    "Mu = [0.3/1.3, 0.1 / 1.1 , 1/30 / (1 + 1/30), 0.01 / 1.01] \n",
    "cutoff_scales= [0.25, 0.3, 0.4, 0.8] # cutoffs for 50 particles (phil)\n",
    "scale_of_last_MM_present = np.zeros((len(cat), len(Mu)))\n",
    "for i in range(len(cat)):\n",
    "    for k, mu in enumerate(Mu):\n",
    "        MM_indices = np.where(merger_ratio_present[i] > mu)[0]\n",
    "        if len(MM_indices) > 0 and scales[MM_indices[-1]] >= cutoff_scales[k]: \n",
    "            scale_of_last_MM_present[i, k] = scales[MM_indices[-1]]\n",
    "        else: \n",
    "            scale_of_last_MM_present[i, k] = np.nan\n"
   ]
  },
  {
   "cell_type": "code",
   "execution_count": 68,
   "id": "3ff305b4",
   "metadata": {
    "ExecuteTime": {
     "end_time": "2021-12-12T00:24:07.043572Z",
     "start_time": "2021-12-12T00:24:06.589652Z"
    }
   },
   "outputs": [
    {
     "data": {
      "text/plain": [
       "Text(0.5, 0, '\\\\rm Scale of Last MM (instantaneous mass)')"
      ]
     },
     "execution_count": 68,
     "metadata": {},
     "output_type": "execute_result"
    },
    {
     "data": {
      "image/png": "[encoded data removed]",
      "text/plain": [
       "<Figure size 720x720 with 1 Axes>"
      ]
     },
     "metadata": {
      "needs_background": "light"
     },
     "output_type": "display_data"
    }
   ],
   "source": [
    "plt.figure(figsize=(10,10))\n",
    "bins = np.linspace(np.min(scales), np.max(scales), 25)\n",
    "for k, cutoff in enumerate(cutoff_scales): \n",
    "    plt.hist(scale_of_last_MM_inst[:, k], histtype='step', label=f'\\\\rm ratio: ${Mu[k]/(1-Mu[k]):.2f}$', bins=bins)\n",
    "    \n",
    "# ROCKSTAR \n",
    "plt.hist(cat['scale_of_last_mm'], histtype='step', label=f'\\\\rm ratio: $0.30$, Consistent-Trees', bins=bins, color='r')\n",
    "\n",
    "# formatting\n",
    "plt.legend(loc=2, bbox_to_anchor=(1,1))\n",
    "plt.yscale('log')\n",
    "plt.xlabel(\"\\\\rm Scale of Last MM (instantaneous mass)\")"
   ]
  },
  {
   "cell_type": "code",
   "execution_count": 20,
   "id": "61b9f821",
   "metadata": {
    "ExecuteTime": {
     "end_time": "2021-11-29T18:42:21.017960Z",
     "start_time": "2021-11-29T18:42:20.681528Z"
    }
   },
   "outputs": [
    {
     "data": {
      "text/plain": [
       "Text(0.5, 0, '\\\\rm Scale of Last MM (present-day mass)')"
      ]
     },
     "execution_count": 20,
     "metadata": {},
     "output_type": "execute_result"
    },
    {
     "data": {
      "image/png": "[encoded data removed]",
      "text/plain": [
       "<Figure size 720x720 with 1 Axes>"
      ]
     },
     "metadata": {
      "needs_background": "light"
     },
     "output_type": "display_data"
    }
   ],
   "source": [
    "plt.figure(figsize=(10,10))\n",
    "bins = np.linspace(np.min(scales), np.max(scales), 25)\n",
    "for k, cutoff in enumerate(cutoff_scales): \n",
    "    plt.hist(scale_of_last_MM_present[:, k], histtype='step', label=f'\\\\rm ratio: ${Mu[k]/(1-Mu[k]):.2f}$', bins=bins)\n",
    "    \n",
    "# formatting\n",
    "plt.legend(loc=2, bbox_to_anchor=(1,1))\n",
    "plt.yscale('log')\n",
    "plt.xlabel(\"\\\\rm Scale of Last MM (present-day mass)\")\n"
   ]
  },
  {
   "attachments": {},
   "cell_type": "markdown",
   "id": "57a10eca",
   "metadata": {},
   "source": [
    "## Direct ROCKSTAR comparison"
   ]
  },
  {
   "cell_type": "code",
   "execution_count": 69,
   "id": "b1383e20",
   "metadata": {
    "ExecuteTime": {
     "end_time": "2021-12-12T00:24:13.125581Z",
     "start_time": "2021-12-12T00:24:12.927260Z"
    }
   },
   "outputs": [
    {
     "name": "stdout",
     "output_type": "stream",
     "text": [
      "6666 7062\n",
      "2393\n",
      "6131\n"
     ]
    },
    {
     "data": {
      "text/plain": [
       "Text(0, 0.5, '\\\\rm Estimate')"
      ]
     },
     "execution_count": 69,
     "metadata": {},
     "output_type": "execute_result"
    },
    {
     "data": {
      "image/png": "[encoded data removed]",
      "text/plain": [
       "<Figure size 576x576 with 1 Axes>"
      ]
     },
     "metadata": {
      "needs_background": "light"
     },
     "output_type": "display_data"
    }
   ],
   "source": [
    "plt.figure(figsize=(8,8))\n",
    "keep1 = ~np.isnan(scale_of_last_MM_inst[:, 0])\n",
    "keep2 = cat['scale_of_last_mm'] > 0.25\n",
    "print(keep1.sum(), keep2.sum())\n",
    "print(np.sum( (keep1 == keep2) & (keep1 == False) & (keep2 == False)))\n",
    "keep = keep1 & keep2\n",
    "print(keep.sum())\n",
    "plt.scatter(cat['scale_of_last_mm'][keep], scale_of_last_MM_inst[:, 0][keep], alpha=0.3)\n",
    "plt.plot([0.25, 1],[0.25, 1], c='r')\n",
    "plt.xlabel(r\"\\rm ROCKSTAR\", size=24)\n",
    "plt.ylabel(r\"\\rm Estimate\", size=24)"
   ]
  },
  {
   "attachments": {},
   "cell_type": "markdown",
   "id": "6f15b401",
   "metadata": {},
   "source": [
    "## Check Discrepancy at small scales"
   ]
  },
  {
   "cell_type": "code",
   "execution_count": 12,
   "id": "d94d944d",
   "metadata": {},
   "outputs": [
    {
     "data": {
      "text/plain": [
       "array([0.10235, 0.10835, 0.11435, 0.12035, 0.13235, 0.13835, 0.14435,\n",
       "       0.15035, 0.15635, 0.16235, 0.16835, 0.17435, 0.18035, 0.18635,\n",
       "       0.19235, 0.19835, 0.20235, 0.20435, 0.21035, 0.21635, 0.22235,\n",
       "       0.22835, 0.23435, 0.24635, 0.25235, 0.25835, 0.26435, 0.27035,\n",
       "       0.27635, 0.28235, 0.28835, 0.29435, 0.30635, 0.31235, 0.31835,\n",
       "       0.32435, 0.33035, 0.33635, 0.34235, 0.34835, 0.35435, 0.36035,\n",
       "       0.36635, 0.37235, 0.37835, 0.38435, 0.39035, 0.39635, 0.40235,\n",
       "       0.40835, 0.41435, 0.42035, 0.42635, 0.43235, 0.43835, 0.44435,\n",
       "       0.45035, 0.45635, 0.46235, 0.46835, 0.47435, 0.48035, 0.48635,\n",
       "       0.49835, 0.50435, 0.51035, 0.51635, 0.52235, 0.52835, 0.53235,\n",
       "       0.53835, 0.54435, 0.55035, 0.55635, 0.56235, 0.56835, 0.57435,\n",
       "       0.58035, 0.58635, 0.59235, 0.59835, 0.60435, 0.61035, 0.61635,\n",
       "       0.62235, 0.62835, 0.63435, 0.64035, 0.64635, 0.65235, 0.65835,\n",
       "       0.66435, 0.67035, 0.67635, 0.68235, 0.68835, 0.69435, 0.70035,\n",
       "       0.70635, 0.71235, 0.71835, 0.72435, 0.73035, 0.73635, 0.74235,\n",
       "       0.74835, 0.75435, 0.76035, 0.76635, 0.77235, 0.77835, 0.78435,\n",
       "       0.79035, 0.79635, 0.80235, 0.80835, 0.81135, 0.81435, 0.81735,\n",
       "       0.82035, 0.82335, 0.82635, 0.82935, 0.83235, 0.83535, 0.83835,\n",
       "       0.84135, 0.84435, 0.84735, 0.85035, 0.85335, 0.85635, 0.85935,\n",
       "       0.86235, 0.86535, 0.86835, 0.87135, 0.87435, 0.87735, 0.88035,\n",
       "       0.88335, 0.88635, 0.88935, 0.89235, 0.89535, 0.89835, 0.90135,\n",
       "       0.90435, 0.90735, 0.91035, 0.91335, 0.91635, 0.91935, 0.92235,\n",
       "       0.92535, 0.92835, 0.93135, 0.93435, 0.93735, 0.94335, 0.94635,\n",
       "       0.94935, 0.95235, 0.95835, 0.96135, 0.96435, 0.96735, 0.97035,\n",
       "       0.97335, 0.97635, 0.97935, 0.98235, 0.98535, 0.98835, 0.99135,\n",
       "       0.99435, 0.99735, 1.00035])"
      ]
     },
     "execution_count": 12,
     "metadata": {},
     "output_type": "execute_result"
    }
   ],
   "source": [
    "scales"
   ]
  },
  {
   "cell_type": "code",
   "execution_count": null,
   "id": "855e2a3d",
   "metadata": {},
   "outputs": [
    {
     "data": {
      "text/html": [
       "&lt;Column name=&apos;coprog_mvir_a151&apos; dtype=&apos;float64&apos; length=1&gt;\n",
       "<table>\n",
       "<tr><td>0.3472413908746046</td></tr>\n",
       "</table>"
      ],
      "text/plain": [
       "<Column name='coprog_mvir_a151' dtype='float64' length=1>\n",
       "0.3472413908746046"
      ]
     },
     "metadata": {},
     "output_type": "display_data"
    }
   ],
   "source": [
    "weird_indx = np.where(cat['id']==3067645766)[0]\n",
    "print(cat['coprog_mvir_a151'][weird_indx] / cat['mvir'][weird_indx])\n",
    "print(cat['m2_a152'][weird_indx] / cat['mvir'][weird_indx])"
   ]
  },
  {
   "cell_type": "code",
   "execution_count": null,
   "id": "8f0cdd47",
   "metadata": {},
   "outputs": [
    {
     "data": {
      "text/html": [
       "&lt;Column name=&apos;coprog_mvir_a164&apos; dtype=&apos;float64&apos; length=1&gt;\n",
       "<table>\n",
       "<tr><td>0.37836205316596494</td></tr>\n",
       "</table>"
      ],
      "text/plain": [
       "<Column name='coprog_mvir_a164' dtype='float64' length=1>\n",
       "0.37836205316596494"
      ]
     },
     "metadata": {},
     "output_type": "display_data"
    }
   ],
   "source": [
    "weird_indx = np.where(cat['id']==3062514446)[0]\n",
    "cat['coprog_mvir_a164'][weird_indx] / cat['mvir'][weird_indx]"
   ]
  },
  {
   "attachments": {},
   "cell_type": "markdown",
   "id": "e29b3877",
   "metadata": {},
   "source": [
    "## Correlations with present day properties "
   ]
  },
  {
   "cell_type": "code",
   "execution_count": 11,
   "id": "f0111e7e",
   "metadata": {},
   "outputs": [],
   "source": [
    "from multicam.correlations import spearmanr"
   ]
  },
  {
   "cell_type": "code",
   "execution_count": 23,
   "id": "b7e02864",
   "metadata": {},
   "outputs": [
    {
     "name": "stdout",
     "output_type": "stream",
     "text": [
      "-0.40269119601023273\n",
      "0.4007221448208005\n",
      "0.41558284666350304\n",
      "0.42633569719825376\n",
      "-0.4480812879001036\n"
     ]
    }
   ],
   "source": [
    "mask_nan = ~np.isnan(scale_of_last_MM_inst[:, 0])\n",
    "cvir = cat['cvir'][mask_nan]\n",
    "xoff = cat['x0'][mask_nan]\n",
    "eta = cat['t/|u|'][mask_nan]\n",
    "spin = cat['spin_bullock'][mask_nan]\n",
    "c_to_a = cat['c_to_a'][mask_nan]\n",
    "mm_scales = scale_of_last_MM_inst[:, 0][mask_nan]\n",
    "print(spearmanr(cvir, mm_scales))\n",
    "print(spearmanr(xoff, mm_scales))\n",
    "print(spearmanr(eta, mm_scales))\n",
    "print(spearmanr(spin, mm_scales))\n",
    "print(spearmanr(c_to_a, mm_scales))"
   ]
  },
  {
   "cell_type": "code",
   "execution_count": 25,
   "id": "6cdfeead",
   "metadata": {},
   "outputs": [
    {
     "name": "stdout",
     "output_type": "stream",
     "text": [
      "-0.555195424266474\n",
      "0.6391132160663451\n",
      "0.6528015852208361\n",
      "0.45549695200361195\n",
      "-0.6407532167499496\n"
     ]
    }
   ],
   "source": [
    "mask_nan = ~np.isnan(scale_of_last_MM_present[:, 0])\n",
    "cvir = cat['cvir'][mask_nan]\n",
    "xoff = cat['x0'][mask_nan]\n",
    "eta = cat['t/|u|'][mask_nan]\n",
    "spin = cat['spin_bullock'][mask_nan]\n",
    "c_to_a = cat['c_to_a'][mask_nan]\n",
    "mm_scales = scale_of_last_MM_present[:, 0][mask_nan]\n",
    "print(spearmanr(cvir, mm_scales))\n",
    "print(spearmanr(xoff, mm_scales))\n",
    "print(spearmanr(eta, mm_scales))\n",
    "print(spearmanr(spin, mm_scales))\n",
    "print(spearmanr(c_to_a, mm_scales))"
   ]
  },
  {
   "attachments": {},
   "cell_type": "markdown",
   "id": "5498d0b3",
   "metadata": {},
   "source": [
    "# Indicator and merger impact"
   ]
  },
  {
   "cell_type": "code",
   "execution_count": 9,
   "id": "594d26f4",
   "metadata": {},
   "outputs": [],
   "source": [
    "mah_data = get_mah('../../data/processed/bolshoi_m12/', cutoff_missing=0.05, cutoff_particle=0.05)"
   ]
  },
  {
   "cell_type": "code",
   "execution_count": 10,
   "id": "aab09ed8",
   "metadata": {},
   "outputs": [
    {
     "name": "stdout",
     "output_type": "stream",
     "text": [
      "(10000,) (10000,) (10000, 100) (10000, 165) (165,) (100,)\n"
     ]
    }
   ],
   "source": [
    "# catalog\n",
    "cat = mah_data['cat']\n",
    "xoff = cat['x0']\n",
    "cvir = cat['cvir']\n",
    "ma = mah_data['ma']\n",
    "am = mah_data['am']\n",
    "\n",
    "indices = mah_data['indices']\n",
    "scales = mah_data['scales']\n",
    "mass_bins = mah_data['mass_bins']\n",
    "print(cvir.shape, xoff.shape, am.shape, ma.shape, scales.shape, mass_bins.shape)"
   ]
  },
  {
   "cell_type": "code",
   "execution_count": 11,
   "id": "73621b98",
   "metadata": {},
   "outputs": [
    {
     "data": {
      "text/plain": [
       "0.18635"
      ]
     },
     "execution_count": 11,
     "metadata": {},
     "output_type": "execute_result"
    }
   ],
   "source": [
    "np.min(scales)"
   ]
  },
  {
   "cell_type": "code",
   "execution_count": 12,
   "id": "b121b8e4",
   "metadata": {},
   "outputs": [],
   "source": [
    "# scale factor coarser bins \n",
    "min_scale, max_scale = np.min(scales), np.max(scales)\n",
    "scale_bins = np.linspace(min_scale, max_scale, 20)"
   ]
  },
  {
   "cell_type": "code",
   "execution_count": 13,
   "id": "095cbdf1",
   "metadata": {},
   "outputs": [
    {
     "data": {
      "text/plain": [
       "array([0.18635   , 0.22919211, 0.27203421, 0.31487632, 0.35771842,\n",
       "       0.40056053, 0.44340263, 0.48624474, 0.52908684, 0.57192895,\n",
       "       0.61477105, 0.65761316, 0.70045526, 0.74329737, 0.78613947,\n",
       "       0.82898158, 0.87182368, 0.91466579, 0.95750789, 1.00035   ])"
      ]
     },
     "execution_count": 13,
     "metadata": {},
     "output_type": "execute_result"
    }
   ],
   "source": [
    "scale_bins"
   ]
  },
  {
   "cell_type": "code",
   "execution_count": null,
   "id": "77730649",
   "metadata": {},
   "outputs": [],
   "source": []
  }
 ],
 "metadata": {
  "kernelspec": {
   "display_name": "Python 3 (ipykernel)",
   "language": "python",
   "name": "python3"
  },
  "language_info": {
   "codemirror_mode": {
    "name": "ipython",
    "version": 3
   },
   "file_extension": ".py",
   "mimetype": "text/x-python",
   "name": "python",
   "nbconvert_exporter": "python",
   "pygments_lexer": "ipython3",
   "version": "3.9.16"
  },
  "toc": {
   "base_numbering": 1,
   "nav_menu": {},
   "number_sections": true,
   "sideBar": true,
   "skip_h1_title": false,
   "title_cell": "Table of Contents",
   "title_sidebar": "Contents",
   "toc_cell": false,
   "toc_position": {
    "height": "calc(100% - 180px)",
    "left": "10px",
    "top": "150px",
    "width": "202.69021606445312px"
   },
   "toc_section_display": true,
   "toc_window_display": true
  }
 },
 "nbformat": 4,
 "nbformat_minor": 5
}
