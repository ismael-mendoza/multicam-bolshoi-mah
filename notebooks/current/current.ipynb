{
 "cells": [
  {
   "cell_type": "markdown",
   "id": "19bb0e9a",
   "metadata": {},
   "source": [
    "# Setup"
   ]
  },
  {
   "cell_type": "code",
   "execution_count": 1,
   "id": "e8f1e0fe",
   "metadata": {
    "ExecuteTime": {
     "end_time": "2022-05-30T21:10:02.717893Z",
     "start_time": "2022-05-30T21:10:02.675461Z"
    }
   },
   "outputs": [
    {
     "name": "stdout",
     "output_type": "stream",
     "text": [
      "Modules to reload:\n",
      "all-except-skipped\n",
      "\n",
      "Modules to skip:\n",
      "\n"
     ]
    }
   ],
   "source": [
    "%load_ext autoreload\n",
    "%autoreload 2\n",
    "%aimport"
   ]
  },
  {
   "cell_type": "code",
   "execution_count": 12,
   "id": "a1aaf29b",
   "metadata": {
    "ExecuteTime": {
     "end_time": "2022-05-30T21:10:06.732576Z",
     "start_time": "2022-05-30T21:10:02.861016Z"
    }
   },
   "outputs": [],
   "source": [
    "%matplotlib inline"
   ]
  },
  {
   "cell_type": "code",
   "execution_count": 3,
   "id": "54f61c5f",
   "metadata": {
    "ExecuteTime": {
     "end_time": "2022-05-30T21:10:12.869301Z",
     "start_time": "2022-05-30T21:10:06.733881Z"
    }
   },
   "outputs": [],
   "source": [
    "#!/usr/bin/env python3\n",
    "from abc import ABC\n",
    "from abc import abstractmethod\n",
    "from collections import defaultdict\n",
    "from pathlib import Path\n",
    "from typing import Dict\n",
    "\n",
    "import corner\n",
    "import matplotlib as mpl\n",
    "import matplotlib.pyplot as plt\n",
    "import numpy as np\n",
    "from astropy import units as u\n",
    "\n",
    "from relaxed import plotting as rxplots\n",
    "from relaxed.correlations import add_box_indices\n",
    "from relaxed.correlations import get_2d_corr\n",
    "from relaxed.correlations import spearmanr\n",
    "from relaxed.correlations import vol_jacknife_err\n",
    "from relaxed.cosmo import get_a_from_t\n",
    "from relaxed.cosmo import get_fractional_tdyn\n",
    "from relaxed.cosmo import get_t_from_a\n",
    "from relaxed.fits import alpha_analysis\n",
    "from relaxed.fits import get_early_late\n",
    "from relaxed.gradients import get_savgol_grads\n",
    "from relaxed.mah import get_an_from_am\n",
    "from relaxed.mah import get_mah\n",
    "from relaxed.models import opcam_dict\n",
    "from relaxed.models import prepare_datasets\n",
    "from relaxed.models import training_suite\n",
    "from relaxed.plotting import CB_COLORS\n",
    "from relaxed.plotting import MARKS\n",
    "from relaxed.plotting import set_rc"
   ]
  },
  {
   "cell_type": "code",
   "execution_count": 4,
   "id": "b1b1622f",
   "metadata": {
    "ExecuteTime": {
     "end_time": "2022-05-30T21:10:12.900213Z",
     "start_time": "2022-05-30T21:10:12.873085Z"
    }
   },
   "outputs": [
    {
     "data": {
      "text/plain": [
       "<matplotlib.pyplot._IoffContext at 0x7fdcf09f84c0>"
      ]
     },
     "execution_count": 4,
     "metadata": {},
     "output_type": "execute_result"
    }
   ],
   "source": [
    "plt.ioff()"
   ]
  },
  {
   "cell_type": "code",
   "execution_count": 5,
   "id": "f7e5de54",
   "metadata": {
    "ExecuteTime": {
     "end_time": "2022-05-30T21:10:12.921021Z",
     "start_time": "2022-05-30T21:10:12.901458Z"
    }
   },
   "outputs": [],
   "source": [
    "plt.rcParams.update({\"text.usetex\": True,})"
   ]
  },
  {
   "cell_type": "markdown",
   "id": "4f7aef79",
   "metadata": {},
   "source": [
    "# Load"
   ]
  },
  {
   "cell_type": "code",
   "execution_count": 10,
   "id": "b69f3417",
   "metadata": {
    "ExecuteTime": {
     "end_time": "2022-05-30T21:10:19.393023Z",
     "start_time": "2022-05-30T21:10:16.590353Z"
    }
   },
   "outputs": [],
   "source": [
    "mahdir = \"../../data/processed/bolshoi_m12\"\n",
    "mah_data = get_mah(mahdir, cutoff_missing=0.05, cutoff_particle=0.05, log_mbin_spacing=False)\n",
    "mass_bins = mah_data[\"mass_bins\"]\n",
    "am = mah_data[\"am\"]\n",
    "scales = mah_data[\"scales\"]\n",
    "ma = mah_data[\"ma\"]\n",
    "cat = mah_data['cat']\n",
    "mpeak = mah_data['ma_peak']"
   ]
  },
  {
   "cell_type": "markdown",
   "id": "c074ad00",
   "metadata": {},
   "source": [
    "# Mpeak == 1 counts"
   ]
  },
  {
   "cell_type": "code",
   "execution_count": 16,
   "id": "f8a98ea6",
   "metadata": {},
   "outputs": [
    {
     "data": {
      "text/plain": [
       "<matplotlib.collections.PathCollection at 0x7fdc811909d0>"
      ]
     },
     "execution_count": 16,
     "metadata": {},
     "output_type": "execute_result"
    },
    {
     "data": {
      "image/png": "[encoded data removed]",
      "text/plain": [
       "<Figure size 432x288 with 1 Axes>"
      ]
     },
     "metadata": {
      "needs_background": "light"
     },
     "output_type": "display_data"
    }
   ],
   "source": [
    "plt.scatter(scales, np.sum(ma == 1.0, axis=0) / len(mpeak))"
   ]
  },
  {
   "cell_type": "code",
   "execution_count": 20,
   "id": "2c04070f",
   "metadata": {},
   "outputs": [
    {
     "data": {
      "text/plain": [
       "<matplotlib.collections.PathCollection at 0x7fdcd919f130>"
      ]
     },
     "execution_count": 20,
     "metadata": {},
     "output_type": "execute_result"
    },
    {
     "data": {
      "image/png": "[encoded data removed]",
      "text/plain": [
       "<Figure size 432x288 with 1 Axes>"
      ]
     },
     "metadata": {
      "needs_background": "light"
     },
     "output_type": "display_data"
    }
   ],
   "source": [
    "plt.scatter(scales, np.sum( mpeak == 1.0, axis=0) / len(mpeak))"
   ]
  },
  {
   "cell_type": "markdown",
   "id": "5cc1d6f4",
   "metadata": {},
   "source": [
    "# Cadences"
   ]
  },
  {
   "cell_type": "code",
   "execution_count": 12,
   "id": "4aeb5408",
   "metadata": {},
   "outputs": [
    {
     "data": {
      "text/plain": [
       "[<matplotlib.lines.Line2D at 0x7fb0ca03cf70>]"
      ]
     },
     "execution_count": 12,
     "metadata": {},
     "output_type": "execute_result"
    },
    {
     "data": {
      "image/png": "[encoded data removed]",
      "text/plain": [
       "<Figure size 432x288 with 1 Axes>"
      ]
     },
     "metadata": {
      "needs_background": "light"
     },
     "output_type": "display_data"
    }
   ],
   "source": [
    "plt.plot(scales)"
   ]
  },
  {
   "cell_type": "code",
   "execution_count": 19,
   "id": "1130f06a",
   "metadata": {},
   "outputs": [
    {
     "data": {
      "text/plain": [
       "Text(0, 0.5, '$a_{i} - a_{i-1}$')"
      ]
     },
     "execution_count": 19,
     "metadata": {},
     "output_type": "execute_result"
    },
    {
     "data": {
      "image/png": "[encoded data removed]",
      "text/plain": [
       "<Figure size 576x576 with 1 Axes>"
      ]
     },
     "metadata": {
      "needs_background": "light"
     },
     "output_type": "display_data"
    }
   ],
   "source": [
    "plt.figure(figsize=(8,8))\n",
    "plt.plot(scales[1:], np.diff(scales), marker='o')\n",
    "plt.xlabel(r\"$a_{i}$\", size=18)\n",
    "plt.ylabel(r\"$a_{i} - a_{i-1}$\", size=18)"
   ]
  },
  {
   "cell_type": "code",
   "execution_count": 16,
   "id": "2398e75a",
   "metadata": {
    "ExecuteTime": {
     "end_time": "2022-05-30T21:10:22.784849Z",
     "start_time": "2022-05-30T21:10:22.706330Z"
    }
   },
   "outputs": [
    {
     "data": {
      "text/plain": [
       "(array([101, 102, 103, 104, 105, 106, 107, 108, 109, 110, 111, 112, 113,\n",
       "        114, 115, 116, 117, 118, 119, 120, 121, 122, 123, 124, 125, 126,\n",
       "        127, 128, 129, 130, 131, 132, 133, 134, 135, 136, 137, 138, 139,\n",
       "        140, 141, 142, 143, 144, 145, 146, 147, 148, 149, 150, 151, 152,\n",
       "        153, 154, 155, 156, 157, 158, 159, 160, 161, 162, 163, 164]),)"
      ]
     },
     "execution_count": 16,
     "metadata": {},
     "output_type": "execute_result"
    }
   ],
   "source": [
    "np.where(scales>0.8)"
   ]
  },
  {
   "cell_type": "code",
   "execution_count": 20,
   "id": "002439cb",
   "metadata": {},
   "outputs": [
    {
     "data": {
      "text/plain": [
       "(array([  2,   3,  55, 102, 103, 104, 105, 106, 107, 108, 109, 110, 111,\n",
       "        112, 113, 114, 115, 116, 117, 118, 119, 120, 121, 122, 123, 124,\n",
       "        125, 126, 127, 128, 129, 130, 131, 132, 133, 134, 135, 136, 137,\n",
       "        138, 139, 140, 141, 142, 143, 144, 146, 147, 148, 150, 151, 152,\n",
       "        153, 154, 155, 156, 157, 158, 159, 160, 161, 162, 163]),)"
      ]
     },
     "execution_count": 20,
     "metadata": {},
     "output_type": "execute_result"
    }
   ],
   "source": [
    "np.where(np.diff(scales) < 0.005)"
   ]
  },
  {
   "cell_type": "code",
   "execution_count": 23,
   "id": "fad56c66",
   "metadata": {},
   "outputs": [
    {
     "data": {
      "text/plain": [
       "-0.0030000000000000027"
      ]
     },
     "execution_count": 23,
     "metadata": {},
     "output_type": "execute_result"
    }
   ],
   "source": [
    "scales[102] - scales[103]"
   ]
  },
  {
   "cell_type": "code",
   "execution_count": 24,
   "id": "c8aa7634",
   "metadata": {},
   "outputs": [
    {
     "data": {
      "text/plain": [
       "0.80835"
      ]
     },
     "execution_count": 24,
     "metadata": {},
     "output_type": "execute_result"
    }
   ],
   "source": [
    "scales[102]"
   ]
  },
  {
   "cell_type": "code",
   "execution_count": null,
   "id": "6fa2f855",
   "metadata": {},
   "outputs": [],
   "source": []
  }
 ],
 "metadata": {
  "interpreter": {
   "hash": "01c569fa2bef52b9232592662de2ae74ad9fad1759f17bf040ca2ba928d66ba7"
  },
  "kernelspec": {
   "display_name": "Python 3.8.13 ('relaxed38')",
   "language": "python",
   "name": "python3"
  },
  "language_info": {
   "codemirror_mode": {
    "name": "ipython",
    "version": 3
   },
   "file_extension": ".py",
   "mimetype": "text/x-python",
   "name": "python",
   "nbconvert_exporter": "python",
   "pygments_lexer": "ipython3",
   "version": "3.8.13"
  },
  "toc": {
   "base_numbering": 1,
   "nav_menu": {},
   "number_sections": true,
   "sideBar": true,
   "skip_h1_title": false,
   "title_cell": "Table of Contents",
   "title_sidebar": "Contents",
   "toc_cell": false,
   "toc_position": {},
   "toc_section_display": true,
   "toc_window_display": true
  }
 },
 "nbformat": 4,
 "nbformat_minor": 5
}
