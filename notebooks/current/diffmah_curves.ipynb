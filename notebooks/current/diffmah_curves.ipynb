{
 "cells": [
  {
   "cell_type": "code",
   "execution_count": 17,
   "metadata": {},
   "outputs": [
    {
     "name": "stdout",
     "output_type": "stream",
     "text": [
      "The autoreload extension is already loaded. To reload it, use:\n",
      "  %reload_ext autoreload\n",
      "Modules to reload:\n",
      "all-except-skipped\n",
      "\n",
      "Modules to skip:\n",
      "\n"
     ]
    }
   ],
   "source": [
    "%load_ext autoreload\n",
    "%autoreload 2\n",
    "%aimport"
   ]
  },
  {
   "cell_type": "code",
   "execution_count": 18,
   "metadata": {},
   "outputs": [],
   "source": [
    "%matplotlib inline"
   ]
  },
  {
   "cell_type": "code",
   "execution_count": 19,
   "metadata": {},
   "outputs": [],
   "source": [
    "from pathlib import Path\n",
    "\n",
    "import corner\n",
    "import matplotlib.pyplot as plt\n",
    "import numpy as np\n",
    "from astropy import units as u\n",
    "from scipy.stats import spearmanr\n",
    "\n",
    "from relaxed import plot_defaults as plotdf\n",
    "from relaxed.correlations import get_am_corrs\n",
    "from relaxed.correlations import get_ma_corrs\n",
    "from relaxed.correlations import vol_jacknife_err\n",
    "from relaxed.cosmo import get_a_from_t\n",
    "from relaxed.cosmo import get_fractional_tdyn\n",
    "from relaxed.cosmo import get_t_from_a\n",
    "from relaxed.fits import alpha_analysis\n",
    "from relaxed.fits import get_early_late\n",
    "from relaxed.gradients import get_savgol_grads\n",
    "from relaxed.mah import get_an_from_am\n",
    "from relaxed.mah import get_mah\n",
    "from relaxed.models import opcam_dict\n",
    "from relaxed.models import prepare_datasets\n",
    "from relaxed.models import training_suite"
   ]
  },
  {
   "cell_type": "code",
   "execution_count": 36,
   "metadata": {},
   "outputs": [],
   "source": [
    "mah_data = get_mah(\"../../data/processed/bolshoi_m12\", cutoff_missing=0.05, cutoff_particle=0.05)\n",
    "\n",
    "cat = mah_data[\"cat\"]\n",
    "am = mah_data[\"am\"]\n",
    "ma = mah_data['ma']\n",
    "ma_peak = mah_data['ma_peak']\n",
    "scales = mah_data['scales']\n",
    "mass_bins = mah_data[\"mass_bins\"]\n",
    "\n",
    "t = get_t_from_a(scales) # in Gyrs\n",
    "t0 = get_t_from_a(1) # in Gyrs"
   ]
  },
  {
   "cell_type": "code",
   "execution_count": 21,
   "metadata": {},
   "outputs": [],
   "source": [
    "# load diffmah parameters\n",
    "pars = np.load('../../data/processed/pbest_diffmah.npy')\n",
    "logtc, ue, ul = pars[:, 0], pars[:, 1], pars[:, 2]\n",
    "alpha_early, alpha_late = get_early_late(ue, ul)\n",
    "tc = 10**logtc\n",
    "cat.add_column(tc, name=\"tau_c\")\n",
    "cat.add_column(alpha_early, name=\"alpha_early\")\n",
    "cat.add_column(alpha_late, name=\"alpha_late\")"
   ]
  },
  {
   "cell_type": "code",
   "execution_count": 22,
   "metadata": {},
   "outputs": [
    {
     "name": "stderr",
     "output_type": "stream",
     "text": [
      "/Users/imendoza/code/nbody-relaxed/relaxed/fits.py:62: RuntimeWarning: overflow encountered in exp\n",
      "  return alpha_early + (alpha_late - alpha_early) / (1 + np.exp(-k * (t - tau_c)))\n"
     ]
    }
   ],
   "source": [
    "# get diffmah curves\n",
    "from relaxed.fits import alpha_diffmah\n",
    "t = t.reshape(1, -1)\n",
    "tc = tc.reshape(-1, 1)\n",
    "alpha_early = alpha_early.reshape(-1, 1)\n",
    "alpha_late = alpha_late.reshape(-1, 1)\n",
    "curves = (t / t0) ** alpha_diffmah(t, tc, alpha_early, alpha_late)\n",
    "t = t.reshape(-1)"
   ]
  },
  {
   "cell_type": "code",
   "execution_count": null,
   "metadata": {},
   "outputs": [],
   "source": [
    "# andrews way of getting curves"
   ]
  },
  {
   "cell_type": "code",
   "execution_count": 85,
   "metadata": {},
   "outputs": [
    {
     "data": {
      "text/plain": [
       "[<matplotlib.lines.Line2D at 0x7fa74d3f8280>]"
      ]
     },
     "execution_count": 85,
     "metadata": {},
     "output_type": "execute_result"
    },
    {
     "data": {
      "image/png": "[encoded data removed]",
      "text/plain": [
       "<Figure size 576x576 with 1 Axes>"
      ]
     },
     "metadata": {
      "needs_background": "light"
     },
     "output_type": "display_data"
    }
   ],
   "source": [
    "plt.figure(figsize=(8,8))\n",
    "idx = np.random.randint(0, len(ma_peak))\n",
    "plt.plot(np.log10(t), np.log10(ma_peak[idx, :]))\n",
    "plt.plot(np.log10(t), np.log10(curves[idx, :]))"
   ]
  },
  {
   "cell_type": "code",
   "execution_count": 14,
   "metadata": {},
   "outputs": [
    {
     "ename": "ValueError",
     "evalue": "operands could not be broadcast together with shapes (165,) (10000,) ",
     "output_type": "error",
     "traceback": [
      "\u001b[0;31m---------------------------------------------------------------------------\u001b[0m",
      "\u001b[0;31mValueError\u001b[0m                                Traceback (most recent call last)",
      "\u001b[0;32m/var/folders/yl/5w7yl6bn1tsc5fjrdtsrsjhh0000gn/T/ipykernel_2869/2614085235.py\u001b[0m in \u001b[0;36m<cell line: 1>\u001b[0;34m()\u001b[0m\n\u001b[0;32m----> 1\u001b[0;31m \u001b[0malpha_diffmah\u001b[0m\u001b[0;34m(\u001b[0m\u001b[0mt\u001b[0m\u001b[0;34m,\u001b[0m \u001b[0mcat\u001b[0m\u001b[0;34m[\u001b[0m\u001b[0;34m'tau_c'\u001b[0m\u001b[0;34m]\u001b[0m\u001b[0;34m,\u001b[0m \u001b[0mcat\u001b[0m\u001b[0;34m[\u001b[0m\u001b[0;34m'alpha_early'\u001b[0m\u001b[0;34m]\u001b[0m\u001b[0;34m,\u001b[0m \u001b[0mcat\u001b[0m\u001b[0;34m[\u001b[0m\u001b[0;34m'alpha_late'\u001b[0m\u001b[0;34m]\u001b[0m\u001b[0;34m)\u001b[0m\u001b[0;34m\u001b[0m\u001b[0;34m\u001b[0m\u001b[0m\n\u001b[0m",
      "\u001b[0;32m~/code/nbody-relaxed/relaxed/fits.py\u001b[0m in \u001b[0;36malpha_diffmah\u001b[0;34m(t, tau_c, alpha_early, alpha_late, k)\u001b[0m\n\u001b[1;32m     60\u001b[0m \u001b[0;32mdef\u001b[0m \u001b[0malpha_diffmah\u001b[0m\u001b[0;34m(\u001b[0m\u001b[0mt\u001b[0m\u001b[0;34m,\u001b[0m \u001b[0mtau_c\u001b[0m\u001b[0;34m,\u001b[0m \u001b[0malpha_early\u001b[0m\u001b[0;34m,\u001b[0m \u001b[0malpha_late\u001b[0m\u001b[0;34m,\u001b[0m \u001b[0mk\u001b[0m\u001b[0;34m=\u001b[0m\u001b[0;36m3.5\u001b[0m\u001b[0;34m)\u001b[0m\u001b[0;34m:\u001b[0m\u001b[0;34m\u001b[0m\u001b[0;34m\u001b[0m\u001b[0m\n\u001b[1;32m     61\u001b[0m     \u001b[0;31m# t and tau_c in Gyrs\u001b[0m\u001b[0;34m\u001b[0m\u001b[0;34m\u001b[0m\u001b[0;34m\u001b[0m\u001b[0m\n\u001b[0;32m---> 62\u001b[0;31m     \u001b[0;32mreturn\u001b[0m \u001b[0malpha_early\u001b[0m \u001b[0;34m+\u001b[0m \u001b[0;34m(\u001b[0m\u001b[0malpha_late\u001b[0m \u001b[0;34m-\u001b[0m \u001b[0malpha_early\u001b[0m\u001b[0;34m)\u001b[0m \u001b[0;34m/\u001b[0m \u001b[0;34m(\u001b[0m\u001b[0;36m1\u001b[0m \u001b[0;34m+\u001b[0m \u001b[0mnp\u001b[0m\u001b[0;34m.\u001b[0m\u001b[0mexp\u001b[0m\u001b[0;34m(\u001b[0m\u001b[0;34m-\u001b[0m\u001b[0mk\u001b[0m \u001b[0;34m*\u001b[0m \u001b[0;34m(\u001b[0m\u001b[0mt\u001b[0m \u001b[0;34m-\u001b[0m \u001b[0mtau_c\u001b[0m\u001b[0;34m)\u001b[0m\u001b[0;34m)\u001b[0m\u001b[0;34m)\u001b[0m\u001b[0;34m\u001b[0m\u001b[0;34m\u001b[0m\u001b[0m\n\u001b[0m\u001b[1;32m     63\u001b[0m \u001b[0;34m\u001b[0m\u001b[0m\n\u001b[1;32m     64\u001b[0m \u001b[0;34m\u001b[0m\u001b[0m\n",
      "\u001b[0;31mValueError\u001b[0m: operands could not be broadcast together with shapes (165,) (10000,) "
     ]
    }
   ],
   "source": [
    "alpha_diffmah(t, cat['tau_c'], cat['alpha_early'], cat['alpha_late'])"
   ]
  },
  {
   "cell_type": "code",
   "execution_count": null,
   "metadata": {},
   "outputs": [],
   "source": []
  }
 ],
 "metadata": {
  "interpreter": {
   "hash": "c665bbecbce2453c0616a39da90e20c196b8615d78c34a72fb0270ae8f272d36"
  },
  "kernelspec": {
   "display_name": "Python 3.8.12 ('relaxed')",
   "language": "python",
   "name": "python3"
  },
  "language_info": {
   "codemirror_mode": {
    "name": "ipython",
    "version": 3
   },
   "file_extension": ".py",
   "mimetype": "text/x-python",
   "name": "python",
   "nbconvert_exporter": "python",
   "pygments_lexer": "ipython3",
   "version": "3.8.12"
  },
  "orig_nbformat": 4
 },
 "nbformat": 4,
 "nbformat_minor": 2
}
