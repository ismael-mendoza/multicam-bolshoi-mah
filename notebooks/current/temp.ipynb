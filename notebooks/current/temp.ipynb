{
 "cells": [
  {
   "cell_type": "code",
   "execution_count": 1,
   "metadata": {},
   "outputs": [
    {
     "name": "stdout",
     "output_type": "stream",
     "text": [
      "Modules to reload:\n",
      "all-except-skipped\n",
      "\n",
      "Modules to skip:\n",
      "\n"
     ]
    }
   ],
   "source": [
    "%load_ext autoreload\n",
    "%autoreload 2\n",
    "%aimport"
   ]
  },
  {
   "cell_type": "code",
   "execution_count": 8,
   "metadata": {},
   "outputs": [],
   "source": [
    "%matplotlib inline"
   ]
  },
  {
   "cell_type": "code",
   "execution_count": 2,
   "metadata": {},
   "outputs": [
    {
     "data": {
      "text/plain": [
       "<matplotlib.pyplot._IoffContext at 0x7f7fcb0bdb80>"
      ]
     },
     "execution_count": 2,
     "metadata": {},
     "output_type": "execute_result"
    }
   ],
   "source": [
    "#!/usr/bin/env python3\n",
    "from abc import ABC\n",
    "from abc import abstractmethod\n",
    "from collections import defaultdict\n",
    "from pathlib import Path\n",
    "from typing import Dict\n",
    "\n",
    "import corner\n",
    "import matplotlib as mpl\n",
    "import matplotlib.pyplot as plt\n",
    "import numpy as np\n",
    "from astropy import units as u\n",
    "\n",
    "from relaxed import plotting as rxplots\n",
    "from relaxed.correlations import add_box_indices\n",
    "from relaxed.correlations import get_2d_corr\n",
    "from relaxed.correlations import spearmanr\n",
    "from relaxed.correlations import vol_jacknife_err\n",
    "from relaxed.cosmo import get_a_from_t\n",
    "from relaxed.cosmo import get_fractional_tdyn\n",
    "from relaxed.cosmo import get_t_from_a\n",
    "from relaxed.fits import alpha_analysis\n",
    "from relaxed.fits import get_early_late\n",
    "from relaxed.gradients import get_savgol_grads\n",
    "from relaxed.mah import get_an_from_am\n",
    "from relaxed.mah import get_mah\n",
    "from relaxed.models import opcam_dict\n",
    "from relaxed.models import prepare_datasets\n",
    "from relaxed.models import training_suite\n",
    "from relaxed.plotting import CB_COLORS\n",
    "from relaxed.plotting import MARKS\n",
    "from relaxed.plotting import set_rc\n",
    "\n",
    "plt.ioff()"
   ]
  },
  {
   "cell_type": "code",
   "execution_count": 3,
   "metadata": {},
   "outputs": [],
   "source": [
    "mahdir = \"../../data/processed/bolshoi_m12\"\n",
    "mah_data = get_mah(mahdir, cutoff_missing=0.05, cutoff_particle=0.05, log_mbin_spacing=False)\n",
    "mass_bins = mah_data[\"mass_bins\"]\n",
    "am = mah_data[\"am\"]"
   ]
  },
  {
   "cell_type": "code",
   "execution_count": 4,
   "metadata": {},
   "outputs": [
    {
     "data": {
      "text/plain": [
       "array([0.01289893, 0.02286965, 0.03284037, 0.04281109, 0.05278181,\n",
       "       0.06275252, 0.07272324, 0.08269396, 0.09266468, 0.10263539,\n",
       "       0.11260611, 0.12257683, 0.13254755, 0.14251827, 0.15248898,\n",
       "       0.1624597 , 0.17243042, 0.18240114, 0.19237186, 0.20234257,\n",
       "       0.21231329, 0.22228401, 0.23225473, 0.24222544, 0.25219616,\n",
       "       0.26216688, 0.2721376 , 0.28210832, 0.29207903, 0.30204975,\n",
       "       0.31202047, 0.32199119, 0.33196191, 0.34193262, 0.35190334,\n",
       "       0.36187406, 0.37184478, 0.38181549, 0.39178621, 0.40175693,\n",
       "       0.41172765, 0.42169837, 0.43166908, 0.4416398 , 0.45161052,\n",
       "       0.46158124, 0.47155195, 0.48152267, 0.49149339, 0.50146411,\n",
       "       0.51143483, 0.52140554, 0.53137626, 0.54134698, 0.5513177 ,\n",
       "       0.56128842, 0.57125913, 0.58122985, 0.59120057, 0.60117129,\n",
       "       0.611142  , 0.62111272, 0.63108344, 0.64105416, 0.65102488,\n",
       "       0.66099559, 0.67096631, 0.68093703, 0.69090775, 0.70087846,\n",
       "       0.71084918, 0.7208199 , 0.73079062, 0.74076134, 0.75073205,\n",
       "       0.76070277, 0.77067349, 0.78064421, 0.79061493, 0.80058564,\n",
       "       0.81055636, 0.82052708, 0.8304978 , 0.84046851, 0.85043923,\n",
       "       0.86040995, 0.87038067, 0.88035139, 0.8903221 , 0.90029282,\n",
       "       0.91026354, 0.92023426, 0.93020498, 0.94017569, 0.95014641,\n",
       "       0.96011713, 0.97008785, 0.98005856, 0.99002928, 1.        ])"
      ]
     },
     "execution_count": 4,
     "metadata": {},
     "output_type": "execute_result"
    }
   ],
   "source": [
    "mass_bins"
   ]
  },
  {
   "cell_type": "code",
   "execution_count": 14,
   "metadata": {},
   "outputs": [
    {
     "data": {
      "text/plain": [
       "[<matplotlib.lines.Line2D at 0x7f7fb85a1310>]"
      ]
     },
     "execution_count": 14,
     "metadata": {},
     "output_type": "execute_result"
    },
    {
     "data": {
      "image/png": "[encoded data removed]",
      "text/plain": [
       "<Figure size 432x288 with 1 Axes>"
      ]
     },
     "metadata": {
      "needs_background": "light"
     },
     "output_type": "display_data"
    }
   ],
   "source": [
    "fig, ax = plt.subplots(1,1)\n",
    "ax.set_xticks([0, 0.3, 0.6, 0.9], labels=['$a$', 'b', 'c', 'd'])\n",
    "\n",
    "plt.plot(mass_bins, am[10, :])"
   ]
  },
  {
   "cell_type": "code",
   "execution_count": null,
   "metadata": {},
   "outputs": [],
   "source": [
    "import numpy as np\n",
    "import matplotlib.pyplot as plt\n",
    "\n",
    "alpha = ['ABC', 'DEF', 'GHI', 'JKL']\n",
    "\n",
    "data = np.random.random((4,4))\n",
    "\n",
    "fig = plt.figure()\n",
    "ax = fig.add_subplot(111)\n",
    "cax = ax.matshow(data, interpolation='nearest')\n",
    "fig.colorbar(cax)\n",
    "\n",
    "ax.set_xticklabels(['']+alpha)\n",
    "ax.set_yticklabels(['']+alpha)\n",
    "\n",
    "plt.show()"
   ]
  }
 ],
 "metadata": {
  "interpreter": {
   "hash": "01c569fa2bef52b9232592662de2ae74ad9fad1759f17bf040ca2ba928d66ba7"
  },
  "kernelspec": {
   "display_name": "Python 3.8.13 ('relaxed38')",
   "language": "python",
   "name": "python3"
  },
  "language_info": {
   "codemirror_mode": {
    "name": "ipython",
    "version": 3
   },
   "file_extension": ".py",
   "mimetype": "text/x-python",
   "name": "python",
   "nbconvert_exporter": "python",
   "pygments_lexer": "ipython3",
   "version": "3.8.13"
  },
  "orig_nbformat": 4
 },
 "nbformat": 4,
 "nbformat_minor": 2
}
