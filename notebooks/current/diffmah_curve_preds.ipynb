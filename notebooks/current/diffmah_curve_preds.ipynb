{
 "cells": [
  {
   "cell_type": "code",
   "execution_count": 13,
   "metadata": {},
   "outputs": [
    {
     "name": "stdout",
     "output_type": "stream",
     "text": [
      "The autoreload extension is already loaded. To reload it, use:\n",
      "  %reload_ext autoreload\n",
      "Modules to reload:\n",
      "all-except-skipped\n",
      "\n",
      "Modules to skip:\n",
      "\n"
     ]
    }
   ],
   "source": [
    "%load_ext autoreload\n",
    "%autoreload 2\n",
    "%aimport\n",
    "%matplotlib inline\n",
    "\n",
    "import numpy as np\n",
    "\n",
    "from relaxed.fits import get_early_late\n",
    "from relaxed.mah import get_mah\n",
    "from relaxed.models import opcam_dict\n",
    "from relaxed.models import prepare_datasets\n",
    "from relaxed.models import training_suite\n",
    "import relaxed.plotting as rxplots"
   ]
  },
  {
   "cell_type": "code",
   "execution_count": 14,
   "metadata": {},
   "outputs": [],
   "source": [
    "params = (\"cvir\", \"cvir_klypin\", \"t/|u|\", \"x0\", \"b_to_a\", \"c_to_a\", \"spin_bullock\")\n",
    "mah_data = get_mah(\"../../data/processed/bolshoi_m12\", cutoff_missing=0.05, cutoff_particle=0.05)\n",
    "\n",
    "cat = mah_data[\"cat\"]\n",
    "ma = mah_data[\"ma\"]\n",
    "am = mah_data[\"am\"]\n",
    "scales = mah_data[\"scales\"]\n",
    "mass_bins = mah_data[\"mass_bins\"]\n",
    "\n",
    "# prepare catalog with all m_a\n",
    "ma_names = [f\"ma_{ii}\" for ii in range(len(scales))]\n",
    "for ii in range(len(scales)):\n",
    "    cat.add_column(ma[:, ii], name=ma_names[ii])\n",
    "\n",
    "# prepare catalog with all a_m\n",
    "am_names = [f\"am_{ii}\" for ii in range(len(mass_bins))]\n",
    "for ii in range(len(mass_bins)):\n",
    "    cat.add_column(am[:, ii], name=am_names[ii])\n",
    "\n",
    "\n",
    "\n",
    "# load diffmah fits parameters\n",
    "pars = np.load('../../data/processed/pbest_diffmah.npy')\n",
    "logtc, ue, ul = pars[:, 0], pars[:, 1], pars[:, 2]\n",
    "early, late = get_early_late(ue, ul)\n",
    "cat.add_column(10**logtc, name=\"tau_c\")\n",
    "cat.add_column(early, name=\"alpha_early\")\n",
    "cat.add_column(late, name=\"alpha_late\")\n",
    "\n"
   ]
  },
  {
   "cell_type": "code",
   "execution_count": 15,
   "metadata": {},
   "outputs": [],
   "source": [
    "# load diffmah fits curves.\n",
    "diffmah_curves = np.load('../../data/processed/diffmah_fits.npy')\n",
    "ma_diffmah_names = [f\"ma_diffmah_{ii}\" for ii in range(len(scales))]\n",
    "for ii in range(len(scales)):\n",
    "    cat.add_column(diffmah_curves[:, ii], name=ma_diffmah_names[ii])"
   ]
  },
  {
   "cell_type": "code",
   "execution_count": 16,
   "metadata": {},
   "outputs": [],
   "source": [
    "\n",
    "info = {\n",
    "    \"ma\": {\n",
    "        \"x\": ma_names,\n",
    "        \"y\": params,\n",
    "    },\n",
    "    \"am\": { \n",
    "        'x': am_names, \n",
    "        'y': params,\n",
    "    },\n",
    "    \"diffmah_curves\": {\n",
    "        \"x\": ma_diffmah_names,\n",
    "        \"y\": params,\n",
    "    },\n",
    "    \"diffmah_params\": {\n",
    "        \"x\": (\"tau_c\", \"alpha_early\", \"alpha_late\"),\n",
    "        \"y\": params,\n",
    "    },\n",
    "}\n",
    "datasets, _, cat_test = prepare_datasets(cat, info)\n",
    "\n",
    "data = {\n",
    "    \"multicam_ma\": {\n",
    "        \"xy\": datasets[\"ma\"][\"train\"],\n",
    "        \"n_features\": 165,\n",
    "        \"n_targets\": len(params),\n",
    "        \"model\": \"linear\",\n",
    "        \"kwargs\": {\"to_marginal_normal\": True, \"use_multicam\": True},\n",
    "    },\n",
    "    \"multicam_am\": {\n",
    "        \"xy\": datasets[\"am\"][\"train\"],\n",
    "        \"n_features\": 100,\n",
    "        \"n_targets\": len(params),\n",
    "        \"model\": \"linear\",\n",
    "        \"kwargs\": {\"to_marginal_normal\": True, \"use_multicam\": True},\n",
    "    },\n",
    "    \"multicam_diffmah_curves\": {\n",
    "        \"xy\": datasets[\"diffmah_curves\"][\"train\"],\n",
    "        \"n_features\": 165,\n",
    "        \"n_targets\": len(params),\n",
    "        \"model\": \"linear\",\n",
    "        \"kwargs\": {\"to_marginal_normal\": True, \"use_multicam\": True},\n",
    "    },\n",
    "    \"multicam_diffmah_params\": {\n",
    "        \"xy\": datasets[\"diffmah_params\"][\"train\"],\n",
    "        \"n_features\": 3,\n",
    "        \"n_targets\": len(params),\n",
    "        \"model\": \"linear\",\n",
    "        \"kwargs\": {\"to_marginal_normal\": True, \"use_multicam\": True},\n",
    "    },\n",
    "    \"mixed_cam\": {\n",
    "        \"xy\": datasets[\"am\"][\"train\"],\n",
    "        \"n_features\": 100,\n",
    "        \"n_targets\": len(params),\n",
    "        \"model\": \"mixed_cam\",\n",
    "        \"kwargs\": {\n",
    "            \"mass_bins\": mass_bins,\n",
    "            \"opt_mbins\": [opcam_dict[param][\"mbin\"] for param in params],\n",
    "            \"cam_orders\": [opcam_dict[param][\"order\"] for param in params],\n",
    "        },\n",
    "    },\n",
    "}\n",
    "models = training_suite(data)\n",
    "\n"
   ]
  },
  {
   "cell_type": "code",
   "execution_count": 18,
   "metadata": {},
   "outputs": [
    {
     "name": "stderr",
     "output_type": "stream",
     "text": [
      "/var/folders/yl/5w7yl6bn1tsc5fjrdtsrsjhh0000gn/T/ipykernel_52486/3008691050.py:48: UserWarning: Matplotlib is currently using module://matplotlib_inline.backend_inline, which is a non-GUI backend, so cannot show the figure.\n",
      "  fig.show()\n"
     ]
    },
    {
     "data": {
      "image/png": "[encoded data removed]",
      "text/plain": [
       "<Figure size 720x720 with 1 Axes>"
      ]
     },
     "metadata": {
      "needs_background": "light"
     },
     "output_type": "display_data"
    }
   ],
   "source": [
    "metrics_data = {\n",
    "    \"spear\": {\"yrange\": (0.3, 0.85)},\n",
    "    # \"rscatter\": {\"yrange\": (0.3, 1.0)},\n",
    "    # \"sigma_ratio\": {\"yrange\": (0.8, 1.2), \"hline\": 1.0},\n",
    "    # \"mu\": {\"yrange\": (-0.2, 0.2), \"hline\": 0.0},\n",
    "}\n",
    "\n",
    "markers = [\"o\", \"v\", \"^\", \"D\", \"*\"]\n",
    "test_data = {\n",
    "    \"multicam_ma\": (datasets[\"ma\"][\"test\"][0], r\"\\rm MultiCAM $m(a)$\", rxplots.cb_colors[0], markers[0]),\n",
    "    # \"multicam_am\": (datasets[\"am\"][\"test\"][0], r\"\\rm MultiCAM $a(m)$\", rxplots.cb_colors[-1], markers[-1]),\n",
    "    \"multicam_diffmah_curves\": (\n",
    "        datasets[\"diffmah_curves\"][\"test\"][0],\n",
    "        r\"\\rm MultiCAM DiffMAH $m(a)$ curves\",\n",
    "        rxplots.cb_colors[1],\n",
    "        markers[1],\n",
    "    ),\n",
    "    \"multicam_diffmah_params\": (\n",
    "        datasets[\"diffmah_params\"][\"test\"][0],\n",
    "        r\"\\rm MultiCAM DiffMAH parameters\",\n",
    "        rxplots.cb_colors[2],\n",
    "        markers[2],\n",
    "    ),\n",
    "    \"mixed_cam\": (\n",
    "        datasets[\"am\"][\"test\"][0],\n",
    "        r\"\\rm CAM $a_{\\rm opt}$\",\n",
    "        rxplots.cb_colors[3],\n",
    "        markers[3],\n",
    "    ),\n",
    "}\n",
    "\n",
    "\n",
    "fig = rxplots.metrics_plot(\n",
    "    metrics_data,\n",
    "    test_data,\n",
    "    models,\n",
    "    cat_test,\n",
    "    params=params,\n",
    "    ncols=1,\n",
    "    nrows=1,\n",
    "    figsize=(10, 10),\n",
    "    ticksize=28,\n",
    "    y_label_size=32,\n",
    "    bbox_to_anchor=(0.0, 1.0, 0.45, 0.45),\n",
    "    ms=8\n",
    ")\n",
    "\n",
    "fig.show()"
   ]
  },
  {
   "cell_type": "code",
   "execution_count": null,
   "metadata": {},
   "outputs": [],
   "source": []
  },
  {
   "cell_type": "code",
   "execution_count": null,
   "metadata": {},
   "outputs": [],
   "source": []
  },
  {
   "cell_type": "code",
   "execution_count": null,
   "metadata": {},
   "outputs": [],
   "source": []
  },
  {
   "cell_type": "code",
   "execution_count": null,
   "metadata": {},
   "outputs": [],
   "source": []
  }
 ],
 "metadata": {
  "interpreter": {
   "hash": "3011f7556c1a8939227339fe6eb5c0a15712bb25947c847837d8cafda1cd3867"
  },
  "kernelspec": {
   "display_name": "Python 3.8.10 ('nbody-relaxed-NAcJ5UAP-py3.8')",
   "language": "python",
   "name": "python3"
  },
  "language_info": {
   "codemirror_mode": {
    "name": "ipython",
    "version": 3
   },
   "file_extension": ".py",
   "mimetype": "text/x-python",
   "name": "python",
   "nbconvert_exporter": "python",
   "pygments_lexer": "ipython3",
   "version": "3.8.13"
  },
  "orig_nbformat": 4
 },
 "nbformat": 4,
 "nbformat_minor": 2
}
