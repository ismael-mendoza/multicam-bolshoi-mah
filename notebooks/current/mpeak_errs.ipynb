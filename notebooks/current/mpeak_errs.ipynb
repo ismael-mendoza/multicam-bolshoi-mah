{
 "cells": [
  {
   "cell_type": "code",
   "execution_count": 1,
   "metadata": {},
   "outputs": [
    {
     "name": "stdout",
     "output_type": "stream",
     "text": [
      "Modules to reload:\n",
      "all-except-skipped\n",
      "\n",
      "Modules to skip:\n",
      "\n"
     ]
    }
   ],
   "source": [
    "%load_ext autoreload\n",
    "%autoreload 2\n",
    "%aimport"
   ]
  },
  {
   "cell_type": "code",
   "execution_count": 40,
   "metadata": {},
   "outputs": [],
   "source": [
    "%matplotlib inline"
   ]
  },
  {
   "cell_type": "code",
   "execution_count": 41,
   "metadata": {},
   "outputs": [],
   "source": [
    "#!/usr/bin/env python3\n",
    "from abc import ABC\n",
    "from abc import abstractmethod\n",
    "from collections import defaultdict\n",
    "from pathlib import Path\n",
    "from typing import Dict\n",
    "\n",
    "import corner\n",
    "import matplotlib as mpl\n",
    "import matplotlib.pyplot as plt\n",
    "import numpy as np\n",
    "from astropy import units as u\n",
    "\n",
    "from relaxed import plotting as rxplots\n",
    "from relaxed.correlations import add_box_indices\n",
    "from relaxed.correlations import get_2d_corr\n",
    "from relaxed.correlations import spearmanr\n",
    "from relaxed.correlations import vol_jacknife_err\n",
    "from relaxed.cosmo import get_a_from_t\n",
    "from relaxed.cosmo import get_fractional_tdyn\n",
    "from relaxed.cosmo import get_t_from_a\n",
    "from relaxed.fits import alpha_analysis\n",
    "from relaxed.fits import get_early_late\n",
    "from relaxed.gradients import get_savgol_grads\n",
    "from relaxed.mah import get_an_from_am\n",
    "from relaxed.mah import get_mah\n",
    "from relaxed.models import opcam_dict\n",
    "from relaxed.models import prepare_datasets\n",
    "from relaxed.models import training_suite\n",
    "from relaxed.plotting import CB_COLORS\n",
    "from relaxed.plotting import MARKS\n",
    "from relaxed.plotting import set_rc"
   ]
  },
  {
   "cell_type": "code",
   "execution_count": 42,
   "metadata": {},
   "outputs": [],
   "source": [
    "mahdir = \"../../data/processed/bolshoi_m12\"\n",
    "mah_data = get_mah(mahdir, cutoff_missing=0.05, cutoff_particle=0.05, log_mbin_spacing=False)"
   ]
  },
  {
   "cell_type": "code",
   "execution_count": 43,
   "metadata": {},
   "outputs": [],
   "source": [
    "params = (\"cvir\", \"t/|u|\", \"x0\", \"spin_bullock\", \"c_to_a\")"
   ]
  },
  {
   "cell_type": "code",
   "execution_count": 44,
   "metadata": {},
   "outputs": [],
   "source": [
    "cat = mah_data[\"cat\"]\n",
    "ma = mah_data[\"ma_peak\"]\n",
    "am = mah_data[\"am\"]\n",
    "mass_bins = mah_data[\"mass_bins\"][:-1]  # remove last bin to avoid spearman error.\n",
    "scales = mah_data[\"scales\"][:-1]  # same for scales.\n",
    "n_mbins = len(mass_bins)\n",
    "n_scales = len(scales)\n",
    "add_box_indices(cat)\n",
    "\n",
    "# prepare catalog with all m_a\n",
    "ma_names = [f\"ma_{ii}\" for ii in range(len(scales))]\n",
    "for ii in range(len(scales)):\n",
    "    cat.add_column(ma[:, ii], name=ma_names[ii])\n",
    "\n",
    "# prepare catalog with all a(m)\n",
    "am_names = [f\"am_{ii}\" for ii in range(len(mass_bins))]\n",
    "for ii in range(len(mass_bins)):\n",
    "    cat.add_column(am[:, ii], name=am_names[ii])\n",
    "\n",
    "# prepare datasets\n",
    "info = {\n",
    "    \"cvir_only\": {\"x\": (\"cvir\",), \"y\": am_names + ma_names},\n",
    "    \"x0_only\": {\"x\": (\"x0\",), \"y\": am_names + ma_names},\n",
    "    \"tu_only\": {\"x\": (\"t/|u|\",), \"y\": am_names + ma_names},\n",
    "    \"all\": {\"x\": params, \"y\": am_names + ma_names},\n",
    "}\n",
    "datasets, _, cat_test = prepare_datasets(cat, info)\n",
    "\n",
    "# train models\n",
    "data = {\n",
    "    \"linear_cvir\": {\n",
    "        \"xy\": datasets[\"cvir_only\"][\"train\"],\n",
    "        \"n_features\": 1,\n",
    "        \"n_targets\": n_mbins + n_scales,\n",
    "        \"model\": \"linear\",\n",
    "        \"kwargs\": {\"to_marginal_normal\": False, \"use_multicam\": False},\n",
    "    },\n",
    "    \"normalized_cvir\": {\n",
    "        \"xy\": datasets[\"cvir_only\"][\"train\"],\n",
    "        \"n_features\": 1,\n",
    "        \"n_targets\": n_mbins + n_scales,\n",
    "        \"model\": \"linear\",\n",
    "        \"kwargs\": {\"to_marginal_normal\": True, \"use_multicam\": False},\n",
    "    },\n",
    "    \"multicam_cvir\": {\n",
    "        \"xy\": datasets[\"cvir_only\"][\"train\"],\n",
    "        \"n_features\": 1,\n",
    "        \"n_targets\": n_mbins + n_scales,\n",
    "        \"model\": \"linear\",\n",
    "        \"kwargs\": {\"to_marginal_normal\": True, \"use_multicam\": True},\n",
    "    },\n",
    "    \"not_norm_multicam_cvir\": {\n",
    "        \"xy\": datasets[\"cvir_only\"][\"train\"],\n",
    "        \"n_features\": 1,\n",
    "        \"n_targets\": n_mbins + n_scales,\n",
    "        \"model\": \"linear\",\n",
    "        \"kwargs\": {\"to_marginal_normal\": False, \"use_multicam\": True},\n",
    "    },\n",
    "    # \"linear_x0\": {\n",
    "    #     \"xy\": datasets[\"x0_only\"][\"train\"],\n",
    "    #     \"n_features\": 1,\n",
    "    #     \"n_targets\": n_mbins + n_scales,\n",
    "    #     \"model\": \"linear\",\n",
    "    #     \"kwargs\": {\"to_marginal_normal\": True, \"use_multicam\": True},\n",
    "    # },\n",
    "    # \"linear_tu\": {\n",
    "    #     \"xy\": datasets[\"tu_only\"][\"train\"],\n",
    "    #     \"n_features\": 1,\n",
    "    #     \"n_targets\": n_mbins + n_scales,\n",
    "    #     \"model\": \"linear\",\n",
    "    #     \"kwargs\": {\"to_marginal_normal\": True, \"use_multicam\": True},\n",
    "    # },\n",
    "    # \"linear_all\": {\n",
    "    #     \"xy\": datasets[\"all\"][\"train\"],\n",
    "    #     \"n_features\": len(params),\n",
    "    #     \"n_targets\": n_mbins + n_scales,\n",
    "    #     \"model\": \"linear\",\n",
    "    #     \"kwargs\": {\"to_marginal_normal\": True, \"use_multicam\": True},\n",
    "    # },\n",
    "}\n",
    "models = training_suite(data)"
   ]
  },
  {
   "cell_type": "code",
   "execution_count": 45,
   "metadata": {},
   "outputs": [
    {
     "name": "stderr",
     "output_type": "stream",
     "text": [
      "/Users/imendoza/miniconda3/envs/relaxed38/lib/python3.8/site-packages/scipy/stats/stats.py:4484: SpearmanRConstantInputWarning: An input array is constant; the correlation coefficient is not defined.\n",
      "  warnings.warn(SpearmanRConstantInputWarning())\n",
      "/Users/imendoza/miniconda3/envs/relaxed38/lib/python3.8/site-packages/scipy/stats/stats.py:4484: SpearmanRConstantInputWarning: An input array is constant; the correlation coefficient is not defined.\n",
      "  warnings.warn(SpearmanRConstantInputWarning())\n"
     ]
    }
   ],
   "source": [
    "corrs_am = defaultdict(lambda: np.zeros(n_mbins))\n",
    "errs_am = defaultdict(lambda: np.zeros(n_mbins))\n",
    "corrs_ma = defaultdict(lambda: np.zeros(n_scales))\n",
    "errs_ma = defaultdict(lambda: np.zeros(n_scales))\n",
    "dataset_names = [\n",
    "\"cvir_only\", \n",
    "\"cvir_only\", \n",
    "\"cvir_only\", \n",
    "\"cvir_only\", \n",
    "# \"x0_only\",\n",
    "#  \"tu_only\", \n",
    "#  \"all\"\n",
    " ]\n",
    "mdl_names = [\n",
    "\"linear_cvir\", \n",
    "'normalized_cvir', \n",
    "'multicam_cvir',\n",
    "\"not_norm_multicam_cvir\",\n",
    "# \"linear_all\"\n",
    "]\n",
    "ibox = cat_test[\"ibox\"]  # need it for errors.\n",
    "for dataset_names, mdl_name in zip(dataset_names, mdl_names):\n",
    "    model = models[mdl_name]\n",
    "    x_test, y_test = datasets[dataset_names][\"test\"]\n",
    "    y_pred = model.predict(x_test)\n",
    "\n",
    "    for jj in range(n_mbins):\n",
    "        y1 = y_pred[:, jj]\n",
    "        y2 = y_test[:, jj]\n",
    "        corrs_am[mdl_name][jj] = spearmanr(y1, y2)\n",
    "        errs_am[mdl_name][jj] = vol_jacknife_err(y1, y2, ibox, spearmanr)\n",
    "\n",
    "    for jj in range(n_scales):\n",
    "        y1 = y_pred[:, jj + n_mbins]\n",
    "        y2 = y_test[:, jj + n_mbins]\n",
    "        corrs_ma[mdl_name][jj] = spearmanr(y1, y2)\n",
    "        errs_ma[mdl_name][jj] = vol_jacknife_err(y1, y2, ibox, spearmanr)"
   ]
  },
  {
   "cell_type": "code",
   "execution_count": 50,
   "metadata": {},
   "outputs": [
    {
     "data": {
      "text/plain": [
       "(array([1.000e+00, 0.000e+00, 1.000e+00, 4.000e+00, 7.000e+00, 9.000e+00,\n",
       "        1.600e+01, 3.000e+01, 9.800e+01, 2.834e+03]),\n",
       " array([0.45685087, 0.51116578, 0.56548069, 0.61979561, 0.67411052,\n",
       "        0.72842543, 0.78274035, 0.83705526, 0.89137017, 0.94568509,\n",
       "        1.        ]),\n",
       " <BarContainer object of 10 artists>)"
      ]
     },
     "execution_count": 50,
     "metadata": {},
     "output_type": "execute_result"
    },
    {
     "data": {
      "image/png": "[encoded data removed]",
      "text/plain": [
       "<Figure size 432x288 with 1 Axes>"
      ]
     },
     "metadata": {
      "needs_background": "light"
     },
     "output_type": "display_data"
    }
   ],
   "source": [
    "plt.hist(y_pred[:, -10])"
   ]
  },
  {
   "cell_type": "code",
   "execution_count": 23,
   "metadata": {},
   "outputs": [
    {
     "data": {
      "text/plain": [
       "<matplotlib.collections.PathCollection at 0x7facd4de7a00>"
      ]
     },
     "execution_count": 23,
     "metadata": {},
     "output_type": "execute_result"
    },
    {
     "data": {
      "image/png": "[encoded data removed]",
      "text/plain": [
       "<Figure size 720x504 with 1 Axes>"
      ]
     },
     "metadata": {
      "needs_background": "light"
     },
     "output_type": "display_data"
    }
   ],
   "source": [
    "plt.figure(figsize=(10,7))\n",
    "plt.scatter(mass_bins, corrs_am['linear_cvir'], marker='+', c='r', alpha=1, s=200)\n",
    "plt.scatter(mass_bins, corrs_am['normalized_cvir'], marker='x', c='g', alpha=1, s=200)\n",
    "plt.scatter(mass_bins, corrs_am['multicam_cvir'], c='b',alpha=1)"
   ]
  },
  {
   "cell_type": "code",
   "execution_count": 49,
   "metadata": {},
   "outputs": [
    {
     "data": {
      "text/plain": [
       "[<matplotlib.lines.Line2D at 0x7facf3a8fc40>]"
      ]
     },
     "execution_count": 49,
     "metadata": {},
     "output_type": "execute_result"
    },
    {
     "data": {
      "image/png": "[encoded data removed]",
      "text/plain": [
       "<Figure size 720x504 with 1 Axes>"
      ]
     },
     "metadata": {
      "needs_background": "light"
     },
     "output_type": "display_data"
    }
   ],
   "source": [
    "plt.figure(figsize=(10,7))\n",
    "plt.plot(scales, corrs_ma['linear_cvir'], 'r-o')\n",
    "plt.plot(scales, corrs_ma['normalized_cvir'], 'g-x' )\n",
    "plt.plot(scales, corrs_ma['multicam_cvir'], 'b-+')\n",
    "plt.plot(scales, corrs_ma['not_norm_multicam_cvir'], 'm-^')"
   ]
  },
  {
   "cell_type": "code",
   "execution_count": 90,
   "metadata": {},
   "outputs": [
    {
     "data": {
      "text/plain": [
       "<matplotlib.collections.PathCollection at 0x7f9fec27a3a0>"
      ]
     },
     "execution_count": 90,
     "metadata": {},
     "output_type": "execute_result"
    },
    {
     "data": {
      "image/png": "[encoded data removed]",
      "text/plain": [
       "<Figure size 432x288 with 1 Axes>"
      ]
     },
     "metadata": {
      "needs_background": "light"
     },
     "output_type": "display_data"
    }
   ],
   "source": [
    "plt.scatter(scales, np.sum( y_pred[:, n_mbins:] == 1.0, axis=0) / len(y_pred[:, n_mbins:]))"
   ]
  },
  {
   "cell_type": "code",
   "execution_count": 82,
   "metadata": {},
   "outputs": [
    {
     "data": {
      "text/plain": [
       "<matplotlib.collections.PathCollection at 0x7f9fec2ee4f0>"
      ]
     },
     "execution_count": 82,
     "metadata": {},
     "output_type": "execute_result"
    },
    {
     "data": {
      "image/png": "[encoded data removed]",
      "text/plain": [
       "<Figure size 432x288 with 1 Axes>"
      ]
     },
     "metadata": {
      "needs_background": "light"
     },
     "output_type": "display_data"
    }
   ],
   "source": [
    "plt.scatter(scales, np.sum( y_test[:, n_mbins:] == 1.0, axis=0) / len(y_pred[:, n_mbins:]))"
   ]
  },
  {
   "cell_type": "code",
   "execution_count": 83,
   "metadata": {},
   "outputs": [
    {
     "data": {
      "text/plain": [
       "<matplotlib.collections.PathCollection at 0x7fa06e0f8d90>"
      ]
     },
     "execution_count": 83,
     "metadata": {},
     "output_type": "execute_result"
    },
    {
     "data": {
      "image/png": "[encoded data removed]",
      "text/plain": [
       "<Figure size 432x288 with 1 Axes>"
      ]
     },
     "metadata": {
      "needs_background": "light"
     },
     "output_type": "display_data"
    }
   ],
   "source": [
    "plt.scatter(scales, np.sum( datasets['cvir_only']['train'][1][:, n_mbins:] == 1.0, axis=0) / len(y_pred[:, n_mbins:]))"
   ]
  },
  {
   "cell_type": "markdown",
   "metadata": {},
   "source": [
    "# Check where we fail"
   ]
  },
  {
   "cell_type": "code",
   "execution_count": 129,
   "metadata": {},
   "outputs": [
    {
     "data": {
      "text/plain": [
       "(array([3.132e+03, 6.351e+03, 4.570e+02, 3.500e+01, 1.500e+01, 8.000e+00,\n",
       "        1.000e+00, 0.000e+00, 0.000e+00, 1.000e+00]),\n",
       " array([ 1.01379073,  7.65827271, 14.30275469, 20.94723667, 27.59171865,\n",
       "        34.23620063, 40.88068261, 47.52516459, 54.16964657, 60.81412855,\n",
       "        67.45861053]),\n",
       " <BarContainer object of 10 artists>)"
      ]
     },
     "execution_count": 129,
     "metadata": {},
     "output_type": "execute_result"
    },
    {
     "data": {
      "image/png": "[encoded data removed]",
      "text/plain": [
       "<Figure size 504x504 with 1 Axes>"
      ]
     },
     "metadata": {
      "needs_background": "light"
     },
     "output_type": "display_data"
    }
   ],
   "source": [
    "plt.figure(figsize=(7,7))\n",
    "plt.hist(cat['cvir'])"
   ]
  },
  {
   "cell_type": "markdown",
   "metadata": {},
   "source": [
    "## only normalization"
   ]
  },
  {
   "cell_type": "code",
   "execution_count": 138,
   "metadata": {},
   "outputs": [],
   "source": [
    "idx = np.where(scales > 0.95)[0][0]\n",
    "\n",
    "y = ma[:, idx].reshape(-1, 1)\n",
    "x = cat['cvir'].reshape(-1, 1)\n",
    "\n",
    "from sklearn.preprocessing import QuantileTransformer\n",
    "\n",
    "qt_y = QuantileTransformer(n_quantiles=len(y), output_distribution=\"normal\")\n",
    "qt_y = qt_y.fit(y)\n",
    "\n",
    "qt_x = QuantileTransformer(n_quantiles=len(x), output_distribution=\"normal\")\n",
    "qt_x = qt_x.fit(x)\n",
    "\n",
    "from sklearn import linear_model\n",
    "_x, _y = qt_x.transform(x), qt_y.transform(y)\n",
    "mdl = linear_model.LinearRegression().fit(_x, _y)\n",
    "_y_pred = mdl.predict(_x)\n",
    "y_pred = qt_y.inverse_transform(_y_pred)"
   ]
  },
  {
   "cell_type": "code",
   "execution_count": 139,
   "metadata": {},
   "outputs": [
    {
     "data": {
      "text/plain": [
       "(array([1.000e+00, 9.000e+00, 1.780e+02, 1.304e+03, 3.508e+03, 1.776e+03,\n",
       "        0.000e+00, 0.000e+00, 0.000e+00, 3.224e+03]),\n",
       " array([-5.19933758e+00, -4.15947007e+00, -3.11960255e+00, -2.07973503e+00,\n",
       "        -1.03986752e+00,  4.89217555e-11,  1.03986752e+00,  2.07973503e+00,\n",
       "         3.11960255e+00,  4.15947007e+00,  5.19933758e+00]),\n",
       " <BarContainer object of 10 artists>)"
      ]
     },
     "execution_count": 139,
     "metadata": {},
     "output_type": "execute_result"
    },
    {
     "data": {
      "image/png": "[encoded data removed]",
      "text/plain": [
       "<Figure size 1296x504 with 3 Axes>"
      ]
     },
     "metadata": {
      "needs_background": "light"
     },
     "output_type": "display_data"
    }
   ],
   "source": [
    "fig, (ax1, ax2, ax3) = plt.subplots(1, 3, figsize=(18, 7))\n",
    "\n",
    "ax1.hist(y)\n",
    "ax2.hist(y_pred)\n",
    "ax3.hist(_y)"
   ]
  },
  {
   "cell_type": "markdown",
   "metadata": {},
   "source": [
    "## Just linear regression"
   ]
  },
  {
   "cell_type": "code",
   "execution_count": 136,
   "metadata": {},
   "outputs": [],
   "source": [
    "idx = np.where(scales > 0.95)[0][0]\n",
    "y = ma[:, idx].reshape(-1, 1)\n",
    "x = cat['cvir'].reshape(-1, 1)\n",
    "\n",
    "from sklearn import linear_model\n",
    "mdl = linear_model.LinearRegression().fit(x, y)\n",
    "y_pred = mdl.predict(x)\n"
   ]
  },
  {
   "cell_type": "code",
   "execution_count": 137,
   "metadata": {},
   "outputs": [
    {
     "data": {
      "text/plain": [
       "(array([3.132e+03, 6.351e+03, 4.570e+02, 3.500e+01, 1.500e+01, 8.000e+00,\n",
       "        1.000e+00, 0.000e+00, 0.000e+00, 1.000e+00]),\n",
       " array([0.94430425, 0.96863099, 0.99295772, 1.01728445, 1.04161118,\n",
       "        1.06593792, 1.09026465, 1.11459138, 1.13891812, 1.16324485,\n",
       "        1.18757158]),\n",
       " <BarContainer object of 10 artists>)"
      ]
     },
     "execution_count": 137,
     "metadata": {},
     "output_type": "execute_result"
    },
    {
     "data": {
      "image/png": "[encoded data removed]",
      "text/plain": [
       "<Figure size 1080x504 with 2 Axes>"
      ]
     },
     "metadata": {
      "needs_background": "light"
     },
     "output_type": "display_data"
    }
   ],
   "source": [
    "fig, (ax1, ax2) = plt.subplots(1, 2, figsize=(15, 7))\n",
    "\n",
    "ax1.hist(y)\n",
    "ax2.hist(y_pred)"
   ]
  },
  {
   "cell_type": "markdown",
   "metadata": {},
   "source": [
    "## multicam"
   ]
  },
  {
   "cell_type": "code",
   "execution_count": 134,
   "metadata": {},
   "outputs": [],
   "source": [
    "idx = np.where(scales > 0.95)[0][0]\n",
    "\n",
    "y = ma[:, idx].reshape(-1, 1)\n",
    "x = cat['cvir'].reshape(-1, 1)\n",
    "\n",
    "from sklearn.preprocessing import QuantileTransformer\n",
    "\n",
    "qt_y = QuantileTransformer(n_quantiles=len(y), output_distribution=\"normal\")\n",
    "qt_y = qt_y.fit(y)\n",
    "\n",
    "qt_x = QuantileTransformer(n_quantiles=len(x), output_distribution=\"normal\")\n",
    "qt_x = qt_x.fit(x)\n",
    "\n",
    "\n",
    "from sklearn import linear_model\n",
    "_x, _y = qt_x.transform(x), qt_y.transform(y)\n",
    "mdl = linear_model.LinearRegression().fit(_x, _y)\n",
    "_y_pred1 = mdl.predict(_x)\n",
    "y_pred1 = qt_y.inverse_transform(_y_pred1)\n",
    "\n",
    "qt_pred = QuantileTransformer(n_quantiles=len(y_pred1), output_distribution='normal')\n",
    "qt_pred = qt_pred.fit(y_pred1)\n",
    "_y_pred = qt_pred.transform(y_pred1)\n",
    "y_pred = qt_y.inverse_transform(_y_pred)"
   ]
  },
  {
   "cell_type": "code",
   "execution_count": 135,
   "metadata": {},
   "outputs": [
    {
     "data": {
      "text/plain": [
       "(array([    0.,     0.,     0.,     0.,     0., 10000.,     0.,     0.,\n",
       "            0.,     0.]),\n",
       " array([0.5, 0.6, 0.7, 0.8, 0.9, 1. , 1.1, 1.2, 1.3, 1.4, 1.5]),\n",
       " <BarContainer object of 10 artists>)"
      ]
     },
     "execution_count": 135,
     "metadata": {},
     "output_type": "execute_result"
    },
    {
     "data": {
      "image/png": "[encoded data removed]",
      "text/plain": [
       "<Figure size 1584x504 with 3 Axes>"
      ]
     },
     "metadata": {
      "needs_background": "light"
     },
     "output_type": "display_data"
    }
   ],
   "source": [
    "fig, (ax1, ax2, ax3) = plt.subplots(1, 3, figsize=(22, 7))\n",
    "\n",
    "ax1.hist(y)\n",
    "ax2.hist(y_pred)\n",
    "ax3.hist(y_pred1)"
   ]
  },
  {
   "cell_type": "markdown",
   "metadata": {},
   "source": [
    "## Multicam (no normalization)"
   ]
  },
  {
   "cell_type": "code",
   "execution_count": 140,
   "metadata": {},
   "outputs": [],
   "source": [
    "idx = np.where(scales > 0.95)[0][0]\n",
    "\n",
    "y = ma[:, idx].reshape(-1, 1)\n",
    "x = cat['cvir'].reshape(-1, 1)\n",
    "\n",
    "from sklearn.preprocessing import QuantileTransformer\n",
    "from sklearn import linear_model\n",
    "\n",
    "qt_y = QuantileTransformer(n_quantiles=len(y), output_distribution=\"normal\")\n",
    "qt_y = qt_y.fit(y)\n",
    "\n",
    "mdl = linear_model.LinearRegression().fit(x, y)\n",
    "y_pred1 = mdl.predict(x)\n",
    "\n",
    "qt_pred = QuantileTransformer(n_quantiles=len(y_pred1), output_distribution='normal')\n",
    "qt_pred = qt_pred.fit(y_pred1)\n",
    "_y_pred = qt_pred.transform(y_pred1)\n",
    "y_pred = qt_y.inverse_transform(_y_pred)"
   ]
  },
  {
   "cell_type": "code",
   "execution_count": 141,
   "metadata": {},
   "outputs": [
    {
     "data": {
      "text/plain": [
       "(array([3.132e+03, 6.351e+03, 4.570e+02, 3.500e+01, 1.500e+01, 8.000e+00,\n",
       "        1.000e+00, 0.000e+00, 0.000e+00, 1.000e+00]),\n",
       " array([0.94430425, 0.96863099, 0.99295772, 1.01728445, 1.04161118,\n",
       "        1.06593792, 1.09026465, 1.11459138, 1.13891812, 1.16324485,\n",
       "        1.18757158]),\n",
       " <BarContainer object of 10 artists>)"
      ]
     },
     "execution_count": 141,
     "metadata": {},
     "output_type": "execute_result"
    },
    {
     "data": {
      "image/png": "[encoded data removed]",
      "text/plain": [
       "<Figure size 1584x504 with 3 Axes>"
      ]
     },
     "metadata": {
      "needs_background": "light"
     },
     "output_type": "display_data"
    }
   ],
   "source": [
    "fig, (ax1, ax2, ax3) = plt.subplots(1, 3, figsize=(22, 7))\n",
    "\n",
    "ax1.hist(y)\n",
    "ax2.hist(y_pred)\n",
    "ax3.hist(y_pred1)"
   ]
  },
  {
   "cell_type": "code",
   "execution_count": null,
   "metadata": {},
   "outputs": [],
   "source": []
  }
 ],
 "metadata": {
  "interpreter": {
   "hash": "01c569fa2bef52b9232592662de2ae74ad9fad1759f17bf040ca2ba928d66ba7"
  },
  "kernelspec": {
   "display_name": "Python 3.8.13 ('relaxed38')",
   "language": "python",
   "name": "python3"
  },
  "language_info": {
   "codemirror_mode": {
    "name": "ipython",
    "version": 3
   },
   "file_extension": ".py",
   "mimetype": "text/x-python",
   "name": "python",
   "nbconvert_exporter": "python",
   "pygments_lexer": "ipython3",
   "version": "3.8.13"
  },
  "orig_nbformat": 4
 },
 "nbformat": 4,
 "nbformat_minor": 2
}
