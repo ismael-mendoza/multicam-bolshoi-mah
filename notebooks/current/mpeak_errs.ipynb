{
 "cells": [
  {
   "cell_type": "code",
   "execution_count": 1,
   "metadata": {},
   "outputs": [
    {
     "name": "stdout",
     "output_type": "stream",
     "text": [
      "Modules to reload:\n",
      "all-except-skipped\n",
      "\n",
      "Modules to skip:\n",
      "\n"
     ]
    }
   ],
   "source": [
    "%load_ext autoreload\n",
    "%autoreload 2\n",
    "%aimport"
   ]
  },
  {
   "cell_type": "code",
   "execution_count": 2,
   "metadata": {},
   "outputs": [],
   "source": [
    "%matplotlib inline"
   ]
  },
  {
   "cell_type": "code",
   "execution_count": 3,
   "metadata": {},
   "outputs": [],
   "source": [
    "#!/usr/bin/env python3\n",
    "from abc import ABC\n",
    "from abc import abstractmethod\n",
    "from collections import defaultdict\n",
    "from pathlib import Path\n",
    "from typing import Dict\n",
    "\n",
    "import corner\n",
    "import matplotlib as mpl\n",
    "import matplotlib.pyplot as plt\n",
    "import numpy as np\n",
    "from astropy import units as u\n",
    "\n",
    "from relaxed import plotting as rxplots\n",
    "from relaxed.correlations import add_box_indices\n",
    "from relaxed.correlations import get_2d_corr\n",
    "from relaxed.correlations import spearmanr\n",
    "from relaxed.correlations import vol_jacknife_err\n",
    "from relaxed.cosmo import get_a_from_t\n",
    "from relaxed.cosmo import get_fractional_tdyn\n",
    "from relaxed.cosmo import get_t_from_a\n",
    "from relaxed.fits import alpha_analysis\n",
    "from relaxed.fits import get_early_late\n",
    "from relaxed.gradients import get_savgol_grads\n",
    "from relaxed.mah import get_an_from_am\n",
    "from relaxed.mah import get_mah\n",
    "from relaxed.models import opcam_dict\n",
    "from relaxed.models import prepare_datasets\n",
    "from relaxed.models import training_suite\n",
    "from relaxed.plotting import CB_COLORS\n",
    "from relaxed.plotting import MARKS\n",
    "from relaxed.plotting import set_rc"
   ]
  },
  {
   "cell_type": "code",
   "execution_count": 4,
   "metadata": {},
   "outputs": [],
   "source": [
    "mahdir = \"../../data/processed/bolshoi_m12\"\n",
    "mah_data = get_mah(mahdir, cutoff_missing=0.05, cutoff_particle=0.05, log_mbin_spacing=False)"
   ]
  },
  {
   "cell_type": "code",
   "execution_count": 5,
   "metadata": {},
   "outputs": [],
   "source": [
    "params = (\"cvir\", \"t/|u|\", \"x0\", \"spin_bullock\", \"c_to_a\")"
   ]
  },
  {
   "cell_type": "code",
   "execution_count": 6,
   "metadata": {},
   "outputs": [],
   "source": [
    "cat = mah_data[\"cat\"]\n",
    "ma = mah_data[\"ma_peak\"]\n",
    "am = mah_data[\"am\"]\n",
    "mass_bins = mah_data[\"mass_bins\"][:-1]  # remove last bin to avoid spearman error.\n",
    "scales = mah_data[\"scales\"][:-1]  # same for scales.\n",
    "n_mbins = len(mass_bins)\n",
    "n_scales = len(scales)\n",
    "add_box_indices(cat)\n",
    "\n",
    "# prepare catalog with all m_a\n",
    "ma_names = [f\"ma_{ii}\" for ii in range(len(scales))]\n",
    "for ii in range(len(scales)):\n",
    "    cat.add_column(ma[:, ii], name=ma_names[ii])\n",
    "\n",
    "# prepare catalog with all a(m)\n",
    "am_names = [f\"am_{ii}\" for ii in range(len(mass_bins))]\n",
    "for ii in range(len(mass_bins)):\n",
    "    cat.add_column(am[:, ii], name=am_names[ii])\n",
    "\n",
    "# prepare datasets\n",
    "info = {\n",
    "    \"cvir_only\": {\"x\": (\"cvir\",), \"y\": am_names + ma_names},\n",
    "    \"x0_only\": {\"x\": (\"x0\",), \"y\": am_names + ma_names},\n",
    "    \"tu_only\": {\"x\": (\"t/|u|\",), \"y\": am_names + ma_names},\n",
    "    \"all\": {\"x\": params, \"y\": am_names + ma_names},\n",
    "}\n",
    "datasets, _, cat_test = prepare_datasets(cat, info)\n"
   ]
  },
  {
   "cell_type": "code",
   "execution_count": 44,
   "metadata": {},
   "outputs": [],
   "source": [
    "\n",
    "# train models\n",
    "data = {\n",
    "    \"linear_cvir\": {\n",
    "        \"xy\": datasets[\"cvir_only\"][\"train\"],\n",
    "        \"n_features\": 1,\n",
    "        \"n_targets\": n_mbins + n_scales,\n",
    "        \"model\": \"linear\",\n",
    "        \"kwargs\": {\"to_marginal_normal\": False, \"use_multicam\": False},\n",
    "    },\n",
    "    \"normalized_cvir\": {\n",
    "        \"xy\": datasets[\"cvir_only\"][\"train\"],\n",
    "        \"n_features\": 1,\n",
    "        \"n_targets\": n_mbins + n_scales,\n",
    "        \"model\": \"linear\",\n",
    "        \"kwargs\": {\"to_marginal_normal\": True, \"use_multicam\": False},\n",
    "    },\n",
    "    \"multicam_cvir\": {\n",
    "        \"xy\": datasets[\"cvir_only\"][\"train\"],\n",
    "        \"n_features\": 1,\n",
    "        \"n_targets\": n_mbins + n_scales,\n",
    "        \"model\": \"linear\",\n",
    "        \"kwargs\": {\"to_marginal_normal\": True, \"use_multicam\": True},\n",
    "    },\n",
    "    \"not_norm_multicam_cvir\": {\n",
    "        \"xy\": datasets[\"cvir_only\"][\"train\"],\n",
    "        \"n_features\": 1,\n",
    "        \"n_targets\": n_mbins + n_scales,\n",
    "        \"model\": \"linear\",\n",
    "        \"kwargs\": {\"to_marginal_normal\": False, \"use_multicam\": True},\n",
    "    },\n",
    "    # \"linear_x0\": {\n",
    "    #     \"xy\": datasets[\"x0_only\"][\"train\"],\n",
    "    #     \"n_features\": 1,\n",
    "    #     \"n_targets\": n_mbins + n_scales,\n",
    "    #     \"model\": \"linear\",\n",
    "    #     \"kwargs\": {\"to_marginal_normal\": True, \"use_multicam\": True},\n",
    "    # },\n",
    "    # \"linear_tu\": {\n",
    "    #     \"xy\": datasets[\"tu_only\"][\"train\"],\n",
    "    #     \"n_features\": 1,\n",
    "    #     \"n_targets\": n_mbins + n_scales,\n",
    "    #     \"model\": \"linear\",\n",
    "    #     \"kwargs\": {\"to_marginal_normal\": True, \"use_multicam\": True},\n",
    "    # },\n",
    "    # \"linear_all\": {\n",
    "    #     \"xy\": datasets[\"all\"][\"train\"],\n",
    "    #     \"n_features\": len(params),\n",
    "    #     \"n_targets\": n_mbins + n_scales,\n",
    "    #     \"model\": \"linear\",\n",
    "    #     \"kwargs\": {\"to_marginal_normal\": True, \"use_multicam\": True},\n",
    "    # },\n",
    "}\n",
    "models = training_suite(data)"
   ]
  },
  {
   "cell_type": "code",
   "execution_count": 45,
   "metadata": {},
   "outputs": [
    {
     "name": "stderr",
     "output_type": "stream",
     "text": [
      "/Users/imendoza/miniconda3/envs/relaxed38/lib/python3.8/site-packages/scipy/stats/stats.py:4484: SpearmanRConstantInputWarning: An input array is constant; the correlation coefficient is not defined.\n",
      "  warnings.warn(SpearmanRConstantInputWarning())\n",
      "/Users/imendoza/miniconda3/envs/relaxed38/lib/python3.8/site-packages/scipy/stats/stats.py:4484: SpearmanRConstantInputWarning: An input array is constant; the correlation coefficient is not defined.\n",
      "  warnings.warn(SpearmanRConstantInputWarning())\n"
     ]
    }
   ],
   "source": [
    "corrs_am = defaultdict(lambda: np.zeros(n_mbins))\n",
    "errs_am = defaultdict(lambda: np.zeros(n_mbins))\n",
    "corrs_ma = defaultdict(lambda: np.zeros(n_scales))\n",
    "errs_ma = defaultdict(lambda: np.zeros(n_scales))\n",
    "dataset_names = [\n",
    "\"cvir_only\", \n",
    "\"cvir_only\", \n",
    "\"cvir_only\", \n",
    "\"cvir_only\", \n",
    "# \"x0_only\",\n",
    "#  \"tu_only\", \n",
    "#  \"all\"\n",
    " ]\n",
    "mdl_names = [\n",
    "\"linear_cvir\", \n",
    "'normalized_cvir', \n",
    "'multicam_cvir',\n",
    "\"not_norm_multicam_cvir\",\n",
    "# \"linear_all\"\n",
    "]\n",
    "ibox = cat_test[\"ibox\"]  # need it for errors.\n",
    "for dataset_names, mdl_name in zip(dataset_names, mdl_names):\n",
    "    model = models[mdl_name]\n",
    "    x_test, y_test = datasets[dataset_names][\"test\"]\n",
    "    y_pred = model.predict(x_test)\n",
    "\n",
    "    for jj in range(n_mbins):\n",
    "        y1 = y_pred[:, jj]\n",
    "        y2 = y_test[:, jj]\n",
    "        corrs_am[mdl_name][jj] = spearmanr(y1, y2)\n",
    "        errs_am[mdl_name][jj] = vol_jacknife_err(y1, y2, ibox, spearmanr)\n",
    "\n",
    "    for jj in range(n_scales):\n",
    "        y1 = y_pred[:, jj + n_mbins]\n",
    "        y2 = y_test[:, jj + n_mbins]\n",
    "        corrs_ma[mdl_name][jj] = spearmanr(y1, y2)\n",
    "        errs_ma[mdl_name][jj] = vol_jacknife_err(y1, y2, ibox, spearmanr)"
   ]
  },
  {
   "cell_type": "code",
   "execution_count": 50,
   "metadata": {},
   "outputs": [
    {
     "data": {
      "text/plain": [
       "(array([1.000e+00, 0.000e+00, 1.000e+00, 4.000e+00, 7.000e+00, 9.000e+00,\n",
       "        1.600e+01, 3.000e+01, 9.800e+01, 2.834e+03]),\n",
       " array([0.45685087, 0.51116578, 0.56548069, 0.61979561, 0.67411052,\n",
       "        0.72842543, 0.78274035, 0.83705526, 0.89137017, 0.94568509,\n",
       "        1.        ]),\n",
       " <BarContainer object of 10 artists>)"
      ]
     },
     "execution_count": 50,
     "metadata": {},
     "output_type": "execute_result"
    },
    {
     "data": {
      "image/png": "[encoded data removed]",
      "text/plain": [
       "<Figure size 432x288 with 1 Axes>"
      ]
     },
     "metadata": {
      "needs_background": "light"
     },
     "output_type": "display_data"
    }
   ],
   "source": [
    "plt.hist(y_pred[:, -10])"
   ]
  },
  {
   "cell_type": "code",
   "execution_count": 23,
   "metadata": {},
   "outputs": [
    {
     "data": {
      "text/plain": [
       "<matplotlib.collections.PathCollection at 0x7facd4de7a00>"
      ]
     },
     "execution_count": 23,
     "metadata": {},
     "output_type": "execute_result"
    },
    {
     "data": {
      "image/png": "[encoded data removed]",
      "text/plain": [
       "<Figure size 720x504 with 1 Axes>"
      ]
     },
     "metadata": {
      "needs_background": "light"
     },
     "output_type": "display_data"
    }
   ],
   "source": [
    "plt.figure(figsize=(10,7))\n",
    "plt.scatter(mass_bins, corrs_am['linear_cvir'], marker='+', c='r', alpha=1, s=200)\n",
    "plt.scatter(mass_bins, corrs_am['normalized_cvir'], marker='x', c='g', alpha=1, s=200)\n",
    "plt.scatter(mass_bins, corrs_am['multicam_cvir'], c='b',alpha=1)"
   ]
  },
  {
   "cell_type": "code",
   "execution_count": 49,
   "metadata": {},
   "outputs": [
    {
     "data": {
      "text/plain": [
       "[<matplotlib.lines.Line2D at 0x7facf3a8fc40>]"
      ]
     },
     "execution_count": 49,
     "metadata": {},
     "output_type": "execute_result"
    },
    {
     "data": {
      "image/png": "[encoded data removed]",
      "text/plain": [
       "<Figure size 720x504 with 1 Axes>"
      ]
     },
     "metadata": {
      "needs_background": "light"
     },
     "output_type": "display_data"
    }
   ],
   "source": [
    "plt.figure(figsize=(10,7))\n",
    "plt.plot(scales, corrs_ma['linear_cvir'], 'r-o')\n",
    "plt.plot(scales, corrs_ma['normalized_cvir'], 'g-x' )\n",
    "plt.plot(scales, corrs_ma['multicam_cvir'], 'b-+')\n",
    "plt.plot(scales, corrs_ma['not_norm_multicam_cvir'], 'm-^')"
   ]
  },
  {
   "cell_type": "code",
   "execution_count": 90,
   "metadata": {},
   "outputs": [
    {
     "data": {
      "text/plain": [
       "<matplotlib.collections.PathCollection at 0x7f9fec27a3a0>"
      ]
     },
     "execution_count": 90,
     "metadata": {},
     "output_type": "execute_result"
    },
    {
     "data": {
      "image/png": "[encoded data removed]",
      "text/plain": [
       "<Figure size 432x288 with 1 Axes>"
      ]
     },
     "metadata": {
      "needs_background": "light"
     },
     "output_type": "display_data"
    }
   ],
   "source": [
    "plt.scatter(scales, np.sum( y_pred[:, n_mbins:] == 1.0, axis=0) / len(y_pred[:, n_mbins:]))"
   ]
  },
  {
   "cell_type": "code",
   "execution_count": 82,
   "metadata": {},
   "outputs": [
    {
     "data": {
      "text/plain": [
       "<matplotlib.collections.PathCollection at 0x7f9fec2ee4f0>"
      ]
     },
     "execution_count": 82,
     "metadata": {},
     "output_type": "execute_result"
    },
    {
     "data": {
      "image/png": "[encoded data removed]",
      "text/plain": [
       "<Figure size 432x288 with 1 Axes>"
      ]
     },
     "metadata": {
      "needs_background": "light"
     },
     "output_type": "display_data"
    }
   ],
   "source": [
    "plt.scatter(scales, np.sum( y_test[:, n_mbins:] == 1.0, axis=0) / len(y_pred[:, n_mbins:]))"
   ]
  },
  {
   "cell_type": "code",
   "execution_count": 83,
   "metadata": {},
   "outputs": [
    {
     "data": {
      "text/plain": [
       "<matplotlib.collections.PathCollection at 0x7fa06e0f8d90>"
      ]
     },
     "execution_count": 83,
     "metadata": {},
     "output_type": "execute_result"
    },
    {
     "data": {
      "image/png": "[encoded data removed]",
      "text/plain": [
       "<Figure size 432x288 with 1 Axes>"
      ]
     },
     "metadata": {
      "needs_background": "light"
     },
     "output_type": "display_data"
    }
   ],
   "source": [
    "plt.scatter(scales, np.sum( datasets['cvir_only']['train'][1][:, n_mbins:] == 1.0, axis=0) / len(y_pred[:, n_mbins:]))"
   ]
  },
  {
   "cell_type": "markdown",
   "metadata": {},
   "source": [
    "# Check where we fail"
   ]
  },
  {
   "cell_type": "code",
   "execution_count": 145,
   "metadata": {},
   "outputs": [
    {
     "data": {
      "text/plain": [
       "(array([3.132e+03, 6.351e+03, 4.570e+02, 3.500e+01, 1.500e+01, 8.000e+00,\n",
       "        1.000e+00, 0.000e+00, 0.000e+00, 1.000e+00]),\n",
       " array([ 1.01379073,  7.65827271, 14.30275469, 20.94723667, 27.59171865,\n",
       "        34.23620063, 40.88068261, 47.52516459, 54.16964657, 60.81412855,\n",
       "        67.45861053]),\n",
       " <BarContainer object of 10 artists>)"
      ]
     },
     "execution_count": 145,
     "metadata": {},
     "output_type": "execute_result"
    },
    {
     "data": {
      "image/png": "[encoded data removed]",
      "text/plain": [
       "<Figure size 504x504 with 1 Axes>"
      ]
     },
     "metadata": {
      "needs_background": "light"
     },
     "output_type": "display_data"
    }
   ],
   "source": [
    "plt.figure(figsize=(7,7))\n",
    "plt.hist(cat['cvir'])"
   ]
  },
  {
   "cell_type": "markdown",
   "metadata": {},
   "source": [
    "## only normalization"
   ]
  },
  {
   "cell_type": "code",
   "execution_count": 7,
   "metadata": {},
   "outputs": [],
   "source": [
    "idx = np.where(scales > 0.94)[0][0]\n",
    "\n",
    "y = ma[:, idx].reshape(-1, 1)\n",
    "x = cat['cvir'].reshape(-1, 1)\n",
    "\n",
    "from sklearn.preprocessing import QuantileTransformer\n",
    "\n",
    "qt_y = QuantileTransformer(n_quantiles=len(y), output_distribution=\"normal\")\n",
    "qt_y = qt_y.fit(y)\n",
    "\n",
    "qt_x = QuantileTransformer(n_quantiles=len(x), output_distribution=\"normal\")\n",
    "qt_x = qt_x.fit(x)\n",
    "\n",
    "from sklearn import linear_model\n",
    "_x, _y = qt_x.transform(x), qt_y.transform(y)\n",
    "mdl = linear_model.LinearRegression().fit(_x, _y)\n",
    "_y_pred = mdl.predict(_x)\n",
    "y_pred = qt_y.inverse_transform(_y_pred)"
   ]
  },
  {
   "cell_type": "code",
   "execution_count": 9,
   "metadata": {},
   "outputs": [
    {
     "data": {
      "text/plain": [
       "3051"
      ]
     },
     "execution_count": 9,
     "metadata": {},
     "output_type": "execute_result"
    }
   ],
   "source": [
    "np.sum(y == 1)"
   ]
  },
  {
   "cell_type": "code",
   "execution_count": 8,
   "metadata": {},
   "outputs": [
    {
     "data": {
      "text/plain": [
       "(array([    0.,     0.,     0.,     0.,     0., 10000.,     0.,     0.,\n",
       "            0.,     0.]),\n",
       " array([0.5, 0.6, 0.7, 0.8, 0.9, 1. , 1.1, 1.2, 1.3, 1.4, 1.5]),\n",
       " <BarContainer object of 10 artists>)"
      ]
     },
     "execution_count": 8,
     "metadata": {},
     "output_type": "execute_result"
    },
    {
     "data": {
      "image/png": "[encoded data removed]",
      "text/plain": [
       "<Figure size 1584x504 with 4 Axes>"
      ]
     },
     "metadata": {
      "needs_background": "light"
     },
     "output_type": "display_data"
    }
   ],
   "source": [
    "fig, (ax1, ax2, ax3, ax4) = plt.subplots(1, 4, figsize=(22, 7))\n",
    "\n",
    "ax1.hist(y)\n",
    "ax2.hist(_y,bins=25)\n",
    "ax3.hist(_y_pred)\n",
    "ax4.hist(y_pred)"
   ]
  },
  {
   "cell_type": "code",
   "execution_count": 10,
   "metadata": {},
   "outputs": [
    {
     "name": "stdout",
     "output_type": "stream",
     "text": [
      "\u001b[0;31mInit signature:\u001b[0m\n",
      "\u001b[0mQuantileTransformer\u001b[0m\u001b[0;34m(\u001b[0m\u001b[0;34m\u001b[0m\n",
      "\u001b[0;34m\u001b[0m    \u001b[0;34m*\u001b[0m\u001b[0;34m,\u001b[0m\u001b[0;34m\u001b[0m\n",
      "\u001b[0;34m\u001b[0m    \u001b[0mn_quantiles\u001b[0m\u001b[0;34m=\u001b[0m\u001b[0;36m1000\u001b[0m\u001b[0;34m,\u001b[0m\u001b[0;34m\u001b[0m\n",
      "\u001b[0;34m\u001b[0m    \u001b[0moutput_distribution\u001b[0m\u001b[0;34m=\u001b[0m\u001b[0;34m'uniform'\u001b[0m\u001b[0;34m,\u001b[0m\u001b[0;34m\u001b[0m\n",
      "\u001b[0;34m\u001b[0m    \u001b[0mignore_implicit_zeros\u001b[0m\u001b[0;34m=\u001b[0m\u001b[0;32mFalse\u001b[0m\u001b[0;34m,\u001b[0m\u001b[0;34m\u001b[0m\n",
      "\u001b[0;34m\u001b[0m    \u001b[0msubsample\u001b[0m\u001b[0;34m=\u001b[0m\u001b[0;36m100000\u001b[0m\u001b[0;34m,\u001b[0m\u001b[0;34m\u001b[0m\n",
      "\u001b[0;34m\u001b[0m    \u001b[0mrandom_state\u001b[0m\u001b[0;34m=\u001b[0m\u001b[0;32mNone\u001b[0m\u001b[0;34m,\u001b[0m\u001b[0;34m\u001b[0m\n",
      "\u001b[0;34m\u001b[0m    \u001b[0mcopy\u001b[0m\u001b[0;34m=\u001b[0m\u001b[0;32mTrue\u001b[0m\u001b[0;34m,\u001b[0m\u001b[0;34m\u001b[0m\n",
      "\u001b[0;34m\u001b[0m\u001b[0;34m)\u001b[0m\u001b[0;34m\u001b[0m\u001b[0;34m\u001b[0m\u001b[0m\n",
      "\u001b[0;31mDocstring:\u001b[0m     \n",
      "Transform features using quantiles information.\n",
      "\n",
      "This method transforms the features to follow a uniform or a normal\n",
      "distribution. Therefore, for a given feature, this transformation tends\n",
      "to spread out the most frequent values. It also reduces the impact of\n",
      "(marginal) outliers: this is therefore a robust preprocessing scheme.\n",
      "\n",
      "The transformation is applied on each feature independently. First an\n",
      "estimate of the cumulative distribution function of a feature is\n",
      "used to map the original values to a uniform distribution. The obtained\n",
      "values are then mapped to the desired output distribution using the\n",
      "associated quantile function. Features values of new/unseen data that fall\n",
      "below or above the fitted range will be mapped to the bounds of the output\n",
      "distribution. Note that this transform is non-linear. It may distort linear\n",
      "correlations between variables measured at the same scale but renders\n",
      "variables measured at different scales more directly comparable.\n",
      "\n",
      "Read more in the :ref:`User Guide <preprocessing_transformer>`.\n",
      "\n",
      ".. versionadded:: 0.19\n",
      "\n",
      "Parameters\n",
      "----------\n",
      "n_quantiles : int, default=1000 or n_samples\n",
      "    Number of quantiles to be computed. It corresponds to the number\n",
      "    of landmarks used to discretize the cumulative distribution function.\n",
      "    If n_quantiles is larger than the number of samples, n_quantiles is set\n",
      "    to the number of samples as a larger number of quantiles does not give\n",
      "    a better approximation of the cumulative distribution function\n",
      "    estimator.\n",
      "\n",
      "output_distribution : {'uniform', 'normal'}, default='uniform'\n",
      "    Marginal distribution for the transformed data. The choices are\n",
      "    'uniform' (default) or 'normal'.\n",
      "\n",
      "ignore_implicit_zeros : bool, default=False\n",
      "    Only applies to sparse matrices. If True, the sparse entries of the\n",
      "    matrix are discarded to compute the quantile statistics. If False,\n",
      "    these entries are treated as zeros.\n",
      "\n",
      "subsample : int, default=1e5\n",
      "    Maximum number of samples used to estimate the quantiles for\n",
      "    computational efficiency. Note that the subsampling procedure may\n",
      "    differ for value-identical sparse and dense matrices.\n",
      "\n",
      "random_state : int, RandomState instance or None, default=None\n",
      "    Determines random number generation for subsampling and smoothing\n",
      "    noise.\n",
      "    Please see ``subsample`` for more details.\n",
      "    Pass an int for reproducible results across multiple function calls.\n",
      "    See :term:`Glossary <random_state>`.\n",
      "\n",
      "copy : bool, default=True\n",
      "    Set to False to perform inplace transformation and avoid a copy (if the\n",
      "    input is already a numpy array).\n",
      "\n",
      "Attributes\n",
      "----------\n",
      "n_quantiles_ : int\n",
      "    The actual number of quantiles used to discretize the cumulative\n",
      "    distribution function.\n",
      "\n",
      "quantiles_ : ndarray of shape (n_quantiles, n_features)\n",
      "    The values corresponding the quantiles of reference.\n",
      "\n",
      "references_ : ndarray of shape (n_quantiles, )\n",
      "    Quantiles of references.\n",
      "\n",
      "n_features_in_ : int\n",
      "    Number of features seen during :term:`fit`.\n",
      "\n",
      "    .. versionadded:: 0.24\n",
      "\n",
      "feature_names_in_ : ndarray of shape (`n_features_in_`,)\n",
      "    Names of features seen during :term:`fit`. Defined only when `X`\n",
      "    has feature names that are all strings.\n",
      "\n",
      "    .. versionadded:: 1.0\n",
      "\n",
      "See Also\n",
      "--------\n",
      "quantile_transform : Equivalent function without the estimator API.\n",
      "PowerTransformer : Perform mapping to a normal distribution using a power\n",
      "    transform.\n",
      "StandardScaler : Perform standardization that is faster, but less robust\n",
      "    to outliers.\n",
      "RobustScaler : Perform robust standardization that removes the influence\n",
      "    of outliers but does not put outliers and inliers on the same scale.\n",
      "\n",
      "Notes\n",
      "-----\n",
      "NaNs are treated as missing values: disregarded in fit, and maintained in\n",
      "transform.\n",
      "\n",
      "For a comparison of the different scalers, transformers, and normalizers,\n",
      "see :ref:`examples/preprocessing/plot_all_scaling.py\n",
      "<sphx_glr_auto_examples_preprocessing_plot_all_scaling.py>`.\n",
      "\n",
      "Examples\n",
      "--------\n",
      ">>> import numpy as np\n",
      ">>> from sklearn.preprocessing import QuantileTransformer\n",
      ">>> rng = np.random.RandomState(0)\n",
      ">>> X = np.sort(rng.normal(loc=0.5, scale=0.25, size=(25, 1)), axis=0)\n",
      ">>> qt = QuantileTransformer(n_quantiles=10, random_state=0)\n",
      ">>> qt.fit_transform(X)\n",
      "array([...])\n",
      "\u001b[0;31mFile:\u001b[0m           ~/miniconda3/envs/relaxed38/lib/python3.8/site-packages/sklearn/preprocessing/_data.py\n",
      "\u001b[0;31mType:\u001b[0m           type\n",
      "\u001b[0;31mSubclasses:\u001b[0m     \n"
     ]
    }
   ],
   "source": [
    "QuantileTransformer?"
   ]
  },
  {
   "cell_type": "code",
   "execution_count": 174,
   "metadata": {},
   "outputs": [
    {
     "data": {
      "text/plain": [
       "(0.5097008946823327, array([0.53345843]), array([1.]))"
      ]
     },
     "execution_count": 174,
     "metadata": {},
     "output_type": "execute_result"
    }
   ],
   "source": [
    "max(_y[_y<max(_y)]),min(_y_pred),min(y_pred)"
   ]
  },
  {
   "cell_type": "markdown",
   "metadata": {},
   "source": [
    "## Just linear regression"
   ]
  },
  {
   "cell_type": "code",
   "execution_count": 136,
   "metadata": {},
   "outputs": [],
   "source": [
    "idx = np.where(scales > 0.95)[0][0]\n",
    "y = ma[:, idx].reshape(-1, 1)\n",
    "x = cat['cvir'].reshape(-1, 1)\n",
    "\n",
    "from sklearn import linear_model\n",
    "mdl = linear_model.LinearRegression().fit(x, y)\n",
    "y_pred = mdl.predict(x)\n"
   ]
  },
  {
   "cell_type": "code",
   "execution_count": 137,
   "metadata": {},
   "outputs": [
    {
     "data": {
      "text/plain": [
       "(array([3.132e+03, 6.351e+03, 4.570e+02, 3.500e+01, 1.500e+01, 8.000e+00,\n",
       "        1.000e+00, 0.000e+00, 0.000e+00, 1.000e+00]),\n",
       " array([0.94430425, 0.96863099, 0.99295772, 1.01728445, 1.04161118,\n",
       "        1.06593792, 1.09026465, 1.11459138, 1.13891812, 1.16324485,\n",
       "        1.18757158]),\n",
       " <BarContainer object of 10 artists>)"
      ]
     },
     "execution_count": 137,
     "metadata": {},
     "output_type": "execute_result"
    },
    {
     "data": {
      "image/png": "[encoded data removed]",
      "text/plain": [
       "<Figure size 1080x504 with 2 Axes>"
      ]
     },
     "metadata": {
      "needs_background": "light"
     },
     "output_type": "display_data"
    }
   ],
   "source": [
    "fig, (ax1, ax2) = plt.subplots(1, 2, figsize=(15, 7))\n",
    "\n",
    "ax1.hist(y)\n",
    "ax2.hist(y_pred)"
   ]
  },
  {
   "cell_type": "markdown",
   "metadata": {},
   "source": [
    "## multicam"
   ]
  },
  {
   "cell_type": "code",
   "execution_count": 134,
   "metadata": {},
   "outputs": [],
   "source": [
    "idx = np.where(scales > 0.95)[0][0]\n",
    "\n",
    "y = ma[:, idx].reshape(-1, 1)\n",
    "x = cat['cvir'].reshape(-1, 1)\n",
    "\n",
    "from sklearn.preprocessing import QuantileTransformer\n",
    "\n",
    "qt_y = QuantileTransformer(n_quantiles=len(y), output_distribution=\"normal\")\n",
    "qt_y = qt_y.fit(y)\n",
    "\n",
    "qt_x = QuantileTransformer(n_quantiles=len(x), output_distribution=\"normal\")\n",
    "qt_x = qt_x.fit(x)\n",
    "\n",
    "\n",
    "from sklearn import linear_model\n",
    "_x, _y = qt_x.transform(x), qt_y.transform(y)\n",
    "mdl = linear_model.LinearRegression().fit(_x, _y)\n",
    "_y_pred1 = mdl.predict(_x)\n",
    "y_pred1 = qt_y.inverse_transform(_y_pred1)\n",
    "\n",
    "qt_pred = QuantileTransformer(n_quantiles=len(y_pred1), output_distribution='normal')\n",
    "qt_pred = qt_pred.fit(y_pred1)\n",
    "_y_pred = qt_pred.transform(y_pred1)\n",
    "y_pred = qt_y.inverse_transform(_y_pred)"
   ]
  },
  {
   "cell_type": "code",
   "execution_count": 135,
   "metadata": {},
   "outputs": [
    {
     "data": {
      "text/plain": [
       "(array([    0.,     0.,     0.,     0.,     0., 10000.,     0.,     0.,\n",
       "            0.,     0.]),\n",
       " array([0.5, 0.6, 0.7, 0.8, 0.9, 1. , 1.1, 1.2, 1.3, 1.4, 1.5]),\n",
       " <BarContainer object of 10 artists>)"
      ]
     },
     "execution_count": 135,
     "metadata": {},
     "output_type": "execute_result"
    },
    {
     "data": {
      "image/png": "[encoded data removed]",
      "text/plain": [
       "<Figure size 1584x504 with 3 Axes>"
      ]
     },
     "metadata": {
      "needs_background": "light"
     },
     "output_type": "display_data"
    }
   ],
   "source": [
    "fig, (ax1, ax2, ax3) = plt.subplots(1, 3, figsize=(22, 7))\n",
    "\n",
    "ax1.hist(y)\n",
    "ax2.hist(y_pred)\n",
    "ax3.hist(y_pred1)"
   ]
  },
  {
   "cell_type": "markdown",
   "metadata": {},
   "source": [
    "## Multicam (no normalization)"
   ]
  },
  {
   "cell_type": "code",
   "execution_count": 118,
   "metadata": {},
   "outputs": [],
   "source": [
    "idx = np.where(scales > 0.95)[0][0]\n",
    "\n",
    "y = ma[:, idx].reshape(-1, 1)\n",
    "x = cat['cvir'].reshape(-1, 1)\n",
    "\n",
    "from sklearn.preprocessing import QuantileTransformer\n",
    "from sklearn import linear_model\n",
    "\n",
    "qt_y = QuantileTransformer(n_quantiles=len(y), output_distribution=\"normal\")\n",
    "qt_y = qt_y.fit(y)\n",
    "\n",
    "mdl = linear_model.LinearRegression().fit(x, y)\n",
    "y_pred1 = mdl.predict(x)\n",
    "\n",
    "qt_pred = QuantileTransformer(n_quantiles=len(y_pred1), output_distribution='normal')\n",
    "qt_pred = qt_pred.fit(y_pred1)\n",
    "_y_pred = qt_pred.transform(y_pred1)\n",
    "y_pred = qt_y.inverse_transform(_y_pred)"
   ]
  },
  {
   "cell_type": "code",
   "execution_count": 119,
   "metadata": {},
   "outputs": [
    {
     "data": {
      "text/plain": [
       "(array([4.050e+02, 1.372e+03, 3.079e+03, 3.172e+03, 1.455e+03, 3.590e+02,\n",
       "        7.500e+01, 3.700e+01, 1.500e+01, 6.000e+00, 7.000e+00, 6.000e+00,\n",
       "        3.000e+00, 5.000e+00, 2.000e+00, 1.000e+00, 0.000e+00, 0.000e+00,\n",
       "        0.000e+00, 0.000e+00, 0.000e+00, 0.000e+00, 0.000e+00, 0.000e+00,\n",
       "        1.000e+00]),\n",
       " array([0.94430425, 0.95403495, 0.96376564, 0.97349633, 0.98322702,\n",
       "        0.99295772, 1.00268841, 1.0124191 , 1.0221498 , 1.03188049,\n",
       "        1.04161118, 1.05134188, 1.06107257, 1.07080326, 1.08053396,\n",
       "        1.09026465, 1.09999534, 1.10972604, 1.11945673, 1.12918742,\n",
       "        1.13891812, 1.14864881, 1.1583795 , 1.1681102 , 1.17784089,\n",
       "        1.18757158]),\n",
       " <BarContainer object of 25 artists>)"
      ]
     },
     "execution_count": 119,
     "metadata": {},
     "output_type": "execute_result"
    },
    {
     "data": {
      "image/png": "[encoded data removed]",
      "text/plain": [
       "<Figure size 1584x504 with 3 Axes>"
      ]
     },
     "metadata": {
      "needs_background": "light"
     },
     "output_type": "display_data"
    }
   ],
   "source": [
    "fig, (ax1, ax2, ax3) = plt.subplots(1, 3, figsize=(22, 7))\n",
    "\n",
    "ax1.hist(y, bins=25)\n",
    "ax2.hist(y_pred, bins=25)\n",
    "ax3.hist(y_pred1, bins=25)"
   ]
  },
  {
   "cell_type": "markdown",
   "metadata": {},
   "source": [
    "# New rank quantile method"
   ]
  },
  {
   "cell_type": "code",
   "execution_count": 7,
   "metadata": {},
   "outputs": [],
   "source": [
    "from scipy.stats import rankdata"
   ]
  },
  {
   "cell_type": "code",
   "execution_count": 194,
   "metadata": {},
   "outputs": [],
   "source": [
    "def forward_transform(x):\n",
    "    # robust to delta peaks in x (still maps to a Gaussian distribution)\n",
    "    xr = rankdata(x, method='ordinal').reshape(-1, 1)\n",
    "    print(x[:3, :])\n",
    "    print(xr[:3, :])\n",
    "    print(min(x))\n",
    "    qt = QuantileTransformer(n_quantiles=len(xr), output_distribution=\"normal\") # ranks -> normal\n",
    "    qt = qt.fit(xr)\n",
    "    return qt.transform(xr), qt\n",
    "\n",
    "def inverse_transform(_y_pred, y_train, qt_yr):\n",
    "    # _y_pred is gaussianized variable predicted and y target distribution (e.g. training dataset)\n",
    "\n",
    "    # prediction quantile\n",
    "    qt_pred = QuantileTransformer(n_quantiles=len(_y_pred), output_distribution='normal')\n",
    "    qt_pred.fit(_y_pred)\n",
    "    \n",
    "    # get predicted ranks\n",
    "    yr_pred = qt_yr.inverse_transform(qt_pred.transform(_y_pred)).astype(int).reshape(-1) - 1\n",
    "    # ext_y_train = np.array([*y_train.reshape(-1), 1]).reshape(-1, 1)\n",
    "    return np.sort(y_train.reshape(-1))[yr_pred].reshape(-1, 1)"
   ]
  },
  {
   "cell_type": "code",
   "execution_count": 201,
   "metadata": {},
   "outputs": [],
   "source": [
    "idx = np.where(scales > 0.5)[0][0]\n",
    "y = ma[:, idx].reshape(-1, 1)\n",
    "x = cat['cvir'].reshape(-1, 1)"
   ]
  },
  {
   "cell_type": "code",
   "execution_count": 202,
   "metadata": {},
   "outputs": [],
   "source": [
    "from relaxed.models import get_tt_indices\n",
    "import numpy.random as random \n",
    "random.seed(42)\n",
    "train_idx, test_idx = get_tt_indices(len(x), test_ratio=0.3)\n",
    "\n",
    "x_train, y_train = x[train_idx], y[train_idx]\n",
    "x_test, y_test = x[test_idx], y[test_idx]"
   ]
  },
  {
   "cell_type": "code",
   "execution_count": 203,
   "metadata": {},
   "outputs": [
    {
     "name": "stdout",
     "output_type": "stream",
     "text": [
      "     cvir [1]     \n",
      "------------------\n",
      "   1.5943603515625\n",
      "12.608550071716309\n",
      " 8.063526153564453\n",
      "[[  37]\n",
      " [6130]\n",
      " [2520]]\n",
      "[1.01379073]\n",
      "[[0.15960324]\n",
      " [0.64835164]\n",
      " [0.60545871]]\n",
      "[[ 103]\n",
      " [4948]\n",
      " [4307]]\n",
      "[0.00130567]\n"
     ]
    },
    {
     "data": {
      "text/plain": [
       "(array([1.000e+00, 6.000e+00, 1.250e+02, 9.130e+02, 2.455e+03, 2.455e+03,\n",
       "        9.130e+02, 1.250e+02, 6.000e+00, 1.000e+00]),\n",
       " array([-5.19933758e+00, -4.15947007e+00, -3.11960255e+00, -2.07973503e+00,\n",
       "        -1.03986752e+00,  4.89217555e-11,  1.03986752e+00,  2.07973503e+00,\n",
       "         3.11960255e+00,  4.15947007e+00,  5.19933758e+00]),\n",
       " <BarContainer object of 10 artists>)"
      ]
     },
     "execution_count": 203,
     "metadata": {},
     "output_type": "execute_result"
    },
    {
     "data": {
      "image/png": "[encoded data removed]",
      "text/plain": [
       "<Figure size 432x288 with 1 Axes>"
      ]
     },
     "metadata": {
      "needs_background": "light"
     },
     "output_type": "display_data"
    }
   ],
   "source": [
    "# forward\n",
    "_x_train, qt_x = forward_transform(x_train)\n",
    "_x_test = qt_x.transform(x_test)\n",
    "_y_train, qt_yr = forward_transform(y_train)\n",
    "plt.hist(_y_train)"
   ]
  },
  {
   "cell_type": "code",
   "execution_count": 204,
   "metadata": {},
   "outputs": [
    {
     "data": {
      "text/plain": [
       "(array([   6.,    2.,    3.,   13.,   43.,  256., 1513., 1144.,   18.,\n",
       "           2.]),\n",
       " array([-2.98182381, -2.836573  , -2.69132218, -2.54607137, -2.40082056,\n",
       "        -2.25556974, -2.11031893, -1.96506812, -1.8198173 , -1.67456649,\n",
       "        -1.52931567]),\n",
       " <BarContainer object of 10 artists>)"
      ]
     },
     "execution_count": 204,
     "metadata": {},
     "output_type": "execute_result"
    },
    {
     "data": {
      "image/png": "[encoded data removed]",
      "text/plain": [
       "<Figure size 432x288 with 1 Axes>"
      ]
     },
     "metadata": {
      "needs_background": "light"
     },
     "output_type": "display_data"
    }
   ],
   "source": [
    "# prediction\n",
    "lr = linear_model.LinearRegression().fit(_x_train, _y_train)\n",
    "_ypred = lr.predict(_x_test)\n",
    "plt.hist(_ypred)"
   ]
  },
  {
   "cell_type": "code",
   "execution_count": 205,
   "metadata": {},
   "outputs": [
    {
     "data": {
      "text/plain": [
       "(array([  3.,  13.,  27.,  40.,  60.,  96., 130., 149., 170., 189., 179.,\n",
       "        200., 209., 214., 257., 233., 248., 212., 143., 106.,  46.,  31.,\n",
       "         24.,  11.,   9.]),\n",
       " array([0.04377118, 0.08202034, 0.12026949, 0.15851864, 0.19676779,\n",
       "        0.23501695, 0.2732661 , 0.31151525, 0.3497644 , 0.38801356,\n",
       "        0.42626271, 0.46451186, 0.50276102, 0.54101017, 0.57925932,\n",
       "        0.61750847, 0.65575763, 0.69400678, 0.73225593, 0.77050508,\n",
       "        0.80875424, 0.84700339, 0.88525254, 0.92350169, 0.96175085,\n",
       "        1.        ]),\n",
       " [<matplotlib.patches.Polygon at 0x7fc17c1aa8e0>])"
      ]
     },
     "execution_count": 205,
     "metadata": {},
     "output_type": "execute_result"
    },
    {
     "data": {
      "image/png": "[encoded data removed]",
      "text/plain": [
       "<Figure size 432x288 with 1 Axes>"
      ]
     },
     "metadata": {
      "needs_background": "light"
     },
     "output_type": "display_data"
    }
   ],
   "source": [
    "# inverse\n",
    "y_pred = inverse_transform(_ypred, y_train, qt_yr)\n",
    "_, bins, _ = plt.hist(y_test, histtype='step', color='g', bins=25)\n",
    "plt.hist(y_pred, histtype='step', color='r', bins=bins)\n"
   ]
  },
  {
   "cell_type": "code",
   "execution_count": 206,
   "metadata": {},
   "outputs": [
    {
     "data": {
      "text/plain": [
       "SpearmanrResult(correlation=0.6600364250466458, pvalue=0.0)"
      ]
     },
     "execution_count": 206,
     "metadata": {},
     "output_type": "execute_result"
    }
   ],
   "source": [
    "from scipy.stats import spearmanr\n",
    "spearmanr(y_pred, y_test)"
   ]
  },
  {
   "cell_type": "markdown",
   "metadata": {},
   "source": [
    "# Test new algorithm"
   ]
  },
  {
   "cell_type": "code",
   "execution_count": 58,
   "metadata": {},
   "outputs": [
    {
     "ename": "TypeError",
     "evalue": "__init__() got an unexpected keyword argument 'to_marginal_normal'",
     "output_type": "error",
     "traceback": [
      "\u001b[0;31m---------------------------------------------------------------------------\u001b[0m",
      "\u001b[0;31mTypeError\u001b[0m                                 Traceback (most recent call last)",
      "\u001b[0;32m/var/folders/yl/5w7yl6bn1tsc5fjrdtsrsjhh0000gn/T/ipykernel_48212/3631129172.py\u001b[0m in \u001b[0;36m<cell line: 32>\u001b[0;34m()\u001b[0m\n\u001b[1;32m     30\u001b[0m     \u001b[0;31m# },\u001b[0m\u001b[0;34m\u001b[0m\u001b[0;34m\u001b[0m\u001b[0;34m\u001b[0m\u001b[0m\n\u001b[1;32m     31\u001b[0m }\n\u001b[0;32m---> 32\u001b[0;31m \u001b[0mmodels\u001b[0m \u001b[0;34m=\u001b[0m \u001b[0mtraining_suite\u001b[0m\u001b[0;34m(\u001b[0m\u001b[0mdata\u001b[0m\u001b[0;34m)\u001b[0m\u001b[0;34m\u001b[0m\u001b[0;34m\u001b[0m\u001b[0m\n\u001b[0m",
      "\u001b[0;32m~/code/nbody-relaxed/relaxed/models.py\u001b[0m in \u001b[0;36mtraining_suite\u001b[0;34m(info)\u001b[0m\n\u001b[1;32m    533\u001b[0m         \u001b[0mn_targets\u001b[0m \u001b[0;34m=\u001b[0m \u001b[0minfo\u001b[0m\u001b[0;34m[\u001b[0m\u001b[0mname\u001b[0m\u001b[0;34m]\u001b[0m\u001b[0;34m[\u001b[0m\u001b[0;34m\"n_targets\"\u001b[0m\u001b[0;34m]\u001b[0m\u001b[0;34m\u001b[0m\u001b[0;34m\u001b[0m\u001b[0m\n\u001b[1;32m    534\u001b[0m         \u001b[0mx\u001b[0m\u001b[0;34m,\u001b[0m \u001b[0my\u001b[0m \u001b[0;34m=\u001b[0m \u001b[0minfo\u001b[0m\u001b[0;34m[\u001b[0m\u001b[0mname\u001b[0m\u001b[0;34m]\u001b[0m\u001b[0;34m[\u001b[0m\u001b[0;34m\"xy\"\u001b[0m\u001b[0;34m]\u001b[0m\u001b[0;34m\u001b[0m\u001b[0;34m\u001b[0m\u001b[0m\n\u001b[0;32m--> 535\u001b[0;31m         \u001b[0mmodel\u001b[0m \u001b[0;34m=\u001b[0m \u001b[0mavailable_models\u001b[0m\u001b[0;34m[\u001b[0m\u001b[0mm\u001b[0m\u001b[0;34m]\u001b[0m\u001b[0;34m(\u001b[0m\u001b[0mn_features\u001b[0m\u001b[0;34m,\u001b[0m \u001b[0mn_targets\u001b[0m\u001b[0;34m,\u001b[0m \u001b[0;34m**\u001b[0m\u001b[0mkwargs\u001b[0m\u001b[0;34m)\u001b[0m\u001b[0;34m\u001b[0m\u001b[0;34m\u001b[0m\u001b[0m\n\u001b[0m\u001b[1;32m    536\u001b[0m         \u001b[0mmodel\u001b[0m\u001b[0;34m.\u001b[0m\u001b[0mfit\u001b[0m\u001b[0;34m(\u001b[0m\u001b[0mx\u001b[0m\u001b[0;34m,\u001b[0m \u001b[0my\u001b[0m\u001b[0;34m)\u001b[0m\u001b[0;34m\u001b[0m\u001b[0;34m\u001b[0m\u001b[0m\n\u001b[1;32m    537\u001b[0m         \u001b[0mtrained_models\u001b[0m\u001b[0;34m[\u001b[0m\u001b[0mname\u001b[0m\u001b[0;34m]\u001b[0m \u001b[0;34m=\u001b[0m \u001b[0mmodel\u001b[0m\u001b[0;34m\u001b[0m\u001b[0;34m\u001b[0m\u001b[0m\n",
      "\u001b[0;32m~/code/nbody-relaxed/relaxed/models.py\u001b[0m in \u001b[0;36m__init__\u001b[0;34m(self, n_features, n_targets, **transform_kwargs)\u001b[0m\n\u001b[1;32m    225\u001b[0m \u001b[0;32mclass\u001b[0m \u001b[0mLinearRegression\u001b[0m\u001b[0;34m(\u001b[0m\u001b[0mPredictionModelTransform\u001b[0m\u001b[0;34m)\u001b[0m\u001b[0;34m:\u001b[0m\u001b[0;34m\u001b[0m\u001b[0;34m\u001b[0m\u001b[0m\n\u001b[1;32m    226\u001b[0m     \u001b[0;32mdef\u001b[0m \u001b[0m__init__\u001b[0m\u001b[0;34m(\u001b[0m\u001b[0mself\u001b[0m\u001b[0;34m,\u001b[0m \u001b[0mn_features\u001b[0m\u001b[0;34m:\u001b[0m \u001b[0mint\u001b[0m\u001b[0;34m,\u001b[0m \u001b[0mn_targets\u001b[0m\u001b[0;34m:\u001b[0m \u001b[0mint\u001b[0m\u001b[0;34m,\u001b[0m \u001b[0;34m**\u001b[0m\u001b[0mtransform_kwargs\u001b[0m\u001b[0;34m)\u001b[0m \u001b[0;34m->\u001b[0m \u001b[0;32mNone\u001b[0m\u001b[0;34m:\u001b[0m\u001b[0;34m\u001b[0m\u001b[0;34m\u001b[0m\u001b[0m\n\u001b[0;32m--> 227\u001b[0;31m         \u001b[0msuper\u001b[0m\u001b[0;34m(\u001b[0m\u001b[0;34m)\u001b[0m\u001b[0;34m.\u001b[0m\u001b[0m__init__\u001b[0m\u001b[0;34m(\u001b[0m\u001b[0mn_features\u001b[0m\u001b[0;34m,\u001b[0m \u001b[0mn_targets\u001b[0m\u001b[0;34m,\u001b[0m \u001b[0;34m**\u001b[0m\u001b[0mtransform_kwargs\u001b[0m\u001b[0;34m)\u001b[0m\u001b[0;34m\u001b[0m\u001b[0;34m\u001b[0m\u001b[0m\n\u001b[0m\u001b[1;32m    228\u001b[0m         \u001b[0mself\u001b[0m\u001b[0;34m.\u001b[0m\u001b[0mreg\u001b[0m \u001b[0;34m=\u001b[0m \u001b[0;32mNone\u001b[0m\u001b[0;34m\u001b[0m\u001b[0;34m\u001b[0m\u001b[0m\n\u001b[1;32m    229\u001b[0m \u001b[0;34m\u001b[0m\u001b[0m\n",
      "\u001b[0;31mTypeError\u001b[0m: __init__() got an unexpected keyword argument 'to_marginal_normal'"
     ]
    }
   ],
   "source": [
    "\n",
    "# train models\n",
    "data = {\n",
    "    \"multicam_cvir\": {\n",
    "        \"xy\": datasets[\"cvir_only\"][\"train\"],\n",
    "        \"n_features\": 1,\n",
    "        \"n_targets\": n_mbins + n_scales,\n",
    "        \"model\": \"linear\",\n",
    "        \"kwargs\": {\"use_multicam\": True},\n",
    "    },\n",
    "    # \"linear_x0\": {\n",
    "    #     \"xy\": datasets[\"x0_only\"][\"train\"],\n",
    "    #     \"n_features\": 1,\n",
    "    #     \"n_targets\": n_mbins + n_scales,\n",
    "    #     \"model\": \"linear\",\n",
    "    #     \"kwargs\": {\"to_marginal_normal\": True, \"use_multicam\": True},\n",
    "    # },\n",
    "    # \"linear_tu\": {\n",
    "    #     \"xy\": datasets[\"tu_only\"][\"train\"],\n",
    "    #     \"n_features\": 1,\n",
    "    #     \"n_targets\": n_mbins + n_scales,\n",
    "    #     \"model\": \"linear\",\n",
    "    #     \"kwargs\": {\"to_marginal_normal\": True, \"use_multicam\": True},\n",
    "    # },\n",
    "    # \"linear_all\": {\n",
    "    #     \"xy\": datasets[\"all\"][\"train\"],\n",
    "    #     \"n_features\": len(params),\n",
    "    #     \"n_targets\": n_mbins + n_scales,\n",
    "    #     \"model\": \"linear\",\n",
    "    #     \"kwargs\": {\"to_marginal_normal\": True, \"use_multicam\": True},\n",
    "    # },\n",
    "}\n",
    "models = training_suite(data)"
   ]
  },
  {
   "cell_type": "code",
   "execution_count": null,
   "metadata": {},
   "outputs": [],
   "source": []
  }
 ],
 "metadata": {
  "interpreter": {
   "hash": "01c569fa2bef52b9232592662de2ae74ad9fad1759f17bf040ca2ba928d66ba7"
  },
  "kernelspec": {
   "display_name": "Python 3.8.13 ('relaxed38')",
   "language": "python",
   "name": "python3"
  },
  "language_info": {
   "codemirror_mode": {
    "name": "ipython",
    "version": 3
   },
   "file_extension": ".py",
   "mimetype": "text/x-python",
   "name": "python",
   "nbconvert_exporter": "python",
   "pygments_lexer": "ipython3",
   "version": "3.8.13"
  },
  "orig_nbformat": 4
 },
 "nbformat": 4,
 "nbformat_minor": 2
}
