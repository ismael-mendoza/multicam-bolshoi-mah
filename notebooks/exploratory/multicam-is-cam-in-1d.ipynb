{
 "cells": [
  {
   "cell_type": "code",
   "execution_count": 5,
   "metadata": {},
   "outputs": [],
   "source": [
    "from relaxed.mah import get_an_from_am, get_mah\n",
    "from relaxed.correlations import (\n",
    "    add_box_indices,\n",
    "    get_2d_corr,\n",
    "    get_opt_corr,\n",
    "    spearmanr,\n",
    "    vol_jacknife_err,\n",
    ")\n",
    "from relaxed.models import opcam_dict, prepare_datasets, training_suite\n",
    "import numpy as np\n"
   ]
  },
  {
   "cell_type": "code",
   "execution_count": 9,
   "metadata": {},
   "outputs": [],
   "source": [
    "from pathlib import Path\n",
    "MAH_DIR = Path('../..').joinpath(\"data\", \"processed\", \"bolshoi_m12\")"
   ]
  },
  {
   "cell_type": "code",
   "execution_count": 4,
   "metadata": {},
   "outputs": [
    {
     "data": {
      "text/plain": [
       "{'cvir': {'mbin': 0.5, 'order': -1},\n",
       " 'vmax/vvir': {'mbin': 0.397, 'order': -1},\n",
       " 't/|u|': {'mbin': 0.67, 'order': 1},\n",
       " 'x0': {'mbin': 0.738, 'order': 1},\n",
       " 'q': {'mbin': 0.67, 'order': -1},\n",
       " 'b_to_a': {'mbin': 0.673, 'order': -1},\n",
       " 'c_to_a': {'mbin': 0.644, 'order': -1},\n",
       " 'spin': {'mbin': 0.54, 'order': 1},\n",
       " 'spin_bullock': {'mbin': 0.54, 'order': 1}}"
      ]
     },
     "execution_count": 4,
     "metadata": {},
     "output_type": "execute_result"
    }
   ],
   "source": [
    "opcam_dict"
   ]
  },
  {
   "cell_type": "code",
   "execution_count": 11,
   "metadata": {},
   "outputs": [],
   "source": [
    "mah_data = get_mah(MAH_DIR, cutoff_missing=0.05, cutoff_particle=0.05)\n",
    "cat = mah_data[\"cat\"]\n",
    "ma_peak = mah_data[\"ma_peak\"]  # for alpha fits and gradients.\n",
    "am = mah_data[\"am\"]\n",
    "scales = mah_data[\"scales\"]\n",
    "mass_bins = mah_data[\"mass_bins\"]\n",
    "add_box_indices(cat)\n",
    "\n",
    "# prepare catalog with all a_m\n",
    "am_names = [f\"am_{ii}\" for ii in range(len(mass_bins))]\n",
    "for ii in range(len(mass_bins)):\n",
    "    cat.add_column(am[:, ii], name=am_names[ii])"
   ]
  },
  {
   "cell_type": "code",
   "execution_count": 30,
   "metadata": {},
   "outputs": [],
   "source": [
    "params = ('t/|u|',)\n",
    "\n",
    "mbin = opcam_dict[params[0]]['mbin']\n",
    "opt_idx = np.where(mass_bins > mbin)[0][0]\n",
    "\n",
    "rng = np.random.default_rng()\n",
    "info = {\n",
    "    \"am\": {\n",
    "        \"x\": am_names,\n",
    "        \"y\": params,\n",
    "    },\n",
    "\n",
    "    \"am_one\": {\n",
    "        \"x\": [am_names[opt_idx]],\n",
    "        \"y\": params,\n",
    "    },\n",
    "}\n",
    "datasets, _, cat_test = prepare_datasets(cat, info, rng)\n",
    "n_params = len(params)\n",
    "\n",
    "data = {\n",
    "    \"multicam_am\": {\n",
    "        \"xy\": datasets[\"am_one\"][\"train\"],\n",
    "        \"n_features\": 1,\n",
    "        \"n_targets\": 1,\n",
    "        \"model\": \"linear\",\n",
    "        \"kwargs\": {\"use_multicam\": True},\n",
    "    },\n",
    "\n",
    "    \"optcam\": {\n",
    "        \"xy\": datasets[\"am\"][\"train\"],\n",
    "        \"n_features\": 100,\n",
    "        \"n_targets\": 1,\n",
    "        \"model\": \"cam\",\n",
    "        \"kwargs\": {\n",
    "            \"mass_bins\": mass_bins,\n",
    "            \"opt_mbin\": opcam_dict[params[0]][\"mbin\"],\n",
    "            \"cam_order\": opcam_dict[params[0]][\"order\"],\n",
    "        },\n",
    "    },\n",
    "}\n",
    "\n",
    "models = training_suite(data)\n"
   ]
  },
  {
   "cell_type": "code",
   "execution_count": 31,
   "metadata": {},
   "outputs": [
    {
     "data": {
      "text/plain": [
       "0.6120078308294005"
      ]
     },
     "execution_count": 31,
     "metadata": {},
     "output_type": "execute_result"
    }
   ],
   "source": [
    "x_test, y_test = datasets['am_one'][\"test\"]\n",
    "y_pred = models['multicam_am'].predict(x_test)\n",
    "spearmanr(y_test, y_pred)"
   ]
  },
  {
   "cell_type": "code",
   "execution_count": 32,
   "metadata": {},
   "outputs": [
    {
     "data": {
      "text/plain": [
       "0.6119969013712215"
      ]
     },
     "execution_count": 32,
     "metadata": {},
     "output_type": "execute_result"
    }
   ],
   "source": [
    "x_test, y_test = datasets['am'][\"test\"]\n",
    "y_pred = models['optcam'].predict(x_test)\n",
    "spearmanr(y_test, y_pred)"
   ]
  },
  {
   "cell_type": "code",
   "execution_count": null,
   "metadata": {},
   "outputs": [],
   "source": []
  }
 ],
 "metadata": {
  "kernelspec": {
   "display_name": "nbody-relaxed-P7T5KfjX-py3.9",
   "language": "python",
   "name": "python3"
  },
  "language_info": {
   "codemirror_mode": {
    "name": "ipython",
    "version": 3
   },
   "file_extension": ".py",
   "mimetype": "text/x-python",
   "name": "python",
   "nbconvert_exporter": "python",
   "pygments_lexer": "ipython3",
   "version": "3.9.16"
  },
  "orig_nbformat": 4,
  "vscode": {
   "interpreter": {
    "hash": "77d62f10525712650af393e0a88e17508b20c499b6a7ae6436c994f225e00785"
   }
  }
 },
 "nbformat": 4,
 "nbformat_minor": 2
}
