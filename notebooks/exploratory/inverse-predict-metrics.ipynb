{
 "cells": [
  {
   "cell_type": "markdown",
   "metadata": {},
   "source": [
    "# Setup"
   ]
  },
  {
   "cell_type": "code",
   "execution_count": 41,
   "metadata": {
    "ExecuteTime": {
     "end_time": "2022-03-01T20:29:42.562473Z",
     "start_time": "2022-03-01T20:29:42.507406Z"
    }
   },
   "outputs": [
    {
     "name": "stdout",
     "output_type": "stream",
     "text": [
      "The autoreload extension is already loaded. To reload it, use:\n",
      "  %reload_ext autoreload\n",
      "Modules to reload:\n",
      "all-except-skipped\n",
      "\n",
      "Modules to skip:\n",
      "\n"
     ]
    }
   ],
   "source": [
    "%load_ext autoreload\n",
    "%autoreload 2\n",
    "%aimport"
   ]
  },
  {
   "cell_type": "code",
   "execution_count": 42,
   "metadata": {
    "ExecuteTime": {
     "end_time": "2022-03-01T20:29:42.693674Z",
     "start_time": "2022-03-01T20:29:42.663070Z"
    }
   },
   "outputs": [],
   "source": [
    "%matplotlib inline"
   ]
  },
  {
   "cell_type": "code",
   "execution_count": 43,
   "metadata": {
    "ExecuteTime": {
     "end_time": "2022-03-01T20:29:43.032180Z",
     "start_time": "2022-03-01T20:29:43.005405Z"
    }
   },
   "outputs": [],
   "source": [
    "from relaxed.plot_defaults import *"
   ]
  },
  {
   "cell_type": "code",
   "execution_count": 44,
   "metadata": {
    "ExecuteTime": {
     "end_time": "2022-03-01T20:29:43.218399Z",
     "start_time": "2022-03-01T20:29:43.189489Z"
    }
   },
   "outputs": [],
   "source": [
    "import numpy as np\n",
    "import matplotlib.pyplot as plt \n",
    "import scipy"
   ]
  },
  {
   "cell_type": "code",
   "execution_count": 45,
   "metadata": {
    "ExecuteTime": {
     "end_time": "2022-03-14T17:18:09.364616Z",
     "start_time": "2022-03-14T17:18:08.010176Z"
    }
   },
   "outputs": [],
   "source": [
    "from relaxed.analysis import get_mah, add_box_indices, alpha_analysis, vol_jacknife_err, get_an_from_am, get_a_from_t, get_t_from_a\n",
    "from relaxed.models import training_suite, prepare_datasets\n"
   ]
  },
  {
   "cell_type": "markdown",
   "metadata": {},
   "source": [
    "# Data"
   ]
  },
  {
   "cell_type": "code",
   "execution_count": 46,
   "metadata": {
    "ExecuteTime": {
     "end_time": "2022-03-01T20:32:58.428058Z",
     "start_time": "2022-03-01T20:32:56.072901Z"
    }
   },
   "outputs": [],
   "source": [
    "mah_data = get_mah('m12', '../../output/', cutoff_missing=0.05, cutoff_particle=0.05)"
   ]
  },
  {
   "cell_type": "code",
   "execution_count": 47,
   "metadata": {
    "ExecuteTime": {
     "end_time": "2022-03-01T20:32:58.450406Z",
     "start_time": "2022-03-01T20:32:58.430260Z"
    }
   },
   "outputs": [
    {
     "name": "stdout",
     "output_type": "stream",
     "text": [
      "(10000,) (10000,) (10000,) (10000, 100) (10000, 165) (165,) (100,)\n"
     ]
    }
   ],
   "source": [
    "# catalog\n",
    "cat = mah_data['cat']\n",
    "xoff = cat['x0']\n",
    "cvir = cat['cvir']\n",
    "eta = cat['eta']\n",
    "spin = cat['spin']\n",
    "voff = cat['v0']\n",
    "q = cat['q']\n",
    "ma = mah_data['ma']\n",
    "ma_peak = mah_data['ma_peak']\n",
    "am = mah_data['am']\n",
    "\n",
    "scales = mah_data['scales']\n",
    "mass_bins = mah_data['mass_bins']\n",
    "print(cvir.shape, xoff.shape, eta.shape, am.shape, ma.shape, scales.shape, mass_bins.shape)"
   ]
  },
  {
   "cell_type": "code",
   "execution_count": 48,
   "metadata": {
    "ExecuteTime": {
     "end_time": "2022-03-01T20:33:10.045811Z",
     "start_time": "2022-03-01T20:33:10.004438Z"
    }
   },
   "outputs": [],
   "source": [
    "# extract m(a_{tdyn}) = \\dot{M}_dynamical\n",
    "from astropy import units as u\n",
    "t0 = get_t_from_a(1)\n",
    "tdyn = np.mean(cat['tdyn']) / 10**9\n",
    "t = (t0 - tdyn) * u.Gyr\n",
    "a_dyn = get_a_from_t(t)\n",
    "indx_dyn = np.where(scales>0.805)[0][0]\n",
    "mdyn = ma[:, indx_dyn].reshape(-1, 1)"
   ]
  },
  {
   "cell_type": "code",
   "execution_count": 49,
   "metadata": {
    "ExecuteTime": {
     "end_time": "2022-03-01T20:30:56.787573Z",
     "start_time": "2022-03-01T20:29:46.316683Z"
    }
   },
   "outputs": [],
   "source": [
    "alphas, ma_exp, am_exp = alpha_analysis(ma, scales, mass_bins)"
   ]
  },
  {
   "cell_type": "code",
   "execution_count": 50,
   "metadata": {
    "ExecuteTime": {
     "end_time": "2022-03-01T20:33:11.698416Z",
     "start_time": "2022-03-01T20:33:11.665636Z"
    }
   },
   "outputs": [],
   "source": [
    "a2 = get_an_from_am(am, mass_bins, mbin=0.5)\n",
    "a4 = get_an_from_am(am, mass_bins, mbin=0.75)"
   ]
  },
  {
   "cell_type": "code",
   "execution_count": 51,
   "metadata": {},
   "outputs": [],
   "source": [
    "#finally diffmah jax fits.\n",
    "from diffmah.individual_halo_assembly import _get_early_late\n",
    "pars = np.load('../../output/pbest_diffmah.npy')\n",
    "logtc, ue, ul = pars[:, 0], pars[:, 1], pars[:, 2]\n",
    "early, late = _get_early_late(ue, ul)"
   ]
  },
  {
   "cell_type": "code",
   "execution_count": 52,
   "metadata": {
    "ExecuteTime": {
     "end_time": "2022-03-01T20:33:12.121469Z",
     "start_time": "2022-03-01T20:33:12.089220Z"
    }
   },
   "outputs": [],
   "source": [
    "cat.add_column(10**logtc, name='tau_c') # -> use log scale.\n",
    "cat.add_column(early, name='alpha_early')\n",
    "cat.add_column(late, name='alpha_late')\n",
    "cat.add_column(alphas, name='alpha') # use log scale. -> nan's?\n",
    "cat.add_column(a2, name='a2') #use log scale\n",
    "cat.add_column(a4, name='a4') # use log scale.\n",
    "cat.add_column(mdyn, name='mdyn') # no need to log scale "
   ]
  },
  {
   "cell_type": "code",
   "execution_count": 53,
   "metadata": {
    "ExecuteTime": {
     "end_time": "2022-03-01T20:33:18.212570Z",
     "start_time": "2022-03-01T20:33:18.178859Z"
    }
   },
   "outputs": [],
   "source": [
    "# add box indices to cat for uncertainty purposes\n",
    "add_box_indices(cat)"
   ]
  },
  {
   "cell_type": "code",
   "execution_count": 58,
   "metadata": {
    "ExecuteTime": {
     "end_time": "2022-03-01T20:33:18.656793Z",
     "start_time": "2022-03-01T20:33:18.539802Z"
    }
   },
   "outputs": [],
   "source": [
    "params = ('a2', 'a4', 'alpha', 'mdyn', 'tau_c', 'alpha_late', 'alpha_early', )\n",
    "info = {\n",
    "    'cvir_only': {'x': ('cvir', ), 'y': params, },\n",
    "    'x0_only': {'x': ('x0', ), 'y': params, },\n",
    "    'tu_only': {'x': ('t/|u|', ), 'y': params, },\n",
    "    'all': {'x':('cvir', 't/|u|', 'x0', 'spin', 'q'), 'y': params,},\n",
    "}\n",
    "datasets, cat_train, cat_test = prepare_datasets(cat, info)"
   ]
  },
  {
   "cell_type": "markdown",
   "metadata": {},
   "source": [
    "# Train"
   ]
  },
  {
   "cell_type": "code",
   "execution_count": 59,
   "metadata": {
    "ExecuteTime": {
     "end_time": "2022-03-01T20:33:33.878504Z",
     "start_time": "2022-03-01T20:33:31.811168Z"
    }
   },
   "outputs": [],
   "source": [
    "# joint models\n",
    "data ={\n",
    "    'linear_cvir': {\n",
    "        'xy': datasets['cvir_only']['train'], 'n_features': 1, 'n_targets': 7, 'model': 'linear',\n",
    "        'kwargs': {'to_marginal_normal':True , 'use_multicam': True},\n",
    "    },\n",
    "    'linear_x0': {\n",
    "        'xy': datasets['x0_only']['train'], 'n_features': 1, 'n_targets': 7, 'model': 'linear',\n",
    "        'kwargs': {'to_marginal_normal':True , 'use_multicam': True},\n",
    "    },\n",
    "    'linear_tu': {\n",
    "        'xy': datasets['tu_only']['train'], 'n_features': 1, 'n_targets': 7, 'model': 'linear',\n",
    "        'kwargs': {'to_marginal_normal':True , 'use_multicam': True},\n",
    "    },\n",
    "    'linear_all': {\n",
    "        'xy': datasets['all']['train'], 'n_features': 5, 'n_targets': 7, 'model': 'linear',\n",
    "        'kwargs': {'to_marginal_normal':True , 'use_multicam': True},\n",
    "    },\n",
    "}\n",
    "joint_models = training_suite(data)"
   ]
  },
  {
   "cell_type": "markdown",
   "metadata": {},
   "source": [
    "\n",
    "# Metrics whisker plots"
   ]
  },
  {
   "cell_type": "markdown",
   "metadata": {},
   "source": [
    "## Setup"
   ]
  },
  {
   "cell_type": "code",
   "execution_count": 72,
   "metadata": {
    "ExecuteTime": {
     "end_time": "2022-03-01T20:33:35.687192Z",
     "start_time": "2022-03-01T20:33:35.615069Z"
    }
   },
   "outputs": [],
   "source": [
    "latex_metrics = {\n",
    "    'mu': r\"$\\mu \\left( y_{\\rm pred} - y_{\\rm true} \\right)$\", \n",
    "    'med': r\"$\\mu_{x}'$\",\n",
    "    'sigma_ratio': r\"$\\sigma_{\\rm pred} / \\sigma_{\\rm true}$\",\n",
    "    'spear': r\"$\\rho_{\\rm spearman}$\",\n",
    "    'rscatter':r\"$\\frac{\\sigma(y_{\\rm pred} - y_{\\rm true})}{ \\sigma(y_{\\rm true}) \\sqrt{2}}$\",\n",
    "    'mad': r\"\\rm MAD\",\n",
    "}\n",
    "\n",
    "latex_params = {\n",
    "    'cvir': r\"$c_{\\rm vir}$\",\n",
    "    't/|u|':  r\"$t/\\vert u \\vert$\",\n",
    "    'x0': r\"$x_{\\rm off}$\", \n",
    "    'spin': r\"$s$\",\n",
    "    'q': r\"$q$\",\n",
    "    'a2': r\"$a_{1/2}$\",\n",
    "    'a4': r\"$a_{3/4}$\",\n",
    "    'alpha': r\"$\\alpha$\", \n",
    "    'mdyn': r\"$m(a_{\\rm dyn})$\",\n",
    "    'tau_c': r\"$\\tau_{c}$\",\n",
    "    'alpha_early': r\"$\\alpha_{\\rm early}$\",\n",
    "    'alpha_late': r\"$\\alpha_{\\rm late}$\",\n",
    "}\n",
    "\n",
    "\n",
    "def compute_metrics(pred_func, _x_test, _y_test, box_keep = None):\n",
    "    # pred_func should return ONLY 1 parameter. (e.g. lambda wrapped around indexing)\n",
    "    if box_keep is None:\n",
    "        box_keep = np.ones(_x_test.shape[0]).astype(bool)\n",
    "    \n",
    "    x_test = _x_test[box_keep]\n",
    "    y_test = _y_test[box_keep].reshape(-1)\n",
    "    \n",
    "    y_pred = pred_func(x_test).reshape(-1)\n",
    "    x = (y_pred - y_test) / np.std(y_test) # normalize\n",
    "\n",
    "    return {'mu': np.mean(x), \n",
    "            'sigma_ratio': np.std(y_pred) / np.std(y_test), \n",
    "            'spear': scipy.stats.spearmanr(y_pred, y_test)[0],\n",
    "            'rscatter': np.std(x) / np.sqrt(2), \n",
    "            'mad': np.mean(np.abs(x)), \n",
    "           }\n",
    "\n",
    "\n",
    "def metrics_plot(metrics_data: dict, test_data: dict, trained_models: dict, \n",
    "                 cat_test, params=(\"cvir\",), legend_size=20, figsize=(12, 12),nrows=2, ncols=2,\n",
    "                 ticksize=16,\n",
    "               ):\n",
    "    # params and models MUST have same order (until switch to pandas...)\n",
    "    fig, axes = plt.subplots(nrows, ncols, figsize=figsize)\n",
    "    axes = axes.flatten()\n",
    "    model_metrics = {} \n",
    "\n",
    "    for jj, param in enumerate(params): \n",
    "        for mdl_name, (x_test, label, color, shape) in test_data.items():\n",
    "            model = trained_models[mdl_name]\n",
    "            pred_func = lambda x: model.predict(x)[:, jj]\n",
    "            y_test = cat_test[param].value.reshape(-1)\n",
    "            y_pred = pred_func(x_test).reshape(-1)\n",
    "            x = (y_pred - y_test) / np.std(y_test)\n",
    "            val_metrics = compute_metrics(pred_func, x_test, y_test)\n",
    "            errs = vol_jacknife_err(cat_test, compute_metrics, pred_func, x_test, y_test, mode='dict')\n",
    "            model_metrics[(param, mdl_name)] = {k:(val_metrics[k], errs[k]) for k in metrics_data}\n",
    "\n",
    "    params_latex = [latex_params[par] for par in params]\n",
    "    for ii, met in enumerate(metrics_data):\n",
    "        ax = axes[ii]\n",
    "        ax.set_xlim(-0.25, len(params))\n",
    "        if 'yrange' in metrics_data[met]:\n",
    "            if metrics_data[met]['yrange'] is not None:\n",
    "                ax.set_ylim(metrics_data[met]['yrange'])\n",
    "        ax.set_xticks(np.array(list(range(len(params)))))\n",
    "        ax.set_xticklabels(params_latex)\n",
    "        ax.tick_params(axis='x', labelsize=ticksize)\n",
    "        x_bias = 0.0\n",
    "        for kk, (mdl_name, (x_test, label, color, marker)) in enumerate(test_data.items()):\n",
    "            for jj, param in enumerate(params):\n",
    "                label = label if (jj== 0 and ii==0) else None\n",
    "                val, err = model_metrics[(param, mdl_name)][met]\n",
    "                ax.errorbar(jj+x_bias, val, yerr=err, label=label, marker=marker, \n",
    "                            color=color, capsize=2.5, ms=6, capthick=2.0)\n",
    "            x_bias+=0.1\n",
    "        \n",
    "        if metrics_data[met].get('hline', None) is not None:\n",
    "            ax.axhline(metrics_data[met]['hline'], ls='--', color='k')\n",
    "        ax.set_ylabel(latex_metrics[met], size=28)\n",
    "        \n",
    "        if ii == 0:\n",
    "            ax.legend(prop={'size':legend_size}, bbox_to_anchor=(0.65, 1.50))\n",
    "    plt.tight_layout()"
   ]
  },
  {
   "cell_type": "markdown",
   "metadata": {},
   "source": [
    "## Results"
   ]
  },
  {
   "cell_type": "code",
   "execution_count": 73,
   "metadata": {
    "ExecuteTime": {
     "end_time": "2022-03-01T20:33:49.162707Z",
     "start_time": "2022-03-01T20:33:36.905043Z"
    },
    "scrolled": false
   },
   "outputs": [
    {
     "data": {
      "image/png": "[encoded data removed]",
      "text/plain": [
       "<Figure size 1152x1152 with 4 Axes>"
      ]
     },
     "metadata": {
      "needs_background": "light"
     },
     "output_type": "display_data"
    }
   ],
   "source": [
    "metrics_data = {\n",
    "    'spear': {},\n",
    "    'rscatter': {},\n",
    "    'sigma_ratio': {'yrange':(0.8, 1.2), 'hline': 1.0},\n",
    "    'mu': {'yrange':(-0.1, 0.1), 'hline': 0.0},\n",
    "}\n",
    "test_data = {\n",
    "    'linear_all': (datasets['all']['test'][0], r\"\\rm MultiCAM\", 'r', 'o'),\n",
    "    'linear_cvir': (datasets['cvir_only']['test'][0], r\"\\rm MultiCAM $c_{\\rm vir}$ only\", 'g', 'D'),\n",
    "    'linear_x0': (datasets['x0_only']['test'][0], r\"\\rm MultiCAM $x_{\\rm off}$ only\", 'b', 's'),\n",
    "    'linear_tu': (datasets['tu_only']['test'][0], r\"\\rm MultiCAM $T/\\vert U \\vert$ only\", 'm', '^'),\n",
    "}\n",
    "metrics_plot(metrics_data, test_data, joint_models, cat_test, params=params, \n",
    "             ncols=2, nrows=2, figsize=(16, 16), ticksize=24, legend_size=28)\n",
    "\n"
   ]
  },
  {
   "cell_type": "code",
   "execution_count": null,
   "metadata": {},
   "outputs": [],
   "source": []
  }
 ],
 "metadata": {
  "kernelspec": {
   "display_name": "Python 3 (ipykernel)",
   "language": "python",
   "name": "python3"
  },
  "language_info": {
   "codemirror_mode": {
    "name": "ipython",
    "version": 3
   },
   "file_extension": ".py",
   "mimetype": "text/x-python",
   "name": "python",
   "nbconvert_exporter": "python",
   "pygments_lexer": "ipython3",
   "version": "3.8.10"
  },
  "toc": {
   "base_numbering": 1,
   "nav_menu": {},
   "number_sections": true,
   "sideBar": true,
   "skip_h1_title": false,
   "title_cell": "Table of Contents",
   "title_sidebar": "Contents",
   "toc_cell": false,
   "toc_position": {
    "height": "calc(100% - 180px)",
    "left": "10px",
    "top": "150px",
    "width": "165px"
   },
   "toc_section_display": true,
   "toc_window_display": true
  },
  "toc-autonumbering": false,
  "toc-showmarkdowntxt": true,
  "toc-showtags": false
 },
 "nbformat": 4,
 "nbformat_minor": 4
}
