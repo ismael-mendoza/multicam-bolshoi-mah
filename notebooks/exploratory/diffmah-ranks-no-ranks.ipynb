{
 "cells": [
  {
   "cell_type": "code",
   "execution_count": 1,
   "metadata": {
    "ExecuteTime": {
     "end_time": "2022-07-14T14:58:48.451148Z",
     "start_time": "2022-07-14T14:58:48.412189Z"
    }
   },
   "outputs": [
    {
     "name": "stdout",
     "output_type": "stream",
     "text": [
      "Modules to reload:\n",
      "all-except-skipped\n",
      "\n",
      "Modules to skip:\n",
      "\n"
     ]
    }
   ],
   "source": [
    "%load_ext autoreload\n",
    "%autoreload 2\n",
    "%aimport"
   ]
  },
  {
   "cell_type": "code",
   "execution_count": 2,
   "metadata": {
    "ExecuteTime": {
     "end_time": "2022-07-14T14:58:48.630719Z",
     "start_time": "2022-07-14T14:58:48.593167Z"
    }
   },
   "outputs": [],
   "source": [
    "%matplotlib inline"
   ]
  },
  {
   "cell_type": "code",
   "execution_count": 147,
   "metadata": {
    "ExecuteTime": {
     "end_time": "2022-07-14T14:59:16.178119Z",
     "start_time": "2022-07-14T14:59:16.136851Z"
    }
   },
   "outputs": [],
   "source": [
    "#!/usr/bin/env python3\n",
    "from abc import ABC\n",
    "from abc import abstractmethod\n",
    "from collections import defaultdict\n",
    "from pathlib import Path\n",
    "from typing import Dict\n",
    "\n",
    "import corner\n",
    "import matplotlib as mpl\n",
    "import matplotlib.pyplot as plt\n",
    "import numpy as np\n",
    "from astropy import units as u\n",
    "\n",
    "from multicam import plotting as rxplots\n",
    "from multicam.correlations import add_box_indices\n",
    "from multicam.correlations import get_2d_corr\n",
    "from multicam.correlations import spearmanr\n",
    "from multicam.correlations import vol_jacknife_err\n",
    "from multicam.cosmo import get_a_from_t\n",
    "from multicam.cosmo import get_fractional_tdyn\n",
    "from multicam.cosmo import get_t_from_a\n",
    "from multicam.fits import alpha_analysis\n",
    "from multicam.fits import get_early_late\n",
    "from multicam.gradients import get_savgol_grads\n",
    "from multicam.mah import get_an_from_am\n",
    "from multicam.mah import get_mah\n",
    "from multicam.models import opcam_dict\n",
    "from multicam.models import prepare_datasets\n",
    "from multicam.models import training_suite\n",
    "from multicam.plotting import CB_COLORS\n",
    "from multicam.plotting import MARKS\n",
    "from multicam.plotting import set_rc"
   ]
  },
  {
   "cell_type": "code",
   "execution_count": 148,
   "metadata": {
    "ExecuteTime": {
     "end_time": "2022-07-14T14:59:18.657182Z",
     "start_time": "2022-07-14T14:59:16.283621Z"
    }
   },
   "outputs": [],
   "source": [
    "mahdir = \"../../data/processed/bolshoi_m12\"\n",
    "mah_data = get_mah(mahdir, cutoff_missing=0.05, cutoff_particle=0.05, log_mbin_spacing=False)"
   ]
  },
  {
   "cell_type": "code",
   "execution_count": 149,
   "metadata": {
    "ExecuteTime": {
     "end_time": "2022-07-14T14:59:18.673394Z",
     "start_time": "2022-07-14T14:59:18.658917Z"
    }
   },
   "outputs": [],
   "source": [
    "params = (\"cvir\", \"t/|u|\", \"x0\", \"spin_bullock\", \"c_to_a\")"
   ]
  },
  {
   "cell_type": "code",
   "execution_count": 150,
   "metadata": {
    "ExecuteTime": {
     "end_time": "2022-07-14T14:59:18.693965Z",
     "start_time": "2022-07-14T14:59:18.674934Z"
    }
   },
   "outputs": [],
   "source": [
    "cat = mah_data[\"cat\"]\n",
    "ma = mah_data[\"ma_peak\"]\n",
    "am = mah_data[\"am\"]\n",
    "mass_bins = mah_data[\"mass_bins\"][:-1]  # remove last bin to avoid spearman error.\n",
    "scales = mah_data[\"scales\"][:-1]  # same for scales.\n",
    "n_mbins = len(mass_bins)\n",
    "n_scales = len(scales)\n",
    "add_box_indices(cat)\n",
    "\n",
    "# load diffmah parameters of best fits.\n",
    "pars = np.load(\"../../data/processed/pbest_diffmah.npy\")\n",
    "logtc, ue, ul = pars[:, 0], pars[:, 1], pars[:, 2]\n",
    "early, late = get_early_late(ue, ul)\n",
    "cat.add_column(10**logtc, name=\"tau_c\")\n",
    "cat.add_column(early, name=\"alpha_early\")\n",
    "cat.add_column(late, name=\"alpha_late\")\n",
    "\n",
    "\n",
    "# prepare catalog with all m_a\n",
    "ma_names = [f\"ma_{ii}\" for ii in range(len(scales))]\n",
    "for ii in range(len(scales)):\n",
    "    cat.add_column(ma[:, ii], name=ma_names[ii])\n"
   ]
  },
  {
   "cell_type": "code",
   "execution_count": 151,
   "metadata": {
    "ExecuteTime": {
     "end_time": "2022-07-14T14:59:20.099832Z",
     "start_time": "2022-07-14T14:59:20.059598Z"
    }
   },
   "outputs": [],
   "source": [
    "rng = np.random.default_rng(42)"
   ]
  },
  {
   "cell_type": "code",
   "execution_count": 158,
   "metadata": {
    "ExecuteTime": {
     "end_time": "2022-07-14T14:59:44.432559Z",
     "start_time": "2022-07-14T14:59:44.321544Z"
    }
   },
   "outputs": [],
   "source": [
    "# \"alpha_late\", \"tau_c\" are different\n",
    "# \"alpha_early\", \"tau_c\" are same except for xoff\n",
    "# \"alpha_early\", \"alpha_late\" are all different\n",
    "info = {\n",
    "    \"params_diffmah\": {\n",
    "        \"x\": (\"alpha_late\", \"alpha_early\", \"tau_c\"),\n",
    "        \"y\": params,\n",
    "    },\n",
    "}\n",
    "datasets, _, cat_test = prepare_datasets(cat, info, rng, test_ratio=0.3)\n",
    "n_params = len(params)"
   ]
  },
  {
   "cell_type": "code",
   "execution_count": 159,
   "metadata": {},
   "outputs": [
    {
     "data": {
      "text/plain": [
       "((7000, 3), (3000, 3))"
      ]
     },
     "execution_count": 159,
     "metadata": {},
     "output_type": "execute_result"
    }
   ],
   "source": [
    "datasets[\"params_diffmah\"][\"train\"][0].shape, datasets[\"params_diffmah\"][\"test\"][0].shape\n"
   ]
  },
  {
   "cell_type": "code",
   "execution_count": 160,
   "metadata": {
    "ExecuteTime": {
     "end_time": "2022-07-14T15:00:22.044030Z",
     "start_time": "2022-07-14T15:00:21.231146Z"
    }
   },
   "outputs": [],
   "source": [
    "data = {\n",
    "    \"rpdiff\": {\n",
    "        \"xy\": datasets[\"params_diffmah\"][\"train\"],\n",
    "        \"n_features\": 3,\n",
    "        \"n_targets\": 5,\n",
    "        \"model\": \"linear\",\n",
    "        \"kwargs\": {\"use_multicam\": True},\n",
    "    },\n",
    "\n",
    "        \"nrpdiff\": {\n",
    "        \"xy\": datasets[\"params_diffmah\"][\"train\"],\n",
    "        \"n_features\": 3,\n",
    "        \"n_targets\": 5,\n",
    "        \"model\": \"linear\",\n",
    "        \"kwargs\": {\"use_multicam_no_ranks\": True, \"use_multicam\": False},\n",
    "    },\n",
    "}\n",
    "\n",
    "models = training_suite(data)"
   ]
  },
  {
   "cell_type": "code",
   "execution_count": 161,
   "metadata": {
    "ExecuteTime": {
     "end_time": "2022-07-14T15:19:17.870585Z",
     "start_time": "2022-07-14T15:19:17.800097Z"
    }
   },
   "outputs": [],
   "source": [
    "x_train, y_train = datasets['params_diffmah'][\"train\"]\n",
    "x_test, y_test = datasets['params_diffmah'][\"test\"]\n"
   ]
  },
  {
   "cell_type": "code",
   "execution_count": 162,
   "metadata": {
    "ExecuteTime": {
     "end_time": "2022-07-14T15:01:16.772269Z",
     "start_time": "2022-07-14T15:01:16.610442Z"
    }
   },
   "outputs": [
    {
     "name": "stdout",
     "output_type": "stream",
     "text": [
      "7000 3000 6999\n",
      "7000 3000 6999\n",
      "7000 3000 6999\n",
      "7000 3000 6999\n",
      "7000 3000 6999\n"
     ]
    }
   ],
   "source": [
    "y_pred1 = models['rpdiff'].predict(x_test)\n",
    "y_pred2 = models['nrpdiff'].predict(x_test)"
   ]
  },
  {
   "cell_type": "code",
   "execution_count": 163,
   "metadata": {
    "ExecuteTime": {
     "end_time": "2022-07-14T15:02:55.845167Z",
     "start_time": "2022-07-14T15:02:55.791010Z"
    }
   },
   "outputs": [
    {
     "name": "stdout",
     "output_type": "stream",
     "text": [
      "cvir\n",
      "0.6533004645889403\n",
      "0.6541905162433906\n",
      "\n",
      "c_to_a\n",
      "0.6002341626831535\n",
      "0.6004466097746243\n",
      "\n",
      "x0\n",
      "0.556550403172267\n",
      "0.5566050120672235\n",
      "\n"
     ]
    }
   ],
   "source": [
    "\n",
    "for ii in range(3):\n",
    "    print((\"cvir\", \"c_to_a\", \"x0\")[ii])\n",
    "    print(spearmanr(y_pred1[:, ii], y_test[:, ii]))\n",
    "    print(spearmanr(y_pred2[:, ii], y_test[:, ii]))\n",
    "    print()"
   ]
  },
  {
   "cell_type": "code",
   "execution_count": 79,
   "metadata": {},
   "outputs": [
    {
     "name": "stdout",
     "output_type": "stream",
     "text": [
      "10000\n",
      "9994\n"
     ]
    }
   ],
   "source": [
    "print(len(cat['cvir']))\n",
    "print(len(np.unique(cat['cvir'])))"
   ]
  },
  {
   "cell_type": "code",
   "execution_count": 72,
   "metadata": {},
   "outputs": [
    {
     "name": "stdout",
     "output_type": "stream",
     "text": [
      "10000\n",
      "1293\n"
     ]
    }
   ],
   "source": [
    "print(len(cat['t/|u|']))\n",
    "print(len(np.unique(cat['t/|u|'])))"
   ]
  },
  {
   "cell_type": "code",
   "execution_count": 78,
   "metadata": {},
   "outputs": [
    {
     "data": {
      "text/plain": [
       "10000"
      ]
     },
     "execution_count": 78,
     "metadata": {},
     "output_type": "execute_result"
    }
   ],
   "source": [
    "len(np.unique(cat['id'].value))"
   ]
  },
  {
   "cell_type": "code",
   "execution_count": 74,
   "metadata": {},
   "outputs": [
    {
     "name": "stdout",
     "output_type": "stream",
     "text": [
      "       t/|u|       \n",
      "-------------------\n",
      " 0.4957999885082245\n",
      "0.49900001287460327\n",
      " 0.5026000142097473\n",
      " 0.5054000020027161\n",
      " 0.5059999823570251\n",
      " 0.5080000162124634\n",
      " 0.5085999965667725\n",
      " 0.5088000297546387\n",
      " 0.5091999769210815\n",
      " 0.5108000040054321\n",
      "                ...\n",
      " 0.5170000195503235\n",
      " 0.5170000195503235\n",
      " 0.5171999931335449\n",
      "  0.517799973487854\n",
      "  0.517799973487854\n",
      " 0.5180000066757202\n",
      " 0.5180000066757202\n",
      " 0.5180000066757202\n",
      " 0.5181999802589417\n",
      " 0.5181999802589417\n",
      " 0.5184000134468079\n",
      "Length = 50 rows\n",
      "      t/|u|       \n",
      "------------------\n",
      "0.8677999973297119\n",
      "0.8682000041007996\n",
      "0.8718000054359436\n",
      "0.8726000189781189\n",
      "0.8766000270843506\n",
      "0.8849999904632568\n",
      "0.8980000019073486\n",
      "0.9002000093460083\n",
      "0.9047999978065491\n",
      "0.9053999781608582\n",
      "               ...\n",
      "1.0772000551223755\n",
      " 1.083400011062622\n",
      "1.0947999954223633\n",
      "1.1061999797821045\n",
      "1.1136000156402588\n",
      "1.1446000337600708\n",
      "1.1549999713897705\n",
      "1.2654000520706177\n",
      " 1.292199969291687\n",
      "1.3306000232696533\n",
      " 1.408400058746338\n",
      "Length = 50 rows\n"
     ]
    }
   ],
   "source": [
    "print(np.sort(cat['t/|u|'])[:50])\n"
   ]
  },
  {
   "cell_type": "code",
   "execution_count": 71,
   "metadata": {},
   "outputs": [
    {
     "name": "stdout",
     "output_type": "stream",
     "text": [
      "10000\n",
      "9012\n"
     ]
    }
   ],
   "source": [
    "print(len(cat['c_to_a']))\n",
    "print(len(np.unique(cat['c_to_a'])))"
   ]
  },
  {
   "cell_type": "code",
   "execution_count": 70,
   "metadata": {},
   "outputs": [
    {
     "name": "stdout",
     "output_type": "stream",
     "text": [
      "10000\n",
      "9999\n"
     ]
    }
   ],
   "source": [
    "print(len(cat['x0']))\n",
    "print(len(np.unique(cat['x0'])))"
   ]
  },
  {
   "cell_type": "code",
   "execution_count": 69,
   "metadata": {},
   "outputs": [
    {
     "name": "stdout",
     "output_type": "stream",
     "text": [
      "10000\n",
      "5709\n"
     ]
    }
   ],
   "source": [
    "print(len(cat['spin_bullock']))\n",
    "print(len(np.unique(cat['spin_bullock'])))"
   ]
  },
  {
   "cell_type": "code",
   "execution_count": 73,
   "metadata": {
    "ExecuteTime": {
     "end_time": "2022-07-14T15:33:08.906109Z",
     "start_time": "2022-07-14T15:33:08.761718Z"
    }
   },
   "outputs": [
    {
     "data": {
      "text/plain": [
       "<matplotlib.legend.Legend at 0x7fe4324ed0a0>"
      ]
     },
     "execution_count": 73,
     "metadata": {},
     "output_type": "execute_result"
    },
    {
     "data": {
      "image/png": "[encoded data removed]",
      "text/plain": [
       "<Figure size 432x288 with 1 Axes>"
      ]
     },
     "metadata": {
      "needs_background": "light"
     },
     "output_type": "display_data"
    }
   ],
   "source": [
    "_, bins, _ = plt.hist((y_pred1[:, 0] - y_test[:, 0]) / np.std(y_test[:, 0]), histtype='step', bins=21, range=(-5, 5), label='ranks')\n",
    "plt.hist((y_pred2[:, 0] - y_test[:, 0]) / np.std(y_test[:, 0]), histtype='step', bins=bins, color='r', range=(-5, 5), label='no ranks')\n",
    "plt.xlabel(\"(y_pred - y_true) / (std(y_true))\")\n",
    "plt.legend()"
   ]
  },
  {
   "cell_type": "code",
   "execution_count": 51,
   "metadata": {
    "ExecuteTime": {
     "end_time": "2022-07-14T15:10:55.441505Z",
     "start_time": "2022-07-14T15:10:55.329389Z"
    }
   },
   "outputs": [
    {
     "data": {
      "text/plain": [
       "(array([1.860e+02, 7.630e+02, 1.263e+03, 6.360e+02, 1.120e+02, 2.300e+01,\n",
       "        6.000e+00, 3.000e+00, 4.000e+00, 1.000e+00, 1.000e+00, 1.000e+00,\n",
       "        0.000e+00, 0.000e+00, 0.000e+00, 0.000e+00, 0.000e+00, 0.000e+00,\n",
       "        0.000e+00, 1.000e+00]),\n",
       " array([ 1.01379073,  4.33603172,  7.65827271, 10.9805137 , 14.30275469,\n",
       "        17.62499568, 20.94723667, 24.26947766, 27.59171865, 30.91395964,\n",
       "        34.23620063, 37.55844162, 40.88068261, 44.2029236 , 47.52516459,\n",
       "        50.84740558, 54.16964657, 57.49188756, 60.81412855, 64.13636954,\n",
       "        67.45861053]),\n",
       " [<matplotlib.patches.Polygon at 0x7fe430bf71c0>])"
      ]
     },
     "execution_count": 51,
     "metadata": {},
     "output_type": "execute_result"
    },
    {
     "data": {
      "image/png": "[encoded data removed]",
      "text/plain": [
       "<Figure size 432x288 with 1 Axes>"
      ]
     },
     "metadata": {
      "needs_background": "light"
     },
     "output_type": "display_data"
    }
   ],
   "source": [
    "_, bins, fig = plt.hist(y_pred1[:, 0], bins=20, histtype='step')\n",
    "plt.hist(y_pred2[:, 0], bins=bins, histtype='step', ls='--', color='r')"
   ]
  },
  {
   "cell_type": "code",
   "execution_count": 58,
   "metadata": {
    "ExecuteTime": {
     "end_time": "2022-07-14T15:20:06.256703Z",
     "start_time": "2022-07-14T15:20:06.111773Z"
    }
   },
   "outputs": [
    {
     "data": {
      "text/plain": [
       "(array([2255., 2052., 1225., 1018.,  784.,  468.,  349.,  227.,  155.,\n",
       "         133.,   93.,   94.,   44.,   62.,   37.,   41.,   39.,   36.,\n",
       "          38.,   30.,   17.,   10.,   21.,   22.,   21.,   18.,   16.,\n",
       "          17.,   10.,   11.,   11.,    8.,   12.,    8.,    7.,   15.,\n",
       "           7.,    7.,   12.,    9.,    8.,    9.,    9.,    8.,    4.,\n",
       "          15.,    7.,    3.,    4.,    7.,    6.]),\n",
       " array([ 0.        ,  0.98039216,  1.9607843 ,  2.9411764 ,  3.9215686 ,\n",
       "         4.901961  ,  5.882353  ,  6.8627453 ,  7.8431373 ,  8.823529  ,\n",
       "         9.803922  , 10.784314  , 11.764706  , 12.745098  , 13.725491  ,\n",
       "        14.705882  , 15.686275  , 16.666666  , 17.647058  , 18.62745   ,\n",
       "        19.607843  , 20.588236  , 21.568628  , 22.549019  , 23.529411  ,\n",
       "        24.509804  , 25.490196  , 26.470589  , 27.450981  , 28.431372  ,\n",
       "        29.411764  , 30.392157  , 31.37255   , 32.35294   , 33.333332  ,\n",
       "        34.313725  , 35.294117  , 36.27451   , 37.2549    , 38.235294  ,\n",
       "        39.215687  , 40.19608   , 41.17647   , 42.156864  , 43.137257  ,\n",
       "        44.117645  , 45.098038  , 46.07843   , 47.058823  , 48.039215  ,\n",
       "        49.019608  , 50.        ], dtype=float32),\n",
       " <BarContainer object of 51 artists>)"
      ]
     },
     "execution_count": 58,
     "metadata": {},
     "output_type": "execute_result"
    },
    {
     "data": {
      "image/png": "[encoded data removed]",
      "text/plain": [
       "<Figure size 432x288 with 1 Axes>"
      ]
     },
     "metadata": {
      "needs_background": "light"
     },
     "output_type": "display_data"
    }
   ],
   "source": [
    "plt.hist(cat['tau_c'], bins=51, range=(0, 50))"
   ]
  },
  {
   "cell_type": "code",
   "execution_count": 70,
   "metadata": {
    "ExecuteTime": {
     "end_time": "2022-07-14T15:24:48.747395Z",
     "start_time": "2022-07-14T15:24:48.599624Z"
    }
   },
   "outputs": [
    {
     "data": {
      "text/plain": [
       "(array([0.000e+00, 0.000e+00, 0.000e+00, 1.000e+00, 5.400e+01, 1.730e+02,\n",
       "        3.900e+02, 9.740e+02, 1.161e+03, 1.163e+03, 1.014e+03, 1.042e+03,\n",
       "        8.360e+02, 5.950e+02, 4.670e+02, 3.600e+02, 3.170e+02, 2.710e+02,\n",
       "        2.520e+02, 1.990e+02, 2.140e+02, 2.460e+02, 1.560e+02, 7.800e+01,\n",
       "        2.800e+01, 8.000e+00, 1.000e+00, 0.000e+00, 0.000e+00, 0.000e+00,\n",
       "        0.000e+00, 0.000e+00, 0.000e+00, 0.000e+00, 0.000e+00, 0.000e+00,\n",
       "        0.000e+00, 0.000e+00, 0.000e+00, 0.000e+00, 0.000e+00, 0.000e+00,\n",
       "        0.000e+00, 0.000e+00, 0.000e+00, 0.000e+00, 0.000e+00, 0.000e+00,\n",
       "        0.000e+00, 0.000e+00, 0.000e+00]),\n",
       " array([ 0.        ,  0.19607843,  0.39215687,  0.5882353 ,  0.78431374,\n",
       "         0.98039216,  1.1764706 ,  1.372549  ,  1.5686275 ,  1.7647059 ,\n",
       "         1.9607843 ,  2.1568627 ,  2.3529413 ,  2.5490196 ,  2.745098  ,\n",
       "         2.9411764 ,  3.137255  ,  3.3333333 ,  3.5294118 ,  3.72549   ,\n",
       "         3.9215686 ,  4.117647  ,  4.3137255 ,  4.509804  ,  4.7058825 ,\n",
       "         4.901961  ,  5.098039  ,  5.2941175 ,  5.490196  ,  5.6862745 ,\n",
       "         5.882353  ,  6.0784316 ,  6.27451   ,  6.470588  ,  6.6666665 ,\n",
       "         6.8627453 ,  7.0588236 ,  7.254902  ,  7.45098   ,  7.647059  ,\n",
       "         7.8431373 ,  8.039216  ,  8.235294  ,  8.431373  ,  8.627451  ,\n",
       "         8.823529  ,  9.019608  ,  9.215686  ,  9.411765  ,  9.607843  ,\n",
       "         9.803922  , 10.        ], dtype=float32),\n",
       " <BarContainer object of 51 artists>)"
      ]
     },
     "execution_count": 70,
     "metadata": {},
     "output_type": "execute_result"
    },
    {
     "data": {
      "image/png": "[encoded data removed]",
      "text/plain": [
       "<Figure size 432x288 with 1 Axes>"
      ]
     },
     "metadata": {
      "needs_background": "light"
     },
     "output_type": "display_data"
    }
   ],
   "source": [
    "plt.hist(cat['alpha_early'], bins=51, range=(0, 10))"
   ]
  },
  {
   "cell_type": "code",
   "execution_count": 72,
   "metadata": {
    "ExecuteTime": {
     "end_time": "2022-07-14T15:25:00.672256Z",
     "start_time": "2022-07-14T15:25:00.378785Z"
    }
   },
   "outputs": [
    {
     "data": {
      "text/plain": [
       "(array([ 64., 301., 919., 648., 546., 593., 679., 423., 352., 314., 269.,\n",
       "        237., 217., 220., 221., 204., 192., 185., 187., 182., 163., 125.,\n",
       "        137., 141., 123., 135.,  98.,  93., 111.,  92.,  93.,  75.,  87.,\n",
       "         71.,  81.,  71.,  58.,  62.,  77.,  70.,  65.,  57.,  57.,  55.,\n",
       "         52.,  52.,  50.,  43.,  49.,  48.,  47.]),\n",
       " array([0.        , 0.01960784, 0.03921569, 0.05882353, 0.07843138,\n",
       "        0.09803922, 0.11764706, 0.13725491, 0.15686275, 0.1764706 ,\n",
       "        0.19607843, 0.21568628, 0.23529412, 0.25490198, 0.27450982,\n",
       "        0.29411766, 0.3137255 , 0.33333334, 0.3529412 , 0.37254903,\n",
       "        0.39215687, 0.4117647 , 0.43137255, 0.4509804 , 0.47058824,\n",
       "        0.49019608, 0.50980395, 0.5294118 , 0.54901963, 0.5686275 ,\n",
       "        0.5882353 , 0.60784316, 0.627451  , 0.64705884, 0.6666667 ,\n",
       "        0.6862745 , 0.7058824 , 0.7254902 , 0.74509805, 0.7647059 ,\n",
       "        0.78431374, 0.8039216 , 0.8235294 , 0.84313726, 0.8627451 ,\n",
       "        0.88235295, 0.9019608 , 0.92156863, 0.9411765 , 0.9607843 ,\n",
       "        0.98039216, 1.        ], dtype=float32),\n",
       " <BarContainer object of 51 artists>)"
      ]
     },
     "execution_count": 72,
     "metadata": {},
     "output_type": "execute_result"
    },
    {
     "data": {
      "image/png": "[encoded data removed]",
      "text/plain": [
       "<Figure size 432x288 with 1 Axes>"
      ]
     },
     "metadata": {
      "needs_background": "light"
     },
     "output_type": "display_data"
    }
   ],
   "source": [
    "plt.hist(cat['alpha_late'], bins=51, range=(0, 1))"
   ]
  },
  {
   "cell_type": "code",
   "execution_count": 9,
   "metadata": {},
   "outputs": [
    {
     "name": "stdout",
     "output_type": "stream",
     "text": [
      "tau_c\n",
      "10000\n",
      "10000\n",
      "\n",
      "alpha_early\n",
      "10000\n",
      "10000\n",
      "\n",
      "alpha_late\n",
      "10000\n",
      "9986\n",
      "\n"
     ]
    }
   ],
   "source": [
    "for name in ['tau_c', 'alpha_early', 'alpha_late']:\n",
    "    print(name)\n",
    "    print(len(cat[name]))\n",
    "    print(len(np.unique(cat[name])))\n",
    "    print()"
   ]
  },
  {
   "cell_type": "code",
   "execution_count": null,
   "metadata": {},
   "outputs": [],
   "source": []
  }
 ],
 "metadata": {
  "interpreter": {
   "hash": "01c569fa2bef52b9232592662de2ae74ad9fad1759f17bf040ca2ba928d66ba7"
  },
  "kernelspec": {
   "display_name": "Python 3 (ipykernel)",
   "language": "python",
   "name": "python3"
  },
  "language_info": {
   "codemirror_mode": {
    "name": "ipython",
    "version": 3
   },
   "file_extension": ".py",
   "mimetype": "text/x-python",
   "name": "python",
   "nbconvert_exporter": "python",
   "pygments_lexer": "ipython3",
   "version": "3.8.13"
  },
  "toc": {
   "base_numbering": 1,
   "nav_menu": {},
   "number_sections": true,
   "sideBar": true,
   "skip_h1_title": false,
   "title_cell": "Table of Contents",
   "title_sidebar": "Contents",
   "toc_cell": false,
   "toc_position": {
    "height": "calc(100% - 180px)",
    "left": "10px",
    "top": "150px",
    "width": "165px"
   },
   "toc_section_display": true,
   "toc_window_display": true
  }
 },
 "nbformat": 4,
 "nbformat_minor": 2
}
