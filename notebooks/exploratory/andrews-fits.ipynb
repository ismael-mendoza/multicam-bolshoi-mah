{
 "cells": [
  {
   "cell_type": "markdown",
   "id": "2242c8c5",
   "metadata": {},
   "source": [
    "# Setup"
   ]
  },
  {
   "cell_type": "code",
   "execution_count": 6,
   "id": "5095e225",
   "metadata": {
    "ExecuteTime": {
     "end_time": "2022-02-21T20:10:00.208391Z",
     "start_time": "2022-02-21T20:10:00.131936Z"
    }
   },
   "outputs": [
    {
     "name": "stdout",
     "output_type": "stream",
     "text": [
      "The autoreload extension is already loaded. To reload it, use:\n",
      "  %reload_ext autoreload\n",
      "Modules to reload:\n",
      "all-except-skipped\n",
      "\n",
      "Modules to skip:\n",
      "\n"
     ]
    }
   ],
   "source": [
    "%load_ext autoreload\n",
    "%autoreload 2\n",
    "%aimport"
   ]
  },
  {
   "cell_type": "code",
   "execution_count": 7,
   "id": "c01384b6",
   "metadata": {
    "ExecuteTime": {
     "end_time": "2022-02-21T20:10:00.262599Z",
     "start_time": "2022-02-21T20:10:00.238704Z"
    }
   },
   "outputs": [],
   "source": [
    "%matplotlib inline"
   ]
  },
  {
   "cell_type": "code",
   "execution_count": 8,
   "id": "4b003523",
   "metadata": {
    "ExecuteTime": {
     "end_time": "2022-02-21T20:10:00.465494Z",
     "start_time": "2022-02-21T20:10:00.436206Z"
    }
   },
   "outputs": [],
   "source": [
    "from relaxed.plot_defaults import *"
   ]
  },
  {
   "cell_type": "code",
   "execution_count": 9,
   "id": "ddc4ad0d",
   "metadata": {
    "ExecuteTime": {
     "end_time": "2022-02-21T20:10:00.661247Z",
     "start_time": "2022-02-21T20:10:00.620290Z"
    }
   },
   "outputs": [],
   "source": [
    "import astropy\n",
    "from pathlib import Path\n",
    "import numpy as np\n",
    "import matplotlib.pyplot as plt \n",
    "import re \n",
    "from astropy.table import Table\n",
    "import astropy.table\n",
    "import json\n",
    "from scipy import stats\n",
    "from copy import deepcopy\n",
    "import sklearn\n",
    "import scipy\n",
    "import warnings\n",
    "from tqdm import tqdm\n",
    "\n",
    "import matplotlib as mpl\n",
    "from sklearn.model_selection import train_test_split\n"
   ]
  },
  {
   "cell_type": "code",
   "execution_count": 10,
   "id": "22af4e49",
   "metadata": {
    "ExecuteTime": {
     "end_time": "2022-02-21T20:10:00.849673Z",
     "start_time": "2022-02-21T20:10:00.801497Z"
    }
   },
   "outputs": [],
   "source": [
    "from relaxed.analysis import get_mah, fit_hearin_params, get_t_from_a, transform_diffmah, alpha_diffmah, diffmah_analysis\n",
    "from relaxed.models import training_suite, prepare_datasets\n",
    "from relaxed import halo_catalogs\n"
   ]
  },
  {
   "cell_type": "markdown",
   "id": "c3fbb76e",
   "metadata": {},
   "source": [
    "# Data"
   ]
  },
  {
   "cell_type": "code",
   "execution_count": 11,
   "id": "8298a6e3",
   "metadata": {
    "ExecuteTime": {
     "end_time": "2022-02-21T20:10:05.528361Z",
     "start_time": "2022-02-21T20:10:02.833000Z"
    }
   },
   "outputs": [],
   "source": [
    "mah_data = get_mah('m12', '../../output/', cutoff_missing=0.05, cutoff_particle=0.05)"
   ]
  },
  {
   "cell_type": "code",
   "execution_count": 12,
   "id": "389d6fc1",
   "metadata": {
    "ExecuteTime": {
     "end_time": "2022-02-21T20:10:05.702571Z",
     "start_time": "2022-02-21T20:10:05.560654Z"
    }
   },
   "outputs": [],
   "source": [
    "ma_peak = mah_data['ma_peak']\n",
    "scales = mah_data['scales']\n",
    "t = get_t_from_a(scales)\n",
    "t0 = get_t_from_a(1)"
   ]
  },
  {
   "cell_type": "markdown",
   "id": "60058c09",
   "metadata": {},
   "source": [
    "# Fits"
   ]
  },
  {
   "cell_type": "code",
   "execution_count": 13,
   "id": "64c398ca",
   "metadata": {
    "ExecuteTime": {
     "end_time": "2022-02-21T20:10:51.649515Z",
     "start_time": "2022-02-21T20:10:09.969571Z"
    }
   },
   "outputs": [
    {
     "name": "stderr",
     "output_type": "stream",
     "text": [
      "Fitting Diffmah parameters: 100%|██████████████████████████████████████████████████████████████████████████████████████████████████████████| 10000/10000 [00:41<00:00, 240.75it/s]\n"
     ]
    }
   ],
   "source": [
    "tau_c, alpha_early, alpha_late = diffmah_analysis(ma_peak, scales)"
   ]
  },
  {
   "cell_type": "code",
   "execution_count": 35,
   "id": "6f7340b4",
   "metadata": {
    "ExecuteTime": {
     "end_time": "2022-02-21T20:14:59.163106Z",
     "start_time": "2022-02-21T20:14:59.028184Z"
    }
   },
   "outputs": [
    {
     "name": "stdout",
     "output_type": "stream",
     "text": [
      "8281\n"
     ]
    },
    {
     "data": {
      "text/plain": [
       "[<matplotlib.lines.Line2D at 0x7fb7d1025970>]"
      ]
     },
     "execution_count": 35,
     "metadata": {},
     "output_type": "execute_result"
    },
    {
     "data": {
      "image/png": "[encoded data removed]",
      "text/plain": [
       "<Figure size 432x288 with 1 Axes>"
      ]
     },
     "metadata": {
      "needs_background": "light"
     },
     "output_type": "display_data"
    }
   ],
   "source": [
    "idx = np.random.randint(10000)\n",
    "pred = (t/t0)**(alpha_diffmah(t, tau_c[idx], alpha_early[idx], alpha_late[idx]))\n",
    "\n",
    "print(idx)\n",
    "plt.plot(t, ma_peak[idx])\n",
    "plt.plot(t, pred)"
   ]
  },
  {
   "cell_type": "code",
   "execution_count": 40,
   "id": "7d119e4f",
   "metadata": {
    "ExecuteTime": {
     "end_time": "2022-02-21T20:22:15.959553Z",
     "start_time": "2022-02-21T20:22:15.681257Z"
    }
   },
   "outputs": [
    {
     "data": {
      "text/plain": [
       "(array([0.01216989, 0.00730194, 0.00608495, 0.00851892, 0.00365097,\n",
       "        0.00486796, 0.01216989, 0.01703785, 0.00973591, 0.02799075,\n",
       "        0.03772666, 0.08518924, 0.2360959 , 0.63283437, 1.05512961,\n",
       "        1.50663259, 1.63076549, 1.54557624, 1.16465863, 0.58172082,\n",
       "        0.15577461, 0.09370817, 0.38821954, 0.38943653, 0.38700256]),\n",
       " array([-1. , -0.9, -0.8, -0.7, -0.6, -0.5, -0.4, -0.3, -0.2, -0.1,  0. ,\n",
       "         0.1,  0.2,  0.3,  0.4,  0.5,  0.6,  0.7,  0.8,  0.9,  1. ,  1.1,\n",
       "         1.2,  1.3,  1.4,  1.5]),\n",
       " <BarContainer object of 25 artists>)"
      ]
     },
     "execution_count": 40,
     "metadata": {},
     "output_type": "execute_result"
    },
    {
     "data": {
      "image/png": "[encoded data removed]",
      "text/plain": [
       "<Figure size 432x288 with 1 Axes>"
      ]
     },
     "metadata": {
      "needs_background": "light"
     },
     "output_type": "display_data"
    }
   ],
   "source": [
    "plt.hist(np.log10(tau_c), range=(-1, 1.5), bins=25,density=True)\n"
   ]
  },
  {
   "cell_type": "code",
   "execution_count": null,
   "id": "298bb1ba",
   "metadata": {},
   "outputs": [],
   "source": []
  }
 ],
 "metadata": {
  "kernelspec": {
   "display_name": "Python 3 (ipykernel)",
   "language": "python",
   "name": "python3"
  },
  "language_info": {
   "codemirror_mode": {
    "name": "ipython",
    "version": 3
   },
   "file_extension": ".py",
   "mimetype": "text/x-python",
   "name": "python",
   "nbconvert_exporter": "python",
   "pygments_lexer": "ipython3",
   "version": "3.8.12"
  },
  "toc": {
   "base_numbering": 1,
   "nav_menu": {},
   "number_sections": true,
   "sideBar": true,
   "skip_h1_title": false,
   "title_cell": "Table of Contents",
   "title_sidebar": "Contents",
   "toc_cell": false,
   "toc_position": {
    "height": "calc(100% - 180px)",
    "left": "10px",
    "top": "150px",
    "width": "165px"
   },
   "toc_section_display": true,
   "toc_window_display": true
  }
 },
 "nbformat": 4,
 "nbformat_minor": 5
}
