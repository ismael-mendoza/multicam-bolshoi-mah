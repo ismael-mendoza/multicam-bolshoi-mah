{
 "cells": [
  {
   "cell_type": "markdown",
   "id": "2242c8c5",
   "metadata": {},
   "source": [
    "# Setup"
   ]
  },
  {
   "cell_type": "code",
   "execution_count": 55,
   "id": "5095e225",
   "metadata": {
    "ExecuteTime": {
     "end_time": "2022-02-20T17:46:22.878725Z",
     "start_time": "2022-02-20T17:46:22.779036Z"
    }
   },
   "outputs": [
    {
     "name": "stdout",
     "output_type": "stream",
     "text": [
      "The autoreload extension is already loaded. To reload it, use:\n",
      "  %reload_ext autoreload\n",
      "Modules to reload:\n",
      "all-except-skipped\n",
      "\n",
      "Modules to skip:\n",
      "\n"
     ]
    }
   ],
   "source": [
    "%load_ext autoreload\n",
    "%autoreload 2\n",
    "%aimport"
   ]
  },
  {
   "cell_type": "code",
   "execution_count": 56,
   "id": "c01384b6",
   "metadata": {
    "ExecuteTime": {
     "end_time": "2022-02-20T17:46:23.048968Z",
     "start_time": "2022-02-20T17:46:23.006198Z"
    }
   },
   "outputs": [],
   "source": [
    "%matplotlib inline"
   ]
  },
  {
   "cell_type": "code",
   "execution_count": 57,
   "id": "4b003523",
   "metadata": {
    "ExecuteTime": {
     "end_time": "2022-02-20T17:46:23.367045Z",
     "start_time": "2022-02-20T17:46:23.323509Z"
    }
   },
   "outputs": [],
   "source": [
    "from relaxed.plot_defaults import *"
   ]
  },
  {
   "cell_type": "code",
   "execution_count": 58,
   "id": "ddc4ad0d",
   "metadata": {
    "ExecuteTime": {
     "end_time": "2022-02-20T17:46:23.527108Z",
     "start_time": "2022-02-20T17:46:23.484119Z"
    }
   },
   "outputs": [],
   "source": [
    "import astropy\n",
    "from pathlib import Path\n",
    "import numpy as np\n",
    "import matplotlib.pyplot as plt \n",
    "import re \n",
    "from astropy.table import Table\n",
    "import astropy.table\n",
    "import json\n",
    "from scipy import stats\n",
    "from copy import deepcopy\n",
    "import sklearn\n",
    "import scipy\n",
    "import warnings\n",
    "from tqdm import tqdm\n",
    "\n",
    "import matplotlib as mpl\n",
    "from sklearn.model_selection import train_test_split\n"
   ]
  },
  {
   "cell_type": "code",
   "execution_count": 75,
   "id": "22af4e49",
   "metadata": {
    "ExecuteTime": {
     "end_time": "2022-02-20T18:30:04.043118Z",
     "start_time": "2022-02-20T18:30:03.954374Z"
    }
   },
   "outputs": [],
   "source": [
    "from relaxed.analysis import get_mah, fit_hearin_params, get_t_from_a, transform_diffmah, alpha_diffmah, diffmah_analysis\n",
    "from relaxed.models import training_suite, prepare_datasets\n",
    "from relaxed import halo_catalogs\n"
   ]
  },
  {
   "cell_type": "markdown",
   "id": "c3fbb76e",
   "metadata": {},
   "source": [
    "# Data"
   ]
  },
  {
   "cell_type": "code",
   "execution_count": 40,
   "id": "8298a6e3",
   "metadata": {
    "ExecuteTime": {
     "end_time": "2022-02-20T17:26:49.953122Z",
     "start_time": "2022-02-20T17:26:45.700401Z"
    }
   },
   "outputs": [],
   "source": [
    "mah_data = get_mah('m12', '../../output/', cutoff_missing=0.05, cutoff_particle=0.05)"
   ]
  },
  {
   "cell_type": "code",
   "execution_count": 54,
   "id": "389d6fc1",
   "metadata": {
    "ExecuteTime": {
     "end_time": "2022-02-20T17:45:38.250489Z",
     "start_time": "2022-02-20T17:45:38.197839Z"
    }
   },
   "outputs": [],
   "source": [
    "ma_peak = mah_data['ma_peak']\n",
    "scales = mah_data['scales']\n",
    "t = get_t_from_a(scales)\n",
    "t0 = get_t_from_a(1)"
   ]
  },
  {
   "cell_type": "markdown",
   "id": "60058c09",
   "metadata": {},
   "source": [
    "# Fits"
   ]
  },
  {
   "cell_type": "code",
   "execution_count": 79,
   "id": "64c398ca",
   "metadata": {
    "ExecuteTime": {
     "end_time": "2022-02-20T18:34:34.682037Z",
     "start_time": "2022-02-20T18:33:54.032193Z"
    }
   },
   "outputs": [
    {
     "name": "stderr",
     "output_type": "stream",
     "text": [
      "Fitting Diffmah parameters: 100%|██████████████████████████████████████████████████████████████████████████████████████████████████████████| 10000/10000 [00:40<00:00, 246.69it/s]\n"
     ]
    }
   ],
   "source": [
    "tau_c, alpha_early, alpha_late = diffmah_analysis(ma_peak, scales)"
   ]
  },
  {
   "cell_type": "code",
   "execution_count": 89,
   "id": "6f7340b4",
   "metadata": {
    "ExecuteTime": {
     "end_time": "2022-02-20T18:36:00.635999Z",
     "start_time": "2022-02-20T18:36:00.517486Z"
    }
   },
   "outputs": [
    {
     "data": {
      "text/plain": [
       "[<matplotlib.lines.Line2D at 0x7fa73aeae2b0>]"
      ]
     },
     "execution_count": 89,
     "metadata": {},
     "output_type": "execute_result"
    },
    {
     "data": {
      "image/png": "[encoded data removed]",
      "text/plain": [
       "<Figure size 432x288 with 1 Axes>"
      ]
     },
     "metadata": {
      "needs_background": "light"
     },
     "output_type": "display_data"
    }
   ],
   "source": [
    "idx = 11\n",
    "pred = (t/t0)**(alpha_diffmah(t, tau_c[idx], alpha_early[idx], alpha_late[idx]))\n",
    "\n",
    "plt.plot(t, ma_peak[idx])\n",
    "plt.plot(t, pred)"
   ]
  }
 ],
 "metadata": {
  "kernelspec": {
   "display_name": "Python 3 (ipykernel)",
   "language": "python",
   "name": "python3"
  },
  "language_info": {
   "codemirror_mode": {
    "name": "ipython",
    "version": 3
   },
   "file_extension": ".py",
   "mimetype": "text/x-python",
   "name": "python",
   "nbconvert_exporter": "python",
   "pygments_lexer": "ipython3",
   "version": "3.8.12"
  },
  "toc": {
   "base_numbering": 1,
   "nav_menu": {},
   "number_sections": true,
   "sideBar": true,
   "skip_h1_title": false,
   "title_cell": "Table of Contents",
   "title_sidebar": "Contents",
   "toc_cell": false,
   "toc_position": {},
   "toc_section_display": true,
   "toc_window_display": true
  }
 },
 "nbformat": 4,
 "nbformat_minor": 5
}
