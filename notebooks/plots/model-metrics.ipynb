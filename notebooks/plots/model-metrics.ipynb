{
 "cells": [
  {
   "cell_type": "markdown",
   "metadata": {},
   "source": [
    "# Setup"
   ]
  },
  {
   "cell_type": "code",
   "execution_count": 1,
   "metadata": {
    "ExecuteTime": {
     "end_time": "2022-03-14T17:54:41.181492Z",
     "start_time": "2022-03-14T17:54:41.153484Z"
    }
   },
   "outputs": [
    {
     "name": "stdout",
     "output_type": "stream",
     "text": [
      "Modules to reload:\n",
      "all-except-skipped\n",
      "\n",
      "Modules to skip:\n",
      "\n"
     ]
    }
   ],
   "source": [
    "%load_ext autoreload\n",
    "%autoreload 2\n",
    "%aimport"
   ]
  },
  {
   "cell_type": "code",
   "execution_count": 2,
   "metadata": {
    "ExecuteTime": {
     "end_time": "2022-03-14T17:54:42.326051Z",
     "start_time": "2022-03-14T17:54:41.741594Z"
    }
   },
   "outputs": [],
   "source": [
    "%matplotlib inline"
   ]
  },
  {
   "cell_type": "code",
   "execution_count": 3,
   "metadata": {
    "ExecuteTime": {
     "end_time": "2022-03-14T17:54:42.340206Z",
     "start_time": "2022-03-14T17:54:42.328838Z"
    }
   },
   "outputs": [],
   "source": [
    "from relaxed.plot_defaults import *"
   ]
  },
  {
   "cell_type": "code",
   "execution_count": 4,
   "metadata": {
    "ExecuteTime": {
     "end_time": "2022-03-14T17:54:43.322000Z",
     "start_time": "2022-03-14T17:54:42.776575Z"
    }
   },
   "outputs": [],
   "source": [
    "import astropy\n",
    "from pathlib import Path\n",
    "import numpy as np\n",
    "import matplotlib.pyplot as plt \n",
    "import re \n",
    "from astropy.table import Table\n",
    "import astropy.table\n",
    "import json\n",
    "from scipy import stats\n",
    "from copy import deepcopy\n",
    "import scipy\n",
    "import warnings\n",
    "from tqdm import tqdm\n",
    "\n",
    "import matplotlib as mpl\n",
    "from sklearn.model_selection import train_test_split\n"
   ]
  },
  {
   "cell_type": "code",
   "execution_count": 5,
   "metadata": {
    "ExecuteTime": {
     "end_time": "2022-03-14T17:54:43.910447Z",
     "start_time": "2022-03-14T17:54:43.324030Z"
    }
   },
   "outputs": [],
   "source": [
    "from relaxed.analysis import get_mah, add_box_indices, alpha_analysis, vol_jacknife_err, get_an_from_am, get_a_from_t, get_t_from_a, diffmah_analysis\n",
    "from relaxed.models import training_suite, prepare_datasets\n",
    "from relaxed import halo_catalogs\n"
   ]
  },
  {
   "cell_type": "markdown",
   "metadata": {},
   "source": [
    "# Data"
   ]
  },
  {
   "cell_type": "code",
   "execution_count": 6,
   "metadata": {
    "ExecuteTime": {
     "end_time": "2022-03-14T17:54:47.656677Z",
     "start_time": "2022-03-14T17:54:44.972510Z"
    }
   },
   "outputs": [],
   "source": [
    "mah_data = get_mah('m12', '../../output/', cutoff_missing=0.05, cutoff_particle=0.05)"
   ]
  },
  {
   "cell_type": "code",
   "execution_count": 7,
   "metadata": {
    "ExecuteTime": {
     "end_time": "2022-03-14T17:54:47.681730Z",
     "start_time": "2022-03-14T17:54:47.659216Z"
    }
   },
   "outputs": [
    {
     "name": "stdout",
     "output_type": "stream",
     "text": [
      "(10000,) (10000,) (10000,) (10000, 100) (10000, 165) (165,) (100,)\n"
     ]
    }
   ],
   "source": [
    "# catalog\n",
    "cat = mah_data['cat']\n",
    "xoff = cat['x0']\n",
    "cvir = cat['cvir']\n",
    "eta = cat['eta']\n",
    "spin = cat['spin']\n",
    "voff = cat['v0']\n",
    "# spin_b = cat['spin_bullock'] # need to add catalog \n",
    "# m2 = cat['m2_a179'], fraction of largest subhalo mass \n",
    "# separate b/a and c/a ?? \n",
    "q = cat['q']\n",
    "ma = mah_data['ma']\n",
    "am = mah_data['am']\n",
    "\n",
    "scales = mah_data['scales']\n",
    "mass_bins = mah_data['mass_bins']\n",
    "print(cvir.shape, xoff.shape, eta.shape, am.shape, ma.shape, scales.shape, mass_bins.shape)"
   ]
  },
  {
   "cell_type": "code",
   "execution_count": 9,
   "metadata": {
    "ExecuteTime": {
     "end_time": "2022-03-14T17:57:20.172391Z",
     "start_time": "2022-03-14T17:56:08.725129Z"
    }
   },
   "outputs": [
    {
     "name": "stderr",
     "output_type": "stream",
     "text": [
      "Fitting Alpha parametrization: 100%|█████████████████████████████████████████████████████████████████████████████████████████████████████████████████████████████████████████████████████████| 10000/10000 [01:11<00:00, 140.08it/s]\n"
     ]
    }
   ],
   "source": [
    "alphas, ma_exp, am_exp = alpha_analysis(ma, scales, mass_bins)\n",
    "cat.add_column(alphas, name='alpha')"
   ]
  },
  {
   "cell_type": "code",
   "execution_count": 10,
   "metadata": {
    "ExecuteTime": {
     "end_time": "2022-03-14T17:57:20.880529Z",
     "start_time": "2022-03-14T17:57:20.838419Z"
    }
   },
   "outputs": [],
   "source": [
    "# prepare catalog with all a_m\n",
    "am_names = [f'am_{ii}' for ii in range(len(mass_bins))]\n",
    "for ii in range(len(mass_bins)):\n",
    "    cat.add_column(am[:, ii], name=am_names[ii])"
   ]
  },
  {
   "cell_type": "code",
   "execution_count": 11,
   "metadata": {
    "ExecuteTime": {
     "end_time": "2022-03-14T17:57:23.278701Z",
     "start_time": "2022-03-14T17:57:21.516428Z"
    }
   },
   "outputs": [
    {
     "name": "stderr",
     "output_type": "stream",
     "text": [
      "/home/imendoza/.cache/pypoetry/virtualenvs/nbody-relaxed-NAcJ5UAP-py3.8/lib/python3.8/site-packages/jax/experimental/optimizers.py:28: FutureWarning: jax.experimental.optimizers is deprecated, import jax.example_libraries.optimizers instead\n",
      "  warnings.warn('jax.experimental.optimizers is deprecated, '\n"
     ]
    }
   ],
   "source": [
    "#finally diffmah jax fits.\n",
    "from diffmah.individual_halo_assembly import _get_early_late\n",
    "pars = np.load('../../output/pbest_9900.npy')\n",
    "logtc, ue, ul = pars[:, 0], pars[:, 1], pars[:, 2]\n",
    "early, late = _get_early_late(ue, ul)\n",
    "\n",
    "cat = cat[:9901]\n",
    "cat.add_column(10**logtc, name='tau_c') # -> use log scale.\n",
    "cat.add_column(early, name='alpha_early')\n",
    "cat.add_column(late, name='alpha_late')"
   ]
  },
  {
   "cell_type": "code",
   "execution_count": 12,
   "metadata": {
    "ExecuteTime": {
     "end_time": "2022-03-14T17:57:24.925764Z",
     "start_time": "2022-03-14T17:57:24.891958Z"
    }
   },
   "outputs": [],
   "source": [
    "# add box indices to cat for uncertainty purposes\n",
    "add_box_indices(cat)"
   ]
  },
  {
   "cell_type": "code",
   "execution_count": 13,
   "metadata": {
    "ExecuteTime": {
     "end_time": "2022-03-14T17:57:27.297218Z",
     "start_time": "2022-03-14T17:57:27.140496Z"
    }
   },
   "outputs": [],
   "source": [
    "params = ('cvir', 't/|u|', 'x0', 'spin', 'q')\n",
    "info = {\n",
    "    'all': {'x': am_names, 'y': params, },\n",
    "    'alpha': {'x': ('alpha',), 'y': params, },\n",
    "    'diffmah': {'x':('tau_c', 'alpha_early', 'alpha_late'), 'y':params,},\n",
    "}\n",
    "datasets, cat_train, cat_test = prepare_datasets(cat, info)"
   ]
  },
  {
   "cell_type": "markdown",
   "metadata": {},
   "source": [
    "# Train"
   ]
  },
  {
   "cell_type": "markdown",
   "metadata": {},
   "source": [
    "# Predict present-day parameters from MAH"
   ]
  },
  {
   "cell_type": "code",
   "execution_count": 16,
   "metadata": {
    "ExecuteTime": {
     "end_time": "2022-03-14T17:58:00.149869Z",
     "start_time": "2022-03-14T17:57:55.844876Z"
    }
   },
   "outputs": [],
   "source": [
    "# joint models\n",
    "data ={\n",
    "    'multicam': {\n",
    "        'xy': datasets['all']['train'], 'n_features': 100, 'n_targets': 5, 'model': 'linear',\n",
    "        'kwargs': {'to_marginal_normal':True , 'use_multicam': True},\n",
    "    },\n",
    "    'multicam_alpha': {\n",
    "        'xy': datasets['alpha']['train'], 'n_features': 1, 'n_targets': 5, 'model': 'linear',\n",
    "        'kwargs': {'to_marginal_normal':True , 'use_multicam': True},\n",
    "    },\n",
    "    'multicam_diffmah': {\n",
    "        'xy': datasets['diffmah']['train'], 'n_features': 3, 'n_targets': 5, \n",
    "        'model': 'linear', 'kwargs': {'to_marginal_normal':True , 'use_multicam': True},\n",
    "    },\n",
    "    'mixed_cam': {\n",
    "        'xy': datasets['all']['train'], 'n_features': 100, 'n_targets': 5, \n",
    "        'model': 'mixed_cam', 'kwargs':{'mass_bins':mass_bins, \n",
    "                                        'opt_mbins':(0.5, 0.738, 0.67, 0.54, 0.67), \n",
    "                                        'cam_orders':(-1, +1, +1, +1, -1)},\n",
    "    }\n",
    "}\n",
    "joint_models = training_suite(data)\n"
   ]
  },
  {
   "cell_type": "markdown",
   "metadata": {},
   "source": [
    "\n",
    "# Metrics whisker plots"
   ]
  },
  {
   "cell_type": "markdown",
   "metadata": {},
   "source": [
    "## Setup"
   ]
  },
  {
   "cell_type": "code",
   "execution_count": 24,
   "metadata": {
    "ExecuteTime": {
     "end_time": "2022-03-14T17:59:17.183987Z",
     "start_time": "2022-03-14T17:59:17.147330Z"
    }
   },
   "outputs": [],
   "source": [
    "latex_metrics = {\n",
    "    'mu': r\"$\\mu \\left( y_{\\rm pred} - y_{\\rm true} \\right)$\", \n",
    "    'med': r\"$\\mu_{x}'$\",\n",
    "    'sigma_ratio': r\"$\\sigma_{\\rm pred} / \\sigma_{\\rm true}$\",\n",
    "    'corr': r\"$\\rho$\",\n",
    "    'rscatter':r\"$\\frac{\\sigma(y_{\\rm pred} - y_{\\rm true})}{\\sigma(y_{\\rm true})}$\",\n",
    "}\n",
    "\n",
    "latex_params = {\n",
    "    'cvir': r\"$c_{\\rm vir}$\",\n",
    "    't/|u|':  r\"$t/\\vert u \\vert$\",\n",
    "    'x0': r\"$x_{\\rm off}$\", \n",
    "    'spin': r\"$s$\",\n",
    "    'q': r\"$q$\",\n",
    "}"
   ]
  },
  {
   "cell_type": "code",
   "execution_count": 36,
   "metadata": {
    "ExecuteTime": {
     "end_time": "2022-03-14T18:27:39.662881Z",
     "start_time": "2022-03-14T18:27:39.604470Z"
    }
   },
   "outputs": [],
   "source": [
    "def compute_metrics(pred_func, _x_test, _y_test, box_keep = None):\n",
    "    # pred_func should return ONLY 1 parameter. (e.g. lambda wrapped around indexing)\n",
    "    if box_keep is None:\n",
    "        box_keep = np.ones(_x_test.shape[0]).astype(bool)\n",
    "    \n",
    "    x_test = _x_test[box_keep]\n",
    "    y_test = _y_test[box_keep].reshape(-1)\n",
    "    \n",
    "    y_pred = pred_func(x_test).reshape(-1)\n",
    "    x = (y_pred - y_test) / np.std(y_test) # normalize\n",
    "\n",
    "    return {'mu': np.mean(x), \n",
    "            'sigma_ratio': np.std(y_pred) / np.std(y_test), \n",
    "            'corr': scipy.stats.spearmanr(y_pred, y_test)[0],\n",
    "            'rscatter': np.std(x) / np.sqrt(2), \n",
    "            'mad': np.mean(np.abs(x)), \n",
    "           }\n",
    "\n",
    "\n",
    "def metrics_plot(metrics_data: dict, test_data: dict, trained_models: dict, \n",
    "                 cat_test, params=(\"cvir\",), legend_size=20, figsize=(12, 12),nrows=2, ncols=2,\n",
    "                 ticksize=16,\n",
    "               ):\n",
    "    # params and models MUST have same order (until switch to pandas...)\n",
    "    fig, axes = plt.subplots(nrows, ncols, figsize=figsize)\n",
    "    axes = axes.flatten()\n",
    "    model_metrics = {} \n",
    "\n",
    "    for jj, param in enumerate(params): \n",
    "        for mdl_name, (x_test, label, color, shape) in test_data.items():\n",
    "            model = trained_models[mdl_name]\n",
    "            pred_func = lambda x: model.predict(x)[:, jj]\n",
    "            y_test = cat_test[param].value.reshape(-1)\n",
    "            y_pred = pred_func(x_test).reshape(-1)\n",
    "            x = (y_pred - y_test) / np.std(y_test)\n",
    "            val_metrics = compute_metrics(pred_func, x_test, y_test)\n",
    "            errs = vol_jacknife_err(cat_test, compute_metrics, pred_func, x_test, y_test, mode='dict')\n",
    "            model_metrics[(param, mdl_name)] = {k:(val_metrics[k], errs[k]) for k in metrics_data}\n",
    "\n",
    "    params_latex = [latex_params[par] for par in params]\n",
    "    for ii, met in enumerate(metrics_data):\n",
    "        ax = axes[ii]\n",
    "        ax.set_xlim(-0.25, len(params))\n",
    "        if 'yrange' in metrics_data[met]:\n",
    "            if metrics_data[met]['yrange'] is not None:\n",
    "                ax.set_ylim(metrics_data[met]['yrange'])\n",
    "        ax.set_xticks(np.array(list(range(len(params)))))\n",
    "        ax.set_xticklabels(params_latex)\n",
    "        ax.tick_params(axis='x', labelsize=ticksize)\n",
    "        x_bias = 0.0\n",
    "        for kk, (mdl_name, (x_test, label, color, marker)) in enumerate(test_data.items()):\n",
    "            for jj, param in enumerate(params):\n",
    "                label = label if (jj== 0 and ii==0) else None\n",
    "                val, err = model_metrics[(param, mdl_name)][met]\n",
    "                ax.errorbar(jj+x_bias, val, yerr=err, label=label, marker=marker, \n",
    "                            color=color, capsize=2.5, ms=6, capthick=2.0)\n",
    "            x_bias+=0.1\n",
    "        \n",
    "        if metrics_data[met].get('hline', None) is not None:\n",
    "            ax.axhline(metrics_data[met]['hline'], ls='--', color='k')\n",
    "        ax.set_ylabel(latex_metrics[met], size=28)\n",
    "        \n",
    "        if ii == 0:\n",
    "            ax.legend(prop={'size':legend_size}, bbox_to_anchor=(0.7, 1.25))\n",
    "    plt.tight_layout()"
   ]
  },
  {
   "cell_type": "markdown",
   "metadata": {},
   "source": [
    "## Results"
   ]
  },
  {
   "cell_type": "code",
   "execution_count": 37,
   "metadata": {
    "ExecuteTime": {
     "end_time": "2022-03-14T18:28:02.526709Z",
     "start_time": "2022-03-14T18:27:44.808514Z"
    }
   },
   "outputs": [
    {
     "data": {
      "image/png": "[encoded data removed]",
      "text/plain": [
       "<Figure size 864x864 with 4 Axes>"
      ]
     },
     "metadata": {
      "needs_background": "light"
     },
     "output_type": "display_data"
    }
   ],
   "source": [
    "metrics_data = {\n",
    "    'corr': {'yrange':( 0.25,0.85)},\n",
    "    'rscatter': {'yrange':(0.0,1.25)},\n",
    "    'sigma_ratio': {'yrange':(0.8, 1.2), 'hline': 1.0},\n",
    "    'mu': {'yrange':(-0.2, 0.2), 'hline': 0.0},\n",
    "}\n",
    "test_data = {\n",
    "    'multicam': (datasets['all']['test'][0], r\"\\rm MultiCAM\", 'r', 'o'),\n",
    "    'multicam_alpha': (datasets['alpha']['test'][0], r\"\\rm MultiCAM $\\alpha$ only\", 'g', 'D'),\n",
    "    'multicam_diffmah': (datasets['diffmah']['test'][0], r\"\\rm MultiCAM DiffMAH parameters\", 'b', 's'),\n",
    "    'mixed_cam': (datasets['all']['test'][0], r\"\\rm Mixed CAM\", 'm', '^'),\n",
    "#     'linear_except_x0': (datasets['except_x0']['test'][0], r\"\\rm Linear Regression except $x_{\\rm off}$\", 'c', '*'),\n",
    "\n",
    "}\n",
    "metrics_plot(metrics_data, test_data, joint_models, cat_test, params=params, \n",
    "             ncols=2, nrows=2, figsize=(12, 12), ticksize=24, legend_size=16)\n",
    "\n"
   ]
  },
  {
   "cell_type": "code",
   "execution_count": null,
   "metadata": {},
   "outputs": [],
   "source": []
  }
 ],
 "metadata": {
  "kernelspec": {
   "display_name": "Python 3 (ipykernel)",
   "language": "python",
   "name": "python3"
  },
  "language_info": {
   "codemirror_mode": {
    "name": "ipython",
    "version": 3
   },
   "file_extension": ".py",
   "mimetype": "text/x-python",
   "name": "python",
   "nbconvert_exporter": "python",
   "pygments_lexer": "ipython3",
   "version": "3.8.10"
  },
  "toc": {
   "base_numbering": 1,
   "nav_menu": {},
   "number_sections": true,
   "sideBar": true,
   "skip_h1_title": false,
   "title_cell": "Table of Contents",
   "title_sidebar": "Contents",
   "toc_cell": false,
   "toc_position": {
    "height": "calc(100% - 180px)",
    "left": "10px",
    "top": "150px",
    "width": "176px"
   },
   "toc_section_display": true,
   "toc_window_display": true
  },
  "toc-autonumbering": false,
  "toc-showmarkdowntxt": true,
  "toc-showtags": false
 },
 "nbformat": 4,
 "nbformat_minor": 4
}
