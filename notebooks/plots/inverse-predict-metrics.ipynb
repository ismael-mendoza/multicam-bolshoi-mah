{
 "cells": [
  {
   "cell_type": "markdown",
   "metadata": {},
   "source": [
    "# Setup"
   ]
  },
  {
   "cell_type": "code",
   "execution_count": 1,
   "metadata": {
    "ExecuteTime": {
     "end_time": "2022-02-17T21:05:15.795467Z",
     "start_time": "2022-02-17T21:05:15.764600Z"
    }
   },
   "outputs": [
    {
     "name": "stdout",
     "output_type": "stream",
     "text": [
      "Modules to reload:\n",
      "all-except-skipped\n",
      "\n",
      "Modules to skip:\n",
      "\n"
     ]
    }
   ],
   "source": [
    "%load_ext autoreload\n",
    "%autoreload 2\n",
    "%aimport"
   ]
  },
  {
   "cell_type": "code",
   "execution_count": 2,
   "metadata": {
    "ExecuteTime": {
     "end_time": "2022-02-17T21:05:17.669566Z",
     "start_time": "2022-02-17T21:05:16.132489Z"
    }
   },
   "outputs": [],
   "source": [
    "%matplotlib inline"
   ]
  },
  {
   "cell_type": "code",
   "execution_count": 3,
   "metadata": {
    "ExecuteTime": {
     "end_time": "2022-02-17T21:05:17.694556Z",
     "start_time": "2022-02-17T21:05:17.671504Z"
    }
   },
   "outputs": [],
   "source": [
    "from relaxed.plot_defaults import *"
   ]
  },
  {
   "cell_type": "code",
   "execution_count": 4,
   "metadata": {
    "ExecuteTime": {
     "end_time": "2022-02-17T21:05:18.978541Z",
     "start_time": "2022-02-17T21:05:17.697025Z"
    }
   },
   "outputs": [],
   "source": [
    "import astropy\n",
    "from pathlib import Path\n",
    "import numpy as np\n",
    "import matplotlib.pyplot as plt \n",
    "import re \n",
    "from astropy.table import Table\n",
    "import astropy.table\n",
    "import json\n",
    "from scipy import stats\n",
    "from copy import deepcopy\n",
    "import scipy\n",
    "import warnings\n",
    "from tqdm import tqdm\n",
    "\n",
    "import matplotlib as mpl\n",
    "from sklearn.model_selection import train_test_split\n"
   ]
  },
  {
   "cell_type": "code",
   "execution_count": 5,
   "metadata": {
    "ExecuteTime": {
     "end_time": "2022-02-17T21:05:20.226089Z",
     "start_time": "2022-02-17T21:05:19.538090Z"
    }
   },
   "outputs": [],
   "source": [
    "from relaxed.analysis import get_mah, add_box_indices, alpha_analysis, vol_jacknife_err, get_an_from_am\n",
    "from relaxed.models import training_suite, prepare_datasets\n",
    "from relaxed import halo_catalogs\n"
   ]
  },
  {
   "cell_type": "markdown",
   "metadata": {},
   "source": [
    "# Data"
   ]
  },
  {
   "cell_type": "code",
   "execution_count": 6,
   "metadata": {
    "ExecuteTime": {
     "end_time": "2022-02-17T21:05:24.509138Z",
     "start_time": "2022-02-17T21:05:21.664795Z"
    }
   },
   "outputs": [],
   "source": [
    "mah_data = get_mah('m12', '../../output/', cutoff_missing=0.05, cutoff_particle=0.05)"
   ]
  },
  {
   "cell_type": "code",
   "execution_count": 7,
   "metadata": {
    "ExecuteTime": {
     "end_time": "2022-02-17T21:05:24.579245Z",
     "start_time": "2022-02-17T21:05:24.512812Z"
    }
   },
   "outputs": [
    {
     "name": "stdout",
     "output_type": "stream",
     "text": [
      "(10000,) (10000,) (10000,) (10000, 100) (10000, 165) (165,) (100,)\n"
     ]
    }
   ],
   "source": [
    "# catalog\n",
    "cat = mah_data['cat']\n",
    "xoff = cat['x0']\n",
    "cvir = cat['cvir']\n",
    "eta = cat['eta']\n",
    "spin = cat['spin']\n",
    "voff = cat['v0']\n",
    "# spin_b = cat['spin_bullock'] # need to add catalog \n",
    "# m2 = cat['m2_a179'], fraction of largest subhalo mass \n",
    "# separate b/a and c/a ?? \n",
    "q = cat['q']\n",
    "ma = mah_data['ma']\n",
    "am = mah_data['am']\n",
    "\n",
    "scales = mah_data['scales']\n",
    "mass_bins = mah_data['mass_bins']\n",
    "print(cvir.shape, xoff.shape, eta.shape, am.shape, ma.shape, scales.shape, mass_bins.shape)"
   ]
  },
  {
   "cell_type": "code",
   "execution_count": 8,
   "metadata": {
    "ExecuteTime": {
     "end_time": "2022-02-17T21:07:06.100609Z",
     "start_time": "2022-02-17T21:05:25.677531Z"
    }
   },
   "outputs": [
    {
     "name": "stderr",
     "output_type": "stream",
     "text": [
      "100%|███████████████████████████████████████████████████████████████████████████████████████████████████████████████████████████████████████| 10000/10000 [01:40<00:00, 99.74it/s]\n"
     ]
    }
   ],
   "source": [
    "alphas, ma_exp, am_exp = alpha_analysis(ma, scales, mass_bins)"
   ]
  },
  {
   "cell_type": "code",
   "execution_count": 9,
   "metadata": {
    "ExecuteTime": {
     "end_time": "2022-02-17T21:07:06.410549Z",
     "start_time": "2022-02-17T21:07:06.105832Z"
    }
   },
   "outputs": [],
   "source": [
    "a2 = get_an_from_am(am, mass_bins, mbin=0.5)"
   ]
  },
  {
   "cell_type": "code",
   "execution_count": 10,
   "metadata": {
    "ExecuteTime": {
     "end_time": "2022-02-17T21:07:06.489985Z",
     "start_time": "2022-02-17T21:07:06.412988Z"
    }
   },
   "outputs": [],
   "source": [
    "cat.add_column(alphas, name='alpha')\n",
    "cat.add_column(a2, name='a2')"
   ]
  },
  {
   "cell_type": "code",
   "execution_count": 11,
   "metadata": {
    "ExecuteTime": {
     "end_time": "2022-02-17T21:07:06.545250Z",
     "start_time": "2022-02-17T21:07:06.499544Z"
    }
   },
   "outputs": [],
   "source": [
    "# add box indices to cat for uncertainty purposes\n",
    "add_box_indices(cat)"
   ]
  },
  {
   "cell_type": "code",
   "execution_count": 12,
   "metadata": {
    "ExecuteTime": {
     "end_time": "2022-02-17T21:07:06.886390Z",
     "start_time": "2022-02-17T21:07:06.549561Z"
    }
   },
   "outputs": [],
   "source": [
    "info = {\n",
    "    'cvir_only': {'x': ('cvir', ), 'y': ('a2', 'alpha'), },\n",
    "    'all': {'x':('cvir', 't/|u|', 'x0', 'spin', 'q'), 'y':('a2', 'alpha'),},\n",
    "    'except_cvir': {'x':('t/|u|', 'x0', 'spin', 'q'), 'y':('a2', 'alpha'),},\n",
    "}\n",
    "datasets, cat_train, cat_test = prepare_datasets(cat, info)"
   ]
  },
  {
   "cell_type": "markdown",
   "metadata": {},
   "source": [
    "# Train"
   ]
  },
  {
   "cell_type": "code",
   "execution_count": 13,
   "metadata": {
    "ExecuteTime": {
     "end_time": "2022-02-17T21:07:21.729808Z",
     "start_time": "2022-02-17T21:07:20.765507Z"
    }
   },
   "outputs": [],
   "source": [
    "# joint models\n",
    "data ={\n",
    "    'linear_cvir': {\n",
    "        'xy': datasets['cvir_only']['train'], 'n_features': 1, 'n_targets': 2, 'model': 'linear',\n",
    "        'kwargs': {'to_marginal_normal':True , 'use_multicam': True},\n",
    "    },\n",
    "    'linear_all': {\n",
    "        'xy': datasets['all']['train'], 'n_features': 5, 'n_targets': 2, 'model': 'linear',\n",
    "        'kwargs': {'to_marginal_normal':True , 'use_multicam': True},\n",
    "    },\n",
    "    'linear_except_cvir': {\n",
    "        'xy': datasets['except_cvir']['train'], 'n_features': 4, 'n_targets': 2, 'model': 'linear',\n",
    "        'kwargs': {'to_marginal_normal':True , 'use_multicam': True},\n",
    "    },\n",
    "}\n",
    "joint_models = training_suite(data)"
   ]
  },
  {
   "cell_type": "markdown",
   "metadata": {},
   "source": [
    "\n",
    "# Metrics whisker plots"
   ]
  },
  {
   "cell_type": "markdown",
   "metadata": {},
   "source": [
    "## Setup"
   ]
  },
  {
   "cell_type": "code",
   "execution_count": 14,
   "metadata": {
    "ExecuteTime": {
     "end_time": "2022-02-17T21:07:32.976737Z",
     "start_time": "2022-02-17T21:07:32.905673Z"
    }
   },
   "outputs": [],
   "source": [
    "latex_metrics = {\n",
    "    'mu': r\"$\\mu \\left( y_{\\rm pred} - y_{\\rm true} \\right)$\", \n",
    "    'med': r\"$\\mu_{x}'$\",\n",
    "    'sigma_ratio': r\"$\\sigma_{\\rm pred} / \\sigma_{\\rm true}$\",\n",
    "    'corr': r\"$\\rho$\",\n",
    "    'rscatter':r\"$\\frac{\\sigma(y_{\\rm pred} - y_{\\rm true})}{ \\sigma(y_{\\rm true}) \\sqrt{2}}$\",\n",
    "}\n",
    "\n",
    "latex_params = {\n",
    "    'cvir': r\"$c_{\\rm vir}$\",\n",
    "    't/|u|':  r\"$t/\\vert u \\vert$\",\n",
    "    'x0': r\"$x_{\\rm off}$\", \n",
    "    'spin': r\"$s$\",\n",
    "    'q': r\"$q$\",\n",
    "    'a2': r\"$a_{1/2}$\",\n",
    "    'alpha': r\"$\\alpha$\"\n",
    "}\n",
    "\n",
    "\n",
    "def compute_metrics(pred_func, _x_test, _y_test, box_keep = None):\n",
    "    # pred_func should return ONLY 1 parameter. (e.g. lambda wrapped around indexing)\n",
    "    if box_keep is None:\n",
    "        box_keep = np.ones(_x_test.shape[0]).astype(bool)\n",
    "    \n",
    "    x_test = _x_test[box_keep]\n",
    "    y_test = _y_test[box_keep].reshape(-1)\n",
    "    \n",
    "    y_pred = pred_func(x_test).reshape(-1)\n",
    "    x = (y_pred - y_test) / np.std(y_test) # normalize\n",
    "\n",
    "    return {'mu': np.mean(x), \n",
    "            'med': np.median(x),\n",
    "            'sigma_ratio': np.std(y_pred) / np.std(y_test), \n",
    "            'corr': scipy.stats.spearmanr(y_pred, y_test)[0],\n",
    "            'rscatter': np.std(x) / np.sqrt(2)\n",
    "           }\n",
    "\n",
    "\n",
    "def metrics_plot(metrics_data: dict, test_data: dict, trained_models: dict, \n",
    "                 cat_test, params=(\"cvir\",), legend_size=20, figsize=(12, 12),\n",
    "               ):\n",
    "    # params and models MUST have same order (until switch to pandas...)\n",
    "    fig, axes = plt.subplots(2, 2, figsize=figsize)\n",
    "    axes = axes.flatten()\n",
    "    model_metrics = {} \n",
    "\n",
    "    for jj, param in enumerate(params): \n",
    "        for mdl_name, (x_test, label, color, shape) in test_data.items():\n",
    "            model = trained_models[mdl_name]\n",
    "            pred_func = lambda x: model.predict(x)[:, jj]\n",
    "            y_test = cat_test[param].value.reshape(-1)\n",
    "            y_pred = pred_func(x_test).reshape(-1)\n",
    "            x = (y_pred - y_test) / np.std(y_test)\n",
    "            val_metrics = compute_metrics(pred_func, x_test, y_test)\n",
    "            errs = vol_jacknife_err(cat_test, compute_metrics, pred_func, x_test, y_test, mode='dict')\n",
    "            model_metrics[(param, mdl_name)] = {k:(val_metrics[k], errs[k]) for k in metrics_data}\n",
    "\n",
    "    params_latex = [latex_params[par] for par in params]\n",
    "    for ii, met in enumerate(metrics_data):\n",
    "        ax = axes[ii]\n",
    "        ax.set_xlim(-0.25, len(params)+0.25)\n",
    "        ax.set_ylim(metrics_data[met]['yrange'])\n",
    "        ax.set_xticks(list(range(len(params))))\n",
    "        ax.set_xticklabels(params_latex)\n",
    "        x_bias = 0.0\n",
    "        for kk, (mdl_name, (x_test, label, color, marker)) in enumerate(test_data.items()):\n",
    "            for jj, param in enumerate(params):\n",
    "                label = label if (jj== 0 and ii==0) else None\n",
    "                val, err = model_metrics[(param, mdl_name)][met]\n",
    "                ax.errorbar(jj+x_bias, val, yerr=err, label=label, marker=marker, \n",
    "                            color=color, capsize=2.5, ms=6, capthick=2.0)\n",
    "            x_bias+=0.1\n",
    "        \n",
    "        if metrics_data[met].get('hline', None) is not None:\n",
    "            ax.axhline(metrics_data[met]['hline'], ls='--', color='k')\n",
    "        ax.set_ylabel(latex_metrics[met], size=28)\n",
    "        \n",
    "        if ii == 0:\n",
    "            ax.legend(prop={'size':legend_size}, bbox_to_anchor=(1.05, 1.35))\n",
    "    plt.tight_layout()"
   ]
  },
  {
   "cell_type": "markdown",
   "metadata": {},
   "source": [
    "## Results"
   ]
  },
  {
   "cell_type": "code",
   "execution_count": 15,
   "metadata": {
    "ExecuteTime": {
     "end_time": "2022-02-17T21:07:36.723840Z",
     "start_time": "2022-02-17T21:07:34.201431Z"
    },
    "scrolled": false
   },
   "outputs": [
    {
     "data": {
      "image/png": "[encoded data removed]",
      "text/plain": [
       "<Figure size 864x864 with 4 Axes>"
      ]
     },
     "metadata": {
      "needs_background": "light"
     },
     "output_type": "display_data"
    }
   ],
   "source": [
    "metrics_data = {\n",
    "    'corr': {'yrange':( 0.5,0.85)},\n",
    "    'rscatter': {'yrange':(0.3,0.7)},\n",
    "    'sigma_ratio': {'yrange':(0.8, 1.2), 'hline': 1.0},\n",
    "    'mu': {'yrange':(-0.2, 0.2), 'hline': 0.0},\n",
    "}\n",
    "test_data = {\n",
    "    'linear_all': (datasets['all']['test'][0], r\"\\rm Linear Regression All\", 'r', 'o'),\n",
    "    'linear_cvir': (datasets['cvir_only']['test'][0], r\"\\rm Linear Regression w/ $c_{\\rm vir}$ only\", 'b', 's'),\n",
    "    'linear_except_cvir': (datasets['except_cvir']['test'][0], r\"\\rm Linear Regression except $c_{\\rm vir}$\", 'g', '^'),\n",
    "\n",
    "}\n",
    "metrics_plot(metrics_data, test_data, joint_models, cat_test, params=('a2', 'alpha'), )"
   ]
  },
  {
   "cell_type": "code",
   "execution_count": null,
   "metadata": {},
   "outputs": [],
   "source": []
  }
 ],
 "metadata": {
  "kernelspec": {
   "display_name": "Python 3 (ipykernel)",
   "language": "python",
   "name": "python3"
  },
  "language_info": {
   "codemirror_mode": {
    "name": "ipython",
    "version": 3
   },
   "file_extension": ".py",
   "mimetype": "text/x-python",
   "name": "python",
   "nbconvert_exporter": "python",
   "pygments_lexer": "ipython3",
   "version": "3.8.12"
  },
  "toc": {
   "base_numbering": 1,
   "nav_menu": {},
   "number_sections": true,
   "sideBar": true,
   "skip_h1_title": false,
   "title_cell": "Table of Contents",
   "title_sidebar": "Contents",
   "toc_cell": false,
   "toc_position": {
    "height": "calc(100% - 180px)",
    "left": "10px",
    "top": "150px",
    "width": "176px"
   },
   "toc_section_display": true,
   "toc_window_display": true
  },
  "toc-autonumbering": false,
  "toc-showmarkdowntxt": true,
  "toc-showtags": false
 },
 "nbformat": 4,
 "nbformat_minor": 4
}
