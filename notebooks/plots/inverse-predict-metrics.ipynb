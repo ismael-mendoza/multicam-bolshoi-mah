{
 "cells": [
  {
   "cell_type": "markdown",
   "metadata": {},
   "source": [
    "# Setup"
   ]
  },
  {
   "cell_type": "code",
   "execution_count": 11,
   "metadata": {
    "ExecuteTime": {
     "end_time": "2022-02-20T14:44:53.562386Z",
     "start_time": "2022-02-20T14:44:53.505506Z"
    }
   },
   "outputs": [
    {
     "name": "stdout",
     "output_type": "stream",
     "text": [
      "The autoreload extension is already loaded. To reload it, use:\n",
      "  %reload_ext autoreload\n",
      "Modules to reload:\n",
      "all-except-skipped\n",
      "\n",
      "Modules to skip:\n",
      "\n"
     ]
    }
   ],
   "source": [
    "%load_ext autoreload\n",
    "%autoreload 2\n",
    "%aimport"
   ]
  },
  {
   "cell_type": "code",
   "execution_count": 12,
   "metadata": {
    "ExecuteTime": {
     "end_time": "2022-02-20T14:44:53.694760Z",
     "start_time": "2022-02-20T14:44:53.659454Z"
    }
   },
   "outputs": [],
   "source": [
    "%matplotlib inline"
   ]
  },
  {
   "cell_type": "code",
   "execution_count": 13,
   "metadata": {
    "ExecuteTime": {
     "end_time": "2022-02-20T14:44:53.849884Z",
     "start_time": "2022-02-20T14:44:53.811711Z"
    }
   },
   "outputs": [],
   "source": [
    "from relaxed.plot_defaults import *"
   ]
  },
  {
   "cell_type": "code",
   "execution_count": 14,
   "metadata": {
    "ExecuteTime": {
     "end_time": "2022-02-20T14:44:54.010887Z",
     "start_time": "2022-02-20T14:44:53.968633Z"
    }
   },
   "outputs": [],
   "source": [
    "import astropy\n",
    "from pathlib import Path\n",
    "import numpy as np\n",
    "import matplotlib.pyplot as plt \n",
    "import re \n",
    "from astropy.table import Table\n",
    "import astropy.table\n",
    "import json\n",
    "from scipy import stats\n",
    "from copy import deepcopy\n",
    "import scipy\n",
    "import warnings\n",
    "from tqdm import tqdm\n",
    "\n",
    "import matplotlib as mpl\n",
    "from sklearn.model_selection import train_test_split\n"
   ]
  },
  {
   "cell_type": "code",
   "execution_count": 15,
   "metadata": {
    "ExecuteTime": {
     "end_time": "2022-02-20T14:44:54.181193Z",
     "start_time": "2022-02-20T14:44:54.145335Z"
    }
   },
   "outputs": [],
   "source": [
    "from relaxed.analysis import get_mah, add_box_indices, alpha_analysis, vol_jacknife_err, get_an_from_am, get_a_from_t, get_t_from_a\n",
    "from relaxed.models import training_suite, prepare_datasets\n",
    "from relaxed import halo_catalogs\n"
   ]
  },
  {
   "cell_type": "markdown",
   "metadata": {},
   "source": [
    "# Data"
   ]
  },
  {
   "cell_type": "code",
   "execution_count": 6,
   "metadata": {
    "ExecuteTime": {
     "end_time": "2022-02-20T14:29:12.039696Z",
     "start_time": "2022-02-20T14:29:09.652533Z"
    }
   },
   "outputs": [],
   "source": [
    "mah_data = get_mah('m12', '../../output/', cutoff_missing=0.05, cutoff_particle=0.05)"
   ]
  },
  {
   "cell_type": "code",
   "execution_count": 7,
   "metadata": {
    "ExecuteTime": {
     "end_time": "2022-02-20T14:29:12.073974Z",
     "start_time": "2022-02-20T14:29:12.041529Z"
    }
   },
   "outputs": [
    {
     "name": "stdout",
     "output_type": "stream",
     "text": [
      "(10000,) (10000,) (10000,) (10000, 100) (10000, 165) (165,) (100,)\n"
     ]
    }
   ],
   "source": [
    "# catalog\n",
    "cat = mah_data['cat']\n",
    "xoff = cat['x0']\n",
    "cvir = cat['cvir']\n",
    "eta = cat['eta']\n",
    "spin = cat['spin']\n",
    "voff = cat['v0']\n",
    "# spin_b = cat['spin_bullock'] # need to add catalog \n",
    "# m2 = cat['m2_a179'], fraction of largest subhalo mass \n",
    "# separate b/a and c/a ?? \n",
    "q = cat['q']\n",
    "ma = mah_data['ma']\n",
    "am = mah_data['am']\n",
    "\n",
    "scales = mah_data['scales']\n",
    "mass_bins = mah_data['mass_bins']\n",
    "print(cvir.shape, xoff.shape, eta.shape, am.shape, ma.shape, scales.shape, mass_bins.shape)"
   ]
  },
  {
   "cell_type": "code",
   "execution_count": 46,
   "metadata": {
    "ExecuteTime": {
     "end_time": "2022-02-20T15:00:13.247423Z",
     "start_time": "2022-02-20T15:00:13.200167Z"
    }
   },
   "outputs": [],
   "source": [
    "# extract m(a_{tdyn}) = \\dot{M}_dynamical\n",
    "from astropy import units as u\n",
    "t0, _ = get_t_from_a(1)\n",
    "tdyn = np.mean(cat['tdyn']) / 10**9\n",
    "t = (t0 - tdyn) * u.Gyr\n",
    "a_dyn = get_a_from_t(t)\n",
    "indx_dyn = np.where(scales>0.805)[0][0]\n",
    "mdyn = ma[:, indx_dyn].reshape(-1, 1)"
   ]
  },
  {
   "cell_type": "code",
   "execution_count": 44,
   "metadata": {
    "ExecuteTime": {
     "end_time": "2022-02-20T15:00:11.601590Z",
     "start_time": "2022-02-20T14:58:47.125283Z"
    }
   },
   "outputs": [
    {
     "name": "stderr",
     "output_type": "stream",
     "text": [
      "100%|██████████████████████████████████████████████████████████████████████████████████████████████████████████████████████████████████████████████████████████████████████████████████████████████████| 10000/10000 [01:23<00:00, 119.39it/s]\n"
     ]
    }
   ],
   "source": [
    "alphas, ma_exp, am_exp = alpha_analysis(ma, scales, mass_bins)"
   ]
  },
  {
   "cell_type": "code",
   "execution_count": 47,
   "metadata": {
    "ExecuteTime": {
     "end_time": "2022-02-20T15:00:15.024884Z",
     "start_time": "2022-02-20T15:00:14.984051Z"
    }
   },
   "outputs": [],
   "source": [
    "a2 = get_an_from_am(am, mass_bins, mbin=0.5)\n",
    "a4 = get_an_from_am(am, mass_bins, mbin=0.75)"
   ]
  },
  {
   "cell_type": "code",
   "execution_count": 48,
   "metadata": {
    "ExecuteTime": {
     "end_time": "2022-02-20T15:00:16.535243Z",
     "start_time": "2022-02-20T15:00:16.482661Z"
    }
   },
   "outputs": [],
   "source": [
    "cat.add_column(alphas, name='alpha')\n",
    "cat.add_column(a2, name='a2')\n",
    "cat.add_column(a4, name='a4')\n",
    "cat.add_column(mdyn, name='mdyn')"
   ]
  },
  {
   "cell_type": "code",
   "execution_count": 49,
   "metadata": {
    "ExecuteTime": {
     "end_time": "2022-02-20T15:00:19.173535Z",
     "start_time": "2022-02-20T15:00:19.129240Z"
    }
   },
   "outputs": [],
   "source": [
    "# add box indices to cat for uncertainty purposes\n",
    "add_box_indices(cat)"
   ]
  },
  {
   "cell_type": "code",
   "execution_count": 51,
   "metadata": {
    "ExecuteTime": {
     "end_time": "2022-02-20T15:05:39.910435Z",
     "start_time": "2022-02-20T15:05:39.718206Z"
    }
   },
   "outputs": [],
   "source": [
    "info = {\n",
    "    'cvir_only': {'x': ('cvir', ), 'y': ('a2', 'a4', 'mdyn', 'alpha'), },\n",
    "    'x0_only': {'x': ('x0', ), 'y': ('a2', 'a4', 'mdyn', 'alpha'), },\n",
    "    'all': {'x':('cvir', 't/|u|', 'x0', 'spin', 'q'), 'y':('a2', 'a4', 'mdyn', 'alpha'),},\n",
    "    'except_cvir': {'x':('t/|u|', 'x0', 'spin', 'q'), 'y':('a2', 'a4', 'mdyn', 'alpha'),},\n",
    "    'except_x0': {'x':('cvir', 't/|u|', 'spin', 'q'), 'y':('a2', 'a4', 'mdyn', 'alpha'),},\n",
    "\n",
    "}\n",
    "datasets, cat_train, cat_test = prepare_datasets(cat, info)"
   ]
  },
  {
   "cell_type": "markdown",
   "metadata": {},
   "source": [
    "# Train"
   ]
  },
  {
   "cell_type": "code",
   "execution_count": 53,
   "metadata": {
    "ExecuteTime": {
     "end_time": "2022-02-20T15:06:06.670666Z",
     "start_time": "2022-02-20T15:06:05.031533Z"
    }
   },
   "outputs": [],
   "source": [
    "# joint models\n",
    "data ={\n",
    "    'linear_cvir': {\n",
    "        'xy': datasets['cvir_only']['train'], 'n_features': 1, 'n_targets': 4, 'model': 'linear',\n",
    "        'kwargs': {'to_marginal_normal':True , 'use_multicam': True},\n",
    "    },\n",
    "    'linear_x0': {\n",
    "        'xy': datasets['x0_only']['train'], 'n_features': 1, 'n_targets': 4, 'model': 'linear',\n",
    "        'kwargs': {'to_marginal_normal':True , 'use_multicam': True},\n",
    "    },\n",
    "    'linear_all': {\n",
    "        'xy': datasets['all']['train'], 'n_features': 5, 'n_targets': 4, 'model': 'linear',\n",
    "        'kwargs': {'to_marginal_normal':True , 'use_multicam': True},\n",
    "    },\n",
    "    'linear_except_cvir': {\n",
    "        'xy': datasets['except_cvir']['train'], 'n_features': 4, 'n_targets': 4, 'model': 'linear',\n",
    "        'kwargs': {'to_marginal_normal':True , 'use_multicam': True},\n",
    "    },\n",
    "    'linear_except_x0': {\n",
    "        'xy': datasets['except_x0']['train'], 'n_features': 4, 'n_targets': 4, 'model': 'linear',\n",
    "        'kwargs': {'to_marginal_normal':True , 'use_multicam': True},\n",
    "    },\n",
    "}\n",
    "joint_models = training_suite(data)"
   ]
  },
  {
   "cell_type": "markdown",
   "metadata": {},
   "source": [
    "\n",
    "# Metrics whisker plots"
   ]
  },
  {
   "cell_type": "markdown",
   "metadata": {},
   "source": [
    "## Setup"
   ]
  },
  {
   "cell_type": "code",
   "execution_count": 83,
   "metadata": {
    "ExecuteTime": {
     "end_time": "2022-02-20T15:37:13.056830Z",
     "start_time": "2022-02-20T15:37:12.990616Z"
    }
   },
   "outputs": [],
   "source": [
    "latex_metrics = {\n",
    "    'mu': r\"$\\mu \\left( y_{\\rm pred} - y_{\\rm true} \\right)$\", \n",
    "    'med': r\"$\\mu_{x}'$\",\n",
    "    'sigma_ratio': r\"$\\sigma_{\\rm pred} / \\sigma_{\\rm true}$\",\n",
    "    'corr': r\"$\\rho$\",\n",
    "    'rscatter':r\"$\\frac{\\sigma(y_{\\rm pred} - y_{\\rm true})}{ \\sigma(y_{\\rm true}) \\sqrt{2}}$\",\n",
    "    'mae': r\"\\rm MAE\",\n",
    "    'rmse': r\"\\rm RMSE\",\n",
    "}\n",
    "\n",
    "latex_params = {\n",
    "    'cvir': r\"$c_{\\rm vir}$\",\n",
    "    't/|u|':  r\"$t/\\vert u \\vert$\",\n",
    "    'x0': r\"$x_{\\rm off}$\", \n",
    "    'spin': r\"$s$\",\n",
    "    'q': r\"$q$\",\n",
    "    'a2': r\"$a_{1/2}$\",\n",
    "    'alpha': r\"$\\alpha$\", \n",
    "    'a4': r\"$a_{1/4}$\",\n",
    "    'mdyn': r\"$m(a_{\\rm dyn})$\",\n",
    "}\n",
    "\n",
    "\n",
    "def compute_metrics(pred_func, _x_test, _y_test, box_keep = None):\n",
    "    # pred_func should return ONLY 1 parameter. (e.g. lambda wrapped around indexing)\n",
    "    if box_keep is None:\n",
    "        box_keep = np.ones(_x_test.shape[0]).astype(bool)\n",
    "    \n",
    "    x_test = _x_test[box_keep]\n",
    "    y_test = _y_test[box_keep].reshape(-1)\n",
    "    \n",
    "    y_pred = pred_func(x_test).reshape(-1)\n",
    "    x = (y_pred - y_test) / np.std(y_test) # normalize\n",
    "\n",
    "    return {'mu': np.mean(x), \n",
    "            'med': np.median(x),\n",
    "            'sigma_ratio': np.std(y_pred) / np.std(y_test), \n",
    "            'corr': scipy.stats.spearmanr(y_pred, y_test)[0],\n",
    "            'rscatter': np.std(x) / np.sqrt(2), \n",
    "            'mae': np.mean(np.abs(x)), \n",
    "            'rmse': np.sqrt(np.mean(x**2)),\n",
    "           }\n",
    "\n",
    "\n",
    "def metrics_plot(metrics_data: dict, test_data: dict, trained_models: dict, \n",
    "                 cat_test, params=(\"cvir\",), legend_size=20, figsize=(12, 12),nrows=2, ncols=2,\n",
    "               ):\n",
    "    # params and models MUST have same order (until switch to pandas...)\n",
    "    fig, axes = plt.subplots(nrows, ncols, figsize=figsize)\n",
    "    axes = axes.flatten()\n",
    "    model_metrics = {} \n",
    "\n",
    "    for jj, param in enumerate(params): \n",
    "        for mdl_name, (x_test, label, color, shape) in test_data.items():\n",
    "            model = trained_models[mdl_name]\n",
    "            pred_func = lambda x: model.predict(x)[:, jj]\n",
    "            y_test = cat_test[param].value.reshape(-1)\n",
    "            y_pred = pred_func(x_test).reshape(-1)\n",
    "            x = (y_pred - y_test) / np.std(y_test)\n",
    "            val_metrics = compute_metrics(pred_func, x_test, y_test)\n",
    "            errs = vol_jacknife_err(cat_test, compute_metrics, pred_func, x_test, y_test, mode='dict')\n",
    "            model_metrics[(param, mdl_name)] = {k:(val_metrics[k], errs[k]) for k in metrics_data}\n",
    "\n",
    "    params_latex = [latex_params[par] for par in params]\n",
    "    for ii, met in enumerate(metrics_data):\n",
    "        ax = axes[ii]\n",
    "        ax.set_xlim(-0.25, len(params)+0.25)\n",
    "        if 'yrange' in metrics_data[met]:\n",
    "            if metrics_data[met]['yrange'] is not None:\n",
    "                ax.set_ylim(metrics_data[met]['yrange'])\n",
    "        ax.set_xticks(list(range(len(params))))\n",
    "        ax.set_xticklabels(params_latex)\n",
    "        x_bias = 0.0\n",
    "        for kk, (mdl_name, (x_test, label, color, marker)) in enumerate(test_data.items()):\n",
    "            for jj, param in enumerate(params):\n",
    "                label = label if (jj== 0 and ii==0) else None\n",
    "                val, err = model_metrics[(param, mdl_name)][met]\n",
    "                ax.errorbar(jj+x_bias, val, yerr=err, label=label, marker=marker, \n",
    "                            color=color, capsize=2.5, ms=6, capthick=2.0)\n",
    "            x_bias+=0.1\n",
    "        \n",
    "        if metrics_data[met].get('hline', None) is not None:\n",
    "            ax.axhline(metrics_data[met]['hline'], ls='--', color='k')\n",
    "        ax.set_ylabel(latex_metrics[met], size=28)\n",
    "        \n",
    "        if ii == 0:\n",
    "            ax.legend(prop={'size':legend_size}, bbox_to_anchor=(1.05, 1.55))\n",
    "    plt.tight_layout()"
   ]
  },
  {
   "cell_type": "markdown",
   "metadata": {},
   "source": [
    "## Results"
   ]
  },
  {
   "cell_type": "code",
   "execution_count": 84,
   "metadata": {
    "ExecuteTime": {
     "end_time": "2022-02-20T15:37:21.465069Z",
     "start_time": "2022-02-20T15:37:13.412803Z"
    },
    "scrolled": false
   },
   "outputs": [
    {
     "data": {
      "image/png": "[encoded data removed]",
      "text/plain": [
       "<Figure size 1296x864 with 6 Axes>"
      ]
     },
     "metadata": {
      "needs_background": "light"
     },
     "output_type": "display_data"
    }
   ],
   "source": [
    "metrics_data = {\n",
    "    'corr': {},\n",
    "    'rscatter': {},\n",
    "    'sigma_ratio': {'yrange':(0.9, 1.1), 'hline': 1.0},\n",
    "    'mu': {'yrange':(-0.1, 0.1), 'hline': 0.0},\n",
    "    'rmse': {},\n",
    "    'mae':{},\n",
    "}\n",
    "test_data = {\n",
    "    'linear_all': (datasets['all']['test'][0], r\"\\rm Linear Regression All\", 'r', 'o'),\n",
    "    'linear_cvir': (datasets['cvir_only']['test'][0], r\"\\rm Linear Regression $c_{\\rm vir}$ only\", 'm', 'D'),\n",
    "    'linear_x0': (datasets['x0_only']['test'][0], r\"\\rm Linear Regression $x_{\\rm off}$ only\", 'b', 's'),\n",
    "    'linear_except_cvir': (datasets['except_cvir']['test'][0], r\"\\rm Linear Regression except $c_{\\rm vir}$\", 'g', '^'),\n",
    "    'linear_except_x0': (datasets['except_x0']['test'][0], r\"\\rm Linear Regression except $x_{\\rm off}$\", 'c', '*'),\n",
    "\n",
    "}\n",
    "metrics_plot(metrics_data, test_data, joint_models, cat_test, params=('a2', 'a4', 'mdyn', 'alpha'), \n",
    "             ncols=3, nrows=2, figsize=(18, 12),)\n",
    "\n"
   ]
  },
  {
   "cell_type": "code",
   "execution_count": null,
   "metadata": {},
   "outputs": [],
   "source": []
  }
 ],
 "metadata": {
  "kernelspec": {
   "display_name": "Python 3 (ipykernel)",
   "language": "python",
   "name": "python3"
  },
  "language_info": {
   "codemirror_mode": {
    "name": "ipython",
    "version": 3
   },
   "file_extension": ".py",
   "mimetype": "text/x-python",
   "name": "python",
   "nbconvert_exporter": "python",
   "pygments_lexer": "ipython3",
   "version": "3.8.12"
  },
  "toc": {
   "base_numbering": 1,
   "nav_menu": {},
   "number_sections": true,
   "sideBar": true,
   "skip_h1_title": false,
   "title_cell": "Table of Contents",
   "title_sidebar": "Contents",
   "toc_cell": false,
   "toc_position": {
    "height": "calc(100% - 180px)",
    "left": "10px",
    "top": "150px",
    "width": "176px"
   },
   "toc_section_display": true,
   "toc_window_display": true
  },
  "toc-autonumbering": false,
  "toc-showmarkdowntxt": true,
  "toc-showtags": false
 },
 "nbformat": 4,
 "nbformat_minor": 4
}
