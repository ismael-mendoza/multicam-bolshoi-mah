{
 "cells": [
  {
   "cell_type": "markdown",
   "metadata": {},
   "source": [
    "# Preamble"
   ]
  },
  {
   "cell_type": "code",
   "execution_count": 1,
   "metadata": {
    "ExecuteTime": {
     "end_time": "2019-12-04T02:20:43.252155Z",
     "start_time": "2019-12-04T02:20:41.717537Z"
    }
   },
   "outputs": [],
   "source": [
    "import ytree"
   ]
  },
  {
   "cell_type": "code",
   "execution_count": null,
   "metadata": {},
   "outputs": [],
   "source": []
  },
  {
   "cell_type": "markdown",
   "metadata": {},
   "source": [
    "# How to load"
   ]
  },
  {
   "cell_type": "code",
   "execution_count": 16,
   "metadata": {
    "ExecuteTime": {
     "end_time": "2019-12-04T02:36:52.208457Z",
     "start_time": "2019-12-04T02:36:52.204664Z"
    }
   },
   "outputs": [],
   "source": [
    "ytree.load?"
   ]
  },
  {
   "cell_type": "code",
   "execution_count": 2,
   "metadata": {
    "ExecuteTime": {
     "end_time": "2019-12-04T02:20:45.658690Z",
     "start_time": "2019-12-04T02:20:45.603623Z"
    }
   },
   "outputs": [
    {
     "name": "stdout",
     "output_type": "stream",
     "text": [
      "Performance will be improved by saving this arbor with \"save_arbor\" and reloading:\n",
      "\t>>> a = ytree.load(\"/home/imendoza/alcca/nbody-relaxed/intro/data/trees/tree_0_0_0.dat\")\n",
      "\t>>> fn = a.save_arbor()\n",
      "\t>>> a = ytree.load(fn)\n"
     ]
    }
   ],
   "source": [
    "a = ytree.load(\"/home/imendoza/alcca/nbody-relaxed/intro/data/trees/tree_0_0_0.dat\")\n",
    "# fn = a.save_arbor() \n",
    "# a = ytree.load(fn)"
   ]
  },
  {
   "cell_type": "markdown",
   "metadata": {
    "ExecuteTime": {
     "end_time": "2019-12-04T02:16:43.129858Z",
     "start_time": "2019-12-04T02:16:43.127757Z"
    }
   },
   "source": [
    "# Get main progenitor line"
   ]
  },
  {
   "cell_type": "code",
   "execution_count": 3,
   "metadata": {
    "ExecuteTime": {
     "end_time": "2019-12-04T02:20:49.430041Z",
     "start_time": "2019-12-04T02:20:49.427927Z"
    }
   },
   "outputs": [],
   "source": [
    "#by default ytree extracts the main progenitor line by looking at the maximum value \n",
    "# of the 'mass' attribute \n",
    "a.set_selector(\"max_field_value\", \"mvir\")"
   ]
  },
  {
   "cell_type": "code",
   "execution_count": 8,
   "metadata": {
    "ExecuteTime": {
     "end_time": "2019-12-04T02:24:36.611817Z",
     "start_time": "2019-12-04T02:24:36.609658Z"
    }
   },
   "outputs": [],
   "source": [
    "my_tree = a[0] "
   ]
  },
  {
   "cell_type": "code",
   "execution_count": 14,
   "metadata": {
    "ExecuteTime": {
     "end_time": "2019-12-04T02:34:42.265501Z",
     "start_time": "2019-12-04T02:34:41.567558Z"
    }
   },
   "outputs": [
    {
     "data": {
      "text/plain": [
       "array([1.00035, 0.99735, 0.99435, 0.99135, 0.98835, 0.98535, 0.98235,\n",
       "       0.97935, 0.97635, 0.97335, 0.97035, 0.96735, 0.96435, 0.96135,\n",
       "       0.95835, 0.95235, 0.94935, 0.94635, 0.94335, 0.93735, 0.93435,\n",
       "       0.93135, 0.92835, 0.92535, 0.92235, 0.91935, 0.91635, 0.91335,\n",
       "       0.91035, 0.90735, 0.90435, 0.90135, 0.89835, 0.89535, 0.89235,\n",
       "       0.88935, 0.88635, 0.88335, 0.88035, 0.87735, 0.87435, 0.87135,\n",
       "       0.86835, 0.86535, 0.86235, 0.85935, 0.85635, 0.85335, 0.85035,\n",
       "       0.84735, 0.84435, 0.84135, 0.83835, 0.83535, 0.83235, 0.82935,\n",
       "       0.82635, 0.82335, 0.82035, 0.81735, 0.81435, 0.81135, 0.80835,\n",
       "       0.80235, 0.79635, 0.79035, 0.78435, 0.77835, 0.77235, 0.76635,\n",
       "       0.76035, 0.75435, 0.74835, 0.74235, 0.73635, 0.73035, 0.72435,\n",
       "       0.71835, 0.71235, 0.70635, 0.70035, 0.69435, 0.68835, 0.68235,\n",
       "       0.67635, 0.67035, 0.66435, 0.65835, 0.65235, 0.64635, 0.64035,\n",
       "       0.63435, 0.62835, 0.62235, 0.61635, 0.61035, 0.60435, 0.59835,\n",
       "       0.59235, 0.58635, 0.58035, 0.57435, 0.56835, 0.56235, 0.55635,\n",
       "       0.55035, 0.54435, 0.53835, 0.53235, 0.52835, 0.52235, 0.51635,\n",
       "       0.51035, 0.50435, 0.49835, 0.48635, 0.48035, 0.47435, 0.46835,\n",
       "       0.46235, 0.45635, 0.45035, 0.44435, 0.43835, 0.43235, 0.42635,\n",
       "       0.42035, 0.41435, 0.40835, 0.40235, 0.39635, 0.39035, 0.38435,\n",
       "       0.37835, 0.37235, 0.36635, 0.36035, 0.35435, 0.34835, 0.34235,\n",
       "       0.33635, 0.33035, 0.32435, 0.31835, 0.31235, 0.30635, 0.29435,\n",
       "       0.28835, 0.28235, 0.27635, 0.27035, 0.26435, 0.25835, 0.25235,\n",
       "       0.24635, 0.23435, 0.22835, 0.22235, 0.21635, 0.21035, 0.20435,\n",
       "       0.20235, 0.19835, 0.19235, 0.18635, 0.18035, 0.17435, 0.16835,\n",
       "       0.16235, 0.15635, 0.15035, 0.14435, 0.13835, 0.13235, 0.12035,\n",
       "       0.11435, 0.10835, 0.10235, 0.09635])"
      ]
     },
     "execution_count": 14,
     "metadata": {},
     "output_type": "execute_result"
    }
   ],
   "source": [
    "my_tree['prog', 'mvir']\n",
    "my_tree['prog', 'scale']"
   ]
  },
  {
   "cell_type": "code",
   "execution_count": 12,
   "metadata": {
    "ExecuteTime": {
     "end_time": "2019-12-04T02:25:50.991042Z",
     "start_time": "2019-12-04T02:25:50.988075Z"
    }
   },
   "outputs": [
    {
     "data": {
      "text/plain": [
       "dict_keys(['mvir'])"
      ]
     },
     "execution_count": 12,
     "metadata": {},
     "output_type": "execute_result"
    }
   ],
   "source": [
    "vars()"
   ]
  },
  {
   "cell_type": "code",
   "execution_count": null,
   "metadata": {},
   "outputs": [],
   "source": []
  }
 ],
 "metadata": {
  "kernelspec": {
   "display_name": "Python 3",
   "language": "python",
   "name": "python3"
  },
  "language_info": {
   "codemirror_mode": {
    "name": "ipython",
    "version": 3
   },
   "file_extension": ".py",
   "mimetype": "text/x-python",
   "name": "python",
   "nbconvert_exporter": "python",
   "pygments_lexer": "ipython3",
   "version": "3.7.3"
  },
  "toc": {
   "base_numbering": 1,
   "nav_menu": {},
   "number_sections": true,
   "sideBar": true,
   "skip_h1_title": false,
   "title_cell": "Table of Contents",
   "title_sidebar": "Contents",
   "toc_cell": false,
   "toc_position": {},
   "toc_section_display": true,
   "toc_window_display": true
  }
 },
 "nbformat": 4,
 "nbformat_minor": 2
}
