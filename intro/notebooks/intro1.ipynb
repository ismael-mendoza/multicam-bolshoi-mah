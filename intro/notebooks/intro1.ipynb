{
 "cells": [
  {
   "cell_type": "markdown",
   "metadata": {},
   "source": [
    "Files were obtained from: https://www.slac.stanford.edu/~behroozi/MultiDark_Hlists_Rockstar/"
   ]
  },
  {
   "cell_type": "code",
   "execution_count": 1,
   "metadata": {
    "ExecuteTime": {
     "end_time": "2019-10-08T00:34:02.375030Z",
     "start_time": "2019-10-08T00:34:02.371078Z"
    }
   },
   "outputs": [],
   "source": [
    "import numpy as np\n",
    "import astropy\n",
    "from astropy.table import Table \n",
    "from scipy.stats import spearmanr\n",
    "import matplotlib.pyplot as plt"
   ]
  },
  {
   "cell_type": "code",
   "execution_count": 2,
   "metadata": {},
   "outputs": [],
   "source": [
    "import warnings\n",
    "warnings.filterwarnings(\"ignore\")"
   ]
  },
  {
   "cell_type": "markdown",
   "metadata": {},
   "source": [
    "# pandas example. "
   ]
  },
  {
   "cell_type": "code",
   "execution_count": 3,
   "metadata": {
    "ExecuteTime": {
     "end_time": "2019-10-08T00:34:03.645765Z",
     "start_time": "2019-10-08T00:34:03.641822Z"
    }
   },
   "outputs": [],
   "source": [
    "#import pandas as pd\n",
    "# cat = pd.read_table(\"catalogues/hlist_0.07835.txt\", header=0, comment='#', sep='\\s+', engine='python')"
   ]
  },
  {
   "cell_type": "markdown",
   "metadata": {
    "ExecuteTime": {
     "end_time": "2019-09-27T13:33:33.920067Z",
     "start_time": "2019-09-27T13:33:33.916330Z"
    }
   },
   "source": [
    "# Astropy table "
   ]
  },
  {
   "cell_type": "code",
   "execution_count": 4,
   "metadata": {
    "ExecuteTime": {
     "start_time": "2019-10-08T00:34:05.828Z"
    }
   },
   "outputs": [],
   "source": [
    "#read the one at redshift z = 0. \n",
    "cat = Table.read(\"../data/hlist_0.11515.list.gz\", format=\"ascii\")\n",
    "#cat = Table.read(\"catalogues/hlist_1.00035.list.gz\", format=\"ascii\")\n",
    "new_names = [name[:name.rfind('(')] for name in cat.colnames]\n",
    "for name, new_name in zip(cat.colnames, new_names): \n",
    "    cat.rename_column(name, new_name)"
   ]
  },
  {
   "cell_type": "code",
   "execution_count": 5,
   "metadata": {
    "ExecuteTime": {
     "end_time": "2019-09-27T14:41:07.797054Z",
     "start_time": "2019-09-27T14:41:07.784329Z"
    },
    "scrolled": false
   },
   "outputs": [
    {
     "name": "stdout",
     "output_type": "stream",
     "text": [
      "['scale', 'id', 'desc_scale', 'desc_id', 'num_prog', 'pid', 'upid', 'desc_pid', 'phantom', 'sam_mvir', 'mvir', 'rvir', 'rs', 'vrms', 'mmp?', 'scale_of_last_MM', 'vmax', 'x', 'y', 'z', 'vx', 'vy', 'vz', 'Jx', 'Jy', 'Jz', 'Spin', 'Breadth_first_ID', 'Depth_first_ID', 'Tree_root_ID', 'Orig_halo_ID', 'Snap_num', 'Next_coprogenitor_depthfirst_ID', 'Last_progenitor_depthfirst_ID', 'Last_mainleaf_depthfirst_ID', 'Rs_Klypin', 'Mvir_all', 'M200b', 'M200c', 'M500c', 'M2500c', 'Xoff', 'Voff', 'Spin_Bullock', 'b_to_a', 'c_to_a', 'A[x]', 'A[y]', 'A[z]', 'b_to_a(500c)', 'c_to_a(500c)', 'A[x](500c)', 'A[y](500c)', 'A[z](500c)', 'T/|U|', 'M_pe_Behroozi', 'M_pe_Diemer', 'Macc', 'Mpeak', 'Vacc', 'Vpeak', 'Halfmass_Scale', 'Acc_Rate_Inst', 'Acc_Rate_100Myr', 'Acc_Rate_1*Tdyn', 'Acc_Rate_2*Tdyn', 'Acc_Rate_Mpeak', 'Mpeak_Scale', 'Acc_Scale', 'First_Acc_Scale', 'First_Acc_Mvir', 'First_Acc_Vmax', 'Vmax@Mpeak']\n"
     ]
    }
   ],
   "source": [
    "print(cat.colnames)"
   ]
  },
  {
   "cell_type": "code",
   "execution_count": 6,
   "metadata": {},
   "outputs": [],
   "source": [
    "# add some of the missing parameters. \n",
    "# c_vir, phi_L, shape q\n",
    "#some phi_L have NaNs \n",
    "cvir = cat['rvir'] / cat['rs']\n",
    "phi_l = np.arccos(\n",
    "    ((cat['A[x]']*cat['Jx'] + cat['A[y]']*cat['Jy'] + cat['A[z]']*cat['Jz'])\n",
    "     /\n",
    "    (np.sqrt(cat['A[x]']**2 + cat['A[y]']**2 + cat['A[z]']**2)*np.sqrt(cat['Jx']**2 + cat['Jy']**2 + cat['Jz']**2) )\n",
    "    )\n",
    ")\n",
    "q = (1/2)*(cat['b_to_a'] + cat['c_to_a']);"
   ]
  },
  {
   "cell_type": "code",
   "execution_count": 7,
   "metadata": {},
   "outputs": [],
   "source": [
    "#now we add these columns to our table. \n",
    "cat.add_column(cvir, name='cvir')\n",
    "cat.add_column(phi_l, name='phi_l')\n",
    "cat.add_column(q, name='q')"
   ]
  },
  {
   "cell_type": "code",
   "execution_count": 8,
   "metadata": {},
   "outputs": [
    {
     "name": "stdout",
     "output_type": "stream",
     "text": [
      "length of catalogue: 29282\n",
      "Number of nan: 3431\n",
      "final length of catalogue: 25851\n"
     ]
    }
   ],
   "source": [
    "print(\"length of catalogue:\", len(cat))\n",
    "print(\"Number of nan:\", sum(np.isnan(cat['phi_l'])))\n",
    "\n",
    "#We can ignore the 'nan's from Phi_L too for simplicity. \n",
    "cat = cat[~np.isnan(cat['phi_l'])]\n",
    "\n",
    "print(\"final length of catalogue:\", len(cat))"
   ]
  },
  {
   "cell_type": "markdown",
   "metadata": {
    "ExecuteTime": {
     "end_time": "2019-09-27T13:37:27.470468Z",
     "start_time": "2019-09-27T13:37:27.361798Z"
    }
   },
   "source": [
    "# Spearman correlation example"
   ]
  },
  {
   "cell_type": "code",
   "execution_count": 9,
   "metadata": {
    "ExecuteTime": {
     "end_time": "2019-09-27T14:45:45.660414Z",
     "start_time": "2019-09-27T14:45:45.655044Z"
    }
   },
   "outputs": [],
   "source": [
    "#variables we care about for computing correlations \n",
    "params = ['mvir', 'cvir' , 'T/|U|', 'Xoff', 'Voff', 'Spin', 'q', 'phi_l',\n",
    "         #rho_rms\n",
    "         ]"
   ]
  },
  {
   "cell_type": "code",
   "execution_count": 51,
   "metadata": {
    "ExecuteTime": {
     "end_time": "2019-09-27T14:45:50.972068Z",
     "start_time": "2019-09-27T14:45:50.389717Z"
    },
    "code_folding": [],
    "collapsed": true
   },
   "outputs": [
    {
     "name": "stdout",
     "output_type": "stream",
     "text": [
      "Spearman correlation coefficient between parameters...\n",
      "mvir, rvir: (0.99992233232189, 0.0)\n",
      "mvir, rs: (0.4022782248228001, 0.0)\n",
      "mvir, T/|U|: (0.0437461296039327, 3.1547700357432375e-26)\n",
      "mvir, Xoff: (-0.4685466287731245, 0.0)\n",
      "mvir, Voff: (-0.3314983767232904, 0.0)\n",
      "mvir, Spin: (-0.049877943823250045, 1.3239086903037653e-33)\n",
      "rvir, rs: (0.40255167566098465, 0.0)\n",
      "rvir, T/|U|: (0.04388142780906145, 2.2207556064329223e-26)\n",
      "rvir, Xoff: (-0.4686043068523951, 0.0)\n",
      "rvir, Voff: (-0.3318313673301552, 0.0)\n",
      "rvir, Spin: (-0.04997467157168447, 9.949972195116539e-34)\n",
      "rs, T/|U|: (0.3856976027944693, 0.0)\n",
      "rs, Xoff: (0.046720559816148144, 1.0961327223833405e-29)\n",
      "rs, Voff: (0.22754727528110552, 0.0)\n",
      "rs, Spin: (0.08118099652054181, 2.9622445333130015e-86)\n",
      "T/|U|, Xoff: (0.15369405107279177, 1.41315581926802e-306)\n",
      "T/|U|, Voff: (0.23813866439101575, 0.0)\n",
      "T/|U|, Spin: (0.10990648696205141, 6.870649827641693e-157)\n",
      "Xoff, Voff: (0.29200364193873357, 0.0)\n",
      "Xoff, Spin: (-0.025747509621701952, 4.555086730303204e-10)\n",
      "Voff, Spin: (0.20694008015981236, 0.0)\n"
     ]
    }
   ],
   "source": [
    "print(\"Spearman correlation coefficient between parameters...\")\n",
    "for i, param1 in enumerate(params): \n",
    "    for param2 in params[i+1:]:\n",
    "        corr, p = spearmanr(cat[param1], cat[param2])\n",
    "        print(f\"{param1}, {param2}: {corr, p}\")\n",
    "        "
   ]
  },
  {
   "cell_type": "code",
   "execution_count": 10,
   "metadata": {},
   "outputs": [],
   "source": [
    "#prettier version. \n",
    "corrs = np.zeros((len(params), len(params)))\n",
    "for i,param1 in enumerate(params): \n",
    "    for j,param2 in enumerate(params):\n",
    "        corr, p = spearmanr(cat[param1], cat[param2])\n",
    "        corrs[i,j] = corr\n"
   ]
  },
  {
   "cell_type": "code",
   "execution_count": 11,
   "metadata": {},
   "outputs": [
    {
     "data": {
      "image/png": "[encoded data removed]",
      "text/plain": [
       "<Figure size 576x576 with 2 Axes>"
      ]
     },
     "metadata": {
      "needs_background": "light"
     },
     "output_type": "display_data"
    }
   ],
   "source": [
    "fig, ax = plt.subplots(1,1,figsize=(8,8))\n",
    "mask =  np.tri(corrs.shape[0], k=-1)\n",
    "A = np.ma.array(corrs, mask=mask)\n",
    "im = ax.matshow(A,cmap='bwr',vmin=-1, vmax=1)\n",
    "plt.colorbar(im, ax = ax)\n",
    "ax.set_xticklabels(['']+params);\n",
    "ax.set_yticklabels(['']+params);"
   ]
  },
  {
   "cell_type": "markdown",
   "metadata": {
    "heading_collapsed": true
   },
   "source": [
    "# Correlation between Mvir vs. Xoff , rho_rms"
   ]
  },
  {
   "cell_type": "markdown",
   "metadata": {
    "hidden": true
   },
   "source": [
    "Draw contour plots to illustrate the correlation between `Xoff` and `rho_rms` with respect to Mvir"
   ]
  },
  {
   "cell_type": "markdown",
   "metadata": {
    "hidden": true
   },
   "source": [
    "## mass and rho_rms"
   ]
  },
  {
   "cell_type": "code",
   "execution_count": 9,
   "metadata": {
    "hidden": true
   },
   "outputs": [],
   "source": [
    "# plt.scatter(cat['mvir'], cat['rho_rms'])\n",
    "# plt.xscale('log')\n",
    "# plt.yscale('log')"
   ]
  },
  {
   "cell_type": "markdown",
   "metadata": {
    "hidden": true
   },
   "source": [
    "## mass and xoff "
   ]
  },
  {
   "cell_type": "markdown",
   "metadata": {
    "hidden": true
   },
   "source": [
    "**Question**: How to resolve this ambiguity? "
   ]
  },
  {
   "cell_type": "code",
   "execution_count": 10,
   "metadata": {
    "hidden": true
   },
   "outputs": [
    {
     "name": "stdout",
     "output_type": "stream",
     "text": [
      "correlation: -0.40525257836434747\n"
     ]
    },
    {
     "data": {
      "image/png": "[encoded data removed]",
      "text/plain": [
       "<Figure size 432x288 with 1 Axes>"
      ]
     },
     "metadata": {
      "needs_background": "light"
     },
     "output_type": "display_data"
    }
   ],
   "source": [
    "#all masses in catalogue\n",
    "plt.scatter(cat['mvir'], cat['Xoff'], alpha=0.1)\n",
    "plt.xscale('log')\n",
    "plt.yscale('log')\n",
    "print(\"correlation:\", spearmanr(cat['mvir'], cat['Xoff'])[0])"
   ]
  },
  {
   "cell_type": "markdown",
   "metadata": {
    "hidden": true
   },
   "source": [
    "We also plot **contours**: "
   ]
  },
  {
   "cell_type": "code",
   "execution_count": 15,
   "metadata": {
    "hidden": true
   },
   "outputs": [],
   "source": [
    "from astroML.plotting import scatter_contour"
   ]
  },
  {
   "cell_type": "code",
   "execution_count": 25,
   "metadata": {
    "hidden": true
   },
   "outputs": [
    {
     "data": {
      "text/plain": [
       "([<matplotlib.lines.Line2D at 0x2b45e2e4aef0>],\n",
       " <matplotlib.contour.QuadContourSet at 0x2b45e24fe6d8>)"
      ]
     },
     "execution_count": 25,
     "metadata": {},
     "output_type": "execute_result"
    },
    {
     "data": {
      "image/png": "[encoded data removed]",
      "text/plain": [
       "<Figure size 432x288 with 1 Axes>"
      ]
     },
     "metadata": {
      "needs_background": "light"
     },
     "output_type": "display_data"
    }
   ],
   "source": [
    "scatter_contour(cat['mvir'], cat['Xoff'], filled_contour=True, threshold=100, levels=5)"
   ]
  },
  {
   "cell_type": "markdown",
   "metadata": {},
   "source": [
    "# Histograms of the variables"
   ]
  },
  {
   "cell_type": "markdown",
   "metadata": {},
   "source": [
    "## halo masses "
   ]
  },
  {
   "cell_type": "markdown",
   "metadata": {},
   "source": [
    "Divide into relaxed/unrelaxed and different Mpc box (90, 180) "
   ]
  },
  {
   "cell_type": "code",
   "execution_count": 31,
   "metadata": {},
   "outputs": [
    {
     "data": {
      "image/png": "[encoded data removed]",
      "text/plain": [
       "<Figure size 432x288 with 1 Axes>"
      ]
     },
     "metadata": {
      "needs_background": "light"
     },
     "output_type": "display_data"
    }
   ],
   "source": [
    "\n",
    "plt.hist(np.log10(cat['mvir']), bins=20, histtype='step');"
   ]
  },
  {
   "cell_type": "markdown",
   "metadata": {},
   "source": [
    "The figure in the paper uses a 90Mpc box and only halos with more than 100 particles and log(mvir)~12"
   ]
  },
  {
   "cell_type": "code",
   "execution_count": 20,
   "metadata": {},
   "outputs": [],
   "source": [
    "params = ['cvir', 'Spin', 'q', 'phi_l', 'Xoff', 'T/|U|'\n",
    "         ]"
   ]
  },
  {
   "cell_type": "code",
   "execution_count": 21,
   "metadata": {
    "scrolled": false
   },
   "outputs": [
    {
     "name": "stdout",
     "output_type": "stream",
     "text": [
      "mean, median, and std of:\n",
      "cvir: 0.958934315992413 0.9743081309658334 0.20868951484019552\n",
      "Spin: -1.6269076713205923 -1.5967079904325236 0.23829748521246844\n",
      "q: -0.2699736791425284 -0.22399502836418947 0.18870052249825733\n",
      "phi_l: 0.16392762476438608 0.20266895555505499 0.20486419990107754\n",
      "Xoff: 1.174660037797183 1.1990971209289172 0.24593769974948435\n",
      "T/|U|: -0.24065576735171818 -0.24142871755148493 0.04871275514191122\n"
     ]
    },
    {
     "data": {
      "image/png": "[encoded data removed]",
      "text/plain": [
       "<Figure size 576x720 with 6 Axes>"
      ]
     },
     "metadata": {
      "needs_background": "light"
     },
     "output_type": "display_data"
    }
   ],
   "source": [
    "fig, axs = plt.subplots(3, 2, figsize=(8,10))\n",
    "cat12 = cat[ (11.5< np.log10(cat['mvir'])) & (np.log10(cat['mvir'])< 12.5) & (cat['q']!=0)]\n",
    "print('mean, median, and std of:')\n",
    "for param, ax in zip(params, axs.flatten()): \n",
    "    x = np.log10(cat12[param]) \n",
    "    px = (x - np.mean(x))/ np.std(x)\n",
    "    ax.set_title(param)\n",
    "    ax.hist(px)\n",
    "    print(f'{param}:', np.mean(x), np.median(x), np.std(x))"
   ]
  },
  {
   "cell_type": "markdown",
   "metadata": {},
   "source": [
    "# PCA \n"
   ]
  },
  {
   "cell_type": "markdown",
   "metadata": {},
   "source": [
    "## mass threshold"
   ]
  },
  {
   "cell_type": "code",
   "execution_count": 37,
   "metadata": {},
   "outputs": [],
   "source": [
    "from sklearn.decomposition import PCA"
   ]
  },
  {
   "cell_type": "code",
   "execution_count": 38,
   "metadata": {},
   "outputs": [],
   "source": [
    "params = ['mvir', 'cvir','Spin', 'q','phi_l', 'Xoff', 'T/|U|'\n",
    "         ]"
   ]
  },
  {
   "cell_type": "code",
   "execution_count": 39,
   "metadata": {},
   "outputs": [],
   "source": [
    "pca = PCA(n_components=4)"
   ]
  },
  {
   "cell_type": "code",
   "execution_count": null,
   "metadata": {},
   "outputs": [],
   "source": [
    "def remove_outliers(x, p=0.95): \n",
    "    return x[x < ]"
   ]
  },
  {
   "cell_type": "code",
   "execution_count": 59,
   "metadata": {},
   "outputs": [],
   "source": [
    "#normalize and take log.\n",
    "#cuts on mass >= 12 once we get z= 0 catalogue and different fixed mass regimes too.  \n",
    "# remove extreme outliers too. \n",
    "cat12 = cat[(cat['q']!=0) &(cat['Spin']!=0)]\n",
    "X = np.zeros((len(params), len(cat12['mvir'])))\n",
    "for i, param in enumerate(params): \n",
    "    x = np.log10(cat12[param])\n",
    "    px = (x - np.mean(x))/ np.std(x)\n",
    "    px \n",
    "    X[i] = px \n",
    "    "
   ]
  },
  {
   "cell_type": "code",
   "execution_count": 79,
   "metadata": {},
   "outputs": [
    {
     "data": {
      "text/plain": [
       "(7, 25435)"
      ]
     },
     "execution_count": 79,
     "metadata": {},
     "output_type": "execute_result"
    }
   ],
   "source": [
    "X.shape"
   ]
  },
  {
   "cell_type": "code",
   "execution_count": 80,
   "metadata": {},
   "outputs": [
    {
     "data": {
      "text/plain": [
       "PCA(copy=True, iterated_power='auto', n_components=4, random_state=None,\n",
       "    svd_solver='auto', tol=0.0, whiten=False)"
      ]
     },
     "execution_count": 80,
     "metadata": {},
     "output_type": "execute_result"
    }
   ],
   "source": [
    "pca.fit(X.T)"
   ]
  },
  {
   "cell_type": "code",
   "execution_count": 86,
   "metadata": {},
   "outputs": [
    {
     "name": "stdout",
     "output_type": "stream",
     "text": [
      "['mvir', 'cvir', 'Spin', 'q', 'phi_l', 'Xoff', 'T/|U|']\n",
      "[236.16142825 163.97727744 158.72515756 150.4155057 ]\n",
      "[0.31324789 0.15102108 0.14150173 0.12707363]\n",
      "[[ 0.43379672  0.50657951 -0.1479911   0.3325711  -0.00144983 -0.42516717\n",
      "  -0.49185718]\n",
      " [ 0.25328736 -0.14232483 -0.79011359  0.11303459 -0.41248775  0.30196931\n",
      "   0.13115351]\n",
      " [-0.1406827   0.06796865  0.38064695  0.07731636 -0.90178702 -0.10470169\n",
      "  -0.02316155]\n",
      " [-0.01752268  0.00649422 -0.21055613 -0.87796209 -0.1257012  -0.2277909\n",
      "  -0.34177476]]\n"
     ]
    }
   ],
   "source": [
    "np.set_printoptions(threshold=50)\n",
    "print(params)\n",
    "print(pca.singular_values_)\n",
    "print(pca.explained_variance_ratio_)  \n",
    "print(pca.components_)"
   ]
  },
  {
   "cell_type": "code",
   "execution_count": 93,
   "metadata": {},
   "outputs": [
    {
     "data": {
      "text/plain": [
       "array([1.88179594e-01, 2.56622796e-01, 2.19013650e-02, 1.10603535e-01,\n",
       "       2.10202068e-06, 1.80767124e-01, 2.41923485e-01])"
      ]
     },
     "execution_count": 93,
     "metadata": {},
     "output_type": "execute_result"
    }
   ],
   "source": [
    "pca.components_[0]**2"
   ]
  },
  {
   "cell_type": "code",
   "execution_count": 90,
   "metadata": {},
   "outputs": [
    {
     "data": {
      "text/plain": [
       "0.75"
      ]
     },
     "execution_count": 90,
     "metadata": {},
     "output_type": "execute_result"
    }
   ],
   "source": [
    "0.5**2 + 0.5**2 + 0.5**2"
   ]
  },
  {
   "cell_type": "markdown",
   "metadata": {},
   "source": [
    "## fixed mass"
   ]
  },
  {
   "cell_type": "code",
   "execution_count": null,
   "metadata": {},
   "outputs": [],
   "source": [
    "# paper uses 12, 13.3, 13.6 "
   ]
  }
 ],
 "metadata": {
  "kernelspec": {
   "display_name": "Python 3",
   "language": "python",
   "name": "python3"
  },
  "language_info": {
   "codemirror_mode": {
    "name": "ipython",
    "version": 3
   },
   "file_extension": ".py",
   "mimetype": "text/x-python",
   "name": "python",
   "nbconvert_exporter": "python",
   "pygments_lexer": "ipython3",
   "version": "3.7.4"
  },
  "latex_envs": {
   "LaTeX_envs_menu_present": true,
   "autoclose": false,
   "autocomplete": true,
   "bibliofile": "biblio.bib",
   "cite_by": "apalike",
   "current_citInitial": 1,
   "eqLabelWithNumbers": true,
   "eqNumInitial": 1,
   "hotkeys": {
    "equation": "meta-shift-y"
   },
   "labels_anchors": false,
   "latex_user_defs": false,
   "report_style_numbering": false,
   "user_envs_cfg": false
  },
  "toc": {
   "base_numbering": 1,
   "nav_menu": {},
   "number_sections": true,
   "sideBar": true,
   "skip_h1_title": false,
   "title_cell": "Table of Contents",
   "title_sidebar": "Contents",
   "toc_cell": false,
   "toc_position": {},
   "toc_section_display": true,
   "toc_window_display": true
  }
 },
 "nbformat": 4,
 "nbformat_minor": 2
}
