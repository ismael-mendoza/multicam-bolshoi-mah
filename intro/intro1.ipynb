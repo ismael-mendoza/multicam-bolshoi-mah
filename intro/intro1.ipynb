{
 "cells": [
  {
   "cell_type": "markdown",
   "metadata": {},
   "source": [
    "Files were obtained from: https://www.slac.stanford.edu/~behroozi/MultiDark_Hlists_Rockstar/"
   ]
  },
  {
   "cell_type": "code",
   "execution_count": 46,
   "metadata": {
    "ExecuteTime": {
     "end_time": "2019-09-27T13:36:19.508699Z",
     "start_time": "2019-09-27T13:36:19.505148Z"
    }
   },
   "outputs": [],
   "source": [
    "import pandas as pd\n",
    "from astropy.table import Table "
   ]
  },
  {
   "cell_type": "markdown",
   "metadata": {},
   "source": [
    "# pandas example. "
   ]
  },
  {
   "cell_type": "code",
   "execution_count": 33,
   "metadata": {
    "ExecuteTime": {
     "end_time": "2019-09-27T13:26:30.767913Z",
     "start_time": "2019-09-27T13:26:23.423214Z"
    }
   },
   "outputs": [],
   "source": [
    "cat = pd.read_table(\"catalogues/hlist_0.07835.txt\", header=0, comment='#', sep='\\s+', engine='python')"
   ]
  },
  {
   "cell_type": "markdown",
   "metadata": {
    "ExecuteTime": {
     "end_time": "2019-09-27T13:33:33.920067Z",
     "start_time": "2019-09-27T13:33:33.916330Z"
    }
   },
   "source": [
    "# Astropy table "
   ]
  },
  {
   "cell_type": "code",
   "execution_count": 48,
   "metadata": {
    "ExecuteTime": {
     "end_time": "2019-09-27T13:37:25.655661Z",
     "start_time": "2019-09-27T13:37:21.273722Z"
    }
   },
   "outputs": [],
   "source": [
    "cat = Table.read(\"catalogues/hlist_0.07835.list.gz\", format=\"ascii\")"
   ]
  },
  {
   "cell_type": "markdown",
   "metadata": {
    "ExecuteTime": {
     "end_time": "2019-09-27T13:37:27.470468Z",
     "start_time": "2019-09-27T13:37:27.361798Z"
    }
   },
   "source": [
    "# Spearman correlation"
   ]
  },
  {
   "cell_type": "code",
   "execution_count": null,
   "metadata": {},
   "outputs": [],
   "source": []
  }
 ],
 "metadata": {
  "kernelspec": {
   "display_name": "Python 3",
   "language": "python",
   "name": "python3"
  },
  "language_info": {
   "codemirror_mode": {
    "name": "ipython",
    "version": 3
   },
   "file_extension": ".py",
   "mimetype": "text/x-python",
   "name": "python",
   "nbconvert_exporter": "python",
   "pygments_lexer": "ipython3",
   "version": "3.7.4"
  },
  "latex_envs": {
   "LaTeX_envs_menu_present": true,
   "autoclose": false,
   "autocomplete": true,
   "bibliofile": "biblio.bib",
   "cite_by": "apalike",
   "current_citInitial": 1,
   "eqLabelWithNumbers": true,
   "eqNumInitial": 1,
   "hotkeys": {
    "equation": "meta-shift-y"
   },
   "labels_anchors": false,
   "latex_user_defs": false,
   "report_style_numbering": false,
   "user_envs_cfg": false
  },
  "toc": {
   "base_numbering": 1,
   "nav_menu": {},
   "number_sections": true,
   "sideBar": true,
   "skip_h1_title": false,
   "title_cell": "Table of Contents",
   "title_sidebar": "Contents",
   "toc_cell": false,
   "toc_position": {},
   "toc_section_display": true,
   "toc_window_display": true
  }
 },
 "nbformat": 4,
 "nbformat_minor": 2
}
