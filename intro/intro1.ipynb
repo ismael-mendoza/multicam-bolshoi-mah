{
 "cells": [
  {
   "cell_type": "markdown",
   "metadata": {},
   "source": [
    "Files were obtained from: https://www.slac.stanford.edu/~behroozi/MultiDark_Hlists_Rockstar/"
   ]
  },
  {
   "cell_type": "code",
   "execution_count": 39,
   "metadata": {
    "ExecuteTime": {
     "end_time": "2019-09-27T14:43:13.443349Z",
     "start_time": "2019-09-27T14:43:13.435187Z"
    }
   },
   "outputs": [],
   "source": [
    "import pandas as pd\n",
    "import numpy as np\n",
    "from astropy.table import Table \n",
    "from scipy.stats import spearmanr"
   ]
  },
  {
   "cell_type": "markdown",
   "metadata": {},
   "source": [
    "# pandas example. "
   ]
  },
  {
   "cell_type": "code",
   "execution_count": 3,
   "metadata": {
    "ExecuteTime": {
     "end_time": "2019-09-27T13:54:52.806916Z",
     "start_time": "2019-09-27T13:54:52.803773Z"
    }
   },
   "outputs": [],
   "source": [
    "# cat = pd.read_table(\"catalogues/hlist_0.07835.txt\", header=0, comment='#', sep='\\s+', engine='python')"
   ]
  },
  {
   "cell_type": "markdown",
   "metadata": {
    "ExecuteTime": {
     "end_time": "2019-09-27T13:33:33.920067Z",
     "start_time": "2019-09-27T13:33:33.916330Z"
    }
   },
   "source": [
    "# Astropy table "
   ]
  },
  {
   "cell_type": "code",
   "execution_count": 31,
   "metadata": {
    "ExecuteTime": {
     "end_time": "2019-09-27T14:32:55.664971Z",
     "start_time": "2019-09-27T14:32:52.019796Z"
    }
   },
   "outputs": [],
   "source": [
    "cat = Table.read(\"catalogues/hlist_0.07835.list.gz\", format=\"ascii\")\n",
    "new_names = [name[:name.rfind('(')] for name in rcat.colnames]\n",
    "for name, new_name in zip(rcat.colnames, new_names): \n",
    "    cat.rename_column(name, new_name)"
   ]
  },
  {
   "cell_type": "code",
   "execution_count": 36,
   "metadata": {
    "ExecuteTime": {
     "end_time": "2019-09-27T14:41:07.797054Z",
     "start_time": "2019-09-27T14:41:07.784329Z"
    },
    "scrolled": false
   },
   "outputs": [
    {
     "name": "stdout",
     "output_type": "stream",
     "text": [
      "['scale', 'id', 'desc_scale', 'desc_id', 'num_prog', 'pid', 'upid', 'desc_pid', 'phantom', 'sam_mvir', 'mvir', 'rvir', 'rs', 'vrms', 'mmp?', 'scale_of_last_MM', 'vmax', 'x', 'y', 'z', 'vx', 'vy', 'vz', 'Jx', 'Jy', 'Jz', 'Spin', 'Breadth_first_ID', 'Depth_first_ID', 'Tree_root_ID', 'Orig_halo_ID', 'Snap_num', 'Next_coprogenitor_depthfirst_ID', 'Last_progenitor_depthfirst_ID', 'Last_mainleaf_depthfirst_ID', 'Rs_Klypin', 'Mvir_all', 'M200b', 'M200c', 'M500c', 'M2500c', 'Xoff', 'Voff', 'Spin_Bullock', 'b_to_a', 'c_to_a', 'A[x]', 'A[y]', 'A[z]', 'b_to_a(500c)', 'c_to_a(500c)', 'A[x](500c)', 'A[y](500c)', 'A[z](500c)', 'T/|U|', 'M_pe_Behroozi', 'M_pe_Diemer', 'Macc', 'Mpeak', 'Vacc', 'Vpeak', 'Halfmass_Scale', 'Acc_Rate_Inst', 'Acc_Rate_100Myr', 'Acc_Rate_1*Tdyn', 'Acc_Rate_2*Tdyn', 'Acc_Rate_Mpeak', 'Mpeak_Scale', 'Acc_Scale', 'First_Acc_Scale', 'First_Acc_Mvir', 'First_Acc_Vmax', 'Vmax@Mpeak']\n"
     ]
    }
   ],
   "source": [
    "print(cat.colnames)"
   ]
  },
  {
   "cell_type": "markdown",
   "metadata": {
    "ExecuteTime": {
     "end_time": "2019-09-27T13:37:27.470468Z",
     "start_time": "2019-09-27T13:37:27.361798Z"
    }
   },
   "source": [
    "# Spearman correlation"
   ]
  },
  {
   "cell_type": "code",
   "execution_count": 49,
   "metadata": {
    "ExecuteTime": {
     "end_time": "2019-09-27T14:45:45.660414Z",
     "start_time": "2019-09-27T14:45:45.655044Z"
    }
   },
   "outputs": [],
   "source": [
    "#variables we care about for computing correlations \n",
    "params = ['mvir', 'rvir', 'rs', 'T/|U|', 'Xoff', 'Voff', 'Spin']"
   ]
  },
  {
   "cell_type": "code",
   "execution_count": 51,
   "metadata": {
    "ExecuteTime": {
     "end_time": "2019-09-27T14:45:50.972068Z",
     "start_time": "2019-09-27T14:45:50.389717Z"
    },
    "code_folding": []
   },
   "outputs": [
    {
     "name": "stdout",
     "output_type": "stream",
     "text": [
      "Spearman correlation coefficient between parameters...\n",
      "mvir, rvir: (0.99992233232189, 0.0)\n",
      "mvir, rs: (0.4022782248228001, 0.0)\n",
      "mvir, T/|U|: (0.0437461296039327, 3.1547700357432375e-26)\n",
      "mvir, Xoff: (-0.4685466287731245, 0.0)\n",
      "mvir, Voff: (-0.3314983767232904, 0.0)\n",
      "mvir, Spin: (-0.049877943823250045, 1.3239086903037653e-33)\n",
      "rvir, rs: (0.40255167566098465, 0.0)\n",
      "rvir, T/|U|: (0.04388142780906145, 2.2207556064329223e-26)\n",
      "rvir, Xoff: (-0.4686043068523951, 0.0)\n",
      "rvir, Voff: (-0.3318313673301552, 0.0)\n",
      "rvir, Spin: (-0.04997467157168447, 9.949972195116539e-34)\n",
      "rs, T/|U|: (0.3856976027944693, 0.0)\n",
      "rs, Xoff: (0.046720559816148144, 1.0961327223833405e-29)\n",
      "rs, Voff: (0.22754727528110552, 0.0)\n",
      "rs, Spin: (0.08118099652054181, 2.9622445333130015e-86)\n",
      "T/|U|, Xoff: (0.15369405107279177, 1.41315581926802e-306)\n",
      "T/|U|, Voff: (0.23813866439101575, 0.0)\n",
      "T/|U|, Spin: (0.10990648696205141, 6.870649827641693e-157)\n",
      "Xoff, Voff: (0.29200364193873357, 0.0)\n",
      "Xoff, Spin: (-0.025747509621701952, 4.555086730303204e-10)\n",
      "Voff, Spin: (0.20694008015981236, 0.0)\n"
     ]
    }
   ],
   "source": [
    "print(\"Spearman correlation coefficient between parameters...\")\n",
    "for i, param1 in enumerate(params): \n",
    "    for param2 in params[i+1:]:\n",
    "        corr, p = spearmanr(cat[param1], cat[param2])\n",
    "        print(f\"{param1}, {param2}: {corr, p}\")\n",
    "        "
   ]
  },
  {
   "cell_type": "code",
   "execution_count": null,
   "metadata": {},
   "outputs": [],
   "source": []
  }
 ],
 "metadata": {
  "kernelspec": {
   "display_name": "Python 3",
   "language": "python",
   "name": "python3"
  },
  "language_info": {
   "codemirror_mode": {
    "name": "ipython",
    "version": 3
   },
   "file_extension": ".py",
   "mimetype": "text/x-python",
   "name": "python",
   "nbconvert_exporter": "python",
   "pygments_lexer": "ipython3",
   "version": "3.7.4"
  },
  "latex_envs": {
   "LaTeX_envs_menu_present": true,
   "autoclose": false,
   "autocomplete": true,
   "bibliofile": "biblio.bib",
   "cite_by": "apalike",
   "current_citInitial": 1,
   "eqLabelWithNumbers": true,
   "eqNumInitial": 1,
   "hotkeys": {
    "equation": "meta-shift-y"
   },
   "labels_anchors": false,
   "latex_user_defs": false,
   "report_style_numbering": false,
   "user_envs_cfg": false
  },
  "toc": {
   "base_numbering": 1,
   "nav_menu": {},
   "number_sections": true,
   "sideBar": true,
   "skip_h1_title": false,
   "title_cell": "Table of Contents",
   "title_sidebar": "Contents",
   "toc_cell": false,
   "toc_position": {},
   "toc_section_display": true,
   "toc_window_display": true
  }
 },
 "nbformat": 4,
 "nbformat_minor": 2
}
