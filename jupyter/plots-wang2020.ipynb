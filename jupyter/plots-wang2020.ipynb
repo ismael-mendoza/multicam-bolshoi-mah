{
 "cells": [
  {
   "cell_type": "code",
   "execution_count": null,
   "metadata": {},
   "outputs": [],
   "source": [
    "%load_ext autoreload\n",
    "%autoreload 2\n",
    "%aimport"
   ]
  },
  {
   "cell_type": "code",
   "execution_count": null,
   "metadata": {},
   "outputs": [],
   "source": [
    "%matplotlib inline"
   ]
  },
  {
   "cell_type": "code",
   "execution_count": null,
   "metadata": {},
   "outputs": [],
   "source": [
    "import warnings\n",
    "from matplotlib import rc\n",
    "rc('text', usetex=True)\n",
    "warnings.filterwarnings('ignore')"
   ]
  },
  {
   "cell_type": "code",
   "execution_count": null,
   "metadata": {},
   "outputs": [],
   "source": [
    "import astropy\n",
    "from pathlib import Path\n",
    "import numpy as np\n",
    "import matplotlib.pyplot as plt \n",
    "import re \n",
    "from astropy.table import Table\n",
    "import astropy.table\n",
    "import json\n",
    "from scipy import stats\n",
    "from copy import deepcopy\n",
    "\n",
    "from relaxed import halo_parameters, halo_catalogs \n",
    "import warnings"
   ]
  },
  {
   "cell_type": "markdown",
   "metadata": {},
   "source": [
    "# Utility"
   ]
  },
  {
   "cell_type": "code",
   "execution_count": null,
   "metadata": {},
   "outputs": [],
   "source": [
    "def setup(name='m11'):\n",
    "    output = f'../temp/output_{name}/'\n",
    "    cat_file = Path(output, 'final_table.csv')\n",
    "    z_map_file = Path(output, 'z_map.json')\n",
    "    \n",
    "    with open(z_map_file,'r') as fp: \n",
    "        scale_map = json.load(fp) # map from i -> scale\n",
    "        \n",
    "    #only keep stable scales. \n",
    "    indices = np.array(list(scale_map.keys()))\n",
    "    scales = np.array(list(scale_map.values()))\n",
    "    keep = scales>.15 \n",
    "    indices = indices[keep]\n",
    "    scales = scales[keep] # we are removing from the end bc that's how scales are ordered.\n",
    "    \n",
    "    # load catalog.\n",
    "    hcat = halo_catalogs.HaloCatalog('Bolshoi', cat_file, label=name)\n",
    "    hcat.load_cat_csv()\n",
    "\n",
    "    # remove weird ID\n",
    "    hcat.cat = hcat.cat[hcat.cat['mvir_a18']>0]\n",
    "    \n",
    "    return hcat, indices, scales\n",
    "    \n",
    "    \n",
    "\n",
    "def get_m_a_corrs(cat, param, indices): \n",
    "    corrs = [] \n",
    "    for k in indices:\n",
    "        k = int(k)\n",
    "        colname = f'mvir_a{k}'\n",
    "        keep = (~np.isnan(cat[colname])) & (cat[colname] > 0)\n",
    "        \n",
    "        # get mass fraction at this scale\n",
    "        mvir = cat['mvir'][keep]\n",
    "        ms = cat[colname][keep]\n",
    "        ms = ms / mvir\n",
    "        pvalue = cat[param][keep]\n",
    "\n",
    "        # get correlation.\n",
    "        assert np.all(ms>0) and np.all(~np.isnan(ms))\n",
    "        assert np.all(mvir>0)\n",
    "        corr = stats.spearmanr(ms, pvalue)[0]\n",
    "        corrs.append(corr)\n",
    "    \n",
    "    return np.array(corrs)\n",
    "\n",
    "\n",
    "def add_box_indices(cat, boxes=8, box_size=250):\n",
    "    # create a new row add it to the catalogu for which box it is in. \n",
    "    assert int(boxes**(1./3)) == boxes**(1./3)\n",
    "    box_per_dim = int(boxes**(1./3))\n",
    "    divides = np.linspace(0, box_size, box_per_dim+1)[1:-1] # only use the middle. \n",
    "    cat.add_column(np.zeros(len(cat)), name='ibox')\n",
    "    for k, dim in enumerate(['x','y','z']):\n",
    "        for d in divides:\n",
    "            cat['ibox'] += 2**k * (d < cat[dim])\n",
    "\n",
    "def vol_jacknife_values(f, cat, param, *args):\n",
    "    # assumes cat has had its box indices added with the function above.\n",
    "    n_boxes = int(np.max(cat['ibox']) + 1)\n",
    "    values = [] \n",
    "    for b in range(n_boxes):\n",
    "        _cat = cat[cat['ibox'] != b]\n",
    "        value = f(_cat, param, *args)\n",
    "        values.append(value)\n",
    "    return np.array(values )"
   ]
  },
  {
   "cell_type": "markdown",
   "metadata": {},
   "source": [
    "# Plot Wang 2020 Correlation plot (Bolshoi)"
   ]
  },
  {
   "cell_type": "markdown",
   "metadata": {},
   "source": [
    "## prepare dynamical time"
   ]
  },
  {
   "cell_type": "code",
   "execution_count": null,
   "metadata": {},
   "outputs": [],
   "source": [
    "hcat, indices, scales = setup('m11')"
   ]
  },
  {
   "cell_type": "code",
   "execution_count": null,
   "metadata": {},
   "outputs": [],
   "source": [
    "plt.hist(np.log10(hcat.cat['mvir']))"
   ]
  },
  {
   "cell_type": "code",
   "execution_count": null,
   "metadata": {},
   "outputs": [],
   "source": [
    "np.mean(hcat.cat['tdyn']/10**9)"
   ]
  },
  {
   "cell_type": "code",
   "execution_count": null,
   "metadata": {},
   "outputs": [],
   "source": [
    "plt.figure(figsize=(6,6))\n",
    "plt.hist(hcat.cat['tdyn']/ 10**9)\n",
    "plt.tick_params(labelsize=14)"
   ]
  },
  {
   "cell_type": "markdown",
   "metadata": {},
   "source": [
    "## m(a) with jackknife erros"
   ]
  },
  {
   "cell_type": "code",
   "execution_count": null,
   "metadata": {},
   "outputs": [],
   "source": [
    "# get cosmology for Bolshoi \n",
    "from astropy.cosmology import LambdaCDM\n",
    "\n",
    "sim = halo_catalogs.sims['Bolshoi']\n",
    "cosmo = LambdaCDM(H0=sim.h*100, Ob0=sim.omega_b, Ode0=sim.omega_lambda, Om0=sim.omega_m)\n",
    "print(cosmo.age(0).value)\n",
    "\n",
    "# create function that converts scale to fractional tdyn\n",
    "def get_fractional_tdyn(scale, tdyn):\n",
    "    # tdyn in Gyrs\n",
    "    z = (1/scale) - 1\n",
    "    return (cosmo.age(0).value - cosmo.age(z).value) / tdyn"
   ]
  },
  {
   "cell_type": "code",
   "execution_count": null,
   "metadata": {},
   "outputs": [],
   "source": [
    "names = ['m11', 'm12']\n",
    "params = ['cvir', 'x0', 'v0', 't/|u|', 'q', 'phi_l']\n",
    "latex_params = ['c_{\\\\rm vir}', 'x_{\\\\rm off}', 'v_{\\\\rm off}', 't/|u|', 'q', '\\\\Phi_{L}']\n",
    "colors = ['r','b', 'g', 'm', 'k', 'y']\n",
    "markers = np.array(['.', 'x'])"
   ]
  },
  {
   "cell_type": "code",
   "execution_count": null,
   "metadata": {},
   "outputs": [],
   "source": [
    "# get the jacknife errors for each index in indices for each param for each cat. \n",
    "errs = {name:{} for name in names}\n",
    "for i,name in enumerate(names):\n",
    "    hcat, indices, scales = setup(name)\n",
    "    add_box_indices(hcat.cat)\n",
    "    for j, param in enumerate(params):\n",
    "        values = vol_jacknife_values(get_m_a_corrs, hcat.cat, param, indices)\n",
    "        errs[name][param] = np.sqrt(values.var(axis=0)*7)"
   ]
  },
  {
   "cell_type": "markdown",
   "metadata": {},
   "source": [
    "## Full plot m_a correlations"
   ]
  },
  {
   "cell_type": "code",
   "execution_count": null,
   "metadata": {},
   "outputs": [],
   "source": [
    "fig, axes = plt.subplots(1,len(names),figsize=(len(names)*7,7))\n",
    "axes = axes.flatten() if len(names) > 1 else [axes]\n",
    "for i, name in enumerate(names):\n",
    "    hcat, indices, scales = setup(name)\n",
    "    ax = axes[i]\n",
    "    max_scales = [0.]*len(params)\n",
    "    tdyn = np.mean(hcat.cat['tdyn']) / 10**9 #Gyr which astropy also returns by default\n",
    "\n",
    "    for j, param in enumerate(params):\n",
    "        latex_param = latex_params[j]\n",
    "        color = colors[j]\n",
    "        corrs = get_m_a_corrs(hcat.cat, param, indices)\n",
    "        err = errs[name][param]\n",
    "        pos = corrs > 0 \n",
    "        neg = ~pos\n",
    "        corrs = abs(corrs)\n",
    "        \n",
    "        # plot positive corr and negative corr with different markers. \n",
    "        if sum(pos) > 0:\n",
    "            label = f'${latex_param}$' if sum(pos) > sum(neg) else None\n",
    "            ax.plot(scales[pos], corrs[pos], color=color, marker=markers[0], label=label, markersize=7)\n",
    "            \n",
    "        if sum(neg) > 0:\n",
    "            label = f'${latex_param}$' if sum(pos) < sum(neg) else None\n",
    "            ax.plot(scales[neg], corrs[neg], color=color, marker=markers[1], label=label, markersize=7)\n",
    "            \n",
    "        max_scales[j] = scales[np.nanargmax(abs(corrs))]\n",
    "        \n",
    "        nan_indx = np.isnan(err)\n",
    "        err[nan_indx] = 0. \n",
    "        y1 = corrs - err\n",
    "        y2 = corrs + err\n",
    "        ax.fill_between(scales, y1, y2, alpha=0.2, linewidth=0.001, color=color)\n",
    "        \n",
    "                \n",
    "    # draw a vertical line at max scales\n",
    "    for j, s in enumerate(max_scales):\n",
    "        color = colors[j]\n",
    "        ax.axvline(s, linestyle='--', color=color)\n",
    "        \n",
    "\n",
    "    ax.set_ylim(0, 1.0)\n",
    "    ax.set_xlim(0, 1.0)\n",
    "    ax.set_title(name, size=22)\n",
    "    ax.set_ylabel(f\"$\\\\rho(\\\\cdot, m(a))$\", size=22)\n",
    "    ax.set_xlabel(f\"$a$\", size=22)\n",
    "    ax.tick_params(axis='both', which='major', labelsize=16)\n",
    "    \n",
    "    # add additional x-axis with tydn fractional scale\n",
    "    ax2 = ax.twiny()\n",
    "    ax2.set_xlim(ax.get_xlim())\n",
    "    ax2.set_xticks(ax.get_xticks())\n",
    "    \n",
    "    fractional_tdyn = get_fractional_tdyn(ax.get_xticks(), tdyn)\n",
    "    fractional_tdyn = np.array([f'{x:.2g}' for x in fractional_tdyn])\n",
    "    ax2.set_xticklabels(fractional_tdyn, size=16)\n",
    "    ax2.set_xlabel(\"$\\\\tau_{\\\\rm dyn}$\", size=22)\n",
    "    \n",
    "    ax.legend(loc='best', prop={'size': 14})\n",
    "    \n",
    "    ax.set_xlim(0.15, 1)\n",
    "    ax2.set_xlim(0.15 , 1)\n",
    "plt.tight_layout()\n",
    "plt.show()"
   ]
  },
  {
   "cell_type": "markdown",
   "metadata": {},
   "source": [
    "# Exponential fit to log m(a)"
   ]
  },
  {
   "cell_type": "markdown",
   "metadata": {},
   "source": [
    "## histogram of goodness of fit (alpha + beta)"
   ]
  },
  {
   "cell_type": "code",
   "execution_count": null,
   "metadata": {},
   "outputs": [],
   "source": [
    "from relaxed.progenitors.catalog import get_ma, get_alpha, lma_fit"
   ]
  },
  {
   "cell_type": "code",
   "execution_count": null,
   "metadata": {},
   "outputs": [],
   "source": [
    "hcat, indices, scales = setup('m11')\n",
    "zs = (1/ scales) -1 \n",
    "ma = get_ma(hcat.cat, indices)\n",
    "lma = np.log(ma)[:, :160] # towards very big scales many masses become really close to 0. \n",
    "\n",
    "# remove infs \n",
    "keep = np.zeros(len(hcat.cat))\n",
    "for indx in range(len(lma)):\n",
    "    if np.isinf(lma[indx]).sum() == 0 and np.isnan(lma[indx]).sum() == 0: \n",
    "        keep[indx] = 1\n",
    "\n",
    "keep = keep.astype(bool)\n",
    "hcat.cat = hcat.cat[keep]\n",
    "lma = lma[keep]\n",
    "n = lma.shape[1]\n",
    "zs = zs[:n]\n",
    "print(len(hcat.cat))\n",
    "print(lma.shape)\n",
    "print(zs.shape)"
   ]
  },
  {
   "cell_type": "code",
   "execution_count": null,
   "metadata": {},
   "outputs": [],
   "source": [
    "# calculate all alpha, betas and add them to table. \n",
    "alphas = [] \n",
    "for idx in range(len(hcat.cat)):\n",
    "    alpha = get_alpha(zs, lma[idx])\n",
    "    alphas.append(alpha)\n",
    "c1 = astropy.table.Column(alphas, name='alpha')\n",
    "hcat.cat.add_column(c1)"
   ]
  },
  {
   "cell_type": "code",
   "execution_count": null,
   "metadata": {},
   "outputs": [],
   "source": [
    "fits = lma_fit(zs.reshape(1, -1), hcat.cat['alpha'])\n",
    "fits.shape"
   ]
  },
  {
   "cell_type": "code",
   "execution_count": null,
   "metadata": {},
   "outputs": [],
   "source": [
    "# check correctness by looking 4x5 plots by eye.\n",
    "# choose random indices \n",
    "rows_indices = np.random.choice(np.arange(len(hcat.cat)), size=20, replace=True)\n",
    "fig, axes = plt.subplots(4, 5, figsize=(15,12))\n",
    "axes=axes.flatten()\n",
    "for i, indx in enumerate(rows_indices):\n",
    "    ax = axes[i]\n",
    "    ax.plot(zs, lma[indx])\n",
    "    ax.plot(zs, fits[indx])\n",
    "    ax.set_xlabel('$z$', size=20)\n",
    "    ax.set_ylabel('$\\\\log m(z)$', size=20)\n",
    "\n",
    "    # alter x_ticks\n",
    "    start, end = ax.get_xlim()\n",
    "    step_size=0.5\n",
    "    ax.xaxis.set_ticks(np.arange(0, 4, step_size))\n",
    "plt.tight_layout()\n",
    "fig.savefig('../figures/lma_fit_alpha.pdf')"
   ]
  },
  {
   "cell_type": "code",
   "execution_count": null,
   "metadata": {},
   "outputs": [],
   "source": [
    "# now make histogrm of chi2\n",
    "chi2 = np.sqrt(np.mean((lma - fits)**2, 1))\n",
    "print(chi2.shape)\n",
    "plt.hist(chi2, bins=50, range=(0, 0.5), histtype='step')\n",
    "hcat.cat.add_column(astropy.table.Column(chi2, name='chi2'))"
   ]
  },
  {
   "cell_type": "code",
   "execution_count": null,
   "metadata": {},
   "outputs": [],
   "source": [
    "# add a1/2 \n",
    "from relaxed.halo_parameters import A2\n",
    "a2 = A2.from_cat(hcat.cat, scales, indices)\n",
    "c = astropy.table.Column(a2, name='a2')\n",
    "hcat.cat.add_column(c)"
   ]
  },
  {
   "cell_type": "code",
   "execution_count": null,
   "metadata": {},
   "outputs": [],
   "source": [
    "plt.hist(hcat.cat['a2'])"
   ]
  },
  {
   "cell_type": "code",
   "execution_count": null,
   "metadata": {},
   "outputs": [],
   "source": [
    "from relaxed import plots, plot_funcs\n",
    "from relaxed.halo_parameters import get_hparam\n",
    "from collections import OrderedDict\n",
    "\n",
    "# round up params.\n",
    "params = [\n",
    "    \"mvir\",\n",
    "    \"eta\",\n",
    "    \"x0\",\n",
    "    \"v0\",\n",
    "    \"q\",\n",
    "    \"cvir\",\n",
    "    \"phi_l\",\n",
    "]\n",
    "hparams = [get_hparam(param, log=True) for param in params]\n",
    "hparams.append(get_hparam(\"alpha\", log=False))\n",
    "hparams.append(get_hparam(\"f_sub\", log=False))\n",
    "hparams.append(get_hparam(\"a2\", log=False))\n",
    "# hparams.append(get_hparam(\"chi2\", log=False))\n",
    "hparams.append(get_hparam(\"gamma_tdyn\", log=False))\n",
    "\n",
    "params.append('alpha')\n",
    "params.append('f_sub')\n",
    "params.append('a2')\n",
    "# params.append('chi2')\n",
    "params.append('gamma_tdyn')\n",
    "\n",
    "plot_func = plot_funcs.MatrixValues(xlabel_size=24, ylabel_size=24)\n",
    "plot = plots.MatrixPlot(\n",
    "    plot_func, hparams, nrows=1, ncols=1, figsize=(10, 10), figpath='../figures/'\n",
    ")\n",
    "\n",
    "# load catalogs\n",
    "plot.load(hcat)\n",
    "\n",
    "names = ['Bolshoi']\n",
    "plot_params = OrderedDict({param: {*names} for param in params})\n",
    "plot.generate(plot_params)\n",
    "\n",
    "fname = '../figures/matrix3.pdf'\n",
    "plot.save(fname=fname)"
   ]
  },
  {
   "cell_type": "markdown",
   "metadata": {},
   "source": [
    "# get a_m"
   ]
  },
  {
   "cell_type": "markdown",
   "metadata": {},
   "source": [
    "## Preliminaries"
   ]
  },
  {
   "cell_type": "code",
   "execution_count": null,
   "metadata": {},
   "outputs": [],
   "source": [
    "from relaxed.progenitors.catalog import get_ma, get_alpha, lma_fit"
   ]
  },
  {
   "cell_type": "code",
   "execution_count": null,
   "metadata": {},
   "outputs": [],
   "source": [
    "hcat, indices, scales = setup('m11')"
   ]
  },
  {
   "cell_type": "code",
   "execution_count": null,
   "metadata": {},
   "outputs": [],
   "source": [
    "# histogram\n",
    "ma = get_ma(hcat.cat, indices)\n",
    "plt.hist(ma[:,1:].flatten(), bins=100, range=(0, 1), histtype='step');\n"
   ]
  },
  {
   "cell_type": "code",
   "execution_count": null,
   "metadata": {},
   "outputs": [],
   "source": [
    "# there are a bunch with mass bigger than 1 at some point in their history.\n",
    "count = 0 \n",
    "for i in range(len(ma)):\n",
    "    if sum(ma[i]>1.0001) > 0: \n",
    "        count+=1\n",
    "print(count)"
   ]
  },
  {
   "cell_type": "code",
   "execution_count": null,
   "metadata": {},
   "outputs": [],
   "source": [
    "np.arange(1, 100, 1)"
   ]
  },
  {
   "cell_type": "code",
   "execution_count": null,
   "metadata": {},
   "outputs": [],
   "source": [
    "np.percentile(lma, 0.01)"
   ]
  },
  {
   "cell_type": "code",
   "execution_count": null,
   "metadata": {},
   "outputs": [],
   "source": [
    "len(ma.flatten())"
   ]
  },
  {
   "cell_type": "code",
   "execution_count": null,
   "metadata": {},
   "outputs": [],
   "source": [
    "len(lma)"
   ]
  },
  {
   "cell_type": "code",
   "execution_count": null,
   "metadata": {},
   "outputs": [],
   "source": [
    "lma = np.log(ma.flatten()[ma.flatten() > 0])\n",
    "plt.hist(lma, bins=30, histtype='step')\n",
    "plt.yscale('log')\n",
    "plt.title('\\\\rm all redshifts', size=20)\n",
    "plt.xlabel('$\\\\log m(z)$', size=18)"
   ]
  },
  {
   "cell_type": "code",
   "execution_count": null,
   "metadata": {},
   "outputs": [],
   "source": [
    "# obtain a(m), use percentile bins\n",
    "_scales = np.array([*scales, np.nan]) # append dummy indices\n",
    "p1 = 0\n",
    "log_bins = np.linspace(-5, 0, 100)\n",
    "# ma_flat = ma.flatten()\n",
    "a_m = [] \n",
    "for e1,e2 in zip(log_bins, log_bins[1:]): #edges\n",
    "    m1, m2 = np.exp(e1), np.exp(e2)\n",
    "    bools = (m1 <= ma) & (ma <= m2)\n",
    "\n",
    "    # ideally each halo only has one m satisfying the condition above but our bins could be too wide so pick smallest a\n",
    "    indices_m = np.argmax(bools, axis=1)\n",
    "    indices_m = np.where(bools.sum(1), indices_m, -1)\n",
    "    a_m.append(_scales[indices_m])\n",
    "\n",
    "a_m = np.array(a_m).T"
   ]
  },
  {
   "cell_type": "code",
   "execution_count": null,
   "metadata": {},
   "outputs": [],
   "source": [
    "plt.hist(a_m.flatten(), bins=50)"
   ]
  },
  {
   "cell_type": "code",
   "execution_count": null,
   "metadata": {},
   "outputs": [],
   "source": [
    "plt.plot(((~np.isnan(a_m)).sum(0)))\n",
    "plt.title(\"\\\\# of haloes in each mass bin\", size=18)\n",
    "plt.xlabel(\"mass bin\")"
   ]
  },
  {
   "cell_type": "markdown",
   "metadata": {},
   "source": [
    "## Phil's procedure\n",
    "\n",
    "1. Inversion is only a well-defined process for monotonic functions, and m(a) for an individual halo isn't necessarily monotonic. To solve this, the standard redefinition of a(m0) is that it's the first a where m(a) > m0. (This is, for example, how Rockstar defines halfmass scales.)\n",
    "\n",
    "2. Next, first pick your favorite set of mass bins that you'll evaluate it at.  I think logarithmic bins spanning 0.01*m(a=1) to 1*m(a=1) is pretty reasonable, but you should probably choose this based on the mass ranges which are the most informative once you.\n",
    "\n",
    "3. Now, for each halo with masses m(a_i), measure M(a_i) = max_j{ m(a_j) | j <= i}.\n",
    "\n",
    "4. Remove (a_i, M(a_i)) pairs where M(a_i) = M(a_{i-1}), since this will mess up the inversion.\n",
    "\n",
    "5. Use scipy.interpolate.interp1d to create a function, f(m), which evaluates a(m). For stability, you'll want to run the interpolation on log(a_i) and log(M(a_i)), not a_i and M(a_i).\n",
    "\n",
    "6. Evaluate f(m) at the mass bins you decided that you liked in step 2. Now you can run your pipeline on this, just like you did for m(a).\n",
    "\n"
   ]
  },
  {
   "cell_type": "code",
   "execution_count": null,
   "metadata": {},
   "outputs": [],
   "source": [
    "from relaxed.progenitors.catalog import get_ma, get_alpha, lma_fit"
   ]
  },
  {
   "cell_type": "code",
   "execution_count": null,
   "metadata": {},
   "outputs": [],
   "source": [
    "def get_am(name='m11'):\n",
    "    hcat, indices, scales = setup(name)\n",
    "    \n",
    "    # 2. \n",
    "    mass_bins = np.linspace(np.log(0.01), np.log(1.0), 100)\n",
    "    \n",
    "    # 3.\n",
    "    ma = get_ma(hcat.cat, indices)\n",
    "    Ma = np.zeros_like(ma)\n",
    "    for i in range(len(ma)):\n",
    "        _min = ma[i][0]\n",
    "        for j in range(len(ma[i])):\n",
    "            if ma[i][j] < _min:\n",
    "                _min = ma[i][j]\n",
    "            Ma[i][j] = _min\n",
    "            \n",
    "    # 4. + 5. \n",
    "    # We will get the interpolation for each halo separately\n",
    "    import scipy\n",
    "    fs = [] \n",
    "    for i in range(len(Ma)): \n",
    "        pairs = [(scales[0], Ma[i][0])]\n",
    "        count = 0\n",
    "        for j in range(1, len(Ma[i])):\n",
    "            # keep only pairs that do NOT satisfy (a_{j-1}, Ma_{j-1}) = (a_j, Ma_j)\n",
    "            if pairs[count][1] != Ma[i][j]:\n",
    "                pairs.append((scales[j], Ma[i][j]))\n",
    "                count+=1\n",
    "        _scales = np.array([pair[0] for pair in pairs])\n",
    "        _Mas = np.array([pair[1] for pair in pairs])\n",
    "        fs.append(scipy.interpolate.interp1d(np.log(_Mas),np.log(_scales), bounds_error=False, fill_value=np.nan))\n",
    "        \n",
    "    #6. \n",
    "    am = np.array([np.exp(f(mass_bins)) for f in fs])\n",
    "    \n",
    "    return am, np.exp(mass_bins)"
   ]
  },
  {
   "cell_type": "code",
   "execution_count": null,
   "metadata": {},
   "outputs": [],
   "source": [
    "# am, mass_bins = get_am(name='m11')\n",
    "\n",
    "# # compare interpolation at random values to make sure we did the correct thing\n",
    "# idx = np.random.randint(len(am))\n",
    "# fig, axes = plt.subplots(1, 2, figsize=(8, 4))\n",
    "# (ax1, ax2) = axes.flatten()\n",
    "# ax1.plot(scales, Ma[idx])\n",
    "# ax2.plot(am[idx], np.exp(mass_bins))"
   ]
  },
  {
   "cell_type": "markdown",
   "metadata": {},
   "source": [
    "## Now calculate correlation plot for m11"
   ]
  },
  {
   "cell_type": "code",
   "execution_count": null,
   "metadata": {},
   "outputs": [],
   "source": [
    "names = ['m11', 'm12']\n",
    "params = ['cvir', 'x0', 'v0', 't/|u|', 'q', 'phi_l']\n",
    "latex_params = ['c_{\\\\rm vir}', 'x_{\\\\rm off}', 'v_{\\\\rm off}', 't/|u|', 'q', '\\\\Phi_{L}']\n",
    "colors = ['r','b', 'g', 'm', 'k', 'y']\n",
    "markers = np.array(['.', 'x'])"
   ]
  },
  {
   "cell_type": "code",
   "execution_count": null,
   "metadata": {},
   "outputs": [],
   "source": [
    "def get_am_corrs(cat, param, am): \n",
    "    corrs = [] \n",
    "    n_mass_bins = am.shape[1]\n",
    "    for k in range(n_mass_bins):\n",
    "        keep = ~np.isnan(am[:, k])\n",
    "        \n",
    "        # get mass fraction at this scale\n",
    "        am_k = am[:, k][keep]\n",
    "        pvalue = cat[param][keep]\n",
    "\n",
    "        # get correlation.\n",
    "        assert np.all(~np.isnan(pvalue)) and np.all(~np.isnan(am_k))\n",
    "        corr = stats.spearmanr(pvalue, am_k)[0]\n",
    "        corrs.append(corr)\n",
    "        \n",
    "    return np.array(corrs)\n"
   ]
  },
  {
   "cell_type": "code",
   "execution_count": null,
   "metadata": {},
   "outputs": [],
   "source": [
    "fig, axes = plt.subplots(1,len(names),figsize=(len(names)*7,7))\n",
    "axes = axes.flatten() if len(names) > 1 else [axes]\n",
    "for i, name in enumerate(names):\n",
    "    hcat, indices, scales = setup(name)\n",
    "    am, mass_bins = get_am(name)\n",
    "    ax = axes[i]\n",
    "    max_mass_bins = [0.]*len(params)\n",
    "\n",
    "    for j, param in enumerate(params):\n",
    "        latex_param = latex_params[j]\n",
    "        color = colors[j]\n",
    "        corrs = get_am_corrs(hcat.cat, param, am)\n",
    "        pos = corrs >= 0 \n",
    "        neg = ~pos\n",
    "        corrs = abs(corrs)\n",
    "        \n",
    "        # plot positive corr and negative corr with different markers. \n",
    "        if sum(pos) > 0:\n",
    "            label = f'${latex_param}$' if sum(pos) > sum(neg) else None\n",
    "            ax.plot(mass_bins[pos], corrs[pos], color=color, marker=markers[0], label=label, markersize=7)\n",
    "            \n",
    "        if sum(neg) > 0:\n",
    "            label = f'${latex_param}$' if sum(pos) < sum(neg) else None\n",
    "            ax.plot(mass_bins[neg], corrs[neg], color=color, marker=markers[1], label=label, markersize=7)\n",
    "            \n",
    "        max_mass_bins[j] = mass_bins[np.nanargmax(abs(corrs))]\n",
    "    \n",
    "        \n",
    "                \n",
    "    # draw a vertical line at max scales\n",
    "    for j, mbin in enumerate(max_mass_bins):\n",
    "        color = colors[j]\n",
    "        ax.axvline(mbin, linestyle='--', color=color)\n",
    "        \n",
    "\n",
    "    ax.set_ylim(0, 1.0)\n",
    "    ax.set_xlim(0.01, 1.0)\n",
    "#     ax.set_xscale('log')\n",
    "    \n",
    "    ax.set_title(name, size=22)\n",
    "    ax.set_ylabel(f\"$\\\\rho(\\\\cdot, a(m))$\", size=22)\n",
    "    ax.set_xlabel(f\"$m$\", size=22)\n",
    "    ax.tick_params(axis='both', which='major', labelsize=16, size=10)    \n",
    "    ax.tick_params(axis='x', which='minor', size=8)    \n",
    "    ax.legend(loc='best', prop={'size': 14})\n",
    "\n",
    "plt.tight_layout()\n",
    "plt.show()"
   ]
  },
  {
   "cell_type": "markdown",
   "metadata": {},
   "source": [
    "## Same minimum mass fraction (m11)? "
   ]
  },
  {
   "cell_type": "code",
   "execution_count": null,
   "metadata": {},
   "outputs": [],
   "source": [
    "from relaxed.progenitors.catalog import get_ma, get_alpha, lma_fit"
   ]
  },
  {
   "cell_type": "code",
   "execution_count": null,
   "metadata": {},
   "outputs": [],
   "source": [
    "hcat, indices, scales = setup('m11')\n",
    "ma = get_ma(hcat.cat, indices)\n",
    "min_ma = [] \n",
    "for i in range(len(ma)):\n",
    "    _ma = ma[i, :]\n",
    "    _ma = _ma[_ma > 0]\n",
    "    min_ma.append(np.min(_ma))\n",
    "min_ma = np.array(min_ma)\n",
    "gbg_values = np.log10(min_ma) < -4\n",
    "print(min_ma.shape)\n",
    "print(sum(np.log10(min_ma) < -3))\n",
    "plt.hist(np.log10(np.array(min_ma)), bins=50)"
   ]
  },
  {
   "cell_type": "code",
   "execution_count": null,
   "metadata": {},
   "outputs": [],
   "source": [
    "np.where(gbg_values)"
   ]
  },
  {
   "cell_type": "code",
   "execution_count": null,
   "metadata": {},
   "outputs": [],
   "source": [
    "cat = hcat.cat[gbg_values]\n",
    "\n",
    "[cat[f'mvir_a{index}'][100] for index in indices]"
   ]
  },
  {
   "cell_type": "code",
   "execution_count": null,
   "metadata": {},
   "outputs": [],
   "source": [
    "scales[170]"
   ]
  },
  {
   "cell_type": "code",
   "execution_count": null,
   "metadata": {},
   "outputs": [],
   "source": []
  },
  {
   "cell_type": "markdown",
   "metadata": {},
   "source": [
    "## check weird values"
   ]
  },
  {
   "cell_type": "code",
   "execution_count": null,
   "metadata": {},
   "outputs": [],
   "source": [
    "from relaxed.progenitors import progenitor_lines"
   ]
  },
  {
   "cell_type": "code",
   "execution_count": null,
   "metadata": {},
   "outputs": [],
   "source": [
    "gen = progenitor_lines.get_prog_lines_generator('../temp/bolshoi_progenitors/mline_0_0_0.txt')"
   ]
  },
  {
   "cell_type": "code",
   "execution_count": null,
   "metadata": {},
   "outputs": [],
   "source": [
    "from IPython.display import clear_output"
   ]
  },
  {
   "cell_type": "code",
   "execution_count": null,
   "metadata": {},
   "outputs": [],
   "source": [
    "for g in gen:\n",
    "    clear_output(wait=True)\n",
    "    if g.root_id == 3058686024:\n",
    "        break"
   ]
  },
  {
   "cell_type": "code",
   "execution_count": null,
   "metadata": {},
   "outputs": [],
   "source": []
  }
 ],
 "metadata": {
  "kernelspec": {
   "display_name": "alcca",
   "language": "python",
   "name": "alcca"
  },
  "language_info": {
   "codemirror_mode": {
    "name": "ipython",
    "version": 3
   },
   "file_extension": ".py",
   "mimetype": "text/x-python",
   "name": "python",
   "nbconvert_exporter": "python",
   "pygments_lexer": "ipython3",
   "version": "3.8.3"
  },
  "toc": {
   "base_numbering": 1,
   "nav_menu": {},
   "number_sections": true,
   "sideBar": true,
   "skip_h1_title": false,
   "title_cell": "Table of Contents",
   "title_sidebar": "Contents",
   "toc_cell": false,
   "toc_position": {
    "height": "calc(100% - 180px)",
    "left": "10px",
    "top": "150px",
    "width": "207.386px"
   },
   "toc_section_display": true,
   "toc_window_display": true
  }
 },
 "nbformat": 4,
 "nbformat_minor": 4
}
