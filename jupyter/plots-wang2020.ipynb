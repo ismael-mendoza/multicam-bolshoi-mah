{
 "cells": [
  {
   "cell_type": "code",
   "execution_count": null,
   "metadata": {},
   "outputs": [],
   "source": [
    "%load_ext autoreload\n",
    "%autoreload 2\n",
    "%aimport\n",
    "# %reload_ext autoreload\n",
    "\n",
    "import sys \n",
    "from os.path import abspath\n",
    "paths = [abspath('../..'), \"/home/imendoza/alcca/nbody-relaxed/packages/minnow\"]\n",
    "print(paths)\n",
    "\n",
    "for path in paths: \n",
    "    if path not in sys.path: \n",
    "        sys.path.insert(0, path)\n",
    "\n",
    "from pathlib import Path\n",
    "import numpy as np\n",
    "import matplotlib.pyplot as plt \n",
    "import re \n",
    "from astropy.table import Table\n",
    "import astropy.table\n",
    "import json\n",
    "from scipy import stats\n",
    "\n",
    "from relaxed import halo_parameters, halo_catalogs \n",
    "import warnings"
   ]
  },
  {
   "cell_type": "markdown",
   "metadata": {},
   "source": [
    "# Read catalog"
   ]
  },
  {
   "cell_type": "code",
   "execution_count": null,
   "metadata": {},
   "outputs": [],
   "source": [
    "from matplotlib import rc\n",
    "rc('text', usetex=True)"
   ]
  },
  {
   "cell_type": "code",
   "execution_count": null,
   "metadata": {},
   "outputs": [],
   "source": [
    "names = ['m11', 'm12']\n",
    "params = ['cvir', 'x0', 'v0', 't/|u|']\n",
    "\n",
    "fig, axes = plt.subplots(2,2,figsize=(10,10))\n",
    "axes = axes.flatten()\n",
    "for i, name in enumerate(names):\n",
    "    output = f'../../temp/output_{name}/'\n",
    "    cat_file = Path(output, 'final_table.csv')\n",
    "    hcat = halo_catalogs.HaloCatalog('Bolshoi', cat_file, label=name)\n",
    "    hcat.load_cat_csv()\n",
    "    \n",
    "    z_map_file = Path(output, 'z_map.json')\n",
    "    with open(z_map_file,'r') as fp: \n",
    "        scale_map = json.load(fp) # map from i -> sca    \n",
    "    indices = np.array(list(scale_map.keys()))\n",
    "    scales = np.array(list(scale_map.values()))\n",
    "    keep = scales>.15 \n",
    "    indices = indices[keep]\n",
    "    scales = scales[keep]\n",
    "    for i, param in enumerate(params):\n",
    "        ax = axes[i]\n",
    "\n",
    "        corrs = []\n",
    "        for i in indices:\n",
    "            colname = f'mvir_a{i}'\n",
    "            nankeep = ~np.isnan(hcat.cat[colname])\n",
    "\n",
    "            # get mass fraction at this scale\n",
    "            mvir = hcat.cat['mvir'][nankeep]\n",
    "            ms = hcat.cat[colname][nankeep]\n",
    "            ms = ms / mvir\n",
    "            pvalue = hcat.cat[param][nankeep]\n",
    "\n",
    "            # get correlation.\n",
    "            assert np.all(ms>0) and np.all(~np.isnan(ms))\n",
    "            assert np.all(mvir>0)\n",
    "            assert np.all(pvalue>0)\n",
    "            corrs.append(stats.spearmanr(ms, pvalue)[0])\n",
    "\n",
    "        corrs = np.array(corrs)    \n",
    "        ax.plot(scales, corrs, label=name)\n",
    "        ax.set_ylim(-0.9, 0.9)\n",
    "        ax.set_ylabel(f\"$\\\\rho({param}, m(a))$\", size=18)\n",
    "        ax.set_xlabel(f\"$a$\", size=18)\n",
    "plt.legend()\n",
    "plt.tight_layout()\n",
    "        \n",
    "    "
   ]
  },
  {
   "cell_type": "code",
   "execution_count": null,
   "metadata": {},
   "outputs": [],
   "source": []
  }
 ],
 "metadata": {
  "kernelspec": {
   "display_name": "Python 3",
   "language": "python",
   "name": "python3"
  },
  "language_info": {
   "codemirror_mode": {
    "name": "ipython",
    "version": 3
   },
   "file_extension": ".py",
   "mimetype": "text/x-python",
   "name": "python",
   "nbconvert_exporter": "python",
   "pygments_lexer": "ipython3",
   "version": "3.8.3"
  }
 },
 "nbformat": 4,
 "nbformat_minor": 4
}
