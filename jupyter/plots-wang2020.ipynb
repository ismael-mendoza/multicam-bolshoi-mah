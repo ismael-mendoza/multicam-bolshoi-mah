{
 "cells": [
  {
   "cell_type": "code",
   "execution_count": null,
   "metadata": {},
   "outputs": [],
   "source": [
    "%load_ext autoreload\n",
    "%autoreload 2\n",
    "%aimport"
   ]
  },
  {
   "cell_type": "code",
   "execution_count": null,
   "metadata": {},
   "outputs": [],
   "source": [
    "\n",
    "from pathlib import Path\n",
    "import numpy as np\n",
    "import matplotlib.pyplot as plt \n",
    "import re \n",
    "from astropy.table import Table\n",
    "import astropy.table\n",
    "import json\n",
    "from scipy import stats\n",
    "from copy import deepcopy\n",
    "\n",
    "from relaxed import halo_parameters, halo_catalogs \n",
    "import warnings"
   ]
  },
  {
   "cell_type": "markdown",
   "metadata": {},
   "source": [
    "## Utils"
   ]
  },
  {
   "cell_type": "code",
   "execution_count": null,
   "metadata": {},
   "outputs": [],
   "source": [
    "def get_a2(cat):\n",
    "\n",
    "    # return the a_1/2 scale.\n",
    "    idx = np.argmin(\n",
    "        np.where(\n",
    "            self.cat[\"mvir\"] > self.cat[\"mvir\"][0] * 0.5, self.cat[\"mvir\"], np.inf\n",
    "        )\n",
    "    )\n",
    "\n",
    "    return self.cat[\"scale\"][idx]"
   ]
  },
  {
   "cell_type": "markdown",
   "metadata": {},
   "source": [
    "# Read catalog"
   ]
  },
  {
   "cell_type": "code",
   "execution_count": null,
   "metadata": {},
   "outputs": [],
   "source": [
    "from matplotlib import rc\n",
    "warnings.filterwarnings('ignore')\n",
    "rc('text', usetex=True)"
   ]
  },
  {
   "cell_type": "code",
   "execution_count": null,
   "metadata": {},
   "outputs": [],
   "source": [
    "def setup(name='m11'):\n",
    "    output = f'../temp/output_{name}/'\n",
    "    cat_file = Path(output, 'final_table.csv')\n",
    "    z_map_file = Path(output, 'z_map.json')\n",
    "    \n",
    "    with open(z_map_file,'r') as fp: \n",
    "        scale_map = json.load(fp) # map from i -> scale\n",
    "        \n",
    "    #only keep stable scales. \n",
    "    indices = np.array(list(scale_map.keys()))\n",
    "    scales = np.array(list(scale_map.values()))\n",
    "    keep = scales>.15 \n",
    "    indices = indices[keep]\n",
    "    scales = scales[keep] # we are removing from the end bc that's how scales are ordered.\n",
    "    \n",
    "    # load catalog.\n",
    "    hcat = halo_catalogs.HaloCatalog('Bolshoi', cat_file, label=name)\n",
    "    hcat.load_cat_csv()\n",
    "\n",
    "    # remove weird ID\n",
    "    hcat.cat = hcat.cat[hcat.cat['mvir_a18']>0]\n",
    "    \n",
    "    return hcat, indices, scales\n",
    "    \n",
    "    \n",
    "\n",
    "def get_m_a_corrs(cat, param, indices): \n",
    "    corrs = [] \n",
    "    for k in indices:\n",
    "        k = int(k)\n",
    "        colname = f'mvir_a{k}'\n",
    "        keep = (~np.isnan(cat[colname])) & (cat[colname] > 0)\n",
    "        \n",
    "        # get mass fraction at this scale\n",
    "        mvir = cat['mvir'][keep]\n",
    "        ms = cat[colname][keep]\n",
    "        ms = ms / mvir\n",
    "        pvalue = cat[param][keep]\n",
    "\n",
    "        # get correlation.\n",
    "        assert np.all(ms>0) and np.all(~np.isnan(ms))\n",
    "        assert np.all(mvir>0)\n",
    "        assert np.all(pvalue>0)\n",
    "        corr = stats.spearmanr(ms, pvalue)[0]\n",
    "        corrs.append(corr)\n",
    "    \n",
    "    return np.array(corrs)\n",
    "\n",
    "\n",
    "def add_box_indices(cat, boxes=8, box_size=250):\n",
    "    # create a new row add it to the catalogu for which box it is in. \n",
    "    assert int(boxes**(1./3)) == boxes**(1./3)\n",
    "    box_per_dim = int(boxes**(1./3))\n",
    "    divides = np.linspace(0, box_size, box_per_dim+1)[1:-1] # only use the middle. \n",
    "    cat.add_column(np.zeros(len(cat)), name='ibox')\n",
    "    for k, dim in enumerate(['x','y','z']):\n",
    "        for d in divides:\n",
    "            cat['ibox'] += 2**k * (d < cat[dim])\n",
    "\n",
    "def vol_jacknife_values(f, cat, param, *args):\n",
    "    # assumes cat has had its box indices added with the function above.\n",
    "    n_boxes = int(np.max(cat['ibox']) + 1)\n",
    "    values = [] \n",
    "    for b in range(n_boxes):\n",
    "        _cat = cat[cat['ibox'] != b]\n",
    "        value = f(_cat, param, *args)\n",
    "        values.append(value)\n",
    "    return np.array(values )"
   ]
  },
  {
   "cell_type": "code",
   "execution_count": null,
   "metadata": {},
   "outputs": [],
   "source": [
    "hcat, indices, scales = setup('m11')"
   ]
  },
  {
   "cell_type": "code",
   "execution_count": null,
   "metadata": {},
   "outputs": [],
   "source": [
    "names = ['m11']\n",
    "params = ['cvir', 'x0', 'v0', 't/|u|', 'q', 'phi_l']\n",
    "latex_params = ['c_{\\\\rm vir}', 'x_{\\\\rm off}', 'v_{\\\\rm off}', 't/|u|', 'q', '\\\\Phi_{L}']\n",
    "colors = ['r','b', 'g', 'm', 'k', 'y']\n",
    "markers = np.array(['.', 'x'])"
   ]
  },
  {
   "cell_type": "code",
   "execution_count": null,
   "metadata": {},
   "outputs": [],
   "source": [
    "# get the jacknife errors for each index in indices for each param for each cat. \n",
    "errs = {name:{} for name in names}\n",
    "for i,name in enumerate(names):\n",
    "    hcat, indices, scales = setup(name)\n",
    "    add_box_indices(hcat.cat)\n",
    "    for j, param in enumerate(params):\n",
    "        values = vol_jacknife_values(get_m_a_corrs, hcat.cat, param, indices)\n",
    "        errs[name][param] = np.sqrt(values.var(axis=0)*7)"
   ]
  },
  {
   "cell_type": "code",
   "execution_count": null,
   "metadata": {},
   "outputs": [],
   "source": [
    "fig, axes = plt.subplots(1,len(names),figsize=(len(names)*7,7))\n",
    "axes = axes.flatten() if len(names) > 1 else [axes]\n",
    "for i, name in enumerate(names):\n",
    "    hcat, indices, scales = setup(name)\n",
    "    ax = axes[i]\n",
    "    max_scales = [0.]*len(params)\n",
    "    for j, param in enumerate(params):\n",
    "        latex_param = latex_params[j]\n",
    "        color = colors[j]\n",
    "        corrs = get_m_a_corrs(hcat.cat, param, indices)\n",
    "        err = errs[name][param]\n",
    "        pos = corrs > 0 \n",
    "        neg = ~pos\n",
    "        corrs = abs(corrs)\n",
    "        \n",
    "        # plot positive corr and negative corr with different markers. \n",
    "        if sum(pos) > 0:\n",
    "            label = f'${latex_param}$' if sum(pos) > sum(neg) else None\n",
    "            ax.plot(scales[pos], corrs[pos], color=color, marker=markers[0], label=label, markersize=7)\n",
    "            \n",
    "        if sum(neg) > 0:\n",
    "            label = f'${latex_param}$' if sum(pos) < sum(neg) else None\n",
    "            ax.plot(scales[neg], corrs[neg], color=color, marker=markers[1], label=label, markersize=7)\n",
    "            \n",
    "        max_scales[j] = scales[np.nanargmax(abs(corrs))]\n",
    "        \n",
    "        nan_indx = np.isnan(err)\n",
    "        err[nan_indx] = 0. \n",
    "        y1 = corrs - err\n",
    "        y2 = corrs + err\n",
    "        ax.fill_between(scales, y1, y2, alpha=0.2, linewidth=0.001, color=color)\n",
    "        \n",
    "                \n",
    "    # draw a vertical line at max scales\n",
    "    for j, s in enumerate(max_scales):\n",
    "        color = colors[j]\n",
    "        ax.axvline(s, linestyle='--', color=color)\n",
    "        \n",
    "\n",
    "    ax.set_ylim(0, 1.0)\n",
    "    ax.set_title(name, size=22)\n",
    "    ax.set_ylabel(f\"$\\\\rho(\\\\cdot, m(a))$\", size=22)\n",
    "    ax.set_xlabel(f\"$a$\", size=22)\n",
    "    ax.tick_params(axis='both', which='major', labelsize=16)\n",
    "\n",
    "plt.legend(loc='best', prop={'size': 14})\n",
    "plt.tight_layout()\n",
    "        \n",
    "    "
   ]
  },
  {
   "cell_type": "markdown",
   "metadata": {},
   "source": [
    "# exponential fit to m(a) "
   ]
  },
  {
   "cell_type": "code",
   "execution_count": null,
   "metadata": {},
   "outputs": [],
   "source": [
    "\n",
    "def ma_fit(z, M0, alpha, beta):\n",
    "    return M0 * (1 + z)**beta * np.exp(-alpha * z)\n",
    "\n",
    "def get_alpha(zs, m_a):\n",
    "    # use the fit of the ofrm M(z) = M(0) * (1 + z)^{\\beta} * exp(- \\gamma * z) \n",
    "    # get best exponential fit to the line of main progenitors.\n",
    "    from scipy.optimize import curve_fit\n",
    "\n",
    "    M0 = m_a[0]\n",
    "\n",
    "    def f(z, alpha, beta):\n",
    "        return M0 * (1 + z)**beta * np.exp(-alpha * z)\n",
    "\n",
    "    opt_params, _ = curve_fit(\n",
    "        f, zs, m_a, p0=(1, 1)\n",
    "    )\n",
    "\n",
    "    return opt_params  # = alpha, beta\n",
    "\n",
    "\n",
    "def get_m_a(cat, indices):\n",
    "    m_a = np.zeros((len(cat), len(indices)))\n",
    "    for k in indices:\n",
    "        k = int(k)\n",
    "        colname = f'mvir_a{k}'\n",
    "\n",
    "        # get mass fraction at this scale\n",
    "        mvir = cat['mvir']\n",
    "        ms = cat[colname]\n",
    "        ms = ms / mvir\n",
    "        m_a[:, k] = ms\n",
    "        \n",
    "    return m_a"
   ]
  },
  {
   "cell_type": "code",
   "execution_count": null,
   "metadata": {},
   "outputs": [],
   "source": [
    "hcat, indices, scales = setup('m11')\n",
    "zs = (1/ scales) -1 \n",
    "m_a = get_m_a(hcat.cat, indices)"
   ]
  },
  {
   "cell_type": "code",
   "execution_count": null,
   "metadata": {},
   "outputs": [],
   "source": [
    "idx = 20\n",
    "alpha,beta = get_alpha(zs, m_a[idx])\n",
    "plt.plot(zs, m_a[idx])\n",
    "plt.plot(zs, ma_fit(zs, m_a[idx][0], alpha, beta))"
   ]
  },
  {
   "cell_type": "code",
   "execution_count": null,
   "metadata": {},
   "outputs": [],
   "source": [
    "alphas = [] \n",
    "for idx in range(len(hcat.cat)):\n",
    "    alpha,beta = get_alpha(zs, m_a[idx])\n",
    "    alphas.append(alpha)\n",
    "c = astropy.table.Column(alphas, name='alpha')\n",
    "hcat.cat.add_column(c)"
   ]
  },
  {
   "cell_type": "code",
   "execution_count": null,
   "metadata": {},
   "outputs": [],
   "source": [
    "params"
   ]
  },
  {
   "cell_type": "code",
   "execution_count": null,
   "metadata": {},
   "outputs": [],
   "source": [
    "# calculate correlation between parameters and alpha \n",
    "for param in params:\n",
    "    corr = stats.spearmanr(hcat.cat[param], hcat.cat['alpha'])[0]\n",
    "    print(f'{param}: {corr}')"
   ]
  },
  {
   "cell_type": "code",
   "execution_count": null,
   "metadata": {},
   "outputs": [],
   "source": []
  }
 ],
 "metadata": {
  "kernelspec": {
   "display_name": "alcca",
   "language": "python",
   "name": "alcca"
  },
  "language_info": {
   "codemirror_mode": {
    "name": "ipython",
    "version": 3
   },
   "file_extension": ".py",
   "mimetype": "text/x-python",
   "name": "python",
   "nbconvert_exporter": "python",
   "pygments_lexer": "ipython3",
   "version": "3.8.3-final"
  }
 },
 "nbformat": 4,
 "nbformat_minor": 4
}
