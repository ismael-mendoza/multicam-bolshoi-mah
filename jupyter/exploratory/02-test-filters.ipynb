{
 "cells": [
  {
   "cell_type": "markdown",
   "metadata": {
    "toc": true
   },
   "source": [
    "<h1>Table of Contents<span class=\"tocSkip\"></span></h1>\n",
    "<div class=\"toc\"><ul class=\"toc-item\"><li><span><a href=\"#load-catalogs\" data-toc-modified-id=\"load-catalogs-1\"><span class=\"toc-item-num\">1&nbsp;&nbsp;</span>load catalogs</a></span></li></ul></div>"
   ]
  },
  {
   "cell_type": "code",
   "execution_count": null,
   "metadata": {},
   "outputs": [],
   "source": [
    "%load_ext autoreload\n",
    "%autoreload 2\n",
    "%aimport\n",
    "# %reload_ext autoreload"
   ]
  },
  {
   "cell_type": "code",
   "execution_count": null,
   "metadata": {},
   "outputs": [],
   "source": [
    "import sys \n",
    "import os \n",
    "from os.path import abspath\n",
    "path = abspath('..')\n",
    "\n",
    "if path not in sys.path: \n",
    "    sys.path.insert(0, path)"
   ]
  },
  {
   "cell_type": "code",
   "execution_count": null,
   "metadata": {},
   "outputs": [],
   "source": [
    "from src.utils import const\n",
    "from src.frames import plots\n",
    "from src.frames import catalogs\n",
    "from src.frames.params import Param\n",
    "from src import plot_funcs"
   ]
  },
  {
   "cell_type": "code",
   "execution_count": null,
   "metadata": {},
   "outputs": [],
   "source": [
    "import numpy as np\n",
    "import matplotlib.pyplot as plt "
   ]
  },
  {
   "cell_type": "markdown",
   "metadata": {},
   "source": [
    "# load catalogs "
   ]
  },
  {
   "cell_type": "code",
   "execution_count": null,
   "metadata": {},
   "outputs": [],
   "source": [
    "cat_file = const.data_path.joinpath('bolshoi/hlist_1.00035.csv')\n",
    "\n",
    "hcat1 = catalogs.HaloCatalog(cat_file, \"Bolshoi\", use_generator=False, verbose=True, subhalos=False, \n",
    "                             filters=None)"
   ]
  },
  {
   "cell_type": "code",
   "execution_count": null,
   "metadata": {},
   "outputs": [],
   "source": [
    "np.log10(hcat1.particle_mass * 1e3)"
   ]
  },
  {
   "cell_type": "code",
   "execution_count": null,
   "metadata": {},
   "outputs": [],
   "source": [
    "plt.hist(np.log10(hcat1.cat['mvir']))"
   ]
  },
  {
   "cell_type": "code",
   "execution_count": null,
   "metadata": {},
   "outputs": [],
   "source": [
    "print(sum(np.log10(hcat1.cat['mvir']) < 13.75))\n",
    "print(len(hcat1.cat))"
   ]
  },
  {
   "cell_type": "code",
   "execution_count": null,
   "metadata": {},
   "outputs": [],
   "source": [
    "\n",
    "filters={\n",
    "            'mvir': lambda self, cat: np.log10(self.get_values(cat, 'mvir')) > np.log10(self.particle_mass * 1e3),\n",
    "            'upid': lambda self, cat: (self.get_values(cat, 'upid') == -1 if self.subhalos else\n",
    "                                 self.get_values(cat, 'upid') >= 0)\n",
    "        }\n",
    "\n",
    "hcat2 = catalogs.HaloCatalog(cat_file, \"Bolshoi\", use_generator=False, verbose=True, subhalos=False, \n",
    "                             filters=filters)\n",
    "\n",
    "#dummy test\n",
    "filters={\n",
    "            'mvir': lambda self, cat: np.log10(self.get_values(cat, 'mvir')) > np.log10(self.particle_mass * 1e3),\n",
    "        }\n",
    "hcat3 = catalogs.HaloCatalog(cat_file, \"Bolshoi\", use_generator=False, verbose=True, subhalos=False, filters=filters)\n"
   ]
  },
  {
   "cell_type": "code",
   "execution_count": null,
   "metadata": {},
   "outputs": [],
   "source": [
    "print(len(hcat1.cat))\n",
    "print(len(hcat2.cat))\n",
    "print(len(hcat3.cat))\n"
   ]
  },
  {
   "cell_type": "code",
   "execution_count": null,
   "metadata": {},
   "outputs": [],
   "source": [
    "np.array(hcat3.cat).nbytes / 1e6 "
   ]
  },
  {
   "cell_type": "code",
   "execution_count": null,
   "metadata": {},
   "outputs": [],
   "source": [
    "hcat3.cat[hcat3.cat['Spin']<0.001]\n",
    "#not equal to zero. "
   ]
  },
  {
   "cell_type": "code",
   "execution_count": null,
   "metadata": {},
   "outputs": [],
   "source": []
  }
 ],
 "metadata": {
  "kernelspec": {
   "display_name": "Python 3",
   "language": "python",
   "name": "python3"
  },
  "language_info": {
   "codemirror_mode": {
    "name": "ipython",
    "version": 3
   },
   "file_extension": ".py",
   "mimetype": "text/x-python",
   "name": "python",
   "nbconvert_exporter": "python",
   "pygments_lexer": "ipython3",
   "version": "3.7.3"
  },
  "toc": {
   "base_numbering": 1,
   "nav_menu": {},
   "number_sections": true,
   "sideBar": true,
   "skip_h1_title": false,
   "title_cell": "Table of Contents",
   "title_sidebar": "Contents",
   "toc_cell": true,
   "toc_position": {},
   "toc_section_display": true,
   "toc_window_display": true
  }
 },
 "nbformat": 4,
 "nbformat_minor": 2
}
