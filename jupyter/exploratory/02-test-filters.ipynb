{
 "cells": [
  {
   "cell_type": "markdown",
   "metadata": {
    "toc": true
   },
   "source": [
    "<h1>Table of Contents<span class=\"tocSkip\"></span></h1>\n",
    "<div class=\"toc\"><ul class=\"toc-item\"><li><span><a href=\"#load-catalogs\" data-toc-modified-id=\"load-catalogs-1\"><span class=\"toc-item-num\">1&nbsp;&nbsp;</span>load catalogs</a></span></li></ul></div>"
   ]
  },
  {
   "cell_type": "code",
   "execution_count": 1,
   "metadata": {
    "ExecuteTime": {
     "end_time": "2020-02-27T14:14:44.474523Z",
     "start_time": "2020-02-27T14:14:44.422018Z"
    }
   },
   "outputs": [
    {
     "name": "stdout",
     "output_type": "stream",
     "text": [
      "Modules to reload:\n",
      "all-except-skipped\n",
      "\n",
      "Modules to skip:\n",
      "\n"
     ]
    }
   ],
   "source": [
    "%load_ext autoreload\n",
    "%autoreload 2\n",
    "%aimport\n",
    "# %reload_ext autoreload"
   ]
  },
  {
   "cell_type": "code",
   "execution_count": 2,
   "metadata": {
    "ExecuteTime": {
     "end_time": "2020-02-27T14:14:44.970855Z",
     "start_time": "2020-02-27T14:14:44.925511Z"
    }
   },
   "outputs": [],
   "source": [
    "import sys \n",
    "import os \n",
    "from os.path import abspath\n",
    "path = abspath('..')\n",
    "\n",
    "if path not in sys.path: \n",
    "    sys.path.insert(0, path)"
   ]
  },
  {
   "cell_type": "code",
   "execution_count": 3,
   "metadata": {
    "ExecuteTime": {
     "end_time": "2020-02-27T14:14:46.955182Z",
     "start_time": "2020-02-27T14:14:45.349708Z"
    }
   },
   "outputs": [],
   "source": [
    "from src.utils import const\n",
    "from src.frames import plots\n",
    "from src.frames import catalogs\n",
    "from src.frames.params import Param\n",
    "from src import plot_funcs"
   ]
  },
  {
   "cell_type": "code",
   "execution_count": 4,
   "metadata": {
    "ExecuteTime": {
     "end_time": "2020-02-27T14:14:47.036005Z",
     "start_time": "2020-02-27T14:14:46.956496Z"
    }
   },
   "outputs": [],
   "source": [
    "import numpy as np\n",
    "import matplotlib.pyplot as plt "
   ]
  },
  {
   "cell_type": "markdown",
   "metadata": {},
   "source": [
    "# load catalogs "
   ]
  },
  {
   "cell_type": "code",
   "execution_count": 7,
   "metadata": {
    "ExecuteTime": {
     "end_time": "2020-02-27T14:19:30.289147Z",
     "start_time": "2020-02-27T14:16:32.332224Z"
    }
   },
   "outputs": [
    {
     "name": "stdout",
     "output_type": "stream",
     "text": [
      "Ignoring dividing by zero and invalid errors that should be filtered out anyways.\n",
      "0\n",
      "10\n",
      "20\n",
      "30\n",
      "40\n",
      "50\n",
      "60\n",
      "70\n"
     ]
    }
   ],
   "source": [
    "cat_file = const.data_path.joinpath('bolshoi/hlist_1.00035.csv')\n",
    "\n",
    "hcat1 = catalogs.HaloCatalog(cat_file, \"Bolshoi\", use_generator=False, verbose=True, subhalos=False, \n",
    "                             filters=None)"
   ]
  },
  {
   "cell_type": "code",
   "execution_count": 17,
   "metadata": {
    "ExecuteTime": {
     "end_time": "2020-02-27T14:49:43.692620Z",
     "start_time": "2020-02-27T14:49:43.462190Z"
    }
   },
   "outputs": [
    {
     "data": {
      "text/plain": [
       "11.130333768495007"
      ]
     },
     "execution_count": 17,
     "metadata": {},
     "output_type": "execute_result"
    }
   ],
   "source": [
    "np.log10(hcat1.particle_mass * 1e3)"
   ]
  },
  {
   "cell_type": "code",
   "execution_count": 16,
   "metadata": {
    "ExecuteTime": {
     "end_time": "2020-02-27T14:45:41.686748Z",
     "start_time": "2020-02-27T14:45:41.442506Z"
    }
   },
   "outputs": [
    {
     "data": {
      "text/plain": [
       "(array([139323.,  82354.,  48645.,  28779.,  16789.,   9667.,   5548.,\n",
       "          3054.,   1675.,    853.]),\n",
       " array([11.13065535, 11.3925789 , 11.65450245, 11.916426  , 12.17834955,\n",
       "        12.4402731 , 12.70219664, 12.96412019, 13.22604374, 13.48796729,\n",
       "        13.74989084]),\n",
       " <a list of 10 Patch objects>)"
      ]
     },
     "execution_count": 16,
     "metadata": {},
     "output_type": "execute_result"
    },
    {
     "data": {
      "image/png": "[encoded data removed]",
      "text/plain": [
       "<Figure size 432x288 with 1 Axes>"
      ]
     },
     "metadata": {
      "needs_background": "light"
     },
     "output_type": "display_data"
    }
   ],
   "source": [
    "plt.hist(np.log10(hcat1.cat['mvir']))"
   ]
  },
  {
   "cell_type": "code",
   "execution_count": 13,
   "metadata": {
    "ExecuteTime": {
     "end_time": "2020-02-27T14:22:24.714341Z",
     "start_time": "2020-02-27T14:22:23.908547Z"
    }
   },
   "outputs": [
    {
     "name": "stdout",
     "output_type": "stream",
     "text": [
      "336687\n",
      "336687\n"
     ]
    }
   ],
   "source": [
    "print(sum(np.log10(hcat1.cat['mvir']) < 13.75))\n",
    "print(len(hcat1.cat))"
   ]
  },
  {
   "cell_type": "code",
   "execution_count": 5,
   "metadata": {
    "ExecuteTime": {
     "end_time": "2020-02-27T14:14:49.829537Z",
     "start_time": "2020-02-27T14:14:47.037253Z"
    }
   },
   "outputs": [
    {
     "name": "stdout",
     "output_type": "stream",
     "text": [
      "Ignoring dividing by zero and invalid errors that should be filtered out anyways.\n"
     ]
    },
    {
     "name": "stderr",
     "output_type": "stream",
     "text": [
      "/home/imendoza/alcca/nbody-relaxed/src/frames/catalogs.py:148: RuntimeWarning: divide by zero encountered in log10\n",
      "  conds = conds & (np.log10(self.get_values(cat, 'mvir') < 13.75))\n"
     ]
    },
    {
     "ename": "TypeError",
     "evalue": "ufunc 'bitwise_and' not supported for the input types, and the inputs could not be safely coerced to any supported types according to the casting rule ''safe''",
     "output_type": "error",
     "traceback": [
      "\u001b[0;31m---------------------------------------------------------------------------\u001b[0m",
      "\u001b[0;31mTypeError\u001b[0m                                 Traceback (most recent call last)",
      "\u001b[0;32m<ipython-input-5-d7ecab161dd5>\u001b[0m in \u001b[0;36m<module>\u001b[0;34m\u001b[0m\n\u001b[1;32m      2\u001b[0m \u001b[0;34m\u001b[0m\u001b[0m\n\u001b[1;32m      3\u001b[0m hcat1 = catalogs.HaloCatalog(cat_file, \"Bolshoi\", use_generator=False, verbose=True, subhalos=False, \n\u001b[0;32m----> 4\u001b[0;31m                              filters=None)\n\u001b[0m\u001b[1;32m      5\u001b[0m \u001b[0;34m\u001b[0m\u001b[0m\n\u001b[1;32m      6\u001b[0m filters={\n",
      "\u001b[0;32m~/alcca/nbody-relaxed/src/frames/catalogs.py\u001b[0m in \u001b[0;36m__init__\u001b[0;34m(self, filename, catalog_name, filters, params_to_include, use_generator, verbose, subhalos)\u001b[0m\n\u001b[1;32m     43\u001b[0m         \u001b[0;32massert\u001b[0m \u001b[0mset\u001b[0m\u001b[0;34m(\u001b[0m\u001b[0mself\u001b[0m\u001b[0;34m.\u001b[0m\u001b[0mfilters\u001b[0m\u001b[0;34m.\u001b[0m\u001b[0mkeys\u001b[0m\u001b[0;34m(\u001b[0m\u001b[0;34m)\u001b[0m\u001b[0;34m)\u001b[0m\u001b[0;34m.\u001b[0m\u001b[0missubset\u001b[0m\u001b[0;34m(\u001b[0m\u001b[0mset\u001b[0m\u001b[0;34m(\u001b[0m\u001b[0mself\u001b[0m\u001b[0;34m.\u001b[0m\u001b[0mparam_names\u001b[0m\u001b[0;34m)\u001b[0m\u001b[0;34m)\u001b[0m\u001b[0;34m,\u001b[0m \u001b[0;34m\"filtering will fail.\"\u001b[0m\u001b[0;34m\u001b[0m\u001b[0;34m\u001b[0m\u001b[0m\n\u001b[1;32m     44\u001b[0m \u001b[0;34m\u001b[0m\u001b[0m\n\u001b[0;32m---> 45\u001b[0;31m         \u001b[0mself\u001b[0m\u001b[0;34m.\u001b[0m\u001b[0mcat\u001b[0m \u001b[0;34m=\u001b[0m \u001b[0mself\u001b[0m\u001b[0;34m.\u001b[0m\u001b[0mget_cat\u001b[0m\u001b[0;34m(\u001b[0m\u001b[0;34m)\u001b[0m  \u001b[0;31m# could be a generator or an astropy.Table object.\u001b[0m\u001b[0;34m\u001b[0m\u001b[0;34m\u001b[0m\u001b[0m\n\u001b[0m\u001b[1;32m     46\u001b[0m \u001b[0;34m\u001b[0m\u001b[0m\n\u001b[1;32m     47\u001b[0m         \u001b[0;31m# ToDo: For the generator case we want to returned a modified generator with the filtered values.\u001b[0m\u001b[0;34m\u001b[0m\u001b[0;34m\u001b[0m\u001b[0;34m\u001b[0m\u001b[0m\n",
      "\u001b[0;32m~/alcca/nbody-relaxed/src/frames/catalogs.py\u001b[0m in \u001b[0;36mget_cat\u001b[0;34m(self)\u001b[0m\n\u001b[1;32m     83\u001b[0m                         \u001b[0mnew_cat\u001b[0m\u001b[0;34m.\u001b[0m\u001b[0madd_column\u001b[0m\u001b[0;34m(\u001b[0m\u001b[0mself\u001b[0m\u001b[0;34m.\u001b[0m\u001b[0mget_values\u001b[0m\u001b[0;34m(\u001b[0m\u001b[0mcat\u001b[0m\u001b[0;34m,\u001b[0m \u001b[0mparam\u001b[0m\u001b[0;34m)\u001b[0m\u001b[0;34m,\u001b[0m \u001b[0mname\u001b[0m\u001b[0;34m=\u001b[0m\u001b[0mparam\u001b[0m\u001b[0;34m)\u001b[0m\u001b[0;34m\u001b[0m\u001b[0;34m\u001b[0m\u001b[0m\n\u001b[1;32m     84\u001b[0m \u001b[0;34m\u001b[0m\u001b[0m\n\u001b[0;32m---> 85\u001b[0;31m                 \u001b[0mnew_cat\u001b[0m \u001b[0;34m=\u001b[0m \u001b[0mself\u001b[0m\u001b[0;34m.\u001b[0m\u001b[0mfilter_cat\u001b[0m\u001b[0;34m(\u001b[0m\u001b[0mnew_cat\u001b[0m\u001b[0;34m)\u001b[0m\u001b[0;34m\u001b[0m\u001b[0;34m\u001b[0m\u001b[0m\n\u001b[0m\u001b[1;32m     86\u001b[0m \u001b[0;34m\u001b[0m\u001b[0m\n\u001b[1;32m     87\u001b[0m                 \u001b[0mcats\u001b[0m\u001b[0;34m.\u001b[0m\u001b[0mappend\u001b[0m\u001b[0;34m(\u001b[0m\u001b[0mnew_cat\u001b[0m\u001b[0;34m)\u001b[0m\u001b[0;34m\u001b[0m\u001b[0;34m\u001b[0m\u001b[0m\n",
      "\u001b[0;32m~/alcca/nbody-relaxed/src/frames/catalogs.py\u001b[0m in \u001b[0;36mfilter_cat\u001b[0;34m(self, cat)\u001b[0m\n\u001b[1;32m    110\u001b[0m         \"\"\"\n\u001b[1;32m    111\u001b[0m         \u001b[0;32mfor\u001b[0m \u001b[0mmy_filter\u001b[0m \u001b[0;32min\u001b[0m \u001b[0mself\u001b[0m\u001b[0;34m.\u001b[0m\u001b[0mfilters\u001b[0m\u001b[0;34m.\u001b[0m\u001b[0mvalues\u001b[0m\u001b[0;34m(\u001b[0m\u001b[0;34m)\u001b[0m\u001b[0;34m:\u001b[0m\u001b[0;34m\u001b[0m\u001b[0;34m\u001b[0m\u001b[0m\n\u001b[0;32m--> 112\u001b[0;31m             \u001b[0mcat\u001b[0m \u001b[0;34m=\u001b[0m \u001b[0mcat\u001b[0m\u001b[0;34m[\u001b[0m\u001b[0mmy_filter\u001b[0m\u001b[0;34m(\u001b[0m\u001b[0mself\u001b[0m\u001b[0;34m,\u001b[0m \u001b[0mcat\u001b[0m\u001b[0;34m)\u001b[0m\u001b[0;34m]\u001b[0m\u001b[0;34m\u001b[0m\u001b[0;34m\u001b[0m\u001b[0m\n\u001b[0m\u001b[1;32m    113\u001b[0m \u001b[0;34m\u001b[0m\u001b[0m\n\u001b[1;32m    114\u001b[0m         \u001b[0mcat\u001b[0m \u001b[0;34m=\u001b[0m \u001b[0mcat\u001b[0m\u001b[0;34m[\u001b[0m\u001b[0mself\u001b[0m\u001b[0;34m.\u001b[0m\u001b[0mparams_to_include\u001b[0m\u001b[0;34m]\u001b[0m\u001b[0;34m\u001b[0m\u001b[0;34m\u001b[0m\u001b[0m\n",
      "\u001b[0;32m~/alcca/nbody-relaxed/src/frames/catalogs.py\u001b[0m in \u001b[0;36mmass_default_filter\u001b[0;34m(self, cat)\u001b[0m\n\u001b[1;32m    146\u001b[0m \u001b[0;34m\u001b[0m\u001b[0m\n\u001b[1;32m    147\u001b[0m         \u001b[0;32mif\u001b[0m \u001b[0mself\u001b[0m\u001b[0;34m.\u001b[0m\u001b[0mcatalog_name\u001b[0m \u001b[0;34m==\u001b[0m \u001b[0;34m'Bolshoi'\u001b[0m \u001b[0;32mor\u001b[0m \u001b[0mself\u001b[0m\u001b[0;34m.\u001b[0m\u001b[0mcatalog_name\u001b[0m \u001b[0;34m==\u001b[0m \u001b[0;34m'BolshoiP'\u001b[0m\u001b[0;34m:\u001b[0m\u001b[0;34m\u001b[0m\u001b[0;34m\u001b[0m\u001b[0m\n\u001b[0;32m--> 148\u001b[0;31m             \u001b[0mconds\u001b[0m \u001b[0;34m=\u001b[0m \u001b[0mconds\u001b[0m \u001b[0;34m&\u001b[0m \u001b[0;34m(\u001b[0m\u001b[0mnp\u001b[0m\u001b[0;34m.\u001b[0m\u001b[0mlog10\u001b[0m\u001b[0;34m(\u001b[0m\u001b[0mself\u001b[0m\u001b[0;34m.\u001b[0m\u001b[0mget_values\u001b[0m\u001b[0;34m(\u001b[0m\u001b[0mcat\u001b[0m\u001b[0;34m,\u001b[0m \u001b[0;34m'mvir'\u001b[0m\u001b[0;34m)\u001b[0m \u001b[0;34m<\u001b[0m \u001b[0;36m13.75\u001b[0m\u001b[0;34m)\u001b[0m\u001b[0;34m)\u001b[0m\u001b[0;34m\u001b[0m\u001b[0;34m\u001b[0m\u001b[0m\n\u001b[0m\u001b[1;32m    149\u001b[0m \u001b[0;34m\u001b[0m\u001b[0m\n\u001b[1;32m    150\u001b[0m         \u001b[0;32mreturn\u001b[0m \u001b[0mconds\u001b[0m\u001b[0;34m\u001b[0m\u001b[0;34m\u001b[0m\u001b[0m\n",
      "\u001b[0;31mTypeError\u001b[0m: ufunc 'bitwise_and' not supported for the input types, and the inputs could not be safely coerced to any supported types according to the casting rule ''safe''"
     ]
    }
   ],
   "source": [
    "\n",
    "filters={\n",
    "            'mvir': lambda self, cat: np.log10(self.get_values(cat, 'mvir')) > np.log10(self.particle_mass * 1e3),\n",
    "            'upid': lambda self, cat: (self.get_values(cat, 'upid') == -1 if self.subhalos else\n",
    "                                 self.get_values(cat, 'upid') >= 0)\n",
    "        }\n",
    "\n",
    "hcat2 = catalogs.HaloCatalog(cat_file, \"Bolshoi\", use_generator=False, verbose=True, subhalos=False, \n",
    "                             filters=filters)\n",
    "\n",
    "#dummy test\n",
    "filters={\n",
    "            'mvir': lambda self, cat: np.log10(self.get_values(cat, 'mvir')) > np.log10(self.particle_mass * 1e3),\n",
    "        }\n",
    "hcat3 = catalogs.HaloCatalog(cat_file, \"Bolshoi\", use_generator=False, verbose=True, subhalos=False, filters=filters)\n"
   ]
  },
  {
   "cell_type": "code",
   "execution_count": 16,
   "metadata": {
    "ExecuteTime": {
     "end_time": "2020-02-27T13:03:58.349896Z",
     "start_time": "2020-02-27T13:03:58.139896Z"
    }
   },
   "outputs": [
    {
     "name": "stdout",
     "output_type": "stream",
     "text": [
      "45039\n",
      "45039\n",
      "382477\n"
     ]
    }
   ],
   "source": [
    "print(len(hcat1.cat))\n",
    "print(len(hcat2.cat))\n",
    "print(len(hcat3.cat))\n"
   ]
  },
  {
   "cell_type": "code",
   "execution_count": 18,
   "metadata": {
    "ExecuteTime": {
     "end_time": "2020-02-27T13:04:45.313862Z",
     "start_time": "2020-02-27T13:04:45.156564Z"
    }
   },
   "outputs": [
    {
     "data": {
      "text/plain": [
       "48.957056"
      ]
     },
     "execution_count": 18,
     "metadata": {},
     "output_type": "execute_result"
    }
   ],
   "source": [
    "np.array(hcat3.cat).nbytes / 1e6 "
   ]
  },
  {
   "cell_type": "code",
   "execution_count": 33,
   "metadata": {
    "ExecuteTime": {
     "end_time": "2020-02-27T13:07:34.801036Z",
     "start_time": "2020-02-27T13:07:34.723054Z"
    }
   },
   "outputs": [
    {
     "data": {
      "text/html": [
       "<i>Table length=15</i>\n",
       "<table id=\"table47423444753432\" class=\"table-striped table-bordered table-condensed\">\n",
       "<thead><tr><th>mvir</th><th>rvir</th><th>rs</th><th>Xoff</th><th>Voff</th><th>vrms</th><th>Acc_Rate_1*Tdyn</th><th>Acc_Rate_Inst</th><th>T/|U|</th><th>Spin</th><th>scale_of_last_MM</th><th>cvir</th><th>q</th><th>phi_l</th><th>xoff</th><th>voff</th></tr></thead>\n",
       "<thead><tr><th>float64</th><th>float64</th><th>float64</th><th>float64</th><th>float64</th><th>float64</th><th>float64</th><th>float64</th><th>float64</th><th>float64</th><th>float64</th><th>float64</th><th>float64</th><th>float64</th><th>float64</th><th>float64</th></tr></thead>\n",
       "<tr><td>409600000000.0</td><td>153.689</td><td>12.663</td><td>6.87127</td><td>3.32</td><td>130.51</td><td>18.14</td><td>31.0</td><td>0.5648</td><td>0.00099</td><td>0.1683</td><td>12.13685540551212</td><td>0.617005</td><td>2.046981662486881</td><td>0.04470892516705815</td><td>0.025438663703930733</td></tr>\n",
       "<tr><td>301600000000.0</td><td>138.789</td><td>7.013</td><td>2.88312</td><td>5.92</td><td>124.89</td><td>3.737</td><td>-7.154</td><td>0.5594</td><td>0.00093</td><td>0.0963</td><td>19.79024668472836</td><td>0.64874</td><td>2.056753987356827</td><td>0.020773404232323888</td><td>0.04740171350788694</td></tr>\n",
       "<tr><td>669800000000.0</td><td>181.067</td><td>14.121</td><td>2.8764</td><td>7.49</td><td>149.86</td><td>11.61</td><td>50.08</td><td>0.5422</td><td>0.00096</td><td>0.0963</td><td>12.822533814885631</td><td>0.66815</td><td>0.20439919450979044</td><td>0.01588583231621444</td><td>0.04997998131589483</td></tr>\n",
       "<tr><td>168600000000.0</td><td>114.328</td><td>10.66</td><td>6.23681</td><td>6.12</td><td>128.05</td><td>-9.124</td><td>38.15</td><td>0.9998</td><td>0.00083</td><td>0.3243</td><td>10.724953095684803</td><td>0.83023</td><td>1.2617511952159426</td><td>0.05455190329578056</td><td>0.04779383053494728</td></tr>\n",
       "<tr><td>3775000000000.0</td><td>322.223</td><td>30.325</td><td>7.75471</td><td>8.58</td><td>274.64</td><td>169.5</td><td>524.6</td><td>0.5938</td><td>0.00038</td><td>0.4083</td><td>10.62565539983512</td><td>0.56219</td><td>1.5344873660665745</td><td>0.02406628328828172</td><td>0.031240897174482963</td></tr>\n",
       "<tr><td>475700000000.0</td><td>161.549</td><td>6.687</td><td>7.7699</td><td>11.57</td><td>199.6</td><td>-155.8</td><td>-496.0</td><td>0.9978</td><td>0.00096</td><td>0.3183</td><td>24.1586660684911</td><td>0.886405</td><td>0.9072893196112792</td><td>0.048096243245083534</td><td>0.057965931863727456</td></tr>\n",
       "<tr><td>554700000000.0</td><td>170.043</td><td>21.04</td><td>11.0467</td><td>12.7</td><td>137.29</td><td>30.5</td><td>21.46</td><td>0.5866</td><td>0.00082</td><td>0.1923</td><td>8.08189163498099</td><td>0.80828</td><td>1.0306323980475125</td><td>0.06496415612521537</td><td>0.09250491659989803</td></tr>\n",
       "<tr><td>2482000000000.0</td><td>280.188</td><td>22.408</td><td>5.90662</td><td>6.06</td><td>235.58</td><td>100.7</td><td>405.4</td><td>0.5552</td><td>0.00088</td><td>0.2463</td><td>12.50392716886826</td><td>0.71792</td><td>1.6712560882542098</td><td>0.02108091709851957</td><td>0.025723745649036418</td></tr>\n",
       "<tr><td>2716000000000.0</td><td>288.756</td><td>22.133</td><td>8.58904</td><td>7.58</td><td>247.97</td><td>112.7</td><td>23.85</td><td>0.5618</td><td>0.00059</td><td>0.3123</td><td>13.046401301224416</td><td>0.667025</td><td>0.6692620258497947</td><td>0.02974497499619056</td><td>0.03056821389684236</td></tr>\n",
       "<tr><td>140000000000.0</td><td>107.453</td><td>5.951</td><td>3.1095</td><td>6.47</td><td>91.21</td><td>3.54</td><td>14.31</td><td>0.5232</td><td>0.00049</td><td>0.2463</td><td>18.05629305998992</td><td>0.766395</td><td>1.3501459087191248</td><td>0.028938233460210513</td><td>0.07093520447319374</td></tr>\n",
       "<tr><td>264700000000.0</td><td>132.875</td><td>9.918</td><td>15.418</td><td>29.72</td><td>157.18</td><td>-91.14</td><td>1216.0</td><td>0.991</td><td>0.00097</td><td>0.1323</td><td>13.397358338374673</td><td>0.53475</td><td>0.8727665412823689</td><td>0.11603386641580432</td><td>0.1890825804809772</td></tr>\n",
       "<tr><td>541800000000.0</td><td>168.71</td><td>10.742</td><td>3.01136</td><td>14.08</td><td>149.51</td><td>-78.21</td><td>52.46</td><td>0.562</td><td>0.00088</td><td>0.2763</td><td>15.705641407559114</td><td>0.709125</td><td>2.0626210317475797</td><td>0.01784932724794025</td><td>0.09417430272222595</td></tr>\n",
       "<tr><td>267100000000.0</td><td>133.285</td><td>1.191</td><td>11.5873</td><td>12.29</td><td>218.64</td><td>-72.53</td><td>248.0</td><td>1.0008</td><td>0.00076</td><td>0.2583</td><td>111.91015952980688</td><td>0.688655</td><td>1.6038899844474162</td><td>0.0869362643958435</td><td>0.056211123307720455</td></tr>\n",
       "<tr><td>694600000000.0</td><td>183.276</td><td>15.263</td><td>4.79038</td><td>6.06</td><td>152.75</td><td>20.74</td><td>26.23</td><td>0.5312</td><td>0.00074</td><td>0.1443</td><td>12.007862150298108</td><td>0.7746850000000001</td><td>1.913746716692793</td><td>0.026137519369693794</td><td>0.03967266775777414</td></tr>\n",
       "<tr><td>888500000000.0</td><td>198.955</td><td>35.705</td><td>11.0021</td><td>17.95</td><td>215.4</td><td>411.5</td><td>-16610.0</td><td>0.9918</td><td>0.0006</td><td>0.1203</td><td>5.572188769079961</td><td>0.39622999999999997</td><td>1.480016839340896</td><td>0.055299439571762456</td><td>0.08333333333333333</td></tr>\n",
       "</table>"
      ],
      "text/plain": [
       "<Table length=15>\n",
       "      mvir        rvir     rs   ...         xoff                 voff        \n",
       "    float64     float64 float64 ...       float64              float64       \n",
       "--------------- ------- ------- ... -------------------- --------------------\n",
       " 409600000000.0 153.689  12.663 ...  0.04470892516705815 0.025438663703930733\n",
       " 301600000000.0 138.789   7.013 ... 0.020773404232323888  0.04740171350788694\n",
       " 669800000000.0 181.067  14.121 ...  0.01588583231621444  0.04997998131589483\n",
       " 168600000000.0 114.328   10.66 ...  0.05455190329578056  0.04779383053494728\n",
       "3775000000000.0 322.223  30.325 ...  0.02406628328828172 0.031240897174482963\n",
       " 475700000000.0 161.549   6.687 ... 0.048096243245083534 0.057965931863727456\n",
       " 554700000000.0 170.043   21.04 ...  0.06496415612521537  0.09250491659989803\n",
       "2482000000000.0 280.188  22.408 ...  0.02108091709851957 0.025723745649036418\n",
       "2716000000000.0 288.756  22.133 ...  0.02974497499619056  0.03056821389684236\n",
       " 140000000000.0 107.453   5.951 ... 0.028938233460210513  0.07093520447319374\n",
       " 264700000000.0 132.875   9.918 ...  0.11603386641580432   0.1890825804809772\n",
       " 541800000000.0  168.71  10.742 ...  0.01784932724794025  0.09417430272222595\n",
       " 267100000000.0 133.285   1.191 ...   0.0869362643958435 0.056211123307720455\n",
       " 694600000000.0 183.276  15.263 ... 0.026137519369693794  0.03967266775777414\n",
       " 888500000000.0 198.955  35.705 ... 0.055299439571762456  0.08333333333333333"
      ]
     },
     "execution_count": 33,
     "metadata": {},
     "output_type": "execute_result"
    }
   ],
   "source": [
    "hcat3.cat[hcat3.cat['Spin']<0.001]\n",
    "#not equal to zero. "
   ]
  },
  {
   "cell_type": "code",
   "execution_count": null,
   "metadata": {},
   "outputs": [],
   "source": []
  }
 ],
 "metadata": {
  "kernelspec": {
   "display_name": "Python 3",
   "language": "python",
   "name": "python3"
  },
  "language_info": {
   "codemirror_mode": {
    "name": "ipython",
    "version": 3
   },
   "file_extension": ".py",
   "mimetype": "text/x-python",
   "name": "python",
   "nbconvert_exporter": "python",
   "pygments_lexer": "ipython3",
   "version": "3.7.3"
  },
  "toc": {
   "base_numbering": 1,
   "nav_menu": {},
   "number_sections": true,
   "sideBar": true,
   "skip_h1_title": false,
   "title_cell": "Table of Contents",
   "title_sidebar": "Contents",
   "toc_cell": true,
   "toc_position": {},
   "toc_section_display": true,
   "toc_window_display": true
  }
 },
 "nbformat": 4,
 "nbformat_minor": 2
}
