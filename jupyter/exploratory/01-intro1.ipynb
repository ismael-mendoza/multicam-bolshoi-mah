{
 "cells": [
  {
   "cell_type": "markdown",
   "metadata": {},
   "source": [
    "Files were obtained from: https://www.slac.stanford.edu/~behroozi/MultiDark_Hlists_Rockstar/"
   ]
  },
  {
   "cell_type": "code",
   "execution_count": null,
   "metadata": {},
   "outputs": [],
   "source": [
    "import numpy as np\n",
    "import astropy\n",
    "from astropy.table import Table \n",
    "from scipy.stats import spearmanr\n",
    "import matplotlib.pyplot as plt"
   ]
  },
  {
   "cell_type": "code",
   "execution_count": null,
   "metadata": {},
   "outputs": [],
   "source": [
    "import warnings\n",
    "warnings.filterwarnings(\"ignore\")"
   ]
  },
  {
   "cell_type": "markdown",
   "metadata": {},
   "source": [
    "# pandas example. "
   ]
  },
  {
   "cell_type": "code",
   "execution_count": null,
   "metadata": {},
   "outputs": [],
   "source": [
    "#import pandas as pd\n",
    "# cat = pd.read_table(\"catalogues/hlist_0.07835.txt\", header=0, comment='#', sep='\\s+', engine='python')"
   ]
  },
  {
   "cell_type": "markdown",
   "metadata": {},
   "source": [
    "# Astropy table "
   ]
  },
  {
   "cell_type": "code",
   "execution_count": null,
   "metadata": {},
   "outputs": [],
   "source": [
    "#read the one at redshift z = 0. \n",
    "cat = Table.read(\"../data/hlist_0.11515.list.gz\", format=\"ascii\")\n",
    "#cat = Table.read(\"catalogues/hlist_1.00035.list.gz\", format=\"ascii\")\n",
    "new_names = [name[:name.rfind('(')] for name in cat.colnames]\n",
    "for name, new_name in zip(cat.colnames, new_names): \n",
    "    cat.rename_column(name, new_name)"
   ]
  },
  {
   "cell_type": "code",
   "execution_count": null,
   "metadata": {},
   "outputs": [],
   "source": [
    "print(cat.colnames)"
   ]
  },
  {
   "cell_type": "code",
   "execution_count": null,
   "metadata": {},
   "outputs": [],
   "source": [
    "# add some of the missing parameters. \n",
    "# c_vir, phi_L, shape q\n",
    "#some phi_L have NaNs \n",
    "cvir = cat['rvir'] / cat['rs']\n",
    "phi_l = np.arccos(\n",
    "    ((cat['A[x]']*cat['Jx'] + cat['A[y]']*cat['Jy'] + cat['A[z]']*cat['Jz'])\n",
    "     /\n",
    "    (np.sqrt(cat['A[x]']**2 + cat['A[y]']**2 + cat['A[z]']**2)*np.sqrt(cat['Jx']**2 + cat['Jy']**2 + cat['Jz']**2) )\n",
    "    )\n",
    ")\n",
    "q = (1/2)*(cat['b_to_a'] + cat['c_to_a']);"
   ]
  },
  {
   "cell_type": "code",
   "execution_count": null,
   "metadata": {},
   "outputs": [],
   "source": [
    "#now we add these columns to our table. \n",
    "cat.add_column(cvir, name='cvir')\n",
    "cat.add_column(phi_l, name='phi_l')\n",
    "cat.add_column(q, name='q')"
   ]
  },
  {
   "cell_type": "code",
   "execution_count": null,
   "metadata": {},
   "outputs": [],
   "source": [
    "print(\"length of catalogue:\", len(cat))\n",
    "print(\"Number of nan:\", sum(np.isnan(cat['phi_l'])))\n",
    "\n",
    "#We can ignore the 'nan's from Phi_L too for simplicity. \n",
    "cat = cat[~np.isnan(cat['phi_l'])]\n",
    "\n",
    "print(\"final length of catalogue:\", len(cat))"
   ]
  },
  {
   "cell_type": "markdown",
   "metadata": {},
   "source": [
    "# Spearman correlation example"
   ]
  },
  {
   "cell_type": "code",
   "execution_count": null,
   "metadata": {},
   "outputs": [],
   "source": [
    "#variables we care about for computing correlations \n",
    "params = ['mvir', 'cvir' , 'T/|U|', 'Xoff', 'Voff', 'Spin', 'q', 'phi_l',\n",
    "         #rho_rms\n",
    "         ]"
   ]
  },
  {
   "cell_type": "code",
   "execution_count": null,
   "metadata": {
    "code_folding": []
   },
   "outputs": [],
   "source": [
    "print(\"Spearman correlation coefficient between parameters...\")\n",
    "for i, param1 in enumerate(params): \n",
    "    for param2 in params[i+1:]:\n",
    "        corr, p = spearmanr(cat[param1], cat[param2])\n",
    "        print(f\"{param1}, {param2}: {corr, p}\")\n",
    "        "
   ]
  },
  {
   "cell_type": "code",
   "execution_count": null,
   "metadata": {},
   "outputs": [],
   "source": [
    "#prettier version. \n",
    "corrs = np.zeros((len(params), len(params)))\n",
    "for i,param1 in enumerate(params): \n",
    "    for j,param2 in enumerate(params):\n",
    "        corr, p = spearmanr(cat[param1], cat[param2])\n",
    "        corrs[i,j] = corr\n"
   ]
  },
  {
   "cell_type": "code",
   "execution_count": null,
   "metadata": {},
   "outputs": [],
   "source": [
    "fig, ax = plt.subplots(1,1,figsize=(8,8))\n",
    "mask =  np.tri(corrs.shape[0], k=-1)\n",
    "A = np.ma.array(corrs, mask=mask)\n",
    "im = ax.matshow(A,cmap='bwr',vmin=-1, vmax=1)\n",
    "plt.colorbar(im, ax = ax)\n",
    "ax.set_xticklabels(['']+params);\n",
    "ax.set_yticklabels(['']+params);"
   ]
  },
  {
   "cell_type": "markdown",
   "metadata": {},
   "source": [
    "# Correlation between Mvir vs. Xoff , rho_rms"
   ]
  },
  {
   "cell_type": "markdown",
   "metadata": {},
   "source": [
    "Draw contour plots to illustrate the correlation between `Xoff` and `rho_rms` with respect to Mvir"
   ]
  },
  {
   "cell_type": "markdown",
   "metadata": {},
   "source": [
    "## mass and rho_rms"
   ]
  },
  {
   "cell_type": "code",
   "execution_count": null,
   "metadata": {},
   "outputs": [],
   "source": [
    "# plt.scatter(cat['mvir'], cat['rho_rms'])\n",
    "# plt.xscale('log')\n",
    "# plt.yscale('log')"
   ]
  },
  {
   "cell_type": "markdown",
   "metadata": {},
   "source": [
    "## mass and xoff "
   ]
  },
  {
   "cell_type": "markdown",
   "metadata": {},
   "source": [
    "**Question**: How to resolve this ambiguity? "
   ]
  },
  {
   "cell_type": "code",
   "execution_count": null,
   "metadata": {},
   "outputs": [],
   "source": [
    "#all masses in catalogue\n",
    "plt.scatter(cat['mvir'], cat['Xoff'], alpha=0.1)\n",
    "plt.xscale('log')\n",
    "plt.yscale('log')\n",
    "print(\"correlation:\", spearmanr(cat['mvir'], cat['Xoff'])[0])"
   ]
  },
  {
   "cell_type": "markdown",
   "metadata": {},
   "source": [
    "We also plot **contours**: "
   ]
  },
  {
   "cell_type": "code",
   "execution_count": null,
   "metadata": {},
   "outputs": [],
   "source": [
    "from astroML.plotting import scatter_contour"
   ]
  },
  {
   "cell_type": "code",
   "execution_count": null,
   "metadata": {},
   "outputs": [],
   "source": [
    "scatter_contour(cat['mvir'], cat['Xoff'], filled_contour=True, threshold=100, levels=5)"
   ]
  },
  {
   "cell_type": "markdown",
   "metadata": {},
   "source": [
    "# Histograms of the variables"
   ]
  },
  {
   "cell_type": "markdown",
   "metadata": {},
   "source": [
    "## halo masses "
   ]
  },
  {
   "cell_type": "markdown",
   "metadata": {},
   "source": [
    "Divide into relaxed/unrelaxed and different Mpc box (90, 180) "
   ]
  },
  {
   "cell_type": "code",
   "execution_count": null,
   "metadata": {},
   "outputs": [],
   "source": [
    "plt.hist(np.log10(cat['mvir']), bins=20, histtype='step');"
   ]
  },
  {
   "cell_type": "markdown",
   "metadata": {},
   "source": [
    "The figure in the paper uses a 90Mpc box and only halos with more than 100 particles and log(mvir)~12"
   ]
  },
  {
   "cell_type": "code",
   "execution_count": null,
   "metadata": {},
   "outputs": [],
   "source": [
    "params = ['cvir', 'Spin', 'q', 'phi_l', 'Xoff', 'T/|U|'\n",
    "         ]"
   ]
  },
  {
   "cell_type": "code",
   "execution_count": null,
   "metadata": {},
   "outputs": [],
   "source": [
    "fig, axs = plt.subplots(3, 2, figsize=(8,10))\n",
    "cat12 = cat[ (11.5< np.log10(cat['mvir'])) & (np.log10(cat['mvir'])< 12.5) & (cat['q']!=0)]\n",
    "print('mean, median, and std of:')\n",
    "for param, ax in zip(params, axs.flatten()): \n",
    "    x = np.log10(cat12[param]) \n",
    "    px = (x - np.mean(x))/ np.std(x)\n",
    "    ax.set_title(param)\n",
    "    ax.hist(px)\n",
    "    print(f'{param}:', np.mean(x), np.median(x), np.std(x))\n"
   ]
  },
  {
   "cell_type": "markdown",
   "metadata": {},
   "source": [
    "# PCA \n"
   ]
  },
  {
   "cell_type": "markdown",
   "metadata": {},
   "source": [
    "## mass threshold"
   ]
  },
  {
   "cell_type": "code",
   "execution_count": null,
   "metadata": {},
   "outputs": [],
   "source": [
    "from sklearn.decomposition import PCA"
   ]
  },
  {
   "cell_type": "code",
   "execution_count": null,
   "metadata": {},
   "outputs": [],
   "source": [
    "params = ['mvir', 'cvir','Spin', 'q','phi_l', 'Xoff', 'T/|U|'\n",
    "         ]"
   ]
  },
  {
   "cell_type": "code",
   "execution_count": null,
   "metadata": {},
   "outputs": [],
   "source": [
    "pca = PCA(n_components=4)"
   ]
  },
  {
   "cell_type": "code",
   "execution_count": null,
   "metadata": {},
   "outputs": [],
   "source": [
    "def remove_outliers(x, p=0.95): \n",
    "    return x[x < ]"
   ]
  },
  {
   "cell_type": "code",
   "execution_count": null,
   "metadata": {},
   "outputs": [],
   "source": [
    "#normalize and take log.\n",
    "#cuts on mass >= 12 once we get z= 0 catalogue and different fixed mass regimes too.  \n",
    "# remove extreme outliers too. \n",
    "cat12 = cat[(cat['q']!=0) &(cat['Spin']!=0)]\n",
    "X = np.zeros((len(params), len(cat12['mvir'])))\n",
    "for i, param in enumerate(params): \n",
    "    x = np.log10(cat12[param])\n",
    "    px = (x - np.mean(x))/ np.std(x)\n",
    "    px \n",
    "    X[i] = px \n",
    "    "
   ]
  },
  {
   "cell_type": "code",
   "execution_count": null,
   "metadata": {},
   "outputs": [],
   "source": [
    "X.shape"
   ]
  },
  {
   "cell_type": "code",
   "execution_count": null,
   "metadata": {},
   "outputs": [],
   "source": [
    "pca.fit(X.T)"
   ]
  },
  {
   "cell_type": "code",
   "execution_count": null,
   "metadata": {},
   "outputs": [],
   "source": [
    "np.set_printoptions(threshold=50)\n",
    "print(params)\n",
    "print(pca.singular_values_)\n",
    "print(pca.explained_variance_ratio_)  \n",
    "print(pca.components_)"
   ]
  },
  {
   "cell_type": "code",
   "execution_count": null,
   "metadata": {},
   "outputs": [],
   "source": [
    "pca.components_[0]**2"
   ]
  },
  {
   "cell_type": "code",
   "execution_count": null,
   "metadata": {},
   "outputs": [],
   "source": [
    "0.5**2 + 0.5**2 + 0.5**2"
   ]
  },
  {
   "cell_type": "markdown",
   "metadata": {},
   "source": [
    "## fixed mass"
   ]
  },
  {
   "cell_type": "code",
   "execution_count": null,
   "metadata": {},
   "outputs": [],
   "source": [
    "# paper uses 12, 13.3, 13.6 "
   ]
  }
 ],
 "metadata": {
  "kernelspec": {
   "display_name": "Python 3",
   "language": "python",
   "name": "python3"
  },
  "language_info": {
   "codemirror_mode": {
    "name": "ipython",
    "version": 3
   },
   "file_extension": ".py",
   "mimetype": "text/x-python",
   "name": "python",
   "nbconvert_exporter": "python",
   "pygments_lexer": "ipython3",
   "version": "3.7.3"
  },
  "latex_envs": {
   "LaTeX_envs_menu_present": true,
   "autoclose": false,
   "autocomplete": true,
   "bibliofile": "biblio.bib",
   "cite_by": "apalike",
   "current_citInitial": 1,
   "eqLabelWithNumbers": true,
   "eqNumInitial": 1,
   "hotkeys": {
    "equation": "meta-shift-y"
   },
   "labels_anchors": false,
   "latex_user_defs": false,
   "report_style_numbering": false,
   "user_envs_cfg": false
  },
  "toc": {
   "base_numbering": 1,
   "nav_menu": {},
   "number_sections": true,
   "sideBar": true,
   "skip_h1_title": false,
   "title_cell": "Table of Contents",
   "title_sidebar": "Contents",
   "toc_cell": false,
   "toc_position": {},
   "toc_section_display": true,
   "toc_window_display": true
  }
 },
 "nbformat": 4,
 "nbformat_minor": 2
}
