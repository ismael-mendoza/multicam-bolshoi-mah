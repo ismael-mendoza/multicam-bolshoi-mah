{
 "cells": [
  {
   "cell_type": "code",
   "execution_count": null,
   "metadata": {},
   "outputs": [],
   "source": [
    "import astropy"
   ]
  },
  {
   "cell_type": "code",
   "execution_count": null,
   "metadata": {},
   "outputs": [],
   "source": [
    "%load_ext autoreload\n",
    "%autoreload 2\n",
    "%aimport\n",
    "# %reload_ext autoreload\n",
    "\n",
    "import sys \n",
    "from os.path import abspath\n",
    "paths = [abspath('../..'), \"/home/imendoza/alcca/nbody-relaxed/packages/minnow\"]\n",
    "\n",
    "for path in paths: \n",
    "    if path not in sys.path: \n",
    "        sys.path.insert(0, path)\n",
    "\n",
    "from pathlib import Path\n",
    "import numpy as np\n",
    "import matplotlib.pyplot as plt \n",
    "import re \n",
    "from astropy.table import Table\n",
    "import astropy.table\n",
    "\n",
    "from relaxed import utils \n",
    "from relaxed.frames import params, catalogs\n",
    "from relaxed.progenitors import progenitors"
   ]
  },
  {
   "cell_type": "code",
   "execution_count": null,
   "metadata": {},
   "outputs": [],
   "source": [
    "prog_file = '/home/imendoza/alcca/nbody-relaxed/data/trees_bolshoi/progenitors.txt'\n",
    "prog_generator = progenitors.get_prog_lines_generator(prog_file)\n",
    "# there are like 382474 main lines (in the filtered version)"
   ]
  },
  {
   "cell_type": "code",
   "execution_count": null,
   "metadata": {},
   "outputs": [],
   "source": [
    "# produced by --summary option from a /bin file \n",
    "prog_table_file = '/home/imendoza/alcca/nbody-relaxed/data/trees_bolshoi/progenitors.csv'\n",
    "pcat = Table.read(prog_table_file)"
   ]
  },
  {
   "cell_type": "code",
   "execution_count": null,
   "metadata": {},
   "outputs": [],
   "source": [
    "#load catalog we know and love (kindof)\n",
    "cat_filepath = Path('/home/imendoza/alcca/nbody-relaxed/data/Bolshoi/minh/hlist_1.00035.minh')\n",
    "name = 'BolshoiP'\n",
    "hcat = catalogs.HaloCatalog(cat_filepath, name, verbose=True, extract_sub=False)\n",
    "hcat.load_base_cat()\n",
    "cat = hcat._cat"
   ]
  },
  {
   "cell_type": "markdown",
   "metadata": {},
   "source": [
    "# check ids make sense "
   ]
  },
  {
   "cell_type": "code",
   "execution_count": null,
   "metadata": {},
   "outputs": [],
   "source": [
    "print(len(cat['id']))\n",
    "print(len(pcat['id']))\n",
    "print(len(set(cat['id']).intersection(set(pcat['id']))))\n",
    "\n",
    "# so cat is almost perfectly a subset of pcat. "
   ]
  },
  {
   "cell_type": "code",
   "execution_count": null,
   "metadata": {},
   "outputs": [],
   "source": [
    "# now attempt to use intersection function to make pcat a subset of cat ids \n",
    "new_pcat = catalogs.intersection(pcat, cat)\n",
    "new_cat = catalogs.intersection(cat, pcat)\n",
    "\n",
    "print(len(new_cat))\n",
    "print(len(new_pcat))\n",
    "print(len(set(new_cat['id']).intersection(set(new_pcat['id']))))\n",
    "\n",
    "#looks good :) "
   ]
  },
  {
   "cell_type": "code",
   "execution_count": null,
   "metadata": {},
   "outputs": [],
   "source": [
    "# merge cats. \n",
    "cat = astropy.table.join(new_cat,new_pcat,keys='id')"
   ]
  },
  {
   "cell_type": "markdown",
   "metadata": {},
   "source": [
    "## new interface"
   ]
  },
  {
   "cell_type": "code",
   "execution_count": null,
   "metadata": {},
   "outputs": [],
   "source": [
    "#load catalog we know and love (kindof)\n",
    "# produced by --summary option from a /bin file \n",
    "prog_table_file = '/home/imendoza/alcca/nbody-relaxed/data/trees_bolshoi/progenitors.csv'\n",
    "cat_filepath = Path('/home/imendoza/alcca/nbody-relaxed/data/Bolshoi/'\n",
    "                    'minh/hlist_1.00035.minh')\n",
    "name = 'BolshoiP'\n",
    "hcat = catalogs.HaloCatalog(cat_filepath, name, verbose=True, add_subhalo=True, add_progenitor=prog_table_file)\n",
    "hcat.load_base_cat()\n",
    "cat = hcat._cat"
   ]
  },
  {
   "cell_type": "code",
   "execution_count": null,
   "metadata": {},
   "outputs": [],
   "source": [
    "from scipy.stats import spearmanr"
   ]
  },
  {
   "cell_type": "code",
   "execution_count": null,
   "metadata": {},
   "outputs": [],
   "source": [
    "_cat = cat[(11 < np.log10(cat['mvir'])) & (np.log10(cat['mvir']) < 12)]\n",
    "spearmanr(_cat['a2'], np.log10(_cat['mvir']))"
   ]
  },
  {
   "cell_type": "code",
   "execution_count": null,
   "metadata": {},
   "outputs": [],
   "source": [
    "np.log10(min(_cat['mvir']))"
   ]
  },
  {
   "cell_type": "code",
   "execution_count": null,
   "metadata": {},
   "outputs": [],
   "source": []
  }
 ],
 "metadata": {
  "kernelspec": {
   "display_name": "Python 3",
   "language": "python",
   "name": "python3"
  },
  "language_info": {
   "codemirror_mode": {
    "name": "ipython",
    "version": 3
   },
   "file_extension": ".py",
   "mimetype": "text/x-python",
   "name": "python",
   "nbconvert_exporter": "python",
   "pygments_lexer": "ipython3",
   "version": "3.7.3"
  }
 },
 "nbformat": 4,
 "nbformat_minor": 4
}
