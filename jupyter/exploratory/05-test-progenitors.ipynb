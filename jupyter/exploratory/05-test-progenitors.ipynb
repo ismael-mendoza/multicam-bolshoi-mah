{
 "cells": [
  {
   "cell_type": "code",
   "execution_count": null,
   "metadata": {},
   "outputs": [],
   "source": [
    "%load_ext autoreload\n",
    "%autoreload 2\n",
    "%aimport\n",
    "# %reload_ext autoreload\n",
    "\n",
    "import sys \n",
    "from os.path import abspath\n",
    "path = abspath('..')\n",
    "\n",
    "if path not in sys.path: \n",
    "    sys.path.insert(0, path)\n",
    "path\n",
    "\n",
    "import numpy as np\n",
    "import matplotlib.pyplot as plt \n",
    "import re \n",
    "\n",
    "from relaxed import utils \n",
    "from relaxed.frames import params\n",
    "from relaxed.progenitors import progenitors\n",
    "\n"
   ]
  },
  {
   "cell_type": "markdown",
   "metadata": {},
   "source": [
    "# Try to extract"
   ]
  },
  {
   "cell_type": "code",
   "execution_count": null,
   "metadata": {},
   "outputs": [],
   "source": [
    "prog_file = '/home/imendoza/alcca/nbody-relaxed/data/trees_bolshoi/progenitors.txt'"
   ]
  },
  {
   "cell_type": "code",
   "execution_count": null,
   "metadata": {},
   "outputs": [],
   "source": [
    "prog_generator = progenitors.get_prog_lines_generator(prog_file)\n",
    "# there are like 382474 main lines (in the filtered version)"
   ]
  },
  {
   "cell_type": "code",
   "execution_count": null,
   "metadata": {},
   "outputs": [],
   "source": [
    "count = 0\n",
    "for prog in prog_generator: \n",
    "    count+=1\n",
    "    if count %10000 == 0: \n",
    "        print(count)\n",
    "print(count)"
   ]
  },
  {
   "cell_type": "markdown",
   "metadata": {},
   "source": [
    "# Sanity check coprogenitors"
   ]
  },
  {
   "cell_type": "code",
   "execution_count": null,
   "metadata": {},
   "outputs": [],
   "source": [
    "# The largest haloes should have coprogenitors"
   ]
  },
  {
   "cell_type": "code",
   "execution_count": null,
   "metadata": {},
   "outputs": [],
   "source": [
    "prog_generator = progenitors.get_prog_lines_generator(prog_file)"
   ]
  },
  {
   "cell_type": "code",
   "execution_count": null,
   "metadata": {},
   "outputs": [],
   "source": [
    "mvirs = [] \n",
    "coprog_bool = []\n",
    "for i, prog in enumerate(prog_generator):\n",
    "    mvirs.append(prog.cat['mvir'][0])\n",
    "    coprog_bool.append( (prog.cat['coprog_ids']>0).any())\n",
    "    \n",
    "    if i % 10000 == 0: \n",
    "        print(i)"
   ]
  },
  {
   "cell_type": "code",
   "execution_count": null,
   "metadata": {},
   "outputs": [],
   "source": [
    "# what are the masses of these haloes. \n",
    "plt.hist(np.log10(mvirs), color='b')\n",
    "plt.hist(np.log10(np.array(mvirs)[coprog_bool]), color='r')\n",
    "\n",
    "# so many low mass haloes \n",
    "print(np.sum(np.log10(mvirs) > 11.130333768495007))\n",
    "\n",
    "# note: 3684* 5 * 5 * 5 \\approx what we have for total haloes. "
   ]
  },
  {
   "cell_type": "raw",
   "metadata": {},
   "source": [
    "print(prog.cat['mvir'][0])\n",
    "prog.cat[prog.cat['scale']==0.62235]"
   ]
  },
  {
   "cell_type": "code",
   "execution_count": null,
   "metadata": {},
   "outputs": [],
   "source": [
    "8995999744.0/4769999872.0"
   ]
  },
  {
   "cell_type": "code",
   "execution_count": null,
   "metadata": {},
   "outputs": [],
   "source": [
    "8995999744.0/863000000.0"
   ]
  },
  {
   "cell_type": "code",
   "execution_count": null,
   "metadata": {},
   "outputs": [],
   "source": [
    "prog.get_a2()"
   ]
  },
  {
   "cell_type": "markdown",
   "metadata": {},
   "source": [
    "# Do an exponential fit "
   ]
  },
  {
   "cell_type": "code",
   "execution_count": null,
   "metadata": {},
   "outputs": [],
   "source": [
    "from scipy.optimize import curve_fit\n",
    "\n",
    "def func(x, alpha, b, c):\n",
    "    return b * np.log10(alpha * x) + c"
   ]
  },
  {
   "cell_type": "code",
   "execution_count": null,
   "metadata": {},
   "outputs": [],
   "source": [
    "prog_generator = progenitors.get_prog_lines_generator(prog_file)\n",
    "# there are like 382474 main lines (in the filtered version)\n",
    "prog = next(prog_generator)"
   ]
  },
  {
   "cell_type": "code",
   "execution_count": null,
   "metadata": {},
   "outputs": [],
   "source": [
    "# should look log-like. \n",
    "plt.plot(prog.cat['scale'], np.log10(prog.cat['mvir']))\n",
    "\n",
    "plt.plot(prog.cat['scale'], func(prog.cat['scale'], 1, 1, 12))"
   ]
  },
  {
   "cell_type": "code",
   "execution_count": null,
   "metadata": {},
   "outputs": [],
   "source": [
    "opt_params, _ = curve_fit(func, prog.cat['scale'], np.log10(prog.cat['mvir']), p0=(0.5, 1, 12))"
   ]
  },
  {
   "cell_type": "code",
   "execution_count": null,
   "metadata": {},
   "outputs": [],
   "source": [
    "# now using opt-params. \n",
    "plt.plot(prog.cat['scale'], np.log10(prog.cat['mvir']))\n",
    "\n",
    "plt.plot(prog.cat['scale'], func(prog.cat['scale'], *opt_params))"
   ]
  },
  {
   "cell_type": "code",
   "execution_count": null,
   "metadata": {},
   "outputs": [],
   "source": [
    "opt_params"
   ]
  },
  {
   "cell_type": "markdown",
   "metadata": {},
   "source": [
    "# Read the table produced and add to catalog "
   ]
  },
  {
   "cell_type": "code",
   "execution_count": null,
   "metadata": {},
   "outputs": [],
   "source": [
    "from astropy.table import Table\n",
    "from pathlib import Path \n",
    "\n",
    "from relaxed.frames import catalogs "
   ]
  },
  {
   "cell_type": "code",
   "execution_count": null,
   "metadata": {},
   "outputs": [],
   "source": [
    "prog_table_file = '/home/imendoza/alcca/nbody-relaxed/data/trees_bolshoi/progenitors.csv'\n",
    "table = Table.read(prog_table_file)"
   ]
  },
  {
   "cell_type": "code",
   "execution_count": null,
   "metadata": {},
   "outputs": [],
   "source": [
    "#load catalog we know and love (kindof)\n",
    "cat_filepath = Path('/home/imendoza/alcca/nbody-relaxed/data/phils_catalogues/'\n",
    "                    'halo_catalogues/Bolshoi/BolshoiP/minh/hlist_1.00000.minh')\n",
    "name = 'BolshoiP'\n",
    "hcat = catalogs.HaloCatalog(cat_filepath, name, verbose=True, extract_sub=False)\n",
    "hcat.load_base_cat()"
   ]
  },
  {
   "cell_type": "code",
   "execution_count": null,
   "metadata": {},
   "outputs": [],
   "source": [
    "cat = hcat._cat"
   ]
  },
  {
   "cell_type": "code",
   "execution_count": null,
   "metadata": {},
   "outputs": [],
   "source": [
    "cat = cat[cat.argsort('id')]\n",
    "table = table[table.argsort('id')]\n",
    "\n",
    "cat_ids = cat['id']\n",
    "table_ids = table['id']\n"
   ]
  },
  {
   "cell_type": "code",
   "execution_count": null,
   "metadata": {},
   "outputs": [],
   "source": [
    "sub_ok = sub_index < len(self.host_ids)\n",
    "sub_ok[sub_ok] &= self.host_ids[sub_index[sub_ok]] == sub_pids[sub_ok]\n",
    "\n",
    "out = np.ones(len(sub_index), dtype=int) * -1\n",
    "out[sub_ok] = self.host_index[sub_index[sub_ok]]"
   ]
  },
  {
   "cell_type": "code",
   "execution_count": null,
   "metadata": {},
   "outputs": [],
   "source": [
    "cat_index = np.searchsorted(table_ids, cat_ids)\n",
    "cat_index"
   ]
  },
  {
   "cell_type": "code",
   "execution_count": null,
   "metadata": {},
   "outputs": [],
   "source": [
    "#extract indices in table that appear in cat. \n",
    "\n",
    "sub_index = np.searchsorted(table_ids, cat_ids)\n",
    "\n",
    "cat_ok = cat_ids['id'] < max(table_ids)\n",
    "cat_ok = "
   ]
  },
  {
   "cell_type": "code",
   "execution_count": null,
   "metadata": {},
   "outputs": [],
   "source": []
  }
 ],
 "metadata": {
  "kernelspec": {
   "display_name": "Python 3",
   "language": "python",
   "name": "python3"
  },
  "language_info": {
   "codemirror_mode": {
    "name": "ipython",
    "version": 3
   },
   "file_extension": ".py",
   "mimetype": "text/x-python",
   "name": "python",
   "nbconvert_exporter": "python",
   "pygments_lexer": "ipython3",
   "version": "3.7.3"
  }
 },
 "nbformat": 4,
 "nbformat_minor": 4
}
