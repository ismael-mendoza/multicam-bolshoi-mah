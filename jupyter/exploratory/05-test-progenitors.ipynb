{
 "cells": [
  {
   "cell_type": "code",
   "execution_count": 4,
   "metadata": {},
   "outputs": [],
   "source": [
    "%load_ext autoreload\n",
    "%autoreload 2\n",
    "%aimport\n",
    "# %reload_ext autoreload\n",
    "\n",
    "import sys \n",
    "from os.path import abspath\n",
    "path = abspath('..')\n",
    "\n",
    "if path not in sys.path: \n",
    "    sys.path.insert(0, path)\n",
    "path\n",
    "\n",
    "import numpy as np\n",
    "import matplotlib.pyplot as plt \n",
    "import re \n",
    "\n",
    "from relaxed import utils \n",
    "from relaxed.frames import params\n",
    "from relaxed.progenitors import progenitors\n",
    "\n"
   ]
  },
  {
   "cell_type": "markdown",
   "metadata": {},
   "source": [
    "# Try to extract"
   ]
  },
  {
   "cell_type": "code",
   "execution_count": 5,
   "metadata": {},
   "outputs": [],
   "source": [
    "prog_file = '/home/imendoza/alcca/nbody-relaxed/data/trees_bolshoi/progenitors.txt'"
   ]
  },
  {
   "cell_type": "code",
   "execution_count": 25,
   "metadata": {},
   "outputs": [],
   "source": [
    "prog_generator = progenitors.get_prog_lines_generator(prog_file)\n",
    "# there are like 382474 main lines (in the filtered version)"
   ]
  },
  {
   "cell_type": "code",
   "execution_count": 7,
   "metadata": {},
   "outputs": [
    {
     "name": "stdout",
     "output_type": "stream",
     "text": [
      "10000\n",
      "20000\n",
      "30000\n",
      "40000\n",
      "50000\n",
      "60000\n",
      "70000\n",
      "80000\n",
      "90000\n",
      "100000\n",
      "110000\n",
      "120000\n",
      "130000\n",
      "140000\n",
      "150000\n",
      "160000\n",
      "170000\n",
      "180000\n",
      "190000\n",
      "200000\n",
      "210000\n",
      "220000\n",
      "230000\n",
      "240000\n",
      "250000\n",
      "260000\n",
      "270000\n",
      "280000\n",
      "290000\n",
      "300000\n",
      "310000\n",
      "320000\n",
      "330000\n",
      "340000\n",
      "350000\n",
      "360000\n",
      "370000\n",
      "380000\n",
      "382474\n"
     ]
    }
   ],
   "source": [
    "count = 0\n",
    "for prog in prog_generator: \n",
    "    count+=1\n",
    "    if count %10000 == 0: \n",
    "        print(count)\n",
    "print(count)"
   ]
  },
  {
   "cell_type": "markdown",
   "metadata": {},
   "source": [
    "# Sanity check coprogenitors"
   ]
  },
  {
   "cell_type": "code",
   "execution_count": null,
   "metadata": {},
   "outputs": [],
   "source": [
    "# The largest haloes should have coprogenitors"
   ]
  },
  {
   "cell_type": "code",
   "execution_count": 143,
   "metadata": {},
   "outputs": [],
   "source": [
    "prog_generator = progenitors.get_prog_lines_generator(prog_file)"
   ]
  },
  {
   "cell_type": "code",
   "execution_count": 144,
   "metadata": {},
   "outputs": [
    {
     "name": "stdout",
     "output_type": "stream",
     "text": [
      "0\n",
      "10000\n",
      "20000\n",
      "30000\n",
      "40000\n",
      "50000\n",
      "60000\n",
      "70000\n",
      "80000\n",
      "90000\n",
      "100000\n",
      "110000\n",
      "120000\n"
     ]
    }
   ],
   "source": [
    "mvirs = [] \n",
    "coprog_bool = []\n",
    "for i, prog in enumerate(prog_generator):\n",
    "    mvirs.append(prog.cat['mvir'][0])\n",
    "    coprog_bool.append( (prog.cat['coprog_ids']>0).any())\n",
    "    \n",
    "    if i % 10000 == 0: \n",
    "        print(i)"
   ]
  },
  {
   "cell_type": "code",
   "execution_count": 145,
   "metadata": {},
   "outputs": [
    {
     "name": "stdout",
     "output_type": "stream",
     "text": [
      "3684\n"
     ]
    },
    {
     "data": {
      "image/png": "[encoded data removed]",
      "text/plain": [
       "<Figure size 432x288 with 1 Axes>"
      ]
     },
     "metadata": {
      "needs_background": "light"
     },
     "output_type": "display_data"
    }
   ],
   "source": [
    "# what are the masses of these haloes. \n",
    "plt.hist(np.log10(mvirs), color='b')\n",
    "plt.hist(np.log10(np.array(mvirs)[coprog_bool]), color='r')\n",
    "\n",
    "# so many low mass haloes \n",
    "print(np.sum(np.log10(mvirs) > 11.130333768495007))\n",
    "\n",
    "# note: 3684* 5 * 5 * 5 \\approx what we have for total haloes. "
   ]
  },
  {
   "cell_type": "raw",
   "metadata": {},
   "source": [
    "print(prog.cat['mvir'][0])\n",
    "prog.cat[prog.cat['scale']==0.62235]"
   ]
  },
  {
   "cell_type": "code",
   "execution_count": 98,
   "metadata": {},
   "outputs": [
    {
     "data": {
      "text/plain": [
       "1.8859538753463514"
      ]
     },
     "execution_count": 98,
     "metadata": {},
     "output_type": "execute_result"
    }
   ],
   "source": [
    "8995999744.0/4769999872.0"
   ]
  },
  {
   "cell_type": "code",
   "execution_count": 94,
   "metadata": {},
   "outputs": [
    {
     "data": {
      "text/plain": [
       "10.424101673232908"
      ]
     },
     "execution_count": 94,
     "metadata": {},
     "output_type": "execute_result"
    }
   ],
   "source": [
    "8995999744.0/863000000.0"
   ]
  },
  {
   "cell_type": "code",
   "execution_count": 96,
   "metadata": {},
   "outputs": [
    {
     "data": {
      "text/plain": [
       "0.62235"
      ]
     },
     "execution_count": 96,
     "metadata": {},
     "output_type": "execute_result"
    }
   ],
   "source": [
    "prog.get_a2()"
   ]
  },
  {
   "cell_type": "markdown",
   "metadata": {},
   "source": [
    "# Do an exponential fit "
   ]
  },
  {
   "cell_type": "code",
   "execution_count": 84,
   "metadata": {},
   "outputs": [],
   "source": [
    "from scipy.optimize import curve_fit\n",
    "\n",
    "def func(x, alpha, b, c):\n",
    "    return b * np.log10(alpha * x) + c"
   ]
  },
  {
   "cell_type": "code",
   "execution_count": 85,
   "metadata": {},
   "outputs": [],
   "source": [
    "prog_generator = progenitors.get_prog_lines_generator(prog_file)\n",
    "# there are like 382474 main lines (in the filtered version)\n",
    "prog = next(prog_generator)"
   ]
  },
  {
   "cell_type": "code",
   "execution_count": 86,
   "metadata": {},
   "outputs": [
    {
     "data": {
      "text/plain": [
       "[<matplotlib.lines.Line2D at 0x2b880d7b5828>]"
      ]
     },
     "execution_count": 86,
     "metadata": {},
     "output_type": "execute_result"
    },
    {
     "data": {
      "image/png": "[encoded data removed]",
      "text/plain": [
       "<Figure size 432x288 with 1 Axes>"
      ]
     },
     "metadata": {
      "needs_background": "light"
     },
     "output_type": "display_data"
    }
   ],
   "source": [
    "# should look log-like. \n",
    "plt.plot(prog.cat['scale'], np.log10(prog.cat['mvir']))\n",
    "\n",
    "plt.plot(prog.cat['scale'], func(prog.cat['scale'], 1, 1, 12))"
   ]
  },
  {
   "cell_type": "code",
   "execution_count": 87,
   "metadata": {},
   "outputs": [],
   "source": [
    "opt_params, _ = curve_fit(func, prog.cat['scale'], np.log10(prog.cat['mvir']), p0=(0.5, 1, 12))"
   ]
  },
  {
   "cell_type": "code",
   "execution_count": 88,
   "metadata": {},
   "outputs": [
    {
     "data": {
      "text/plain": [
       "[<matplotlib.lines.Line2D at 0x2b880d80da58>]"
      ]
     },
     "execution_count": 88,
     "metadata": {},
     "output_type": "execute_result"
    },
    {
     "data": {
      "image/png": "[encoded data removed]",
      "text/plain": [
       "<Figure size 432x288 with 1 Axes>"
      ]
     },
     "metadata": {
      "needs_background": "light"
     },
     "output_type": "display_data"
    }
   ],
   "source": [
    "# now using opt-params. \n",
    "plt.plot(prog.cat['scale'], np.log10(prog.cat['mvir']))\n",
    "\n",
    "plt.plot(prog.cat['scale'], func(prog.cat['scale'], *opt_params))"
   ]
  },
  {
   "cell_type": "code",
   "execution_count": 89,
   "metadata": {},
   "outputs": [
    {
     "data": {
      "text/plain": [
       "array([ 1.97680615,  2.01309293, 11.60432845])"
      ]
     },
     "execution_count": 89,
     "metadata": {},
     "output_type": "execute_result"
    }
   ],
   "source": [
    "opt_params"
   ]
  },
  {
   "cell_type": "markdown",
   "metadata": {},
   "source": [
    "# Read the table produced and add to catalog "
   ]
  },
  {
   "cell_type": "code",
   "execution_count": 18,
   "metadata": {},
   "outputs": [],
   "source": [
    "from astropy.table import Table\n",
    "from pathlib import Path \n",
    "\n",
    "from relaxed.frames import catalogs "
   ]
  },
  {
   "cell_type": "code",
   "execution_count": 19,
   "metadata": {},
   "outputs": [],
   "source": [
    "prog_table_file = '/home/imendoza/alcca/nbody-relaxed/data/trees_bolshoi/progenitors.csv'\n",
    "table = Table.read(prog_table_file)"
   ]
  },
  {
   "cell_type": "code",
   "execution_count": 22,
   "metadata": {},
   "outputs": [
    {
     "name": "stderr",
     "output_type": "stream",
     "text": [
      "/home/imendoza/alcca/nbody-relaxed/relaxed/frames/catalogs.py:149: UserWarning: Ignoring dividing by zero and invalid errors that should be filtered out anyways.\n",
      "  \"Ignoring dividing by zero and invalid errors that should \"\n"
     ]
    },
    {
     "name": "stdout",
     "output_type": "stream",
     "text": [
      "0\n"
     ]
    },
    {
     "name": "stderr",
     "output_type": "stream",
     "text": [
      "/home/imendoza/alcca/nbody-relaxed/relaxed/frames/catalogs.py:186: UserWarning: We only include parameters in `params.default_params_to_include`\n",
      "  warnings.warn(\"We only include parameters in `params.default_params_to_include`\")\n"
     ]
    }
   ],
   "source": [
    "#load catalog we know and love (kindof)\n",
    "cat_filepath = Path('/home/imendoza/alcca/nbody-relaxed/data/phils_catalogues/'\n",
    "                    'halo_catalogues/Bolshoi/BolshoiP/minh/hlist_1.00000.minh')\n",
    "name = 'BolshoiP'\n",
    "hcat = catalogs.HaloCatalog(cat_filepath, name, verbose=True, extract_sub=False)\n",
    "hcat.load_base_cat()"
   ]
  },
  {
   "cell_type": "code",
   "execution_count": 23,
   "metadata": {},
   "outputs": [],
   "source": [
    "cat = hcat._cat"
   ]
  },
  {
   "cell_type": "code",
   "execution_count": 29,
   "metadata": {},
   "outputs": [],
   "source": [
    "cat = cat[cat.argsort('id')]\n",
    "table = table[table.argsort('id')]\n",
    "\n",
    "cat_ids = cat['id']\n",
    "table_ids = table['id']\n"
   ]
  },
  {
   "cell_type": "code",
   "execution_count": null,
   "metadata": {},
   "outputs": [],
   "source": [
    "sub_ok = sub_index < len(self.host_ids)\n",
    "sub_ok[sub_ok] &= self.host_ids[sub_index[sub_ok]] == sub_pids[sub_ok]\n",
    "\n",
    "out = np.ones(len(sub_index), dtype=int) * -1\n",
    "out[sub_ok] = self.host_index[sub_index[sub_ok]]"
   ]
  },
  {
   "cell_type": "code",
   "execution_count": 31,
   "metadata": {},
   "outputs": [
    {
     "data": {
      "text/plain": [
       "array([0, 0, 0, ..., 0, 0, 0])"
      ]
     },
     "execution_count": 31,
     "metadata": {},
     "output_type": "execute_result"
    }
   ],
   "source": [
    "cat_index = np.searchsorted(table_ids, cat_ids)\n",
    "cat_index"
   ]
  },
  {
   "cell_type": "code",
   "execution_count": 25,
   "metadata": {},
   "outputs": [
    {
     "data": {
      "text/html": [
       "<i>Table length=349104</i>\n",
       "<table id=\"table47366451033816\" class=\"table-striped table-bordered table-condensed\">\n",
       "<thead><tr><th>id</th><th>mvir</th><th>rvir</th><th>rs</th><th>xoff</th><th>voff</th><th>vrms</th><th>gamma_tdyn</th><th>gamma_inst</th><th>t/|u|</th><th>spin</th><th>scale_of_last_mm</th><th>cvir</th><th>eta</th><th>q</th><th>phi_l</th><th>x0</th><th>v0</th><th>f_sub</th><th>upid</th></tr></thead>\n",
       "<thead><tr><th>int64</th><th>float32</th><th>float32</th><th>float32</th><th>float32</th><th>float32</th><th>float32</th><th>float32</th><th>float32</th><th>float32</th><th>float32</th><th>float32</th><th>float32</th><th>float32</th><th>float32</th><th>float32</th><th>float32</th><th>float32</th><th>int64</th><th>int64</th></tr></thead>\n",
       "<tr><td>2809249530</td><td>605600000000.0</td><td>171.988</td><td>12.556</td><td>3.01218</td><td>3.28</td><td>145.46</td><td>11.86</td><td>-20.14</td><td>0.5026</td><td>0.06796</td><td>0.7897</td><td>13.697675</td><td>1.0052</td><td>0.742085</td><td>1.695625</td><td>0.017513895</td><td>0.022549152</td><td>-1</td><td>-1</td></tr>\n",
       "<tr><td>2809249552</td><td>167500000000.0</td><td>112.061</td><td>5.351</td><td>5.30413</td><td>3.12</td><td>90.45</td><td>-114.8</td><td>-45.78</td><td>0.4498</td><td>0.04938</td><td>0.2531</td><td>20.942066</td><td>0.8996</td><td>0.797215</td><td>2.3522663</td><td>0.047332525</td><td>0.034494195</td><td>-1</td><td>-1</td></tr>\n",
       "<tr><td>2809249662</td><td>455600000000.0</td><td>156.421</td><td>3.647</td><td>1.57164</td><td>8.73</td><td>164.64</td><td>1.748</td><td>-22.89</td><td>0.5798</td><td>0.0323</td><td>0.9719</td><td>42.89032</td><td>1.1596</td><td>0.97353005</td><td>1.0574012</td><td>0.0100475</td><td>0.05302478</td><td>-1</td><td>-1</td></tr>\n",
       "<tr><td>2809249670</td><td>225200000000.0</td><td>123.671</td><td>5.023</td><td>2.52312</td><td>5.01</td><td>110.27</td><td>3.6</td><td>9.155</td><td>0.5096</td><td>0.04036</td><td>0.1822</td><td>24.620945</td><td>1.0192</td><td>0.83640003</td><td>1.3845235</td><td>0.020401873</td><td>0.04543394</td><td>-1</td><td>-1</td></tr>\n",
       "<tr><td>2809249768</td><td>1548000000000.0</td><td>235.171</td><td>17.784</td><td>23.909</td><td>11.58</td><td>216.61</td><td>-163.5</td><td>-347.9</td><td>0.62</td><td>0.05958</td><td>0.9036</td><td>13.223741</td><td>1.24</td><td>0.74376</td><td>1.3217182</td><td>0.10166644</td><td>0.053460136</td><td>-1</td><td>-1</td></tr>\n",
       "<tr><td>2809249770</td><td>502700000000.0</td><td>161.637</td><td>11.573</td><td>7.16488</td><td>17.29</td><td>143.66</td><td>-27.84</td><td>0.9155</td><td>0.5622</td><td>0.02313</td><td>0.2328</td><td>13.966732</td><td>1.1244</td><td>0.754785</td><td>1.1819297</td><td>0.04432698</td><td>0.12035362</td><td>-1</td><td>-1</td></tr>\n",
       "<tr><td>2809249815</td><td>164000000000.0</td><td>111.261</td><td>2.258</td><td>3.53559</td><td>2.33</td><td>112.27</td><td>-41.16</td><td>-21.06</td><td>0.5302</td><td>0.03618</td><td>0.896</td><td>49.27414</td><td>1.0604</td><td>0.81228</td><td>1.1695282</td><td>0.03177744</td><td>0.02075354</td><td>-1</td><td>-1</td></tr>\n",
       "<tr><td>2809249821</td><td>221000000000.0</td><td>122.901</td><td>1.721</td><td>1.97347</td><td>3.64</td><td>129.9</td><td>-18.0</td><td>-3.662</td><td>0.4994</td><td>0.01156</td><td>0.2277</td><td>71.41255</td><td>0.9988</td><td>0.842015</td><td>1.2960479</td><td>0.016057396</td><td>0.028021557</td><td>-1</td><td>-1</td></tr>\n",
       "<tr><td>2809249873</td><td>193500000000.0</td><td>117.589</td><td>5.884</td><td>3.65844</td><td>9.31</td><td>106.02</td><td>-7.384</td><td>-16.48</td><td>0.5376</td><td>0.04352</td><td>0.2733</td><td>19.984535</td><td>1.0752</td><td>0.827345</td><td>1.1903853</td><td>0.031112095</td><td>0.08781362</td><td>-1</td><td>-1</td></tr>\n",
       "<tr><td>2809249892</td><td>679200000000.0</td><td>178.692</td><td>12.207</td><td>2.11103</td><td>4.63</td><td>155.82</td><td>-15.2</td><td>-14.65</td><td>0.5246</td><td>0.03887</td><td>0.0894</td><td>14.638487</td><td>1.0492</td><td>0.906795</td><td>1.47154</td><td>0.0118137915</td><td>0.029713772</td><td>-1</td><td>-1</td></tr>\n",
       "<tr><td>...</td><td>...</td><td>...</td><td>...</td><td>...</td><td>...</td><td>...</td><td>...</td><td>...</td><td>...</td><td>...</td><td>...</td><td>...</td><td>...</td><td>...</td><td>...</td><td>...</td><td>...</td><td>...</td><td>...</td></tr>\n",
       "<tr><td>2821926434</td><td>164000000000.0</td><td>111.261</td><td>9.93</td><td>3.81185</td><td>5.95</td><td>92.48</td><td>5.219</td><td>-5.493</td><td>0.5252</td><td>0.06918</td><td>0.4454</td><td>11.204532</td><td>1.0504</td><td>0.79902995</td><td>1.9240841</td><td>0.034260433</td><td>0.06433823</td><td>-1</td><td>-1</td></tr>\n",
       "<tr><td>2821926442</td><td>155700000000.0</td><td>109.371</td><td>11.947</td><td>7.52682</td><td>10.5</td><td>89.51</td><td>2.678</td><td>2.747</td><td>0.5552</td><td>0.06116</td><td>0.3746</td><td>9.154684</td><td>1.1104</td><td>0.70356</td><td>1.7246413</td><td>0.06881916</td><td>0.11730532</td><td>-1</td><td>-1</td></tr>\n",
       "<tr><td>2821926443</td><td>179800000000.0</td><td>114.727</td><td>4.011</td><td>2.16241</td><td>6.07</td><td>107.25</td><td>3.645</td><td>-5.493</td><td>0.507</td><td>0.02608</td><td>0.1366</td><td>28.60309</td><td>1.014</td><td>0.714965</td><td>1.5981884</td><td>0.01884831</td><td>0.056596737</td><td>-1</td><td>-1</td></tr>\n",
       "<tr><td>2821926446</td><td>160700000000.0</td><td>110.52</td><td>11.458</td><td>11.0554</td><td>22.83</td><td>97.38</td><td>20.11</td><td>10.07</td><td>0.6218</td><td>0.07891</td><td>0.1197</td><td>9.645662</td><td>1.2436</td><td>0.502095</td><td>1.5880595</td><td>0.100030765</td><td>0.2344424</td><td>-1</td><td>-1</td></tr>\n",
       "<tr><td>2821926453</td><td>162200000000.0</td><td>110.874</td><td>5.469</td><td>5.55356</td><td>12.12</td><td>99.77</td><td>5.118</td><td>3.662</td><td>0.5716</td><td>0.01721</td><td>0.0961</td><td>20.273176</td><td>1.1432</td><td>0.786985</td><td>2.1722</td><td>0.050088927</td><td>0.12147941</td><td>-1</td><td>-1</td></tr>\n",
       "<tr><td>2821926462</td><td>155600000000.0</td><td>109.335</td><td>9.402</td><td>4.43059</td><td>9.25</td><td>92.14</td><td>3.447</td><td>-0.9155</td><td>0.5324</td><td>0.02382</td><td>0.2632</td><td>11.628908</td><td>1.0648</td><td>0.67322004</td><td>1.6993518</td><td>0.040523075</td><td>0.10039071</td><td>-1</td><td>-1</td></tr>\n",
       "<tr><td>2821926465</td><td>165200000000.0</td><td>111.541</td><td>9.925</td><td>4.21144</td><td>34.55</td><td>103.24</td><td>26.54</td><td>25.63</td><td>0.6552</td><td>0.06846</td><td>0.5366</td><td>11.238388</td><td>1.3104</td><td>0.69979</td><td>1.4283626</td><td>0.03775688</td><td>0.3346571</td><td>-1</td><td>-1</td></tr>\n",
       "<tr><td>2821926466</td><td>157400000000.0</td><td>109.769</td><td>6.736</td><td>2.38904</td><td>8.06</td><td>92.45</td><td>1.728</td><td>5.493</td><td>0.5034</td><td>0.08206</td><td>0.4758</td><td>16.295872</td><td>1.0068</td><td>0.883385</td><td>1.3489552</td><td>0.02176425</td><td>0.08718227</td><td>-1</td><td>-1</td></tr>\n",
       "<tr><td>2821926484</td><td>160100000000.0</td><td>110.378</td><td>4.922</td><td>6.80499</td><td>58.35</td><td>114.79</td><td>32.93</td><td>17.39</td><td>0.72</td><td>0.07388</td><td>0.9188</td><td>22.425436</td><td>1.44</td><td>0.509455</td><td>1.6563845</td><td>0.061651688</td><td>0.5083195</td><td>-1</td><td>-1</td></tr>\n",
       "<tr><td>2821926511</td><td>155700000000.0</td><td>109.371</td><td>7.262</td><td>3.35838</td><td>8.14</td><td>90.46</td><td>3.094</td><td>10.99</td><td>0.5084</td><td>0.01806</td><td>0.1164</td><td>15.060727</td><td>1.0168</td><td>0.797785</td><td>1.5190445</td><td>0.030706313</td><td>0.08998453</td><td>-1</td><td>-1</td></tr>\n",
       "</table>"
      ],
      "text/plain": [
       "<Table length=349104>\n",
       "    id           mvir        rvir     rs   ...      v0     f_sub  upid\n",
       "  int64        float32     float32 float32 ...   float32   int64 int64\n",
       "---------- --------------- ------- ------- ... ----------- ----- -----\n",
       "2809249530  605600000000.0 171.988  12.556 ... 0.022549152    -1    -1\n",
       "2809249552  167500000000.0 112.061   5.351 ... 0.034494195    -1    -1\n",
       "2809249662  455600000000.0 156.421   3.647 ...  0.05302478    -1    -1\n",
       "2809249670  225200000000.0 123.671   5.023 ...  0.04543394    -1    -1\n",
       "2809249768 1548000000000.0 235.171  17.784 ... 0.053460136    -1    -1\n",
       "2809249770  502700000000.0 161.637  11.573 ...  0.12035362    -1    -1\n",
       "2809249815  164000000000.0 111.261   2.258 ...  0.02075354    -1    -1\n",
       "2809249821  221000000000.0 122.901   1.721 ... 0.028021557    -1    -1\n",
       "2809249873  193500000000.0 117.589   5.884 ...  0.08781362    -1    -1\n",
       "2809249892  679200000000.0 178.692  12.207 ... 0.029713772    -1    -1\n",
       "       ...             ...     ...     ... ...         ...   ...   ...\n",
       "2821926434  164000000000.0 111.261    9.93 ...  0.06433823    -1    -1\n",
       "2821926442  155700000000.0 109.371  11.947 ...  0.11730532    -1    -1\n",
       "2821926443  179800000000.0 114.727   4.011 ... 0.056596737    -1    -1\n",
       "2821926446  160700000000.0  110.52  11.458 ...   0.2344424    -1    -1\n",
       "2821926453  162200000000.0 110.874   5.469 ...  0.12147941    -1    -1\n",
       "2821926462  155600000000.0 109.335   9.402 ...  0.10039071    -1    -1\n",
       "2821926465  165200000000.0 111.541   9.925 ...   0.3346571    -1    -1\n",
       "2821926466  157400000000.0 109.769   6.736 ...  0.08718227    -1    -1\n",
       "2821926484  160100000000.0 110.378   4.922 ...   0.5083195    -1    -1\n",
       "2821926511  155700000000.0 109.371   7.262 ...  0.08998453    -1    -1"
      ]
     },
     "execution_count": 25,
     "metadata": {},
     "output_type": "execute_result"
    }
   ],
   "source": [
    "#extract indices in table that appear in cat. \n",
    "\n",
    "sub_index = np.searchsorted(table_ids, cat_ids)\n",
    "\n",
    "cat_ok = cat_ids['id'] < max(table_ids)\n",
    "cat_ok = "
   ]
  },
  {
   "cell_type": "code",
   "execution_count": null,
   "metadata": {},
   "outputs": [],
   "source": []
  }
 ],
 "metadata": {
  "kernelspec": {
   "display_name": "Python 3",
   "language": "python",
   "name": "python3"
  },
  "language_info": {
   "codemirror_mode": {
    "name": "ipython",
    "version": 3
   },
   "file_extension": ".py",
   "mimetype": "text/x-python",
   "name": "python",
   "nbconvert_exporter": "python",
   "pygments_lexer": "ipython3",
   "version": "3.7.3"
  }
 },
 "nbformat": 4,
 "nbformat_minor": 4
}
