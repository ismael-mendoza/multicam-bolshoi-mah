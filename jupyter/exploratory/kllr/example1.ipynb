{
 "cells": [
  {
   "cell_type": "code",
   "execution_count": null,
   "metadata": {},
   "outputs": [],
   "source": [
    "# play with kllr code "
   ]
  },
  {
   "cell_type": "code",
   "execution_count": null,
   "metadata": {},
   "outputs": [],
   "source": [
    "%load_ext autoreload\n",
    "%autoreload 2\n",
    "%aimport\n",
    "# %reload_ext autoreload\n",
    "\n",
    "import sys \n",
    "from os.path import abspath\n",
    "path = abspath('../..')\n",
    "if path not in sys.path: \n",
    "    sys.path.insert(0, path)\n",
    "print(path)\n",
    "\n",
    "from pathlib import Path\n",
    "import numpy as np\n",
    "import matplotlib.pyplot as plt \n",
    "import pandas as pd"
   ]
  },
  {
   "cell_type": "code",
   "execution_count": null,
   "metadata": {},
   "outputs": [],
   "source": [
    "from astropy.table import Table, Column"
   ]
  },
  {
   "cell_type": "code",
   "execution_count": null,
   "metadata": {},
   "outputs": [],
   "source": [
    "from relaxed import utils \n",
    "from relaxed.frames import params, catalogs\n",
    "from relaxed.subhalos import subhalo\n",
    "\n",
    "from pminh import minh\n"
   ]
  },
  {
   "cell_type": "code",
   "execution_count": null,
   "metadata": {},
   "outputs": [],
   "source": [
    "from packages.kllr import kllr \n",
    "from packages.kllr.kllr import * "
   ]
  },
  {
   "cell_type": "code",
   "execution_count": null,
   "metadata": {},
   "outputs": [],
   "source": [
    "hcat_filepath = Path('/home/imendoza/alcca/nbody-relaxed/data/phils_catalogues/'\n",
    "                    'halo_catalogues/Bolshoi/BolshoiP/minh/hlist_1.00000.minh')\n",
    "name = 'BolshoiP'"
   ]
  },
  {
   "cell_type": "markdown",
   "metadata": {},
   "source": [
    "# Example w/ TNG"
   ]
  },
  {
   "cell_type": "markdown",
   "metadata": {},
   "source": [
    "## load data"
   ]
  },
  {
   "cell_type": "code",
   "execution_count": null,
   "metadata": {},
   "outputs": [],
   "source": [
    "df = pd.read_csv('./TNG300_Halos.csv')\n",
    "\n",
    "print(df.columns)\n",
    "\n",
    "df = df[df.M200 > 13.5]\n",
    "Colors = ['#FF7F0E', 'mediumseagreen', 'mediumpurple', 'steelblue']"
   ]
  },
  {
   "cell_type": "markdown",
   "metadata": {},
   "source": [
    "# simple regressions"
   ]
  },
  {
   "cell_type": "code",
   "execution_count": null,
   "metadata": {},
   "outputs": [],
   "source": [
    "# simple reAgression with gaussian kernel. \n",
    "#xlog just sets the x-axis scale to be log. \n",
    "data, ax = Plot_Fit(df, 'M200', 'MStar_BCG100', show_data=True, ax=None, xlog=True, kernel_width=0.4,\n",
    "                    ylog=False, labels=[r'$M200\\,\\,[M_\\odot]$', r'$M_{\\rm BCG, 100kpc}\\,\\,[M_\\odot]$'])\n",
    "plt.show()"
   ]
  },
  {
   "cell_type": "code",
   "execution_count": null,
   "metadata": {},
   "outputs": [],
   "source": [
    "# regressing MStar_BCG100 against M200\n",
    "# splitting on formation time.\n",
    "# xlog/ylog specifies if the quantities in x/y axis are log quantities.\n",
    "# split_bins: specifies how many bins it should use it split on equal size quantiles.\n",
    "data, ax = Plot_Fit_Split(df, 'M200', 'MStar_BCG100', 'z_form', show_data=True, xlog=True, ylog=False, split_bins=4,\n",
    "                          color = Colors, kernel_width=0.4,\n",
    "                          labels = [r'$M200\\,\\,[M_\\odot]$', r'$M_{\\rm BCG, 100kpc}\\,\\,[M_\\odot]$', r'$z_{\\rm form}$'])\n",
    "plt.show()\n"
   ]
  },
  {
   "cell_type": "code",
   "execution_count": null,
   "metadata": {},
   "outputs": [],
   "source": [
    "\n",
    "# regressing  MStar_BCG100 against z_form\n",
    "# splitting on halo mass\n",
    "# you can define the boundaries of your split variable instead of splitting them into equal quantiles.\n",
    "data, ax = Plot_Fit_Split(df, 'z_form', 'MStar_BCG100', 'M200', show_data=True, xlog=False, ylog=False, split_bins=[13.5, 14, 14.5, 15.5],\n",
    "                          kernel_width=0.4, color = ['indianred', 'orange', 'steelblue'],\n",
    "                          labels = [r'$z_{\\rm form}$', r'$M_{\\rm BCG, 100kpc}\\,\\,[M_\\odot]$', r'$\\log(M200\\,\\,[M_\\odot])$'])\n",
    "plt.show()"
   ]
  },
  {
   "cell_type": "markdown",
   "metadata": {},
   "source": [
    "## fit parameters"
   ]
  },
  {
   "cell_type": "code",
   "execution_count": null,
   "metadata": {},
   "outputs": [],
   "source": [
    "# hmm physical interpretation??? \n",
    "# sigma is described in 2018 paper before equation (2) \n",
    "Plot_Fit_Params(df, 'M200', 'MStar_BCG100', kernel_width=0.4, nBootstrap=200,\n",
    "                xlog = True, labels=[r'$M200\\,\\,[M_\\odot]$', r'$M_{\\rm BCG, 100kpc}$'])\n",
    "plt.show()"
   ]
  },
  {
   "cell_type": "code",
   "execution_count": null,
   "metadata": {},
   "outputs": [],
   "source": [
    "\n",
    "Plot_Fit_Params_Split(df, 'M200', 'MStar_BCG100', 'z_form', split_bins=3, kernel_width=0.4, xlog = True, nBootstrap=200,\n",
    "                      labels=[r'$M200\\,\\,[M_\\odot]$', r'$M_{\\rm BCG, 100kpc}$', r'$z_{\\rm form}$'])\n",
    "plt.show()\n"
   ]
  },
  {
   "cell_type": "markdown",
   "metadata": {},
   "source": [
    "## correlations "
   ]
  },
  {
   "cell_type": "code",
   "execution_count": null,
   "metadata": {},
   "outputs": [],
   "source": [
    "# plot the conditional correlation/covariance matrix of a set of parameters\n",
    "# Output_mode defined whether it should be the correlation or covariance matrix.\n",
    "ax = Plot_Cov_Corr_Matrix(df, 'M200', ['MGas', 'MGas_T', 'c200c'],  kernel_width=0.4, nBootstrap=200,\n",
    "                          labels=[r'$M_{200}\\,\\,[M_\\odot]$', r'$M_{\\rm gas}$', r'$T_X$', r'$c$'],\n",
    "                          Output_mode='corr')\n",
    "plt.show()"
   ]
  },
  {
   "cell_type": "code",
   "execution_count": null,
   "metadata": {},
   "outputs": [],
   "source": [
    "ax = Plot_Cov_Corr_Matrix(df, 'M200', ['MGas', 'MStar'], nBootstrap=50, kernel_width=0.4, Output_mode='corr')\n",
    "plt.show()"
   ]
  },
  {
   "cell_type": "markdown",
   "metadata": {},
   "source": [
    "## Residuals "
   ]
  },
  {
   "cell_type": "code",
   "execution_count": null,
   "metadata": {},
   "outputs": [],
   "source": [
    "# in case you want to study resoduals to make sure they follow the log-normal / normal model you assumed\n",
    "data, ax = Plot_Residual(df, 'M200', 'MGas', nBootstrap=200, kernel_width=0.4)\n",
    "plt.show()"
   ]
  },
  {
   "cell_type": "markdown",
   "metadata": {},
   "source": [
    "# Use my data "
   ]
  },
  {
   "cell_type": "markdown",
   "metadata": {},
   "source": [
    "## load data"
   ]
  },
  {
   "cell_type": "code",
   "execution_count": null,
   "metadata": {},
   "outputs": [],
   "source": []
  },
  {
   "cell_type": "markdown",
   "metadata": {},
   "source": [
    "## residuals to check if compatible"
   ]
  },
  {
   "cell_type": "code",
   "execution_count": null,
   "metadata": {},
   "outputs": [],
   "source": []
  },
  {
   "cell_type": "code",
   "execution_count": null,
   "metadata": {},
   "outputs": [],
   "source": []
  }
 ],
 "metadata": {
  "kernelspec": {
   "display_name": "Python 3",
   "language": "python",
   "name": "python3"
  },
  "language_info": {
   "codemirror_mode": {
    "name": "ipython",
    "version": 3
   },
   "file_extension": ".py",
   "mimetype": "text/x-python",
   "name": "python",
   "nbconvert_exporter": "python",
   "pygments_lexer": "ipython3",
   "version": "3.7.3"
  }
 },
 "nbformat": 4,
 "nbformat_minor": 4
}
