{
 "cells": [
  {
   "cell_type": "code",
   "execution_count": null,
   "metadata": {},
   "outputs": [],
   "source": [
    "%matplotlib inline"
   ]
  },
  {
   "cell_type": "code",
   "execution_count": null,
   "metadata": {},
   "outputs": [],
   "source": [
    "import numpy as np\n",
    "import astropy\n",
    "from astropy.table import Table \n",
    "from scipy.stats import spearmanr\n",
    "import matplotlib.pyplot as plt\n",
    "from importlib import reload\n",
    "\n",
    "import sys\n",
    "sys.path.insert(0,'/home/imendoza/alcca/nbody-relaxed/intro') #where my code is. "
   ]
  },
  {
   "cell_type": "code",
   "execution_count": null,
   "metadata": {},
   "outputs": [],
   "source": [
    "#my packages\n",
    "import plotting\n",
    "reload(plotting);\n",
    "\n",
    "from plotting import to_latex, scatter_binning, binning3d_mass\n"
   ]
  },
  {
   "cell_type": "code",
   "execution_count": null,
   "metadata": {},
   "outputs": [],
   "source": [
    "import warnings\n",
    "warnings.filterwarnings(\"ignore\")"
   ]
  },
  {
   "cell_type": "code",
   "execution_count": null,
   "metadata": {},
   "outputs": [],
   "source": [
    "plt.rc(\"text\", usetex=True)"
   ]
  },
  {
   "cell_type": "markdown",
   "metadata": {},
   "source": [
    "# preamble "
   ]
  },
  {
   "cell_type": "code",
   "execution_count": null,
   "metadata": {},
   "outputs": [],
   "source": [
    "#functions I need to define myself. \n",
    "cvir = lambda cat: cat['rvir'] / cat['rs']\n",
    "phi_l = lambda cat: np.arccos(\n",
    "    ((cat['A[x]']*cat['Jx'] + cat['A[y]']*cat['Jy'] + cat['A[z]']*cat['Jz'])\n",
    "     /\n",
    "    (np.sqrt(cat['A[x]']**2 + cat['A[y]']**2 + cat['A[z]']**2)*np.sqrt(cat['Jx']**2 + cat['Jy']**2 + cat['Jz']**2) )\n",
    "    )\n",
    ")\n",
    "q = lambda cat: (1/2)*(cat['b_to_a'] + cat['c_to_a']);"
   ]
  },
  {
   "cell_type": "code",
   "execution_count": null,
   "metadata": {},
   "outputs": [],
   "source": [
    "#information about catalogue (https://www.cosmosim.org/cms/simulations/bolshoi/)\n",
    "particle_mass = 1.35e8 #Msun\n",
    "total_particles = 2048**3 \n",
    "box_size = 250 #Mpc/h"
   ]
  },
  {
   "cell_type": "markdown",
   "metadata": {},
   "source": [
    "# read"
   ]
  },
  {
   "cell_type": "code",
   "execution_count": null,
   "metadata": {},
   "outputs": [],
   "source": [
    "from astropy.io import ascii"
   ]
  },
  {
   "cell_type": "code",
   "execution_count": null,
   "metadata": {},
   "outputs": [],
   "source": [
    "filename = '/home/imendoza/alcca/nbody-relaxed/intro/data/sample_data/hlist_1.00109.csv'"
   ]
  },
  {
   "cell_type": "code",
   "execution_count": null,
   "metadata": {},
   "outputs": [],
   "source": [
    "#100 Mb chunks of maximum memory in each iteration. \n",
    "#this returns a generator. \n",
    "tbls = ascii.read(filename, format='csv', guess=False,\n",
    "                 fast_reader={'chunk_size': 100 * 1000000, 'chunk_generator': True})"
   ]
  },
  {
   "cell_type": "code",
   "execution_count": null,
   "metadata": {},
   "outputs": [],
   "source": [
    "ftbls = [] \n",
    "for i, tbl in enumerate(tbls): \n",
    "    tbl.add_column(cvir(tbl), name='cvir')\n",
    "    tbl.add_column(phi_l(tbl), name='phi_l')\n",
    "    tbl.add_column(q(tbl), name='q')\n",
    "    \n",
    "    ftbls.append(tbl[plotting.params])\n",
    "    if i%10 ==0: \n",
    "        print(i)\n",
    "\n",
    "ftbl = astropy.table.vstack(ftbls)"
   ]
  },
  {
   "cell_type": "code",
   "execution_count": null,
   "metadata": {},
   "outputs": [],
   "source": [
    "#only look at things that have at least 1000 particles as several authors suggest. \n",
    "#others might be too noisy. \n",
    "cat = ftbl[ (np.log10(ftbl['mvir']) > 12) & \n",
    "          (ftbl['Spin'] != 0) &\n",
    "          (ftbl['q'] !=0)]\n",
    "\n",
    "cat['Xoff'] = cat['Xoff'] / cat['rvir'] #normalize to definition used in Power2011 (and others)"
   ]
  },
  {
   "cell_type": "code",
   "execution_count": null,
   "metadata": {},
   "outputs": [],
   "source": [
    "#following recommendations from power2011dynamical\n",
    "#eta = 2 * T/U \n",
    "relaxed = (cat['Xoff'] < 0.04)"
   ]
  },
  {
   "cell_type": "code",
   "execution_count": null,
   "metadata": {},
   "outputs": [],
   "source": []
  },
  {
   "cell_type": "code",
   "execution_count": null,
   "metadata": {},
   "outputs": [],
   "source": [
    "len(cat[relaxed])"
   ]
  },
  {
   "cell_type": "markdown",
   "metadata": {},
   "source": [
    "# histograms"
   ]
  },
  {
   "cell_type": "code",
   "execution_count": null,
   "metadata": {},
   "outputs": [],
   "source": [
    "#mass\n",
    "plt.figure(figsize=(8,8))\n",
    "plt.hist(np.log10(cat['mvir']), bins=30, histtype='step', label='all', color='r');\n",
    "plt.hist(np.log10(cat[relaxed]['mvir']), bins=30, histtype='step',color='b', label='relaxed');\n",
    "plt.xlabel(to_latex('mvir', True, True), size=20)\n",
    "\n",
    "plt.yscale('log')\n",
    "plt.legend(prop={'size':18})\n",
    "\n",
    "plt.xticks(fontsize=16)\n",
    "plt.yticks(fontsize=16)\n"
   ]
  },
  {
   "cell_type": "code",
   "execution_count": null,
   "metadata": {},
   "outputs": [],
   "source": [
    "fig, axs = plt.subplots(4, 2, figsize=(10,20))\n",
    "params = ['mvir', 'cvir' , 'T/|U|', 'Xoff', 'Voff', 'Spin', 'q', 'phi_l']\n",
    "# print('mean, median, and std of:')\n",
    "for param, ax in zip(params, axs.flatten()): \n",
    "    \n",
    "    #all halos \n",
    "    x = np.log10(cat[param]) \n",
    "    px = (x - np.mean(x))/ np.std(x)\n",
    "    ax.hist(px, histtype='step', bins=30, label='all', color='r')\n",
    "    \n",
    "    #relaxed halos \n",
    "    x = np.log10(cat[relaxed][param]) \n",
    "    px = (x - np.mean(x))/ np.std(x)\n",
    "    ax.hist(px, histtype='step', bins=30, label='relaxed', color='b')\n",
    "    ax.set_xlabel(to_latex(param,True), fontsize=18)\n",
    "    ax.tick_params('both', labelsize=18)\n",
    "    ax.ticklabel_format(style='sci', axis='y', scilimits=(0,0))\n",
    "    ax.yaxis.get_offset_text().set_fontsize(18)\n",
    "\n",
    "#     print(f'{param}:', np.mean(x), np.median(x), np.std(x))\n",
    "    \n",
    "    ax.legend(loc='best', prop={'size':20})\n",
    "\n",
    "fig.tight_layout() "
   ]
  },
  {
   "cell_type": "markdown",
   "metadata": {
    "heading_collapsed": true
   },
   "source": [
    "# Vanilla Scatters and Contours"
   ]
  },
  {
   "cell_type": "code",
   "execution_count": null,
   "metadata": {
    "hidden": true
   },
   "outputs": [],
   "source": [
    "#all masses in catalogue\n",
    "plt.scatter(cat['mvir'], cat['Xoff'], alpha=0.1)\n",
    "plt.xscale('log')\n",
    "plt.yscale('log')\n",
    "print(\"correlation:\", spearmanr(cat['mvir'], cat['Xoff'])[0])"
   ]
  },
  {
   "cell_type": "code",
   "execution_count": null,
   "metadata": {
    "hidden": true
   },
   "outputs": [],
   "source": [
    "from astroML.plotting import scatter_contour\n",
    "scatter_contour(np.log10(cat['mvir']), np.log10(cat['Xoff']), filled_contour=True, threshold=100, levels=10)"
   ]
  },
  {
   "cell_type": "markdown",
   "metadata": {},
   "source": [
    "# correlations"
   ]
  },
  {
   "cell_type": "markdown",
   "metadata": {},
   "source": [
    "## matrix version"
   ]
  },
  {
   "cell_type": "code",
   "execution_count": null,
   "metadata": {},
   "outputs": [],
   "source": [
    "params = ['mvir', 'cvir' , 'T/|U|', 'Xoff', 'Voff', 'Spin', 'q', 'phi_l']\n",
    "latex_params= [to_latex(param) for param in params]"
   ]
  },
  {
   "cell_type": "code",
   "execution_count": null,
   "metadata": {},
   "outputs": [],
   "source": [
    "#prettier version. \n",
    "corrs = np.zeros((len(params), len(params)))\n",
    "for i,param1 in enumerate(params): \n",
    "    for j,param2 in enumerate(params):\n",
    "        corr, p = spearmanr(cat[param1], cat[param2])\n",
    "        corrs[i,j] = corr"
   ]
  },
  {
   "cell_type": "code",
   "execution_count": null,
   "metadata": {},
   "outputs": [],
   "source": [
    "fig, ax = plt.subplots(1,1,figsize=(8,8))\n",
    "mask =  np.tri(corrs.shape[0], k=-1)\n",
    "A = np.ma.array(corrs, mask=mask)\n",
    "im = ax.matshow(A,cmap='bwr',vmin=-1, vmax=1)\n",
    "plt.colorbar(im, ax = ax)\n",
    "ax.set_xticklabels(['']+latex_params, size=16);\n",
    "ax.set_yticklabels(['']+latex_params, size=16);"
   ]
  },
  {
   "cell_type": "code",
   "execution_count": null,
   "metadata": {},
   "outputs": [],
   "source": [
    "#print by hand. \n",
    "np.set_printoptions(threshold=100)\n",
    "print(params)\n",
    "corrs"
   ]
  },
  {
   "cell_type": "markdown",
   "metadata": {},
   "source": [
    "## Correlations between parameters, graphically"
   ]
  },
  {
   "cell_type": "code",
   "execution_count": null,
   "metadata": {},
   "outputs": [],
   "source": [
    "fig, axs = plt.subplots(1,3, figsize=(18,10))\n",
    "axes = axs.flatten()\n",
    "\n",
    "\n",
    "scatter_binning(np.log10(cat['mvir']), np.log10(cat['T/|U|']), nxbins=10, ax=axes[0],\n",
    "               xlabel=to_latex('mvir', True, True), ylabel=to_latex('T/|U|',True), xlabel_size=24, ylabel_size=24,\n",
    "               tick_size=18, no_bars=True, show_bands=True, legend_label='all galaxies')\n",
    "\n",
    "scatter_binning(np.log10(cat[relaxed]['mvir']), np.log10(cat[relaxed]['T/|U|']), nxbins=10, ax=axes[0],\n",
    "               xlabel=to_latex('mvir', True, True), ylabel=to_latex('T/|U|',True), xlabel_size=24, ylabel_size=24,\n",
    "               tick_size=18, no_bars=True, show_bands=True, legend_label='relaxed', legend_size=18, color='blue'\n",
    "               )\n",
    "\n",
    "scatter_binning(np.log10(cat['mvir']), np.log10(cat['Xoff']), nxbins=10, ax=axes[1], \n",
    "                xlabel=to_latex('mvir', True,True), ylabel=to_latex('Xoff',True), xlabel_size=24, ylabel_size=24,\n",
    "               tick_size=18, no_bars=True, show_bands=True, legend_label='all galaxies')\n",
    "\n",
    "scatter_binning(np.log10(cat[relaxed]['mvir']), np.log10(cat[relaxed]['Xoff']), nxbins=10, ax=axes[1], \n",
    "                xlabel=to_latex('mvir', True,True), ylabel=to_latex('Xoff',True), xlabel_size=24, ylabel_size=24,\n",
    "               tick_size=18, no_bars=True, show_bands=True, legend_label='relaxed', legend_size=18, color='blue')\n",
    "\n",
    "scatter_binning(np.log10(cat['mvir']), np.log10(cat['Voff']), nxbins=10, ax=axes[2], \n",
    "                xlabel=to_latex('mvir', True,True), ylabel=to_latex('Voff',True), xlabel_size=24, ylabel_size=24,\n",
    "                tick_size=18, no_bars=True, show_bands=True, legend_label='all galaxies')\n",
    "\n",
    "scatter_binning(np.log10(cat[relaxed]['mvir']), np.log10(cat[relaxed]['Voff']), nxbins=10, ax=axes[2], \n",
    "                xlabel=to_latex('mvir', True,True), ylabel=to_latex('Voff',True), xlabel_size=24, ylabel_size=24,\n",
    "               tick_size=18, no_bars=True, show_bands=True, legend_label='relaxed', legend_size=18, color='blue')\n",
    "\n",
    "plt.tight_layout()"
   ]
  },
  {
   "cell_type": "code",
   "execution_count": null,
   "metadata": {},
   "outputs": [],
   "source": [
    "fig, axs=  plt.subplots(3,2, figsize=(16,18))\n",
    "axes = axs.flatten()\n",
    "plotting.binning3d_mass(cat, axes[0], scatter_binning, 'Xoff', 'T/|U|', mods=[lambda x: np.log10(x), lambda x: np.log10(x)],\n",
    "               plot_kwargs=dict(nxbins=10, xlabel=plotting.to_latex('Xoff',True), ylabel=plotting.to_latex('T/|U|'), \n",
    "                             tick_size=22, xlabel_size=24, ylabel_size=24), legend_size=22\n",
    "              )\n",
    "plotting.scatter_binning(np.log10(cat['Xoff']), np.log10(cat['T/|U|']), axes[1], \n",
    "                         xlabel=plotting.to_latex('Xoff',True), ylabel=plotting.to_latex('T/|U|'),\n",
    "                        tick_size=22, xlabel_size=24, ylabel_size=24)\n",
    "\n",
    "plotting.binning3d_mass(cat, axes[2], scatter_binning, 'Xoff', 'Voff', mods=[lambda x: np.log10(x), lambda x: np.log10(x)],\n",
    "               plot_kwargs=dict(nxbins=10, xlabel=plotting.to_latex('Xoff',True), ylabel=plotting.to_latex('Voff',True), \n",
    "                             tick_size=22, xlabel_size=24, ylabel_size=24), legend_size=22\n",
    "              )\n",
    "\n",
    "plotting.scatter_binning(np.log10(cat['Xoff']), np.log10(cat['Voff']), axes[3], xlabel=plotting.to_latex('Xoff',True), \n",
    "                         ylabel=plotting.to_latex('Voff'), tick_size=22, xlabel_size=24, ylabel_size=24)\n",
    "\n",
    "plotting.binning3d_mass(cat, axes[4], scatter_binning, 'Voff', 'T/|U|', mods=[lambda x: np.log10(x), lambda x: np.log10(x)],\n",
    "               plot_kwargs=dict(nxbins=10, xlabel=plotting.to_latex('Voff',True), ylabel=plotting.to_latex('T/|U|',True), \n",
    "                             tick_size=22, xlabel_size=24, ylabel_size=24), legend_size=22\n",
    "              )\n",
    "\n",
    "plotting.scatter_binning(np.log10(cat['Voff']), np.log10(cat['T/|U|']), axes[5], xlabel=plotting.to_latex('Voff',True), \n",
    "                         ylabel=plotting.to_latex('T/|U|'), tick_size=22, xlabel_size=24, ylabel_size=24)\n",
    "plt.tight_layout()\n",
    "# scatter_binning(np.log10(cat[]))"
   ]
  },
  {
   "cell_type": "markdown",
   "metadata": {},
   "source": [
    "## Investigate weird correlation between Xoff and Mvir "
   ]
  },
  {
   "cell_type": "code",
   "execution_count": null,
   "metadata": {},
   "outputs": [],
   "source": [
    "fig, ax =plt.subplots(1,1,figsize=(12,12))\n",
    "scatter_binning(np.log10(cat['mvir']), np.log10(cat['Xoff']), nxbins=10, ax=ax \n",
    "                xlabel=to_latex('mvir', True,True), ylabel=to_latex('Xoff',True), xlabel_size=24, ylabel_size=24,\n",
    "               tick_size=18, no_bars=True, show_bands=False, legend_label='all galaxies')"
   ]
  },
  {
   "cell_type": "markdown",
   "metadata": {
    "heading_collapsed": true
   },
   "source": [
    "# PCA "
   ]
  },
  {
   "cell_type": "code",
   "execution_count": null,
   "metadata": {
    "hidden": true
   },
   "outputs": [],
   "source": [
    "from sklearn.decomposition import PCA"
   ]
  },
  {
   "cell_type": "code",
   "execution_count": null,
   "metadata": {
    "hidden": true
   },
   "outputs": [],
   "source": [
    "params = ['mvir', 'cvir','Spin', 'q','phi_l', 'Xoff', 'T/|U|'\n",
    "         ]"
   ]
  },
  {
   "cell_type": "code",
   "execution_count": null,
   "metadata": {
    "hidden": true
   },
   "outputs": [],
   "source": [
    "pca = PCA(n_components=4)"
   ]
  },
  {
   "cell_type": "code",
   "execution_count": null,
   "metadata": {
    "hidden": true
   },
   "outputs": [],
   "source": [
    "#normalize and take log.\n",
    "#cuts on mass >= 12 once we get z= 0 catalogue and different fixed mass regimes too.  \n",
    "# remove extreme outliers too. \n",
    "X = np.zeros((len(params), len(cat['mvir'])))\n",
    "for i, param in enumerate(params): \n",
    "    x = np.log10(cat[param])\n",
    "    px = (x - np.mean(x))/ np.std(x)\n",
    "    X[i] = px \n",
    "    "
   ]
  },
  {
   "cell_type": "code",
   "execution_count": null,
   "metadata": {
    "hidden": true
   },
   "outputs": [],
   "source": [
    "pca.fit(X.T)"
   ]
  },
  {
   "cell_type": "code",
   "execution_count": null,
   "metadata": {
    "hidden": true
   },
   "outputs": [],
   "source": [
    "np.set_printoptions(threshold=50)\n",
    "print(params)\n",
    "print('singular values:', pca.singular_values_)\n",
    "print('explained variance ratio:', pca.explained_variance_ratio_)  \n",
    "print('components \\n ', pca.components_)"
   ]
  },
  {
   "cell_type": "markdown",
   "metadata": {},
   "source": [
    "# dynamical comparisons "
   ]
  },
  {
   "cell_type": "markdown",
   "metadata": {},
   "source": [
    "Useful to compare to the Power et al. 2011 paper"
   ]
  },
  {
   "cell_type": "code",
   "execution_count": null,
   "metadata": {},
   "outputs": [],
   "source": [
    "params = ['mvir', 'cvir' , 'T/|U|', 'Xoff', 'Voff', 'Spin', 'q', 'phi_l', 'Acc_Rate_Inst',\n",
    "          'Acc_Rate_1*Tdyn','Acc_Rate_2*Tdyn']"
   ]
  },
  {
   "cell_type": "code",
   "execution_count": null,
   "metadata": {},
   "outputs": [],
   "source": [
    "#not sure what Halfmass_Scale corresponds to but maybe inverse of (1+zform)^(-1)? \n",
    "#sanity check. \n",
    "fig, ax = plt.subplots(1,1,figsize=(8,8))\n",
    "scatter_binning(np.log10(cat['mvir']), cat['cvir'], ax, xlabel=to_latex('mvir',True), ylabel=to_latex('cvir'),\n",
    "               xlabel_size=22, ylabel_size=28, legend_label='all', no_bars=True, show_bands=True)\n",
    "\n",
    "scatter_binning(np.log10(cat[relaxed]['mvir']), cat[relaxed]['cvir'], ax, xlabel=to_latex('mvir',True), ylabel=to_latex('cvir'),\n",
    "               xlabel_size=22, ylabel_size=28, color='blue', legend_label='relaxed', no_bars=True, show_bands=True)\n",
    "\n",
    "ax.legend(prop={'size':18}, loc='best')"
   ]
  },
  {
   "cell_type": "code",
   "execution_count": null,
   "metadata": {},
   "outputs": [],
   "source": [
    "#accretion rate and mass. \n",
    "fig, axs = plt.subplots(1,2,figsize=(20,10))\n",
    "\n",
    "scatter_binning(np.log10(cat['mvir']), cat['Acc_Rate_1*Tdyn'],ax=axs[0], xlabel=to_latex('mvir',True), \n",
    "                ylabel=to_latex('Acc_Rate_1*Tdyn'), xlabel_size=22, ylabel_size=32, tick_size=22, no_bars=True, \n",
    "               show_lines=True)\n",
    "axs[0].ticklabel_format(style='sci', axis='y', scilimits=(0,0))\n",
    "axs[0].yaxis.get_offset_text().set_fontsize(24)\n",
    "axs[0].set_yscale('log',nonposy='clip')\n",
    "\n",
    "# axs[0].set_yscale('log')\n",
    "\n",
    "scatter_binning(np.log10(cat['mvir']), cat['Acc_Rate_Inst'],ax=axs[1], xlabel=to_latex('mvir',True), \n",
    "                ylabel=to_latex('Acc_Rate_Inst'), xlabel_size=22, ylabel_size=32, tick_size=22, \n",
    "               no_bars=True, show_lines=True)\n",
    "axs[1].ticklabel_format(style='sci', axis='y', scilimits=(0,0))\n",
    "axs[1].yaxis.get_offset_text().set_fontsize(24)\n",
    "axs[1].set_yscale('log',nonposy='clip')\n",
    "# scatter_binning(np.log10(cat['mvir']), np.log10(cat['Acc_Rate_1*Tdyn']) )"
   ]
  },
  {
   "cell_type": "code",
   "execution_count": null,
   "metadata": {},
   "outputs": [],
   "source": [
    "fig, axs = plt.subplots(6,2,figsize=(18,30))\n",
    "axes = axs.flatten()\n",
    "binning3d_mass(cat, axes[0], scatter_binning, 'Xoff', 'Acc_Rate_1*Tdyn', \n",
    "                   mods=[lambda x: np.log10(x), lambda x: x],\n",
    "                   plot_kwargs=dict(nxbins=15,\n",
    "                   xlabel=to_latex('Xoff', True), ylabel=to_latex('Acc_Rate_1*Tdyn'), xlabel_size=22, \n",
    "                    ylabel_size=28, tick_size=20))\n",
    "\n",
    "scatter_binning(np.log10(cat['Xoff']), cat['Acc_Rate_1*Tdyn'],ax=axes[1], nxbins=15,\n",
    "                   xlabel=to_latex('Xoff',True), ylabel=to_latex('Acc_Rate_1*Tdyn'), xlabel_size=22, \n",
    "                ylabel_size=28, tick_size=20, legend_label='all halos',legend_size=18)\n",
    "\n",
    "binning3d_mass(cat, axes[2], scatter_binning, 'Xoff', 'Acc_Rate_Inst', \n",
    "                   mods=[lambda x: np.log10(x), lambda x: x],\n",
    "                   plot_kwargs=dict(nxbins=15,\n",
    "                   xlabel=to_latex('Xoff', True), ylabel=to_latex('Acc_Rate_Inst'), xlabel_size=22, \n",
    "                    ylabel_size=28, tick_size=20))\n",
    "\n",
    "scatter_binning(np.log10(cat['Xoff']), cat['Acc_Rate_Inst'], ax=axes[3], nxbins=15,\n",
    "xlabel=to_latex('Xoff',True), ylabel=to_latex('Acc_Rate_Inst'), xlabel_size=22, \n",
    "                ylabel_size=28, tick_size=20)\n",
    "\n",
    "\n",
    "binning3d_mass(cat, axes[4], scatter_binning, 'T/|U|', 'Acc_Rate_1*Tdyn', \n",
    "                   mods=[lambda x: np.log10(x), lambda x: x],\n",
    "                   plot_kwargs=dict(nxbins=15,\n",
    "                   xlabel=to_latex('T/|U|', True), ylabel=to_latex('Acc_Rate_1*Tdyn'), xlabel_size=22, \n",
    "                    ylabel_size=28, tick_size=20))\n",
    "\n",
    "scatter_binning(np.log10(cat['T/|U|']), cat['Acc_Rate_1*Tdyn'], ax=axes[5], nxbins=15,\n",
    "xlabel=to_latex('T/|U|',True), ylabel=to_latex('Acc_Rate_1*Tdyn'), xlabel_size=22, \n",
    "                ylabel_size=28, tick_size=20)\n",
    "\n",
    "binning3d_mass(cat, axes[6], scatter_binning, 'T/|U|', 'Acc_Rate_Inst', \n",
    "                   mods=[lambda x: np.log10(x), lambda x: x],\n",
    "                   plot_kwargs=dict(nxbins=15,\n",
    "                   xlabel=to_latex('T/|U|', True), ylabel=to_latex('Acc_Rate_Inst'), xlabel_size=22, \n",
    "                    ylabel_size=28, tick_size=20))\n",
    "\n",
    "scatter_binning(np.log10(cat['T/|U|']), cat['Acc_Rate_Inst'], ax=axes[7], nxbins=15,\n",
    "xlabel=to_latex('T/|U|',True), ylabel=to_latex('Acc_Rate_Inst'), xlabel_size=22, \n",
    "                ylabel_size=28, tick_size=20)\n",
    "\n",
    "\n",
    "binning3d_mass(cat, axes[8], scatter_binning, 'Voff', 'Acc_Rate_1*Tdyn', \n",
    "                   mods=[lambda x: np.log10(x), lambda x: x],\n",
    "                   plot_kwargs=dict(nxbins=15,\n",
    "                   xlabel=to_latex('Voff', True), ylabel=to_latex('Acc_Rate_1*Tdyn'), xlabel_size=22, \n",
    "                    ylabel_size=28, tick_size=20))\n",
    "\n",
    "scatter_binning(np.log10(cat['Voff']), cat['Acc_Rate_1*Tdyn'], ax=axes[9], nxbins=15,\n",
    "xlabel=to_latex('Voff',True), ylabel=to_latex('Acc_Rate_1*Tdyn'), xlabel_size=22, \n",
    "                ylabel_size=28, tick_size=20)\n",
    "\n",
    "binning3d_mass(cat, axes[10], scatter_binning, 'Voff', 'Acc_Rate_Inst', \n",
    "                   mods=[lambda x: np.log10(x), lambda x: x],\n",
    "                   plot_kwargs=dict(nxbins=15,\n",
    "                   xlabel=to_latex('Voff', True), ylabel=to_latex('Acc_Rate_Inst'), xlabel_size=22, \n",
    "                    ylabel_size=28, tick_size=20))\n",
    "\n",
    "scatter_binning(np.log10(cat['Voff']), cat['Acc_Rate_Inst'], ax=axes[11], nxbins=15,\n",
    "xlabel=to_latex('Voff',True), ylabel=to_latex('Acc_Rate_Inst'), xlabel_size=22, \n",
    "                ylabel_size=28, tick_size=20)\n",
    "\n",
    "\n",
    "plt.tight_layout()"
   ]
  },
  {
   "cell_type": "code",
   "execution_count": null,
   "metadata": {},
   "outputs": [],
   "source": [
    "# conclusion: eta is much more sensitive to recent accretion \n",
    "# should look at this for different mass ranges (decades)"
   ]
  },
  {
   "cell_type": "code",
   "execution_count": null,
   "metadata": {},
   "outputs": [],
   "source": [
    "fig, axs = plt.subplots(1,3,figsize=(20,10))\n",
    "axes = axs.flatten()\n",
    "\n",
    "scatter_binning( cat['scale_of_last_MM'], np.log10(cat['Xoff']),ax=axes[0], \n",
    "                nxbins=10, xlabel=to_latex('scale_of_last_MM'), ylabel=to_latex('Xoff',True),\n",
    "                xlabel_size=28, ylabel_size=28, tick_size=22, no_bars=True, show_bands=True,\n",
    "                legend_label='all galaxies')\n",
    "\n",
    "scatter_binning( cat[relaxed]['scale_of_last_MM'], np.log10(cat[relaxed]['Xoff']),ax=axes[0], \n",
    "                nxbins=10, xlabel=to_latex('scale_of_last_MM'), ylabel=to_latex('Xoff',True),\n",
    "                xlabel_size=28, ylabel_size=28, tick_size=22, no_bars=True, show_bands=True, color='blue',\n",
    "                legend_label='relaxed')\n",
    "\n",
    "scatter_binning( cat['scale_of_last_MM'], np.log10(cat['Voff']),ax=axes[1], \n",
    "                nxbins=10, xlabel=to_latex('scale_of_last_MM'), ylabel=to_latex('Voff',True),\n",
    "                xlabel_size=28, ylabel_size=28, tick_size=22, no_bars=True, show_bands=True,\n",
    "                legend_label='all galaxies')\n",
    "\n",
    "scatter_binning( cat[relaxed]['scale_of_last_MM'], np.log10(cat[relaxed]['Voff']),ax=axes[1], \n",
    "                nxbins=10, xlabel=to_latex('scale_of_last_MM'), ylabel=to_latex('Voff',True),\n",
    "                xlabel_size=28, ylabel_size=28, tick_size=22, no_bars=True, show_bands=True, color='blue',\n",
    "                legend_label='relaxed')\n",
    "\n",
    "scatter_binning( cat['scale_of_last_MM'], np.log10(cat['T/|U|']),ax=axes[2], \n",
    "                nxbins=10, xlabel=to_latex('scale_of_last_MM'), ylabel=to_latex('T/|U|',True),\n",
    "                xlabel_size=28, ylabel_size=28, tick_size=22, no_bars=True, show_bands=True,\n",
    "                legend_label='all galaxies')\n",
    "\n",
    "scatter_binning( cat[relaxed]['scale_of_last_MM'], np.log10(cat[relaxed]['T/|U|']),ax=axes[2], \n",
    "                nxbins=10, xlabel=to_latex('scale_of_last_MM'), ylabel=to_latex('T/|U|',True),\n",
    "                xlabel_size=28, ylabel_size=28, tick_size=22, no_bars=True, show_bands=True, color='blue',\n",
    "                legend_label='relaxed')\n",
    "\n",
    "# scatter_binning( cat['scale_of_last_MM'], np.log10(cat['Xoff']),ax=axes[0], \n",
    "#                 nxbins=10, xlabel=to_latex('scale_of_last_MM'), ylabel=to_latex('Xoff',True))\n",
    "\n",
    "# scatter_binning( cat['scale_of_last_MM'], np.log10(cat['T/|U|']),ax=axes[1], nxbins=10)\n",
    "plt.tight_layout()"
   ]
  },
  {
   "cell_type": "code",
   "execution_count": null,
   "metadata": {},
   "outputs": [],
   "source": []
  },
  {
   "cell_type": "code",
   "execution_count": null,
   "metadata": {},
   "outputs": [],
   "source": []
  },
  {
   "cell_type": "markdown",
   "metadata": {},
   "source": [
    "# Plot with shapes "
   ]
  },
  {
   "cell_type": "code",
   "execution_count": null,
   "metadata": {},
   "outputs": [],
   "source": [
    "#hypothesis: T/U related to shape. "
   ]
  },
  {
   "cell_type": "code",
   "execution_count": null,
   "metadata": {},
   "outputs": [],
   "source": [
    "fig, axs = plt.subplots(1,3,figsize=(20,10))\n",
    "axes = axs.flatten()\n",
    "\n",
    "scatter_binning( cat['q'], np.log10(cat['Xoff']),ax=axes[0], \n",
    "                nxbins=10, xlabel=to_latex('q'), ylabel=to_latex('Xoff',True),\n",
    "                xlabel_size=28, ylabel_size=28, tick_size=22, no_bars=True, show_bands=True,\n",
    "                legend_label='all galaxies')\n",
    "\n",
    "scatter_binning( cat['q'], np.log10(cat['Voff']),ax=axes[1], \n",
    "                nxbins=10, xlabel=to_latex('q'), ylabel=to_latex('Voff',True),\n",
    "                xlabel_size=28, ylabel_size=28, tick_size=22, no_bars=True, show_bands=True,\n",
    "                legend_label='all galaxies')\n",
    "\n",
    "\n",
    "scatter_binning( cat['q'], np.log10(cat['T/|U|']),ax=axes[2], \n",
    "                nxbins=10, xlabel=to_latex('q'), ylabel=to_latex('T/|U|',True),\n",
    "                xlabel_size=28, ylabel_size=28, tick_size=22, no_bars=True, show_bands=True,\n",
    "                legend_label='all galaxies')\n",
    "\n",
    "plt.tight_layout()"
   ]
  },
  {
   "cell_type": "code",
   "execution_count": null,
   "metadata": {},
   "outputs": [],
   "source": [
    "#ToDo: \n",
    "#add calculating the substructure fraction. \n",
    "#so at different time scales the universse is denser so different things might relax quicker, \n",
    "#look only at most massive progenitor. \n",
    "#vrms as measure of relaxedness "
   ]
  },
  {
   "cell_type": "markdown",
   "metadata": {},
   "source": []
  }
 ],
 "metadata": {
  "kernelspec": {
   "display_name": "Python 3",
   "language": "python",
   "name": "python3"
  },
  "language_info": {
   "codemirror_mode": {
    "name": "ipython",
    "version": 3
   },
   "file_extension": ".py",
   "mimetype": "text/x-python",
   "name": "python",
   "nbconvert_exporter": "python",
   "pygments_lexer": "ipython3",
   "version": "3.7.3"
  },
  "toc": {
   "base_numbering": 1,
   "nav_menu": {
    "height": "163px",
    "width": "239px"
   },
   "number_sections": true,
   "sideBar": true,
   "skip_h1_title": false,
   "title_cell": "Table of Contents",
   "title_sidebar": "Contents",
   "toc_cell": false,
   "toc_position": {
    "height": "calc(100% - 180px)",
    "left": "10px",
    "top": "150px",
    "width": "187.646px"
   },
   "toc_section_display": true,
   "toc_window_display": true
  }
 },
 "nbformat": 4,
 "nbformat_minor": 2
}
