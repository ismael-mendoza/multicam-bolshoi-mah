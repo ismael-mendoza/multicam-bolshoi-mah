{
 "cells": [
  {
   "cell_type": "markdown",
   "metadata": {},
   "source": [
    "# Preamble"
   ]
  },
  {
   "cell_type": "code",
   "execution_count": null,
   "metadata": {},
   "outputs": [],
   "source": [
    "%load_ext autoreload\n",
    "%autoreload 2\n",
    "%aimport\n",
    "# %reload_ext autoreload\n",
    "\n",
    "import sys \n",
    "from os.path import abspath\n",
    "path = abspath('..')\n",
    "\n",
    "if path not in sys.path: \n",
    "    sys.path.insert(0, path)"
   ]
  },
  {
   "cell_type": "code",
   "execution_count": null,
   "metadata": {},
   "outputs": [],
   "source": [
    "from src.frames import plots\n",
    "from src.utils import const\n",
    "from src.frames import catalogs\n",
    "from src.frames.params import Param\n",
    "from src.visualization import plot_funcs\n",
    "from src.visualization import plots1\n",
    "\n",
    "import numpy as np\n",
    "import matplotlib.pyplot as plt \n",
    "\n",
    "plt.rc(\"text\", usetex=True)"
   ]
  },
  {
   "cell_type": "markdown",
   "metadata": {},
   "source": [
    "# Load catalog, Check size"
   ]
  },
  {
   "cell_type": "code",
   "execution_count": null,
   "metadata": {},
   "outputs": [],
   "source": [
    "out_file = const.data_path.joinpath('processed/bolshoi_base1.csv')"
   ]
  },
  {
   "cell_type": "code",
   "execution_count": null,
   "metadata": {},
   "outputs": [],
   "source": [
    "# cat_file = const.data_path.joinpath('raw/bolshoi/hlist_1.00035.csv')\n",
    "# hcat = catalogs.HaloCatalog(cat_file, \"Bolshoi\", verbose=True, subhalos=False)\n",
    "\n",
    "# # load catalog \n",
    "# hcat.load_base_cat()\n",
    "\n",
    "# # save base cat for future use. \n",
    "# hcat.save_cat(out_file)"
   ]
  },
  {
   "cell_type": "code",
   "execution_count": null,
   "metadata": {},
   "outputs": [],
   "source": [
    "#reload \n",
    "hcat = catalogs.HaloCatalog.create_from_saved_cat(out_file, \"Bolshoi\", verbose=True, subhalos=False)\n",
    "\n",
    "print(hcat.get_cat().colnames)\n",
    "print(\"number of MB being used as estimated in numpy: \", np.array(hcat.get_cat()).nbytes/1e6)"
   ]
  },
  {
   "cell_type": "code",
   "execution_count": null,
   "metadata": {},
   "outputs": [],
   "source": [
    "#sanity check masses look ok. \n",
    "plt.hist(np.log10(hcat.get_cat()['mvir']))"
   ]
  },
  {
   "cell_type": "markdown",
   "metadata": {
    "heading_collapsed": true
   },
   "source": [
    "# Tests"
   ]
  },
  {
   "cell_type": "markdown",
   "metadata": {
    "heading_collapsed": true,
    "hidden": true
   },
   "source": [
    "## frames "
   ]
  },
  {
   "cell_type": "code",
   "execution_count": null,
   "metadata": {
    "hidden": true
   },
   "outputs": [],
   "source": [
    "from src.frames import filters"
   ]
  },
  {
   "cell_type": "code",
   "execution_count": null,
   "metadata": {
    "hidden": true
   },
   "outputs": [],
   "source": [
    "#check that everything works as expected. \n",
    "print(len(hcat))\n",
    "hcat.with_filters(filters.catalog_mass_filter(hcat.catalog_name))\n",
    "print(len(hcat))\n",
    "hcat.reset_base_cat()\n",
    "print(len(hcat))"
   ]
  },
  {
   "cell_type": "markdown",
   "metadata": {
    "heading_collapsed": true,
    "hidden": true
   },
   "source": [
    "## sanity check relaxedness"
   ]
  },
  {
   "cell_type": "code",
   "execution_count": null,
   "metadata": {
    "hidden": true
   },
   "outputs": [],
   "source": [
    "hcat.with_relaxed_filters(\"power2011\")\n",
    "print(len(hcat))\n",
    "plt.hist(hcat.get_cat()['xoff'], label='relaxed', histtype='step', density=True)\n",
    "\n",
    "hcat.reset_base_cat()\n",
    "print(len(hcat))\n",
    "\n",
    "plt.hist(hcat.get_cat()['xoff'], label='all', histtype='step', density=True)\n",
    "plt.legend()"
   ]
  },
  {
   "cell_type": "markdown",
   "metadata": {
    "heading_collapsed": true,
    "hidden": true
   },
   "source": [
    "## Plotting demo"
   ]
  },
  {
   "cell_type": "code",
   "execution_count": null,
   "metadata": {
    "hidden": true
   },
   "outputs": [],
   "source": [
    "plt.rc(\"text\", usetex=True)\n",
    "bparams = [(Param('mvir', log=True), Param('T/|U|', log=True))]\n",
    "bplot = plots.BiPlot(plot_funcs.scatter_binning, bparams, nrows=1, ncols=1)\n",
    "bplot.run(hcat.cat, nxbins=10, xlabel_size=24, ylabel_size=24, tick_size=18, no_bars=True, show_bands=True,\n",
    "              legend_label='all galaxies')\n",
    "bplot.save(\"test1.png\")"
   ]
  },
  {
   "cell_type": "code",
   "execution_count": null,
   "metadata": {
    "hidden": true
   },
   "outputs": [],
   "source": [
    "plt.hist(np.log10(hcat.cat['mvir']))\n",
    "plt.yscale('log')"
   ]
  },
  {
   "cell_type": "code",
   "execution_count": null,
   "metadata": {
    "hidden": true
   },
   "outputs": [],
   "source": [
    "len(hcat.cat)"
   ]
  },
  {
   "cell_type": "code",
   "execution_count": null,
   "metadata": {
    "hidden": true
   },
   "outputs": [],
   "source": []
  },
  {
   "cell_type": "code",
   "execution_count": null,
   "metadata": {
    "hidden": true
   },
   "outputs": [],
   "source": [
    "plots1.test_plot(hcat=hcat)"
   ]
  },
  {
   "cell_type": "code",
   "execution_count": null,
   "metadata": {
    "hidden": true
   },
   "outputs": [],
   "source": []
  },
  {
   "cell_type": "markdown",
   "metadata": {
    "heading_collapsed": true,
    "hidden": true
   },
   "source": [
    "## Plot test 1 demo"
   ]
  },
  {
   "cell_type": "code",
   "execution_count": null,
   "metadata": {
    "hidden": true
   },
   "outputs": [],
   "source": [
    "plt.rc(\"text\", usetex=True)"
   ]
  },
  {
   "cell_type": "code",
   "execution_count": null,
   "metadata": {
    "hidden": true
   },
   "outputs": [],
   "source": [
    "hist_kwargs1 = dict(bins=30, histtype='step')\n",
    "binning_kwargs1 = dict(nxbins=10, no_bars=True, show_bands=True)\n",
    "general_kwargs1 = dict(xlabel_size=28, ylabel_size=28)"
   ]
  },
  {
   "cell_type": "code",
   "execution_count": null,
   "metadata": {
    "hidden": true
   },
   "outputs": [],
   "source": [
    "# (1) histogram\n",
    "params = [Param('mvir', log=True)]\n",
    "uplot1 = plots.UniPlot(plot_funcs.histogram, params, nrows=1, ncols=1, tick_size=22)\n",
    "hcat.reset_base_cat()\n",
    "\n",
    "uplot1.generate(hcat.get_cat(), legend_label=hcat.catalog_label, color='r', **hist_kwargs1, **general_kwargs1)\n",
    "\n",
    "hcat.with_relaxed_filters(\"power2011\")\n",
    "uplot1.generate(hcat.get_cat(), legend_label=hcat.catalog_label, color='b', **hist_kwargs1, **general_kwargs1)\n"
   ]
  },
  {
   "cell_type": "markdown",
   "metadata": {
    "heading_collapsed": true,
    "hidden": true
   },
   "source": [
    "## Test caching"
   ]
  },
  {
   "cell_type": "code",
   "execution_count": null,
   "metadata": {
    "hidden": true
   },
   "outputs": [],
   "source": [
    "params = [Param('mvir', log=True)]\n",
    "colors = ['r','b', 'g']\n",
    "general_kwargs = dict(xlabel_size=28, ylabel_size=28)\n",
    "hist_kwargs = dict(bins=30, histtype='step', extra_hist_kwargs=dict(), log_y=True, **general_kwargs)\n",
    "plot1 = plots.Histogram(plot_funcs.histogram, params, nrows=1, ncols=1, plot_kwargs=hist_kwargs)\n",
    "hcats = [hcat, \n",
    "         catalogs.HaloCatalog.create_relaxed_from_base(hcat, 'power2011'), \n",
    "         catalogs.HaloCatalog.create_relaxed_from_base(hcat, 'neto2007')]\n",
    "\n",
    "for _hcat, color in zip(hcats, colors) : \n",
    "    plot1.load_arguments(_hcat.get_cat(), legend_label=_hcat.catalog_label, color=color)\n",
    "\n",
    "plot1.generate_from_cached()\n"
   ]
  },
  {
   "cell_type": "markdown",
   "metadata": {},
   "source": [
    "# Make all plots "
   ]
  },
  {
   "cell_type": "code",
   "execution_count": null,
   "metadata": {},
   "outputs": [],
   "source": [
    "from matplotlib.backends.backend_pdf import PdfPages"
   ]
  },
  {
   "cell_type": "code",
   "execution_count": null,
   "metadata": {},
   "outputs": [],
   "source": [
    "hcats = [hcat, catalogs.HaloCatalog.create_relaxed_from_base(hcat, 'power2011'), \n",
    "         catalogs.HaloCatalog.create_relaxed_from_base(hcat, 'neto2007')]\n",
    "colors = ['r','b', 'g']\n",
    "print([len(hcat1) for hcat1 in hcats])"
   ]
  },
  {
   "cell_type": "code",
   "execution_count": null,
   "metadata": {},
   "outputs": [],
   "source": [
    "out='test1.pdf'\n",
    "plt.rc(\"text\", usetex=True)\n",
    "with PdfPages(const.figure_path.joinpath(out)) as pdf:\n",
    "    plots1.plot_multiple_basic(hcats, pdf, colors)\n",
    "    plots1.plot_correlation_matrix_basic(hcats, pdf)\n",
    "    plots1.plot_decades_basic(hcats, pdf, colors=colors)\n"
   ]
  },
  {
   "cell_type": "code",
   "execution_count": null,
   "metadata": {},
   "outputs": [],
   "source": []
  }
 ],
 "metadata": {
  "kernelspec": {
   "display_name": "Python 3",
   "language": "python",
   "name": "python3"
  },
  "language_info": {
   "codemirror_mode": {
    "name": "ipython",
    "version": 3
   },
   "file_extension": ".py",
   "mimetype": "text/x-python",
   "name": "python",
   "nbconvert_exporter": "python",
   "pygments_lexer": "ipython3",
   "version": "3.7.3"
  },
  "pycharm": {
   "stem_cell": {
    "cell_type": "raw",
    "metadata": {
     "collapsed": false
    },
    "source": []
   }
  },
  "toc": {
   "base_numbering": 1,
   "nav_menu": {},
   "number_sections": true,
   "sideBar": true,
   "skip_h1_title": false,
   "title_cell": "Table of Contents",
   "title_sidebar": "Contents",
   "toc_cell": false,
   "toc_position": {},
   "toc_section_display": true,
   "toc_window_display": true
  }
 },
 "nbformat": 4,
 "nbformat_minor": 2
}
