{
 "cells": [
  {
   "cell_type": "markdown",
   "metadata": {
    "cell_style": "center",
    "toc": true
   },
   "source": [
    "<h1>Table of Contents<span class=\"tocSkip\"></span></h1>\n",
    "<div class=\"toc\"><ul class=\"toc-item\"><li><span><a href=\"#Preamble\" data-toc-modified-id=\"Preamble-1\"><span class=\"toc-item-num\">1&nbsp;&nbsp;</span>Preamble</a></span></li><li><span><a href=\"#Load-catalog\" data-toc-modified-id=\"Load-catalog-2\"><span class=\"toc-item-num\">2&nbsp;&nbsp;</span>Load catalog</a></span><ul class=\"toc-item\"><li><span><a href=\"#testing-catalog\" data-toc-modified-id=\"testing-catalog-2.1\"><span class=\"toc-item-num\">2.1&nbsp;&nbsp;</span>testing catalog</a></span></li><li><span><a href=\"#actual-catalog\" data-toc-modified-id=\"actual-catalog-2.2\"><span class=\"toc-item-num\">2.2&nbsp;&nbsp;</span>actual catalog</a></span></li></ul></li><li><span><a href=\"#Test-function\" data-toc-modified-id=\"Test-function-3\"><span class=\"toc-item-num\">3&nbsp;&nbsp;</span>Test function</a></span></li><li><span><a href=\"#Load-catalog-with-fsub\" data-toc-modified-id=\"Load-catalog-with-fsub-4\"><span class=\"toc-item-num\">4&nbsp;&nbsp;</span>Load catalog with fsub</a></span></li></ul></div>"
   ]
  },
  {
   "cell_type": "markdown",
   "metadata": {},
   "source": [
    "# Preamble"
   ]
  },
  {
   "cell_type": "code",
   "execution_count": null,
   "metadata": {},
   "outputs": [],
   "source": [
    "%load_ext autoreload\n",
    "%autoreload 2\n",
    "%aimport\n",
    "# %reload_ext autoreload\n",
    "\n",
    "import sys \n",
    "from os.path import abspath\n",
    "path = abspath('..')\n",
    "\n",
    "if path not in sys.path: \n",
    "    sys.path.insert(0, path)\n",
    "\n",
    "from src.frames import plots\n",
    "from src.utils import const\n",
    "from src.frames import catalogs\n",
    "from src.frames.params import get_fsub\n",
    "from src.frames.params import Param\n",
    "from src.visualization import plot_funcs\n",
    "from src.visualization import plots1\n",
    "\n",
    "import numpy as np\n",
    "import matplotlib.pyplot as plt "
   ]
  },
  {
   "cell_type": "markdown",
   "metadata": {},
   "source": [
    "# Load catalog"
   ]
  },
  {
   "cell_type": "markdown",
   "metadata": {},
   "source": [
    "## testing catalog "
   ]
  },
  {
   "cell_type": "code",
   "execution_count": null,
   "metadata": {},
   "outputs": [],
   "source": [
    "cat_file = const.data_path.joinpath('raw/bolshoi/hlist_0.07835.csv')\n",
    "test_hcat = catalogs.HaloCatalog(cat_file, \"Bolshoi\", verbose=True, subhalos=False, base_filters={})\n",
    "test_hcat.load_base_cat()"
   ]
  },
  {
   "cell_type": "code",
   "execution_count": null,
   "metadata": {},
   "outputs": [],
   "source": []
  },
  {
   "cell_type": "markdown",
   "metadata": {},
   "source": [
    "## actual catalog"
   ]
  },
  {
   "cell_type": "code",
   "execution_count": null,
   "metadata": {},
   "outputs": [],
   "source": [
    "out_file = const.data_path.joinpath('processed/bolshoi_base1.csv')"
   ]
  },
  {
   "cell_type": "code",
   "execution_count": null,
   "metadata": {},
   "outputs": [],
   "source": [
    "cat_file = const.data_path.joinpath('raw/bolshoi/hlist_1.00035.csv')\n",
    "hcat = catalogs.HaloCatalog(cat_file, \"Bolshoi\", verbose=True, subhalos=False)\n",
    "\n",
    "# load catalog \n",
    "hcat.load_base_cat()\n",
    "\n",
    "# save base cat for future use. \n",
    "hcat.save_base_cat(out_file)"
   ]
  },
  {
   "cell_type": "code",
   "execution_count": null,
   "metadata": {},
   "outputs": [],
   "source": [
    "#reload \n",
    "hcat = catalogs.HaloCatalog.create_from_saved_cat(out_file, \"Bolshoi\", verbose=True, subhalos=False)\n",
    "\n",
    "print(hcat.get_cat().colnames)\n",
    "print(\"number of MB being used as estimated in numpy: \", np.array(hcat.get_cat()).nbytes/1e6)"
   ]
  },
  {
   "cell_type": "markdown",
   "metadata": {},
   "source": [
    "# Test function "
   ]
  },
  {
   "cell_type": "code",
   "execution_count": null,
   "metadata": {},
   "outputs": [],
   "source": [
    "fsubs = get_fsub(test_hcat.get_cat())"
   ]
  },
  {
   "cell_type": "code",
   "execution_count": null,
   "metadata": {},
   "outputs": [],
   "source": [
    "cat = test_hcat.get_cat()\n",
    "cat[cat['upid'] != -1]\n",
    "cat[cat['id'] == 1576085]"
   ]
  },
  {
   "cell_type": "code",
   "execution_count": null,
   "metadata": {},
   "outputs": [],
   "source": [
    "#check that there is only one object that has that upid\n",
    "row1 = cat[cat['upid'] == 1576085]\n",
    "row2 = cat[cat['id']==1576085]\n",
    "row1['mvir']/row2['mvir']"
   ]
  },
  {
   "cell_type": "code",
   "execution_count": null,
   "metadata": {},
   "outputs": [],
   "source": [
    "fsubs[cat['id'] == 1576085]"
   ]
  },
  {
   "cell_type": "code",
   "execution_count": null,
   "metadata": {},
   "outputs": [],
   "source": [
    "#They agree! "
   ]
  },
  {
   "cell_type": "markdown",
   "metadata": {},
   "source": [
    "# Load catalog with fsub"
   ]
  },
  {
   "cell_type": "code",
   "execution_count": null,
   "metadata": {},
   "outputs": [],
   "source": [
    "out_file = const.data_path.joinpath('processed/bolshoi_base1.csv')"
   ]
  },
  {
   "cell_type": "code",
   "execution_count": null,
   "metadata": {},
   "outputs": [],
   "source": [
    "cat_file = const.data_path.joinpath('raw/bolshoi/hlist_1.00035.csv')\n",
    "hcat = catalogs.HaloCatalog(cat_file, \"Bolshoi\", verbose=True, subhalos=False)\n",
    "\n",
    "# load catalog \n",
    "hcat.load_base_cat()\n",
    "\n",
    "# # save base cat for future use. \n",
    "# hcat.save_base_cat(out_file)"
   ]
  },
  {
   "cell_type": "code",
   "execution_count": null,
   "metadata": {},
   "outputs": [],
   "source": []
  }
 ],
 "metadata": {
  "kernelspec": {
   "display_name": "Python 3",
   "language": "python",
   "name": "python3"
  },
  "language_info": {
   "codemirror_mode": {
    "name": "ipython",
    "version": 3
   },
   "file_extension": ".py",
   "mimetype": "text/x-python",
   "name": "python",
   "nbconvert_exporter": "python",
   "pygments_lexer": "ipython3",
   "version": "3.7.3"
  },
  "toc": {
   "base_numbering": 1,
   "nav_menu": {},
   "number_sections": true,
   "sideBar": true,
   "skip_h1_title": false,
   "title_cell": "Table of Contents",
   "title_sidebar": "Contents",
   "toc_cell": true,
   "toc_position": {
    "height": "calc(100% - 180px)",
    "left": "10px",
    "top": "150px",
    "width": "165px"
   },
   "toc_section_display": true,
   "toc_window_display": true
  }
 },
 "nbformat": 4,
 "nbformat_minor": 2
}
