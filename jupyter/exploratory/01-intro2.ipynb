{
 "cells": [
  {
   "cell_type": "code",
   "execution_count": null,
   "metadata": {},
   "outputs": [],
   "source": [
    "%matplotlib inline"
   ]
  },
  {
   "cell_type": "code",
   "execution_count": null,
   "metadata": {},
   "outputs": [],
   "source": [
    "import numpy as np\n",
    "import astropy\n",
    "from astropy.table import Table \n",
    "from scipy.stats import spearmanr\n",
    "import matplotlib.pyplot as plt"
   ]
  },
  {
   "cell_type": "code",
   "execution_count": null,
   "metadata": {},
   "outputs": [],
   "source": [
    "import warnings\n",
    "warnings.filterwarnings(\"ignore\")"
   ]
  },
  {
   "cell_type": "markdown",
   "metadata": {},
   "source": [
    "# preamble "
   ]
  },
  {
   "cell_type": "code",
   "execution_count": null,
   "metadata": {},
   "outputs": [],
   "source": [
    "def scatter_binning(x, y, nxbins=10, ax=None, title=None): \n",
    "    xs = np.linspace(np.min(x), np.max(x), nxbins)\n",
    "    xbbins = [(xs[i], xs[i+1]) for i in range(len(xs)-1)]\n",
    "    \n",
    "    masks = [((xbbin[0] < x) & ( x < xbbin[1])) for xbbin in xbbins]\n",
    "    binned_x = [x[mask] for mask in masks]\n",
    "    binned_y = [y[mask] for mask in masks]\n",
    "    \n",
    "    xmeds = [np.median(xbin) for xbin in binned_x]\n",
    "    ymeds = [np.median(ybin) for ybin in binned_y]\n",
    "    \n",
    "    xqs = np.array([[xmed - np.quantile(xbin, 0.25), np.quantile(xbin,0.75) - xmed] for (xmed,xbin) in zip(xmeds,binned_x)]).T\n",
    "    yqs = np.array([[ymed - np.quantile(ybin, 0.25), np.quantile(ybin,0.75) - ymed] for (ymed,ybin) in zip(ymeds,binned_y)]).T\n",
    "    \n",
    "    if ax is None:\n",
    "        plt.errorbar(xmeds, ymeds, xerr=xqs, yerr=yqs, fmt='ro--', capsize=10)\n",
    "    else: \n",
    "        ax.errorbar(xmeds, ymeds, xerr=xqs, yerr=yqs, fmt='ro--', capsize=10)\n",
    "        \n",
    "    if title is not None: \n",
    "        ax.set_title(title)"
   ]
  },
  {
   "cell_type": "code",
   "execution_count": null,
   "metadata": {},
   "outputs": [],
   "source": [
    "#functions I need to define myself. \n",
    "cvir = lambda cat: cat['rvir'] / cat['rs']\n",
    "phi_l = lambda cat: np.arccos(\n",
    "    ((cat['A[x]']*cat['Jx'] + cat['A[y]']*cat['Jy'] + cat['A[z]']*cat['Jz'])\n",
    "     /\n",
    "    (np.sqrt(cat['A[x]']**2 + cat['A[y]']**2 + cat['A[z]']**2)*np.sqrt(cat['Jx']**2 + cat['Jy']**2 + cat['Jz']**2) )\n",
    "    )\n",
    ")\n",
    "q = lambda cat: (1/2)*(cat['b_to_a'] + cat['c_to_a']);"
   ]
  },
  {
   "cell_type": "code",
   "execution_count": null,
   "metadata": {},
   "outputs": [],
   "source": [
    "#information about catalogue (https://www.cosmosim.org/cms/simulations/bolshoi/)\n",
    "particle_mass = 1.35e8\n",
    "total_particles = 2048**3 \n",
    "box_size = 250 #Mpc/h"
   ]
  },
  {
   "cell_type": "markdown",
   "metadata": {},
   "source": [
    "# read"
   ]
  },
  {
   "cell_type": "code",
   "execution_count": null,
   "metadata": {},
   "outputs": [],
   "source": [
    "from astropy.io import ascii"
   ]
  },
  {
   "cell_type": "code",
   "execution_count": null,
   "metadata": {},
   "outputs": [],
   "source": [
    "filename = '../data/hlist_1.00109.csv'"
   ]
  },
  {
   "cell_type": "code",
   "execution_count": null,
   "metadata": {},
   "outputs": [],
   "source": [
    "#100 Mb chunks of maximum memory in each iteration. \n",
    "#this returns a generator. \n",
    "tbls = ascii.read(filename, format='csv', guess=False,\n",
    "                 fast_reader={'chunk_size': 100 * 1000000, 'chunk_generator': True})"
   ]
  },
  {
   "cell_type": "code",
   "execution_count": null,
   "metadata": {},
   "outputs": [],
   "source": [
    "#params we actually care about and we include in our table. \n",
    "params = ['mvir', 'cvir' , 'T/|U|', 'Xoff', 'Voff', 'Spin', 'q', 'phi_l', 'Acc_Rate_Inst',\n",
    "          'Acc_Rate_1*Tdyn','scale_of_last_MM']\n"
   ]
  },
  {
   "cell_type": "code",
   "execution_count": null,
   "metadata": {},
   "outputs": [],
   "source": [
    "ftbls = [] \n",
    "for i, tbl in enumerate(tbls): \n",
    "    tbl.add_column(cvir(tbl), name='cvir')\n",
    "    tbl.add_column(phi_l(tbl), name='phi_l')\n",
    "    tbl.add_column(q(tbl), name='q')\n",
    "    \n",
    "    ftbls.append(tbl[params])\n",
    "    if i%10 ==0: \n",
    "        print(i)\n",
    "\n",
    "ftbl = astropy.table.vstack(ftbls)"
   ]
  },
  {
   "cell_type": "code",
   "execution_count": null,
   "metadata": {},
   "outputs": [],
   "source": [
    "#only look at things that have at least 1000 particles as several authors suggest. \n",
    "#others might be too noisy. \n",
    "cat = ftbl[ (np.log10(ftbl['mvir']) > 12) & \n",
    "          (ftbl['Spin'] != 0) &\n",
    "          (ftbl['q'] !=0)]"
   ]
  },
  {
   "cell_type": "markdown",
   "metadata": {
    "heading_collapsed": true
   },
   "source": [
    "# histograms"
   ]
  },
  {
   "cell_type": "code",
   "execution_count": null,
   "metadata": {
    "hidden": true
   },
   "outputs": [],
   "source": [
    "#mass\n",
    "plt.hist(np.log10(cat['mvir']), bins=50, histtype='step');"
   ]
  },
  {
   "cell_type": "code",
   "execution_count": null,
   "metadata": {
    "hidden": true
   },
   "outputs": [],
   "source": [
    "fig, axs = plt.subplots(4, 2, figsize=(10,12))\n",
    "params = ['mvir', 'cvir' , 'T/|U|', 'Xoff', 'Voff', 'Spin', 'q', 'phi_l']\n",
    "print('mean, median, and std of:')\n",
    "for param, ax in zip(params, axs.flatten()): \n",
    "    x = np.log10(cat[param]) \n",
    "    px = (x - np.mean(x))/ np.std(x)\n",
    "    ax.set_title(param)\n",
    "    ax.hist(px, histtype='step', bins=50)\n",
    "    print(f'{param}:', np.mean(x), np.median(x), np.std(x))\n",
    "\n",
    "fig.tight_layout() "
   ]
  },
  {
   "cell_type": "markdown",
   "metadata": {
    "heading_collapsed": true
   },
   "source": [
    "# Vanilla Scatters and Contours"
   ]
  },
  {
   "cell_type": "code",
   "execution_count": null,
   "metadata": {
    "hidden": true
   },
   "outputs": [],
   "source": [
    "#all masses in catalogue\n",
    "plt.scatter(cat['mvir'], cat['Xoff'], alpha=0.1)\n",
    "plt.xscale('log')\n",
    "plt.yscale('log')\n",
    "print(\"correlation:\", spearmanr(cat['mvir'], cat['Xoff'])[0])"
   ]
  },
  {
   "cell_type": "code",
   "execution_count": null,
   "metadata": {
    "hidden": true
   },
   "outputs": [],
   "source": [
    "from astroML.plotting import scatter_contour\n",
    "scatter_contour(np.log10(cat['mvir']), np.log10(cat['Xoff']), filled_contour=True, threshold=100, levels=10)"
   ]
  },
  {
   "cell_type": "markdown",
   "metadata": {},
   "source": [
    "# correlations"
   ]
  },
  {
   "cell_type": "code",
   "execution_count": null,
   "metadata": {},
   "outputs": [],
   "source": [
    "params = ['mvir', 'cvir' , 'T/|U|', 'Xoff', 'Voff', 'Spin', 'q', 'phi_l']"
   ]
  },
  {
   "cell_type": "code",
   "execution_count": null,
   "metadata": {},
   "outputs": [],
   "source": [
    "#prettier version. \n",
    "corrs = np.zeros((len(params), len(params)))\n",
    "for i,param1 in enumerate(params): \n",
    "    for j,param2 in enumerate(params):\n",
    "        corr, p = spearmanr(cat[param1], cat[param2])\n",
    "        corrs[i,j] = corr"
   ]
  },
  {
   "cell_type": "code",
   "execution_count": null,
   "metadata": {},
   "outputs": [],
   "source": [
    "fig, ax = plt.subplots(1,1,figsize=(8,8))\n",
    "mask =  np.tri(corrs.shape[0], k=-1)\n",
    "A = np.ma.array(corrs, mask=mask)\n",
    "im = ax.matshow(A,cmap='bwr',vmin=-1, vmax=1)\n",
    "plt.colorbar(im, ax = ax)\n",
    "ax.set_xticklabels(['']+params);\n",
    "ax.set_yticklabels(['']+params);"
   ]
  },
  {
   "cell_type": "code",
   "execution_count": null,
   "metadata": {},
   "outputs": [],
   "source": [
    "#print by hand. \n",
    "np.set_printoptions(threshold=100)\n",
    "print(params)\n",
    "corrs"
   ]
  },
  {
   "cell_type": "markdown",
   "metadata": {},
   "source": [
    "## Correlations between parameters, graphically"
   ]
  },
  {
   "cell_type": "code",
   "execution_count": null,
   "metadata": {},
   "outputs": [],
   "source": [
    "fig, axs = plt.subplots(1,3, figsize=(20,10))\n",
    "\n",
    "scatter_binning(np.log10(cat['Xoff']), np.log10(cat['T/|U|']), nxbins=10, ax=axs[0], title='xoff and T/U')\n",
    "\n",
    "scatter_binning(np.log10(cat['mvir']), np.log10(cat['T/|U|']), nxbins=10, ax=axs[1], title='mvir and T/U')\n",
    "\n",
    "scatter_binning(np.log10(cat['mvir']), np.log10(cat['Xoff']), nxbins=10, ax=axs[2], title='mvir and xoff')\n"
   ]
  },
  {
   "cell_type": "markdown",
   "metadata": {
    "heading_collapsed": true
   },
   "source": [
    "# PCA "
   ]
  },
  {
   "cell_type": "code",
   "execution_count": null,
   "metadata": {
    "hidden": true
   },
   "outputs": [],
   "source": [
    "from sklearn.decomposition import PCA"
   ]
  },
  {
   "cell_type": "code",
   "execution_count": null,
   "metadata": {
    "hidden": true
   },
   "outputs": [],
   "source": [
    "params = ['mvir', 'cvir','Spin', 'q','phi_l', 'Xoff', 'T/|U|'\n",
    "         ]"
   ]
  },
  {
   "cell_type": "code",
   "execution_count": null,
   "metadata": {
    "hidden": true
   },
   "outputs": [],
   "source": [
    "pca = PCA(n_components=4)"
   ]
  },
  {
   "cell_type": "code",
   "execution_count": null,
   "metadata": {
    "hidden": true
   },
   "outputs": [],
   "source": [
    "#normalize and take log.\n",
    "#cuts on mass >= 12 once we get z= 0 catalogue and different fixed mass regimes too.  \n",
    "# remove extreme outliers too. \n",
    "X = np.zeros((len(params), len(cat['mvir'])))\n",
    "for i, param in enumerate(params): \n",
    "    x = np.log10(cat[param])\n",
    "    px = (x - np.mean(x))/ np.std(x)\n",
    "    X[i] = px \n",
    "    "
   ]
  },
  {
   "cell_type": "code",
   "execution_count": null,
   "metadata": {
    "hidden": true
   },
   "outputs": [],
   "source": [
    "pca.fit(X.T)"
   ]
  },
  {
   "cell_type": "code",
   "execution_count": null,
   "metadata": {
    "hidden": true
   },
   "outputs": [],
   "source": [
    "np.set_printoptions(threshold=50)\n",
    "print(params)\n",
    "print('singular values:', pca.singular_values_)\n",
    "print('explained variance ratio:', pca.explained_variance_ratio_)  \n",
    "print('components \\n ', pca.components_)"
   ]
  },
  {
   "cell_type": "markdown",
   "metadata": {},
   "source": [
    "# dynamical comparisons "
   ]
  },
  {
   "cell_type": "markdown",
   "metadata": {},
   "source": [
    "Useful to compare to the Power et al. 2011 paper"
   ]
  },
  {
   "cell_type": "code",
   "execution_count": null,
   "metadata": {},
   "outputs": [],
   "source": [
    "params = ['mvir', 'cvir' , 'T/|U|', 'Xoff', 'Voff', 'Spin', 'q', 'phi_l', 'Acc_Rate_Inst',\n",
    "          'Acc_Rate_1*Tdyn','Acc_Rate_2*Tdyn']"
   ]
  },
  {
   "cell_type": "code",
   "execution_count": null,
   "metadata": {},
   "outputs": [],
   "source": [
    "#not sure what Halfmass_Scale corresponds to but maybe inverse of (1+zform)^(-1)? \n",
    "fig, ax = plt.subplots(1,1,figsize=(8,8))\n",
    "scatter_binning(np.log10(cat['mvir']), cat['cvir'], ax = ax, title='mass and concentration')\n",
    "plt.title('mass and concentration')"
   ]
  },
  {
   "cell_type": "code",
   "execution_count": null,
   "metadata": {},
   "outputs": [],
   "source": [
    "fig, axs = plt.subplots(1,2,figsize=(20,10))\n",
    "\n",
    "scatter_binning(np.log10(cat['mvir']), cat['Acc_Rate_1*Tdyn'], title='mvir and Acc_Rate_1*Tdyn' ,ax=axs[0])\n",
    "axs[0].set_yscale('log')\n",
    "\n",
    "scatter_binning(np.log10(cat['mvir']), cat['Acc_Rate_Inst'], title='mvir and Acc_Rate_Inst', ax=axs[1])\n",
    "axs[1].set_yscale('log')\n",
    "# scatter_binning(np.log10(cat['mvir']), np.log10(cat['Acc_Rate_1*Tdyn']) )"
   ]
  },
  {
   "cell_type": "code",
   "execution_count": null,
   "metadata": {},
   "outputs": [],
   "source": [
    "fig, axs = plt.subplots(2,2,figsize=(20,10))\n",
    "axes = axs.flatten()\n",
    "scatter_binning(np.log10(cat['Xoff']), cat['Acc_Rate_1*Tdyn'], title='Xoff and Acc_Rate_1*Tdyn' ,ax=axes[0], nxbins=20)\n",
    "axes[0].set_yscale('log')\n",
    "\n",
    "scatter_binning(np.log10(cat['Xoff']), cat['Acc_Rate_Inst'], title='Xoff and Acc_Rate_Inst', ax=axes[1], nxbins=20)\n",
    "axes[1].set_yscale('log')\n",
    "\n",
    "scatter_binning(np.log10(cat['T/|U|']), cat['Acc_Rate_1*Tdyn'], title='Eta and Acc_Rate_1*Tdyn' ,ax=axes[2], nxbins=15)\n",
    "axes[2].set_yscale('log')\n",
    "\n",
    "scatter_binning(np.log10(cat['T/|U|']), cat['Acc_Rate_Inst'], title='Eta and Acc_Rate_Inst', ax=axes[3], nxbins=15)\n",
    "axes[3].set_yscale('log')\n",
    "# scatter_binning(np.log10(cat['mvir']), np.log10(cat['Acc_Rate_1*Tdyn']) )"
   ]
  },
  {
   "cell_type": "code",
   "execution_count": null,
   "metadata": {},
   "outputs": [],
   "source": [
    "fig, axs = plt.subplots(1,2,figsize=(20,10))\n",
    "axes = axs.flatten()\n",
    "\n",
    "scatter_binning( cat['scale_of_last_MM'], np.log10(cat['Xoff']), title='scale_of_last_MM and Xoff' ,ax=axes[0], nxbins=10)\n",
    "\n",
    "scatter_binning( cat['scale_of_last_MM'], np.log10(cat['T/|U|']), title='scale_of_last_MM and Eta' ,ax=axes[1], nxbins=10)\n"
   ]
  },
  {
   "cell_type": "code",
   "execution_count": null,
   "metadata": {},
   "outputs": [],
   "source": []
  },
  {
   "cell_type": "code",
   "execution_count": null,
   "metadata": {},
   "outputs": [],
   "source": [
    "#ToDo: \n",
    "    #look at statistical errors of these correlations? \n",
    "    #need a way of identifying outliers of one parameters and obtaining the halo id? \n",
    "    #framework for making all this preprocessing really easy and under-the-hood. \n",
    "    # maybe try to look at relaxed halos or dynamical properties? "
   ]
  }
 ],
 "metadata": {
  "kernelspec": {
   "display_name": "Python 3",
   "language": "python",
   "name": "python3"
  },
  "language_info": {
   "codemirror_mode": {
    "name": "ipython",
    "version": 3
   },
   "file_extension": ".py",
   "mimetype": "text/x-python",
   "name": "python",
   "nbconvert_exporter": "python",
   "pygments_lexer": "ipython3",
   "version": "3.7.3"
  },
  "toc": {
   "base_numbering": 1,
   "nav_menu": {
    "height": "163px",
    "width": "239px"
   },
   "number_sections": true,
   "sideBar": true,
   "skip_h1_title": false,
   "title_cell": "Table of Contents",
   "title_sidebar": "Contents",
   "toc_cell": false,
   "toc_position": {
    "height": "calc(100% - 180px)",
    "left": "10px",
    "top": "150px",
    "width": "187.646px"
   },
   "toc_section_display": true,
   "toc_window_display": true
  }
 },
 "nbformat": 4,
 "nbformat_minor": 2
}
