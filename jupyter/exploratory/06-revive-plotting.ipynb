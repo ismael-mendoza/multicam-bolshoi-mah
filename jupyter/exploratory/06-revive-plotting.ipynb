{
 "cells": [
  {
   "cell_type": "markdown",
   "metadata": {},
   "source": [
    "# Preamble "
   ]
  },
  {
   "cell_type": "code",
   "execution_count": null,
   "metadata": {},
   "outputs": [],
   "source": [
    "import astropy"
   ]
  },
  {
   "cell_type": "code",
   "execution_count": null,
   "metadata": {},
   "outputs": [],
   "source": [
    "%load_ext autoreload\n",
    "%autoreload 2\n",
    "%aimport\n",
    "# %reload_ext autoreload\n",
    "\n",
    "import sys \n",
    "from os.path import abspath\n",
    "paths = [abspath('../..'), \"/home/imendoza/alcca/nbody-relaxed/packages/minnow\"]\n",
    "\n",
    "for path in paths: \n",
    "    if path not in sys.path: \n",
    "        sys.path.insert(0, path)\n",
    "\n",
    "from pathlib import Path\n",
    "import numpy as np\n",
    "import matplotlib.pyplot as plt \n",
    "import re \n",
    "from astropy.table import Table\n",
    "import astropy.table\n",
    "\n",
    "from relaxed import utils \n",
    "from relaxed.frames import params, catalogs, filters\n",
    "from relaxed.progenitors import progenitors"
   ]
  },
  {
   "cell_type": "code",
   "execution_count": null,
   "metadata": {},
   "outputs": [],
   "source": [
    "from matplotlib.backends.backend_pdf import PdfPages"
   ]
  },
  {
   "cell_type": "code",
   "execution_count": null,
   "metadata": {},
   "outputs": [],
   "source": [
    "%matplotlib inline"
   ]
  },
  {
   "cell_type": "code",
   "execution_count": null,
   "metadata": {},
   "outputs": [],
   "source": [
    "prog_file = '/home/imendoza/alcca/nbody-relaxed/data/trees_bolshoi/progenitors.txt'\n",
    "prog_generator = progenitors.get_prog_lines_generator(prog_file)\n",
    "# there are like 382474 main lines (in the filtered version)"
   ]
  },
  {
   "cell_type": "code",
   "execution_count": null,
   "metadata": {},
   "outputs": [],
   "source": [
    "# produced by --summary option from a /bin file \n",
    "prog_table_file = '/home/imendoza/alcca/nbody-relaxed/data/trees_bolshoi/progenitors.csv'\n",
    "pcat = Table.read(prog_table_file)"
   ]
  },
  {
   "cell_type": "code",
   "execution_count": null,
   "metadata": {},
   "outputs": [],
   "source": [
    "#load catalog we know and love (kindof)\n",
    "# produced by --summary option from a /bin file \n",
    "prog_table_file = '/home/imendoza/alcca/nbody-relaxed/data/trees_bolshoi/progenitors.csv'\n",
    "cat_filepath = Path('/home/imendoza/alcca/nbody-relaxed/data/Bolshoi/'\n",
    "                    'minh/hlist_1.00035.minh')\n",
    "name = 'BolshoiP'\n",
    "hcat = catalogs.HaloCatalog(cat_filepath, name, verbose=True, add_subhalo=True, add_progenitor=prog_table_file)\n",
    "hcat.load_base_cat()\n",
    "cat = hcat._cat"
   ]
  },
  {
   "cell_type": "markdown",
   "metadata": {},
   "source": [
    "# Prepare additional catalogs "
   ]
  },
  {
   "cell_type": "code",
   "execution_count": null,
   "metadata": {},
   "outputs": [],
   "source": [
    "from relaxed.visualize import plots1"
   ]
  },
  {
   "cell_type": "code",
   "execution_count": null,
   "metadata": {},
   "outputs": [],
   "source": [
    "#declare additional catalogs, all are of course automatically loaded when created in this way\n",
    "colors = ['r','b', 'g']\n",
    "\n",
    "print('total: ', len(hcat))\n",
    "\n",
    "log_func = lambda x: np.log10(x)\n",
    "hcat_m11 = catalogs.HaloCatalog.create_filtered_from_base(hcat, \n",
    "                                                          filters.get_bound_filter('mvir',high=11.22, modifier=log_func), \n",
    "                                                          label=\"M11\")\n",
    "hcat_m12 = catalogs.HaloCatalog.create_filtered_from_base(hcat, \n",
    "                                                          filters.get_bound_filter('mvir',12,12.2, modifier=log_func),\n",
    "                                                          label=\"M12\")\n",
    "hcat_m13 = catalogs.HaloCatalog.create_filtered_from_base(hcat, \n",
    "                                                          filters.get_bound_filter('mvir',13, 14, modifier=log_func),\n",
    "                                                          label=\"M13\")\n",
    "\n",
    "print(len(hcat_m11), len(hcat_m12), len(hcat_m13))\n",
    "# 500 haloes are so > 13.75 \n",
    "\n",
    "power_cat = catalogs.HaloCatalog.create_relaxed_from_base(hcat, 'power2011')\n",
    "neto_cat = catalogs.HaloCatalog.create_relaxed_from_base(hcat, 'neto2007')\n",
    "print(len(power_cat), len(neto_cat))"
   ]
  },
  {
   "cell_type": "code",
   "execution_count": null,
   "metadata": {},
   "outputs": [],
   "source": [
    "out='test1.pdf'\n",
    "plt.rc(\"text\", usetex=True)\n",
    "hcats1 = [hcat, power_cat, neto_cat]\n",
    "hcats2 = [hcat_m11, hcat_m12, hcat_m13]\n",
    "colors = ['r', 'b', 'g']\n",
    "\n",
    "# with PdfPages(utils.figure_path.joinpath(out)) as pdf:\n",
    "#     plots1.plot_with_mass1(hcats1, None, colors)\n",
    "#     plots1.plot_mean_centered_hists(hcats2, None, colors) \n",
    "#     plots1.plot_correlation_matrix_basic(hcats2, None)\n",
    "plots1.plot_decades_basic(hcats2, None, colors=colors)\n"
   ]
  },
  {
   "cell_type": "code",
   "execution_count": null,
   "metadata": {},
   "outputs": [],
   "source": []
  }
 ],
 "metadata": {
  "kernelspec": {
   "display_name": "Python 3",
   "language": "python",
   "name": "python3"
  },
  "language_info": {
   "codemirror_mode": {
    "name": "ipython",
    "version": 3
   },
   "file_extension": ".py",
   "mimetype": "text/x-python",
   "name": "python",
   "nbconvert_exporter": "python",
   "pygments_lexer": "ipython3",
   "version": "3.7.3"
  }
 },
 "nbformat": 4,
 "nbformat_minor": 2
}
