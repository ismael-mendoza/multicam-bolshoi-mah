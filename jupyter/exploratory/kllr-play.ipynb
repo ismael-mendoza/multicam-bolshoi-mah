{
 "cells": [
  {
   "cell_type": "markdown",
   "id": "17b74f7e-5aa4-468f-8f03-4bc7d0dc33af",
   "metadata": {},
   "source": [
    "## KLLR play"
   ]
  },
  {
   "cell_type": "code",
   "execution_count": 94,
   "id": "5e606f95-5479-4866-a14f-31789eceef32",
   "metadata": {},
   "outputs": [],
   "source": [
    "import kllr"
   ]
  },
  {
   "cell_type": "code",
   "execution_count": 95,
   "id": "5f569240-d121-4910-9bd5-2c1c38fb413d",
   "metadata": {},
   "outputs": [
    {
     "data": {
      "text/plain": [
       "4.589772942347651"
      ]
     },
     "execution_count": 95,
     "metadata": {},
     "output_type": "execute_result"
    }
   ],
   "source": [
    "np.log(cvir_train).max()"
   ]
  },
  {
   "cell_type": "code",
   "execution_count": 101,
   "id": "fedd6eb0-6eb4-4c51-b6a5-dedafec0a3ce",
   "metadata": {},
   "outputs": [
    {
     "ename": "ValueError",
     "evalue": "Incompatible dimension for X. X  should be one dimensional numpy array,: len(X.shape) = 2.",
     "output_type": "error",
     "traceback": [
      "\u001b[0;31m---------------------------------------------------------------------------\u001b[0m",
      "\u001b[0;31mValueError\u001b[0m                                Traceback (most recent call last)",
      "\u001b[0;32m<ipython-input-101-3f1ade5c84e0>\u001b[0m in \u001b[0;36m<module>\u001b[0;34m\u001b[0m\n\u001b[1;32m      1\u001b[0m \u001b[0mlm\u001b[0m \u001b[0;34m=\u001b[0m \u001b[0mkllr\u001b[0m\u001b[0;34m.\u001b[0m\u001b[0mkllr_model\u001b[0m\u001b[0;34m(\u001b[0m\u001b[0mkernel_type\u001b[0m \u001b[0;34m=\u001b[0m \u001b[0;34m'gaussian'\u001b[0m\u001b[0;34m,\u001b[0m \u001b[0mkernel_width\u001b[0m \u001b[0;34m=\u001b[0m \u001b[0;36m0.2\u001b[0m\u001b[0;34m)\u001b[0m \u001b[0;31m# local linear regression model\u001b[0m\u001b[0;34m\u001b[0m\u001b[0;34m\u001b[0m\u001b[0m\n\u001b[0;32m----> 2\u001b[0;31m \u001b[0mx\u001b[0m\u001b[0;34m,\u001b[0m \u001b[0my_exp\u001b[0m\u001b[0;34m,\u001b[0m \u001b[0mintercept_exp\u001b[0m\u001b[0;34m,\u001b[0m \u001b[0mslope_exp\u001b[0m\u001b[0;34m,\u001b[0m \u001b[0mscatter_exp\u001b[0m \u001b[0;34m=\u001b[0m \u001b[0mlm\u001b[0m\u001b[0;34m.\u001b[0m\u001b[0mfit\u001b[0m\u001b[0;34m(\u001b[0m\u001b[0mlam_train\u001b[0m\u001b[0;34m,\u001b[0m \u001b[0mnp\u001b[0m\u001b[0;34m.\u001b[0m\u001b[0mlog\u001b[0m\u001b[0;34m(\u001b[0m\u001b[0mcvir_train\u001b[0m\u001b[0;34m)\u001b[0m\u001b[0;34m,\u001b[0m \u001b[0mxrange\u001b[0m\u001b[0;34m=\u001b[0m\u001b[0;34m[\u001b[0m\u001b[0;36m0\u001b[0m\u001b[0;34m,\u001b[0m \u001b[0;36m5\u001b[0m\u001b[0;34m]\u001b[0m\u001b[0;34m,\u001b[0m \u001b[0mnbins\u001b[0m\u001b[0;34m=\u001b[0m\u001b[0;36m11\u001b[0m\u001b[0;34m)\u001b[0m\u001b[0;34m\u001b[0m\u001b[0;34m\u001b[0m\u001b[0m\n\u001b[0m",
      "\u001b[0;32m~/miniconda3/envs/relaxed/lib/python3.8/site-packages/kllr/regression_model.py\u001b[0m in \u001b[0;36mfit\u001b[0;34m(self, x, y, xrange, nbins, kernel_type, kernel_width)\u001b[0m\n\u001b[1;32m    620\u001b[0m         \u001b[0;32mfor\u001b[0m \u001b[0mi\u001b[0m \u001b[0;32min\u001b[0m \u001b[0mrange\u001b[0m\u001b[0;34m(\u001b[0m\u001b[0mlen\u001b[0m\u001b[0;34m(\u001b[0m\u001b[0mxline\u001b[0m\u001b[0;34m)\u001b[0m\u001b[0;34m)\u001b[0m\u001b[0;34m:\u001b[0m\u001b[0;34m\u001b[0m\u001b[0;34m\u001b[0m\u001b[0m\n\u001b[1;32m    621\u001b[0m             \u001b[0;31m# Generate weights at that sample point\u001b[0m\u001b[0;34m\u001b[0m\u001b[0;34m\u001b[0m\u001b[0;34m\u001b[0m\u001b[0m\n\u001b[0;32m--> 622\u001b[0;31m             \u001b[0mw\u001b[0m \u001b[0;34m=\u001b[0m \u001b[0mcalculate_weigth\u001b[0m\u001b[0;34m(\u001b[0m\u001b[0mx\u001b[0m\u001b[0;34m,\u001b[0m \u001b[0mkernel_type\u001b[0m\u001b[0;34m=\u001b[0m\u001b[0mself\u001b[0m\u001b[0;34m.\u001b[0m\u001b[0mkernel_type\u001b[0m\u001b[0;34m,\u001b[0m \u001b[0mmu\u001b[0m\u001b[0;34m=\u001b[0m\u001b[0mxline\u001b[0m\u001b[0;34m[\u001b[0m\u001b[0mi\u001b[0m\u001b[0;34m]\u001b[0m\u001b[0;34m,\u001b[0m \u001b[0mwidth\u001b[0m\u001b[0;34m=\u001b[0m\u001b[0mself\u001b[0m\u001b[0;34m.\u001b[0m\u001b[0mkernel_width\u001b[0m\u001b[0;34m)\u001b[0m\u001b[0;34m\u001b[0m\u001b[0;34m\u001b[0m\u001b[0m\n\u001b[0m\u001b[1;32m    623\u001b[0m             \u001b[0;31m# Compute fit params using linear regressions\u001b[0m\u001b[0;34m\u001b[0m\u001b[0;34m\u001b[0m\u001b[0;34m\u001b[0m\u001b[0m\n\u001b[1;32m    624\u001b[0m             \u001b[0mintercept_exp\u001b[0m\u001b[0;34m[\u001b[0m\u001b[0mi\u001b[0m\u001b[0;34m]\u001b[0m\u001b[0;34m,\u001b[0m \u001b[0mslope_exp\u001b[0m\u001b[0;34m[\u001b[0m\u001b[0mi\u001b[0m\u001b[0;34m]\u001b[0m\u001b[0;34m,\u001b[0m \u001b[0mscatter_exp\u001b[0m\u001b[0;34m[\u001b[0m\u001b[0mi\u001b[0m\u001b[0;34m]\u001b[0m \u001b[0;34m=\u001b[0m \u001b[0mself\u001b[0m\u001b[0;34m.\u001b[0m\u001b[0mlinear_regression\u001b[0m\u001b[0;34m(\u001b[0m\u001b[0mx\u001b[0m\u001b[0;34m,\u001b[0m \u001b[0my\u001b[0m\u001b[0;34m,\u001b[0m \u001b[0mweight\u001b[0m\u001b[0;34m=\u001b[0m\u001b[0mw\u001b[0m\u001b[0;34m)\u001b[0m\u001b[0;34m\u001b[0m\u001b[0;34m\u001b[0m\u001b[0m\n",
      "\u001b[0;32m~/miniconda3/envs/relaxed/lib/python3.8/site-packages/kllr/regression_model.py\u001b[0m in \u001b[0;36mcalculate_weigth\u001b[0;34m(x, kernel_type, mu, width)\u001b[0m\n\u001b[1;32m    121\u001b[0m \u001b[0;34m\u001b[0m\u001b[0m\n\u001b[1;32m    122\u001b[0m     \u001b[0;32mif\u001b[0m \u001b[0mlen\u001b[0m\u001b[0;34m(\u001b[0m\u001b[0mx\u001b[0m\u001b[0;34m.\u001b[0m\u001b[0mshape\u001b[0m\u001b[0;34m)\u001b[0m \u001b[0;34m>\u001b[0m \u001b[0;36m1\u001b[0m\u001b[0;34m:\u001b[0m\u001b[0;34m\u001b[0m\u001b[0;34m\u001b[0m\u001b[0m\n\u001b[0;32m--> 123\u001b[0;31m         raise ValueError(\n\u001b[0m\u001b[1;32m    124\u001b[0m             \u001b[0;34m\"Incompatible dimension for X. X  should be one dimensional numpy array,\"\u001b[0m\u001b[0;34m\u001b[0m\u001b[0;34m\u001b[0m\u001b[0m\n\u001b[1;32m    125\u001b[0m             \": len(X.shape) = %i.\" % (len(x.shape)))\n",
      "\u001b[0;31mValueError\u001b[0m: Incompatible dimension for X. X  should be one dimensional numpy array,: len(X.shape) = 2."
     ]
    }
   ],
   "source": [
    "lm = kllr.kllr_model(kernel_type = 'gaussian', kernel_width = 0.2) # local linear regression model\n",
    "x, y_exp, intercept_exp, slope_exp, scatter_exp = lm.fit(lam_train, np.log(cvir_train), xrange=[0, 5], nbins=11)"
   ]
  },
  {
   "cell_type": "code",
   "execution_count": 98,
   "id": "96feeb7c-b41b-4ba0-880b-6cdc35cc90da",
   "metadata": {},
   "outputs": [],
   "source": [
    "residuals = lm.calculate_residual(lam_test[:, 69], np.log(cvir_test))"
   ]
  },
  {
   "cell_type": "code",
   "execution_count": 100,
   "id": "65324dc7-11e5-4604-8b41-e7fc7ff41d36",
   "metadata": {},
   "outputs": [
    {
     "data": {
      "text/plain": [
       "(array([  1.,   1.,   0.,   1.,   6.,   6.,  10.,  22.,  30.,  61., 129.,\n",
       "        191., 268., 352., 359., 385., 399., 295., 266., 153.,  85.,  40.,\n",
       "         27.,  16.,   8.,   3.,   3.,   1.,   0.,   1.]),\n",
       " array([-4.82911806, -4.51428984, -4.19946161, -3.88463338, -3.56980516,\n",
       "        -3.25497693, -2.9401487 , -2.62532048, -2.31049225, -1.99566403,\n",
       "        -1.6808358 , -1.36600757, -1.05117935, -0.73635112, -0.42152289,\n",
       "        -0.10669467,  0.20813356,  0.52296179,  0.83779001,  1.15261824,\n",
       "         1.46744646,  1.78227469,  2.09710292,  2.41193114,  2.72675937,\n",
       "         3.0415876 ,  3.35641582,  3.67124405,  3.98607228,  4.3009005 ,\n",
       "         4.61572873]),\n",
       " <BarContainer object of 30 artists>)"
      ]
     },
     "execution_count": 100,
     "metadata": {},
     "output_type": "execute_result"
    },
    {
     "data": {
      "image/png": "[encoded data removed]",
      "text/plain": [
       "<Figure size 432x288 with 1 Axes>"
      ]
     },
     "metadata": {
      "needs_background": "light"
     },
     "output_type": "display_data"
    }
   ],
   "source": [
    "plt.hist(residuals, bins=30)"
   ]
  },
  {
   "cell_type": "code",
   "execution_count": null,
   "id": "cb0a31bf-a71e-4a68-a1e5-c3140bab3bd7",
   "metadata": {},
   "outputs": [],
   "source": []
  }
 ],
 "metadata": {
  "kernelspec": {
   "display_name": "Python 3",
   "language": "python",
   "name": "python3"
  },
  "language_info": {
   "codemirror_mode": {
    "name": "ipython",
    "version": 3
   },
   "file_extension": ".py",
   "mimetype": "text/x-python",
   "name": "python",
   "nbconvert_exporter": "python",
   "pygments_lexer": "ipython3",
   "version": "3.8.8"
  }
 },
 "nbformat": 4,
 "nbformat_minor": 5
}
