{
 "cells": [
  {
   "cell_type": "code",
   "execution_count": 2,
   "id": "85e061ff-d992-4c38-a25b-41b169405d7a",
   "metadata": {},
   "outputs": [
    {
     "name": "stdout",
     "output_type": "stream",
     "text": [
      "Modules to reload:\n",
      "all-except-skipped\n",
      "\n",
      "Modules to skip:\n",
      "\n"
     ]
    }
   ],
   "source": [
    "%load_ext autoreload\n",
    "%autoreload 2\n",
    "%aimport"
   ]
  },
  {
   "cell_type": "code",
   "execution_count": 3,
   "id": "52d865f8-0f06-4fb6-a938-2f60604f8a5b",
   "metadata": {},
   "outputs": [],
   "source": [
    "%matplotlib inline"
   ]
  },
  {
   "cell_type": "code",
   "execution_count": 4,
   "id": "07c425a2-569f-4434-80b1-93586785a4b8",
   "metadata": {},
   "outputs": [],
   "source": [
    "from relaxed.plot_defaults import *"
   ]
  },
  {
   "cell_type": "code",
   "execution_count": 5,
   "id": "4b361419-a567-4433-bdda-4ff1fb601a09",
   "metadata": {},
   "outputs": [],
   "source": [
    "import astropy\n",
    "from pathlib import Path\n",
    "import numpy as np\n",
    "import matplotlib.pyplot as plt \n",
    "import re \n",
    "from astropy.table import Table\n",
    "import astropy.table\n",
    "import json\n",
    "from scipy import stats\n",
    "from copy import deepcopy\n",
    "import scipy\n",
    "import warnings\n",
    "\n",
    "import matplotlib as mpl\n",
    "from sklearn.model_selection import train_test_split\n",
    "\n"
   ]
  },
  {
   "cell_type": "code",
   "execution_count": 6,
   "id": "ab4ea468-c563-48ff-8131-3f1aef65e4e1",
   "metadata": {},
   "outputs": [],
   "source": [
    "from relaxed.analysis import setup, get_quantiles, gaussian_conditional, get_am, get_a2_from_am, get_lam"
   ]
  },
  {
   "cell_type": "markdown",
   "id": "2eff989e-fa42-48e5-b455-3d8f792a62b6",
   "metadata": {},
   "source": [
    "# Data"
   ]
  },
  {
   "cell_type": "code",
   "execution_count": 7,
   "id": "d4821995-e08d-45f7-8b22-a74e741f77c0",
   "metadata": {},
   "outputs": [],
   "source": [
    "# catalog\n",
    "hcat, indices, scales = setup('m11', path='../../output')\n",
    "\n",
    "# obtain a_m\n",
    "am, mass_bins = get_am('m11', min_mass=0.1, path='../../output')"
   ]
  },
  {
   "cell_type": "markdown",
   "id": "19d8f649-ec55-4108-a56a-5457d7808d43",
   "metadata": {},
   "source": [
    "# Calculate gradients"
   ]
  },
  {
   "cell_type": "code",
   "execution_count": 10,
   "id": "735da10e-a60c-48a4-b5b2-fbefc971a8a1",
   "metadata": {},
   "outputs": [
    {
     "data": {
      "text/plain": [
       "(100,)"
      ]
     },
     "execution_count": 10,
     "metadata": {},
     "output_type": "execute_result"
    }
   ],
   "source": [
    "mass_bins.shape"
   ]
  },
  {
   "cell_type": "code",
   "execution_count": 9,
   "id": "ce8ca222-f170-4642-b4b7-8c727b61b9f2",
   "metadata": {},
   "outputs": [
    {
     "data": {
      "text/plain": [
       "(10000, 100)"
      ]
     },
     "execution_count": 9,
     "metadata": {},
     "output_type": "execute_result"
    }
   ],
   "source": [
    "am.shape"
   ]
  },
  {
   "cell_type": "code",
   "execution_count": 11,
   "id": "6874f5f8-f26c-4a49-b538-e2131f2e25a7",
   "metadata": {},
   "outputs": [],
   "source": [
    "# no smoothing\n",
    "gammas = [] \n",
    "for i in range(1, len(mass_bins)):\n",
    "    DeltaLogM = np.log(mass_bins[i]) - np.log(mass_bins[i-1])\n",
    "    DeltaA = am[:, i] - am[:, i-1]\n",
    "    gamma = DeltaLogM.reshape(1) / DeltaA.reshape(-1)\n",
    "    gammas.append(gamma)\n",
    "gammas = np.array(gammas).reshape(-1, 99)"
   ]
  },
  {
   "cell_type": "code",
   "execution_count": 16,
   "id": "8f7afb65-7c94-41a8-ab35-f946cedbfaa2",
   "metadata": {},
   "outputs": [
    {
     "data": {
      "text/plain": [
       "(array([3.590e+03, 2.005e+03, 1.332e+03, 8.690e+02, 5.830e+02, 4.190e+02,\n",
       "        2.750e+02, 2.090e+02, 1.390e+02, 9.200e+01, 7.100e+01, 7.000e+01,\n",
       "        2.900e+01, 2.800e+01, 1.200e+01, 1.500e+01, 1.600e+01, 1.900e+01,\n",
       "        2.300e+01, 1.000e+01, 1.600e+01, 8.000e+00, 1.300e+01, 1.200e+01,\n",
       "        6.000e+00, 6.000e+00, 3.000e+00, 3.000e+00, 8.000e+00, 3.000e+00]),\n",
       " array([  0.        ,   6.66666667,  13.33333333,  20.        ,\n",
       "         26.66666667,  33.33333333,  40.        ,  46.66666667,\n",
       "         53.33333333,  60.        ,  66.66666667,  73.33333333,\n",
       "         80.        ,  86.66666667,  93.33333333, 100.        ,\n",
       "        106.66666667, 113.33333333, 120.        , 126.66666667,\n",
       "        133.33333333, 140.        , 146.66666667, 153.33333333,\n",
       "        160.        , 166.66666667, 173.33333333, 180.        ,\n",
       "        186.66666667, 193.33333333, 200.        ]),\n",
       " <BarContainer object of 30 artists>)"
      ]
     },
     "execution_count": 16,
     "metadata": {},
     "output_type": "execute_result"
    },
    {
     "data": {
      "image/png": "[encoded data removed]",
      "text/plain": [
       "<Figure size 720x720 with 1 Axes>"
      ]
     },
     "metadata": {
      "needs_background": "light"
     },
     "output_type": "display_data"
    }
   ],
   "source": [
    "plt.hist(gammas[:, 50], bins=30, range=(0, 200))"
   ]
  },
  {
   "cell_type": "code",
   "execution_count": null,
   "id": "ce28219e-86cb-4676-a528-b6aa86606e7c",
   "metadata": {},
   "outputs": [],
   "source": []
  }
 ],
 "metadata": {
  "kernelspec": {
   "display_name": "Python 3",
   "language": "python",
   "name": "python3"
  },
  "language_info": {
   "codemirror_mode": {
    "name": "ipython",
    "version": 3
   },
   "file_extension": ".py",
   "mimetype": "text/x-python",
   "name": "python",
   "nbconvert_exporter": "python",
   "pygments_lexer": "ipython3",
   "version": "3.8.8"
  }
 },
 "nbformat": 4,
 "nbformat_minor": 5
}
