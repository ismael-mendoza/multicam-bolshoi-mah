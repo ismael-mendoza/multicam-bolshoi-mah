{
 "cells": [
  {
   "cell_type": "code",
   "execution_count": 1,
   "metadata": {
    "ExecuteTime": {
     "end_time": "2021-02-26T18:46:15.859037Z",
     "start_time": "2021-02-26T18:46:05.562640Z"
    }
   },
   "outputs": [
    {
     "name": "stdout",
     "output_type": "stream",
     "text": [
      "Modules to reload:\n",
      "all-except-skipped\n",
      "\n",
      "Modules to skip:\n",
      "\n"
     ]
    }
   ],
   "source": [
    "%load_ext autoreload\n",
    "%autoreload 2\n",
    "%aimport\n",
    "\n",
    "from pathlib import Path\n",
    "import numpy as np\n",
    "import matplotlib.pyplot as plt \n",
    "import re \n",
    "from astropy.table import Table\n",
    "import astropy.table\n",
    "\n",
    "from relaxed import halo_parameters, halo_catalogs "
   ]
  },
  {
   "cell_type": "code",
   "execution_count": 2,
   "metadata": {
    "ExecuteTime": {
     "end_time": "2021-02-26T18:46:16.090485Z",
     "start_time": "2021-02-26T18:46:15.861169Z"
    }
   },
   "outputs": [],
   "source": [
    "plt.rc('text', usetex=True)"
   ]
  },
  {
   "cell_type": "code",
   "execution_count": 3,
   "metadata": {
    "ExecuteTime": {
     "end_time": "2021-02-26T18:46:16.320180Z",
     "start_time": "2021-02-26T18:46:16.092268Z"
    }
   },
   "outputs": [],
   "source": [
    "%matplotlib inline"
   ]
  },
  {
   "cell_type": "markdown",
   "metadata": {},
   "source": [
    "# Plot style"
   ]
  },
  {
   "cell_type": "code",
   "execution_count": 4,
   "metadata": {
    "ExecuteTime": {
     "end_time": "2021-02-26T18:46:16.548043Z",
     "start_time": "2021-02-26T18:46:16.321616Z"
    }
   },
   "outputs": [],
   "source": [
    "import numpy as np\n",
    "import matplotlib.pyplot as plt\n",
    "import matplotlib as mpl\n",
    "from cycler import cycler\n",
    "plt.style.use('seaborn-colorblind')"
   ]
  },
  {
   "cell_type": "code",
   "execution_count": 5,
   "metadata": {
    "ExecuteTime": {
     "end_time": "2021-02-26T18:46:16.775639Z",
     "start_time": "2021-02-26T18:46:16.549359Z"
    }
   },
   "outputs": [],
   "source": [
    "mpl.rcParams.update(\n",
    "{\n",
    "    # figure\n",
    "    'figure.figsize':   (10, 10),\n",
    "    \n",
    "    # axes\n",
    "    'axes.labelsize': 24,\n",
    "    \n",
    "    # ticks\n",
    "    'xtick.major.size':  5,\n",
    "    'xtick.minor.size':  2.5,\n",
    "    'xtick.major.width': 0.8,\n",
    "    'xtick.minor.width': 0.6,\n",
    "    'xtick.labelsize':   20,\n",
    "    \n",
    "    'ytick.major.size':  5,\n",
    "    'ytick.minor.size':  2.5,\n",
    "    'ytick.major.width': 0.8,\n",
    "    'ytick.minor.width': 0.6,\n",
    "    'ytick.labelsize':   20,\n",
    "    \n",
    "    #legend\n",
    "    'legend.fontsize': 24,\n",
    "\n",
    "})"
   ]
  },
  {
   "cell_type": "code",
   "execution_count": 6,
   "metadata": {
    "ExecuteTime": {
     "end_time": "2021-02-26T18:46:17.003336Z",
     "start_time": "2021-02-26T18:46:16.776958Z"
    }
   },
   "outputs": [],
   "source": [
    "colors = plt.rcParams['axes.prop_cycle'].by_key()['color']"
   ]
  },
  {
   "cell_type": "markdown",
   "metadata": {},
   "source": [
    "# Load catalog"
   ]
  },
  {
   "cell_type": "code",
   "execution_count": 7,
   "metadata": {
    "ExecuteTime": {
     "end_time": "2021-02-26T18:46:17.231844Z",
     "start_time": "2021-02-26T18:46:17.004779Z"
    }
   },
   "outputs": [],
   "source": [
    "# load catalog we know and love\n",
    "fpath = Path('/home/imendoza/nbody-relaxed/data/Bolshoi/minh/hlist_1.00035.minh')\n",
    "name = 'Bolshoi'\n",
    "\n",
    "# this command just sets up the attributes and filters. Catalog is loaded in the next cell from the *.minh file.\n",
    "hcat = halo_catalogs.HaloCatalog(name, fpath)"
   ]
  },
  {
   "cell_type": "code",
   "execution_count": 8,
   "metadata": {
    "ExecuteTime": {
     "end_time": "2021-02-26T18:46:32.238055Z",
     "start_time": "2021-02-26T18:46:17.233664Z"
    }
   },
   "outputs": [],
   "source": [
    "hcat.load_cat_minh()"
   ]
  },
  {
   "cell_type": "code",
   "execution_count": 9,
   "metadata": {
    "ExecuteTime": {
     "end_time": "2021-02-26T18:46:32.522848Z",
     "start_time": "2021-02-26T18:46:32.239680Z"
    }
   },
   "outputs": [
    {
     "name": "stdout",
     "output_type": "stream",
     "text": [
      "rows in catalog:  337438\n"
     ]
    }
   ],
   "source": [
    "# Load catalog from minh and apply default filters on-the-fly.  \n",
    "print('rows in catalog: ', len(hcat.cat))"
   ]
  },
  {
   "cell_type": "markdown",
   "metadata": {},
   "source": [
    "# Add f_sub"
   ]
  },
  {
   "cell_type": "code",
   "execution_count": 11,
   "metadata": {
    "ExecuteTime": {
     "end_time": "2021-02-26T18:46:46.650526Z",
     "start_time": "2021-02-26T18:46:46.407802Z"
    }
   },
   "outputs": [],
   "source": [
    "from relaxed.subhaloes.catalog import create_subhalo_cat"
   ]
  },
  {
   "cell_type": "code",
   "execution_count": 12,
   "metadata": {
    "ExecuteTime": {
     "end_time": "2021-02-26T18:46:54.335465Z",
     "start_time": "2021-02-26T18:46:46.652006Z"
    }
   },
   "outputs": [],
   "source": [
    "subhalo_cat = create_subhalo_cat(np.array(hcat.cat['id']), fpath)"
   ]
  },
  {
   "cell_type": "code",
   "execution_count": 13,
   "metadata": {
    "ExecuteTime": {
     "end_time": "2021-02-26T18:46:54.571413Z",
     "start_time": "2021-02-26T18:46:54.336970Z"
    }
   },
   "outputs": [],
   "source": [
    "# add column to original catalog\n",
    "assert np.all(subhalo_cat['id'] == hcat.cat['id'])\n",
    "hcat.cat.add_column(subhalo_cat['f_sub'], name='f_sub')"
   ]
  },
  {
   "cell_type": "markdown",
   "metadata": {},
   "source": [
    "# Different samples"
   ]
  },
  {
   "cell_type": "code",
   "execution_count": 14,
   "metadata": {
    "ExecuteTime": {
     "end_time": "2021-02-26T18:46:57.226170Z",
     "start_time": "2021-02-26T18:46:56.904123Z"
    }
   },
   "outputs": [],
   "source": [
    "# All the code necessary to produce plots for the paper will be stored in /figures/code. Note this is not contained inside the main source code directory /relaxed.\n",
    "# All plots*.py file simply contain functions you can run on a list of HaloCatalogs 'hcats'. \n",
    "from matplotlib.backends.backend_pdf import PdfPages\n",
    "\n",
    "from relaxed.halo_filters import HaloFilter, get_bound_filter, get_relaxed_filters"
   ]
  },
  {
   "cell_type": "code",
   "execution_count": 15,
   "metadata": {
    "ExecuteTime": {
     "end_time": "2021-02-26T18:46:57.711320Z",
     "start_time": "2021-02-26T18:46:57.227460Z"
    }
   },
   "outputs": [],
   "source": [
    "# use halo_filters to create additional halo_catalogs for analysis. \n",
    "hcat_m11 = HaloFilter(get_bound_filter('mvir', high=11.22, modifier=np.log10), 'M11')(hcat)\n",
    "hcat_m12 = HaloFilter(get_bound_filter('mvir', 12,12.2, modifier=np.log10), 'M12')(hcat)\n",
    "hcat_m13 = HaloFilter(get_bound_filter('mvir',13,14,modifier=np.log10), 'M13')(hcat)\n",
    "\n",
    "power_cat = HaloFilter(get_relaxed_filters('power2011'), 'power2011')(hcat)\n",
    "neto_cat = HaloFilter(get_relaxed_filters('neto2007'), 'neto2007')(hcat)\n",
    "\n",
    "\n",
    "# for easy of access\n",
    "dcats = {\n",
    "    'm11': hcat_m11,\n",
    "    'm12': hcat_m12,\n",
    "    'm13': hcat_m13, \n",
    "    \n",
    "    'power': power_cat,\n",
    "    'neto': neto_cat,    \n",
    "    'all': hcat,\n",
    "}\n",
    "    "
   ]
  },
  {
   "cell_type": "code",
   "execution_count": 15,
   "metadata": {
    "ExecuteTime": {
     "end_time": "2021-02-25T18:59:34.906630Z",
     "start_time": "2021-02-25T18:59:34.379127Z"
    }
   },
   "outputs": [
    {
     "name": "stdout",
     "output_type": "stream",
     "text": [
      "337438\n",
      "56076 19726 5507\n",
      "213058 263039\n"
     ]
    }
   ],
   "source": [
    "# make sure length of catalogs make sense\n",
    "print(len(hcat))\n",
    "\n",
    "print(len(hcat_m11), len(hcat_m12), len(hcat_m13))\n",
    "\n",
    "# 500 haloes are so > 13.75 \n",
    "print(len(power_cat), len(neto_cat))"
   ]
  },
  {
   "cell_type": "markdown",
   "metadata": {},
   "source": [
    "# Histograms"
   ]
  },
  {
   "cell_type": "code",
   "execution_count": 57,
   "metadata": {
    "ExecuteTime": {
     "end_time": "2021-02-25T19:26:51.244200Z",
     "start_time": "2021-02-25T19:26:50.700195Z"
    }
   },
   "outputs": [],
   "source": [
    "def get_bins(values, n_bins=30): \n",
    "    return np.histogram(values, bins=n_bins)[1]\n",
    "\n",
    "def draw_histogram(ax, values, n_bins=30, bins=None, vline='median', legend_label='', color='r'):\n",
    "    ax.hist(\n",
    "        values,\n",
    "        bins=bins if bins is not None else n_bins,\n",
    "        histtype='step',\n",
    "        label=legend_label,\n",
    "        color=color\n",
    "    )\n",
    "\n",
    "    # add a vertical line.\n",
    "    if vline == \"median\":\n",
    "        ax.axvline(np.median(values), ls=\"--\", color=color)\n",
    "\n"
   ]
  },
  {
   "cell_type": "markdown",
   "metadata": {},
   "source": [
    "## Histogram of Mvir for different samples"
   ]
  },
  {
   "cell_type": "code",
   "execution_count": 58,
   "metadata": {
    "ExecuteTime": {
     "end_time": "2021-02-25T19:26:53.031977Z",
     "start_time": "2021-02-25T19:26:51.351844Z"
    }
   },
   "outputs": [
    {
     "data": {
      "image/png": "[encoded data removed]",
      "text/plain": [
       "<Figure size 720x720 with 1 Axes>"
      ]
     },
     "metadata": {
      "needs_background": "light"
     },
     "output_type": "display_data"
    }
   ],
   "source": [
    "names = ['all', 'neto', 'power']\n",
    "fig, ax = plt.subplots(1, 1)\n",
    "n_bins = 30\n",
    "\n",
    "all_mvirs = np.hstack([np.log10(dcats[name].cat['mvir']) for name in names])\n",
    "bins = get_bins(all_mvirs, n_bins)\n",
    "\n",
    "\n",
    "for i, name in enumerate(names):\n",
    "    c = colors[i]\n",
    "    legend_label = f'{name}'\n",
    "    draw_histogram(ax, np.log10(dcats[name].cat['mvir']), bins=bins, color=c, legend_label=name, vline=None)\n",
    "    \n",
    "# fix axes and legend.\n",
    "param_mvir = halo_parameters.get_hparam('mvir', log=True)\n",
    "ax.set_xlabel(param_mvir.get_text())\n",
    "plt.yscale('log')\n",
    "ax.legend()\n",
    "plt.show()"
   ]
  },
  {
   "cell_type": "markdown",
   "metadata": {},
   "source": [
    "## Mean-centered and normalized log parameters"
   ]
  },
  {
   "cell_type": "code",
   "execution_count": 68,
   "metadata": {
    "ExecuteTime": {
     "end_time": "2021-02-25T19:41:43.151495Z",
     "start_time": "2021-02-25T19:41:42.026506Z"
    }
   },
   "outputs": [],
   "source": [
    "# maybe need to do a specific mass bin to have meaningful results here.\n",
    "def make_mean_centered_histograms(n_bins=30):\n",
    "    params = [\"cvir\", \"eta\", \"x0\", \"v0\", \"spin\", \"q\", \"phi_l\"]\n",
    "    names = ['m11', 'm12', 'm13']\n",
    "    fig, axes = plt.subplots(2, 4, figsize=(18, 9))\n",
    "    normalize = lambda x: (x - np.mean(x)) / np.std(x)\n",
    "    axes = axes.flatten()\n",
    "    \n",
    "    for param, ax in zip(params, axes):\n",
    "        hparam = halo_parameters.get_hparam(param, log=True, modifiers=[normalize])\n",
    "        label = hparam.get_text()\n",
    "        all_values = np.hstack([hparam.get_values(dcats[name].cat) for name in names])\n",
    "        bins = get_bins(all_values, n_bins)\n",
    "        for c, name in zip(colors, names):\n",
    "            hcat = dcats[name]\n",
    "            x = hparam.get_values(hcat.cat)\n",
    "            draw_histogram(ax, x, bins=bins, vline='median', legend_label=label, color=c)\n",
    "        ax.set_yscale('log')\n",
    "    plt.tight_layout()"
   ]
  },
  {
   "cell_type": "code",
   "execution_count": 69,
   "metadata": {
    "ExecuteTime": {
     "end_time": "2021-02-25T19:42:07.226005Z",
     "start_time": "2021-02-25T19:41:44.007317Z"
    }
   },
   "outputs": [
    {
     "data": {
      "image/png": "[encoded data removed]",
      "text/plain": [
       "<Figure size 1296x648 with 8 Axes>"
      ]
     },
     "metadata": {
      "needs_background": "light"
     },
     "output_type": "display_data"
    }
   ],
   "source": [
    "# TODO: add tile -> all haloes for each of the samples, add legend to the first plot, add xlabel\n",
    "make_mean_centered_histograms()"
   ]
  },
  {
   "cell_type": "markdown",
   "metadata": {
    "ExecuteTime": {
     "end_time": "2021-02-25T18:30:04.574926Z",
     "start_time": "2021-02-25T18:30:03.160170Z"
    }
   },
   "source": [
    "# Scatter binning"
   ]
  },
  {
   "cell_type": "markdown",
   "metadata": {
    "ExecuteTime": {
     "end_time": "2021-02-25T18:30:05.222354Z",
     "start_time": "2021-02-25T18:30:04.693869Z"
    }
   },
   "source": [
    "## Relaxed parameters as a function of mass bin"
   ]
  },
  {
   "cell_type": "code",
   "execution_count": null,
   "metadata": {},
   "outputs": [],
   "source": []
  },
  {
   "cell_type": "markdown",
   "metadata": {},
   "source": [
    "## Histograms "
   ]
  },
  {
   "cell_type": "markdown",
   "metadata": {},
   "source": []
  },
  {
   "cell_type": "markdown",
   "metadata": {},
   "source": [
    "## Plots comparing all the catalog vs relaxed catalogs"
   ]
  },
  {
   "cell_type": "code",
   "execution_count": null,
   "metadata": {},
   "outputs": [],
   "source": [
    "out='test1.pdf'\n",
    "hcats = [hcat, power_cat, neto_cat]\n",
    "pdf_path = utils.figure_path.joinpath(out)\n",
    "with PdfPages(pdf_path) as pdf:\n",
    "    plots1.plot_mvir_histogram(hcats, pdf)\n",
    "    plots1.plot_scatter_relaxed_and_mass(hcats, pdf)\n"
   ]
  },
  {
   "cell_type": "markdown",
   "metadata": {},
   "source": [
    "## Plots comparing mass binned (decades) versions of catalog"
   ]
  },
  {
   "cell_type": "code",
   "execution_count": null,
   "metadata": {},
   "outputs": [],
   "source": [
    "out='test2.pdf'\n",
    "hcats = [hcat_m11, hcat_m12, hcat_m13]\n",
    "pdf_path = '/home/imendoza/nbody-relaxed/figures/matrix2.pdf'\n",
    "with PdfPages(pdf_path) as pdf:\n",
    "#     plots1.plot_correlation_matrix_basic(hcats, pdf=pdf)\n",
    "#     plots1.plot_mean_centered_hists(hcats, pdf)\n",
    "    plots1.plot_pair_relaxed_correlation(hcats, pdf)"
   ]
  },
  {
   "cell_type": "code",
   "execution_count": null,
   "metadata": {},
   "outputs": [],
   "source": []
  }
 ],
 "metadata": {
  "kernelspec": {
   "display_name": "alcca",
   "language": "python",
   "name": "alcca"
  },
  "language_info": {
   "codemirror_mode": {
    "name": "ipython",
    "version": 3
   },
   "file_extension": ".py",
   "mimetype": "text/x-python",
   "name": "python",
   "nbconvert_exporter": "python",
   "pygments_lexer": "ipython3",
   "version": "3.8.3"
  },
  "toc": {
   "base_numbering": 1,
   "nav_menu": {},
   "number_sections": true,
   "sideBar": true,
   "skip_h1_title": false,
   "title_cell": "Table of Contents",
   "title_sidebar": "Contents",
   "toc_cell": false,
   "toc_position": {},
   "toc_section_display": true,
   "toc_window_display": true
  }
 },
 "nbformat": 4,
 "nbformat_minor": 4
}
