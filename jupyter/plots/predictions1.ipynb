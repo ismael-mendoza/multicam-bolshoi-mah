{
 "cells": [
  {
   "cell_type": "markdown",
   "metadata": {},
   "source": [
    "# Setup"
   ]
  },
  {
   "cell_type": "code",
   "execution_count": 1,
   "metadata": {
    "ExecuteTime": {
     "end_time": "2021-03-26T18:16:23.486058Z",
     "start_time": "2021-03-26T18:16:22.805446Z"
    }
   },
   "outputs": [
    {
     "name": "stdout",
     "output_type": "stream",
     "text": [
      "Modules to reload:\n",
      "all-except-skipped\n",
      "\n",
      "Modules to skip:\n",
      "\n"
     ]
    }
   ],
   "source": [
    "%load_ext autoreload\n",
    "%autoreload 2\n",
    "%aimport"
   ]
  },
  {
   "cell_type": "code",
   "execution_count": 2,
   "metadata": {
    "ExecuteTime": {
     "end_time": "2021-03-26T18:16:24.331448Z",
     "start_time": "2021-03-26T18:16:23.490524Z"
    }
   },
   "outputs": [],
   "source": [
    "%matplotlib inline"
   ]
  },
  {
   "cell_type": "code",
   "execution_count": 3,
   "metadata": {
    "ExecuteTime": {
     "end_time": "2021-03-26T18:16:25.419274Z",
     "start_time": "2021-03-26T18:16:24.344488Z"
    }
   },
   "outputs": [],
   "source": [
    "from relaxed.plot_defaults import *"
   ]
  },
  {
   "cell_type": "code",
   "execution_count": 4,
   "metadata": {
    "ExecuteTime": {
     "end_time": "2021-03-26T18:49:17.373438Z",
     "start_time": "2021-03-26T18:49:08.002161Z"
    }
   },
   "outputs": [],
   "source": [
    "import astropy\n",
    "from pathlib import Path\n",
    "import numpy as np\n",
    "import matplotlib.pyplot as plt \n",
    "import re \n",
    "from astropy.table import Table\n",
    "import astropy.table\n",
    "import json\n",
    "from scipy import stats\n",
    "from copy import deepcopy\n",
    "import scipy\n",
    "import warnings\n",
    "\n",
    "import matplotlib as mpl\n",
    "from sklearn.model_selection import train_test_split\n"
   ]
  },
  {
   "cell_type": "code",
   "execution_count": 5,
   "metadata": {
    "ExecuteTime": {
     "end_time": "2021-03-26T18:45:12.243639Z",
     "start_time": "2021-03-26T18:45:11.504553Z"
    }
   },
   "outputs": [],
   "source": [
    "from relaxed.analysis import draw_histogram, get_quantiles, gaussian_conditional, \\\n",
    "get_bins, setup, get_am, get_a2_from_am, get_lam"
   ]
  },
  {
   "cell_type": "markdown",
   "metadata": {},
   "source": [
    "# Data"
   ]
  },
  {
   "cell_type": "code",
   "execution_count": 15,
   "metadata": {
    "ExecuteTime": {
     "end_time": "2021-03-26T18:51:18.049030Z",
     "start_time": "2021-03-26T18:51:03.770449Z"
    }
   },
   "outputs": [
    {
     "name": "stdout",
     "output_type": "stream",
     "text": [
      "(9999, 98) (98,) (9999,) (9999,)\n"
     ]
    }
   ],
   "source": [
    "# catalog\n",
    "hcat, indices, scales = setup('m11', path='../../output')\n",
    "cvir = hcat.cat['cvir']\n",
    "\n",
    "# obtain a_m\n",
    "am, mass_bins = get_am('m11', min_mass=0.1, path='../../output')\n",
    "a2 = get_a2_from_am(am, mass_bins)\n",
    "\n",
    "# throw away first & last, useless bin (a = 1.00 always for that)\n",
    "am = am[:, 1:-1]\n",
    "mass_bins = mass_bins[1:-1]\n",
    "print(am.shape, mass_bins.shape, a2.shape, cvir.shape)"
   ]
  },
  {
   "cell_type": "code",
   "execution_count": 16,
   "metadata": {
    "ExecuteTime": {
     "end_time": "2021-03-26T18:51:19.585655Z",
     "start_time": "2021-03-26T18:51:18.052412Z"
    }
   },
   "outputs": [
    {
     "name": "stdout",
     "output_type": "stream",
     "text": [
      "9449 (9449, 98) (9449,) (9449,) (9449, 98)\n"
     ]
    }
   ],
   "source": [
    "keep, lam, cvir, a2 = get_lam(am, cvir, a2) # remove nan's from lam along the way, like ~600 haloes.\n",
    "am = am[keep]\n",
    "print(sum(keep), lam.shape, cvir.shape, a2.shape, am.shape)"
   ]
  },
  {
   "cell_type": "code",
   "execution_count": 17,
   "metadata": {
    "ExecuteTime": {
     "end_time": "2021-03-26T18:51:20.796512Z",
     "start_time": "2021-03-26T18:51:19.593852Z"
    }
   },
   "outputs": [],
   "source": [
    "lam_train, lam_test, cvir_train, cvir_test, a2_train, a2_test = train_test_split(lam, cvir, a2, test_size=0.3)"
   ]
  },
  {
   "cell_type": "markdown",
   "metadata": {},
   "source": [
    "# Train"
   ]
  },
  {
   "cell_type": "code",
   "execution_count": 9,
   "metadata": {
    "ExecuteTime": {
     "end_time": "2021-03-26T19:29:13.875031Z",
     "start_time": "2021-03-26T19:29:02.627939Z"
    }
   },
   "outputs": [],
   "source": [
    "# multivariate prediction\n",
    "mu1, mu2, Sigma, rho, mu_cond, sigma_cond = gaussian_conditional(np.log(cvir_train), lam_train)\n",
    "def gauss(lam_test):\n",
    "    return np.exp(mu_cond(lam_test))\n",
    "\n",
    "# lognormal samples \n",
    "mu, sigma = np.mean(np.log(cvir_train)), np.std(np.log(cvir_train))\n",
    "def lognormal(lam_test): \n",
    "    n_test = len(lam_test)\n",
    "    log_cvir_pred = np.random.normal(mu, sigma, n_test)\n",
    "    return np.exp(log_cvir_pred)\n",
    "\n",
    "\n",
    "# rank approach\n",
    "from scipy.interpolate import interp1d\n",
    "cvir_sort, a2_sort = np.sort(cvir_train), np.sort(a2_train)\n",
    "marks = np.arange(len(cvir_sort)) / len(cvir_sort)\n",
    "marks += (marks[1] - marks[0]) / 2\n",
    "a2_to_mark = interp1d(a2_sort, marks, fill_value=(0, 1), bounds_error=False)\n",
    "mark_to_cvir = interp1d(marks, cvir_sort, fill_value=(cvir_sort[0], cvir_sort[-1]), bounds_error=False)\n",
    "\n",
    "# m_cvir = get_quantiles(cvir_train)\n",
    "# m_a2 = get_quantiles(a2_train)\n",
    "\n",
    "# # create interpolations and final function.\n",
    "# f = interp1d(a2_train, m_a2, bounds_error=False, fill_value=np.nan)\n",
    "\n",
    "# bins = np.linspace(cvir_train.min(), cvir_train.max(), 100)\n",
    "# counts = [ sum(cvir_train < bins[i]) / len(cvir_train) for i in range(100)]\n",
    "# g_inv = interp1d(counts, bins, bounds_error=False, fill_value=np.nan)\n",
    "# # g_inv = interp1d(m_cvir, cvir_train, bounds_error=False, fill_value=np.nan)\n",
    "\n",
    "def cam(lam_test):\n",
    "    a2_test = get_a2_from_am(np.exp(lam_test), mass_bins)\n",
    "    return mark_to_cvir(a2_to_mark(a2_test))"
   ]
  },
  {
   "cell_type": "markdown",
   "metadata": {},
   "source": [
    "# Plots"
   ]
  },
  {
   "cell_type": "code",
   "execution_count": 10,
   "metadata": {
    "ExecuteTime": {
     "end_time": "2021-03-26T19:33:08.736486Z",
     "start_time": "2021-03-26T19:33:07.266298Z"
    }
   },
   "outputs": [],
   "source": [
    "# funcs are trained functions that take in lam_test and return cvir_pred, colors are color for each function.\n",
    "def combined_histogram(lam_test, X_test, *funcs, colors=('r', 'b', 'g'), labels=('1', '2', '3')):\n",
    "    fig, ax = plt.subplots(1, 1, figsize=(10, 10))\n",
    "    bins = None\n",
    "    correlations = []\n",
    "    for i, f in enumerate(funcs):\n",
    "        X_pred = f(lam_test)\n",
    "        x = (X_pred - X_test) / X_test\n",
    "        if bins is None: \n",
    "            bins = get_bins(x, range=(-1, 3)) # share bins between all histograms.\n",
    "        draw_histogram(ax, x, vline=None, label=labels[i], color=colors[i], \n",
    "                       bins=bins, density=False)\n",
    "        \n",
    "        print(f'{labels[i]} corr: {scipy.stats.spearmanr(X_pred, X_test)[0]}')\n",
    "        \n",
    "    \n",
    "    ax.legend()"
   ]
  },
  {
   "cell_type": "code",
   "execution_count": 24,
   "metadata": {
    "ExecuteTime": {
     "end_time": "2021-03-26T19:33:11.506198Z",
     "start_time": "2021-03-26T19:33:08.740290Z"
    }
   },
   "outputs": [
    {
     "name": "stdout",
     "output_type": "stream",
     "text": [
      "multi-normal corr: 0.7648536254985447\n",
      "lognormal corr: 0.02811472662147472\n",
      "CAM corr: -0.6883679380141956\n"
     ]
    },
    {
     "data": {
      "image/png": "[encoded data removed]",
      "text/plain": [
       "<Figure size 720x720 with 1 Axes>"
      ]
     },
     "metadata": {
      "needs_background": "light"
     },
     "output_type": "display_data"
    }
   ],
   "source": [
    "labels = ['multi-normal', 'lognormal', 'CAM']\n",
    "colors = ['r', 'b', 'orange']\n",
    "combined_histogram(lam_test, cvir_test, gauss, lognormal, cam, labels=labels, colors=colors)"
   ]
  }
 ],
 "metadata": {
  "kernelspec": {
   "display_name": "Python 3",
   "language": "python",
   "name": "python3"
  },
  "language_info": {
   "codemirror_mode": {
    "name": "ipython",
    "version": 3
   },
   "file_extension": ".py",
   "mimetype": "text/x-python",
   "name": "python",
   "nbconvert_exporter": "python",
   "pygments_lexer": "ipython3",
   "version": "3.8.8"
  },
  "toc": {
   "base_numbering": 1,
   "nav_menu": {},
   "number_sections": true,
   "sideBar": true,
   "skip_h1_title": false,
   "title_cell": "Table of Contents",
   "title_sidebar": "Contents",
   "toc_cell": false,
   "toc_position": {},
   "toc_section_display": true,
   "toc_window_display": true
  }
 },
 "nbformat": 4,
 "nbformat_minor": 4
}
