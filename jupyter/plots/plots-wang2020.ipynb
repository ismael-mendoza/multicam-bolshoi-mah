{
 "cells": [
  {
   "cell_type": "markdown",
   "metadata": {},
   "source": [
    "# Setup"
   ]
  },
  {
   "cell_type": "code",
   "execution_count": null,
   "metadata": {},
   "outputs": [],
   "source": [
    "%load_ext autoreload\n",
    "%autoreload 2\n",
    "%aimport"
   ]
  },
  {
   "cell_type": "code",
   "execution_count": null,
   "metadata": {},
   "outputs": [],
   "source": [
    "%matplotlib inline"
   ]
  },
  {
   "cell_type": "code",
   "execution_count": null,
   "metadata": {},
   "outputs": [],
   "source": [
    "import warnings\n",
    "from matplotlib import rc\n",
    "rc('text', usetex=True)\n",
    "warnings.filterwarnings('ignore')"
   ]
  },
  {
   "cell_type": "code",
   "execution_count": null,
   "metadata": {},
   "outputs": [],
   "source": [
    "import astropy\n",
    "from pathlib import Path\n",
    "import numpy as np\n",
    "import matplotlib.pyplot as plt \n",
    "import re \n",
    "from astropy.table import Table\n",
    "import astropy.table\n",
    "import json\n",
    "from scipy import stats\n",
    "from copy import deepcopy\n",
    "\n",
    "import warnings"
   ]
  },
  {
   "cell_type": "markdown",
   "metadata": {},
   "source": [
    "# m(a) correlation plots"
   ]
  },
  {
   "cell_type": "code",
   "execution_count": null,
   "metadata": {},
   "outputs": [],
   "source": [
    "from relaxed.analysis import add_box_indices, vol_jacknife_values, setup, get_m_a_corrs, get_fractional_tdyn"
   ]
  },
  {
   "cell_type": "code",
   "execution_count": null,
   "metadata": {},
   "outputs": [],
   "source": [
    "names = ['m11', 'm12']\n",
    "params = ['cvir', 'x0', 'v0', 't/|u|', 'q', 'phi_l']\n",
    "latex_params = ['c_{\\\\rm vir}', 'x_{\\\\rm off}', 'v_{\\\\rm off}', 't/|u|', 'q', '\\\\Phi_{L}']\n",
    "colors = ['r','b', 'g', 'm', 'k', 'y']\n",
    "markers = np.array(['.', 'x'])"
   ]
  },
  {
   "cell_type": "code",
   "execution_count": null,
   "metadata": {},
   "outputs": [],
   "source": [
    "# get the jacknife errors for each index in indices for each param for each cat. \n",
    "errs = {name:{} for name in names}\n",
    "for i,name in enumerate(names):\n",
    "    hcat, indices, scales = setup(name)\n",
    "    add_box_indices(hcat.cat)\n",
    "    for j, param in enumerate(params):\n",
    "        values = vol_jacknife_values(get_m_a_corrs, hcat.cat, param, indices)\n",
    "        errs[name][param] = np.sqrt(values.var(axis=0)*7)"
   ]
  },
  {
   "cell_type": "markdown",
   "metadata": {},
   "source": [
    "## m_a correlations"
   ]
  },
  {
   "cell_type": "code",
   "execution_count": null,
   "metadata": {},
   "outputs": [],
   "source": [
    "fig, axes = plt.subplots(1,len(names),figsize=(len(names)*7,7))\n",
    "axes = axes.flatten() if len(names) > 1 else [axes]\n",
    "for i, name in enumerate(names):\n",
    "    hcat, indices, scales = setup(name)\n",
    "    ax = axes[i]\n",
    "    max_scales = [0.]*len(params)\n",
    "    tdyn = np.mean(hcat.cat['tdyn']) / 10**9 #Gyr which astropy also returns by default\n",
    "\n",
    "    for j, param in enumerate(params):\n",
    "        latex_param = latex_params[j]\n",
    "        color = colors[j]\n",
    "        corrs = get_m_a_corrs(hcat.cat, param, indices)\n",
    "        err = errs[name][param]\n",
    "        pos = corrs > 0 \n",
    "        neg = ~pos\n",
    "        corrs = abs(corrs)\n",
    "        \n",
    "        # plot positive corr and negative corr with different markers. \n",
    "        if sum(pos) > 0:\n",
    "            label = f'${latex_param}$' if sum(pos) > sum(neg) else None\n",
    "            ax.plot(scales[pos], corrs[pos], color=color, marker=markers[0], label=label, markersize=7)\n",
    "            \n",
    "        if sum(neg) > 0:\n",
    "            label = f'${latex_param}$' if sum(pos) < sum(neg) else None\n",
    "            ax.plot(scales[neg], corrs[neg], color=color, marker=markers[1], label=label, markersize=7)\n",
    "            \n",
    "        max_scales[j] = scales[np.nanargmax(abs(corrs))]\n",
    "        \n",
    "        nan_indx = np.isnan(err)\n",
    "        err[nan_indx] = 0. \n",
    "        y1 = corrs - err\n",
    "        y2 = corrs + err\n",
    "        ax.fill_between(scales, y1, y2, alpha=0.2, linewidth=0.001, color=color)\n",
    "        \n",
    "                \n",
    "    # draw a vertical line at max scales\n",
    "    for j, s in enumerate(max_scales):\n",
    "        color = colors[j]\n",
    "        ax.axvline(s, linestyle='--', color=color)\n",
    "        \n",
    "\n",
    "    ax.set_ylim(0, 1.0)\n",
    "    ax.set_xlim(0, 1.0)\n",
    "    ax.set_title(name, size=22)\n",
    "    ax.set_ylabel(f\"$\\\\rho(\\\\cdot, m(a))$\", size=22)\n",
    "    ax.set_xlabel(f\"$a$\", size=22)\n",
    "    ax.tick_params(axis='both', which='major', labelsize=16)\n",
    "    \n",
    "    # add additional x-axis with tydn fractional scale\n",
    "    ax2 = ax.twiny()\n",
    "    ax2.set_xlim(ax.get_xlim())\n",
    "    ax2.set_xticks(ax.get_xticks())\n",
    "    \n",
    "    fractional_tdyn = get_fractional_tdyn(ax.get_xticks(), tdyn, sim_name='Bolshoi')\n",
    "    fractional_tdyn = np.array([f'{x:.2g}' for x in fractional_tdyn])\n",
    "    ax2.set_xticklabels(fractional_tdyn, size=16)\n",
    "    ax2.set_xlabel(\"$\\\\tau_{\\\\rm dyn}$\", size=22)\n",
    "    \n",
    "    ax.legend(loc='best', prop={'size': 14})\n",
    "    \n",
    "    ax.set_xlim(0.15, 1)\n",
    "    ax2.set_xlim(0.15 , 1)\n",
    "plt.tight_layout()\n",
    "plt.show()"
   ]
  },
  {
   "cell_type": "markdown",
   "metadata": {},
   "source": [
    "# a(m) correlations"
   ]
  },
  {
   "cell_type": "code",
   "execution_count": null,
   "metadata": {},
   "outputs": [],
   "source": [
    "from relaxed.analysis import setup, get_am_corrs, get_am"
   ]
  },
  {
   "cell_type": "code",
   "execution_count": null,
   "metadata": {},
   "outputs": [],
   "source": [
    "names = ['m11', 'm12']\n",
    "params = ['cvir', 'x0', 'v0', 't/|u|', 'q', 'phi_l']\n",
    "latex_params = ['c_{\\\\rm vir}', 'x_{\\\\rm off}', 'v_{\\\\rm off}', 't/|u|', 'q', '\\\\Phi_{L}']\n",
    "colors = ['r','b', 'g', 'm', 'k', 'y']\n",
    "markers = np.array(['.', 'x'])"
   ]
  },
  {
   "cell_type": "code",
   "execution_count": null,
   "metadata": {},
   "outputs": [],
   "source": [
    "fig, axes = plt.subplots(1,len(names),figsize=(len(names)*7,7))\n",
    "axes = axes.flatten() if len(names) > 1 else [axes]\n",
    "for i, name in enumerate(names):\n",
    "    hcat, indices, scales = setup(name)\n",
    "    am, mass_bins = get_am(name)\n",
    "    ax = axes[i]\n",
    "    max_mass_bins = [0.]*len(params)\n",
    "\n",
    "    for j, param in enumerate(params):\n",
    "        latex_param = latex_params[j]\n",
    "        color = colors[j]\n",
    "        corrs = get_am_corrs(hcat.cat, param, am)\n",
    "        pos = corrs >= 0 \n",
    "        neg = ~pos\n",
    "        corrs = abs(corrs)\n",
    "        \n",
    "        # plot positive corr and negative corr with different markers. \n",
    "        if sum(pos) > 0:\n",
    "            label = f'${latex_param}$' if sum(pos) > sum(neg) else None\n",
    "            ax.plot(mass_bins[pos], corrs[pos], color=color, marker=markers[0], label=label, markersize=7)\n",
    "            \n",
    "        if sum(neg) > 0:\n",
    "            label = f'${latex_param}$' if sum(pos) < sum(neg) else None\n",
    "            ax.plot(mass_bins[neg], corrs[neg], color=color, marker=markers[1], label=label, markersize=7)\n",
    "            \n",
    "        max_mass_bins[j] = mass_bins[np.nanargmax(abs(corrs))]\n",
    "    \n",
    "        \n",
    "                \n",
    "    # draw a vertical line at max scales\n",
    "    for j, mbin in enumerate(max_mass_bins):\n",
    "        color = colors[j]\n",
    "        ax.axvline(mbin, linestyle='--', color=color)\n",
    "        \n",
    "\n",
    "    ax.set_ylim(0, 1.0)\n",
    "    ax.set_xlim(0.01, 1.0)\n",
    "#     ax.set_xscale('log')\n",
    "    \n",
    "    ax.set_title(name, size=22)\n",
    "    ax.set_ylabel(f\"$\\\\rho(\\\\cdot, a(m))$\", size=22)\n",
    "    ax.set_xlabel(f\"$m$\", size=22)\n",
    "    ax.tick_params(axis='both', which='major', labelsize=16, size=10)    \n",
    "    ax.tick_params(axis='x', which='minor', size=8)    \n",
    "    ax.legend(loc='best', prop={'size': 14})\n",
    "\n",
    "plt.tight_layout()\n",
    "plt.show()"
   ]
  }
 ],
 "metadata": {
  "kernelspec": {
   "display_name": "alcca",
   "language": "python",
   "name": "alcca"
  },
  "language_info": {
   "codemirror_mode": {
    "name": "ipython",
    "version": 3
   },
   "file_extension": ".py",
   "mimetype": "text/x-python",
   "name": "python",
   "nbconvert_exporter": "python",
   "pygments_lexer": "ipython3",
   "version": "3.8.3"
  },
  "toc": {
   "base_numbering": 1,
   "nav_menu": {},
   "number_sections": true,
   "sideBar": true,
   "skip_h1_title": false,
   "title_cell": "Table of Contents",
   "title_sidebar": "Contents",
   "toc_cell": false,
   "toc_position": {
    "height": "calc(100% - 180px)",
    "left": "10px",
    "top": "150px",
    "width": "207.3641357421875px"
   },
   "toc_section_display": true,
   "toc_window_display": true
  }
 },
 "nbformat": 4,
 "nbformat_minor": 4
}
