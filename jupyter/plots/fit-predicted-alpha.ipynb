{
 "cells": [
  {
   "cell_type": "markdown",
   "metadata": {},
   "source": [
    "# Setup"
   ]
  },
  {
   "cell_type": "code",
   "execution_count": null,
   "metadata": {},
   "outputs": [],
   "source": [
    "%load_ext autoreload\n",
    "%autoreload 2\n",
    "%aimport\n",
    "\n",
    "%matplotlib inline"
   ]
  },
  {
   "cell_type": "code",
   "execution_count": null,
   "metadata": {},
   "outputs": [],
   "source": [
    "import astropy\n",
    "from pathlib import Path\n",
    "import numpy as np\n",
    "import matplotlib.pyplot as plt \n",
    "import re \n",
    "from astropy.table import Table\n",
    "import astropy.table\n",
    "import json\n",
    "from scipy import stats\n",
    "from copy import deepcopy\n",
    "\n",
    "from relaxed import halo_parameters, halo_catalogs, analysis\n",
    "import warnings"
   ]
  },
  {
   "cell_type": "markdown",
   "metadata": {},
   "source": [
    "# Fits to obtain alpha"
   ]
  },
  {
   "cell_type": "markdown",
   "metadata": {},
   "source": [
    "With Phil, I already discussed how adding $\\beta$ to the fitting procedure does not contribute much because it has a strong degeneracy with $\\alpha$. So in the following notebook we only use $\\alpha$ for the fit. \n",
    "\n",
    "**Notes:**\n",
    "\n",
    " - There are two data points that don't reach a_{1/2} ever, this explains the runtime error below when obtaining a_{1/2}"
   ]
  },
  {
   "cell_type": "code",
   "execution_count": null,
   "metadata": {},
   "outputs": [],
   "source": [
    "from relaxed.progenitors.catalog import get_alpha, lma_fit\n",
    "from relaxed.analysis import setup, get_ma"
   ]
  },
  {
   "cell_type": "code",
   "execution_count": null,
   "metadata": {},
   "outputs": [],
   "source": [
    "hcat, indices, scales = setup('m11')\n",
    "zs = (1/ scales) -1 \n",
    "ma = get_ma(hcat.cat, indices)\n",
    "lma = np.log(ma)[:, :160] # towards very big scales many masses become really close to 0. \n",
    "\n",
    "# remove infs \n",
    "keep = np.zeros(len(hcat.cat))\n",
    "for indx in range(len(lma)):\n",
    "    if np.isinf(lma[indx]).sum() == 0 and np.isnan(lma[indx]).sum() == 0: \n",
    "        keep[indx] = 1\n",
    "\n",
    "keep = keep.astype(bool)\n",
    "hcat.cat = hcat.cat[keep]\n",
    "ma = ma[keep]\n",
    "lma = lma[keep]\n",
    "n = lma.shape[1]\n",
    "zs = zs[:n]\n",
    "print(len(hcat.cat))\n",
    "print(lma.shape)\n",
    "print(zs.shape)"
   ]
  },
  {
   "cell_type": "code",
   "execution_count": null,
   "metadata": {},
   "outputs": [],
   "source": [
    "# calculate all alpha, betas and add them to table. \n",
    "alphas = [] \n",
    "for idx in range(len(hcat.cat)):\n",
    "    alpha = get_alpha(zs, lma[idx])\n",
    "    alphas.append(alpha)\n",
    "c1 = astropy.table.Column(alphas, name='alpha')\n",
    "hcat.cat.add_column(c1)"
   ]
  },
  {
   "cell_type": "code",
   "execution_count": null,
   "metadata": {},
   "outputs": [],
   "source": [
    "# add a1/2 \n",
    "from relaxed.halo_parameters import A2\n",
    "a2 = A2.from_cat(hcat.cat, scales, indices)\n",
    "c = astropy.table.Column(a2, name='a2')\n",
    "hcat.cat.add_column(c)"
   ]
  },
  {
   "cell_type": "code",
   "execution_count": null,
   "metadata": {},
   "outputs": [],
   "source": [
    "from relaxed import plots, plot_funcs\n",
    "from relaxed.halo_parameters import get_hparam\n",
    "from collections import OrderedDict\n",
    "\n",
    "# round up params.\n",
    "params = [\n",
    "    \"mvir\",\n",
    "    \"eta\",\n",
    "    \"x0\",\n",
    "    \"v0\",\n",
    "    \"q\",\n",
    "    \"cvir\",\n",
    "    \"phi_l\",\n",
    "]\n",
    "hparams = [get_hparam(param, log=True) for param in params]\n",
    "hparams.append(get_hparam(\"alpha\", log=False))\n",
    "hparams.append(get_hparam(\"f_sub\", log=False))\n",
    "hparams.append(get_hparam(\"a2\", log=False))\n",
    "# hparams.append(get_hparam(\"chi2\", log=False))\n",
    "hparams.append(get_hparam(\"gamma_tdyn\", log=False))\n",
    "\n",
    "params.append('alpha')\n",
    "params.append('f_sub')\n",
    "params.append('a2')\n",
    "# params.append('chi2')\n",
    "params.append('gamma_tdyn')\n",
    "\n",
    "plot_func = plot_funcs.MatrixValues(xlabel_size=24, ylabel_size=24)\n",
    "plot = plots.MatrixPlot(\n",
    "    plot_func, hparams, nrows=1, ncols=1, figsize=(10, 10), figpath='../../figures/'\n",
    ")\n",
    "\n",
    "# load catalogs\n",
    "plot.load(hcat)\n",
    "\n",
    "names = ['Bolshoi']\n",
    "plot_params = OrderedDict({param: {*names} for param in params})\n",
    "plot.generate(plot_params)\n",
    "\n",
    "fname = 'matrix3.pdf'\n",
    "plot.save(fname=fname)"
   ]
  },
  {
   "cell_type": "code",
   "execution_count": null,
   "metadata": {},
   "outputs": [],
   "source": []
  }
 ],
 "metadata": {
  "kernelspec": {
   "display_name": "Python 3",
   "language": "python",
   "name": "python3"
  },
  "language_info": {
   "codemirror_mode": {
    "name": "ipython",
    "version": 3
   },
   "file_extension": ".py",
   "mimetype": "text/x-python",
   "name": "python",
   "nbconvert_exporter": "python",
   "pygments_lexer": "ipython3",
   "version": "3.8.3"
  },
  "toc": {
   "base_numbering": 1,
   "nav_menu": {},
   "number_sections": true,
   "sideBar": true,
   "skip_h1_title": false,
   "title_cell": "Table of Contents",
   "title_sidebar": "Contents",
   "toc_cell": false,
   "toc_position": {
    "height": "calc(100% - 180px)",
    "left": "10px",
    "top": "150px",
    "width": "300.1222839355469px"
   },
   "toc_section_display": true,
   "toc_window_display": true
  }
 },
 "nbformat": 4,
 "nbformat_minor": 4
}
