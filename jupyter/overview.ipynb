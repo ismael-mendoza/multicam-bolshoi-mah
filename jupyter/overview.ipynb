{
 "cells": [
  {
   "cell_type": "code",
   "execution_count": null,
   "metadata": {},
   "outputs": [],
   "source": [
    "%load_ext autoreload\n",
    "%autoreload 2\n",
    "%aimport\n",
    "# %reload_ext autoreload\n",
    "\n",
    "import sys \n",
    "from os.path import abspath\n",
    "paths = [abspath('../..'), \"/home/imendoza/alcca/nbody-relaxed/packages/minnow\"]\n",
    "\n",
    "for path in paths: \n",
    "    if path not in sys.path: \n",
    "        sys.path.insert(0, path)\n",
    "\n",
    "from pathlib import Path\n",
    "import numpy as np\n",
    "import matplotlib.pyplot as plt \n",
    "import re \n",
    "from astropy.table import Table\n",
    "import astropy.table\n",
    "\n",
    "from relaxed import utils \n",
    "from relaxed import halo_parameters, halo_catalogs "
   ]
  },
  {
   "cell_type": "markdown",
   "metadata": {},
   "source": [
    "# Load catalog"
   ]
  },
  {
   "cell_type": "code",
   "execution_count": null,
   "metadata": {},
   "outputs": [],
   "source": [
    "# load catalog we know and love\n",
    "fpath = Path('/home/imendoza/alcca/nbody-relaxed/data/Bolshoi/minh/hlist_1.00035.minh')\n",
    "name = 'BolshoiP'\n",
    "\n",
    "# this command just sets up the attributes and filters. Catalog is loaded in the next cell from the *.minh file.\n",
    "hcat = halo_catalogs.HaloCatalog(name, fpath)"
   ]
  },
  {
   "cell_type": "code",
   "execution_count": null,
   "metadata": {},
   "outputs": [],
   "source": [
    "# Load catalog from minh and apply default filters on-the-fly.  \n",
    "hcat.load_cat_minh()\n",
    "print('rows in catalog: ', len(hcat.cat))"
   ]
  },
  {
   "cell_type": "markdown",
   "metadata": {},
   "source": [
    "# Add additional features to the catalog. "
   ]
  },
  {
   "cell_type": "code",
   "execution_count": null,
   "metadata": {},
   "outputs": [],
   "source": [
    "# Once we loaded the base catalog we are ready to add progenitor and subhalo information. First load packages. \n",
    "from relaxed import subhaloes, progenitors"
   ]
  },
  {
   "cell_type": "code",
   "execution_count": null,
   "metadata": {},
   "outputs": [],
   "source": [
    "# The progenitor file requires a csv with the summarized information. In a future notebook I will explain how to obtain it. \n",
    "# For now we use the submodules subhalos.catalog and progenitors.catalog which contain functions that interact with the halo_catalog\n",
    "# in this example they add additional information. \n",
    "from pminh import minh\n",
    "\n",
    "prog_file = '/home/imendoza/alcca/nbody-relaxed/data/trees_bolshoi/summarize.csv'\n",
    "with minh.open(fpath) as mcat: \n",
    "    hcat = subhaloes.catalog.add_subhalo_info(hcat, mcat)\n",
    "hcat = progenitors.catalog.add_progenitor_info(hcat, prog_file)"
   ]
  },
  {
   "cell_type": "code",
   "execution_count": null,
   "metadata": {},
   "outputs": [],
   "source": [
    "# Now we can take a look at the substructure fraction, for example, caculated in the add_subhalo_info function. \n",
    "plt.hist(hcat.cat['f_sub'], bins=50, range=(0,1));"
   ]
  },
  {
   "cell_type": "markdown",
   "metadata": {},
   "source": [
    "# Produce some plots "
   ]
  },
  {
   "cell_type": "code",
   "execution_count": null,
   "metadata": {},
   "outputs": [],
   "source": [
    "# All the code necessary to produce plots for the paper will be stored in /figures/code. Note this is not contained inside the main source code directory /relaxed.\n",
    "# All plots*.py file simply contain functions you can run on a list of HaloCatalogs 'hcats'. \n",
    "from figures.code import plots1\n",
    "from matplotlib.backends.backend_pdf import PdfPages\n",
    "\n",
    "from relaxed.halo_filters import HaloFilter, get_bound_filter, get_relaxed_filters"
   ]
  },
  {
   "cell_type": "code",
   "execution_count": null,
   "metadata": {},
   "outputs": [],
   "source": [
    "# use halo_filters to create additional halo_catalogs for analysis. \n",
    "hcat_m11 = HaloFilter(get_bound_filter('mvir', high=11.22, modifier=np.log10), 'M11')(hcat)\n",
    "hcat_m12 = HaloFilter(get_bound_filter('mvir', 12,12.2, modifier=np.log10), 'M12')(hcat)\n",
    "hcat_m13 = HaloFilter(get_bound_filter('mvir',13,14,modifier=np.log10), 'M13')(hcat)\n",
    "\n",
    "power_cat = HaloFilter(get_relaxed_filters('power2011'), 'power2011')(hcat)\n",
    "neto_cat = HaloFilter(get_relaxed_filters('neto2007'), 'neto2007')(hcat)\n",
    "    "
   ]
  },
  {
   "cell_type": "code",
   "execution_count": null,
   "metadata": {},
   "outputs": [],
   "source": [
    "# make sure length of catalogs make sense\n",
    "print(len(hcat))\n",
    "\n",
    "print(len(hcat_m11), len(hcat_m12), len(hcat_m13))\n",
    "\n",
    "# 500 haloes are so > 13.75 \n",
    "print(len(power_cat), len(neto_cat))"
   ]
  },
  {
   "cell_type": "markdown",
   "metadata": {},
   "source": [
    "## Plots comparing all the catalog vs relaxed catalogs"
   ]
  },
  {
   "cell_type": "code",
   "execution_count": null,
   "metadata": {},
   "outputs": [],
   "source": [
    "out='test1.pdf'\n",
    "hcats = [hcat, power_cat, neto_cat]\n",
    "pdf_path = utils.figure_path.joinpath(out)\n",
    "with PdfPages(pdf_path) as pdf:\n",
    "    plots1.plot_mvir_histogram(hcats, pdf)\n",
    "    plots1.plot_scatter_relaxed_and_mass(hcats, pdf)\n"
   ]
  },
  {
   "cell_type": "markdown",
   "metadata": {},
   "source": [
    "## Plots comparing mass binned (decades) versions of catalog"
   ]
  },
  {
   "cell_type": "code",
   "execution_count": null,
   "metadata": {},
   "outputs": [],
   "source": [
    "out='test2.pdf'\n",
    "hcats = [hcat_m11, hcat_m12, hcat_m13]\n",
    "pdf_path = utils.figure_path.joinpath(out)\n",
    "with PdfPages(pdf_path) as pdf:\n",
    "#     plots1.plot_correlation_matrix_basic(hcats, pdf=pdf)\n",
    "#     plots1.plot_mean_centered_hists(hcats, pdf)\n",
    "    plots1.plot_pair_relaxed_correlation(hcats, pdf)"
   ]
  },
  {
   "cell_type": "code",
   "execution_count": null,
   "metadata": {},
   "outputs": [],
   "source": []
  }
 ],
 "metadata": {
  "kernelspec": {
   "display_name": "alcca",
   "language": "python",
   "name": "alcca"
  },
  "language_info": {
   "codemirror_mode": {
    "name": "ipython",
    "version": 3
   },
   "file_extension": ".py",
   "mimetype": "text/x-python",
   "name": "python",
   "nbconvert_exporter": "python",
   "pygments_lexer": "ipython3",
   "version": "3.8.3-final"
  }
 },
 "nbformat": 4,
 "nbformat_minor": 4
}
